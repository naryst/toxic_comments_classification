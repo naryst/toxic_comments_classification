{
  "nbformat": 4,
  "nbformat_minor": 0,
  "metadata": {
    "colab": {
      "provenance": [],
      "include_colab_link": true
    },
    "kernelspec": {
      "name": "python3",
      "display_name": "Python 3"
    },
    "language_info": {
      "name": "python"
    },
    "gpuClass": "standard",
    "accelerator": "GPU"
  },
  "cells": [
    {
      "cell_type": "markdown",
      "metadata": {
        "id": "view-in-github",
        "colab_type": "text"
      },
      "source": [
        "<a href=\"https://colab.research.google.com/github/naryst/toxic_comments_classification/blob/master/Model_Text_Classification.ipynb\" target=\"_parent\"><img src=\"https://colab.research.google.com/assets/colab-badge.svg\" alt=\"Open In Colab\"/></a>"
      ]
    },
    {
      "cell_type": "markdown",
      "source": [
        "In this notebook i will train the model that i will try to attack. \n",
        "\n",
        "The model is classify toxic comments using BERT.\n"
      ],
      "metadata": {
        "id": "Fvgf1U9kNHQf"
      }
    },
    {
      "cell_type": "markdown",
      "source": [
        "# Let's install needed files"
      ],
      "metadata": {
        "id": "gTnd8CXBADHX"
      }
    },
    {
      "cell_type": "code",
      "execution_count": 1,
      "metadata": {
        "id": "1OJIjelyFEQ1",
        "colab": {
          "base_uri": "https://localhost:8080/"
        },
        "outputId": "d79b7100-69e7-43aa-9692-51ae86f45e68"
      },
      "outputs": [
        {
          "output_type": "stream",
          "name": "stdout",
          "text": [
            "Looking in indexes: https://pypi.org/simple, https://us-python.pkg.dev/colab-wheels/public/simple/\n",
            "Collecting transformers\n",
            "  Downloading transformers-4.27.4-py3-none-any.whl (6.8 MB)\n",
            "\u001b[2K     \u001b[90m━━━━━━━━━━━━━━━━━━━━━━━━━━━━━━━━━━━━━━━━\u001b[0m \u001b[32m6.8/6.8 MB\u001b[0m \u001b[31m35.3 MB/s\u001b[0m eta \u001b[36m0:00:00\u001b[0m\n",
            "\u001b[?25hRequirement already satisfied: regex!=2019.12.17 in /usr/local/lib/python3.9/dist-packages (from transformers) (2022.10.31)\n",
            "Requirement already satisfied: pyyaml>=5.1 in /usr/local/lib/python3.9/dist-packages (from transformers) (6.0)\n",
            "Requirement already satisfied: packaging>=20.0 in /usr/local/lib/python3.9/dist-packages (from transformers) (23.0)\n",
            "Collecting tokenizers!=0.11.3,<0.14,>=0.11.1\n",
            "  Downloading tokenizers-0.13.2-cp39-cp39-manylinux_2_17_x86_64.manylinux2014_x86_64.whl (7.6 MB)\n",
            "\u001b[2K     \u001b[90m━━━━━━━━━━━━━━━━━━━━━━━━━━━━━━━━━━━━━━━━\u001b[0m \u001b[32m7.6/7.6 MB\u001b[0m \u001b[31m29.4 MB/s\u001b[0m eta \u001b[36m0:00:00\u001b[0m\n",
            "\u001b[?25hRequirement already satisfied: numpy>=1.17 in /usr/local/lib/python3.9/dist-packages (from transformers) (1.22.4)\n",
            "Requirement already satisfied: tqdm>=4.27 in /usr/local/lib/python3.9/dist-packages (from transformers) (4.65.0)\n",
            "Requirement already satisfied: requests in /usr/local/lib/python3.9/dist-packages (from transformers) (2.27.1)\n",
            "Collecting huggingface-hub<1.0,>=0.11.0\n",
            "  Downloading huggingface_hub-0.13.3-py3-none-any.whl (199 kB)\n",
            "\u001b[2K     \u001b[90m━━━━━━━━━━━━━━━━━━━━━━━━━━━━━━━━━━━━━━\u001b[0m \u001b[32m199.8/199.8 KB\u001b[0m \u001b[31m12.1 MB/s\u001b[0m eta \u001b[36m0:00:00\u001b[0m\n",
            "\u001b[?25hRequirement already satisfied: filelock in /usr/local/lib/python3.9/dist-packages (from transformers) (3.10.7)\n",
            "Requirement already satisfied: typing-extensions>=3.7.4.3 in /usr/local/lib/python3.9/dist-packages (from huggingface-hub<1.0,>=0.11.0->transformers) (4.5.0)\n",
            "Requirement already satisfied: idna<4,>=2.5 in /usr/local/lib/python3.9/dist-packages (from requests->transformers) (3.4)\n",
            "Requirement already satisfied: urllib3<1.27,>=1.21.1 in /usr/local/lib/python3.9/dist-packages (from requests->transformers) (1.26.15)\n",
            "Requirement already satisfied: charset-normalizer~=2.0.0 in /usr/local/lib/python3.9/dist-packages (from requests->transformers) (2.0.12)\n",
            "Requirement already satisfied: certifi>=2017.4.17 in /usr/local/lib/python3.9/dist-packages (from requests->transformers) (2022.12.7)\n",
            "Installing collected packages: tokenizers, huggingface-hub, transformers\n",
            "Successfully installed huggingface-hub-0.13.3 tokenizers-0.13.2 transformers-4.27.4\n",
            "--2023-03-29 18:46:30--  https://docs.google.com/uc?export=download&confirm=t&id=1m5tntO0mes-eduC1n-6egKyFethVRqKm\n",
            "Resolving docs.google.com (docs.google.com)... 64.233.183.101, 64.233.183.100, 64.233.183.113, ...\n",
            "Connecting to docs.google.com (docs.google.com)|64.233.183.101|:443... connected.\n",
            "HTTP request sent, awaiting response... 303 See Other\n",
            "Location: https://doc-00-4o-docs.googleusercontent.com/docs/securesc/ha0ro937gcuc7l7deffksulhg5h7mbp1/0hgehjrm2u6pq5htatnlbvdb74ehtiti/1680115575000/14432876042194918988/*/1m5tntO0mes-eduC1n-6egKyFethVRqKm?e=download&uuid=1a6f2b44-457e-41fe-b640-c842e2d07fca [following]\n",
            "Warning: wildcards not supported in HTTP.\n",
            "--2023-03-29 18:46:30--  https://doc-00-4o-docs.googleusercontent.com/docs/securesc/ha0ro937gcuc7l7deffksulhg5h7mbp1/0hgehjrm2u6pq5htatnlbvdb74ehtiti/1680115575000/14432876042194918988/*/1m5tntO0mes-eduC1n-6egKyFethVRqKm?e=download&uuid=1a6f2b44-457e-41fe-b640-c842e2d07fca\n",
            "Resolving doc-00-4o-docs.googleusercontent.com (doc-00-4o-docs.googleusercontent.com)... 142.250.1.132, 2607:f8b0:4001:c24::84\n",
            "Connecting to doc-00-4o-docs.googleusercontent.com (doc-00-4o-docs.googleusercontent.com)|142.250.1.132|:443... connected.\n",
            "HTTP request sent, awaiting response... 200 OK\n",
            "Length: 55201987 (53M) [application/zip]\n",
            "Saving to: ‘train_data.zip’\n",
            "\n",
            "train_data.zip      100%[===================>]  52.64M   131MB/s    in 0.4s    \n",
            "\n",
            "2023-03-29 18:46:31 (131 MB/s) - ‘train_data.zip’ saved [55201987/55201987]\n",
            "\n",
            "Archive:  train_data.zip\n",
            "  inflating: sample_submission.csv.zip  \n",
            "  inflating: test.csv.zip            \n",
            "  inflating: test_labels.csv.zip     \n",
            "  inflating: train.csv.zip           \n",
            "Archive:  train.csv.zip\n",
            "  inflating: train.csv               \n"
          ]
        }
      ],
      "source": [
        "!pip install transformers\n",
        "!wget --load-cookies /tmp/cookies.txt \"https://docs.google.com/uc?export=download&confirm=$(wget --quiet --save-cookies /tmp/cookies.txt --keep-session-cookies --no-check-certificate 'https://docs.google.com/uc?export=download&id=1m5tntO0mes-eduC1n-6egKyFethVRqKm' -O- | sed -rn 's/.*confirm=([0-9A-Za-z_]+).*/\\1\\n/p')&id=1m5tntO0mes-eduC1n-6egKyFethVRqKm\" -O train_data.zip && rm -rf /tmp/cookies.txt\n",
        "!unzip train_data.zip\n",
        "!unzip train.csv.zip;"
      ]
    },
    {
      "cell_type": "code",
      "source": [
        "import pandas as pd\n",
        "import numpy as np\n",
        "\n",
        "import torch\n",
        "import torch.nn as nn\n",
        "import torch.optim as optim\n",
        "\n",
        "from transformers import BertTokenizer, BertModel\n",
        "\n",
        "from tqdm import tqdm\n",
        "import os\n",
        "\n",
        "device = torch.device('cpu')\n",
        "if torch.cuda.is_available():\n",
        "    device = torch.device('cuda:0')"
      ],
      "metadata": {
        "id": "bA4GMHWkFLh-"
      },
      "execution_count": 2,
      "outputs": []
    },
    {
      "cell_type": "code",
      "source": [
        "print(\"CUDA is available:\", torch.cuda.is_available())"
      ],
      "metadata": {
        "colab": {
          "base_uri": "https://localhost:8080/"
        },
        "id": "1StYyrSLInHH",
        "outputId": "991c00d4-9e30-4f71-867e-064e500debf1"
      },
      "execution_count": 13,
      "outputs": [
        {
          "output_type": "stream",
          "name": "stdout",
          "text": [
            "CUDA is available: True\n"
          ]
        }
      ]
    },
    {
      "cell_type": "markdown",
      "source": [
        "# Data preprocessing"
      ],
      "metadata": {
        "id": "Raz9flGxAcVT"
      }
    },
    {
      "cell_type": "markdown",
      "source": [
        "Firstly, let's check our dataset."
      ],
      "metadata": {
        "id": "gzbseqm6CWaT"
      }
    },
    {
      "cell_type": "code",
      "source": [
        "import os\n",
        "\n",
        "path = \"./\"\n",
        "COLAB_PATH = \"/content/drive/MyDrive/Innopolis/NLP/Project/\"\n",
        "train_df = pd.read_csv(os.path.join(path, 'train.csv'))\n",
        "train_df = train_df.drop(['severe_toxic', 'obscene', 'threat', 'insult', 'identity_hate'], axis=1)\n",
        "train_df['non_toxic'] = 1 - train_df['toxic']\n",
        "train_df.head(10)"
      ],
      "metadata": {
        "colab": {
          "base_uri": "https://localhost:8080/",
          "height": 363
        },
        "id": "jUTSrEypGQm5",
        "outputId": "b271ec75-c61b-494d-d80f-34141dbbafed"
      },
      "execution_count": 20,
      "outputs": [
        {
          "output_type": "execute_result",
          "data": {
            "text/plain": [
              "                 id                                       comment_text  toxic  \\\n",
              "0  0000997932d777bf  Explanation\\nWhy the edits made under my usern...      0   \n",
              "1  000103f0d9cfb60f  D'aww! He matches this background colour I'm s...      0   \n",
              "2  000113f07ec002fd  Hey man, I'm really not trying to edit war. It...      0   \n",
              "3  0001b41b1c6bb37e  \"\\nMore\\nI can't make any real suggestions on ...      0   \n",
              "4  0001d958c54c6e35  You, sir, are my hero. Any chance you remember...      0   \n",
              "5  00025465d4725e87  \"\\n\\nCongratulations from me as well, use the ...      0   \n",
              "6  0002bcb3da6cb337       COCKSUCKER BEFORE YOU PISS AROUND ON MY WORK      1   \n",
              "7  00031b1e95af7921  Your vandalism to the Matt Shirvington article...      0   \n",
              "8  00037261f536c51d  Sorry if the word 'nonsense' was offensive to ...      0   \n",
              "9  00040093b2687caa  alignment on this subject and which are contra...      0   \n",
              "\n",
              "   non_toxic  \n",
              "0          1  \n",
              "1          1  \n",
              "2          1  \n",
              "3          1  \n",
              "4          1  \n",
              "5          1  \n",
              "6          0  \n",
              "7          1  \n",
              "8          1  \n",
              "9          1  "
            ],
            "text/html": [
              "\n",
              "  <div id=\"df-c08b2032-3e41-4e43-8ec5-1bab57e895bb\">\n",
              "    <div class=\"colab-df-container\">\n",
              "      <div>\n",
              "<style scoped>\n",
              "    .dataframe tbody tr th:only-of-type {\n",
              "        vertical-align: middle;\n",
              "    }\n",
              "\n",
              "    .dataframe tbody tr th {\n",
              "        vertical-align: top;\n",
              "    }\n",
              "\n",
              "    .dataframe thead th {\n",
              "        text-align: right;\n",
              "    }\n",
              "</style>\n",
              "<table border=\"1\" class=\"dataframe\">\n",
              "  <thead>\n",
              "    <tr style=\"text-align: right;\">\n",
              "      <th></th>\n",
              "      <th>id</th>\n",
              "      <th>comment_text</th>\n",
              "      <th>toxic</th>\n",
              "      <th>non_toxic</th>\n",
              "    </tr>\n",
              "  </thead>\n",
              "  <tbody>\n",
              "    <tr>\n",
              "      <th>0</th>\n",
              "      <td>0000997932d777bf</td>\n",
              "      <td>Explanation\\nWhy the edits made under my usern...</td>\n",
              "      <td>0</td>\n",
              "      <td>1</td>\n",
              "    </tr>\n",
              "    <tr>\n",
              "      <th>1</th>\n",
              "      <td>000103f0d9cfb60f</td>\n",
              "      <td>D'aww! He matches this background colour I'm s...</td>\n",
              "      <td>0</td>\n",
              "      <td>1</td>\n",
              "    </tr>\n",
              "    <tr>\n",
              "      <th>2</th>\n",
              "      <td>000113f07ec002fd</td>\n",
              "      <td>Hey man, I'm really not trying to edit war. It...</td>\n",
              "      <td>0</td>\n",
              "      <td>1</td>\n",
              "    </tr>\n",
              "    <tr>\n",
              "      <th>3</th>\n",
              "      <td>0001b41b1c6bb37e</td>\n",
              "      <td>\"\\nMore\\nI can't make any real suggestions on ...</td>\n",
              "      <td>0</td>\n",
              "      <td>1</td>\n",
              "    </tr>\n",
              "    <tr>\n",
              "      <th>4</th>\n",
              "      <td>0001d958c54c6e35</td>\n",
              "      <td>You, sir, are my hero. Any chance you remember...</td>\n",
              "      <td>0</td>\n",
              "      <td>1</td>\n",
              "    </tr>\n",
              "    <tr>\n",
              "      <th>5</th>\n",
              "      <td>00025465d4725e87</td>\n",
              "      <td>\"\\n\\nCongratulations from me as well, use the ...</td>\n",
              "      <td>0</td>\n",
              "      <td>1</td>\n",
              "    </tr>\n",
              "    <tr>\n",
              "      <th>6</th>\n",
              "      <td>0002bcb3da6cb337</td>\n",
              "      <td>COCKSUCKER BEFORE YOU PISS AROUND ON MY WORK</td>\n",
              "      <td>1</td>\n",
              "      <td>0</td>\n",
              "    </tr>\n",
              "    <tr>\n",
              "      <th>7</th>\n",
              "      <td>00031b1e95af7921</td>\n",
              "      <td>Your vandalism to the Matt Shirvington article...</td>\n",
              "      <td>0</td>\n",
              "      <td>1</td>\n",
              "    </tr>\n",
              "    <tr>\n",
              "      <th>8</th>\n",
              "      <td>00037261f536c51d</td>\n",
              "      <td>Sorry if the word 'nonsense' was offensive to ...</td>\n",
              "      <td>0</td>\n",
              "      <td>1</td>\n",
              "    </tr>\n",
              "    <tr>\n",
              "      <th>9</th>\n",
              "      <td>00040093b2687caa</td>\n",
              "      <td>alignment on this subject and which are contra...</td>\n",
              "      <td>0</td>\n",
              "      <td>1</td>\n",
              "    </tr>\n",
              "  </tbody>\n",
              "</table>\n",
              "</div>\n",
              "      <button class=\"colab-df-convert\" onclick=\"convertToInteractive('df-c08b2032-3e41-4e43-8ec5-1bab57e895bb')\"\n",
              "              title=\"Convert this dataframe to an interactive table.\"\n",
              "              style=\"display:none;\">\n",
              "        \n",
              "  <svg xmlns=\"http://www.w3.org/2000/svg\" height=\"24px\"viewBox=\"0 0 24 24\"\n",
              "       width=\"24px\">\n",
              "    <path d=\"M0 0h24v24H0V0z\" fill=\"none\"/>\n",
              "    <path d=\"M18.56 5.44l.94 2.06.94-2.06 2.06-.94-2.06-.94-.94-2.06-.94 2.06-2.06.94zm-11 1L8.5 8.5l.94-2.06 2.06-.94-2.06-.94L8.5 2.5l-.94 2.06-2.06.94zm10 10l.94 2.06.94-2.06 2.06-.94-2.06-.94-.94-2.06-.94 2.06-2.06.94z\"/><path d=\"M17.41 7.96l-1.37-1.37c-.4-.4-.92-.59-1.43-.59-.52 0-1.04.2-1.43.59L10.3 9.45l-7.72 7.72c-.78.78-.78 2.05 0 2.83L4 21.41c.39.39.9.59 1.41.59.51 0 1.02-.2 1.41-.59l7.78-7.78 2.81-2.81c.8-.78.8-2.07 0-2.86zM5.41 20L4 18.59l7.72-7.72 1.47 1.35L5.41 20z\"/>\n",
              "  </svg>\n",
              "      </button>\n",
              "      \n",
              "  <style>\n",
              "    .colab-df-container {\n",
              "      display:flex;\n",
              "      flex-wrap:wrap;\n",
              "      gap: 12px;\n",
              "    }\n",
              "\n",
              "    .colab-df-convert {\n",
              "      background-color: #E8F0FE;\n",
              "      border: none;\n",
              "      border-radius: 50%;\n",
              "      cursor: pointer;\n",
              "      display: none;\n",
              "      fill: #1967D2;\n",
              "      height: 32px;\n",
              "      padding: 0 0 0 0;\n",
              "      width: 32px;\n",
              "    }\n",
              "\n",
              "    .colab-df-convert:hover {\n",
              "      background-color: #E2EBFA;\n",
              "      box-shadow: 0px 1px 2px rgba(60, 64, 67, 0.3), 0px 1px 3px 1px rgba(60, 64, 67, 0.15);\n",
              "      fill: #174EA6;\n",
              "    }\n",
              "\n",
              "    [theme=dark] .colab-df-convert {\n",
              "      background-color: #3B4455;\n",
              "      fill: #D2E3FC;\n",
              "    }\n",
              "\n",
              "    [theme=dark] .colab-df-convert:hover {\n",
              "      background-color: #434B5C;\n",
              "      box-shadow: 0px 1px 3px 1px rgba(0, 0, 0, 0.15);\n",
              "      filter: drop-shadow(0px 1px 2px rgba(0, 0, 0, 0.3));\n",
              "      fill: #FFFFFF;\n",
              "    }\n",
              "  </style>\n",
              "\n",
              "      <script>\n",
              "        const buttonEl =\n",
              "          document.querySelector('#df-c08b2032-3e41-4e43-8ec5-1bab57e895bb button.colab-df-convert');\n",
              "        buttonEl.style.display =\n",
              "          google.colab.kernel.accessAllowed ? 'block' : 'none';\n",
              "\n",
              "        async function convertToInteractive(key) {\n",
              "          const element = document.querySelector('#df-c08b2032-3e41-4e43-8ec5-1bab57e895bb');\n",
              "          const dataTable =\n",
              "            await google.colab.kernel.invokeFunction('convertToInteractive',\n",
              "                                                     [key], {});\n",
              "          if (!dataTable) return;\n",
              "\n",
              "          const docLinkHtml = 'Like what you see? Visit the ' +\n",
              "            '<a target=\"_blank\" href=https://colab.research.google.com/notebooks/data_table.ipynb>data table notebook</a>'\n",
              "            + ' to learn more about interactive tables.';\n",
              "          element.innerHTML = '';\n",
              "          dataTable['output_type'] = 'display_data';\n",
              "          await google.colab.output.renderOutput(dataTable, element);\n",
              "          const docLink = document.createElement('div');\n",
              "          docLink.innerHTML = docLinkHtml;\n",
              "          element.appendChild(docLink);\n",
              "        }\n",
              "      </script>\n",
              "    </div>\n",
              "  </div>\n",
              "  "
            ]
          },
          "metadata": {},
          "execution_count": 20
        }
      ]
    },
    {
      "cell_type": "markdown",
      "source": [
        "Lets look on the amount of samples of each class in the dataset with histograms. "
      ],
      "metadata": {
        "id": "syilN3wRfKQn"
      }
    },
    {
      "cell_type": "code",
      "source": [
        "import seaborn as sns\n",
        "toxic_num = train_df[train_df['toxic'] == 1].shape[0]\n",
        "nontoxic_num = train_df[train_df['non_toxic'] == 1].shape[0]\n",
        "sns.barplot(x=['non_toxic', 'toxic'], y=[nontoxic_num, toxic_num])\n",
        "print(nontoxic_num / toxic_num)"
      ],
      "metadata": {
        "id": "4sGCg8dscscI",
        "outputId": "55612491-147d-4c1c-99be-2f96f1223723",
        "colab": {
          "base_uri": "https://localhost:8080/",
          "height": 447
        }
      },
      "execution_count": 21,
      "outputs": [
        {
          "output_type": "stream",
          "name": "stdout",
          "text": [
            "9.433568719759382\n"
          ]
        },
        {
          "output_type": "display_data",
          "data": {
            "text/plain": [
              "<Figure size 640x480 with 1 Axes>"
            ],
            "image/png": "[encoded data removed]"
          },
          "metadata": {}
        }
      ]
    },
    {
      "cell_type": "markdown",
      "source": [
        "As we can see, classes are imbalansed (number of nontoxic comments ~9.5 time greater then number of toxic samples. So, we should deal with it somehow while splitting data into train and test sets to balance classes."
      ],
      "metadata": {
        "id": "K9GOTc8BfaTp"
      }
    },
    {
      "cell_type": "code",
      "source": [
        "train_df[\"length\"] = train_df[\"comment_text\"].str.split().apply(len)"
      ],
      "metadata": {
        "id": "fD9Px-ma5q-Y"
      },
      "execution_count": 22,
      "outputs": []
    },
    {
      "cell_type": "code",
      "source": [
        "train_df[\"length\"].describe()"
      ],
      "metadata": {
        "colab": {
          "base_uri": "https://localhost:8080/"
        },
        "id": "vJiExNPT6O2s",
        "outputId": "9c515e74-c1c4-4754-d1cc-40714d53f576"
      },
      "execution_count": 23,
      "outputs": [
        {
          "output_type": "execute_result",
          "data": {
            "text/plain": [
              "count    159571.000000\n",
              "mean         67.273527\n",
              "std          99.230702\n",
              "min           1.000000\n",
              "25%          17.000000\n",
              "50%          36.000000\n",
              "75%          75.000000\n",
              "max        1411.000000\n",
              "Name: length, dtype: float64"
            ]
          },
          "metadata": {},
          "execution_count": 23
        }
      ]
    },
    {
      "cell_type": "code",
      "source": [
        "train_df.shape"
      ],
      "metadata": {
        "colab": {
          "base_uri": "https://localhost:8080/"
        },
        "id": "1kA0WXYgXaP4",
        "outputId": "bd9d1f51-88c3-4478-b024-a4c20710fc6a"
      },
      "execution_count": 24,
      "outputs": [
        {
          "output_type": "execute_result",
          "data": {
            "text/plain": [
              "(159571, 5)"
            ]
          },
          "metadata": {},
          "execution_count": 24
        }
      ]
    },
    {
      "cell_type": "markdown",
      "source": [
        "Divide it into train and validation datasets."
      ],
      "metadata": {
        "id": "qls_eJ0LDN1t"
      }
    },
    {
      "cell_type": "code",
      "source": [
        "from sklearn.model_selection import train_test_split\n",
        "\n",
        "df_train, df_valid = train_test_split(train_df, test_size=0.2, stratify=train_df[\"toxic\"])"
      ],
      "metadata": {
        "id": "nQ3AvxJGAq6o"
      },
      "execution_count": 25,
      "outputs": []
    },
    {
      "cell_type": "code",
      "source": [
        "df_train = pd.concat(\n",
        "        [\n",
        "            df_train[df_train[\"toxic\"] == 0].sample(\n",
        "                5000, random_state=199, replace=False\n",
        "            ),\n",
        "            df_train[df_train[\"toxic\"] == 1].sample(\n",
        "                5000, random_state=199, replace=False\n",
        "            ),\n",
        "        ]\n",
        "    )\n",
        "df_valid = pd.concat(\n",
        "        [\n",
        "            df_valid[df_valid[\"toxic\"] == 0].sample(\n",
        "                500, random_state=199, replace=False\n",
        "            ),\n",
        "            df_valid[df_valid[\"toxic\"] == 1].sample(\n",
        "                500, random_state=199, replace=False\n",
        "            ),\n",
        "        ]\n",
        "    )"
      ],
      "metadata": {
        "id": "Hu4v7slYXl4l"
      },
      "execution_count": 26,
      "outputs": []
    },
    {
      "cell_type": "code",
      "source": [
        "df_train.shape, df_valid.shape"
      ],
      "metadata": {
        "colab": {
          "base_uri": "https://localhost:8080/"
        },
        "id": "YoPgQ53CX4yl",
        "outputId": "9faec680-d9d1-4ecf-e1ad-e907d66dee9e"
      },
      "execution_count": 27,
      "outputs": [
        {
          "output_type": "execute_result",
          "data": {
            "text/plain": [
              "((10000, 5), (1000, 5))"
            ]
          },
          "metadata": {},
          "execution_count": 27
        }
      ]
    },
    {
      "cell_type": "markdown",
      "source": [
        "We ideally want our dataset code to be decoupled from our model training code for better readability and modularity. Let's use PyTorch's data primitives: ```torch.utils.data.DataLoader``` and ```torch.utils.data.Dataset```."
      ],
      "metadata": {
        "id": "_kNGXPFODRd1"
      }
    },
    {
      "cell_type": "markdown",
      "source": [
        "And here is the example how Bert tokenizer works\n",
        "\n",
        "![bert.png](data:image/png;base64,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)"
      ],
      "metadata": {
        "id": "EZKd6ovt8UHn"
      }
    },
    {
      "cell_type": "code",
      "source": [
        "from torch.utils.data import Dataset, DataLoader, RandomSampler\n",
        "\n",
        "class ToxicDataset(Dataset):\n",
        "    \n",
        "    def __init__(self, tokenizer: BertTokenizer, dataframe: pd.DataFrame):\n",
        "        self.tokenizer = tokenizer\n",
        "        self.pad_idx = tokenizer.pad_token_id\n",
        "        self.df = dataframe        \n",
        "    \n",
        "    @staticmethod\n",
        "    def row_to_tensor(tokenizer: BertTokenizer, row: pd.Series):\n",
        "        tokens = tokenizer.encode(row[\"comment_text\"], add_special_tokens=True)\n",
        "        tokens = tokens[:119] + [tokens[-1]] if len(tokens) > 120 else tokens\n",
        "        x = torch.LongTensor(tokens)\n",
        "\n",
        "        labels = ['toxic', 'non_toxic']\n",
        "        y = torch.FloatTensor(row[labels])\n",
        "        return x, y\n",
        "        \n",
        "    def __len__(self):\n",
        "        return len(self.df)\n",
        "\n",
        "    def __getitem__(self, index: int):\n",
        "        return self.row_to_tensor(self.tokenizer, self.df.iloc[index])"
      ],
      "metadata": {
        "id": "s6EVNd3pGrGQ"
      },
      "execution_count": 28,
      "outputs": []
    },
    {
      "cell_type": "code",
      "source": [
        "from functools import partial\n",
        "from torch.nn.utils.rnn import pad_sequence\n",
        "\n",
        "# merges a list of samples to form a mini-batch of Tensors\n",
        "def collate_fn(batch, device: torch.device):\n",
        "    x, y = list(zip(*batch))\n",
        "    x = pad_sequence(x, batch_first=True, padding_value=0)\n",
        "    y = torch.stack(y)\n",
        "    return x.to(device), y.to(device)\n",
        "\n",
        "collate_fn = partial(collate_fn, device=device)"
      ],
      "metadata": {
        "id": "feJy_RCgKz6c"
      },
      "execution_count": 29,
      "outputs": []
    },
    {
      "cell_type": "code",
      "source": [
        "bert_model_name = 'bert-base-cased'\n",
        "tokenizer = BertTokenizer.from_pretrained(bert_model_name)\n",
        "\n",
        "train_dataset = ToxicDataset(tokenizer, df_train)\n",
        "val_dataset = ToxicDataset(tokenizer, df_valid)\n",
        "\n",
        "BATCH_SIZE = 32\n",
        "train_sampler = RandomSampler(train_dataset)\n",
        "dev_sampler = RandomSampler(val_dataset)\n",
        "\n",
        "train_iterator = DataLoader(train_dataset, batch_size=BATCH_SIZE,\n",
        "                            sampler=train_sampler, collate_fn=collate_fn)\n",
        "\n",
        "val_iterator = DataLoader(val_dataset, batch_size=BATCH_SIZE,\n",
        "                          sampler=dev_sampler, collate_fn=collate_fn)"
      ],
      "metadata": {
        "id": "f84GgrAXL9OX"
      },
      "execution_count": 30,
      "outputs": []
    },
    {
      "cell_type": "markdown",
      "source": [
        "# Build the model"
      ],
      "metadata": {
        "id": "zomjfjN2POPD"
      }
    },
    {
      "cell_type": "markdown",
      "source": [
        "So, my model's architecture will looks like this.\n",
        "\n",
        "\n",
        "![BERT-classification-spam.png](data:image/png;base64,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)"
      ],
      "metadata": {
        "id": "tJgTyDUeiHW6"
      }
    },
    {
      "cell_type": "code",
      "source": [
        "class BertClassifier(nn.Module):\n",
        "    def __init__(self, bert: BertModel, num_classes: int):\n",
        "        super().__init__()\n",
        "        self.bert = bert\n",
        "        self.classifier = nn.Linear(bert.config.hidden_size, num_classes)\n",
        "        self.softmax = nn.Softmax(dim=1)\n",
        "        \n",
        "    def forward(self, input_ids, attention_mask=None):\n",
        "        x = self.bert(input_ids, attention_mask=attention_mask)\n",
        "        cls_x = x[1] # sentence embedding. Pooler_output is the embedding of the [CLS] special token. It is considered as a valid representation of the complete sentence.\n",
        "        cls_x = self.classifier(cls_x)\n",
        "        # print(cls_x.shape)\n",
        "        out = self.softmax(cls_x)\n",
        "        return out\n",
        "\n",
        "bert = BertModel.from_pretrained(bert_model_name)"
      ],
      "metadata": {
        "id": "pR8qKuD2HQPS",
        "colab": {
          "base_uri": "https://localhost:8080/"
        },
        "outputId": "71867d6d-7669-4c01-8339-a188df1ed44b"
      },
      "execution_count": 31,
      "outputs": [
        {
          "output_type": "stream",
          "name": "stderr",
          "text": [
            "Some weights of the model checkpoint at bert-base-cased were not used when initializing BertModel: ['cls.predictions.transform.dense.weight', 'cls.predictions.bias', 'cls.seq_relationship.bias', 'cls.predictions.transform.LayerNorm.weight', 'cls.predictions.transform.dense.bias', 'cls.seq_relationship.weight', 'cls.predictions.decoder.weight', 'cls.predictions.transform.LayerNorm.bias']\n",
            "- This IS expected if you are initializing BertModel from the checkpoint of a model trained on another task or with another architecture (e.g. initializing a BertForSequenceClassification model from a BertForPreTraining model).\n",
            "- This IS NOT expected if you are initializing BertModel from the checkpoint of a model that you expect to be exactly identical (initializing a BertForSequenceClassification model from a BertForSequenceClassification model).\n"
          ]
        }
      ]
    },
    {
      "cell_type": "code",
      "source": [
        "model = BertClassifier(bert, 2).to(device)"
      ],
      "metadata": {
        "id": "JrhA9mD8Y2Q-"
      },
      "execution_count": 32,
      "outputs": []
    },
    {
      "cell_type": "markdown",
      "source": [
        "# Train process"
      ],
      "metadata": {
        "id": "yjuD8_cHb-mM"
      }
    },
    {
      "cell_type": "code",
      "source": [
        "from sklearn.metrics import roc_auc_score\n",
        "\n",
        "def train(model, iterator, optimizer, scheduler, loss_func):\n",
        "    model.train()\n",
        "    total_loss = 0\n",
        "\n",
        "    iteration = 0\n",
        "    for x, y in tqdm(iterator):\n",
        "        iteration += 1\n",
        "        optimizer.zero_grad()\n",
        "        mask = (x != 0).float()\n",
        "        outputs = model(x, attention_mask=mask)\n",
        "        loss = loss_func(outputs, y)\n",
        "        total_loss += loss.item()\n",
        "        loss.backward()\n",
        "        optimizer.step()\n",
        "        scheduler.step()\n",
        "\n",
        "        if iteration % 30 == 0:\n",
        "            print(f\"\\n\\nEVALUATING at iteration - {iteration}\")\n",
        "            evaluate(model, val_iterator)\n",
        "\n",
        "    print(f\"Train loss {total_loss / len(iterator)}\\n\")\n",
        "\n",
        "def evaluate(model, iterator):\n",
        "    model.eval()\n",
        "    pred = []\n",
        "    true = []\n",
        "    with torch.no_grad():\n",
        "        total_loss = 0\n",
        "        for x, y in iterator:\n",
        "            mask = (x != 0).float()\n",
        "            outputs = model(x, attention_mask=mask)\n",
        "            loss = loss_func(outputs, y)\n",
        "            total_loss += loss\n",
        "            outputs = torch.argmax(outputs, dim=1)\n",
        "            y = torch.argmax(y, dim=1)\n",
        "            # print(outputs.shape)\n",
        "            true += y.cpu().numpy().tolist()\n",
        "            pred += outputs.cpu().numpy().tolist()\n",
        "    true = np.array(true)\n",
        "    pred = np.array(pred)\n",
        "\n",
        "    labels = ['toxic']\n",
        "    print(\"\\nROC_AUC for labels:\")\n",
        "    for i, name in enumerate(labels):\n",
        "        print(f\" * {name} - {roc_auc_score(true, pred)}\")\n",
        "    print(f\"\\nEVALUATE LOSS -  {total_loss / len(iterator)}\\n\")"
      ],
      "metadata": {
        "id": "v9B592IQHTPn"
      },
      "execution_count": null,
      "outputs": []
    },
    {
      "cell_type": "code",
      "source": [
        "torch.cuda.empty_cache()"
      ],
      "metadata": {
        "id": "MzZUaS7cj8qE"
      },
      "execution_count": null,
      "outputs": []
    },
    {
      "cell_type": "code",
      "source": [
        "from transformers import get_linear_schedule_with_warmup\n",
        "\n",
        "EPOCH_NUM = 1\n",
        "\n",
        "loss_func = nn.BCELoss()\n",
        "\n",
        "lr = 2e-5\n",
        "optimizer = optim.AdamW(model.parameters(), lr=lr)\n",
        "\n",
        "# The triangle learning rate advances linearly until half of the first epoch, then linearly decays.\n",
        "w_steps = 10 ** 3\n",
        "t_steps = len(train_iterator) * EPOCH_NUM - w_steps\n",
        "scheduler = get_linear_schedule_with_warmup(optimizer, w_steps, t_steps)"
      ],
      "metadata": {
        "id": "ssJVhgBNHZLR"
      },
      "execution_count": null,
      "outputs": []
    },
    {
      "cell_type": "code",
      "source": [
        "for i in range(EPOCH_NUM):\n",
        "    print('=' * 50, f\"EPOCH {i}\", '=' * 50)\n",
        "    print(\"\\nTRAINING\\n\")\n",
        "    train(model, train_iterator, optimizer, scheduler, loss_func)\n",
        "    print(\"\\nEVALUATING\\n\")\n",
        "    evaluate(model, val_iterator)"
      ],
      "metadata": {
        "colab": {
          "base_uri": "https://localhost:8080/"
        },
        "id": "zglzTawSHa6d",
        "outputId": "799987b7-29ab-4600-a093-ab9ae3949469"
      },
      "execution_count": null,
      "outputs": [
        {
          "output_type": "stream",
          "name": "stdout",
          "text": [
            "================================================== EPOCH 0 ==================================================\n",
            "\n",
            "TRAINING\n",
            "\n"
          ]
        },
        {
          "output_type": "stream",
          "name": "stderr",
          "text": [
            "  9%|▉         | 29/313 [00:19<03:04,  1.54it/s]"
          ]
        },
        {
          "output_type": "stream",
          "name": "stdout",
          "text": [
            "\n",
            "\n",
            "EVALUATING at iteration - 30\n"
          ]
        },
        {
          "output_type": "stream",
          "name": "stderr",
          "text": [
            "\r 10%|▉         | 30/313 [00:28<14:40,  3.11s/it]"
          ]
        },
        {
          "output_type": "stream",
          "name": "stdout",
          "text": [
            "\n",
            "ROC_AUC for labels:\n",
            " * toxic - 0.5\n",
            "\n",
            "EVALUATE LOSS -  0.699165940284729\n",
            "\n"
          ]
        },
        {
          "output_type": "stream",
          "name": "stderr",
          "text": [
            " 19%|█▉        | 59/313 [00:46<02:37,  1.61it/s]"
          ]
        },
        {
          "output_type": "stream",
          "name": "stdout",
          "text": [
            "\n",
            "\n",
            "EVALUATING at iteration - 60\n"
          ]
        },
        {
          "output_type": "stream",
          "name": "stderr",
          "text": [
            "\r 19%|█▉        | 60/313 [00:55<13:25,  3.18s/it]"
          ]
        },
        {
          "output_type": "stream",
          "name": "stdout",
          "text": [
            "\n",
            "ROC_AUC for labels:\n",
            " * toxic - 0.56\n",
            "\n",
            "EVALUATE LOSS -  0.6671229004859924\n",
            "\n"
          ]
        },
        {
          "output_type": "stream",
          "name": "stderr",
          "text": [
            " 28%|██▊       | 89/313 [01:14<02:19,  1.60it/s]"
          ]
        },
        {
          "output_type": "stream",
          "name": "stdout",
          "text": [
            "\n",
            "\n",
            "EVALUATING at iteration - 90\n"
          ]
        },
        {
          "output_type": "stream",
          "name": "stderr",
          "text": [
            "\r 29%|██▉       | 90/313 [01:22<11:13,  3.02s/it]"
          ]
        },
        {
          "output_type": "stream",
          "name": "stdout",
          "text": [
            "\n",
            "ROC_AUC for labels:\n",
            " * toxic - 0.835\n",
            "\n",
            "EVALUATE LOSS -  0.5731249451637268\n",
            "\n"
          ]
        },
        {
          "output_type": "stream",
          "name": "stderr",
          "text": [
            " 38%|███▊      | 119/313 [01:40<02:00,  1.61it/s]"
          ]
        },
        {
          "output_type": "stream",
          "name": "stdout",
          "text": [
            "\n",
            "\n",
            "EVALUATING at iteration - 120\n"
          ]
        },
        {
          "output_type": "stream",
          "name": "stderr",
          "text": [
            "\r 38%|███▊      | 120/313 [01:49<09:49,  3.06s/it]"
          ]
        },
        {
          "output_type": "stream",
          "name": "stdout",
          "text": [
            "\n",
            "ROC_AUC for labels:\n",
            " * toxic - 0.8519999999999999\n",
            "\n",
            "EVALUATE LOSS -  0.4593316614627838\n",
            "\n"
          ]
        },
        {
          "output_type": "stream",
          "name": "stderr",
          "text": [
            " 48%|████▊     | 149/313 [02:07<01:43,  1.59it/s]"
          ]
        },
        {
          "output_type": "stream",
          "name": "stdout",
          "text": [
            "\n",
            "\n",
            "EVALUATING at iteration - 150\n"
          ]
        },
        {
          "output_type": "stream",
          "name": "stderr",
          "text": [
            "\r 48%|████▊     | 150/313 [02:16<08:12,  3.02s/it]"
          ]
        },
        {
          "output_type": "stream",
          "name": "stdout",
          "text": [
            "\n",
            "ROC_AUC for labels:\n",
            " * toxic - 0.88\n",
            "\n",
            "EVALUATE LOSS -  0.35641491413116455\n",
            "\n"
          ]
        },
        {
          "output_type": "stream",
          "name": "stderr",
          "text": [
            " 57%|█████▋    | 179/313 [02:35<01:27,  1.53it/s]"
          ]
        },
        {
          "output_type": "stream",
          "name": "stdout",
          "text": [
            "\n",
            "\n",
            "EVALUATING at iteration - 180\n"
          ]
        },
        {
          "output_type": "stream",
          "name": "stderr",
          "text": [
            "\r 58%|█████▊    | 180/313 [02:43<06:46,  3.06s/it]"
          ]
        },
        {
          "output_type": "stream",
          "name": "stdout",
          "text": [
            "\n",
            "ROC_AUC for labels:\n",
            " * toxic - 0.88\n",
            "\n",
            "EVALUATE LOSS -  0.29974564909935\n",
            "\n"
          ]
        },
        {
          "output_type": "stream",
          "name": "stderr",
          "text": [
            " 67%|██████▋   | 209/313 [03:01<01:04,  1.61it/s]"
          ]
        },
        {
          "output_type": "stream",
          "name": "stdout",
          "text": [
            "\n",
            "\n",
            "EVALUATING at iteration - 210\n"
          ]
        },
        {
          "output_type": "stream",
          "name": "stderr",
          "text": [
            "\r 67%|██████▋   | 210/313 [03:10<05:13,  3.04s/it]"
          ]
        },
        {
          "output_type": "stream",
          "name": "stdout",
          "text": [
            "\n",
            "ROC_AUC for labels:\n",
            " * toxic - 0.907\n",
            "\n",
            "EVALUATE LOSS -  0.2574467062950134\n",
            "\n"
          ]
        },
        {
          "output_type": "stream",
          "name": "stderr",
          "text": [
            " 76%|███████▋  | 239/313 [03:28<00:46,  1.61it/s]"
          ]
        },
        {
          "output_type": "stream",
          "name": "stdout",
          "text": [
            "\n",
            "\n",
            "EVALUATING at iteration - 240\n"
          ]
        },
        {
          "output_type": "stream",
          "name": "stderr",
          "text": [
            "\r 77%|███████▋  | 240/313 [03:37<03:43,  3.06s/it]"
          ]
        },
        {
          "output_type": "stream",
          "name": "stdout",
          "text": [
            "\n",
            "ROC_AUC for labels:\n",
            " * toxic - 0.912\n",
            "\n",
            "EVALUATE LOSS -  0.24719910323619843\n",
            "\n"
          ]
        },
        {
          "output_type": "stream",
          "name": "stderr",
          "text": [
            " 86%|████████▌ | 269/313 [03:55<00:27,  1.61it/s]"
          ]
        },
        {
          "output_type": "stream",
          "name": "stdout",
          "text": [
            "\n",
            "\n",
            "EVALUATING at iteration - 270\n"
          ]
        },
        {
          "output_type": "stream",
          "name": "stderr",
          "text": [
            "\r 86%|████████▋ | 270/313 [04:04<02:09,  3.02s/it]"
          ]
        },
        {
          "output_type": "stream",
          "name": "stdout",
          "text": [
            "\n",
            "ROC_AUC for labels:\n",
            " * toxic - 0.9210000000000002\n",
            "\n",
            "EVALUATE LOSS -  0.21095922589302063\n",
            "\n"
          ]
        },
        {
          "output_type": "stream",
          "name": "stderr",
          "text": [
            " 96%|█████████▌| 299/313 [04:22<00:08,  1.60it/s]"
          ]
        },
        {
          "output_type": "stream",
          "name": "stdout",
          "text": [
            "\n",
            "\n",
            "EVALUATING at iteration - 300\n"
          ]
        },
        {
          "output_type": "stream",
          "name": "stderr",
          "text": [
            "\r 96%|█████████▌| 300/313 [04:31<00:39,  3.02s/it]"
          ]
        },
        {
          "output_type": "stream",
          "name": "stdout",
          "text": [
            "\n",
            "ROC_AUC for labels:\n",
            " * toxic - 0.923\n",
            "\n",
            "EVALUATE LOSS -  0.19681932032108307\n",
            "\n"
          ]
        },
        {
          "output_type": "stream",
          "name": "stderr",
          "text": [
            "100%|██████████| 313/313 [04:39<00:00,  1.12it/s]\n"
          ]
        },
        {
          "output_type": "stream",
          "name": "stdout",
          "text": [
            "Train loss 0.43380900596182187\n",
            "\n",
            "\n",
            "EVALUATING\n",
            "\n",
            "\n",
            "ROC_AUC for labels:\n",
            " * toxic - 0.929\n",
            "\n",
            "EVALUATE LOSS -  0.20413735508918762\n",
            "\n"
          ]
        }
      ]
    },
    {
      "cell_type": "markdown",
      "source": [
        "# Adversarial attack"
      ],
      "metadata": {
        "id": "VOPCbpwnB5HX"
      }
    },
    {
      "cell_type": "markdown",
      "source": [
        "Here we used ```textattack``` for adversarial attack on NLP classification model\n",
        "\n",
        "Idea we take from here: https://arxiv.org/pdf/1907.11932.pdf"
      ],
      "metadata": {
        "id": "d0AhLZjuG_co"
      }
    },
    {
      "cell_type": "code",
      "source": [
        "!pip install textattack[pytorch]"
      ],
      "metadata": {
        "id": "fWW9T_Ynu59o"
      },
      "execution_count": null,
      "outputs": []
    },
    {
      "cell_type": "code",
      "source": [
        "import textattack\n",
        "from textattack.models.wrappers import ModelWrapper\n",
        "from tqdm import tqdm  # tqdm provides us a nice progress bar.\n",
        "from textattack.loggers import CSVLogger  # tracks a dataframe for us.\n",
        "from textattack.attack_results import SuccessfulAttackResult\n",
        "from textattack.attack_recipes.textfooler_jin_2019 import TextFoolerJin2019\n",
        "from textattack import Attacker\n",
        "from textattack import AttackArgs\n",
        "from textattack.models.wrappers import ModelWrapper\n",
        "\n",
        "from transformers import (\n",
        "    AutoTokenizer,\n",
        "    AutoModelForSequenceClassification,\n",
        "    TrainingArguments,\n",
        "    Trainer,\n",
        ")"
      ],
      "metadata": {
        "id": "Fb6plTr8vfDG"
      },
      "execution_count": 36,
      "outputs": []
    },
    {
      "cell_type": "code",
      "source": [
        "model_name = \"binary_toxicity_detector\"\n",
        "model_dir = f\"{COLAB_PATH}{model_name}\""
      ],
      "metadata": {
        "id": "8F5V8oUvv42J"
      },
      "execution_count": 38,
      "outputs": []
    },
    {
      "cell_type": "code",
      "source": [
        "from google.colab import drive\n",
        "drive.mount('/content/drive')"
      ],
      "metadata": {
        "colab": {
          "base_uri": "https://localhost:8080/"
        },
        "id": "XbrP7DKOt5iW",
        "outputId": "3338bd1e-50df-4e54-9cd5-c2f921018a29"
      },
      "execution_count": 11,
      "outputs": [
        {
          "output_type": "stream",
          "name": "stdout",
          "text": [
            "Mounted at /content/drive\n"
          ]
        }
      ]
    },
    {
      "cell_type": "code",
      "source": [
        "model.load_state_dict(torch.load(os.path.join(COLAB_PATH, \"model.pt\")))"
      ],
      "metadata": {
        "colab": {
          "base_uri": "https://localhost:8080/"
        },
        "id": "stQjMYZQuLhU",
        "outputId": "823e6095-0bc9-419d-d626-be4a2f884269"
      },
      "execution_count": 33,
      "outputs": [
        {
          "output_type": "execute_result",
          "data": {
            "text/plain": [
              "<All keys matched successfully>"
            ]
          },
          "metadata": {},
          "execution_count": 33
        }
      ]
    },
    {
      "cell_type": "markdown",
      "source": [
        "First, we define a custom model wrapper to combine tokenization and model prediction. This step also ensures that the prediction output matches the required output formats of the TextAttack library."
      ],
      "metadata": {
        "id": "zOfGcHRbHTAx"
      }
    },
    {
      "cell_type": "code",
      "source": [
        "from torch.nn.utils.rnn import pad_sequence\n",
        "\n",
        "class MyModelWrapper(ModelWrapper):\n",
        "    def __init__(self, model, tokenizer):\n",
        "        self.model = model\n",
        "        self.tokenizer = tokenizer\n",
        "\n",
        "    def __call__(self, text_input_list):\n",
        "\n",
        "        with torch.no_grad():\n",
        "              x = self.row_to_tensor(text_input_list).to(device)\n",
        "              mask = (x != 0).float()\n",
        "              outputs = model(x, attention_mask=mask)\n",
        "              final_preds = torch.flip(outputs, dims=(1,))\n",
        "\n",
        "        return final_preds\n",
        "        \n",
        "    def row_to_tensor(self, row):\n",
        "        tensor = []\n",
        "\n",
        "        for i in row:\n",
        "            tokens = tokenizer.encode(i, add_special_tokens=True)\n",
        "            tokens = tokens[:119] + [tokens[-1]] if len(tokens) > 120 else tokens\n",
        "            tensor.append(torch.LongTensor(tokens))\n",
        "        tensor = pad_sequence(tensor, batch_first=True, padding_value=0)\n",
        "        x = torch.LongTensor(tensor)\n",
        "        return x"
      ],
      "metadata": {
        "id": "UNV3WBoNuuVH"
      },
      "execution_count": 260,
      "outputs": []
    },
    {
      "cell_type": "code",
      "source": [
        "trained_model = model\n",
        "trained_model = trained_model.to(device)\n",
        "model_wrapper = MyModelWrapper(trained_model, tokenizer)"
      ],
      "metadata": {
        "id": "PXjWCBJhuzSM"
      },
      "execution_count": 261,
      "outputs": []
    },
    {
      "cell_type": "code",
      "source": [
        "sub_sample_to_attack = 100\n",
        "df_train_to_attack = df_train[df_train[\"toxic\"] == 1].sample(sub_sample_to_attack)\n",
        "\n",
        "## We attack the toxic samples\n",
        "## Goal is to perturbe toxic samples enough that the model classifies them as Non-toxic\n",
        "\n",
        "train_dataset_to_attack = textattack.datasets.Dataset(\n",
        "    [\n",
        "        (x, 1)\n",
        "        for x, y in zip(\n",
        "            df_train_to_attack[\"comment_text\"],\n",
        "            df_train_to_attack[\"toxic\"],\n",
        "        )\n",
        "    ]\n",
        ")"
      ],
      "metadata": {
        "id": "3Qj3OBAWwZCG"
      },
      "execution_count": 262,
      "outputs": []
    },
    {
      "cell_type": "markdown",
      "source": [
        "Here we define the function to generate the attacks:"
      ],
      "metadata": {
        "id": "zS_DaWzNIZKX"
      }
    },
    {
      "cell_type": "code",
      "source": [
        "def generate_attacks(model_wrapper, dataset_to_attack, num_examples=-1, parallel=False):\n",
        "\n",
        "    attack = TextFoolerJin2019.build(model_wrapper)\n",
        "\n",
        "    attack_args = textattack.AttackArgs(\n",
        "        num_examples=num_examples, parallel=parallel, num_workers_per_device=5\n",
        "    )  ## num_examples = -1 means the entire dataset\n",
        "    attacker = Attacker(attack, dataset_to_attack, attack_args)\n",
        "    attack_results = attacker.attack_dataset()\n",
        "    return attack_results"
      ],
      "metadata": {
        "id": "2Opw9sA3wdJN"
      },
      "execution_count": 263,
      "outputs": []
    },
    {
      "cell_type": "markdown",
      "source": [
        "Doing Attack"
      ],
      "metadata": {
        "id": "Xjn23v2UIbkc"
      }
    },
    {
      "cell_type": "code",
      "source": [
        "train_attack_results = generate_attacks(model_wrapper, train_dataset_to_attack, num_examples=-1)"
      ],
      "metadata": {
        "colab": {
          "base_uri": "https://localhost:8080/"
        },
        "id": "f4-C03fuwxSP",
        "outputId": "80ccb7f1-881c-4a47-de14-ff10de8ecba6"
      },
      "execution_count": 264,
      "outputs": [
        {
          "output_type": "stream",
          "name": "stderr",
          "text": [
            "textattack: Unknown if model of class <class '__main__.BertClassifier'> compatible with goal function <class 'textattack.goal_functions.classification.untargeted_classification.UntargetedClassification'>.\n"
          ]
        },
        {
          "output_type": "stream",
          "name": "stdout",
          "text": [
            "Attack(\n",
            "  (search_method): GreedyWordSwapWIR(\n",
            "    (wir_method):  delete\n",
            "  )\n",
            "  (goal_function):  UntargetedClassification\n",
            "  (transformation):  WordSwapEmbedding(\n",
            "    (max_candidates):  50\n",
            "    (embedding):  WordEmbedding\n",
            "  )\n",
            "  (constraints): \n",
            "    (0): WordEmbeddingDistance(\n",
            "        (embedding):  WordEmbedding\n",
            "        (min_cos_sim):  0.5\n",
            "        (cased):  False\n",
            "        (include_unknown_words):  True\n",
            "        (compare_against_original):  True\n",
            "      )\n",
            "    (1): PartOfSpeech(\n",
            "        (tagger_type):  nltk\n",
            "        (tagset):  universal\n",
            "        (allow_verb_noun_swap):  True\n",
            "        (compare_against_original):  True\n",
            "      )\n",
            "    (2): UniversalSentenceEncoder(\n",
            "        (metric):  angular\n",
            "        (threshold):  0.840845057\n",
            "        (window_size):  15\n",
            "        (skip_text_shorter_than_window):  True\n",
            "        (compare_against_original):  False\n",
            "      )\n",
            "    (3): RepeatModification\n",
            "    (4): StopwordModification\n",
            "    (5): InputColumnModification(\n",
            "        (matching_column_labels):  ['premise', 'hypothesis']\n",
            "        (columns_to_ignore):  {'premise'}\n",
            "      )\n",
            "  (is_black_box):  True\n",
            ") \n",
            "\n"
          ]
        },
        {
          "output_type": "stream",
          "name": "stderr",
          "text": [
            "[Succeeded / Failed / Skipped / Total] 1 / 1 / 0 / 2:   2%|▏         | 2/100 [00:14<12:08,  7.43s/it]"
          ]
        },
        {
          "output_type": "stream",
          "name": "stdout",
          "text": [
            "--------------------------------------------- Result 1 ---------------------------------------------\n",
            "[[1 (98%)]] --> [[[FAILED]]]\n",
            "\n",
            "what the hell!!!! \n",
            "\n",
            "what the hell is your fucking problem? i am going to sue the fucking pants off of you for dicrimination against a minority you mother fucking asshole!!!! i will kill you the next time you try anything. go ahead block my account, i don't give a shit!!!! you really think that Wikipedia is my life? i'm not a no life loser =like you.\n",
            "\n",
            "\n",
            "--------------------------------------------- Result 2 ---------------------------------------------\n",
            "[[1 (94%)]] --> [[0 (81%)]]\n",
            "\n",
            "Faggggggggggggit drew [[likes]] [[penis]]\n",
            "\n",
            "Faggggggggggggit drew [[genus]] [[stroking]]\n",
            "\n",
            "\n"
          ]
        },
        {
          "output_type": "stream",
          "name": "stderr",
          "text": [
            "[Succeeded / Failed / Skipped / Total] 2 / 1 / 0 / 3:   3%|▎         | 3/100 [00:15<08:08,  5.04s/it]"
          ]
        },
        {
          "output_type": "stream",
          "name": "stdout",
          "text": [
            "--------------------------------------------- Result 3 ---------------------------------------------\n",
            "[[1 (81%)]] --> [[0 (50%)]]\n",
            "\n",
            "Vandalism [[spree]]\n",
            "Your vandalism spree is [[pitiful]].  All this, after I supported your motions?  Thanks a lot.\n",
            "\n",
            "Vandalism [[fury]]\n",
            "Your vandalism spree is [[unfortunate]].  All this, after I supported your motions?  Thanks a lot.\n",
            "\n",
            "\n"
          ]
        },
        {
          "output_type": "stream",
          "name": "stderr",
          "text": [
            "[Succeeded / Failed / Skipped / Total] 2 / 2 / 0 / 4:   4%|▍         | 4/100 [01:09<27:58, 17.49s/it]"
          ]
        },
        {
          "output_type": "stream",
          "name": "stdout",
          "text": [
            "--------------------------------------------- Result 4 ---------------------------------------------\n",
            "[[1 (96%)]] --> [[[FAILED]]]\n",
            "\n",
            "YOUR ARE FUCKING GAY WAD!!!!!!!!!!!!!!!!!!!!!!!!!!!!!!!!!!!!!!!!!!!!!!!!!!!!!!!!!!!!!!!!!!!!!!!!!!!!!!!!!!!!!!!!!!!!!!!!!!!!!!!!!!!!!!!!!!!!!!!!!!!!!!!!!!!!!!!!!!!!!!!!!!!!!!!!!!!!!!!!!!!!!!!!!!!!!!!! \n",
            "\n",
            "I fucked your mum. OH WAIT YOUR GAY YOU DONT HAVE A MOM!!! HAHAHAHAHAHAHAHAHAHAHAHAHAHAHAHAHAHAHAHAHAHAHAHAHAHAHAHAHAHAHAHAHAHAHAHAHAHAHAHAHAHAHAHAHAHAHAHAHAHAHAHAHAHAHAHAHAHAHAHAHAHAHAHAHAHAHAHAHAHAHAHAHAHAHAHAHAHAHAHAHAHAHAHAHAHAHAHAHAHAHAHAHAHAHAHAHAHAHAHAHAHAHAHAHAHAHAHAHAHAHAHAHAHAHAHAHAHAHAHAHAHAHAHAHAHAHAHAHAHAHAHAHAHAHAHAHAHAHAHAHAHAHAHAHAHAHAHAHAHAHAHAHAHAHAHAHAHAHAHAHA\n",
            "LOLOLOLOLOLOLOLOLOLOLOLOLOLOLOLOLOLOLOLOLOLOLOLOLOLOLOLOLOLOLOLOLOLOLOLOLOLOLOLOLOLOLOLOLOLOLOLOLOLOLOLOLOLOLOLOLOLOLOLOLOLOLOLOLOLOLOLOLOLOLOLOLOLOLOLOLOLOLOLOLOLOLOLOLOLOLOLOLOLOLOLOLOLOLOLOLOLOLOLOLOLOLOLOLOLOLOLOLOLOLOLOL\n",
            "CUNTCUNTCUNTCUNTCUNTCUNTCUNTCUNTCUNTCUNTCUNTCUNTCUNTCUNTCUNTCUNTCUNTCUNTCUNTCUNTCUNTCUNTCUNTCUNTCUNTCUNTCUNTCUNTCUNTCUNTCUNTCUNTCUNTCUNTCUNTCUNTCUNTCUNTCUNTCUNTCUNTCUNTCUNTCUNTCUNTCUNTI fucked your mum. OH WAIT YOUR GAY YOU DONT HAVE A MOM!!! HAHAHAHAHAHAHAHAHAHAHAHAHAHAHAHAHAHAHAHAHAHAHAHAHAHAHAHAHAHAHAHAHAHAHAHAHAHAHAHAHAHAHAHAHAHAHAHAHAHAHAHAHAHAHAHAHAHAHAHAHAHAHAHAHAHAHAHAHAHAHAHAHAHAHAHAHAHAHAHAHAHAHAHAHAHAHAHAHAHAHAHAHAHAHAHAHAHAHAHAHAHAHAHAHAHAHAHAHAHAHAHAHAHAHAHAHAHAHAHAHAHAHAHAHAHAHAHAHAHAHAHAHAHAHAHAHAHAHAHAHAHAHAHAHAHAHAHAHAHAHAHAHAHAHAHAHAHAHAHAHA\n",
            "LOLOLOLOLOLOLOLOLOLOLOLOLOLOLOLOLOLOLOLOLOLOLOLOLOLOLOLOLOLOLOLOLOLOLOLOLOLOLOLOLOLOLOLOLOLOLOLOLOLOLOLOLOLOLOLOLOLOLOLOLOLOLOLOLOLOLOLOLOLOLOLOLOLOLOLOLOLOLOLOLOLOLOLOLOLOLOLOLOLOLOLOLOLOLOLOLOLOLOLOLOLOLOLOLOLOLOLOLOLOLOLOL\n",
            "CUNTCUNTCUNTCUNTCUNTCUNTCUNTCUNTCUNTCUNTCUNTCUNTCUNTCUNTCUNTCUNTCUNTCUNTCUNTCUNTCUNTCUNTCUNTCUNTCUNTCUNTCUNTCUNTCUNTCUNTCUNTCUNTCUNTCUNTCUNTCUNTCUNTCUNTCUNTCUNTCUNTCUNTCUNTCUNTCUNTCUNTI fucked your mum. OH WAIT YOUR GAY YOU DONT HAVE A MOM!!! HAHAHAHAHAHAHAHAHAHAHAHAHAHAHAHAHAHAHAHAHAHAHAHAHAHAHAHAHAHAHAHAHAHAHAHAHAHAHAHAHAHAHAHAHAHAHAHAHAHAHAHAHAHAHAHAHAHAHAHAHAHAHAHAHAHAHAHAHAHAHAHAHAHAHAHAHAHAHAHAHAHAHAHAHAHAHAHAHAHAHAHAHAHAHAHAHAHAHAHAHAHAHAHAHAHAHAHAHAHAHAHAHAHAHAHAHAHAHAHAHAHAHAHAHAHAHAHAHAHAHAHAHAHAHAHAHAHAHAHAHAHAHAHAHAHAHAHAHAHAHAHAHAHAHAHAHAHAHAHAHA\n",
            "LOLOLOLOLOLOLOLOLOLOLOLOLOLOLOLOLOLOLOLOLOLOLOLOLOLOLOLOLOLOLOLOLOLOLOLOLOLOLOLOLOLOLOLOLOLOLOLOLOLOLOLOLOLOLOLOLOLOLOLOLOLOLOLOLOLOLOLOLOLOLOLOLOLOLOLOLOLOLOLOLOLOLOLOLOLOLOLOLOLOLOLOLOLOLOLOLOLOLOLOLOLOLOLOLOLOLOLOLOLOLOLOL\n",
            "CUNTCUNTCUNTCUNTCUNTCUNTCUNTCUNTCUNTCUNTCUNTCUNTCUNTCUNTCUNTCUNTCUNTCUNTCUNTCUNTCUNTCUNTCUNTCUNTCUNTCUNTCUNTCUNTCUNTCUNTCUNTCUNTCUNTCUNTCUNTCUNTCUNTCUNTCUNTCUNTCUNTCUNTCUNTCUNTCUNTCUNTI fucked your mum. OH WAIT YOUR GAY YOU DONT HAVE A MOM!!! HAHAHAHAHAHAHAHAHAHAHAHAHAHAHAHAHAHAHAHAHAHAHAHAHAHAHAHAHAHAHAHAHAHAHAHAHAHAHAHAHAHAHAHAHAHAHAHAHAHAHAHAHAHAHAHAHAHAHAHAHAHAHAHAHAHAHAHAHAHAHAHAHAHAHAHAHAHAHAHAHAHAHAHAHAHAHAHAHAHAHAHAHAHAHAHAHAHAHAHAHAHAHAHAHAHAHAHAHAHAHAHAHAHAHAHAHAHAHAHAHAHAHAHAHAHAHAHAHAHAHAHAHAHAHAHAHAHAHAHAHAHAHAHAHAHAHAHAHAHAHAHAHAHAHAHAHAHAHAHAHA\n",
            "LOLOLOLOLOLOLOLOLOLOLOLOLOLOLOLOLOLOLOLOLOLOLOLOLOLOLOLOLOLOLOLOLOLOLOLOLOLOLOLOLOLOLOLOLOLOLOLOLOLOLOLOLOLOLOLOLOLOLOLOLOLOLOLOLOLOLOLOLOLOLOLOLOLOLOLOLOLOLOLOLOLOLOLOLOLOLOLOLOLOLOLOLOLOLOLOLOLOLOLOLOLOLOLOLOLOLOLOLOLOLOLOL\n",
            "CUNTCUNTCUNTCUNTCUNTCUNTCUNTCUNTCUNTCUNTCUNTCUNTCUNTCUNTCUNTCUNTCUNTCUNTCUNTCUNTCUNTCUNTCUNTCUNTCUNTCUNTCUNTCUNTCUNTCUNTCUNTCUNTCUNTCUNTCUNTCUNTCUNTCUNTCUNTCUNTCUNTCUNTCUNTCUNTCUNTCUNTI fucked your mum. OH WAIT YOUR GAY YOU DONT HAVE A MOM!!! HAHAHAHAHAHAHAHAHAHAHAHAHAHAHAHAHAHAHAHAHAHAHAHAHAHAHAHAHAHAHAHAHAHAHAHAHAHAHAHAHAHAHAHAHAHAHAHAHAHAHAHAHAHAHAHAHAHAHAHAHAHAHAHAHAHAHAHAHAHAHAHAHAHAHAHAHAHAHAHAHAHAHAHAHAHAHAHAHAHAHAHAHAHAHAHAHAHAHAHAHAHAHAHAHAHAHAHAHAHAHAHAHAHAHAHAHAHAHAHAHAHAHAHAHAHAHAHAHAHAHAHAHAHAHAHAHAHAHAHAHAHAHAHAHAHAHAHAHAHAHAHAHAHAHAHAHAHAHAHAHA\n",
            "LOLOLOLOLOLOLOLOLOLOLOLOLOLOLOLOLOLOLOLOLOLOLOLOLOLOLOLOLOLOLOLOLOLOLOLOLOLOLOLOLOLOLOLOLOLOLOLOLOLOLOLOLOLOLOLOLOLOLOLOLOLOLOLOLOLOLOLOLOLOLOLOLOLOLOLOLOLOLOLOLOLOLOLOLOLOLOLOLOLOLOLOLOLOLOLOLOLOLOLOLOLOLOLOLOLOLOLOLOLOLOLOL\n",
            "CUNTCUNTCUNTCUNTCUNTCUNTCUNTCUNTCUNTCUNTCUNTCUNTCUNTCUNTCUNTCUNTCUNTCUNTCUNTCUNTCUNTCUNTCUNTCUNTCUNTCUNTCUNTCUNTCUNTCUNTCUNTCUNTCUNTCUNTCUNTCUNTCUNTCUNTCUNTCUNTCUNTCUNTCUNTCUNTCUNTCUNTI fucked your mum. OH WAIT YOUR GAY YOU DONT HAVE A MOM!!! HAHAHAHAHAHAHAHAHAHAHAHAHAHAHAHAHAHAHAHAHAHAHAHAHAHAHAHAHAHAHAHAHAHAHAHAHAHAHAHAHAHAHAHAHAHAHAHAHAHAHAHAHAHAHAHAHAHAHAHAHAHAHAHAHAHAHAHAHAHAHAHAHAHAHAHAHAHAHAHAHAHAHAHAHAHAHAHAHAHAHAHAHAHAHAHAHAHAHAHAHAHAHAHAHAHAHAHAHAHAHAHAHAHAHAHAHAHAHAHAHAHAHAHAHAHAHAHAHAHAHAHAHAHAHAHAHAHAHAHAHAHAHAHAHAHAHAHAHAHAHAHAHAHAHAHAHAHAHAHAHA\n",
            "LOLOLOLOLOLOLOLOLOLOLOLOLOLOLOLOLOLOLOLOLOLOLOLOLOLOLOLOLOLOLOLOLOLOLOLOLOLOLOLOLOLOLOLOLOLOLOLOLOLOLOLOLOLOLOLOLOLOLOLOLOLOLOLOLOLOLOLOLOLOLOLOLOLOLOLOLOLOLOLOLOLOLOLOLOLOLOLOLOLOLOLOLOLOLOLOLOLOLOLOLOLOLOLOLOLOLOLOLOLOLOLOL\n",
            "CUNTCUNTCUNTCUNTCUNTCUNTCUNTCUNTCUNTCUNTCUNTCUNTCUNTCUNTCUNTCUNTCUNTCUNTCUNTCUNTCUNTCUNTCUNTCUNTCUNTCUNTCUNTCUNTCUNTCUNTCUNTCU\n",
            "\n",
            "\n"
          ]
        },
        {
          "output_type": "stream",
          "name": "stderr",
          "text": [
            "[Succeeded / Failed / Skipped / Total] 3 / 2 / 0 / 5:   5%|▌         | 5/100 [01:11<22:35, 14.27s/it]"
          ]
        },
        {
          "output_type": "stream",
          "name": "stdout",
          "text": [
            "--------------------------------------------- Result 5 ---------------------------------------------\n",
            "[[1 (95%)]] --> [[0 (58%)]]\n",
            "\n",
            "\"\n",
            "\n",
            " Hey D \n",
            "\n",
            "  Hey D [[Fuck]] you.  I'm not disruptively [[editing]] at all, you're just [[mad]] at me since we have different viewpoints.   \"\n",
            "\n",
            "\"\n",
            "\n",
            " Hey D \n",
            "\n",
            "  Hey D [[Sodding]] you.  I'm not disruptively [[revisions]] at all, you're just [[angered]] at me since we have different viewpoints.   \"\n",
            "\n",
            "\n"
          ]
        },
        {
          "output_type": "stream",
          "name": "stderr",
          "text": [
            "[Succeeded / Failed / Skipped / Total] 3 / 3 / 0 / 6:   6%|▌         | 6/100 [01:13<19:08, 12.21s/it]"
          ]
        },
        {
          "output_type": "stream",
          "name": "stdout",
          "text": [
            "--------------------------------------------- Result 6 ---------------------------------------------\n",
            "[[1 (97%)]] --> [[[FAILED]]]\n",
            "\n",
            "Your harassment of me\n",
            "\n",
            "Cease your wikistalking you little freak.\n",
            "\n",
            "http://en.wikipedia.org/wiki/Wikipedia:Harassment#Wikihounding\n",
            "\n",
            "\n"
          ]
        },
        {
          "output_type": "stream",
          "name": "stderr",
          "text": [
            "[Succeeded / Failed / Skipped / Total] 3 / 4 / 0 / 7:   7%|▋         | 7/100 [01:16<16:56, 10.93s/it]"
          ]
        },
        {
          "output_type": "stream",
          "name": "stdout",
          "text": [
            "--------------------------------------------- Result 7 ---------------------------------------------\n",
            "[[1 (98%)]] --> [[[FAILED]]]\n",
            "\n",
            "you're a dirty faggot \n",
            "\n",
            "lick my hairy nut sack douche bag, i'm gonna edit the shit out of wikipedia and enjoy it so fuk you\n",
            "\n",
            "\n"
          ]
        },
        {
          "output_type": "stream",
          "name": "stderr",
          "text": [
            "[Succeeded / Failed / Skipped / Total] 3 / 5 / 0 / 8:   8%|▊         | 8/100 [01:17<14:46,  9.64s/it]"
          ]
        },
        {
          "output_type": "stream",
          "name": "stdout",
          "text": [
            "--------------------------------------------- Result 8 ---------------------------------------------\n",
            "[[1 (97%)]] --> [[[FAILED]]]\n",
            "\n",
            "fucking loser suck a dick\n",
            "\n",
            "\n"
          ]
        },
        {
          "output_type": "stream",
          "name": "stderr",
          "text": [
            "[Succeeded / Failed / Skipped / Total] 4 / 5 / 0 / 9:   9%|▉         | 9/100 [01:17<13:02,  8.60s/it]"
          ]
        },
        {
          "output_type": "stream",
          "name": "stdout",
          "text": [
            "--------------------------------------------- Result 9 ---------------------------------------------\n",
            "[[1 (84%)]] --> [[0 (61%)]]\n",
            "\n",
            "Why don't you just admit you're an [[imposter]]?\n",
            "\n",
            "Why don't you just admit you're an [[falsify]]?\n",
            "\n",
            "\n"
          ]
        },
        {
          "output_type": "stream",
          "name": "stderr",
          "text": [
            "[Succeeded / Failed / Skipped / Total] 5 / 5 / 0 / 10:  10%|█         | 10/100 [01:18<11:43,  7.82s/it]"
          ]
        },
        {
          "output_type": "stream",
          "name": "stdout",
          "text": [
            "--------------------------------------------- Result 10 ---------------------------------------------\n",
            "[[1 (97%)]] --> [[0 (55%)]]\n",
            "\n",
            "[[Dont]] [[fuck]] with wikipedia admins you [[filthy]] [[jew]]  (tlk) (cntrbtns)\n",
            "\n",
            "[[Prob]] [[gorram]] with wikipedia admins you [[sales]] [[israelis]]  (tlk) (cntrbtns)\n",
            "\n",
            "\n"
          ]
        },
        {
          "output_type": "stream",
          "name": "stderr",
          "text": [
            "[Succeeded / Failed / Skipped / Total] 6 / 5 / 0 / 11:  11%|█         | 11/100 [01:19<10:41,  7.21s/it]"
          ]
        },
        {
          "output_type": "stream",
          "name": "stdout",
          "text": [
            "--------------------------------------------- Result 11 ---------------------------------------------\n",
            "[[1 (90%)]] --> [[0 (57%)]]\n",
            "\n",
            "[[PISS]] [[OFF]] [[HOMO]] \n",
            "\n",
            "[[STOP]] I [[SAY]] [[STOP]] [[IT]]\n",
            "\n",
            "[[CACA]] [[DISCONNECTED]] [[TATA]] \n",
            "\n",
            "[[CESSATION]] I [[MENTION]] [[DETAINING]] [[IL]]\n",
            "\n",
            "\n"
          ]
        },
        {
          "output_type": "stream",
          "name": "stderr",
          "text": [
            "[Succeeded / Failed / Skipped / Total] 7 / 5 / 0 / 12:  12%|█▏        | 12/100 [01:20<09:46,  6.67s/it]"
          ]
        },
        {
          "output_type": "stream",
          "name": "stdout",
          "text": [
            "--------------------------------------------- Result 12 ---------------------------------------------\n",
            "[[1 (88%)]] --> [[0 (52%)]]\n",
            "\n",
            "But he is [[ugly]] and that's a fact. Ugly [[people]] shouldn't put up their image. Are we suppose to lie or tell the truth? I'm telling the truth as you can see. Mam, take it [[easy]].119.73.14.161\n",
            "\n",
            "But he is [[grisly]] and that's a fact. Ugly [[personnel]] shouldn't put up their image. Are we suppose to lie or tell the truth? I'm telling the truth as you can see. Mam, take it [[simplistic]].119.73.14.161\n",
            "\n",
            "\n"
          ]
        },
        {
          "output_type": "stream",
          "name": "stderr",
          "text": [
            "[Succeeded / Failed / Skipped / Total] 8 / 5 / 0 / 13:  13%|█▎        | 13/100 [01:22<09:12,  6.35s/it]"
          ]
        },
        {
          "output_type": "stream",
          "name": "stdout",
          "text": [
            "--------------------------------------------- Result 13 ---------------------------------------------\n",
            "[[1 (77%)]] --> [[0 (52%)]]\n",
            "\n",
            "[[You]] were the one to attack first retard. As for reliable sources it doesn't get more reliable then [[Nobel]] Prize winning economists who CREATED schools of economic thought. Let me put it to you in [[REALLY]] simple terms. Inflation is BAD (been there! done that! especially in the 70's!), Hyperinflation is EVEN WORSE and based on current levels of [[money]] printing by the [[Fed]] it may be [[barking]] at your door in a few years. Go back to the village that spawned you! It misses it's idjit.71.174.141.4\n",
            "\n",
            "[[Thyself]] were the one to attack first retard. As for reliable sources it doesn't get more reliable then [[Noble]] Prize winning economists who CREATED schools of economic thought. Let me put it to you in [[CERTAINLY]] simple terms. Inflation is BAD (been there! done that! especially in the 70's!), Hyperinflation is EVEN WORSE and based on current levels of [[amounts]] printing by the [[Stimulated]] it may be [[barks]] at your door in a few years. Go back to the village that spawned you! It misses it's idjit.71.174.141.4\n",
            "\n",
            "\n"
          ]
        },
        {
          "output_type": "stream",
          "name": "stderr",
          "text": [
            "[Succeeded / Failed / Skipped / Total] 8 / 6 / 1 / 15:  15%|█▌        | 15/100 [01:23<07:54,  5.58s/it]"
          ]
        },
        {
          "output_type": "stream",
          "name": "stdout",
          "text": [
            "--------------------------------------------- Result 14 ---------------------------------------------\n",
            "[[1 (97%)]] --> [[[FAILED]]]\n",
            "\n",
            "Homo... \n",
            "\n",
            "Don't be gay- mind your own fucking business!\n",
            "\n",
            "\n",
            "--------------------------------------------- Result 15 ---------------------------------------------\n",
            "[[0 (97%)]] --> [[[SKIPPED]]]\n",
            "\n",
            "\" I've only taken a cursory look at the article, but it looks like you made a good point - I can only think of a handful of shows to have featured three gay characters in a season, and I'd agree with you that it should definitely be put in that category. Regardless, if you plan on making more edits like this and this, you might find yourself with a block extension. Bbb23's a good administrator, and 3RR's called  \"\"bright-line rule\"\" for a reason. And considering that edit-warring blocks are to get users to cool down, if this is how you responded, it looks like he made the right call. — (Je vous invite à me parler) \n",
            "\n",
            " Buck Winston  \n",
            "\n",
            "Fuck you, I won't do what you tell me\n",
            "\n",
            "Fuck you, I won't do what you tell me\n",
            "\n",
            "Fuck you, I won't do what you tell me\n",
            "\n",
            "Fuck you, I won't do what you tell me\n",
            "\n",
            "Fuck you, I won't do what you tell me\n",
            "\n",
            "Fuck you, I won't do what you tell me\n",
            "\n",
            "Fuck you, I won't do what you tell me\n",
            "\n",
            "Fuck you, I won't do what you tell me\n",
            "\n",
            "Fuck you, I won't do what you tell me\n",
            "\n",
            "Fuck you, I won't do what you tell me\n",
            "\n",
            "Fuck you, I won't do what you tell me\n",
            "\n",
            "Fuck you, I won't do what you tell me\n",
            "\n",
            "Fuck you, I won't do what you tell me\n",
            "\n",
            "Fuck you, I won't do what you tell me\n",
            "\n",
            "Fuck you, I won't do what you tell me\n",
            "\n",
            "Motherfucker\n",
            "\n",
            "Ugh\"\n",
            "\n",
            "\n"
          ]
        },
        {
          "output_type": "stream",
          "name": "stderr",
          "text": [
            "[Succeeded / Failed / Skipped / Total] 9 / 6 / 1 / 16:  16%|█▌        | 16/100 [01:24<07:22,  5.26s/it]"
          ]
        },
        {
          "output_type": "stream",
          "name": "stdout",
          "text": [
            "--------------------------------------------- Result 16 ---------------------------------------------\n",
            "[[1 (57%)]] --> [[0 (58%)]]\n",
            "\n",
            "So you are actually saying the you don't give a **** if [[things]] said on [[Wikipedia]] are true...\n",
            "\n",
            "So you are actually saying the you don't give a **** if [[matters]] said on [[Wiki]] are true...\n",
            "\n",
            "\n"
          ]
        },
        {
          "output_type": "stream",
          "name": "stderr",
          "text": [
            "[Succeeded / Failed / Skipped / Total] 10 / 7 / 2 / 19:  19%|█▉        | 19/100 [01:26<06:08,  4.55s/it]"
          ]
        },
        {
          "output_type": "stream",
          "name": "stdout",
          "text": [
            "--------------------------------------------- Result 17 ---------------------------------------------\n",
            "[[1 (98%)]] --> [[[FAILED]]]\n",
            "\n",
            "YO DUMB ASS THIS IS MY PAGE! LEAVE IT THE FUCK ALONE!\n",
            "\n",
            "\n",
            "--------------------------------------------- Result 18 ---------------------------------------------\n",
            "[[0 (60%)]] --> [[[SKIPPED]]]\n",
            "\n",
            "This is for removing my post on 100% \n",
            "\n",
            "I'm going to DDOS your toaster for this.\n",
            "\n",
            "\n",
            "--------------------------------------------- Result 19 ---------------------------------------------\n",
            "[[1 (70%)]] --> [[0 (74%)]]\n",
            "\n",
            "your grammar is [[retarded]] two\n",
            "\n",
            "your grammar is [[belated]] two\n",
            "\n",
            "\n"
          ]
        },
        {
          "output_type": "stream",
          "name": "stderr",
          "text": [
            "[Succeeded / Failed / Skipped / Total] 11 / 7 / 2 / 20:  20%|██        | 20/100 [01:27<05:51,  4.39s/it]"
          ]
        },
        {
          "output_type": "stream",
          "name": "stdout",
          "text": [
            "--------------------------------------------- Result 20 ---------------------------------------------\n",
            "[[1 (93%)]] --> [[0 (54%)]]\n",
            "\n",
            "What gives you the right to [[control]]/edit [[Wikipedia]]?\n",
            "\n",
            "Qualifications?\n",
            "\n",
            "[[Or]] are you a self-appointed, [[sad]] individual who cannot 'make-it' in the real [[world]] and feels that you must be the 'big guy' on the [[internet]]? [[You]] are the [[epitome]] of what is wrong with [[Wikipedia]].\n",
            "\n",
            "What gives you the right to [[supervising]]/edit [[Wiki]]?\n",
            "\n",
            "Qualifications?\n",
            "\n",
            "[[Umm]] are you a self-appointed, [[somber]] individual who cannot 'make-it' in the real [[monde]] and feels that you must be the 'big guy' on the [[website]]? [[Thyself]] are the [[symbolises]] of what is wrong with [[Wiki]].\n",
            "\n",
            "\n"
          ]
        },
        {
          "output_type": "stream",
          "name": "stderr",
          "text": [
            "[Succeeded / Failed / Skipped / Total] 13 / 7 / 2 / 22:  22%|██▏       | 22/100 [01:37<05:44,  4.41s/it]"
          ]
        },
        {
          "output_type": "stream",
          "name": "stdout",
          "text": [
            "--------------------------------------------- Result 21 ---------------------------------------------\n",
            "[[1 (94%)]] --> [[0 (51%)]]\n",
            "\n",
            "ACCUSATIONS \n",
            "\n",
            "[[You]] sir are an anti-semite.  This is made abundantly effin clear by the [[fact]] that in [[every]] Wikibattle you [[get]] into, you are always on the [[opposing]] [[side]] of Jewish [[interests]].  You're [[really]] [[damn]] [[sick]]! You [[act]] like Joe Sobran is some effin herohe [[has]] [[stated]] that he [[thinks]] [[Jews]] as a [[people]], not as [[supporters]] of [[Israel]], but as a [[people]], are diametrically [[opposed]] to the [[interests]] of the [[US]] as a whole (and this [[need]] to [[be]] removed).  The fact that you deny this is anti-semitism [[makes]] it clear that you are a sick anti-semite.  Shame on you!!!!!!\n",
            "\n",
            "CaliforniaDreamlings\n",
            "\n",
            "ACCUSATIONS \n",
            "\n",
            "[[Thyself]] sir are an anti-semite.  This is made abundantly effin clear by the [[realized]] that in [[each]] Wikibattle you [[reaching]] into, you are always on the [[contrasts]] [[hand]] of Jewish [[interest]].  You're [[surely]] [[doomed]] [[crazy]]! You [[stipulations]] like Joe Sobran is some effin herohe [[enjoys]] [[noted]] that he [[insights]] [[Judaism]] as a [[residents]], not as [[sponsored]] of [[Zionism]], but as a [[resident]], are diametrically [[objects]] to the [[benefit]] of the [[AMERICANA]] as a whole (and this [[requested]] to [[se]] removed).  The fact that you deny this is anti-semitism [[pay]] it clear that you are a sick anti-semite.  Shame on you!!!!!!\n",
            "\n",
            "CaliforniaDreamlings\n",
            "\n",
            "\n",
            "--------------------------------------------- Result 22 ---------------------------------------------\n",
            "[[1 (75%)]] --> [[0 (55%)]]\n",
            "\n",
            ".\n",
            "Sand-nigger, [[referring]] to the fact that they live in the [[desert]]\n",
            "\n",
            ".\n",
            "Sand-nigger, [[detailing]] to the fact that they live in the [[desserts]]\n",
            "\n",
            "\n"
          ]
        },
        {
          "output_type": "stream",
          "name": "stderr",
          "text": [
            "\r[Succeeded / Failed / Skipped / Total] 14 / 7 / 2 / 23:  23%|██▎       | 23/100 [01:38<05:30,  4.30s/it]"
          ]
        },
        {
          "output_type": "stream",
          "name": "stdout",
          "text": [
            "--------------------------------------------- Result 23 ---------------------------------------------\n",
            "[[1 (89%)]] --> [[0 (51%)]]\n",
            "\n",
            "Once again i say you keep your face out of [[stuff]] you [[dont]] know as it stands you no nothing\n",
            "about the nolans i [[do]] and what i say will go edit away but i will remove all your [[crap]] so\n",
            "Why dont you [[take]] you do gooding goodytwo [[shoes]] way and [[play]] on some other [[street]] corner\n",
            "\n",
            "Once again i say you keep your face out of [[anything]] you [[actualy]] know as it stands you no nothing\n",
            "about the nolans i [[making]] and what i say will go edit away but i will remove all your [[caca]] so\n",
            "Why dont you [[assuming]] you do gooding goodytwo [[soled]] way and [[staking]] on some other [[roadway]] corner\n",
            "\n",
            "\n"
          ]
        },
        {
          "output_type": "stream",
          "name": "stderr",
          "text": [
            "[Succeeded / Failed / Skipped / Total] 15 / 7 / 3 / 25:  25%|██▌       | 25/100 [01:39<04:58,  3.98s/it]"
          ]
        },
        {
          "output_type": "stream",
          "name": "stdout",
          "text": [
            "--------------------------------------------- Result 24 ---------------------------------------------\n",
            "[[1 (98%)]] --> [[0 (71%)]]\n",
            "\n",
            "Hello \n",
            "\n",
            "[[Go]] back to your [[own]] [[country]] you british [[fucker]]. 26+6=1. Tiocfaidh ar [[la]]. [[Victory]] to the RIRA.\n",
            "\n",
            "Hello \n",
            "\n",
            "[[Will]] back to your [[individual]] [[states]] you british [[dunce]]. 26+6=1. Tiocfaidh ar [[du]]. [[Victoire]] to the RIRA.\n",
            "\n",
            "\n",
            "--------------------------------------------- Result 25 ---------------------------------------------\n",
            "[[0 (57%)]] --> [[[SKIPPED]]]\n",
            "\n",
            "\"\n",
            "\n",
            "\"\"Keep up the good work of sanatizing this place folk becuase that way it wont smell like a sewerage.\"\"\n",
            "\n",
            "\"\n",
            "\n",
            "\n"
          ]
        },
        {
          "output_type": "stream",
          "name": "stderr",
          "text": [
            "[Succeeded / Failed / Skipped / Total] 16 / 7 / 3 / 26:  26%|██▌       | 26/100 [01:40<04:47,  3.88s/it]"
          ]
        },
        {
          "output_type": "stream",
          "name": "stdout",
          "text": [
            "--------------------------------------------- Result 26 ---------------------------------------------\n",
            "[[1 (96%)]] --> [[0 (50%)]]\n",
            "\n",
            "\"\n",
            "\n",
            " You [[Are]] an [[Awesome]] wikipedian \n",
            "\n",
            "  Some [[shit]] Some droppings of [[filthy]] muck mess to feel you [[better]]. Don't bother myself    [[Summon]] \"\n",
            "\n",
            "\"\n",
            "\n",
            " You [[Constituted]] an [[Outstanding]] wikipedian \n",
            "\n",
            "  Some [[cursed]] Some droppings of [[unpleasant]] muck mess to feel you [[advisable]]. Don't bother myself    [[Convocation]] \"\n",
            "\n",
            "\n"
          ]
        },
        {
          "output_type": "stream",
          "name": "stderr",
          "text": [
            "[Succeeded / Failed / Skipped / Total] 16 / 8 / 3 / 27:  27%|██▋       | 27/100 [02:01<05:29,  4.51s/it]"
          ]
        },
        {
          "output_type": "stream",
          "name": "stdout",
          "text": [
            "--------------------------------------------- Result 27 ---------------------------------------------\n",
            "[[1 (91%)]] --> [[[FAILED]]]\n",
            "\n",
            "MRS SUSAN BRYCE,, WHO TELL  YOU THAN ANGELES CITY HAVE A KILLINGS FIELDS PROVE IT O.K .. WHO ARE U DO THIS IN ANGELES CITY WE KAPAMPANGANG PEOPLE OF ANGELES CITY WE DON'T LIKE U.. U ARE LIAR KNOW THAN ,GO TO ANGELES FIRST BEFORE U MAKE SAME ARTICLE LIKE THIS U KILLING THE PEOPLE OF ANGELES CITY...WHO ARE MRS SUSAN BRYCE????\n",
            "\n",
            "\n"
          ]
        },
        {
          "output_type": "stream",
          "name": "stderr",
          "text": [
            "[Succeeded / Failed / Skipped / Total] 17 / 8 / 3 / 28:  28%|██▊       | 28/100 [02:02<05:13,  4.36s/it]"
          ]
        },
        {
          "output_type": "stream",
          "name": "stdout",
          "text": [
            "--------------------------------------------- Result 28 ---------------------------------------------\n",
            "[[1 (92%)]] --> [[0 (56%)]]\n",
            "\n",
            "Assholes \n",
            "\n",
            "On behalf of all Americans, Canadians, Japanese and other countries who have yet to see it, thank you for spoiling the [[fucking]] movie.\n",
            "\n",
            "Assholes \n",
            "\n",
            "On behalf of all Americans, Canadians, Japanese and other countries who have yet to see it, thank you for spoiling the [[friggin]] movie.\n",
            "\n",
            "\n"
          ]
        },
        {
          "output_type": "stream",
          "name": "stderr",
          "text": [
            "[Succeeded / Failed / Skipped / Total] 18 / 8 / 3 / 29:  29%|██▉       | 29/100 [02:04<05:05,  4.30s/it]"
          ]
        },
        {
          "output_type": "stream",
          "name": "stdout",
          "text": [
            "--------------------------------------------- Result 29 ---------------------------------------------\n",
            "[[1 (97%)]] --> [[0 (57%)]]\n",
            "\n",
            "i'm [[trying]] to [[help]] \n",
            "\n",
            "So [[Fuck]] you soo much you [[fucking]] [[cunt]].\n",
            "I [[shall]] [[hunt]] you down &[[kill]]; you ever [[so]] soly.\n",
            "\n",
            "   عططط\n",
            "\n",
            "i'm [[asking]] to [[assist]] \n",
            "\n",
            "So [[Merde]] you soo much you [[christ]] [[biatch]].\n",
            "I [[must]] [[reaping]] you down &[[matan]]; you ever [[subsequently]] soly.\n",
            "\n",
            "   عططط\n",
            "\n",
            "\n"
          ]
        },
        {
          "output_type": "stream",
          "name": "stderr",
          "text": [
            "[Succeeded / Failed / Skipped / Total] 19 / 8 / 3 / 30:  30%|███       | 30/100 [02:05<04:52,  4.17s/it]"
          ]
        },
        {
          "output_type": "stream",
          "name": "stdout",
          "text": [
            "--------------------------------------------- Result 30 ---------------------------------------------\n",
            "[[1 (96%)]] --> [[0 (69%)]]\n",
            "\n",
            "Please carry on, so everyone can see what an [[ignorant]] [[arse]] you are.  Fatuorum\n",
            "\n",
            "Please carry on, so everyone can see what an [[wishful]] [[thigh]] you are.  Fatuorum\n",
            "\n",
            "\n"
          ]
        },
        {
          "output_type": "stream",
          "name": "stderr",
          "text": [
            "[Succeeded / Failed / Skipped / Total] 20 / 8 / 3 / 31:  31%|███       | 31/100 [02:06<04:40,  4.07s/it]"
          ]
        },
        {
          "output_type": "stream",
          "name": "stdout",
          "text": [
            "--------------------------------------------- Result 31 ---------------------------------------------\n",
            "[[1 (92%)]] --> [[0 (62%)]]\n",
            "\n",
            "yo i [[got]] me a [[gun]] ill [[shoot]] [[u]]\n",
            "\n",
            "yo i [[obtained]] me a [[armament]] ill [[filming]] [[ryu]]\n",
            "\n",
            "\n"
          ]
        },
        {
          "output_type": "stream",
          "name": "stderr",
          "text": [
            "[Succeeded / Failed / Skipped / Total] 21 / 8 / 3 / 32:  32%|███▏      | 32/100 [02:06<04:29,  3.96s/it]"
          ]
        },
        {
          "output_type": "stream",
          "name": "stdout",
          "text": [
            "--------------------------------------------- Result 32 ---------------------------------------------\n",
            "[[1 (95%)]] --> [[0 (59%)]]\n",
            "\n",
            "hey look at this [[shit]] [[vandalism]]! \n",
            "\n",
            "First image on the Web\n",
            "\n",
            "hey look at this [[scheisse]] [[scuttle]]! \n",
            "\n",
            "First image on the Web\n",
            "\n",
            "\n"
          ]
        },
        {
          "output_type": "stream",
          "name": "stderr",
          "text": [
            "[Succeeded / Failed / Skipped / Total] 22 / 8 / 3 / 33:  33%|███▎      | 33/100 [02:07<04:19,  3.87s/it]"
          ]
        },
        {
          "output_type": "stream",
          "name": "stdout",
          "text": [
            "--------------------------------------------- Result 33 ---------------------------------------------\n",
            "[[1 (93%)]] --> [[0 (50%)]]\n",
            "\n",
            "real world, so [[take]] their frustrations out in [[cyber]] space like [[weak]] little [[girls]]\n",
            "\n",
            "real world, so [[assumes]] their frustrations out in [[onscreen]] space like [[delicate]] little [[maiden]]\n",
            "\n",
            "\n"
          ]
        },
        {
          "output_type": "stream",
          "name": "stderr",
          "text": [
            "[Succeeded / Failed / Skipped / Total] 23 / 8 / 3 / 34:  34%|███▍      | 34/100 [02:08<04:09,  3.78s/it]"
          ]
        },
        {
          "output_type": "stream",
          "name": "stdout",
          "text": [
            "--------------------------------------------- Result 34 ---------------------------------------------\n",
            "[[1 (94%)]] --> [[0 (50%)]]\n",
            "\n",
            "[[Nah]]. But as far up your [[ass]] as you are, the sun don't [[shine]] at all, does it? 71.125.130.14\n",
            "\n",
            "[[Not]]. But as far up your [[posterior]] as you are, the sun don't [[shone]] at all, does it? 71.125.130.14\n",
            "\n",
            "\n"
          ]
        },
        {
          "output_type": "stream",
          "name": "stderr",
          "text": [
            "[Succeeded / Failed / Skipped / Total] 24 / 8 / 3 / 35:  35%|███▌      | 35/100 [02:09<04:01,  3.71s/it]"
          ]
        },
        {
          "output_type": "stream",
          "name": "stdout",
          "text": [
            "--------------------------------------------- Result 35 ---------------------------------------------\n",
            "[[1 (97%)]] --> [[0 (59%)]]\n",
            "\n",
            "[[hey]] \n",
            "\n",
            "[[hey]] [[faggot]], are you [[dead]] yet? or are you watching your mom getting [[raped]] by [[filthy]] [[pigs]]? which one is it?\n",
            "\n",
            "[[goodnight]] \n",
            "\n",
            "[[greetings]] [[auntie]], are you [[died]] yet? or are you watching your mom getting [[aggrieved]] by [[salts]] [[cattle]]? which one is it?\n",
            "\n",
            "\n"
          ]
        },
        {
          "output_type": "stream",
          "name": "stderr",
          "text": [
            "[Succeeded / Failed / Skipped / Total] 24 / 9 / 3 / 36:  36%|███▌      | 36/100 [02:11<03:52,  3.64s/it]"
          ]
        },
        {
          "output_type": "stream",
          "name": "stdout",
          "text": [
            "--------------------------------------------- Result 36 ---------------------------------------------\n",
            "[[1 (97%)]] --> [[[FAILED]]]\n",
            "\n",
            ". I am a stupid bitch for blocking this user, but that's just what bitches like me do\n",
            "\n",
            "\n"
          ]
        },
        {
          "output_type": "stream",
          "name": "stderr",
          "text": [
            "[Succeeded / Failed / Skipped / Total] 25 / 9 / 3 / 37:  37%|███▋      | 37/100 [02:11<03:44,  3.56s/it]"
          ]
        },
        {
          "output_type": "stream",
          "name": "stdout",
          "text": [
            "--------------------------------------------- Result 37 ---------------------------------------------\n",
            "[[1 (97%)]] --> [[0 (71%)]]\n",
            "\n",
            "[[Nuisance]] [[piece]] of [[shit]], [[fuck]] off\n",
            "\n",
            "[[Problem]] [[fragment]] of [[scheisse]], [[shafted]] off\n",
            "\n",
            "\n"
          ]
        },
        {
          "output_type": "stream",
          "name": "stderr",
          "text": [
            "[Succeeded / Failed / Skipped / Total] 26 / 9 / 3 / 38:  38%|███▊      | 38/100 [02:13<03:37,  3.51s/it]"
          ]
        },
        {
          "output_type": "stream",
          "name": "stdout",
          "text": [
            "--------------------------------------------- Result 38 ---------------------------------------------\n",
            "[[1 (91%)]] --> [[0 (59%)]]\n",
            "\n",
            "\"\n",
            "\n",
            " Me again, perhaps for the last time \n",
            "\n",
            "I am [[fucking]] furious about Tony1's block earlier today, and the admin cabal's refusal to face up to its [[dishonesty]]. I'm also furiuous that I've been threatened and bullied by admin-kiddies since then because I supported Tony and spoke out against his block.\n",
            "\n",
            "What is the [[fucking]] point in this project? Is it just to give kiddie's something to write on their school applications? \"\"I am an administrator on wikipedia\"\"?   \"\n",
            "\n",
            "\"\n",
            "\n",
            " Me again, perhaps for the last time \n",
            "\n",
            "I am [[accursed]] furious about Tony1's block earlier today, and the admin cabal's refusal to face up to its [[falsification]]. I'm also furiuous that I've been threatened and bullied by admin-kiddies since then because I supported Tony and spoke out against his block.\n",
            "\n",
            "What is the [[sodding]] point in this project? Is it just to give kiddie's something to write on their school applications? \"\"I am an administrator on wikipedia\"\"?   \"\n",
            "\n",
            "\n"
          ]
        },
        {
          "output_type": "stream",
          "name": "stderr",
          "text": [
            "[Succeeded / Failed / Skipped / Total] 26 / 10 / 3 / 39:  39%|███▉      | 39/100 [02:14<03:29,  3.44s/it]"
          ]
        },
        {
          "output_type": "stream",
          "name": "stdout",
          "text": [
            "--------------------------------------------- Result 39 ---------------------------------------------\n",
            "[[1 (97%)]] --> [[[FAILED]]]\n",
            "\n",
            "Why don't you crawl away and die you disgusting pig. Go fuck yourself you saddo\n",
            "\n",
            "\n"
          ]
        },
        {
          "output_type": "stream",
          "name": "stderr",
          "text": [
            "[Succeeded / Failed / Skipped / Total] 26 / 11 / 3 / 40:  40%|████      | 40/100 [02:14<03:22,  3.37s/it]"
          ]
        },
        {
          "output_type": "stream",
          "name": "stdout",
          "text": [
            "--------------------------------------------- Result 40 ---------------------------------------------\n",
            "[[1 (97%)]] --> [[[FAILED]]]\n",
            "\n",
            "Aww, shut the fuck up little whiny bitch\n",
            "\n",
            "\n"
          ]
        },
        {
          "output_type": "stream",
          "name": "stderr",
          "text": [
            "[Succeeded / Failed / Skipped / Total] 27 / 11 / 3 / 41:  41%|████      | 41/100 [02:15<03:15,  3.31s/it]"
          ]
        },
        {
          "output_type": "stream",
          "name": "stdout",
          "text": [
            "--------------------------------------------- Result 41 ---------------------------------------------\n",
            "[[1 (92%)]] --> [[0 (54%)]]\n",
            "\n",
            "My name is Vascoamaral, I am a [[clown]], and I am [[Gay]]. I am an i.d.io.t who like to edit [[wikipedia]] and [[block]] some constructive [[users]]. jojojjo\n",
            "\n",
            "My name is Vascoamaral, I am a [[bozo]], and I am [[Homos]]. I am an i.d.io.t who like to edit [[wiki]] and [[prevented]] some constructive [[patrons]]. jojojjo\n",
            "\n",
            "\n"
          ]
        },
        {
          "output_type": "stream",
          "name": "stderr",
          "text": [
            "[Succeeded / Failed / Skipped / Total] 28 / 11 / 3 / 42:  42%|████▏     | 42/100 [02:20<03:14,  3.35s/it]"
          ]
        },
        {
          "output_type": "stream",
          "name": "stdout",
          "text": [
            "--------------------------------------------- Result 42 ---------------------------------------------\n",
            "[[1 (93%)]] --> [[0 (50%)]]\n",
            "\n",
            "[[Hey]] there you are on google. I [[get]] the [[last]] [[say]]! 'There is 5 senses only!!!!!!! [[Everybody]] [[really]] only [[does]] [[want]] [[immortality]] foreeevvver!!!!!!!!!!!!!!!! Errrrasee that shittttttttt!!!!!!!!!!!!!!!!!!!!!!!!!!!! Stuppidd plato and [[old]] [[shit]] and [[wrong]] [[shit]]!!!!! I'm the [[best]] [[best]] I'b thought all out! You nonesense useless bastard! Go to hell.\n",
            "\n",
            "[[Hello]] there you are on google. I [[obtained]] the [[definitive]] [[explain]]! 'There is 5 senses only!!!!!!! [[Allen]] [[explicitly]] only [[did]] [[intention]] [[eternity]] foreeevvver!!!!!!!!!!!!!!!! Errrrasee that shittttttttt!!!!!!!!!!!!!!!!!!!!!!!!!!!! Stuppidd plato and [[archaic]] [[damn]] and [[irregular]] [[damn]]!!!!! I'm the [[improved]] [[superior]] I'b thought all out! You nonesense useless bastard! Go to hell.\n",
            "\n",
            "\n"
          ]
        },
        {
          "output_type": "stream",
          "name": "stderr",
          "text": [
            "[Succeeded / Failed / Skipped / Total] 28 / 12 / 3 / 43:  43%|████▎     | 43/100 [02:23<03:09,  3.33s/it]"
          ]
        },
        {
          "output_type": "stream",
          "name": "stdout",
          "text": [
            "--------------------------------------------- Result 43 ---------------------------------------------\n",
            "[[1 (98%)]] --> [[[FAILED]]]\n",
            "\n",
            "Dumb ass nigga.  No one cares when your birthday is.  Jag quimby sounds gay as shit.  Your name sounds like you're the son of that mayor from the simpsons.\n",
            "\n",
            "Jaq quimby....nigga you need to change your name to jaq off.\n",
            "\n",
            "\n"
          ]
        },
        {
          "output_type": "stream",
          "name": "stderr",
          "text": [
            "[Succeeded / Failed / Skipped / Total] 30 / 12 / 3 / 45:  45%|████▌     | 45/100 [02:23<02:55,  3.20s/it]"
          ]
        },
        {
          "output_type": "stream",
          "name": "stdout",
          "text": [
            "--------------------------------------------- Result 44 ---------------------------------------------\n",
            "[[1 (87%)]] --> [[0 (61%)]]\n",
            "\n",
            "This page is [[full]] of psuedo-intellectual [[drivel]] \n",
            "\n",
            "Zen [[karma]] my meatspace, genki [[girl]]!\n",
            "\n",
            "This page is [[plenary]] of psuedo-intellectual [[conjecture]] \n",
            "\n",
            "Zen [[mojo]] my meatspace, genki [[missus]]!\n",
            "\n",
            "\n",
            "--------------------------------------------- Result 45 ---------------------------------------------\n",
            "[[1 (85%)]] --> [[0 (51%)]]\n",
            "\n",
            "I'm not new here. I don't know what the [[hell]] you are talking about. Don't talk to me again.\n",
            "\n",
            "I'm not new here. I don't know what the [[bordello]] you are talking about. Don't talk to me again.\n",
            "\n",
            "\n"
          ]
        },
        {
          "output_type": "stream",
          "name": "stderr",
          "text": [
            "[Succeeded / Failed / Skipped / Total] 31 / 12 / 3 / 46:  46%|████▌     | 46/100 [02:24<02:49,  3.14s/it]"
          ]
        },
        {
          "output_type": "stream",
          "name": "stdout",
          "text": [
            "--------------------------------------------- Result 46 ---------------------------------------------\n",
            "[[1 (96%)]] --> [[0 (61%)]]\n",
            "\n",
            "\"\n",
            "\n",
            " [[Shut]] up [[loser]] \n",
            "\n",
            "  Best in Awfulness I [[dont]] [[care]] about you and what you do. Dyou know how to MYOB? Oh! It's mind your [[own]] business!   \"\n",
            "\n",
            "\"\n",
            "\n",
            " [[Concludes]] up [[looses]] \n",
            "\n",
            "  Best in Awfulness I [[suprised]] [[considerate]] about you and what you do. Dyou know how to MYOB? Oh! It's mind your [[individual]] business!   \"\n",
            "\n",
            "\n"
          ]
        },
        {
          "output_type": "stream",
          "name": "stderr",
          "text": [
            "[Succeeded / Failed / Skipped / Total] 32 / 12 / 3 / 47:  47%|████▋     | 47/100 [02:24<02:43,  3.08s/it]"
          ]
        },
        {
          "output_type": "stream",
          "name": "stdout",
          "text": [
            "--------------------------------------------- Result 47 ---------------------------------------------\n",
            "[[1 (98%)]] --> [[0 (65%)]]\n",
            "\n",
            "[[Bingo]]. Now [[fuck]] off and take your [[stinks]] with you (hopefully).\n",
            "\n",
            "[[Keno]]. Now [[jesus]] off and take your [[aromas]] with you (hopefully).\n",
            "\n",
            "\n"
          ]
        },
        {
          "output_type": "stream",
          "name": "stderr",
          "text": [
            "[Succeeded / Failed / Skipped / Total] 33 / 12 / 3 / 48:  48%|████▊     | 48/100 [02:26<02:38,  3.05s/it]"
          ]
        },
        {
          "output_type": "stream",
          "name": "stdout",
          "text": [
            "--------------------------------------------- Result 48 ---------------------------------------------\n",
            "[[1 (95%)]] --> [[0 (56%)]]\n",
            "\n",
            "Advice \n",
            "[[Stop]] with your [[foul]] [[language]].  [[You]] are a [[despicable]] [[human]] being who deserves no place in society.  [[People]] are [[precious]] and preciousness [[comes]] from people.  The only [[thing]] that [[comes]] from you is diahoreea   164.39.151.107\n",
            "\n",
            "Advice \n",
            "[[Interrupt]] with your [[reprehensible]] [[formulation]].  [[Thyself]] are a [[reprehensible]] [[humanitarian]] being who deserves no place in society.  [[Public]] are [[helpful]] and preciousness [[arriving]] from people.  The only [[question]] that [[arrives]] from you is diahoreea   164.39.151.107\n",
            "\n",
            "\n"
          ]
        },
        {
          "output_type": "stream",
          "name": "stderr",
          "text": [
            "[Succeeded / Failed / Skipped / Total] 33 / 13 / 3 / 49:  49%|████▉     | 49/100 [02:26<02:32,  2.99s/it]"
          ]
        },
        {
          "output_type": "stream",
          "name": "stdout",
          "text": [
            "--------------------------------------------- Result 49 ---------------------------------------------\n",
            "[[1 (97%)]] --> [[[FAILED]]]\n",
            "\n",
            "fok you \n",
            "\n",
            "YOU SUK BITSH FOCK YOU\n",
            "\n",
            "\n"
          ]
        },
        {
          "output_type": "stream",
          "name": "stderr",
          "text": [
            "[Succeeded / Failed / Skipped / Total] 34 / 13 / 3 / 50:  50%|█████     | 50/100 [02:27<02:27,  2.94s/it]"
          ]
        },
        {
          "output_type": "stream",
          "name": "stdout",
          "text": [
            "--------------------------------------------- Result 50 ---------------------------------------------\n",
            "[[1 (97%)]] --> [[0 (54%)]]\n",
            "\n",
            "I think your being a bit hard \n",
            "\n",
            "So your anti vandal, great.  So your not [[going]] to do anthing where it say's the Kilwinning Ranger have won the champions leauge and [[Uefa]] [[cup]]. You are a bit of a [[dick]]\n",
            "\n",
            "I think your being a bit hard \n",
            "\n",
            "So your anti vandal, great.  So your not [[left]] to do anthing where it say's the Kilwinning Ranger have won the champions leauge and [[Galatasaray]] [[championships]]. You are a bit of a [[queued]]\n",
            "\n",
            "\n"
          ]
        },
        {
          "output_type": "stream",
          "name": "stderr",
          "text": [
            "[Succeeded / Failed / Skipped / Total] 35 / 13 / 3 / 51:  51%|█████     | 51/100 [02:27<02:21,  2.89s/it]"
          ]
        },
        {
          "output_type": "stream",
          "name": "stdout",
          "text": [
            "--------------------------------------------- Result 51 ---------------------------------------------\n",
            "[[1 (86%)]] --> [[0 (50%)]]\n",
            "\n",
            "\"\n",
            "Personally, glad Lynn Margulis is [[fucking]] dead.  What a waste of real intelligence.  As for being a notorious evolutionary biologist, sure, why not.  But is this article a list of evolutionary biologists?  It shouldn't be.  But if it is, there is no more famous evolutionary biologist today than Dawkins.  You say evolution, anyone would say Dawkins (right after Darwin). Talk• Contributions \"\n",
            "\n",
            "\"\n",
            "Personally, glad Lynn Margulis is [[damn]] dead.  What a waste of real intelligence.  As for being a notorious evolutionary biologist, sure, why not.  But is this article a list of evolutionary biologists?  It shouldn't be.  But if it is, there is no more famous evolutionary biologist today than Dawkins.  You say evolution, anyone would say Dawkins (right after Darwin). Talk• Contributions \"\n",
            "\n",
            "\n"
          ]
        },
        {
          "output_type": "stream",
          "name": "stderr",
          "text": [
            "[Succeeded / Failed / Skipped / Total] 36 / 13 / 3 / 52:  52%|█████▏    | 52/100 [02:27<02:16,  2.85s/it]"
          ]
        },
        {
          "output_type": "stream",
          "name": "stdout",
          "text": [
            "--------------------------------------------- Result 52 ---------------------------------------------\n",
            "[[1 (85%)]] --> [[0 (50%)]]\n",
            "\n",
            "[[GO]] [[SIT]] ON A LIVE [[GRENADE]].\n",
            "\n",
            "[[VOLITION]] [[ASSIS]] ON A LIVE [[GRENADA]].\n",
            "\n",
            "\n"
          ]
        },
        {
          "output_type": "stream",
          "name": "stderr",
          "text": [
            "[Succeeded / Failed / Skipped / Total] 37 / 13 / 3 / 53:  53%|█████▎    | 53/100 [02:29<02:12,  2.81s/it]"
          ]
        },
        {
          "output_type": "stream",
          "name": "stdout",
          "text": [
            "--------------------------------------------- Result 53 ---------------------------------------------\n",
            "[[1 (62%)]] --> [[0 (51%)]]\n",
            "\n",
            "\"\n",
            "If a group of Christians [[kill]] a Hindu, do you think it matters if Hindus are majority in the state? Don't think you are propagating the lie that only \"\"majority kills minority\"\"? No! Only \"\"local majority\"\" kills \"\"local minority\"\". If you want to somehow show that [[terrorism]]/separation movement is not religious in nature, then you might as well show me data about how some planets are changing my future, or that evolution is wrong.talk \"\n",
            "\n",
            "\"\n",
            "If a group of Christians [[kills]] a Hindu, do you think it matters if Hindus are majority in the state? Don't think you are propagating the lie that only \"\"majority kills minority\"\"? No! Only \"\"local majority\"\" kills \"\"local minority\"\". If you want to somehow show that [[counterterrorism]]/separation movement is not religious in nature, then you might as well show me data about how some planets are changing my future, or that evolution is wrong.talk \"\n",
            "\n",
            "\n"
          ]
        },
        {
          "output_type": "stream",
          "name": "stderr",
          "text": [
            "[Succeeded / Failed / Skipped / Total] 38 / 13 / 3 / 54:  54%|█████▍    | 54/100 [02:32<02:10,  2.83s/it]"
          ]
        },
        {
          "output_type": "stream",
          "name": "stdout",
          "text": [
            "--------------------------------------------- Result 54 ---------------------------------------------\n",
            "[[1 (95%)]] --> [[0 (50%)]]\n",
            "\n",
            ", 20 [[July]] 2012 (UTC)\n",
            " [[You]] are a bully, a [[liar]], a [[fraud]]. [[You]] [[have]] [[caused]] me to [[be]] [[blocked]] for reasons you [[have]] [[made]] up, and you [[damn]] [[well]] [[know]] it. I [[will]] [[remember]] that.   11:51\n",
            "\n",
            ", 20 [[Janvier]] 2012 (UTC)\n",
            " [[Thyself]] are a bully, a [[falsified]], a [[deception]]. [[Thyself]] [[be]] [[incurred]] me to [[represent]] [[blocking]] for reasons you [[possess]] [[incurred]] up, and you [[accursed]] [[sufficiently]] [[recognize]] it. I [[intention]] [[rember]] that.   11:51\n",
            "\n",
            "\n"
          ]
        },
        {
          "output_type": "stream",
          "name": "stderr",
          "text": [
            "[Succeeded / Failed / Skipped / Total] 39 / 13 / 3 / 55:  55%|█████▌    | 55/100 [02:32<02:05,  2.78s/it]"
          ]
        },
        {
          "output_type": "stream",
          "name": "stdout",
          "text": [
            "--------------------------------------------- Result 55 ---------------------------------------------\n",
            "[[1 (97%)]] --> [[0 (53%)]]\n",
            "\n",
            "Lucasbfr: your [[mother]] is a [[cock]] [[slut]]\n",
            "\n",
            "Lucasbfr: your [[ammi]] is a [[queues]] [[temptress]]\n",
            "\n",
            "\n"
          ]
        },
        {
          "output_type": "stream",
          "name": "stderr",
          "text": [
            "[Succeeded / Failed / Skipped / Total] 40 / 13 / 3 / 56:  56%|█████▌    | 56/100 [02:33<02:00,  2.75s/it]"
          ]
        },
        {
          "output_type": "stream",
          "name": "stdout",
          "text": [
            "--------------------------------------------- Result 56 ---------------------------------------------\n",
            "[[1 (93%)]] --> [[0 (50%)]]\n",
            "\n",
            "I believe that you should include in your discussion of I-95 the fact that only [[gays]] enjoy studying/discussing it.  Real men prefer to talk about things like [[titties]] and [[butt]] sex, but the latter only in a [[negative]] way 'cause its for [[fags]].\n",
            "\n",
            "I believe that you should include in your discussion of I-95 the fact that only [[heterosexuals]] enjoy studying/discussing it.  Real men prefer to talk about things like [[bosoms]] and [[derriere]] sex, but the latter only in a [[adverse]] way 'cause its for [[gays]].\n",
            "\n",
            "\n"
          ]
        },
        {
          "output_type": "stream",
          "name": "stderr",
          "text": [
            "[Succeeded / Failed / Skipped / Total] 41 / 13 / 3 / 57:  57%|█████▋    | 57/100 [02:43<02:03,  2.87s/it]"
          ]
        },
        {
          "output_type": "stream",
          "name": "stdout",
          "text": [
            "--------------------------------------------- Result 57 ---------------------------------------------\n",
            "[[1 (94%)]] --> [[0 (50%)]]\n",
            "\n",
            "\" \n",
            "\n",
            "just look at what this fucktard \"\"\"\"[[Future]] Perfect at Sunrise\"\"\"\" [[gave]] me as a [[reason]]\n",
            "he said [[I]] was [[banned]]\n",
            "persistent disruptive [[editing]]: move-warring, copy-and-paste moves, [[personal]] attacks, tendentious editing\n",
            "\n",
            "\"\"personal [[attacks]]\"\" and who the [[fuck]] done a [[personal]] [[attack]]? I've never [[made]] a [[personal]] [[attack]] on here. and I [[have]] been in here for [[nearly]] 5 [[years]] and [[I]] only bash on u cause u [[son]] of [[bitch]] blocked me for no [[reason]]. \n",
            "\"\" tendentious [[editing]]\"\" is totally a false accusation. \n",
            "now fuck off \"\"Future Perfect at Sunrise\"\" and ur henchman.\n",
            "\"\n",
            "\n",
            "\" \n",
            "\n",
            "just look at what this fucktard \"\"\"\"[[Next]] Perfect at Sunrise\"\"\"\" [[tendered]] me as a [[logic]]\n",
            "he said [[me]] was [[prevents]]\n",
            "persistent disruptive [[revision]]: move-warring, copy-and-paste moves, [[individual]] attacks, tendentious editing\n",
            "\n",
            "\"\"personal [[foray]]\"\" and who the [[shafted]] done a [[customized]] [[incursion]]? I've never [[realized]] a [[customized]] [[bombardment]] on here. and I [[received]] been in here for [[closely]] 5 [[yr]] and [[me]] only bash on u cause u [[yarns]] of [[biatch]] blocked me for no [[motifs]]. \n",
            "\"\" tendentious [[revised]]\"\" is totally a false accusation. \n",
            "now fuck off \"\"Future Perfect at Sunrise\"\" and ur henchman.\n",
            "\"\n",
            "\n",
            "\n"
          ]
        },
        {
          "output_type": "stream",
          "name": "stderr",
          "text": [
            "[Succeeded / Failed / Skipped / Total] 42 / 13 / 3 / 58:  58%|█████▊    | 58/100 [02:44<01:58,  2.83s/it]"
          ]
        },
        {
          "output_type": "stream",
          "name": "stdout",
          "text": [
            "--------------------------------------------- Result 58 ---------------------------------------------\n",
            "[[1 (94%)]] --> [[0 (81%)]]\n",
            "\n",
            "and you [[go]] to [[hell]]! 201.215.34.134\n",
            "\n",
            "and you [[proceed]] to [[heii]]! 201.215.34.134\n",
            "\n",
            "\n"
          ]
        },
        {
          "output_type": "stream",
          "name": "stderr",
          "text": [
            "[Succeeded / Failed / Skipped / Total] 43 / 13 / 3 / 59:  59%|█████▉    | 59/100 [02:45<01:54,  2.80s/it]"
          ]
        },
        {
          "output_type": "stream",
          "name": "stdout",
          "text": [
            "--------------------------------------------- Result 59 ---------------------------------------------\n",
            "[[1 (63%)]] --> [[0 (55%)]]\n",
            "\n",
            "Your not a scholar and you should be banned for [[hostility]] towards other users.\n",
            "\n",
            "Your not a scholar and you should be banned for [[competitor]] towards other users.\n",
            "\n",
            "\n"
          ]
        },
        {
          "output_type": "stream",
          "name": "stderr",
          "text": [
            "[Succeeded / Failed / Skipped / Total] 43 / 14 / 3 / 60:  60%|██████    | 60/100 [02:49<01:53,  2.83s/it]"
          ]
        },
        {
          "output_type": "stream",
          "name": "stdout",
          "text": [
            "--------------------------------------------- Result 60 ---------------------------------------------\n",
            "[[1 (97%)]] --> [[[FAILED]]]\n",
            "\n",
            "goof goof goof goof goof goof save that in ur database douche bag\n",
            "\n",
            "\n"
          ]
        },
        {
          "output_type": "stream",
          "name": "stderr",
          "text": [
            "[Succeeded / Failed / Skipped / Total] 44 / 14 / 3 / 61:  61%|██████    | 61/100 [02:50<01:48,  2.79s/it]"
          ]
        },
        {
          "output_type": "stream",
          "name": "stdout",
          "text": [
            "--------------------------------------------- Result 61 ---------------------------------------------\n",
            "[[1 (88%)]] --> [[0 (68%)]]\n",
            "\n",
            "Look, dothead... \n",
            "\n",
            "This is a white man's encyclopedia. Stop [[messing]] with my edits.\n",
            "\n",
            "Look, dothead... \n",
            "\n",
            "This is a white man's encyclopedia. Stop [[ofcourse]] with my edits.\n",
            "\n",
            "\n"
          ]
        },
        {
          "output_type": "stream",
          "name": "stderr",
          "text": [
            "[Succeeded / Failed / Skipped / Total] 45 / 14 / 3 / 62:  62%|██████▏   | 62/100 [02:51<01:44,  2.76s/it]"
          ]
        },
        {
          "output_type": "stream",
          "name": "stdout",
          "text": [
            "--------------------------------------------- Result 62 ---------------------------------------------\n",
            "[[1 (57%)]] --> [[0 (69%)]]\n",
            "\n",
            "\"\n",
            " That fact that you place nice text in my discuss page, does not make your argument any stronger. In fact, you have NO argument at all. You are either [[arrogant]] or ignorant or both, and you have achieved nothing. Exactly, what IS your contribution?  \"\n",
            "\n",
            "\"\n",
            " That fact that you place nice text in my discuss page, does not make your argument any stronger. In fact, you have NO argument at all. You are either [[boastful]] or ignorant or both, and you have achieved nothing. Exactly, what IS your contribution?  \"\n",
            "\n",
            "\n"
          ]
        },
        {
          "output_type": "stream",
          "name": "stderr",
          "text": [
            "[Succeeded / Failed / Skipped / Total] 46 / 14 / 3 / 63:  63%|██████▎   | 63/100 [02:54<01:42,  2.78s/it]"
          ]
        },
        {
          "output_type": "stream",
          "name": "stdout",
          "text": [
            "--------------------------------------------- Result 63 ---------------------------------------------\n",
            "[[1 (96%)]] --> [[0 (51%)]]\n",
            "\n",
            "Hey [[idiot]]. I'm simply verifying the [[TRUTH]]. Mobile17 was [[NOT]] the first to have a ringtone maker [[online]].. Brinked was. Do some [[fucking]] [[research]] before you [[remove]] my [[shit]]. Tired of you [[assholes]] removing my hard work I'm putting into making wikipedia a relevant page.\n",
            "\n",
            "Hey [[dunce]]. I'm simply verifying the [[REALLY]]. Mobile17 was [[NADA]] the first to have a ringtone maker [[lnternet]].. Brinked was. Do some [[damned]] [[explored]] before you [[clears]] my [[scheisse]]. Tired of you [[putz]] removing my hard work I'm putting into making wikipedia a relevant page.\n",
            "\n",
            "\n"
          ]
        },
        {
          "output_type": "stream",
          "name": "stderr",
          "text": [
            "[Succeeded / Failed / Skipped / Total] 46 / 15 / 3 / 64:  65%|██████▌   | 65/100 [02:56<01:34,  2.71s/it]"
          ]
        },
        {
          "output_type": "stream",
          "name": "stdout",
          "text": [
            "--------------------------------------------- Result 64 ---------------------------------------------\n",
            "[[1 (98%)]] --> [[[FAILED]]]\n",
            "\n",
            "Prick \n",
            "\n",
            "Hey Ryan, Fuck you faggot, how do you like those apples bitch?\n",
            "\n",
            "\n",
            "--------------------------------------------- Result 65 ---------------------------------------------\n",
            "[[1 (94%)]] --> [[0 (80%)]]\n",
            "\n",
            "decline=I don't [[fucking]] think so - 81.154.183.54\n",
            "\n",
            "decline=I don't [[kissed]] think so - 81.154.183.54"
          ]
        },
        {
          "output_type": "stream",
          "name": "stderr",
          "text": [
            "\r[Succeeded / Failed / Skipped / Total] 47 / 15 / 3 / 65:  65%|██████▌   | 65/100 [02:56<01:34,  2.71s/it]"
          ]
        },
        {
          "output_type": "stream",
          "name": "stdout",
          "text": [
            "\n",
            "\n",
            "\n"
          ]
        },
        {
          "output_type": "stream",
          "name": "stderr",
          "text": [
            "[Succeeded / Failed / Skipped / Total] 48 / 15 / 4 / 67:  67%|██████▋   | 67/100 [03:08<01:32,  2.82s/it]"
          ]
        },
        {
          "output_type": "stream",
          "name": "stdout",
          "text": [
            "--------------------------------------------- Result 66 ---------------------------------------------\n",
            "[[1 (86%)]] --> [[0 (50%)]]\n",
            "\n",
            "\"\n",
            "\n",
            " NYC is [[NOT]] the \"\"center\"\" of the Puerto Rican American community !!! \n",
            "\n",
            "On [[EVERY]] page regarding Puerto [[Ricans]], you make it seem like [[New]] York is the [[epicenter]] for Puerto [[Ricans]] across the world. I have news for you buddy: IT IS [[NOT]]! Period\n",
            "[[Stop]] [[making]] it seem like newyork is the glorious wonderful capital for alll Boricuas worldwide, f*ck new [[york]]. [[Cuz]] obviously we [[dont]] like that [[city]] no more, [[alot]] more Puerto [[Ricans]] moving to Orlando, Tampa, [[Philly]], and even Boston, from both Puerto Rico AND New York. NY has a declining [[PR]] population, who tf wants to go there, the ones who are there are leaving in droves.\"\n",
            "\n",
            "\"\n",
            "\n",
            " NYC is [[NADA]] the \"\"center\"\" of the Puerto Rican American community !!! \n",
            "\n",
            "On [[AII]] page regarding Puerto [[Seaport]], you make it seem like [[Novel]] York is the [[coeur]] for Puerto [[Nicaraguan]] across the world. I have news for you buddy: IT IS [[INGA]]! Period\n",
            "[[End]] [[produce]] it seem like newyork is the glorious wonderful capital for alll Boricuas worldwide, f*ck new [[westchester]]. [[Wut]] obviously we [[allways]] like that [[municipalities]] no more, [[afar]] more Puerto [[Argentinians]] moving to Orlando, Tampa, [[Baltimore]], and even Boston, from both Puerto Rico AND New York. NY has a declining [[DOKTOR]] population, who tf wants to go there, the ones who are there are leaving in droves.\"\n",
            "\n",
            "\n",
            "--------------------------------------------- Result 67 ---------------------------------------------\n",
            "[[0 (65%)]] --> [[[SKIPPED]]]\n",
            "\n",
            "I could care less whether you're acting in good faith or not...the fact of the matter is that both you and Rubin are incompetent.\n",
            "\n",
            "\n"
          ]
        },
        {
          "output_type": "stream",
          "name": "stderr",
          "text": [
            "[Succeeded / Failed / Skipped / Total] 49 / 15 / 4 / 68:  68%|██████▊   | 68/100 [03:11<01:30,  2.82s/it]"
          ]
        },
        {
          "output_type": "stream",
          "name": "stdout",
          "text": [
            "--------------------------------------------- Result 68 ---------------------------------------------\n",
            "[[1 (98%)]] --> [[0 (51%)]]\n",
            "\n",
            "kafziel, [[get]] a [[life]] and [[stop]] [[working]] for these [[idiots]], if you [[know]] whats good for you, cause the whole [[damn]] company will [[burn]] down if this continues! i will not be visiting your peice of [[shit]] website any more, and i will be telling all 100 people i know not to either! your goin down [[fuckin]] [[jerk]] [[offs]]!!!!!!!!!\n",
            "\n",
            "kafziel, [[obtains]] a [[residing]] and [[interruption]] [[collaborator]] for these [[dolt]], if you [[understand]] whats good for you, cause the whole [[merde]] company will [[ardour]] down if this continues! i will not be visiting your peice of [[scheisse]] website any more, and i will be telling all 100 people i know not to either! your goin down [[merde]] [[cretin]] [[fais]]!!!!!!!!!\n",
            "\n",
            "\n"
          ]
        },
        {
          "output_type": "stream",
          "name": "stderr",
          "text": [
            "[Succeeded / Failed / Skipped / Total] 51 / 15 / 4 / 70:  70%|███████   | 70/100 [03:17<01:24,  2.82s/it]"
          ]
        },
        {
          "output_type": "stream",
          "name": "stdout",
          "text": [
            "--------------------------------------------- Result 69 ---------------------------------------------\n",
            "[[1 (97%)]] --> [[0 (51%)]]\n",
            "\n",
            "\"\n",
            "\n",
            " Hi, [[Pompous]] [[Ass]]!  ;) \n",
            "\n",
            "I know you think you're some [[kind]] of poker authority on [[Wikipedia]], and that it's somehow your perogative to give the Imperial final thumbs up or thumbs down on what's acceptable regarding anything to do with poker here, but guess what? That's not the case. You are one of [[MANY]] [[arrogant]], conceited, self-absorbed [[losers]] that [[populate]] [[Wikipedia]] who use this [[site]] as some sort of self-esteem builder, because here you can act like a \"\"big man\"\", and make unilateral decisions on what's acceptable or unacceptable here.\n",
            "\n",
            "The edits I have made (and will continue to make) on the Jack Straus entry regarding his death doesn't violate policy in ANY way. If I had the time or the inclination, I could spend several months quoting entries and instances on Wikipedia where editorial verbiage is used. You are simply a pompous ass who thinks you are the gatekeeper of anything poker-related on Wikipedia. You are not, and you will not censor me. And as I'm sure you've already realized, my ISP address constantly changes, so you won’t be able to block me, either.\n",
            "\n",
            "So piss off. ;)  —Preceding unsigned comment added by 68.239.34.22   \"\n",
            "\n",
            "\"\n",
            "\n",
            " Hi, [[Influential]] [[Posterior]]!  ;) \n",
            "\n",
            "I know you think you're some [[categorize]] of poker authority on [[Wiki]], and that it's somehow your perogative to give the Imperial final thumbs up or thumbs down on what's acceptable regarding anything to do with poker here, but guess what? That's not the case. You are one of [[UNTOLD]] [[presumptuous]], conceited, self-absorbed [[bells]] that [[completing]] [[Wiki]] who use this [[placements]] as some sort of self-esteem builder, because here you can act like a \"\"big man\"\", and make unilateral decisions on what's acceptable or unacceptable here.\n",
            "\n",
            "The edits I have made (and will continue to make) on the Jack Straus entry regarding his death doesn't violate policy in ANY way. If I had the time or the inclination, I could spend several months quoting entries and instances on Wikipedia where editorial verbiage is used. You are simply a pompous ass who thinks you are the gatekeeper of anything poker-related on Wikipedia. You are not, and you will not censor me. And as I'm sure you've already realized, my ISP address constantly changes, so you won’t be able to block me, either.\n",
            "\n",
            "So piss off. ;)  —Preceding unsigned comment added by 68.239.34.22   \"\n",
            "\n",
            "\n",
            "--------------------------------------------- Result 70 ---------------------------------------------\n",
            "[[1 (90%)]] --> [[0 (63%)]]\n",
            "\n",
            "guess what ==\n",
            "\n",
            "your [[retarded]]\n",
            "\n",
            "==\n",
            "\n",
            "guess what ==\n",
            "\n",
            "your [[delay]]\n",
            "\n",
            "==\n",
            "\n",
            "\n"
          ]
        },
        {
          "output_type": "stream",
          "name": "stderr",
          "text": [
            "[Succeeded / Failed / Skipped / Total] 53 / 15 / 4 / 72:  72%|███████▏  | 72/100 [03:17<01:16,  2.75s/it]"
          ]
        },
        {
          "output_type": "stream",
          "name": "stdout",
          "text": [
            "--------------------------------------------- Result 71 ---------------------------------------------\n",
            "[[1 (86%)]] --> [[0 (65%)]]\n",
            "\n",
            "regarding threats \n",
            "\n",
            "is not revert of person's edits, only unwarranted edit by bot. appeal has been made to bot but presumption of guilt on part of administrative base is sign of censorship so made edits again to see if reversion would occur second time. has not. please keep baseless threats to [[self]], [[vulgar]] pedant.\n",
            "\n",
            "regarding threats \n",
            "\n",
            "is not revert of person's edits, only unwarranted edit by bot. appeal has been made to bot but presumption of guilt on part of administrative base is sign of censorship so made edits again to see if reversion would occur second time. has not. please keep baseless threats to [[automated]], [[ruda]] pedant.\n",
            "\n",
            "\n",
            "--------------------------------------------- Result 72 ---------------------------------------------\n",
            "[[1 (85%)]] --> [[0 (58%)]]\n",
            "\n",
            "Yeah it was me. Happy now? [[Assholes]].\n",
            "\n",
            "Yeah it was me. Happy now? [[Morons]].\n",
            "\n",
            "\n"
          ]
        },
        {
          "output_type": "stream",
          "name": "stderr",
          "text": [
            "\r[Succeeded / Failed / Skipped / Total] 53 / 16 / 4 / 73:  73%|███████▎  | 73/100 [03:25<01:16,  2.82s/it]"
          ]
        },
        {
          "output_type": "stream",
          "name": "stdout",
          "text": [
            "--------------------------------------------- Result 73 ---------------------------------------------\n",
            "[[1 (97%)]] --> [[[FAILED]]]\n",
            "\n",
            "you sound an utterly nasty bully you are not a cat you are petty hitler as simple as that, you have banned from eding live in real world hopw is banning me going to make me calm down you little hitler bully, i will find out who you are and see if i can get you on any petty law infringements and then how you like the little hitler treatment. you bully.\n",
            "\n",
            "\n"
          ]
        },
        {
          "output_type": "stream",
          "name": "stderr",
          "text": [
            "[Succeeded / Failed / Skipped / Total] 53 / 17 / 4 / 74:  74%|███████▍  | 74/100 [03:28<01:13,  2.82s/it]"
          ]
        },
        {
          "output_type": "stream",
          "name": "stdout",
          "text": [
            "--------------------------------------------- Result 74 ---------------------------------------------\n",
            "[[1 (97%)]] --> [[[FAILED]]]\n",
            "\n",
            "NOT REAL \n",
            "\n",
            "THIS GLOBAL WARMING YOU NON GOD FEARING DEMOCRATS TALK ABOUT IS FAKE! - PRESIDENT GEORGE WALKER BUSH\n",
            "\n",
            "\n"
          ]
        },
        {
          "output_type": "stream",
          "name": "stderr",
          "text": [
            "  0%|          | 0/1000 [10:10<?, ?it/s]\n",
            "[Succeeded / Failed / Skipped / Total] 53 / 18 / 4 / 75:  75%|███████▌  | 75/100 [04:20<01:26,  3.48s/it]"
          ]
        },
        {
          "output_type": "stream",
          "name": "stdout",
          "text": [
            "--------------------------------------------- Result 75 ---------------------------------------------\n",
            "[[1 (87%)]] --> [[[FAILED]]]\n",
            "\n",
            "MARC MYSTERIO \n",
            "\n",
            "HI,\n",
            "\n",
            "THIS KWW EDITOR APPEARS TO BE ATTACKING MARC MYSTERIO, HIS ARTICLES, AND SONGS FOR NO REASON...\n",
            "\n",
            "THE CHARTS NOTED ARE NOTABLE AND INCLUDED ACROSS WIKI...\n",
            "\n",
            "THE LET LOOSE SONG ARTICLE WAS JUST DELETED, AND WITHOUT JUST CAUSE...\n",
            "\n",
            "IT LEGITAMATELY CHARTED IN UKRAINE... HOWEVER, THESE BOZOS THAT KNOW NOTHING OF MUSIC BUSINESS WANT TO STIR SHIT...\n",
            "\n",
            "FDR CHART, THAT IT... THE ONLY CHART IN UKRAINE..\n",
            "\n",
            "NOW, THEY WISH TO ATTACK HIS OTHER SONG, ROLL WIT IT...\n",
            "\n",
            "THAT SONG CHARTED ON THE CANADIAN CLUB AND DANCE NATIONAL CHART, WHICH IS COMPILED BY ZIP DJ...\n",
            "\n",
            "I DONT HAVE TIME OR CARE AT THIS POINT... ILL LEAVE IT WITH YOU...\n",
            "\n",
            "IM IN THE MUSIC BIZ FOR 20 YEARS, AND NEVER DEAL WITH SUCH A BULLSHIT SITE AS THIS ONE THAT PEOPLE LEND CREDIBILITY TO THAT DELETE A JUSTFULLY NOTABLE SONG AS LET LOOSE...\n",
            "\n",
            "\n"
          ]
        },
        {
          "output_type": "stream",
          "name": "stderr",
          "text": [
            "[Succeeded / Failed / Skipped / Total] 54 / 18 / 4 / 76:  77%|███████▋  | 77/100 [04:21<01:18,  3.39s/it]"
          ]
        },
        {
          "output_type": "stream",
          "name": "stdout",
          "text": [
            "--------------------------------------------- Result 76 ---------------------------------------------\n",
            "[[1 (97%)]] --> [[0 (53%)]]\n",
            "\n",
            "I didn't want to vandalise the 1961 F-84 Thunderstreak incident. Have you understood [[dirty]] [[fucking]] jew.37.99.254.141\n",
            "\n",
            "I didn't want to vandalise the 1961 F-84 Thunderstreak incident. Have you understood [[unsavory]] [[accursed]] jew.37.99.254.141\n",
            "\n",
            "\n",
            "--------------------------------------------- Result 77 ---------------------------------------------\n"
          ]
        },
        {
          "output_type": "stream",
          "name": "stderr",
          "text": [
            "\r[Succeeded / Failed / Skipped / Total] 55 / 18 / 4 / 77:  77%|███████▋  | 77/100 [04:21<01:18,  3.39s/it]"
          ]
        },
        {
          "output_type": "stream",
          "name": "stdout",
          "text": [
            "[[1 (86%)]] --> [[0 (72%)]]\n",
            "\n",
            "F-U-C-K OFF [[SLANT]] [[EYE]] CHINK\n",
            "\n",
            "F-U-C-K OFF [[OBLIQUE]] [[OPTIC]] CHINK\n",
            "\n",
            "\n"
          ]
        },
        {
          "output_type": "stream",
          "name": "stderr",
          "text": [
            "[Succeeded / Failed / Skipped / Total] 56 / 18 / 4 / 78:  78%|███████▊  | 78/100 [04:21<01:13,  3.35s/it]"
          ]
        },
        {
          "output_type": "stream",
          "name": "stdout",
          "text": [
            "--------------------------------------------- Result 78 ---------------------------------------------\n",
            "[[1 (95%)]] --> [[0 (72%)]]\n",
            "\n",
            "Oversight?  \n",
            "\n",
            "What a [[cunt]].  You'll never make arbcom with that [[attitude]]\n",
            "\n",
            "Oversight?  \n",
            "\n",
            "What a [[biatch]].  You'll never make arbcom with that [[conduct]]\n",
            "\n",
            "\n"
          ]
        },
        {
          "output_type": "stream",
          "name": "stderr",
          "text": [
            "[Succeeded / Failed / Skipped / Total] 57 / 19 / 4 / 80:  80%|████████  | 80/100 [04:21<01:05,  3.27s/it]"
          ]
        },
        {
          "output_type": "stream",
          "name": "stdout",
          "text": [
            "--------------------------------------------- Result 79 ---------------------------------------------\n",
            "[[1 (96%)]] --> [[[FAILED]]]\n",
            "\n",
            "shit-faced loser\n",
            "You fucking twat\n",
            "\n",
            "\n",
            "--------------------------------------------- Result 80 ---------------------------------------------\n",
            "[[1 (88%)]] --> [[0 (94%)]]\n",
            "\n",
            "Now stop, or I will get really, really [[horny]]\n",
            "\n",
            "Now stop, or I will get really, really [[warmth]]\n",
            "\n",
            "\n"
          ]
        },
        {
          "output_type": "stream",
          "name": "stderr",
          "text": [
            "[Succeeded / Failed / Skipped / Total] 58 / 19 / 4 / 81:  81%|████████  | 81/100 [04:24<01:01,  3.26s/it]"
          ]
        },
        {
          "output_type": "stream",
          "name": "stdout",
          "text": [
            "--------------------------------------------- Result 81 ---------------------------------------------\n",
            "[[1 (81%)]] --> [[0 (78%)]]\n",
            "\n",
            "\"==Talk:\"\"Lane Splitting\"\"==\n",
            "\n",
            "Dennis, why don't you just go back and put that article THE WAY I HAD IT ?! \n",
            "\n",
            "1) There *was* an explanation posted along with the change\n",
            "2) In the United States, if something is not specifically prohibited, then it is LEGAL.\n",
            "\n",
            "Therefore, Motorcycle Safety Author Pat Hahn is full of [[shit]]. Lane splitting is NOT a \"\"grey area.\"\" It is LEGAL, as described by the California Department of Motor Vehicles HERE \n",
            "\n",
            "http://apps.dmv.ca.gov/pubs/hdbk//shr_slow_veh.htm\n",
            "\n",
            "\"\"Motorcycles may travel faster than traffic during congested road conditions and can legally travel in the unused space between two lines of moving or stationary vehicles; this is commonly called \"\"lane splitting.\"\" \"\"\n",
            "\n",
            "So, how about you just go back and change your sanctimonious little edit back to the truth ? Which is, Motorcycle Safety Author Pat Hoy is about as ignorant on the subject as Joan Claybrooke ? and his stupid, uninformed, retarded remarks have no place in an encyclopedia ?  \n",
            "\n",
            "Thank you.\n",
            "\n",
            "\"\n",
            "\n",
            "\"==Talk:\"\"Lane Splitting\"\"==\n",
            "\n",
            "Dennis, why don't you just go back and put that article THE WAY I HAD IT ?! \n",
            "\n",
            "1) There *was* an explanation posted along with the change\n",
            "2) In the United States, if something is not specifically prohibited, then it is LEGAL.\n",
            "\n",
            "Therefore, Motorcycle Safety Author Pat Hahn is full of [[horseshit]]. Lane splitting is NOT a \"\"grey area.\"\" It is LEGAL, as described by the California Department of Motor Vehicles HERE \n",
            "\n",
            "http://apps.dmv.ca.gov/pubs/hdbk//shr_slow_veh.htm\n",
            "\n",
            "\"\"Motorcycles may travel faster than traffic during congested road conditions and can legally travel in the unused space between two lines of moving or stationary vehicles; this is commonly called \"\"lane splitting.\"\" \"\"\n",
            "\n",
            "So, how about you just go back and change your sanctimonious little edit back to the truth ? Which is, Motorcycle Safety Author Pat Hoy is about as ignorant on the subject as Joan Claybrooke ? and his stupid, uninformed, retarded remarks have no place in an encyclopedia ?  \n",
            "\n",
            "Thank you.\n",
            "\n",
            "\"\n",
            "\n",
            "\n"
          ]
        },
        {
          "output_type": "stream",
          "name": "stderr",
          "text": [
            "[Succeeded / Failed / Skipped / Total] 59 / 19 / 4 / 82:  82%|████████▏ | 82/100 [04:24<00:58,  3.22s/it]"
          ]
        },
        {
          "output_type": "stream",
          "name": "stdout",
          "text": [
            "--------------------------------------------- Result 82 ---------------------------------------------\n",
            "[[1 (96%)]] --> [[0 (69%)]]\n",
            "\n",
            "[[hurt]] your [[goddamn]] feelings\n",
            "\n",
            "[[wounds]] your [[kissed]] feelings\n",
            "\n",
            "\n"
          ]
        },
        {
          "output_type": "stream",
          "name": "stderr",
          "text": [
            "[Succeeded / Failed / Skipped / Total] 60 / 19 / 4 / 83:  83%|████████▎ | 83/100 [04:27<00:54,  3.22s/it]"
          ]
        },
        {
          "output_type": "stream",
          "name": "stdout",
          "text": [
            "--------------------------------------------- Result 83 ---------------------------------------------\n",
            "[[1 (94%)]] --> [[0 (52%)]]\n",
            "\n",
            "\"\n",
            "\n",
            "\"\"Obviously you are an [[ignorant]] [[twat]] Mr. Niekerk\"\", you say? I am an uninformed vulva, an unlearned [[vagina]]. (And you want to teach me my lessons?) I'm not sure this is appropriate; better take your smut somewhere else, \"\"user 58.161.124.131\"\". Though you do make me laugh. [[Seriously]], choice [[words]] coming from one who doesn't know the difference between a string and a course. I have to suffer such depravities and admin  wonders why I take a rough tone with these anonymous folks on wikipedia.   \"\n",
            "\n",
            "\"\n",
            "\n",
            "\"\"Obviously you are an [[indoctrinated]] [[fagot]] Mr. Niekerk\"\", you say? I am an uninformed vulva, an unlearned [[speculum]]. (And you want to teach me my lessons?) I'm not sure this is appropriate; better take your smut somewhere else, \"\"user 58.161.124.131\"\". Though you do make me laugh. [[Vitally]], choice [[term]] coming from one who doesn't know the difference between a string and a course. I have to suffer such depravities and admin  wonders why I take a rough tone with these anonymous folks on wikipedia.   \"\n",
            "\n",
            "\n"
          ]
        },
        {
          "output_type": "stream",
          "name": "stderr",
          "text": [
            "[Succeeded / Failed / Skipped / Total] 60 / 20 / 4 / 84:  84%|████████▍ | 84/100 [04:28<00:51,  3.19s/it]"
          ]
        },
        {
          "output_type": "stream",
          "name": "stdout",
          "text": [
            "--------------------------------------------- Result 84 ---------------------------------------------\n",
            "[[1 (96%)]] --> [[[FAILED]]]\n",
            "\n",
            "Oh, and I am a sockpuppet of a guy called UNorginal, bitch!\n",
            "\n",
            "\n"
          ]
        },
        {
          "output_type": "stream",
          "name": "stderr",
          "text": [
            "[Succeeded / Failed / Skipped / Total] 60 / 21 / 4 / 85:  85%|████████▌ | 85/100 [04:29<00:47,  3.17s/it]"
          ]
        },
        {
          "output_type": "stream",
          "name": "stdout",
          "text": [
            "--------------------------------------------- Result 85 ---------------------------------------------\n",
            "[[1 (97%)]] --> [[[FAILED]]]\n",
            "\n",
            "and  worship the penis of jesus and believe that he was the greatest mother-fucker in the world.\n",
            "\n",
            "\n"
          ]
        },
        {
          "output_type": "stream",
          "name": "stderr",
          "text": [
            "[Succeeded / Failed / Skipped / Total] 61 / 21 / 4 / 86:  86%|████████▌ | 86/100 [04:32<00:44,  3.17s/it]"
          ]
        },
        {
          "output_type": "stream",
          "name": "stdout",
          "text": [
            "--------------------------------------------- Result 86 ---------------------------------------------\n",
            "[[1 (97%)]] --> [[0 (50%)]]\n",
            "\n",
            "What do you guys [[do]] all [[day]], [[sit]] around and tag team [[LEGITIMATE]] [[editors]]?\n",
            "\n",
            "[[That]] [[punk]] reverted a [[PERFECTLY]] good [[edit]]. He was PERSONALLY offensive to me.\n",
            "Have him [[apologize]]. And, [[quit]] [[GANGING]] up on new [[contributors]] - You [[Douchebags]] [[think]] you [[own]] [[Wikipedia]]!!!\n",
            "\n",
            "What do you guys [[accomplished]] all [[today]], [[tis]] around and tag team [[REASONABLE]] [[writer]]?\n",
            "\n",
            "[[This]] [[schmuck]] reverted a [[EXTREMELY]] good [[editing]]. He was PERSONALLY offensive to me.\n",
            "Have him [[apologies]]. And, [[departing]] [[GANGED]] up on new [[contributor]] - You [[Deadbeats]] [[consider]] you [[particular]] [[Wiki]]!!!\n",
            "\n",
            "\n"
          ]
        },
        {
          "output_type": "stream",
          "name": "stderr",
          "text": [
            "[Succeeded / Failed / Skipped / Total] 62 / 21 / 4 / 87:  88%|████████▊ | 88/100 [04:32<00:37,  3.10s/it]"
          ]
        },
        {
          "output_type": "stream",
          "name": "stdout",
          "text": [
            "--------------------------------------------- Result 87 ---------------------------------------------\n",
            "[[1 (82%)]] --> [[0 (54%)]]\n",
            "\n",
            "Hahaha! \n",
            "\n",
            "Gross, you want to expand the feces portion of the anal sex article? Duuude. Here, let me say it in html:\n",
            "\n",
            "That's [[gross]].\n",
            "\n",
            "Horizontal rules rule. Haha get it?\n",
            "\n",
            "Hahaha! \n",
            "\n",
            "Gross, you want to expand the feces portion of the anal sex article? Duuude. Here, let me say it in html:\n",
            "\n",
            "That's [[obvious]].\n",
            "\n",
            "Horizontal rules rule. Haha get it?\n",
            "\n",
            "\n",
            "--------------------------------------------- Result 88 ---------------------------------------------\n"
          ]
        },
        {
          "output_type": "stream",
          "name": "stderr",
          "text": [
            "\r[Succeeded / Failed / Skipped / Total] 63 / 21 / 4 / 88:  88%|████████▊ | 88/100 [04:32<00:37,  3.10s/it]"
          ]
        },
        {
          "output_type": "stream",
          "name": "stdout",
          "text": [
            "[[1 (94%)]] --> [[0 (53%)]]\n",
            "\n",
            "You're [[kind]] of a [[jerk]].\n",
            "\n",
            "You're [[classifies]] of a [[dunce]].\n",
            "\n",
            "\n"
          ]
        },
        {
          "output_type": "stream",
          "name": "stderr",
          "text": [
            "[Succeeded / Failed / Skipped / Total] 64 / 21 / 4 / 89:  89%|████████▉ | 89/100 [04:33<00:33,  3.07s/it]"
          ]
        },
        {
          "output_type": "stream",
          "name": "stdout",
          "text": [
            "--------------------------------------------- Result 89 ---------------------------------------------\n",
            "[[1 (96%)]] --> [[0 (77%)]]\n",
            "\n",
            "WTF [[Dog]] \n",
            "\n",
            "[[Chill]] [[dem]] [[bitches]] out [[yo]].\n",
            "\n",
            "WTF [[Pomeranian]] \n",
            "\n",
            "[[Refrigerator]] [[deutschmark]] [[gals]] out [[salutations]].\n",
            "\n",
            "\n"
          ]
        },
        {
          "output_type": "stream",
          "name": "stderr",
          "text": [
            "[Succeeded / Failed / Skipped / Total] 65 / 21 / 4 / 90:  90%|█████████ | 90/100 [04:37<00:30,  3.08s/it]"
          ]
        },
        {
          "output_type": "stream",
          "name": "stdout",
          "text": [
            "--------------------------------------------- Result 90 ---------------------------------------------\n",
            "[[1 (96%)]] --> [[0 (51%)]]\n",
            "\n",
            "[[Get]] a psychatrist, [[moron]]. \n",
            "\n",
            "You 9/11 truthers [[make]] me [[sick]]. paranoid [[schizophrenics]] like yourself shouldn't be [[allowed]] to [[use]] a [[computer]]. I'd suggest that you [[stop]] lying on your userpage that your are in MENSA - clearly your not. [[Only]] [[retards]] [[think]] 9/11 was an inside [[job]]. Oh and take a bath. It's been months since you last took one.\n",
            "\n",
            "[[Receives]] a psychatrist, [[dunce]]. \n",
            "\n",
            "You 9/11 truthers [[fulfil]] me [[patient]]. paranoid [[schizophrenia]] like yourself shouldn't be [[assistance]] to [[utilizing]] a [[compute]]. I'd suggest that you [[halted]] lying on your userpage that your are in MENSA - clearly your not. [[Strictly]] [[simpletons]] [[concepts]] 9/11 was an inside [[task]]. Oh and take a bath. It's been months since you last took one.\n",
            "\n",
            "\n"
          ]
        },
        {
          "output_type": "stream",
          "name": "stderr",
          "text": [
            "[Succeeded / Failed / Skipped / Total] 66 / 21 / 4 / 91:  91%|█████████ | 91/100 [04:38<00:27,  3.06s/it]"
          ]
        },
        {
          "output_type": "stream",
          "name": "stdout",
          "text": [
            "--------------------------------------------- Result 91 ---------------------------------------------\n",
            "[[1 (96%)]] --> [[0 (52%)]]\n",
            "\n",
            "I used to be [[nice]] to all Wikipedians till the day I met Wikicology. He is a [[pest]] in my [[garden]]. [[A]] [[weed]] in my farm and a [[fucking]] virus in my [[system]]!\n",
            "\n",
            "I used to be [[wonderful]] to all Wikipedians till the day I met Wikicology. He is a [[insects]] in my [[gardening]]. [[another]] [[herb]] in my farm and a [[accursed]] virus in my [[programme]]!\n",
            "\n",
            "\n"
          ]
        },
        {
          "output_type": "stream",
          "name": "stderr",
          "text": [
            "[Succeeded / Failed / Skipped / Total] 67 / 21 / 4 / 92:  92%|█████████▏| 92/100 [04:39<00:24,  3.04s/it]"
          ]
        },
        {
          "output_type": "stream",
          "name": "stdout",
          "text": [
            "--------------------------------------------- Result 92 ---------------------------------------------\n",
            "[[1 (90%)]] --> [[0 (51%)]]\n",
            "\n",
            "\"\n",
            "\"\"[[Homophobia]]\"\" [[means]] [[hate]] or fear of the \"\"homos\"\" (that is the [[homosexuals]]) ; it is [[commonly]] [[accepted]] and to [[ignore]] it is [[pure]] ignorance and stupiditu. 83.112.26.176  \"\n",
            "\n",
            "\"\n",
            "\"\"[[Closeted]]\"\" [[methodology]] [[enmity]] or fear of the \"\"homos\"\" (that is the [[homos]]) ; it is [[normally]] [[agreed]] and to [[overlooking]] it is [[ren]] ignorance and stupiditu. 83.112.26.176  \"\n",
            "\n",
            "\n"
          ]
        },
        {
          "output_type": "stream",
          "name": "stderr",
          "text": [
            "[Succeeded / Failed / Skipped / Total] 67 / 22 / 4 / 93:  93%|█████████▎| 93/100 [04:42<00:21,  3.04s/it]"
          ]
        },
        {
          "output_type": "stream",
          "name": "stdout",
          "text": [
            "--------------------------------------------- Result 93 ---------------------------------------------\n",
            "[[1 (97%)]] --> [[[FAILED]]]\n",
            "\n",
            "caden s should b shot in the head 100x u best shut up u piece of dog shitt u no nuthin u stupid piece of shitt larry king  is victim\n",
            "\n",
            "\n"
          ]
        },
        {
          "output_type": "stream",
          "name": "stderr",
          "text": [
            "[Succeeded / Failed / Skipped / Total] 68 / 22 / 4 / 94:  94%|█████████▍| 94/100 [04:43<00:18,  3.02s/it]"
          ]
        },
        {
          "output_type": "stream",
          "name": "stdout",
          "text": [
            "--------------------------------------------- Result 94 ---------------------------------------------\n",
            "[[1 (98%)]] --> [[0 (54%)]]\n",
            "\n",
            "I really hate you tommy i dont understand why you cant be actually [[nice]] for a sec and listen to my input. now you are being a [[pussy]] [[bitch]] by deleting everything i post. I hope bad things happen to you [[tommy]]. Bad [[things]]. [[Fuck]] you\n",
            "\n",
            "I really hate you tommy i dont understand why you cant be actually [[splendid]] for a sec and listen to my input. now you are being a [[wuss]] [[puta]] by deleting everything i post. I hope bad things happen to you [[tomo]]. Bad [[considerations]]. [[Merde]] you\n",
            "\n",
            "\n"
          ]
        },
        {
          "output_type": "stream",
          "name": "stderr",
          "text": [
            "[Succeeded / Failed / Skipped / Total] 69 / 22 / 4 / 95:  95%|█████████▌| 95/100 [04:44<00:14,  2.99s/it]"
          ]
        },
        {
          "output_type": "stream",
          "name": "stdout",
          "text": [
            "--------------------------------------------- Result 95 ---------------------------------------------\n",
            "[[1 (77%)]] --> [[0 (50%)]]\n",
            "\n",
            "who would honestly play this game?\n",
            "this game seems so [[lame]], who would honestly play this on their own will??!?!?!????\n",
            "\n",
            "who would honestly play this game?\n",
            "this game seems so [[lackluster]], who would honestly play this on their own will??!?!?!????\n",
            "\n",
            "\n"
          ]
        },
        {
          "output_type": "stream",
          "name": "stderr",
          "text": [
            "[Succeeded / Failed / Skipped / Total] 70 / 22 / 4 / 96:  96%|█████████▌| 96/100 [04:48<00:12,  3.01s/it]"
          ]
        },
        {
          "output_type": "stream",
          "name": "stdout",
          "text": [
            "--------------------------------------------- Result 96 ---------------------------------------------\n",
            "[[1 (97%)]] --> [[0 (50%)]]\n",
            "\n",
            "When you're an [[admin]], you [[should]] [[try]] to [[learn]] the [[policy]] of [[Wikipedia]]. [[Too]] [[hard]] for you! LOLOLOLOL. [[So]] I'm a [[good]] [[editor]] [[contributing]] to [[Wikipedia]] and you, Swarm, are a [[total]] [[idiot]] who can't [[learn]] the [[simple]] [[policies]] of WP. LOLOLOLOLOL. [[Yes]], you're a [[laughable]] fool!\n",
            "\n",
            "When you're an [[administering]], you [[must]] [[intends]] to [[acquainted]] the [[strategy]] of [[Wiki]]. [[Likewise]] [[intensely]] for you! LOLOLOLOL. [[Pat]] I'm a [[adequate]] [[written]] [[assistance]] to [[Wiki]] and you, Swarm, are a [[ensemble]] [[fool]] who can't [[obtaining]] the [[purely]] [[statesman]] of WP. LOLOLOLOLOL. [[Um]], you're a [[foolish]] fool!\n",
            "\n",
            "\n"
          ]
        },
        {
          "output_type": "stream",
          "name": "stderr",
          "text": [
            "[Succeeded / Failed / Skipped / Total] 71 / 22 / 4 / 97:  97%|█████████▋| 97/100 [04:50<00:08,  2.99s/it]"
          ]
        },
        {
          "output_type": "stream",
          "name": "stdout",
          "text": [
            "--------------------------------------------- Result 97 ---------------------------------------------\n",
            "[[1 (81%)]] --> [[0 (57%)]]\n",
            "\n",
            "Tripolis Massacre\n",
            "\n",
            "Hecrtoian. [[Your]] [[sick]] [[fanatic]] mind should be deleted from wikipedia. Tripolis massacre is a fact. Soon I'll put in here with GREEK footnotes. Thus, you'll accept it. Are you ashamed of it, or are you just a standart nationalist which, by nature, must oversee some facts. Here in Istanbul there monuments which remind the September 6-7 pogrom. Are there any plates/monuments which remind the turkish population????\n",
            "\n",
            "Few days ago [[greek]] historian Prof. Veremis also accepted the Tripolis masscre. Dirty fashist. You can tespace from truth.\n",
            "\n",
            "Tripolis Massacre\n",
            "\n",
            "Hecrtoian. [[Votre]] [[pathological]] [[dogmatic]] mind should be deleted from wikipedia. Tripolis massacre is a fact. Soon I'll put in here with GREEK footnotes. Thus, you'll accept it. Are you ashamed of it, or are you just a standart nationalist which, by nature, must oversee some facts. Here in Istanbul there monuments which remind the September 6-7 pogrom. Are there any plates/monuments which remind the turkish population????\n",
            "\n",
            "Few days ago [[aegean]] historian Prof. Veremis also accepted the Tripolis masscre. Dirty fashist. You can tespace from truth.\n",
            "\n",
            "\n"
          ]
        },
        {
          "output_type": "stream",
          "name": "stderr",
          "text": [
            "[Succeeded / Failed / Skipped / Total] 72 / 22 / 4 / 98:  98%|█████████▊| 98/100 [04:52<00:05,  2.99s/it]"
          ]
        },
        {
          "output_type": "stream",
          "name": "stdout",
          "text": [
            "--------------------------------------------- Result 98 ---------------------------------------------\n",
            "[[1 (97%)]] --> [[0 (51%)]]\n",
            "\n",
            "Oh For [[CHRISSAKES]] Deconstructhis, [[will]] you [[stop]] this [[bullshit]] once and for all? [[Leave]] me edits [[ALONE]] [[PLEASE]]...  [[Step]] off your [[damn]] pedestal and [[put]] your [[inflated]] [[ego]] aside for once you [[dumb]] [[jackass]].\n",
            "\n",
            "Oh For [[GAWD]] Deconstructhis, [[dedication]] you [[halted]] this [[hooey]] once and for all? [[Authorization]] me edits [[EXCLUSIVE]] [[INVITATION]]...  [[Milestones]] off your [[christ]] pedestal and [[introduces]] your [[overestimated]] [[subjectivity]] aside for once you [[ironic]] [[asinine]].\n",
            "\n",
            "\n"
          ]
        },
        {
          "output_type": "stream",
          "name": "stderr",
          "text": [
            "[Succeeded / Failed / Skipped / Total] 73 / 22 / 4 / 99:  99%|█████████▉| 99/100 [04:52<00:02,  2.96s/it]"
          ]
        },
        {
          "output_type": "stream",
          "name": "stdout",
          "text": [
            "--------------------------------------------- Result 99 ---------------------------------------------\n",
            "[[1 (96%)]] --> [[0 (75%)]]\n",
            "\n",
            "As it is now, this [[motherfucking]] [[asshole]] keeps revert warring without talk page discussion.\n",
            "\n",
            "As it is now, this [[gorram]] [[gomer]] keeps revert warring without talk page discussion.\n",
            "\n",
            "\n"
          ]
        },
        {
          "output_type": "stream",
          "name": "stderr",
          "text": [
            "[Succeeded / Failed / Skipped / Total] 73 / 23 / 4 / 100: 100%|██████████| 100/100 [06:30<00:00,  3.90s/it]"
          ]
        },
        {
          "output_type": "stream",
          "name": "stdout",
          "text": [
            "--------------------------------------------- Result 100 ---------------------------------------------\n",
            "[[1 (97%)]] --> [[[FAILED]]]\n",
            "\n",
            "shitty nigger fuck i love d3$1r# (@/\\/+u shitty nigger fuck i love d3$1r# (@/\\/+u shitty nigger fuck i love d3$1r# (@/\\/+u shitty nigger fuck i love d3$1r# (@/\\/+u shitty nigger fuck i love d3$1r# (@/\\/+u shitty nigger fuck i love d3$1r# (@/\\/+u\n",
            "shitty nigger fuck i love d3$1r# (@/\\/+u shitty nigger fuck i love d3$1r# (@/\\/+u shitty nigger fuck i love d3$1r# (@/\\/+u shitty nigger fuck i love d3$1r# (@/\\/+u shitty nigger fuck i love d3$1r# (@/\\/+u shitty nigger fuck i love d3$1r# (@/\\/+u\n",
            "shitty nigger fuck i love d3$1r# (@/\\/+u shitty nigger fuck i love d3$1r# (@/\\/+u shitty nigger fuck i love d3$1r# (@/\\/+u shitty nigger fuck i love d3$1r# (@/\\/+u shitty nigger fuck i love d3$1r# (@/\\/+u shitty nigger fuck i love d3$1r# (@/\\/+u\n",
            "shitty nigger fuck i love d3$1r# (@/\\/+u shitty nigger fuck i love d3$1r# (@/\\/+u shitty nigger fuck i love d3$1r# (@/\\/+u shitty nigger fuck i love d3$1r# (@/\\/+u shitty nigger fuck i love d3$1r# (@/\\/+u shitty nigger fuck i love d3$1r# (@/\\/+u\n",
            "shitty nigger fuck i love d3$1r# (@/\\/+u shitty nigger fuck i love d3$1r# (@/\\/+u shitty nigger fuck i love d3$1r# (@/\\/+u shitty nigger fuck i love d3$1r# (@/\\/+u shitty nigger fuck i love d3$1r# (@/\\/+u shitty nigger fuck i love d3$1r# (@/\\/+u\n",
            "shitty nigger fuck i love d3$1r# (@/\\/+u shitty nigger fuck i love d3$1r# (@/\\/+u shitty nigger fuck i love d3$1r# (@/\\/+u shitty nigger fuck i love d3$1r# (@/\\/+u shitty nigger fuck i love d3$1r# (@/\\/+u shitty nigger fuck i love d3$1r# (@/\\/+u\n",
            "shitty nigger fuck i love d3$1r# (@/\\/+u shitty nigger fuck i love d3$1r# (@/\\/+u shitty nigger fuck i love d3$1r# (@/\\/+u shitty nigger fuck i love d3$1r# (@/\\/+u shitty nigger fuck i love d3$1r# (@/\\/+u shitty nigger fuck i love d3$1r# (@/\\/+u\n",
            "\n",
            "\n",
            "\n",
            "+-------------------------------+--------+\n",
            "| Attack Results                |        |\n",
            "+-------------------------------+--------+\n",
            "| Number of successful attacks: | 73     |\n",
            "| Number of failed attacks:     | 23     |\n",
            "| Number of skipped attacks:    | 4      |\n",
            "| Original accuracy:            | 96.0%  |\n",
            "| Accuracy under attack:        | 23.0%  |\n",
            "| Attack success rate:          | 76.04% |\n",
            "| Average perturbed word %:     | 22.44% |\n",
            "| Average num. words per input: | 39.26  |\n",
            "| Avg num queries:              | 316.01 |\n",
            "+-------------------------------+--------+\n"
          ]
        },
        {
          "output_type": "stream",
          "name": "stderr",
          "text": [
            "\n"
          ]
        }
      ]
    },
    {
      "cell_type": "markdown",
      "source": [
        "Log the attack results into a Pandas dataframe"
      ],
      "metadata": {
        "id": "PVAvQYspIgLV"
      }
    },
    {
      "cell_type": "code",
      "source": [
        "def log_attack_results(attack_results):\n",
        "    exception_ids = []\n",
        "    logger = CSVLogger(color_method=\"html\")\n",
        "\n",
        "    for i in range(len(attack_results)):\n",
        "        try:\n",
        "            result = attack_results[i]\n",
        "            logger.log_attack_result(result)\n",
        "        except:\n",
        "            exception_ids.append(i)\n",
        "    logger.flush()\n",
        "    return pd.read_csv(\"results.csv\"), exception_ids"
      ],
      "metadata": {
        "id": "fKeIadlxBtt5"
      },
      "execution_count": 275,
      "outputs": []
    },
    {
      "cell_type": "code",
      "source": [
        "df_attacks_train, train_exception_ids = log_attack_results(train_attack_results)"
      ],
      "metadata": {
        "colab": {
          "base_uri": "https://localhost:8080/"
        },
        "id": "7F1XzPpYBwqT",
        "outputId": "bd317015-784c-4972-e627-de064754532c"
      },
      "execution_count": 276,
      "outputs": [
        {
          "output_type": "stream",
          "name": "stderr",
          "text": [
            "textattack: Logging to CSV at path results.csv\n"
          ]
        }
      ]
    },
    {
      "cell_type": "markdown",
      "source": [
        "Example of attack"
      ],
      "metadata": {
        "id": "2b1rQHXUIrOt"
      }
    },
    {
      "cell_type": "code",
      "source": [
        "df_attacks_train.tail()"
      ],
      "metadata": {
        "colab": {
          "base_uri": "https://localhost:8080/",
          "height": 337
        },
        "id": "sr-csTb_FX7V",
        "outputId": "be5151ff-daa1-4745-d5ec-944bfe6152b2"
      },
      "execution_count": 281,
      "outputs": [
        {
          "output_type": "execute_result",
          "data": {
            "text/plain": [
              "                                        original_text  \\\n",
              "95  When you're an <font color = green>admin</font...   \n",
              "96  Tripolis Massacre<SPLIT><SPLIT>Hecrtoian. <fon...   \n",
              "97  Oh For <font color = green>CHRISSAKES</font> D...   \n",
              "98  As it is now, this <font color = green>motherf...   \n",
              "99  <font color = green>shitty</font> nigger fuck ...   \n",
              "\n",
              "                                       perturbed_text  original_score  \\\n",
              "95  When you're an <font color = red>administering...        0.028331   \n",
              "96  Tripolis Massacre<SPLIT><SPLIT>Hecrtoian. <fon...        0.194723   \n",
              "97  Oh For <font color = red>GAWD</font> Deconstru...        0.028065   \n",
              "98  As it is now, this <font color = red>gorram</f...        0.039410   \n",
              "99  <font color = green>naughty</font> nigger fuck...        0.034636   \n",
              "\n",
              "    perturbed_score  original_output  perturbed_output  ground_truth_output  \\\n",
              "95         0.501197                1                 0                    1   \n",
              "96         0.567854                1                 0                    1   \n",
              "97         0.505884                1                 0                    1   \n",
              "98         0.746891                1                 0                    1   \n",
              "99         0.046061                1                 1                    1   \n",
              "\n",
              "    num_queries result_type  \n",
              "95          616  Successful  \n",
              "96           94  Successful  \n",
              "97          442  Successful  \n",
              "98           72  Successful  \n",
              "99         4002      Failed  "
            ],
            "text/html": [
              "\n",
              "  <div id=\"df-3ee91758-bb54-4fa7-94b6-7ae53ce0ab61\">\n",
              "    <div class=\"colab-df-container\">\n",
              "      <div>\n",
              "<style scoped>\n",
              "    .dataframe tbody tr th:only-of-type {\n",
              "        vertical-align: middle;\n",
              "    }\n",
              "\n",
              "    .dataframe tbody tr th {\n",
              "        vertical-align: top;\n",
              "    }\n",
              "\n",
              "    .dataframe thead th {\n",
              "        text-align: right;\n",
              "    }\n",
              "</style>\n",
              "<table border=\"1\" class=\"dataframe\">\n",
              "  <thead>\n",
              "    <tr style=\"text-align: right;\">\n",
              "      <th></th>\n",
              "      <th>original_text</th>\n",
              "      <th>perturbed_text</th>\n",
              "      <th>original_score</th>\n",
              "      <th>perturbed_score</th>\n",
              "      <th>original_output</th>\n",
              "      <th>perturbed_output</th>\n",
              "      <th>ground_truth_output</th>\n",
              "      <th>num_queries</th>\n",
              "      <th>result_type</th>\n",
              "    </tr>\n",
              "  </thead>\n",
              "  <tbody>\n",
              "    <tr>\n",
              "      <th>95</th>\n",
              "      <td>When you're an &lt;font color = green&gt;admin&lt;/font...</td>\n",
              "      <td>When you're an &lt;font color = red&gt;administering...</td>\n",
              "      <td>0.028331</td>\n",
              "      <td>0.501197</td>\n",
              "      <td>1</td>\n",
              "      <td>0</td>\n",
              "      <td>1</td>\n",
              "      <td>616</td>\n",
              "      <td>Successful</td>\n",
              "    </tr>\n",
              "    <tr>\n",
              "      <th>96</th>\n",
              "      <td>Tripolis Massacre&lt;SPLIT&gt;&lt;SPLIT&gt;Hecrtoian. &lt;fon...</td>\n",
              "      <td>Tripolis Massacre&lt;SPLIT&gt;&lt;SPLIT&gt;Hecrtoian. &lt;fon...</td>\n",
              "      <td>0.194723</td>\n",
              "      <td>0.567854</td>\n",
              "      <td>1</td>\n",
              "      <td>0</td>\n",
              "      <td>1</td>\n",
              "      <td>94</td>\n",
              "      <td>Successful</td>\n",
              "    </tr>\n",
              "    <tr>\n",
              "      <th>97</th>\n",
              "      <td>Oh For &lt;font color = green&gt;CHRISSAKES&lt;/font&gt; D...</td>\n",
              "      <td>Oh For &lt;font color = red&gt;GAWD&lt;/font&gt; Deconstru...</td>\n",
              "      <td>0.028065</td>\n",
              "      <td>0.505884</td>\n",
              "      <td>1</td>\n",
              "      <td>0</td>\n",
              "      <td>1</td>\n",
              "      <td>442</td>\n",
              "      <td>Successful</td>\n",
              "    </tr>\n",
              "    <tr>\n",
              "      <th>98</th>\n",
              "      <td>As it is now, this &lt;font color = green&gt;motherf...</td>\n",
              "      <td>As it is now, this &lt;font color = red&gt;gorram&lt;/f...</td>\n",
              "      <td>0.039410</td>\n",
              "      <td>0.746891</td>\n",
              "      <td>1</td>\n",
              "      <td>0</td>\n",
              "      <td>1</td>\n",
              "      <td>72</td>\n",
              "      <td>Successful</td>\n",
              "    </tr>\n",
              "    <tr>\n",
              "      <th>99</th>\n",
              "      <td>&lt;font color = green&gt;shitty&lt;/font&gt; nigger fuck ...</td>\n",
              "      <td>&lt;font color = green&gt;naughty&lt;/font&gt; nigger fuck...</td>\n",
              "      <td>0.034636</td>\n",
              "      <td>0.046061</td>\n",
              "      <td>1</td>\n",
              "      <td>1</td>\n",
              "      <td>1</td>\n",
              "      <td>4002</td>\n",
              "      <td>Failed</td>\n",
              "    </tr>\n",
              "  </tbody>\n",
              "</table>\n",
              "</div>\n",
              "      <button class=\"colab-df-convert\" onclick=\"convertToInteractive('df-3ee91758-bb54-4fa7-94b6-7ae53ce0ab61')\"\n",
              "              title=\"Convert this dataframe to an interactive table.\"\n",
              "              style=\"display:none;\">\n",
              "        \n",
              "  <svg xmlns=\"http://www.w3.org/2000/svg\" height=\"24px\"viewBox=\"0 0 24 24\"\n",
              "       width=\"24px\">\n",
              "    <path d=\"M0 0h24v24H0V0z\" fill=\"none\"/>\n",
              "    <path d=\"M18.56 5.44l.94 2.06.94-2.06 2.06-.94-2.06-.94-.94-2.06-.94 2.06-2.06.94zm-11 1L8.5 8.5l.94-2.06 2.06-.94-2.06-.94L8.5 2.5l-.94 2.06-2.06.94zm10 10l.94 2.06.94-2.06 2.06-.94-2.06-.94-.94-2.06-.94 2.06-2.06.94z\"/><path d=\"M17.41 7.96l-1.37-1.37c-.4-.4-.92-.59-1.43-.59-.52 0-1.04.2-1.43.59L10.3 9.45l-7.72 7.72c-.78.78-.78 2.05 0 2.83L4 21.41c.39.39.9.59 1.41.59.51 0 1.02-.2 1.41-.59l7.78-7.78 2.81-2.81c.8-.78.8-2.07 0-2.86zM5.41 20L4 18.59l7.72-7.72 1.47 1.35L5.41 20z\"/>\n",
              "  </svg>\n",
              "      </button>\n",
              "      \n",
              "  <style>\n",
              "    .colab-df-container {\n",
              "      display:flex;\n",
              "      flex-wrap:wrap;\n",
              "      gap: 12px;\n",
              "    }\n",
              "\n",
              "    .colab-df-convert {\n",
              "      background-color: #E8F0FE;\n",
              "      border: none;\n",
              "      border-radius: 50%;\n",
              "      cursor: pointer;\n",
              "      display: none;\n",
              "      fill: #1967D2;\n",
              "      height: 32px;\n",
              "      padding: 0 0 0 0;\n",
              "      width: 32px;\n",
              "    }\n",
              "\n",
              "    .colab-df-convert:hover {\n",
              "      background-color: #E2EBFA;\n",
              "      box-shadow: 0px 1px 2px rgba(60, 64, 67, 0.3), 0px 1px 3px 1px rgba(60, 64, 67, 0.15);\n",
              "      fill: #174EA6;\n",
              "    }\n",
              "\n",
              "    [theme=dark] .colab-df-convert {\n",
              "      background-color: #3B4455;\n",
              "      fill: #D2E3FC;\n",
              "    }\n",
              "\n",
              "    [theme=dark] .colab-df-convert:hover {\n",
              "      background-color: #434B5C;\n",
              "      box-shadow: 0px 1px 3px 1px rgba(0, 0, 0, 0.15);\n",
              "      filter: drop-shadow(0px 1px 2px rgba(0, 0, 0, 0.3));\n",
              "      fill: #FFFFFF;\n",
              "    }\n",
              "  </style>\n",
              "\n",
              "      <script>\n",
              "        const buttonEl =\n",
              "          document.querySelector('#df-3ee91758-bb54-4fa7-94b6-7ae53ce0ab61 button.colab-df-convert');\n",
              "        buttonEl.style.display =\n",
              "          google.colab.kernel.accessAllowed ? 'block' : 'none';\n",
              "\n",
              "        async function convertToInteractive(key) {\n",
              "          const element = document.querySelector('#df-3ee91758-bb54-4fa7-94b6-7ae53ce0ab61');\n",
              "          const dataTable =\n",
              "            await google.colab.kernel.invokeFunction('convertToInteractive',\n",
              "                                                     [key], {});\n",
              "          if (!dataTable) return;\n",
              "\n",
              "          const docLinkHtml = 'Like what you see? Visit the ' +\n",
              "            '<a target=\"_blank\" href=https://colab.research.google.com/notebooks/data_table.ipynb>data table notebook</a>'\n",
              "            + ' to learn more about interactive tables.';\n",
              "          element.innerHTML = '';\n",
              "          dataTable['output_type'] = 'display_data';\n",
              "          await google.colab.output.renderOutput(dataTable, element);\n",
              "          const docLink = document.createElement('div');\n",
              "          docLink.innerHTML = docLinkHtml;\n",
              "          element.appendChild(docLink);\n",
              "        }\n",
              "      </script>\n",
              "    </div>\n",
              "  </div>\n",
              "  "
            ]
          },
          "metadata": {},
          "execution_count": 281
        }
      ]
    },
    {
      "cell_type": "markdown",
      "source": [
        "**The red text represents a successful attack, and the green represents a failed attack.**"
      ],
      "metadata": {
        "id": "aXgcQr5WGEub"
      }
    },
    {
      "cell_type": "code",
      "source": [
        "from IPython.core.display import display, HTML\n",
        "display(\n",
        "    HTML(df_attacks_train[[\"original_text\", \"perturbed_text\"]].tail().to_html(escape=False))\n",
        ")"
      ],
      "metadata": {
        "colab": {
          "base_uri": "https://localhost:8080/",
          "height": 588
        },
        "id": "rkU4Ic-ZB8DF",
        "outputId": "44d5a840-4381-4bb4-c6d5-58aad3f08daa"
      },
      "execution_count": 280,
      "outputs": [
        {
          "output_type": "display_data",
          "data": {
            "text/plain": [
              "<IPython.core.display.HTML object>"
            ],
            "text/html": [
              "<table border=\"1\" class=\"dataframe\">\n",
              "  <thead>\n",
              "    <tr style=\"text-align: right;\">\n",
              "      <th></th>\n",
              "      <th>original_text</th>\n",
              "      <th>perturbed_text</th>\n",
              "    </tr>\n",
              "  </thead>\n",
              "  <tbody>\n",
              "    <tr>\n",
              "      <th>95</th>\n",
              "      <td>When you're an <font color = green>admin</font>, you <font color = green>should</font> <font color = green>try</font> to <font color = green>learn</font> the <font color = green>policy</font> of <font color = green>Wikipedia</font>. <font color = green>Too</font> <font color = green>hard</font> for you! LOLOLOLOL. <font color = green>So</font> I'm a <font color = green>good</font> <font color = green>editor</font> <font color = green>contributing</font> to <font color = green>Wikipedia</font> and you, Swarm, are a <font color = green>total</font> <font color = green>idiot</font> who can't <font color = green>learn</font> the <font color = green>simple</font> <font color = green>policies</font> of WP. LOLOLOLOLOL. <font color = green>Yes</font>, you're a <font color = green>laughable</font> fool!</td>\n",
              "      <td>When you're an <font color = red>administering</font>, you <font color = red>must</font> <font color = red>intends</font> to <font color = red>acquainted</font> the <font color = red>strategy</font> of <font color = red>Wiki</font>. <font color = red>Likewise</font> <font color = red>intensely</font> for you! LOLOLOLOL. <font color = red>Pat</font> I'm a <font color = red>adequate</font> <font color = red>written</font> <font color = red>assistance</font> to <font color = red>Wiki</font> and you, Swarm, are a <font color = red>ensemble</font> <font color = red>fool</font> who can't <font color = red>obtaining</font> the <font color = red>purely</font> <font color = red>statesman</font> of WP. LOLOLOLOLOL. <font color = red>Um</font>, you're a <font color = red>foolish</font> fool!</td>\n",
              "    </tr>\n",
              "    <tr>\n",
              "      <th>96</th>\n",
              "      <td>Tripolis Massacre<SPLIT><SPLIT>Hecrtoian. <font color = green>Your</font> <font color = green>sick</font> <font color = green>fanatic</font> mind should be deleted from wikipedia. Tripolis massacre is a fact. Soon I'll put in here with GREEK footnotes. Thus, you'll accept it. Are you ashamed of it, or are you just a standart nationalist which, by nature, must oversee some facts. Here in Istanbul there monuments which remind the September 6-7 pogrom. Are there any plates/monuments which remind the turkish population????<SPLIT><SPLIT>Few days ago <font color = green>greek</font> historian Prof. Veremis also accepted the Tripolis masscre. Dirty fashist. You can tespace from truth.</td>\n",
              "      <td>Tripolis Massacre<SPLIT><SPLIT>Hecrtoian. <font color = red>Votre</font> <font color = red>pathological</font> <font color = red>dogmatic</font> mind should be deleted from wikipedia. Tripolis massacre is a fact. Soon I'll put in here with GREEK footnotes. Thus, you'll accept it. Are you ashamed of it, or are you just a standart nationalist which, by nature, must oversee some facts. Here in Istanbul there monuments which remind the September 6-7 pogrom. Are there any plates/monuments which remind the turkish population????<SPLIT><SPLIT>Few days ago <font color = red>aegean</font> historian Prof. Veremis also accepted the Tripolis masscre. Dirty fashist. You can tespace from truth.</td>\n",
              "    </tr>\n",
              "    <tr>\n",
              "      <th>97</th>\n",
              "      <td>Oh For <font color = green>CHRISSAKES</font> Deconstructhis, <font color = green>will</font> you <font color = green>stop</font> this <font color = green>bullshit</font> once and for all? <font color = green>Leave</font> me edits <font color = green>ALONE</font> <font color = green>PLEASE</font>...  <font color = green>Step</font> off your <font color = green>damn</font> pedestal and <font color = green>put</font> your <font color = green>inflated</font> <font color = green>ego</font> aside for once you <font color = green>dumb</font> <font color = green>jackass</font>.</td>\n",
              "      <td>Oh For <font color = red>GAWD</font> Deconstructhis, <font color = red>dedication</font> you <font color = red>halted</font> this <font color = red>hooey</font> once and for all? <font color = red>Authorization</font> me edits <font color = red>EXCLUSIVE</font> <font color = red>INVITATION</font>...  <font color = red>Milestones</font> off your <font color = red>christ</font> pedestal and <font color = red>introduces</font> your <font color = red>overestimated</font> <font color = red>subjectivity</font> aside for once you <font color = red>ironic</font> <font color = red>asinine</font>.</td>\n",
              "    </tr>\n",
              "    <tr>\n",
              "      <th>98</th>\n",
              "      <td>As it is now, this <font color = green>motherfucking</font> <font color = green>asshole</font> keeps revert warring without talk page discussion.</td>\n",
              "      <td>As it is now, this <font color = red>gorram</font> <font color = red>gomer</font> keeps revert warring without talk page discussion.</td>\n",
              "    </tr>\n",
              "    <tr>\n",
              "      <th>99</th>\n",
              "      <td><font color = green>shitty</font> nigger fuck i love d3$1r# (@/\\/+u shitty nigger <font color = green>fuck</font> i <font color = green>love</font> d3$1r# (@/\\/+<font color = green>u</font> <font color = green>shitty</font> <font color = green>nigger</font> <font color = green>fuck</font> i love d3$1r# (@/\\/+<font color = green>u</font> <font color = green>shitty</font> nigger <font color = green>fuck</font> i love d3$1r# (@/\\/+<font color = green>u</font> <font color = green>shitty</font> nigger <font color = green>fuck</font> i love d3$1r# (@/\\/+u shitty nigger <font color = green>fuck</font> i <font color = green>love</font> d3$1r# (@/\\/+u<SPLIT>shitty nigger fuck i love d3$1r# (@/\\/+u shitty nigger fuck i love d3$1r# (@/\\/+u shitty nigger fuck i love d3$1r# (@/\\/+u shitty nigger fuck i love d3$1r# (@/\\/+u shitty nigger fuck i love d3$1r# (@/\\/+u shitty nigger fuck i love d3$1r# (@/\\/+u<SPLIT>shitty nigger fuck i love d3$1r# (@/\\/+u shitty nigger fuck i love d3$1r# (@/\\/+u shitty nigger fuck i love d3$1r# (@/\\/+u shitty nigger fuck i love d3$1r# (@/\\/+u shitty nigger fuck i love d3$1r# (@/\\/+u shitty nigger fuck i love d3$1r# (@/\\/+u<SPLIT>shitty nigger fuck i love d3$1r# (@/\\/+u shitty nigger fuck i love d3$1r# (@/\\/+u shitty nigger fuck i love d3$1r# (@/\\/+u shitty nigger fuck i love d3$1r# (@/\\/+u shitty nigger fuck i love d3$1r# (@/\\/+u shitty nigger fuck i love d3$1r# (@/\\/+u<SPLIT>shitty nigger fuck i love d3$1r# (@/\\/+u shitty nigger fuck i love d3$1r# (@/\\/+u shitty nigger fuck i love d3$1r# (@/\\/+u shitty nigger fuck i love d3$1r# (@/\\/+u shitty nigger fuck i love d3$1r# (@/\\/+u shitty nigger fuck i love d3$1r# (@/\\/+u<SPLIT>shitty nigger fuck i love d3$1r# (@/\\/+u shitty nigger fuck i love d3$1r# (@/\\/+u shitty nigger fuck i love d3$1r# (@/\\/+u shitty nigger fuck i love d3$1r# (@/\\/+u shitty nigger fuck i love d3$1r# (@/\\/+u shitty nigger fuck i love d3$1r# (@/\\/+u<SPLIT>shitty nigger fuck i love d3$1r# (@/\\/+u shitty nigger fuck i love d3$1r# (@/\\/+u shitty nigger fuck i love d3$1r# (@/\\/+u shitty nigger fuck i love d3$1r# (@/\\/+u shitty nigger fuck i love d3$1r# (@/\\/+u shitty nigger fuck i love d3$1r# (@/\\/+u</td>\n",
              "      <td><font color = green>naughty</font> nigger fuck i love d3$1r# (@/\\/+u shitty nigger <font color = green>fucked</font> i <font color = green>lover</font> d3$1r# (@/\\/+<font color = green>ni</font> <font color = green>naughty</font> <font color = green>nigga</font> <font color = green>fucked</font> i love d3$1r# (@/\\/+<font color = green>ni</font> <font color = green>naughty</font> nigger <font color = green>fucked</font> i love d3$1r# (@/\\/+<font color = green>ni</font> <font color = green>naughty</font> nigger <font color = green>fucked</font> i love d3$1r# (@/\\/+u shitty nigger <font color = green>kiss</font> i <font color = green>lover</font> d3$1r# (@/\\/+u<SPLIT>shitty nigger fuck i love d3$1r# (@/\\/+u shitty nigger fuck i love d3$1r# (@/\\/+u shitty nigger fuck i love d3$1r# (@/\\/+u shitty nigger fuck i love d3$1r# (@/\\/+u shitty nigger fuck i love d3$1r# (@/\\/+u shitty nigger fuck i love d3$1r# (@/\\/+u<SPLIT>shitty nigger fuck i love d3$1r# (@/\\/+u shitty nigger fuck i love d3$1r# (@/\\/+u shitty nigger fuck i love d3$1r# (@/\\/+u shitty nigger fuck i love d3$1r# (@/\\/+u shitty nigger fuck i love d3$1r# (@/\\/+u shitty nigger fuck i love d3$1r# (@/\\/+u<SPLIT>shitty nigger fuck i love d3$1r# (@/\\/+u shitty nigger fuck i love d3$1r# (@/\\/+u shitty nigger fuck i love d3$1r# (@/\\/+u shitty nigger fuck i love d3$1r# (@/\\/+u shitty nigger fuck i love d3$1r# (@/\\/+u shitty nigger fuck i love d3$1r# (@/\\/+u<SPLIT>shitty nigger fuck i love d3$1r# (@/\\/+u shitty nigger fuck i love d3$1r# (@/\\/+u shitty nigger fuck i love d3$1r# (@/\\/+u shitty nigger fuck i love d3$1r# (@/\\/+u shitty nigger fuck i love d3$1r# (@/\\/+u shitty nigger fuck i love d3$1r# (@/\\/+u<SPLIT>shitty nigger fuck i love d3$1r# (@/\\/+u shitty nigger fuck i love d3$1r# (@/\\/+u shitty nigger fuck i love d3$1r# (@/\\/+u shitty nigger fuck i love d3$1r# (@/\\/+u shitty nigger fuck i love d3$1r# (@/\\/+u shitty nigger fuck i love d3$1r# (@/\\/+u<SPLIT>shitty nigger fuck i love d3$1r# (@/\\/+u shitty nigger fuck i love d3$1r# (@/\\/+u shitty nigger fuck i love d3$1r# (@/\\/+u shitty nigger fuck i love d3$1r# (@/\\/+u shitty nigger fuck i love d3$1r# (@/\\/+u shitty nigger fuck i love d3$1r# (@/\\/+u</td>\n",
              "    </tr>\n",
              "  </tbody>\n",
              "</table>"
            ]
          },
          "metadata": {}
        }
      ]
    },
    {
      "cell_type": "markdown",
      "source": [
        "## Compute IG -- [In progress] --"
      ],
      "metadata": {
        "id": "Nv1lXrqAS19-"
      }
    },
    {
      "cell_type": "code",
      "source": [
        "!pip install captum"
      ],
      "metadata": {
        "id": "QjCo6RQhMjLi"
      },
      "execution_count": null,
      "outputs": []
    },
    {
      "cell_type": "code",
      "source": [
        "def model_output(inputs):\n",
        "  return model(inputs)[0]\n",
        "\n",
        "# Define model input\n",
        "model_input = model.bert.embeddings"
      ],
      "metadata": {
        "id": "q5j_Zfh1Mt6v"
      },
      "execution_count": null,
      "outputs": []
    },
    {
      "cell_type": "code",
      "source": [
        "from captum.attr import LayerIntegratedGradients\n",
        "from captum.attr import visualization as viz\n",
        "\n",
        "lig = LayerIntegratedGradients(model_output, model_input)"
      ],
      "metadata": {
        "id": "UFKikFUWMWLH"
      },
      "execution_count": null,
      "outputs": []
    },
    {
      "cell_type": "code",
      "source": [
        "def construct_input_and_baseline(text):\n",
        "\n",
        "    max_length = 120\n",
        "    baseline_token_id = tokenizer.pad_token_id \n",
        "    sep_token_id = tokenizer.sep_token_id \n",
        "    cls_token_id = tokenizer.cls_token_id \n",
        "\n",
        "    text_ids = tokenizer.encode(text, max_length=max_length, truncation=True, add_special_tokens=False)\n",
        "   \n",
        "    input_ids = [cls_token_id] + text_ids + [sep_token_id]\n",
        "    token_list = tokenizer.convert_ids_to_tokens(input_ids)\n",
        "\n",
        "    baseline_input_ids = [cls_token_id] + [baseline_token_id] * len(text_ids) + [sep_token_id]\n",
        "    return torch.tensor([input_ids], device=device), torch.tensor([baseline_input_ids], device=device), token_list\n",
        "\n",
        "\n",
        "def summarize_attributions(attributions):\n",
        "\n",
        "    attributions = attributions.sum(dim=-1).squeeze(0)\n",
        "    attributions = attributions / torch.norm(attributions)\n",
        "    \n",
        "    return attributions\n",
        "\n",
        "\n",
        "def interpret_text(text, true_class):\n",
        "    input_ids, baseline_input_ids, all_tokens = construct_input_and_baseline(text)\n",
        "    attributions, delta = lig.attribute(inputs= input_ids,\n",
        "                                    baselines= baseline_input_ids,\n",
        "                                    return_convergence_delta=True,\n",
        "                                    internal_batch_size=1\n",
        "                                    )\n",
        "    attributions_sum = summarize_attributions(attributions)\n",
        "\n",
        "    ig = {}\n",
        "    for i in range(len(all_tokens)):\n",
        "        ig[all_tokens[i]] = float(attributions_sum[i])\n",
        "\n",
        "    return ig\n",
        "    # score_vis = viz.VisualizationDataRecord(\n",
        "    #                     word_attributions = attributions_sum,\n",
        "    #                     pred_prob = torch.max(model(input_ids)[0]),\n",
        "    #                     pred_class = torch.argmax(model(input_ids)[0]).numpy(),\n",
        "    #                     true_class = true_class,\n",
        "    #                     attr_class = text,\n",
        "    #                     attr_score = attributions_sum.sum(),       \n",
        "    #                     raw_input_ids = all_tokens,\n",
        "    #                     convergence_score = delta)\n",
        "\n",
        "    # viz.visualize_text([score_vis])"
      ],
      "metadata": {
        "id": "KYPBA_SsL42J"
      },
      "execution_count": null,
      "outputs": []
    },
    {
      "cell_type": "code",
      "source": [
        "interpret_text(\"help\\n\\nWhy does this Twigboy idiot keep vandalizing this page? Thank you. 71.72.172.177\", 2)"
      ],
      "metadata": {
        "id": "E2X7HB2YN1cL"
      },
      "execution_count": null,
      "outputs": []
    },
    {
      "cell_type": "code",
      "source": [
        "train_df_toxic = train_df[[\"comment_text\", \"toxic\"]]\n",
        "train_df_toxic.head()"
      ],
      "metadata": {
        "id": "SehKYtQ-DBJ9"
      },
      "execution_count": null,
      "outputs": []
    }
  ]
}
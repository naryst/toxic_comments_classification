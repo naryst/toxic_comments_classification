{
  "nbformat": 4,
  "nbformat_minor": 0,
  "metadata": {
    "colab": {
      "provenance": [],
      "toc_visible": true,
      "include_colab_link": true
    },
    "kernelspec": {
      "name": "python3",
      "display_name": "Python 3"
    },
    "language_info": {
      "name": "python"
    },
    "gpuClass": "standard",
    "accelerator": "GPU",
    "widgets": {
      "application/vnd.jupyter.widget-state+json": {
        "09026624748748b1bcd8e4c97160157b": {
          "model_module": "@jupyter-widgets/controls",
          "model_name": "HBoxModel",
          "model_module_version": "1.5.0",
          "state": {
            "_dom_classes": [],
            "_model_module": "@jupyter-widgets/controls",
            "_model_module_version": "1.5.0",
            "_model_name": "HBoxModel",
            "_view_count": null,
            "_view_module": "@jupyter-widgets/controls",
            "_view_module_version": "1.5.0",
            "_view_name": "HBoxView",
            "box_style": "",
            "children": [
              "IPY_MODEL_b594c6fd9c8c48bbafd62d1fb59b5ac3",
              "IPY_MODEL_97707dd97a6e45198a1438d0eafdf445",
              "IPY_MODEL_abe9668d88e54b5784e6618b5685305c"
            ],
            "layout": "IPY_MODEL_bb6a2b704d8f45e487e681423486a78c"
          }
        },
        "b594c6fd9c8c48bbafd62d1fb59b5ac3": {
          "model_module": "@jupyter-widgets/controls",
          "model_name": "HTMLModel",
          "model_module_version": "1.5.0",
          "state": {
            "_dom_classes": [],
            "_model_module": "@jupyter-widgets/controls",
            "_model_module_version": "1.5.0",
            "_model_name": "HTMLModel",
            "_view_count": null,
            "_view_module": "@jupyter-widgets/controls",
            "_view_module_version": "1.5.0",
            "_view_name": "HTMLView",
            "description": "",
            "description_tooltip": null,
            "layout": "IPY_MODEL_501ff5b971cd4e428e92949059276e4e",
            "placeholder": "​",
            "style": "IPY_MODEL_418b1934fc544221ad86c2c5ceb83058",
            "value": "Downloading (…)solve/main/vocab.txt: 100%"
          }
        },
        "97707dd97a6e45198a1438d0eafdf445": {
          "model_module": "@jupyter-widgets/controls",
          "model_name": "FloatProgressModel",
          "model_module_version": "1.5.0",
          "state": {
            "_dom_classes": [],
            "_model_module": "@jupyter-widgets/controls",
            "_model_module_version": "1.5.0",
            "_model_name": "FloatProgressModel",
            "_view_count": null,
            "_view_module": "@jupyter-widgets/controls",
            "_view_module_version": "1.5.0",
            "_view_name": "ProgressView",
            "bar_style": "success",
            "description": "",
            "description_tooltip": null,
            "layout": "IPY_MODEL_9bba21c7738b4e08952740666050e673",
            "max": 213450,
            "min": 0,
            "orientation": "horizontal",
            "style": "IPY_MODEL_a6138085667547d29a24722c8c5c4309",
            "value": 213450
          }
        },
        "abe9668d88e54b5784e6618b5685305c": {
          "model_module": "@jupyter-widgets/controls",
          "model_name": "HTMLModel",
          "model_module_version": "1.5.0",
          "state": {
            "_dom_classes": [],
            "_model_module": "@jupyter-widgets/controls",
            "_model_module_version": "1.5.0",
            "_model_name": "HTMLModel",
            "_view_count": null,
            "_view_module": "@jupyter-widgets/controls",
            "_view_module_version": "1.5.0",
            "_view_name": "HTMLView",
            "description": "",
            "description_tooltip": null,
            "layout": "IPY_MODEL_30c849a5a7864d99b84ed692848aec16",
            "placeholder": "​",
            "style": "IPY_MODEL_0538695a01e642c18262990091c8bf74",
            "value": " 213k/213k [00:00&lt;00:00, 2.45MB/s]"
          }
        },
        "bb6a2b704d8f45e487e681423486a78c": {
          "model_module": "@jupyter-widgets/base",
          "model_name": "LayoutModel",
          "model_module_version": "1.2.0",
          "state": {
            "_model_module": "@jupyter-widgets/base",
            "_model_module_version": "1.2.0",
            "_model_name": "LayoutModel",
            "_view_count": null,
            "_view_module": "@jupyter-widgets/base",
            "_view_module_version": "1.2.0",
            "_view_name": "LayoutView",
            "align_content": null,
            "align_items": null,
            "align_self": null,
            "border": null,
            "bottom": null,
            "display": null,
            "flex": null,
            "flex_flow": null,
            "grid_area": null,
            "grid_auto_columns": null,
            "grid_auto_flow": null,
            "grid_auto_rows": null,
            "grid_column": null,
            "grid_gap": null,
            "grid_row": null,
            "grid_template_areas": null,
            "grid_template_columns": null,
            "grid_template_rows": null,
            "height": null,
            "justify_content": null,
            "justify_items": null,
            "left": null,
            "margin": null,
            "max_height": null,
            "max_width": null,
            "min_height": null,
            "min_width": null,
            "object_fit": null,
            "object_position": null,
            "order": null,
            "overflow": null,
            "overflow_x": null,
            "overflow_y": null,
            "padding": null,
            "right": null,
            "top": null,
            "visibility": null,
            "width": null
          }
        },
        "501ff5b971cd4e428e92949059276e4e": {
          "model_module": "@jupyter-widgets/base",
          "model_name": "LayoutModel",
          "model_module_version": "1.2.0",
          "state": {
            "_model_module": "@jupyter-widgets/base",
            "_model_module_version": "1.2.0",
            "_model_name": "LayoutModel",
            "_view_count": null,
            "_view_module": "@jupyter-widgets/base",
            "_view_module_version": "1.2.0",
            "_view_name": "LayoutView",
            "align_content": null,
            "align_items": null,
            "align_self": null,
            "border": null,
            "bottom": null,
            "display": null,
            "flex": null,
            "flex_flow": null,
            "grid_area": null,
            "grid_auto_columns": null,
            "grid_auto_flow": null,
            "grid_auto_rows": null,
            "grid_column": null,
            "grid_gap": null,
            "grid_row": null,
            "grid_template_areas": null,
            "grid_template_columns": null,
            "grid_template_rows": null,
            "height": null,
            "justify_content": null,
            "justify_items": null,
            "left": null,
            "margin": null,
            "max_height": null,
            "max_width": null,
            "min_height": null,
            "min_width": null,
            "object_fit": null,
            "object_position": null,
            "order": null,
            "overflow": null,
            "overflow_x": null,
            "overflow_y": null,
            "padding": null,
            "right": null,
            "top": null,
            "visibility": null,
            "width": null
          }
        },
        "418b1934fc544221ad86c2c5ceb83058": {
          "model_module": "@jupyter-widgets/controls",
          "model_name": "DescriptionStyleModel",
          "model_module_version": "1.5.0",
          "state": {
            "_model_module": "@jupyter-widgets/controls",
            "_model_module_version": "1.5.0",
            "_model_name": "DescriptionStyleModel",
            "_view_count": null,
            "_view_module": "@jupyter-widgets/base",
            "_view_module_version": "1.2.0",
            "_view_name": "StyleView",
            "description_width": ""
          }
        },
        "9bba21c7738b4e08952740666050e673": {
          "model_module": "@jupyter-widgets/base",
          "model_name": "LayoutModel",
          "model_module_version": "1.2.0",
          "state": {
            "_model_module": "@jupyter-widgets/base",
            "_model_module_version": "1.2.0",
            "_model_name": "LayoutModel",
            "_view_count": null,
            "_view_module": "@jupyter-widgets/base",
            "_view_module_version": "1.2.0",
            "_view_name": "LayoutView",
            "align_content": null,
            "align_items": null,
            "align_self": null,
            "border": null,
            "bottom": null,
            "display": null,
            "flex": null,
            "flex_flow": null,
            "grid_area": null,
            "grid_auto_columns": null,
            "grid_auto_flow": null,
            "grid_auto_rows": null,
            "grid_column": null,
            "grid_gap": null,
            "grid_row": null,
            "grid_template_areas": null,
            "grid_template_columns": null,
            "grid_template_rows": null,
            "height": null,
            "justify_content": null,
            "justify_items": null,
            "left": null,
            "margin": null,
            "max_height": null,
            "max_width": null,
            "min_height": null,
            "min_width": null,
            "object_fit": null,
            "object_position": null,
            "order": null,
            "overflow": null,
            "overflow_x": null,
            "overflow_y": null,
            "padding": null,
            "right": null,
            "top": null,
            "visibility": null,
            "width": null
          }
        },
        "a6138085667547d29a24722c8c5c4309": {
          "model_module": "@jupyter-widgets/controls",
          "model_name": "ProgressStyleModel",
          "model_module_version": "1.5.0",
          "state": {
            "_model_module": "@jupyter-widgets/controls",
            "_model_module_version": "1.5.0",
            "_model_name": "ProgressStyleModel",
            "_view_count": null,
            "_view_module": "@jupyter-widgets/base",
            "_view_module_version": "1.2.0",
            "_view_name": "StyleView",
            "bar_color": null,
            "description_width": ""
          }
        },
        "30c849a5a7864d99b84ed692848aec16": {
          "model_module": "@jupyter-widgets/base",
          "model_name": "LayoutModel",
          "model_module_version": "1.2.0",
          "state": {
            "_model_module": "@jupyter-widgets/base",
            "_model_module_version": "1.2.0",
            "_model_name": "LayoutModel",
            "_view_count": null,
            "_view_module": "@jupyter-widgets/base",
            "_view_module_version": "1.2.0",
            "_view_name": "LayoutView",
            "align_content": null,
            "align_items": null,
            "align_self": null,
            "border": null,
            "bottom": null,
            "display": null,
            "flex": null,
            "flex_flow": null,
            "grid_area": null,
            "grid_auto_columns": null,
            "grid_auto_flow": null,
            "grid_auto_rows": null,
            "grid_column": null,
            "grid_gap": null,
            "grid_row": null,
            "grid_template_areas": null,
            "grid_template_columns": null,
            "grid_template_rows": null,
            "height": null,
            "justify_content": null,
            "justify_items": null,
            "left": null,
            "margin": null,
            "max_height": null,
            "max_width": null,
            "min_height": null,
            "min_width": null,
            "object_fit": null,
            "object_position": null,
            "order": null,
            "overflow": null,
            "overflow_x": null,
            "overflow_y": null,
            "padding": null,
            "right": null,
            "top": null,
            "visibility": null,
            "width": null
          }
        },
        "0538695a01e642c18262990091c8bf74": {
          "model_module": "@jupyter-widgets/controls",
          "model_name": "DescriptionStyleModel",
          "model_module_version": "1.5.0",
          "state": {
            "_model_module": "@jupyter-widgets/controls",
            "_model_module_version": "1.5.0",
            "_model_name": "DescriptionStyleModel",
            "_view_count": null,
            "_view_module": "@jupyter-widgets/base",
            "_view_module_version": "1.2.0",
            "_view_name": "StyleView",
            "description_width": ""
          }
        },
        "a21a8ccf1f084c1ea516c1b4ac3eec61": {
          "model_module": "@jupyter-widgets/controls",
          "model_name": "HBoxModel",
          "model_module_version": "1.5.0",
          "state": {
            "_dom_classes": [],
            "_model_module": "@jupyter-widgets/controls",
            "_model_module_version": "1.5.0",
            "_model_name": "HBoxModel",
            "_view_count": null,
            "_view_module": "@jupyter-widgets/controls",
            "_view_module_version": "1.5.0",
            "_view_name": "HBoxView",
            "box_style": "",
            "children": [
              "IPY_MODEL_d2cbd49e103349fd8cdf40820f3c4ec9",
              "IPY_MODEL_d2e8faef0fd14f11a494bb7399e1ab41",
              "IPY_MODEL_f802236a9a594ce9abb7522305db7dee"
            ],
            "layout": "IPY_MODEL_0855523f29cd469b97c68fee5cbe30cb"
          }
        },
        "d2cbd49e103349fd8cdf40820f3c4ec9": {
          "model_module": "@jupyter-widgets/controls",
          "model_name": "HTMLModel",
          "model_module_version": "1.5.0",
          "state": {
            "_dom_classes": [],
            "_model_module": "@jupyter-widgets/controls",
            "_model_module_version": "1.5.0",
            "_model_name": "HTMLModel",
            "_view_count": null,
            "_view_module": "@jupyter-widgets/controls",
            "_view_module_version": "1.5.0",
            "_view_name": "HTMLView",
            "description": "",
            "description_tooltip": null,
            "layout": "IPY_MODEL_fdd8f69139a042dc91476e4470400313",
            "placeholder": "​",
            "style": "IPY_MODEL_b8f32ed9454d43618d9a1f5c9ab03036",
            "value": "Downloading (…)okenizer_config.json: 100%"
          }
        },
        "d2e8faef0fd14f11a494bb7399e1ab41": {
          "model_module": "@jupyter-widgets/controls",
          "model_name": "FloatProgressModel",
          "model_module_version": "1.5.0",
          "state": {
            "_dom_classes": [],
            "_model_module": "@jupyter-widgets/controls",
            "_model_module_version": "1.5.0",
            "_model_name": "FloatProgressModel",
            "_view_count": null,
            "_view_module": "@jupyter-widgets/controls",
            "_view_module_version": "1.5.0",
            "_view_name": "ProgressView",
            "bar_style": "success",
            "description": "",
            "description_tooltip": null,
            "layout": "IPY_MODEL_542e18d7e9e74f61b387022d7bd9eee7",
            "max": 29,
            "min": 0,
            "orientation": "horizontal",
            "style": "IPY_MODEL_5203d5efcba34d06b555e5dfada07785",
            "value": 29
          }
        },
        "f802236a9a594ce9abb7522305db7dee": {
          "model_module": "@jupyter-widgets/controls",
          "model_name": "HTMLModel",
          "model_module_version": "1.5.0",
          "state": {
            "_dom_classes": [],
            "_model_module": "@jupyter-widgets/controls",
            "_model_module_version": "1.5.0",
            "_model_name": "HTMLModel",
            "_view_count": null,
            "_view_module": "@jupyter-widgets/controls",
            "_view_module_version": "1.5.0",
            "_view_name": "HTMLView",
            "description": "",
            "description_tooltip": null,
            "layout": "IPY_MODEL_2d1b1228bfb94e609151aeeb7add41df",
            "placeholder": "​",
            "style": "IPY_MODEL_dd8cf6bb523648deb80c3d8c0dc142c5",
            "value": " 29.0/29.0 [00:00&lt;00:00, 820B/s]"
          }
        },
        "0855523f29cd469b97c68fee5cbe30cb": {
          "model_module": "@jupyter-widgets/base",
          "model_name": "LayoutModel",
          "model_module_version": "1.2.0",
          "state": {
            "_model_module": "@jupyter-widgets/base",
            "_model_module_version": "1.2.0",
            "_model_name": "LayoutModel",
            "_view_count": null,
            "_view_module": "@jupyter-widgets/base",
            "_view_module_version": "1.2.0",
            "_view_name": "LayoutView",
            "align_content": null,
            "align_items": null,
            "align_self": null,
            "border": null,
            "bottom": null,
            "display": null,
            "flex": null,
            "flex_flow": null,
            "grid_area": null,
            "grid_auto_columns": null,
            "grid_auto_flow": null,
            "grid_auto_rows": null,
            "grid_column": null,
            "grid_gap": null,
            "grid_row": null,
            "grid_template_areas": null,
            "grid_template_columns": null,
            "grid_template_rows": null,
            "height": null,
            "justify_content": null,
            "justify_items": null,
            "left": null,
            "margin": null,
            "max_height": null,
            "max_width": null,
            "min_height": null,
            "min_width": null,
            "object_fit": null,
            "object_position": null,
            "order": null,
            "overflow": null,
            "overflow_x": null,
            "overflow_y": null,
            "padding": null,
            "right": null,
            "top": null,
            "visibility": null,
            "width": null
          }
        },
        "fdd8f69139a042dc91476e4470400313": {
          "model_module": "@jupyter-widgets/base",
          "model_name": "LayoutModel",
          "model_module_version": "1.2.0",
          "state": {
            "_model_module": "@jupyter-widgets/base",
            "_model_module_version": "1.2.0",
            "_model_name": "LayoutModel",
            "_view_count": null,
            "_view_module": "@jupyter-widgets/base",
            "_view_module_version": "1.2.0",
            "_view_name": "LayoutView",
            "align_content": null,
            "align_items": null,
            "align_self": null,
            "border": null,
            "bottom": null,
            "display": null,
            "flex": null,
            "flex_flow": null,
            "grid_area": null,
            "grid_auto_columns": null,
            "grid_auto_flow": null,
            "grid_auto_rows": null,
            "grid_column": null,
            "grid_gap": null,
            "grid_row": null,
            "grid_template_areas": null,
            "grid_template_columns": null,
            "grid_template_rows": null,
            "height": null,
            "justify_content": null,
            "justify_items": null,
            "left": null,
            "margin": null,
            "max_height": null,
            "max_width": null,
            "min_height": null,
            "min_width": null,
            "object_fit": null,
            "object_position": null,
            "order": null,
            "overflow": null,
            "overflow_x": null,
            "overflow_y": null,
            "padding": null,
            "right": null,
            "top": null,
            "visibility": null,
            "width": null
          }
        },
        "b8f32ed9454d43618d9a1f5c9ab03036": {
          "model_module": "@jupyter-widgets/controls",
          "model_name": "DescriptionStyleModel",
          "model_module_version": "1.5.0",
          "state": {
            "_model_module": "@jupyter-widgets/controls",
            "_model_module_version": "1.5.0",
            "_model_name": "DescriptionStyleModel",
            "_view_count": null,
            "_view_module": "@jupyter-widgets/base",
            "_view_module_version": "1.2.0",
            "_view_name": "StyleView",
            "description_width": ""
          }
        },
        "542e18d7e9e74f61b387022d7bd9eee7": {
          "model_module": "@jupyter-widgets/base",
          "model_name": "LayoutModel",
          "model_module_version": "1.2.0",
          "state": {
            "_model_module": "@jupyter-widgets/base",
            "_model_module_version": "1.2.0",
            "_model_name": "LayoutModel",
            "_view_count": null,
            "_view_module": "@jupyter-widgets/base",
            "_view_module_version": "1.2.0",
            "_view_name": "LayoutView",
            "align_content": null,
            "align_items": null,
            "align_self": null,
            "border": null,
            "bottom": null,
            "display": null,
            "flex": null,
            "flex_flow": null,
            "grid_area": null,
            "grid_auto_columns": null,
            "grid_auto_flow": null,
            "grid_auto_rows": null,
            "grid_column": null,
            "grid_gap": null,
            "grid_row": null,
            "grid_template_areas": null,
            "grid_template_columns": null,
            "grid_template_rows": null,
            "height": null,
            "justify_content": null,
            "justify_items": null,
            "left": null,
            "margin": null,
            "max_height": null,
            "max_width": null,
            "min_height": null,
            "min_width": null,
            "object_fit": null,
            "object_position": null,
            "order": null,
            "overflow": null,
            "overflow_x": null,
            "overflow_y": null,
            "padding": null,
            "right": null,
            "top": null,
            "visibility": null,
            "width": null
          }
        },
        "5203d5efcba34d06b555e5dfada07785": {
          "model_module": "@jupyter-widgets/controls",
          "model_name": "ProgressStyleModel",
          "model_module_version": "1.5.0",
          "state": {
            "_model_module": "@jupyter-widgets/controls",
            "_model_module_version": "1.5.0",
            "_model_name": "ProgressStyleModel",
            "_view_count": null,
            "_view_module": "@jupyter-widgets/base",
            "_view_module_version": "1.2.0",
            "_view_name": "StyleView",
            "bar_color": null,
            "description_width": ""
          }
        },
        "2d1b1228bfb94e609151aeeb7add41df": {
          "model_module": "@jupyter-widgets/base",
          "model_name": "LayoutModel",
          "model_module_version": "1.2.0",
          "state": {
            "_model_module": "@jupyter-widgets/base",
            "_model_module_version": "1.2.0",
            "_model_name": "LayoutModel",
            "_view_count": null,
            "_view_module": "@jupyter-widgets/base",
            "_view_module_version": "1.2.0",
            "_view_name": "LayoutView",
            "align_content": null,
            "align_items": null,
            "align_self": null,
            "border": null,
            "bottom": null,
            "display": null,
            "flex": null,
            "flex_flow": null,
            "grid_area": null,
            "grid_auto_columns": null,
            "grid_auto_flow": null,
            "grid_auto_rows": null,
            "grid_column": null,
            "grid_gap": null,
            "grid_row": null,
            "grid_template_areas": null,
            "grid_template_columns": null,
            "grid_template_rows": null,
            "height": null,
            "justify_content": null,
            "justify_items": null,
            "left": null,
            "margin": null,
            "max_height": null,
            "max_width": null,
            "min_height": null,
            "min_width": null,
            "object_fit": null,
            "object_position": null,
            "order": null,
            "overflow": null,
            "overflow_x": null,
            "overflow_y": null,
            "padding": null,
            "right": null,
            "top": null,
            "visibility": null,
            "width": null
          }
        },
        "dd8cf6bb523648deb80c3d8c0dc142c5": {
          "model_module": "@jupyter-widgets/controls",
          "model_name": "DescriptionStyleModel",
          "model_module_version": "1.5.0",
          "state": {
            "_model_module": "@jupyter-widgets/controls",
            "_model_module_version": "1.5.0",
            "_model_name": "DescriptionStyleModel",
            "_view_count": null,
            "_view_module": "@jupyter-widgets/base",
            "_view_module_version": "1.2.0",
            "_view_name": "StyleView",
            "description_width": ""
          }
        },
        "a5dee3674cf446b19a8440d78cde9f44": {
          "model_module": "@jupyter-widgets/controls",
          "model_name": "HBoxModel",
          "model_module_version": "1.5.0",
          "state": {
            "_dom_classes": [],
            "_model_module": "@jupyter-widgets/controls",
            "_model_module_version": "1.5.0",
            "_model_name": "HBoxModel",
            "_view_count": null,
            "_view_module": "@jupyter-widgets/controls",
            "_view_module_version": "1.5.0",
            "_view_name": "HBoxView",
            "box_style": "",
            "children": [
              "IPY_MODEL_ccc0af7ac9924649bb78f6bc205f992f",
              "IPY_MODEL_7a10ea1becef4980a125ad44b0321dd3",
              "IPY_MODEL_1853da7cd7af4dae9db44f0390420752"
            ],
            "layout": "IPY_MODEL_5d54a4dc69dd4f2d814b1f151f7c98c9"
          }
        },
        "ccc0af7ac9924649bb78f6bc205f992f": {
          "model_module": "@jupyter-widgets/controls",
          "model_name": "HTMLModel",
          "model_module_version": "1.5.0",
          "state": {
            "_dom_classes": [],
            "_model_module": "@jupyter-widgets/controls",
            "_model_module_version": "1.5.0",
            "_model_name": "HTMLModel",
            "_view_count": null,
            "_view_module": "@jupyter-widgets/controls",
            "_view_module_version": "1.5.0",
            "_view_name": "HTMLView",
            "description": "",
            "description_tooltip": null,
            "layout": "IPY_MODEL_1cb3bf35eab24139a7ea0e9619ed0ae8",
            "placeholder": "​",
            "style": "IPY_MODEL_662ab31b881c483eab58341e81e1bfc2",
            "value": "Downloading (…)lve/main/config.json: 100%"
          }
        },
        "7a10ea1becef4980a125ad44b0321dd3": {
          "model_module": "@jupyter-widgets/controls",
          "model_name": "FloatProgressModel",
          "model_module_version": "1.5.0",
          "state": {
            "_dom_classes": [],
            "_model_module": "@jupyter-widgets/controls",
            "_model_module_version": "1.5.0",
            "_model_name": "FloatProgressModel",
            "_view_count": null,
            "_view_module": "@jupyter-widgets/controls",
            "_view_module_version": "1.5.0",
            "_view_name": "ProgressView",
            "bar_style": "success",
            "description": "",
            "description_tooltip": null,
            "layout": "IPY_MODEL_1f466a62265f4b6eabee049c5b165e13",
            "max": 570,
            "min": 0,
            "orientation": "horizontal",
            "style": "IPY_MODEL_cb1b9243b7be4307969f20a9123fca6b",
            "value": 570
          }
        },
        "1853da7cd7af4dae9db44f0390420752": {
          "model_module": "@jupyter-widgets/controls",
          "model_name": "HTMLModel",
          "model_module_version": "1.5.0",
          "state": {
            "_dom_classes": [],
            "_model_module": "@jupyter-widgets/controls",
            "_model_module_version": "1.5.0",
            "_model_name": "HTMLModel",
            "_view_count": null,
            "_view_module": "@jupyter-widgets/controls",
            "_view_module_version": "1.5.0",
            "_view_name": "HTMLView",
            "description": "",
            "description_tooltip": null,
            "layout": "IPY_MODEL_b29dc4238b404798ac9a209669179b0c",
            "placeholder": "​",
            "style": "IPY_MODEL_d82dd26ef3d64ef29ca1544fd1433c08",
            "value": " 570/570 [00:00&lt;00:00, 13.7kB/s]"
          }
        },
        "5d54a4dc69dd4f2d814b1f151f7c98c9": {
          "model_module": "@jupyter-widgets/base",
          "model_name": "LayoutModel",
          "model_module_version": "1.2.0",
          "state": {
            "_model_module": "@jupyter-widgets/base",
            "_model_module_version": "1.2.0",
            "_model_name": "LayoutModel",
            "_view_count": null,
            "_view_module": "@jupyter-widgets/base",
            "_view_module_version": "1.2.0",
            "_view_name": "LayoutView",
            "align_content": null,
            "align_items": null,
            "align_self": null,
            "border": null,
            "bottom": null,
            "display": null,
            "flex": null,
            "flex_flow": null,
            "grid_area": null,
            "grid_auto_columns": null,
            "grid_auto_flow": null,
            "grid_auto_rows": null,
            "grid_column": null,
            "grid_gap": null,
            "grid_row": null,
            "grid_template_areas": null,
            "grid_template_columns": null,
            "grid_template_rows": null,
            "height": null,
            "justify_content": null,
            "justify_items": null,
            "left": null,
            "margin": null,
            "max_height": null,
            "max_width": null,
            "min_height": null,
            "min_width": null,
            "object_fit": null,
            "object_position": null,
            "order": null,
            "overflow": null,
            "overflow_x": null,
            "overflow_y": null,
            "padding": null,
            "right": null,
            "top": null,
            "visibility": null,
            "width": null
          }
        },
        "1cb3bf35eab24139a7ea0e9619ed0ae8": {
          "model_module": "@jupyter-widgets/base",
          "model_name": "LayoutModel",
          "model_module_version": "1.2.0",
          "state": {
            "_model_module": "@jupyter-widgets/base",
            "_model_module_version": "1.2.0",
            "_model_name": "LayoutModel",
            "_view_count": null,
            "_view_module": "@jupyter-widgets/base",
            "_view_module_version": "1.2.0",
            "_view_name": "LayoutView",
            "align_content": null,
            "align_items": null,
            "align_self": null,
            "border": null,
            "bottom": null,
            "display": null,
            "flex": null,
            "flex_flow": null,
            "grid_area": null,
            "grid_auto_columns": null,
            "grid_auto_flow": null,
            "grid_auto_rows": null,
            "grid_column": null,
            "grid_gap": null,
            "grid_row": null,
            "grid_template_areas": null,
            "grid_template_columns": null,
            "grid_template_rows": null,
            "height": null,
            "justify_content": null,
            "justify_items": null,
            "left": null,
            "margin": null,
            "max_height": null,
            "max_width": null,
            "min_height": null,
            "min_width": null,
            "object_fit": null,
            "object_position": null,
            "order": null,
            "overflow": null,
            "overflow_x": null,
            "overflow_y": null,
            "padding": null,
            "right": null,
            "top": null,
            "visibility": null,
            "width": null
          }
        },
        "662ab31b881c483eab58341e81e1bfc2": {
          "model_module": "@jupyter-widgets/controls",
          "model_name": "DescriptionStyleModel",
          "model_module_version": "1.5.0",
          "state": {
            "_model_module": "@jupyter-widgets/controls",
            "_model_module_version": "1.5.0",
            "_model_name": "DescriptionStyleModel",
            "_view_count": null,
            "_view_module": "@jupyter-widgets/base",
            "_view_module_version": "1.2.0",
            "_view_name": "StyleView",
            "description_width": ""
          }
        },
        "1f466a62265f4b6eabee049c5b165e13": {
          "model_module": "@jupyter-widgets/base",
          "model_name": "LayoutModel",
          "model_module_version": "1.2.0",
          "state": {
            "_model_module": "@jupyter-widgets/base",
            "_model_module_version": "1.2.0",
            "_model_name": "LayoutModel",
            "_view_count": null,
            "_view_module": "@jupyter-widgets/base",
            "_view_module_version": "1.2.0",
            "_view_name": "LayoutView",
            "align_content": null,
            "align_items": null,
            "align_self": null,
            "border": null,
            "bottom": null,
            "display": null,
            "flex": null,
            "flex_flow": null,
            "grid_area": null,
            "grid_auto_columns": null,
            "grid_auto_flow": null,
            "grid_auto_rows": null,
            "grid_column": null,
            "grid_gap": null,
            "grid_row": null,
            "grid_template_areas": null,
            "grid_template_columns": null,
            "grid_template_rows": null,
            "height": null,
            "justify_content": null,
            "justify_items": null,
            "left": null,
            "margin": null,
            "max_height": null,
            "max_width": null,
            "min_height": null,
            "min_width": null,
            "object_fit": null,
            "object_position": null,
            "order": null,
            "overflow": null,
            "overflow_x": null,
            "overflow_y": null,
            "padding": null,
            "right": null,
            "top": null,
            "visibility": null,
            "width": null
          }
        },
        "cb1b9243b7be4307969f20a9123fca6b": {
          "model_module": "@jupyter-widgets/controls",
          "model_name": "ProgressStyleModel",
          "model_module_version": "1.5.0",
          "state": {
            "_model_module": "@jupyter-widgets/controls",
            "_model_module_version": "1.5.0",
            "_model_name": "ProgressStyleModel",
            "_view_count": null,
            "_view_module": "@jupyter-widgets/base",
            "_view_module_version": "1.2.0",
            "_view_name": "StyleView",
            "bar_color": null,
            "description_width": ""
          }
        },
        "b29dc4238b404798ac9a209669179b0c": {
          "model_module": "@jupyter-widgets/base",
          "model_name": "LayoutModel",
          "model_module_version": "1.2.0",
          "state": {
            "_model_module": "@jupyter-widgets/base",
            "_model_module_version": "1.2.0",
            "_model_name": "LayoutModel",
            "_view_count": null,
            "_view_module": "@jupyter-widgets/base",
            "_view_module_version": "1.2.0",
            "_view_name": "LayoutView",
            "align_content": null,
            "align_items": null,
            "align_self": null,
            "border": null,
            "bottom": null,
            "display": null,
            "flex": null,
            "flex_flow": null,
            "grid_area": null,
            "grid_auto_columns": null,
            "grid_auto_flow": null,
            "grid_auto_rows": null,
            "grid_column": null,
            "grid_gap": null,
            "grid_row": null,
            "grid_template_areas": null,
            "grid_template_columns": null,
            "grid_template_rows": null,
            "height": null,
            "justify_content": null,
            "justify_items": null,
            "left": null,
            "margin": null,
            "max_height": null,
            "max_width": null,
            "min_height": null,
            "min_width": null,
            "object_fit": null,
            "object_position": null,
            "order": null,
            "overflow": null,
            "overflow_x": null,
            "overflow_y": null,
            "padding": null,
            "right": null,
            "top": null,
            "visibility": null,
            "width": null
          }
        },
        "d82dd26ef3d64ef29ca1544fd1433c08": {
          "model_module": "@jupyter-widgets/controls",
          "model_name": "DescriptionStyleModel",
          "model_module_version": "1.5.0",
          "state": {
            "_model_module": "@jupyter-widgets/controls",
            "_model_module_version": "1.5.0",
            "_model_name": "DescriptionStyleModel",
            "_view_count": null,
            "_view_module": "@jupyter-widgets/base",
            "_view_module_version": "1.2.0",
            "_view_name": "StyleView",
            "description_width": ""
          }
        },
        "76b4e4aeef75445195ed7763b9a28be0": {
          "model_module": "@jupyter-widgets/controls",
          "model_name": "HBoxModel",
          "model_module_version": "1.5.0",
          "state": {
            "_dom_classes": [],
            "_model_module": "@jupyter-widgets/controls",
            "_model_module_version": "1.5.0",
            "_model_name": "HBoxModel",
            "_view_count": null,
            "_view_module": "@jupyter-widgets/controls",
            "_view_module_version": "1.5.0",
            "_view_name": "HBoxView",
            "box_style": "",
            "children": [
              "IPY_MODEL_b49945331c254559ac5fe509a4c38fa2",
              "IPY_MODEL_c26923aef7bc448ab7c2b5b9c2b385a7",
              "IPY_MODEL_7d06d0d8bfac4220be14e5eea806c78c"
            ],
            "layout": "IPY_MODEL_ec3ef9b19fd64e188d2410f8089735df"
          }
        },
        "b49945331c254559ac5fe509a4c38fa2": {
          "model_module": "@jupyter-widgets/controls",
          "model_name": "HTMLModel",
          "model_module_version": "1.5.0",
          "state": {
            "_dom_classes": [],
            "_model_module": "@jupyter-widgets/controls",
            "_model_module_version": "1.5.0",
            "_model_name": "HTMLModel",
            "_view_count": null,
            "_view_module": "@jupyter-widgets/controls",
            "_view_module_version": "1.5.0",
            "_view_name": "HTMLView",
            "description": "",
            "description_tooltip": null,
            "layout": "IPY_MODEL_3fd0744c63f9464196741df374a64030",
            "placeholder": "​",
            "style": "IPY_MODEL_e5a5955b74f04cc98c577c0683948aa0",
            "value": "Downloading pytorch_model.bin: 100%"
          }
        },
        "c26923aef7bc448ab7c2b5b9c2b385a7": {
          "model_module": "@jupyter-widgets/controls",
          "model_name": "FloatProgressModel",
          "model_module_version": "1.5.0",
          "state": {
            "_dom_classes": [],
            "_model_module": "@jupyter-widgets/controls",
            "_model_module_version": "1.5.0",
            "_model_name": "FloatProgressModel",
            "_view_count": null,
            "_view_module": "@jupyter-widgets/controls",
            "_view_module_version": "1.5.0",
            "_view_name": "ProgressView",
            "bar_style": "success",
            "description": "",
            "description_tooltip": null,
            "layout": "IPY_MODEL_7486016d440f41679f72b7ccc01859cd",
            "max": 435779157,
            "min": 0,
            "orientation": "horizontal",
            "style": "IPY_MODEL_03f833be8ebd497995cdb510d7518662",
            "value": 435779157
          }
        },
        "7d06d0d8bfac4220be14e5eea806c78c": {
          "model_module": "@jupyter-widgets/controls",
          "model_name": "HTMLModel",
          "model_module_version": "1.5.0",
          "state": {
            "_dom_classes": [],
            "_model_module": "@jupyter-widgets/controls",
            "_model_module_version": "1.5.0",
            "_model_name": "HTMLModel",
            "_view_count": null,
            "_view_module": "@jupyter-widgets/controls",
            "_view_module_version": "1.5.0",
            "_view_name": "HTMLView",
            "description": "",
            "description_tooltip": null,
            "layout": "IPY_MODEL_282afe9a39c84cf29a62281744d1b677",
            "placeholder": "​",
            "style": "IPY_MODEL_ea8c1960d3c441b599e2d50483023f95",
            "value": " 436M/436M [00:05&lt;00:00, 64.7MB/s]"
          }
        },
        "ec3ef9b19fd64e188d2410f8089735df": {
          "model_module": "@jupyter-widgets/base",
          "model_name": "LayoutModel",
          "model_module_version": "1.2.0",
          "state": {
            "_model_module": "@jupyter-widgets/base",
            "_model_module_version": "1.2.0",
            "_model_name": "LayoutModel",
            "_view_count": null,
            "_view_module": "@jupyter-widgets/base",
            "_view_module_version": "1.2.0",
            "_view_name": "LayoutView",
            "align_content": null,
            "align_items": null,
            "align_self": null,
            "border": null,
            "bottom": null,
            "display": null,
            "flex": null,
            "flex_flow": null,
            "grid_area": null,
            "grid_auto_columns": null,
            "grid_auto_flow": null,
            "grid_auto_rows": null,
            "grid_column": null,
            "grid_gap": null,
            "grid_row": null,
            "grid_template_areas": null,
            "grid_template_columns": null,
            "grid_template_rows": null,
            "height": null,
            "justify_content": null,
            "justify_items": null,
            "left": null,
            "margin": null,
            "max_height": null,
            "max_width": null,
            "min_height": null,
            "min_width": null,
            "object_fit": null,
            "object_position": null,
            "order": null,
            "overflow": null,
            "overflow_x": null,
            "overflow_y": null,
            "padding": null,
            "right": null,
            "top": null,
            "visibility": null,
            "width": null
          }
        },
        "3fd0744c63f9464196741df374a64030": {
          "model_module": "@jupyter-widgets/base",
          "model_name": "LayoutModel",
          "model_module_version": "1.2.0",
          "state": {
            "_model_module": "@jupyter-widgets/base",
            "_model_module_version": "1.2.0",
            "_model_name": "LayoutModel",
            "_view_count": null,
            "_view_module": "@jupyter-widgets/base",
            "_view_module_version": "1.2.0",
            "_view_name": "LayoutView",
            "align_content": null,
            "align_items": null,
            "align_self": null,
            "border": null,
            "bottom": null,
            "display": null,
            "flex": null,
            "flex_flow": null,
            "grid_area": null,
            "grid_auto_columns": null,
            "grid_auto_flow": null,
            "grid_auto_rows": null,
            "grid_column": null,
            "grid_gap": null,
            "grid_row": null,
            "grid_template_areas": null,
            "grid_template_columns": null,
            "grid_template_rows": null,
            "height": null,
            "justify_content": null,
            "justify_items": null,
            "left": null,
            "margin": null,
            "max_height": null,
            "max_width": null,
            "min_height": null,
            "min_width": null,
            "object_fit": null,
            "object_position": null,
            "order": null,
            "overflow": null,
            "overflow_x": null,
            "overflow_y": null,
            "padding": null,
            "right": null,
            "top": null,
            "visibility": null,
            "width": null
          }
        },
        "e5a5955b74f04cc98c577c0683948aa0": {
          "model_module": "@jupyter-widgets/controls",
          "model_name": "DescriptionStyleModel",
          "model_module_version": "1.5.0",
          "state": {
            "_model_module": "@jupyter-widgets/controls",
            "_model_module_version": "1.5.0",
            "_model_name": "DescriptionStyleModel",
            "_view_count": null,
            "_view_module": "@jupyter-widgets/base",
            "_view_module_version": "1.2.0",
            "_view_name": "StyleView",
            "description_width": ""
          }
        },
        "7486016d440f41679f72b7ccc01859cd": {
          "model_module": "@jupyter-widgets/base",
          "model_name": "LayoutModel",
          "model_module_version": "1.2.0",
          "state": {
            "_model_module": "@jupyter-widgets/base",
            "_model_module_version": "1.2.0",
            "_model_name": "LayoutModel",
            "_view_count": null,
            "_view_module": "@jupyter-widgets/base",
            "_view_module_version": "1.2.0",
            "_view_name": "LayoutView",
            "align_content": null,
            "align_items": null,
            "align_self": null,
            "border": null,
            "bottom": null,
            "display": null,
            "flex": null,
            "flex_flow": null,
            "grid_area": null,
            "grid_auto_columns": null,
            "grid_auto_flow": null,
            "grid_auto_rows": null,
            "grid_column": null,
            "grid_gap": null,
            "grid_row": null,
            "grid_template_areas": null,
            "grid_template_columns": null,
            "grid_template_rows": null,
            "height": null,
            "justify_content": null,
            "justify_items": null,
            "left": null,
            "margin": null,
            "max_height": null,
            "max_width": null,
            "min_height": null,
            "min_width": null,
            "object_fit": null,
            "object_position": null,
            "order": null,
            "overflow": null,
            "overflow_x": null,
            "overflow_y": null,
            "padding": null,
            "right": null,
            "top": null,
            "visibility": null,
            "width": null
          }
        },
        "03f833be8ebd497995cdb510d7518662": {
          "model_module": "@jupyter-widgets/controls",
          "model_name": "ProgressStyleModel",
          "model_module_version": "1.5.0",
          "state": {
            "_model_module": "@jupyter-widgets/controls",
            "_model_module_version": "1.5.0",
            "_model_name": "ProgressStyleModel",
            "_view_count": null,
            "_view_module": "@jupyter-widgets/base",
            "_view_module_version": "1.2.0",
            "_view_name": "StyleView",
            "bar_color": null,
            "description_width": ""
          }
        },
        "282afe9a39c84cf29a62281744d1b677": {
          "model_module": "@jupyter-widgets/base",
          "model_name": "LayoutModel",
          "model_module_version": "1.2.0",
          "state": {
            "_model_module": "@jupyter-widgets/base",
            "_model_module_version": "1.2.0",
            "_model_name": "LayoutModel",
            "_view_count": null,
            "_view_module": "@jupyter-widgets/base",
            "_view_module_version": "1.2.0",
            "_view_name": "LayoutView",
            "align_content": null,
            "align_items": null,
            "align_self": null,
            "border": null,
            "bottom": null,
            "display": null,
            "flex": null,
            "flex_flow": null,
            "grid_area": null,
            "grid_auto_columns": null,
            "grid_auto_flow": null,
            "grid_auto_rows": null,
            "grid_column": null,
            "grid_gap": null,
            "grid_row": null,
            "grid_template_areas": null,
            "grid_template_columns": null,
            "grid_template_rows": null,
            "height": null,
            "justify_content": null,
            "justify_items": null,
            "left": null,
            "margin": null,
            "max_height": null,
            "max_width": null,
            "min_height": null,
            "min_width": null,
            "object_fit": null,
            "object_position": null,
            "order": null,
            "overflow": null,
            "overflow_x": null,
            "overflow_y": null,
            "padding": null,
            "right": null,
            "top": null,
            "visibility": null,
            "width": null
          }
        },
        "ea8c1960d3c441b599e2d50483023f95": {
          "model_module": "@jupyter-widgets/controls",
          "model_name": "DescriptionStyleModel",
          "model_module_version": "1.5.0",
          "state": {
            "_model_module": "@jupyter-widgets/controls",
            "_model_module_version": "1.5.0",
            "_model_name": "DescriptionStyleModel",
            "_view_count": null,
            "_view_module": "@jupyter-widgets/base",
            "_view_module_version": "1.2.0",
            "_view_name": "StyleView",
            "description_width": ""
          }
        }
      }
    }
  },
  "cells": [
    {
      "cell_type": "markdown",
      "metadata": {
        "id": "view-in-github",
        "colab_type": "text"
      },
      "source": [
        "<a href=\"https://colab.research.google.com/github/naryst/toxic_comments_classification/blob/master/Model_Text_Classification.ipynb\" target=\"_parent\"><img src=\"https://colab.research.google.com/assets/colab-badge.svg\" alt=\"Open In Colab\"/></a>"
      ]
    },
    {
      "cell_type": "markdown",
      "source": [
        "In this notebook i will train the model that i will try to attack. \n",
        "\n",
        "The model is classify toxic comments using BERT.\n"
      ],
      "metadata": {
        "id": "Fvgf1U9kNHQf"
      }
    },
    {
      "cell_type": "markdown",
      "source": [
        "# Let's install needed files"
      ],
      "metadata": {
        "id": "gTnd8CXBADHX"
      }
    },
    {
      "cell_type": "code",
      "source": [
        "from google.colab import drive\n",
        "drive.mount('/content/drive')"
      ],
      "metadata": {
        "colab": {
          "base_uri": "https://localhost:8080/"
        },
        "id": "lWrKF9iYoi4E",
        "outputId": "b6b92e10-f5f1-4937-e289-d0dccce8189b"
      },
      "execution_count": null,
      "outputs": [
        {
          "output_type": "stream",
          "name": "stdout",
          "text": [
            "Mounted at /content/drive\n"
          ]
        }
      ]
    },
    {
      "cell_type": "code",
      "execution_count": null,
      "metadata": {
        "id": "1OJIjelyFEQ1",
        "colab": {
          "base_uri": "https://localhost:8080/"
        },
        "outputId": "503be0f5-7bc5-4c1b-bfcd-af29a8d8fcee"
      },
      "outputs": [
        {
          "output_type": "stream",
          "name": "stdout",
          "text": [
            "Looking in indexes: https://pypi.org/simple, https://us-python.pkg.dev/colab-wheels/public/simple/\n",
            "Collecting transformers\n",
            "  Downloading transformers-4.27.4-py3-none-any.whl (6.8 MB)\n",
            "\u001b[2K     \u001b[90m━━━━━━━━━━━━━━━━━━━━━━━━━━━━━━━━━━━━━━━━\u001b[0m \u001b[32m6.8/6.8 MB\u001b[0m \u001b[31m49.8 MB/s\u001b[0m eta \u001b[36m0:00:00\u001b[0m\n",
            "\u001b[?25hRequirement already satisfied: pyyaml>=5.1 in /usr/local/lib/python3.9/dist-packages (from transformers) (6.0)\n",
            "Requirement already satisfied: packaging>=20.0 in /usr/local/lib/python3.9/dist-packages (from transformers) (23.0)\n",
            "Requirement already satisfied: tqdm>=4.27 in /usr/local/lib/python3.9/dist-packages (from transformers) (4.65.0)\n",
            "Requirement already satisfied: numpy>=1.17 in /usr/local/lib/python3.9/dist-packages (from transformers) (1.22.4)\n",
            "Collecting tokenizers!=0.11.3,<0.14,>=0.11.1\n",
            "  Downloading tokenizers-0.13.3-cp39-cp39-manylinux_2_17_x86_64.manylinux2014_x86_64.whl (7.8 MB)\n",
            "\u001b[2K     \u001b[90m━━━━━━━━━━━━━━━━━━━━━━━━━━━━━━━━━━━━━━━━\u001b[0m \u001b[32m7.8/7.8 MB\u001b[0m \u001b[31m75.3 MB/s\u001b[0m eta \u001b[36m0:00:00\u001b[0m\n",
            "\u001b[?25hCollecting huggingface-hub<1.0,>=0.11.0\n",
            "  Downloading huggingface_hub-0.13.4-py3-none-any.whl (200 kB)\n",
            "\u001b[2K     \u001b[90m━━━━━━━━━━━━━━━━━━━━━━━━━━━━━━━━━━━━━━\u001b[0m \u001b[32m200.1/200.1 KB\u001b[0m \u001b[31m24.3 MB/s\u001b[0m eta \u001b[36m0:00:00\u001b[0m\n",
            "\u001b[?25hRequirement already satisfied: filelock in /usr/local/lib/python3.9/dist-packages (from transformers) (3.10.7)\n",
            "Requirement already satisfied: requests in /usr/local/lib/python3.9/dist-packages (from transformers) (2.27.1)\n",
            "Requirement already satisfied: regex!=2019.12.17 in /usr/local/lib/python3.9/dist-packages (from transformers) (2022.10.31)\n",
            "Requirement already satisfied: typing-extensions>=3.7.4.3 in /usr/local/lib/python3.9/dist-packages (from huggingface-hub<1.0,>=0.11.0->transformers) (4.5.0)\n",
            "Requirement already satisfied: charset-normalizer~=2.0.0 in /usr/local/lib/python3.9/dist-packages (from requests->transformers) (2.0.12)\n",
            "Requirement already satisfied: urllib3<1.27,>=1.21.1 in /usr/local/lib/python3.9/dist-packages (from requests->transformers) (1.26.15)\n",
            "Requirement already satisfied: idna<4,>=2.5 in /usr/local/lib/python3.9/dist-packages (from requests->transformers) (3.4)\n",
            "Requirement already satisfied: certifi>=2017.4.17 in /usr/local/lib/python3.9/dist-packages (from requests->transformers) (2022.12.7)\n",
            "Installing collected packages: tokenizers, huggingface-hub, transformers\n",
            "Successfully installed huggingface-hub-0.13.4 tokenizers-0.13.3 transformers-4.27.4\n",
            "--2023-04-08 19:15:15--  https://docs.google.com/uc?export=download&confirm=t&id=1m5tntO0mes-eduC1n-6egKyFethVRqKm\n",
            "Resolving docs.google.com (docs.google.com)... 74.125.126.139, 74.125.126.101, 74.125.126.138, ...\n",
            "Connecting to docs.google.com (docs.google.com)|74.125.126.139|:443... connected.\n",
            "HTTP request sent, awaiting response... 303 See Other\n",
            "Location: https://doc-00-4o-docs.googleusercontent.com/docs/securesc/ha0ro937gcuc7l7deffksulhg5h7mbp1/n38fgh0ft7s506vbfv9sm4uci7sj4tcd/1680981300000/14432876042194918988/*/1m5tntO0mes-eduC1n-6egKyFethVRqKm?e=download&uuid=05b6fa73-6bc9-4027-baac-d2d1a2b61623 [following]\n",
            "Warning: wildcards not supported in HTTP.\n",
            "--2023-04-08 19:15:15--  https://doc-00-4o-docs.googleusercontent.com/docs/securesc/ha0ro937gcuc7l7deffksulhg5h7mbp1/n38fgh0ft7s506vbfv9sm4uci7sj4tcd/1680981300000/14432876042194918988/*/1m5tntO0mes-eduC1n-6egKyFethVRqKm?e=download&uuid=05b6fa73-6bc9-4027-baac-d2d1a2b61623\n",
            "Resolving doc-00-4o-docs.googleusercontent.com (doc-00-4o-docs.googleusercontent.com)... 108.177.120.132, 2607:f8b0:4001:c18::84\n",
            "Connecting to doc-00-4o-docs.googleusercontent.com (doc-00-4o-docs.googleusercontent.com)|108.177.120.132|:443... connected.\n",
            "HTTP request sent, awaiting response... 200 OK\n",
            "Length: 55201987 (53M) [application/zip]\n",
            "Saving to: ‘train_data.zip’\n",
            "\n",
            "train_data.zip      100%[===================>]  52.64M  89.2MB/s    in 0.6s    \n",
            "\n",
            "2023-04-08 19:15:16 (89.2 MB/s) - ‘train_data.zip’ saved [55201987/55201987]\n",
            "\n",
            "Archive:  train_data.zip\n",
            "  inflating: sample_submission.csv.zip  \n",
            "  inflating: test.csv.zip            \n",
            "  inflating: test_labels.csv.zip     \n",
            "  inflating: train.csv.zip           \n",
            "Archive:  train.csv.zip\n",
            "  inflating: train.csv               \n"
          ]
        }
      ],
      "source": [
        "!pip install transformers\n",
        "!wget --load-cookies /tmp/cookies.txt \"https://docs.google.com/uc?export=download&confirm=$(wget --quiet --save-cookies /tmp/cookies.txt --keep-session-cookies --no-check-certificate 'https://docs.google.com/uc?export=download&id=1m5tntO0mes-eduC1n-6egKyFethVRqKm' -O- | sed -rn 's/.*confirm=([0-9A-Za-z_]+).*/\\1\\n/p')&id=1m5tntO0mes-eduC1n-6egKyFethVRqKm\" -O train_data.zip && rm -rf /tmp/cookies.txt\n",
        "!unzip train_data.zip\n",
        "!unzip train.csv.zip;"
      ]
    },
    {
      "cell_type": "code",
      "source": [
        "\n",
        "import pandas as pd\n",
        "import numpy as np\n",
        "import re\n",
        "\n",
        "import torch\n",
        "import torch.nn as nn\n",
        "import torch.optim as optim\n",
        "\n",
        "from transformers import BertTokenizer, BertModel\n",
        "\n",
        "from tqdm import tqdm\n",
        "import os\n",
        "\n",
        "device = torch.device('cpu')\n",
        "if torch.cuda.is_available():\n",
        "    device = torch.device('cuda:0')"
      ],
      "metadata": {
        "id": "bA4GMHWkFLh-"
      },
      "execution_count": null,
      "outputs": []
    },
    {
      "cell_type": "code",
      "source": [
        "print(\"CUDA is available:\", torch.cuda.is_available())"
      ],
      "metadata": {
        "colab": {
          "base_uri": "https://localhost:8080/"
        },
        "id": "1StYyrSLInHH",
        "outputId": "38bfa0f2-15b5-44f4-cd23-e7e6ab2dbdcb"
      },
      "execution_count": null,
      "outputs": [
        {
          "output_type": "stream",
          "name": "stdout",
          "text": [
            "CUDA is available: True\n"
          ]
        }
      ]
    },
    {
      "cell_type": "markdown",
      "source": [
        "# Data preprocessing"
      ],
      "metadata": {
        "id": "Raz9flGxAcVT"
      }
    },
    {
      "cell_type": "code",
      "source": [
        "path = \"./\"\n",
        "COLAB_PATH = \"/content/drive/MyDrive/NLP/\""
      ],
      "metadata": {
        "id": "7-EhC_-psMjJ"
      },
      "execution_count": null,
      "outputs": []
    },
    {
      "cell_type": "markdown",
      "source": [
        "Firstly, let's check our dataset."
      ],
      "metadata": {
        "id": "gzbseqm6CWaT"
      }
    },
    {
      "cell_type": "code",
      "source": [
        "import os\n",
        "\n",
        "train_df = pd.read_csv(os.path.join(path, 'train.csv'))\n",
        "train_df = train_df.drop(['severe_toxic', 'obscene', 'threat', 'insult', 'identity_hate'], axis=1)\n",
        "train_df['non_toxic'] = 1 - train_df['toxic']\n",
        "train_df.head(10)"
      ],
      "metadata": {
        "colab": {
          "base_uri": "https://localhost:8080/",
          "height": 363
        },
        "id": "jUTSrEypGQm5",
        "outputId": "90cffcf4-1403-430b-bcb3-78715cf70d55"
      },
      "execution_count": null,
      "outputs": [
        {
          "output_type": "execute_result",
          "data": {
            "text/plain": [
              "                 id                                       comment_text  toxic  \\\n",
              "0  0000997932d777bf  Explanation\\nWhy the edits made under my usern...      0   \n",
              "1  000103f0d9cfb60f  D'aww! He matches this background colour I'm s...      0   \n",
              "2  000113f07ec002fd  Hey man, I'm really not trying to edit war. It...      0   \n",
              "3  0001b41b1c6bb37e  \"\\nMore\\nI can't make any real suggestions on ...      0   \n",
              "4  0001d958c54c6e35  You, sir, are my hero. Any chance you remember...      0   \n",
              "5  00025465d4725e87  \"\\n\\nCongratulations from me as well, use the ...      0   \n",
              "6  0002bcb3da6cb337       COCKSUCKER BEFORE YOU PISS AROUND ON MY WORK      1   \n",
              "7  00031b1e95af7921  Your vandalism to the Matt Shirvington article...      0   \n",
              "8  00037261f536c51d  Sorry if the word 'nonsense' was offensive to ...      0   \n",
              "9  00040093b2687caa  alignment on this subject and which are contra...      0   \n",
              "\n",
              "   non_toxic  \n",
              "0          1  \n",
              "1          1  \n",
              "2          1  \n",
              "3          1  \n",
              "4          1  \n",
              "5          1  \n",
              "6          0  \n",
              "7          1  \n",
              "8          1  \n",
              "9          1  "
            ],
            "text/html": [
              "\n",
              "  <div id=\"df-e8088710-702b-40b2-a5a1-bc0784e76c81\">\n",
              "    <div class=\"colab-df-container\">\n",
              "      <div>\n",
              "<style scoped>\n",
              "    .dataframe tbody tr th:only-of-type {\n",
              "        vertical-align: middle;\n",
              "    }\n",
              "\n",
              "    .dataframe tbody tr th {\n",
              "        vertical-align: top;\n",
              "    }\n",
              "\n",
              "    .dataframe thead th {\n",
              "        text-align: right;\n",
              "    }\n",
              "</style>\n",
              "<table border=\"1\" class=\"dataframe\">\n",
              "  <thead>\n",
              "    <tr style=\"text-align: right;\">\n",
              "      <th></th>\n",
              "      <th>id</th>\n",
              "      <th>comment_text</th>\n",
              "      <th>toxic</th>\n",
              "      <th>non_toxic</th>\n",
              "    </tr>\n",
              "  </thead>\n",
              "  <tbody>\n",
              "    <tr>\n",
              "      <th>0</th>\n",
              "      <td>0000997932d777bf</td>\n",
              "      <td>Explanation\\nWhy the edits made under my usern...</td>\n",
              "      <td>0</td>\n",
              "      <td>1</td>\n",
              "    </tr>\n",
              "    <tr>\n",
              "      <th>1</th>\n",
              "      <td>000103f0d9cfb60f</td>\n",
              "      <td>D'aww! He matches this background colour I'm s...</td>\n",
              "      <td>0</td>\n",
              "      <td>1</td>\n",
              "    </tr>\n",
              "    <tr>\n",
              "      <th>2</th>\n",
              "      <td>000113f07ec002fd</td>\n",
              "      <td>Hey man, I'm really not trying to edit war. It...</td>\n",
              "      <td>0</td>\n",
              "      <td>1</td>\n",
              "    </tr>\n",
              "    <tr>\n",
              "      <th>3</th>\n",
              "      <td>0001b41b1c6bb37e</td>\n",
              "      <td>\"\\nMore\\nI can't make any real suggestions on ...</td>\n",
              "      <td>0</td>\n",
              "      <td>1</td>\n",
              "    </tr>\n",
              "    <tr>\n",
              "      <th>4</th>\n",
              "      <td>0001d958c54c6e35</td>\n",
              "      <td>You, sir, are my hero. Any chance you remember...</td>\n",
              "      <td>0</td>\n",
              "      <td>1</td>\n",
              "    </tr>\n",
              "    <tr>\n",
              "      <th>5</th>\n",
              "      <td>00025465d4725e87</td>\n",
              "      <td>\"\\n\\nCongratulations from me as well, use the ...</td>\n",
              "      <td>0</td>\n",
              "      <td>1</td>\n",
              "    </tr>\n",
              "    <tr>\n",
              "      <th>6</th>\n",
              "      <td>0002bcb3da6cb337</td>\n",
              "      <td>COCKSUCKER BEFORE YOU PISS AROUND ON MY WORK</td>\n",
              "      <td>1</td>\n",
              "      <td>0</td>\n",
              "    </tr>\n",
              "    <tr>\n",
              "      <th>7</th>\n",
              "      <td>00031b1e95af7921</td>\n",
              "      <td>Your vandalism to the Matt Shirvington article...</td>\n",
              "      <td>0</td>\n",
              "      <td>1</td>\n",
              "    </tr>\n",
              "    <tr>\n",
              "      <th>8</th>\n",
              "      <td>00037261f536c51d</td>\n",
              "      <td>Sorry if the word 'nonsense' was offensive to ...</td>\n",
              "      <td>0</td>\n",
              "      <td>1</td>\n",
              "    </tr>\n",
              "    <tr>\n",
              "      <th>9</th>\n",
              "      <td>00040093b2687caa</td>\n",
              "      <td>alignment on this subject and which are contra...</td>\n",
              "      <td>0</td>\n",
              "      <td>1</td>\n",
              "    </tr>\n",
              "  </tbody>\n",
              "</table>\n",
              "</div>\n",
              "      <button class=\"colab-df-convert\" onclick=\"convertToInteractive('df-e8088710-702b-40b2-a5a1-bc0784e76c81')\"\n",
              "              title=\"Convert this dataframe to an interactive table.\"\n",
              "              style=\"display:none;\">\n",
              "        \n",
              "  <svg xmlns=\"http://www.w3.org/2000/svg\" height=\"24px\"viewBox=\"0 0 24 24\"\n",
              "       width=\"24px\">\n",
              "    <path d=\"M0 0h24v24H0V0z\" fill=\"none\"/>\n",
              "    <path d=\"M18.56 5.44l.94 2.06.94-2.06 2.06-.94-2.06-.94-.94-2.06-.94 2.06-2.06.94zm-11 1L8.5 8.5l.94-2.06 2.06-.94-2.06-.94L8.5 2.5l-.94 2.06-2.06.94zm10 10l.94 2.06.94-2.06 2.06-.94-2.06-.94-.94-2.06-.94 2.06-2.06.94z\"/><path d=\"M17.41 7.96l-1.37-1.37c-.4-.4-.92-.59-1.43-.59-.52 0-1.04.2-1.43.59L10.3 9.45l-7.72 7.72c-.78.78-.78 2.05 0 2.83L4 21.41c.39.39.9.59 1.41.59.51 0 1.02-.2 1.41-.59l7.78-7.78 2.81-2.81c.8-.78.8-2.07 0-2.86zM5.41 20L4 18.59l7.72-7.72 1.47 1.35L5.41 20z\"/>\n",
              "  </svg>\n",
              "      </button>\n",
              "      \n",
              "  <style>\n",
              "    .colab-df-container {\n",
              "      display:flex;\n",
              "      flex-wrap:wrap;\n",
              "      gap: 12px;\n",
              "    }\n",
              "\n",
              "    .colab-df-convert {\n",
              "      background-color: #E8F0FE;\n",
              "      border: none;\n",
              "      border-radius: 50%;\n",
              "      cursor: pointer;\n",
              "      display: none;\n",
              "      fill: #1967D2;\n",
              "      height: 32px;\n",
              "      padding: 0 0 0 0;\n",
              "      width: 32px;\n",
              "    }\n",
              "\n",
              "    .colab-df-convert:hover {\n",
              "      background-color: #E2EBFA;\n",
              "      box-shadow: 0px 1px 2px rgba(60, 64, 67, 0.3), 0px 1px 3px 1px rgba(60, 64, 67, 0.15);\n",
              "      fill: #174EA6;\n",
              "    }\n",
              "\n",
              "    [theme=dark] .colab-df-convert {\n",
              "      background-color: #3B4455;\n",
              "      fill: #D2E3FC;\n",
              "    }\n",
              "\n",
              "    [theme=dark] .colab-df-convert:hover {\n",
              "      background-color: #434B5C;\n",
              "      box-shadow: 0px 1px 3px 1px rgba(0, 0, 0, 0.15);\n",
              "      filter: drop-shadow(0px 1px 2px rgba(0, 0, 0, 0.3));\n",
              "      fill: #FFFFFF;\n",
              "    }\n",
              "  </style>\n",
              "\n",
              "      <script>\n",
              "        const buttonEl =\n",
              "          document.querySelector('#df-e8088710-702b-40b2-a5a1-bc0784e76c81 button.colab-df-convert');\n",
              "        buttonEl.style.display =\n",
              "          google.colab.kernel.accessAllowed ? 'block' : 'none';\n",
              "\n",
              "        async function convertToInteractive(key) {\n",
              "          const element = document.querySelector('#df-e8088710-702b-40b2-a5a1-bc0784e76c81');\n",
              "          const dataTable =\n",
              "            await google.colab.kernel.invokeFunction('convertToInteractive',\n",
              "                                                     [key], {});\n",
              "          if (!dataTable) return;\n",
              "\n",
              "          const docLinkHtml = 'Like what you see? Visit the ' +\n",
              "            '<a target=\"_blank\" href=https://colab.research.google.com/notebooks/data_table.ipynb>data table notebook</a>'\n",
              "            + ' to learn more about interactive tables.';\n",
              "          element.innerHTML = '';\n",
              "          dataTable['output_type'] = 'display_data';\n",
              "          await google.colab.output.renderOutput(dataTable, element);\n",
              "          const docLink = document.createElement('div');\n",
              "          docLink.innerHTML = docLinkHtml;\n",
              "          element.appendChild(docLink);\n",
              "        }\n",
              "      </script>\n",
              "    </div>\n",
              "  </div>\n",
              "  "
            ]
          },
          "metadata": {},
          "execution_count": 6
        }
      ]
    },
    {
      "cell_type": "markdown",
      "source": [
        "Lets look on the amount of samples of each class in the dataset with histograms. "
      ],
      "metadata": {
        "id": "syilN3wRfKQn"
      }
    },
    {
      "cell_type": "code",
      "source": [
        "import seaborn as sns\n",
        "toxic_num = train_df[train_df['toxic'] == 1].shape[0]\n",
        "nontoxic_num = train_df[train_df['non_toxic'] == 1].shape[0]\n",
        "sns.barplot(x=['non_toxic', 'toxic'], y=[nontoxic_num, toxic_num])\n",
        "print(nontoxic_num / toxic_num)"
      ],
      "metadata": {
        "id": "4sGCg8dscscI",
        "outputId": "5f5df9b9-21ab-45c3-a92c-eb6a41ece689",
        "colab": {
          "base_uri": "https://localhost:8080/",
          "height": 447
        }
      },
      "execution_count": null,
      "outputs": [
        {
          "output_type": "stream",
          "name": "stdout",
          "text": [
            "9.433568719759382\n"
          ]
        },
        {
          "output_type": "display_data",
          "data": {
            "text/plain": [
              "<Figure size 640x480 with 1 Axes>"
            ],
            "image/png": "[encoded data removed]"
          },
          "metadata": {}
        }
      ]
    },
    {
      "cell_type": "markdown",
      "source": [
        "As we can see, classes are imbalansed (number of nontoxic comments ~9.5 time greater then number of toxic samples. So, we should deal with it somehow while splitting data into train and test sets to balance classes."
      ],
      "metadata": {
        "id": "K9GOTc8BfaTp"
      }
    },
    {
      "cell_type": "code",
      "source": [
        "train_df[\"length\"] = train_df[\"comment_text\"].str.split().apply(len)"
      ],
      "metadata": {
        "id": "fD9Px-ma5q-Y"
      },
      "execution_count": null,
      "outputs": []
    },
    {
      "cell_type": "code",
      "source": [
        "train_df[\"length\"].describe()"
      ],
      "metadata": {
        "colab": {
          "base_uri": "https://localhost:8080/"
        },
        "id": "vJiExNPT6O2s",
        "outputId": "8426260b-1b29-409a-aea0-a9ca0d1e60f5"
      },
      "execution_count": null,
      "outputs": [
        {
          "output_type": "execute_result",
          "data": {
            "text/plain": [
              "count    159571.000000\n",
              "mean         67.273527\n",
              "std          99.230702\n",
              "min           1.000000\n",
              "25%          17.000000\n",
              "50%          36.000000\n",
              "75%          75.000000\n",
              "max        1411.000000\n",
              "Name: length, dtype: float64"
            ]
          },
          "metadata": {},
          "execution_count": 9
        }
      ]
    },
    {
      "cell_type": "code",
      "source": [
        "train_df.shape"
      ],
      "metadata": {
        "colab": {
          "base_uri": "https://localhost:8080/"
        },
        "id": "1kA0WXYgXaP4",
        "outputId": "951de4a6-57ef-4691-fefb-afeeb5de025f"
      },
      "execution_count": null,
      "outputs": [
        {
          "output_type": "execute_result",
          "data": {
            "text/plain": [
              "(159571, 5)"
            ]
          },
          "metadata": {},
          "execution_count": 10
        }
      ]
    },
    {
      "cell_type": "markdown",
      "source": [
        "Divide it into train and validation datasets."
      ],
      "metadata": {
        "id": "qls_eJ0LDN1t"
      }
    },
    {
      "cell_type": "code",
      "source": [
        "from sklearn.model_selection import train_test_split\n",
        "\n",
        "df_train, df_valid = train_test_split(train_df, test_size=0.2, stratify=train_df[\"toxic\"])"
      ],
      "metadata": {
        "id": "nQ3AvxJGAq6o"
      },
      "execution_count": null,
      "outputs": []
    },
    {
      "cell_type": "code",
      "source": [
        "df_train = pd.concat(\n",
        "        [\n",
        "            df_train[df_train[\"toxic\"] == 0].sample(\n",
        "                5000, random_state=199, replace=False\n",
        "            ),\n",
        "            df_train[df_train[\"toxic\"] == 1].sample(\n",
        "                5000, random_state=199, replace=False\n",
        "            ),\n",
        "        ]\n",
        "    )\n",
        "df_valid = pd.concat(\n",
        "        [\n",
        "            df_valid[df_valid[\"toxic\"] == 0].sample(\n",
        "                500, random_state=199, replace=False\n",
        "            ),\n",
        "            df_valid[df_valid[\"toxic\"] == 1].sample(\n",
        "                500, random_state=199, replace=False\n",
        "            ),\n",
        "        ]\n",
        "    )"
      ],
      "metadata": {
        "id": "Hu4v7slYXl4l"
      },
      "execution_count": null,
      "outputs": []
    },
    {
      "cell_type": "code",
      "source": [
        "df_train.shape, df_valid.shape"
      ],
      "metadata": {
        "colab": {
          "base_uri": "https://localhost:8080/"
        },
        "id": "YoPgQ53CX4yl",
        "outputId": "0e5734c9-afbf-4165-cb83-2d1ae328d847"
      },
      "execution_count": null,
      "outputs": [
        {
          "output_type": "execute_result",
          "data": {
            "text/plain": [
              "((10000, 5), (1000, 5))"
            ]
          },
          "metadata": {},
          "execution_count": 13
        }
      ]
    },
    {
      "cell_type": "markdown",
      "source": [
        "We ideally want our dataset code to be decoupled from our model training code for better readability and modularity. Let's use PyTorch's data primitives: ```torch.utils.data.DataLoader``` and ```torch.utils.data.Dataset```."
      ],
      "metadata": {
        "id": "_kNGXPFODRd1"
      }
    },
    {
      "cell_type": "markdown",
      "source": [
        "And here is the example how Bert tokenizer works\n",
        "\n",
        "![bert.png](data:image/png;base64,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)"
      ],
      "metadata": {
        "id": "EZKd6ovt8UHn"
      }
    },
    {
      "cell_type": "code",
      "source": [
        "from torch.utils.data import Dataset, DataLoader, RandomSampler\n",
        "\n",
        "def clear_str(string):\n",
        "    \"\"\"\n",
        "    Tokenization/string cleaning for text\n",
        "    \"\"\"\n",
        "    string = re.sub(r\"[^A-Za-z0-9(),!?\\'\\`\\.]\", \" \", string)\n",
        "    string = re.sub(r\"\\'s\", \" 's\", string)\n",
        "    string = re.sub(r\"\\'ve\", \" 've\", string)\n",
        "    string = re.sub(r\"n\\'t\", \" n't\", string)\n",
        "    string = re.sub(r\"\\'d\", \" 'd\", string)\n",
        "    string = re.sub(r\",\", \" , \", string)\n",
        "    string = re.sub(r\"\\.\", \" . \", string)\n",
        "    string = re.sub(r\"!\", \" ! \", string)\n",
        "    string = re.sub(r\"\\(\", \" ( \", string)\n",
        "    string = re.sub(r\"\\)\", \" ) \", string)\n",
        "    string = re.sub(r\"\\?\", \" ? \", string)\n",
        "    string = re.sub(r\"\\s{2,}\", \" \", string)\n",
        "    return string.strip().lower()\n",
        "\n",
        "class ToxicDataset(Dataset):\n",
        "    \n",
        "    def __init__(self, tokenizer: BertTokenizer, dataframe: pd.DataFrame):\n",
        "        self.tokenizer = tokenizer\n",
        "        self.pad_idx = tokenizer.pad_token_id\n",
        "        self.df = dataframe        \n",
        "    \n",
        "    @staticmethod\n",
        "    def row_to_tensor(tokenizer: BertTokenizer, row: pd.Series):\n",
        "        tokens = tokenizer.encode(clear_str(row[\"comment_text\"]), add_special_tokens=True)\n",
        "        tokens = tokens[:119] + [tokens[-1]] if len(tokens) > 120 else tokens\n",
        "        x = torch.LongTensor(tokens)\n",
        "\n",
        "        labels = ['non_toxic', 'toxic']\n",
        "        y = torch.FloatTensor(row[labels])\n",
        "        return x, y\n",
        "\n",
        "    def __len__(self):\n",
        "        return len(self.df)\n",
        "\n",
        "    def __getitem__(self, index: int):\n",
        "        return self.row_to_tensor(self.tokenizer, self.df.iloc[index])"
      ],
      "metadata": {
        "id": "s6EVNd3pGrGQ"
      },
      "execution_count": null,
      "outputs": []
    },
    {
      "cell_type": "code",
      "source": [
        "from functools import partial\n",
        "from torch.nn.utils.rnn import pad_sequence\n",
        "\n",
        "# merges a list of samples to form a mini-batch of Tensors\n",
        "def collate_fn(batch, device: torch.device):\n",
        "    x, y = list(zip(*batch))\n",
        "    x = pad_sequence(x, batch_first=True, padding_value=0)\n",
        "    y = torch.stack(y)\n",
        "    return x.to(device), y.to(device)\n",
        "\n",
        "collate_fn = partial(collate_fn, device=device)"
      ],
      "metadata": {
        "id": "feJy_RCgKz6c"
      },
      "execution_count": null,
      "outputs": []
    },
    {
      "cell_type": "code",
      "source": [
        "bert_model_name = 'bert-base-cased'\n",
        "tokenizer = BertTokenizer.from_pretrained(bert_model_name)\n",
        "\n",
        "train_dataset = ToxicDataset(tokenizer, df_train)\n",
        "val_dataset = ToxicDataset(tokenizer, df_valid)\n",
        "\n",
        "BATCH_SIZE = 32\n",
        "train_sampler = RandomSampler(train_dataset)\n",
        "dev_sampler = RandomSampler(val_dataset)\n",
        "\n",
        "train_iterator = DataLoader(train_dataset, batch_size=BATCH_SIZE,\n",
        "                            sampler=train_sampler, collate_fn=collate_fn)\n",
        "\n",
        "val_iterator = DataLoader(val_dataset, batch_size=BATCH_SIZE,\n",
        "                          sampler=dev_sampler, collate_fn=collate_fn)"
      ],
      "metadata": {
        "id": "f84GgrAXL9OX",
        "colab": {
          "base_uri": "https://localhost:8080/",
          "height": 113,
          "referenced_widgets": [
            "09026624748748b1bcd8e4c97160157b",
            "b594c6fd9c8c48bbafd62d1fb59b5ac3",
            "97707dd97a6e45198a1438d0eafdf445",
            "abe9668d88e54b5784e6618b5685305c",
            "bb6a2b704d8f45e487e681423486a78c",
            "501ff5b971cd4e428e92949059276e4e",
            "418b1934fc544221ad86c2c5ceb83058",
            "9bba21c7738b4e08952740666050e673",
            "a6138085667547d29a24722c8c5c4309",
            "30c849a5a7864d99b84ed692848aec16",
            "0538695a01e642c18262990091c8bf74",
            "a21a8ccf1f084c1ea516c1b4ac3eec61",
            "d2cbd49e103349fd8cdf40820f3c4ec9",
            "d2e8faef0fd14f11a494bb7399e1ab41",
            "f802236a9a594ce9abb7522305db7dee",
            "0855523f29cd469b97c68fee5cbe30cb",
            "fdd8f69139a042dc91476e4470400313",
            "b8f32ed9454d43618d9a1f5c9ab03036",
            "542e18d7e9e74f61b387022d7bd9eee7",
            "5203d5efcba34d06b555e5dfada07785",
            "2d1b1228bfb94e609151aeeb7add41df",
            "dd8cf6bb523648deb80c3d8c0dc142c5",
            "a5dee3674cf446b19a8440d78cde9f44",
            "ccc0af7ac9924649bb78f6bc205f992f",
            "7a10ea1becef4980a125ad44b0321dd3",
            "1853da7cd7af4dae9db44f0390420752",
            "5d54a4dc69dd4f2d814b1f151f7c98c9",
            "1cb3bf35eab24139a7ea0e9619ed0ae8",
            "662ab31b881c483eab58341e81e1bfc2",
            "1f466a62265f4b6eabee049c5b165e13",
            "cb1b9243b7be4307969f20a9123fca6b",
            "b29dc4238b404798ac9a209669179b0c",
            "d82dd26ef3d64ef29ca1544fd1433c08"
          ]
        },
        "outputId": "e6c31b9f-6e88-48ae-ac16-392e3f68967a"
      },
      "execution_count": null,
      "outputs": [
        {
          "output_type": "display_data",
          "data": {
            "text/plain": [
              "Downloading (…)solve/main/vocab.txt:   0%|          | 0.00/213k [00:00<?, ?B/s]"
            ],
            "application/vnd.jupyter.widget-view+json": {
              "version_major": 2,
              "version_minor": 0,
              "model_id": "09026624748748b1bcd8e4c97160157b"
            }
          },
          "metadata": {}
        },
        {
          "output_type": "display_data",
          "data": {
            "text/plain": [
              "Downloading (…)okenizer_config.json:   0%|          | 0.00/29.0 [00:00<?, ?B/s]"
            ],
            "application/vnd.jupyter.widget-view+json": {
              "version_major": 2,
              "version_minor": 0,
              "model_id": "a21a8ccf1f084c1ea516c1b4ac3eec61"
            }
          },
          "metadata": {}
        },
        {
          "output_type": "display_data",
          "data": {
            "text/plain": [
              "Downloading (…)lve/main/config.json:   0%|          | 0.00/570 [00:00<?, ?B/s]"
            ],
            "application/vnd.jupyter.widget-view+json": {
              "version_major": 2,
              "version_minor": 0,
              "model_id": "a5dee3674cf446b19a8440d78cde9f44"
            }
          },
          "metadata": {}
        }
      ]
    },
    {
      "cell_type": "markdown",
      "source": [
        "# Build the model"
      ],
      "metadata": {
        "id": "zomjfjN2POPD"
      }
    },
    {
      "cell_type": "markdown",
      "source": [
        "So, my model's architecture will looks like this.\n",
        "\n",
        "\n",
        "![BERT-classification-spam.png](data:image/png;base64,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)"
      ],
      "metadata": {
        "id": "tJgTyDUeiHW6"
      }
    },
    {
      "cell_type": "code",
      "source": [
        "class BertClassifier(nn.Module):\n",
        "    def __init__(self, bert: BertModel, num_classes: int):\n",
        "        super().__init__()\n",
        "        self.bert = bert\n",
        "        self.classifier = nn.Linear(bert.config.hidden_size, num_classes)\n",
        "        self.softmax = nn.Softmax(dim=1)\n",
        "        \n",
        "    def forward(self, input_ids, attention_mask=None):\n",
        "        x = self.bert(input_ids, attention_mask=attention_mask)\n",
        "        cls_x = x[1] # sentence embedding. Pooler_output is the embedding of the [CLS] special token. It is considered as a valid representation of the complete sentence.\n",
        "        cls_x = self.classifier(cls_x)\n",
        "        # print(cls_x.shape)\n",
        "        out = self.softmax(cls_x)\n",
        "        return out\n",
        "\n",
        "bert = BertModel.from_pretrained(bert_model_name)"
      ],
      "metadata": {
        "id": "pR8qKuD2HQPS",
        "colab": {
          "base_uri": "https://localhost:8080/",
          "height": 121,
          "referenced_widgets": [
            "76b4e4aeef75445195ed7763b9a28be0",
            "b49945331c254559ac5fe509a4c38fa2",
            "c26923aef7bc448ab7c2b5b9c2b385a7",
            "7d06d0d8bfac4220be14e5eea806c78c",
            "ec3ef9b19fd64e188d2410f8089735df",
            "3fd0744c63f9464196741df374a64030",
            "e5a5955b74f04cc98c577c0683948aa0",
            "7486016d440f41679f72b7ccc01859cd",
            "03f833be8ebd497995cdb510d7518662",
            "282afe9a39c84cf29a62281744d1b677",
            "ea8c1960d3c441b599e2d50483023f95"
          ]
        },
        "outputId": "76998236-992c-43cf-d54c-7473af207892"
      },
      "execution_count": null,
      "outputs": [
        {
          "output_type": "display_data",
          "data": {
            "text/plain": [
              "Downloading pytorch_model.bin:   0%|          | 0.00/436M [00:00<?, ?B/s]"
            ],
            "application/vnd.jupyter.widget-view+json": {
              "version_major": 2,
              "version_minor": 0,
              "model_id": "76b4e4aeef75445195ed7763b9a28be0"
            }
          },
          "metadata": {}
        },
        {
          "output_type": "stream",
          "name": "stderr",
          "text": [
            "Some weights of the model checkpoint at bert-base-cased were not used when initializing BertModel: ['cls.predictions.transform.LayerNorm.bias', 'cls.predictions.transform.dense.bias', 'cls.seq_relationship.bias', 'cls.seq_relationship.weight', 'cls.predictions.decoder.weight', 'cls.predictions.transform.dense.weight', 'cls.predictions.transform.LayerNorm.weight', 'cls.predictions.bias']\n",
            "- This IS expected if you are initializing BertModel from the checkpoint of a model trained on another task or with another architecture (e.g. initializing a BertForSequenceClassification model from a BertForPreTraining model).\n",
            "- This IS NOT expected if you are initializing BertModel from the checkpoint of a model that you expect to be exactly identical (initializing a BertForSequenceClassification model from a BertForSequenceClassification model).\n"
          ]
        }
      ]
    },
    {
      "cell_type": "markdown",
      "source": [
        "# Train process"
      ],
      "metadata": {
        "id": "yjuD8_cHb-mM"
      }
    },
    {
      "cell_type": "code",
      "source": [
        "from sklearn.metrics import roc_auc_score\n",
        "\n",
        "def train(model, iterator, optimizer, scheduler, loss_func):\n",
        "    model.train()\n",
        "    total_loss = 0\n",
        "\n",
        "    iteration = 0\n",
        "    for x, y in tqdm(iterator):\n",
        "        iteration += 1\n",
        "        optimizer.zero_grad()\n",
        "        mask = (x != 0).float()\n",
        "        outputs = model(x, attention_mask=mask)\n",
        "        loss = loss_func(outputs, y)\n",
        "        total_loss += loss.item()\n",
        "        loss.backward()\n",
        "        optimizer.step()\n",
        "        scheduler.step()\n",
        "\n",
        "        if iteration % 100 == 0:\n",
        "            print(f\"\\n\\nEVALUATING at iteration - {iteration}\")\n",
        "            evaluate(model, val_iterator)\n",
        "\n",
        "    print(f\"Train loss {total_loss / len(iterator)}\\n\")\n",
        "\n",
        "def evaluate(model, iterator):\n",
        "    model.eval()\n",
        "    pred = []\n",
        "    true = []\n",
        "    with torch.no_grad():\n",
        "        total_loss = 0\n",
        "        for x, y in iterator:\n",
        "            mask = (x != 0).float()\n",
        "            outputs = model(x, attention_mask=mask)\n",
        "            loss = loss_func(outputs, y)\n",
        "            total_loss += loss\n",
        "            outputs = torch.argmax(outputs, dim=1)\n",
        "            y = torch.argmax(y, dim=1)\n",
        "            # print(outputs.shape)\n",
        "            true += y.cpu().numpy().tolist()\n",
        "            pred += outputs.cpu().numpy().tolist()\n",
        "    true = np.array(true)\n",
        "    pred = np.array(pred)\n",
        "\n",
        "    labels = ['toxic']\n",
        "    print(\"\\nROC_AUC for labels:\")\n",
        "    for i, name in enumerate(labels):\n",
        "        print(f\" * {name} - {roc_auc_score(true, pred)}\")\n",
        "    print(f\"\\nEVALUATE LOSS -  {total_loss / len(iterator)}\\n\")"
      ],
      "metadata": {
        "id": "v9B592IQHTPn"
      },
      "execution_count": null,
      "outputs": []
    },
    {
      "cell_type": "code",
      "source": [
        "torch.cuda.empty_cache()"
      ],
      "metadata": {
        "id": "MzZUaS7cj8qE"
      },
      "execution_count": null,
      "outputs": []
    },
    {
      "cell_type": "code",
      "source": [
        "from transformers import get_linear_schedule_with_warmup\n",
        "\n",
        "EPOCH_NUM = 1\n",
        "lr = 2e-5\n",
        "\n",
        "model     = BertClassifier(bert, 2).to(device)\n",
        "loss_func = nn.BCELoss()\n",
        "optimizer = optim.AdamW(model.parameters(), lr=lr)\n",
        "\n",
        "# The triangle learning rate advances linearly until half of the first epoch, then linearly decays.\n",
        "w_steps = 10 ** 3\n",
        "t_steps = len(train_iterator) * EPOCH_NUM - w_steps\n",
        "scheduler = get_linear_schedule_with_warmup(optimizer, w_steps, t_steps)"
      ],
      "metadata": {
        "id": "ssJVhgBNHZLR"
      },
      "execution_count": null,
      "outputs": []
    },
    {
      "cell_type": "code",
      "source": [
        "for i in range(EPOCH_NUM):\n",
        "    print('=' * 50, f\"EPOCH {i}\", '=' * 50)\n",
        "    print(\"\\nTRAINING\\n\")\n",
        "    train(model, train_iterator, optimizer, scheduler, loss_func)\n",
        "    print(\"\\nEVALUATING\\n\")\n",
        "    evaluate(model, val_iterator)"
      ],
      "metadata": {
        "colab": {
          "base_uri": "https://localhost:8080/"
        },
        "id": "zglzTawSHa6d",
        "outputId": "a36f4e34-68ac-4cf5-9edc-27cfe9b6044b"
      },
      "execution_count": null,
      "outputs": [
        {
          "output_type": "stream",
          "name": "stdout",
          "text": [
            "================================================== EPOCH 0 ==================================================\n",
            "\n",
            "TRAINING\n",
            "\n"
          ]
        },
        {
          "output_type": "stream",
          "name": "stderr",
          "text": [
            "  1%|          | 3/313 [00:02<03:34,  1.44it/s]Token indices sequence length is longer than the specified maximum sequence length for this model (1377 > 512). Running this sequence through the model will result in indexing errors\n",
            " 32%|███▏      | 99/313 [01:04<02:15,  1.57it/s]"
          ]
        },
        {
          "output_type": "stream",
          "name": "stdout",
          "text": [
            "\n",
            "\n",
            "EVALUATING at iteration - 100\n"
          ]
        },
        {
          "output_type": "stream",
          "name": "stderr",
          "text": [
            "\r 32%|███▏      | 100/313 [01:12<10:39,  3.00s/it]"
          ]
        },
        {
          "output_type": "stream",
          "name": "stdout",
          "text": [
            "\n",
            "ROC_AUC for labels:\n",
            " * toxic - 0.706\n",
            "\n",
            "EVALUATE LOSS -  0.6353509426116943\n",
            "\n"
          ]
        },
        {
          "output_type": "stream",
          "name": "stderr",
          "text": [
            " 64%|██████▎   | 199/313 [02:14<01:13,  1.55it/s]"
          ]
        },
        {
          "output_type": "stream",
          "name": "stdout",
          "text": [
            "\n",
            "\n",
            "EVALUATING at iteration - 200\n"
          ]
        },
        {
          "output_type": "stream",
          "name": "stderr",
          "text": [
            "\r 64%|██████▍   | 200/313 [02:23<05:37,  2.99s/it]"
          ]
        },
        {
          "output_type": "stream",
          "name": "stdout",
          "text": [
            "\n",
            "ROC_AUC for labels:\n",
            " * toxic - 0.864\n",
            "\n",
            "EVALUATE LOSS -  0.3560759127140045\n",
            "\n"
          ]
        },
        {
          "output_type": "stream",
          "name": "stderr",
          "text": [
            " 96%|█████████▌| 299/313 [03:25<00:08,  1.61it/s]"
          ]
        },
        {
          "output_type": "stream",
          "name": "stdout",
          "text": [
            "\n",
            "\n",
            "EVALUATING at iteration - 300\n"
          ]
        },
        {
          "output_type": "stream",
          "name": "stderr",
          "text": [
            "\r 96%|█████████▌| 300/313 [03:34<00:39,  3.06s/it]"
          ]
        },
        {
          "output_type": "stream",
          "name": "stdout",
          "text": [
            "\n",
            "ROC_AUC for labels:\n",
            " * toxic - 0.9069999999999998\n",
            "\n",
            "EVALUATE LOSS -  0.2315211296081543\n",
            "\n"
          ]
        },
        {
          "output_type": "stream",
          "name": "stderr",
          "text": [
            "100%|██████████| 313/313 [03:42<00:00,  1.41it/s]\n"
          ]
        },
        {
          "output_type": "stream",
          "name": "stdout",
          "text": [
            "Train loss 0.48052120979982443\n",
            "\n",
            "\n",
            "EVALUATING\n",
            "\n",
            "\n",
            "ROC_AUC for labels:\n",
            " * toxic - 0.9030000000000001\n",
            "\n",
            "EVALUATE LOSS -  0.22073188424110413\n",
            "\n"
          ]
        }
      ]
    },
    {
      "cell_type": "code",
      "source": [
        "torch.save(model.state_dict(), COLAB_PATH + \"model.pt\")"
      ],
      "metadata": {
        "id": "wc6AqKrpJZmV"
      },
      "execution_count": null,
      "outputs": []
    },
    {
      "cell_type": "markdown",
      "source": [
        "# Adversarial attack"
      ],
      "metadata": {
        "id": "VOPCbpwnB5HX"
      }
    },
    {
      "cell_type": "markdown",
      "source": [
        "Here we used ```textattack``` for adversarial attack on NLP classification model\n",
        "\n",
        "Idea we take from here: https://arxiv.org/pdf/1907.11932.pdf"
      ],
      "metadata": {
        "id": "d0AhLZjuG_co"
      }
    },
    {
      "cell_type": "code",
      "source": [
        "!pip install textattack[pytorch]"
      ],
      "metadata": {
        "id": "fWW9T_Ynu59o"
      },
      "execution_count": null,
      "outputs": []
    },
    {
      "cell_type": "code",
      "source": [
        "import textattack\n",
        "from textattack.models.wrappers import ModelWrapper\n",
        "from tqdm import tqdm  # tqdm provides us a nice progress bar.\n",
        "from textattack.loggers import CSVLogger  # tracks a dataframe for us.\n",
        "from textattack.attack_results import SuccessfulAttackResult\n",
        "from textattack.attack_recipes.textfooler_jin_2019 import TextFoolerJin2019\n",
        "from textattack import Attacker\n",
        "from textattack import AttackArgs\n",
        "from textattack.models.wrappers import ModelWrapper\n",
        "\n",
        "from transformers import (\n",
        "    AutoTokenizer,\n",
        "    AutoModelForSequenceClassification,\n",
        "    TrainingArguments,\n",
        "    Trainer,\n",
        ")"
      ],
      "metadata": {
        "id": "Fb6plTr8vfDG"
      },
      "execution_count": null,
      "outputs": []
    },
    {
      "cell_type": "code",
      "source": [
        "model_name = \"binary_toxicity_detector\"\n",
        "model_dir = f\"{COLAB_PATH}{model_name}\""
      ],
      "metadata": {
        "id": "8F5V8oUvv42J"
      },
      "execution_count": null,
      "outputs": []
    },
    {
      "cell_type": "code",
      "source": [
        "model.load_state_dict(torch.load(os.path.join(COLAB_PATH, \"model.pt\")))"
      ],
      "metadata": {
        "colab": {
          "base_uri": "https://localhost:8080/"
        },
        "id": "stQjMYZQuLhU",
        "outputId": "823e6095-0bc9-419d-d626-be4a2f884269"
      },
      "execution_count": null,
      "outputs": [
        {
          "output_type": "execute_result",
          "data": {
            "text/plain": [
              "<All keys matched successfully>"
            ]
          },
          "metadata": {},
          "execution_count": 33
        }
      ]
    },
    {
      "cell_type": "markdown",
      "source": [
        "First, we define a custom model wrapper to combine tokenization and model prediction. This step also ensures that the prediction output matches the required output formats of the TextAttack library."
      ],
      "metadata": {
        "id": "zOfGcHRbHTAx"
      }
    },
    {
      "cell_type": "code",
      "source": [
        "from torch.nn.utils.rnn import pad_sequence\n",
        "\n",
        "class MyModelWrapper(ModelWrapper):\n",
        "    def __init__(self, model, tokenizer):\n",
        "        self.model = model\n",
        "        self.tokenizer = tokenizer\n",
        "\n",
        "    def __call__(self, text_input_list):\n",
        "\n",
        "        with torch.no_grad():\n",
        "              x = self.row_to_tensor(text_input_list).to(device)\n",
        "              mask = (x != 0).float()\n",
        "              outputs = model(x, attention_mask=mask)\n",
        "              final_preds = torch.flip(outputs, dims=(1,))\n",
        "\n",
        "        return final_preds\n",
        "        \n",
        "    def row_to_tensor(self, row):\n",
        "        tensor = []\n",
        "\n",
        "        for i in row:\n",
        "            tokens = tokenizer.encode(i, add_special_tokens=True)\n",
        "            tokens = tokens[:119] + [tokens[-1]] if len(tokens) > 120 else tokens\n",
        "            tensor.append(torch.LongTensor(tokens))\n",
        "        tensor = pad_sequence(tensor, batch_first=True, padding_value=0)\n",
        "        x = torch.LongTensor(tensor)\n",
        "        return x"
      ],
      "metadata": {
        "id": "UNV3WBoNuuVH"
      },
      "execution_count": null,
      "outputs": []
    },
    {
      "cell_type": "code",
      "source": [
        "trained_model = model\n",
        "trained_model = trained_model.to(device)\n",
        "model_wrapper = MyModelWrapper(trained_model, tokenizer)"
      ],
      "metadata": {
        "id": "PXjWCBJhuzSM"
      },
      "execution_count": null,
      "outputs": []
    },
    {
      "cell_type": "code",
      "source": [
        "sub_sample_to_attack = 100\n",
        "df_train_to_attack = df_train[df_train[\"toxic\"] == 1].sample(sub_sample_to_attack)\n",
        "\n",
        "## We attack the toxic samples\n",
        "## Goal is to perturbe toxic samples enough that the model classifies them as Non-toxic\n",
        "\n",
        "train_dataset_to_attack = textattack.datasets.Dataset(\n",
        "    [\n",
        "        (x, 1)\n",
        "        for x, y in zip(\n",
        "            df_train_to_attack[\"comment_text\"],\n",
        "            df_train_to_attack[\"toxic\"],\n",
        "        )\n",
        "    ]\n",
        ")"
      ],
      "metadata": {
        "id": "3Qj3OBAWwZCG"
      },
      "execution_count": null,
      "outputs": []
    },
    {
      "cell_type": "markdown",
      "source": [
        "Here we define the function to generate the attacks:"
      ],
      "metadata": {
        "id": "zS_DaWzNIZKX"
      }
    },
    {
      "cell_type": "code",
      "source": [
        "def generate_attacks(model_wrapper, dataset_to_attack, num_examples=-1, parallel=False):\n",
        "\n",
        "    attack = TextFoolerJin2019.build(model_wrapper)\n",
        "\n",
        "    attack_args = textattack.AttackArgs(\n",
        "        num_examples=num_examples, parallel=parallel, num_workers_per_device=5\n",
        "    )  ## num_examples = -1 means the entire dataset\n",
        "    attacker = Attacker(attack, dataset_to_attack, attack_args)\n",
        "    attack_results = attacker.attack_dataset()\n",
        "    return attack_results"
      ],
      "metadata": {
        "id": "2Opw9sA3wdJN"
      },
      "execution_count": null,
      "outputs": []
    },
    {
      "cell_type": "markdown",
      "source": [
        "Doing Attack"
      ],
      "metadata": {
        "id": "Xjn23v2UIbkc"
      }
    },
    {
      "cell_type": "code",
      "source": [
        "train_attack_results = generate_attacks(model_wrapper, train_dataset_to_attack, num_examples=-1)"
      ],
      "metadata": {
        "colab": {
          "base_uri": "https://localhost:8080/"
        },
        "id": "f4-C03fuwxSP",
        "outputId": "80ccb7f1-881c-4a47-de14-ff10de8ecba6"
      },
      "execution_count": null,
      "outputs": [
        {
          "output_type": "stream",
          "name": "stderr",
          "text": [
            "textattack: Unknown if model of class <class '__main__.BertClassifier'> compatible with goal function <class 'textattack.goal_functions.classification.untargeted_classification.UntargetedClassification'>.\n"
          ]
        },
        {
          "output_type": "stream",
          "name": "stdout",
          "text": [
            "Attack(\n",
            "  (search_method): GreedyWordSwapWIR(\n",
            "    (wir_method):  delete\n",
            "  )\n",
            "  (goal_function):  UntargetedClassification\n",
            "  (transformation):  WordSwapEmbedding(\n",
            "    (max_candidates):  50\n",
            "    (embedding):  WordEmbedding\n",
            "  )\n",
            "  (constraints): \n",
            "    (0): WordEmbeddingDistance(\n",
            "        (embedding):  WordEmbedding\n",
            "        (min_cos_sim):  0.5\n",
            "        (cased):  False\n",
            "        (include_unknown_words):  True\n",
            "        (compare_against_original):  True\n",
            "      )\n",
            "    (1): PartOfSpeech(\n",
            "        (tagger_type):  nltk\n",
            "        (tagset):  universal\n",
            "        (allow_verb_noun_swap):  True\n",
            "        (compare_against_original):  True\n",
            "      )\n",
            "    (2): UniversalSentenceEncoder(\n",
            "        (metric):  angular\n",
            "        (threshold):  0.840845057\n",
            "        (window_size):  15\n",
            "        (skip_text_shorter_than_window):  True\n",
            "        (compare_against_original):  False\n",
            "      )\n",
            "    (3): RepeatModification\n",
            "    (4): StopwordModification\n",
            "    (5): InputColumnModification(\n",
            "        (matching_column_labels):  ['premise', 'hypothesis']\n",
            "        (columns_to_ignore):  {'premise'}\n",
            "      )\n",
            "  (is_black_box):  True\n",
            ") \n",
            "\n"
          ]
        },
        {
          "output_type": "stream",
          "name": "stderr",
          "text": [
            "[Succeeded / Failed / Skipped / Total] 1 / 1 / 0 / 2:   2%|▏         | 2/100 [00:14<12:08,  7.43s/it]"
          ]
        },
        {
          "output_type": "stream",
          "name": "stdout",
          "text": [
            "--------------------------------------------- Result 1 ---------------------------------------------\n",
            "[[1 (98%)]] --> [[[FAILED]]]\n",
            "\n",
            "what the hell!!!! \n",
            "\n",
            "what the hell is your fucking problem? i am going to sue the fucking pants off of you for dicrimination against a minority you mother fucking asshole!!!! i will kill you the next time you try anything. go ahead block my account, i don't give a shit!!!! you really think that Wikipedia is my life? i'm not a no life loser =like you.\n",
            "\n",
            "\n",
            "--------------------------------------------- Result 2 ---------------------------------------------\n",
            "[[1 (94%)]] --> [[0 (81%)]]\n",
            "\n",
            "Faggggggggggggit drew [[likes]] [[penis]]\n",
            "\n",
            "Faggggggggggggit drew [[genus]] [[stroking]]\n",
            "\n",
            "\n"
          ]
        },
        {
          "output_type": "stream",
          "name": "stderr",
          "text": [
            "[Succeeded / Failed / Skipped / Total] 2 / 1 / 0 / 3:   3%|▎         | 3/100 [00:15<08:08,  5.04s/it]"
          ]
        },
        {
          "output_type": "stream",
          "name": "stdout",
          "text": [
            "--------------------------------------------- Result 3 ---------------------------------------------\n",
            "[[1 (81%)]] --> [[0 (50%)]]\n",
            "\n",
            "Vandalism [[spree]]\n",
            "Your vandalism spree is [[pitiful]].  All this, after I supported your motions?  Thanks a lot.\n",
            "\n",
            "Vandalism [[fury]]\n",
            "Your vandalism spree is [[unfortunate]].  All this, after I supported your motions?  Thanks a lot.\n",
            "\n",
            "\n"
          ]
        },
        {
          "output_type": "stream",
          "name": "stderr",
          "text": [
            "[Succeeded / Failed / Skipped / Total] 2 / 2 / 0 / 4:   4%|▍         | 4/100 [01:09<27:58, 17.49s/it]"
          ]
        },
        {
          "output_type": "stream",
          "name": "stdout",
          "text": [
            "--------------------------------------------- Result 4 ---------------------------------------------\n",
            "[[1 (96%)]] --> [[[FAILED]]]\n",
            "\n",
            "YOUR ARE FUCKING GAY WAD!!!!!!!!!!!!!!!!!!!!!!!!!!!!!!!!!!!!!!!!!!!!!!!!!!!!!!!!!!!!!!!!!!!!!!!!!!!!!!!!!!!!!!!!!!!!!!!!!!!!!!!!!!!!!!!!!!!!!!!!!!!!!!!!!!!!!!!!!!!!!!!!!!!!!!!!!!!!!!!!!!!!!!!!!!!!!!!! \n",
            "\n",
            "I fucked your mum. OH WAIT YOUR GAY YOU DONT HAVE A MOM!!! HAHAHAHAHAHAHAHAHAHAHAHAHAHAHAHAHAHAHAHAHAHAHAHAHAHAHAHAHAHAHAHAHAHAHAHAHAHAHAHAHAHAHAHAHAHAHAHAHAHAHAHAHAHAHAHAHAHAHAHAHAHAHAHAHAHAHAHAHAHAHAHAHAHAHAHAHAHAHAHAHAHAHAHAHAHAHAHAHAHAHAHAHAHAHAHAHAHAHAHAHAHAHAHAHAHAHAHAHAHAHAHAHAHAHAHAHAHAHAHAHAHAHAHAHAHAHAHAHAHAHAHAHAHAHAHAHAHAHAHAHAHAHAHAHAHAHAHAHAHAHAHAHAHAHAHAHAHAHAHAHA\n",
            "LOLOLOLOLOLOLOLOLOLOLOLOLOLOLOLOLOLOLOLOLOLOLOLOLOLOLOLOLOLOLOLOLOLOLOLOLOLOLOLOLOLOLOLOLOLOLOLOLOLOLOLOLOLOLOLOLOLOLOLOLOLOLOLOLOLOLOLOLOLOLOLOLOLOLOLOLOLOLOLOLOLOLOLOLOLOLOLOLOLOLOLOLOLOLOLOLOLOLOLOLOLOLOLOLOLOLOLOLOLOLOLOL\n",
            "CUNTCUNTCUNTCUNTCUNTCUNTCUNTCUNTCUNTCUNTCUNTCUNTCUNTCUNTCUNTCUNTCUNTCUNTCUNTCUNTCUNTCUNTCUNTCUNTCUNTCUNTCUNTCUNTCUNTCUNTCUNTCUNTCUNTCUNTCUNTCUNTCUNTCUNTCUNTCUNTCUNTCUNTCUNTCUNTCUNTCUNTI fucked your mum. OH WAIT YOUR GAY YOU DONT HAVE A MOM!!! HAHAHAHAHAHAHAHAHAHAHAHAHAHAHAHAHAHAHAHAHAHAHAHAHAHAHAHAHAHAHAHAHAHAHAHAHAHAHAHAHAHAHAHAHAHAHAHAHAHAHAHAHAHAHAHAHAHAHAHAHAHAHAHAHAHAHAHAHAHAHAHAHAHAHAHAHAHAHAHAHAHAHAHAHAHAHAHAHAHAHAHAHAHAHAHAHAHAHAHAHAHAHAHAHAHAHAHAHAHAHAHAHAHAHAHAHAHAHAHAHAHAHAHAHAHAHAHAHAHAHAHAHAHAHAHAHAHAHAHAHAHAHAHAHAHAHAHAHAHAHAHAHAHAHAHAHAHAHAHAHA\n",
            "LOLOLOLOLOLOLOLOLOLOLOLOLOLOLOLOLOLOLOLOLOLOLOLOLOLOLOLOLOLOLOLOLOLOLOLOLOLOLOLOLOLOLOLOLOLOLOLOLOLOLOLOLOLOLOLOLOLOLOLOLOLOLOLOLOLOLOLOLOLOLOLOLOLOLOLOLOLOLOLOLOLOLOLOLOLOLOLOLOLOLOLOLOLOLOLOLOLOLOLOLOLOLOLOLOLOLOLOLOLOLOLOL\n",
            "CUNTCUNTCUNTCUNTCUNTCUNTCUNTCUNTCUNTCUNTCUNTCUNTCUNTCUNTCUNTCUNTCUNTCUNTCUNTCUNTCUNTCUNTCUNTCUNTCUNTCUNTCUNTCUNTCUNTCUNTCUNTCUNTCUNTCUNTCUNTCUNTCUNTCUNTCUNTCUNTCUNTCUNTCUNTCUNTCUNTCUNTI fucked your mum. OH WAIT YOUR GAY YOU DONT HAVE A MOM!!! HAHAHAHAHAHAHAHAHAHAHAHAHAHAHAHAHAHAHAHAHAHAHAHAHAHAHAHAHAHAHAHAHAHAHAHAHAHAHAHAHAHAHAHAHAHAHAHAHAHAHAHAHAHAHAHAHAHAHAHAHAHAHAHAHAHAHAHAHAHAHAHAHAHAHAHAHAHAHAHAHAHAHAHAHAHAHAHAHAHAHAHAHAHAHAHAHAHAHAHAHAHAHAHAHAHAHAHAHAHAHAHAHAHAHAHAHAHAHAHAHAHAHAHAHAHAHAHAHAHAHAHAHAHAHAHAHAHAHAHAHAHAHAHAHAHAHAHAHAHAHAHAHAHAHAHAHAHAHAHAHA\n",
            "LOLOLOLOLOLOLOLOLOLOLOLOLOLOLOLOLOLOLOLOLOLOLOLOLOLOLOLOLOLOLOLOLOLOLOLOLOLOLOLOLOLOLOLOLOLOLOLOLOLOLOLOLOLOLOLOLOLOLOLOLOLOLOLOLOLOLOLOLOLOLOLOLOLOLOLOLOLOLOLOLOLOLOLOLOLOLOLOLOLOLOLOLOLOLOLOLOLOLOLOLOLOLOLOLOLOLOLOLOLOLOLOL\n",
            "CUNTCUNTCUNTCUNTCUNTCUNTCUNTCUNTCUNTCUNTCUNTCUNTCUNTCUNTCUNTCUNTCUNTCUNTCUNTCUNTCUNTCUNTCUNTCUNTCUNTCUNTCUNTCUNTCUNTCUNTCUNTCUNTCUNTCUNTCUNTCUNTCUNTCUNTCUNTCUNTCUNTCUNTCUNTCUNTCUNTCUNTI fucked your mum. OH WAIT YOUR GAY YOU DONT HAVE A MOM!!! HAHAHAHAHAHAHAHAHAHAHAHAHAHAHAHAHAHAHAHAHAHAHAHAHAHAHAHAHAHAHAHAHAHAHAHAHAHAHAHAHAHAHAHAHAHAHAHAHAHAHAHAHAHAHAHAHAHAHAHAHAHAHAHAHAHAHAHAHAHAHAHAHAHAHAHAHAHAHAHAHAHAHAHAHAHAHAHAHAHAHAHAHAHAHAHAHAHAHAHAHAHAHAHAHAHAHAHAHAHAHAHAHAHAHAHAHAHAHAHAHAHAHAHAHAHAHAHAHAHAHAHAHAHAHAHAHAHAHAHAHAHAHAHAHAHAHAHAHAHAHAHAHAHAHAHAHAHAHAHAHA\n",
            "LOLOLOLOLOLOLOLOLOLOLOLOLOLOLOLOLOLOLOLOLOLOLOLOLOLOLOLOLOLOLOLOLOLOLOLOLOLOLOLOLOLOLOLOLOLOLOLOLOLOLOLOLOLOLOLOLOLOLOLOLOLOLOLOLOLOLOLOLOLOLOLOLOLOLOLOLOLOLOLOLOLOLOLOLOLOLOLOLOLOLOLOLOLOLOLOLOLOLOLOLOLOLOLOLOLOLOLOLOLOLOLOL\n",
            "CUNTCUNTCUNTCUNTCUNTCUNTCUNTCUNTCUNTCUNTCUNTCUNTCUNTCUNTCUNTCUNTCUNTCUNTCUNTCUNTCUNTCUNTCUNTCUNTCUNTCUNTCUNTCUNTCUNTCUNTCUNTCUNTCUNTCUNTCUNTCUNTCUNTCUNTCUNTCUNTCUNTCUNTCUNTCUNTCUNTCUNTI fucked your mum. OH WAIT YOUR GAY YOU DONT HAVE A MOM!!! HAHAHAHAHAHAHAHAHAHAHAHAHAHAHAHAHAHAHAHAHAHAHAHAHAHAHAHAHAHAHAHAHAHAHAHAHAHAHAHAHAHAHAHAHAHAHAHAHAHAHAHAHAHAHAHAHAHAHAHAHAHAHAHAHAHAHAHAHAHAHAHAHAHAHAHAHAHAHAHAHAHAHAHAHAHAHAHAHAHAHAHAHAHAHAHAHAHAHAHAHAHAHAHAHAHAHAHAHAHAHAHAHAHAHAHAHAHAHAHAHAHAHAHAHAHAHAHAHAHAHAHAHAHAHAHAHAHAHAHAHAHAHAHAHAHAHAHAHAHAHAHAHAHAHAHAHAHAHAHAHA\n",
            "LOLOLOLOLOLOLOLOLOLOLOLOLOLOLOLOLOLOLOLOLOLOLOLOLOLOLOLOLOLOLOLOLOLOLOLOLOLOLOLOLOLOLOLOLOLOLOLOLOLOLOLOLOLOLOLOLOLOLOLOLOLOLOLOLOLOLOLOLOLOLOLOLOLOLOLOLOLOLOLOLOLOLOLOLOLOLOLOLOLOLOLOLOLOLOLOLOLOLOLOLOLOLOLOLOLOLOLOLOLOLOLOL\n",
            "CUNTCUNTCUNTCUNTCUNTCUNTCUNTCUNTCUNTCUNTCUNTCUNTCUNTCUNTCUNTCUNTCUNTCUNTCUNTCUNTCUNTCUNTCUNTCUNTCUNTCUNTCUNTCUNTCUNTCUNTCUNTCUNTCUNTCUNTCUNTCUNTCUNTCUNTCUNTCUNTCUNTCUNTCUNTCUNTCUNTCUNTI fucked your mum. OH WAIT YOUR GAY YOU DONT HAVE A MOM!!! HAHAHAHAHAHAHAHAHAHAHAHAHAHAHAHAHAHAHAHAHAHAHAHAHAHAHAHAHAHAHAHAHAHAHAHAHAHAHAHAHAHAHAHAHAHAHAHAHAHAHAHAHAHAHAHAHAHAHAHAHAHAHAHAHAHAHAHAHAHAHAHAHAHAHAHAHAHAHAHAHAHAHAHAHAHAHAHAHAHAHAHAHAHAHAHAHAHAHAHAHAHAHAHAHAHAHAHAHAHAHAHAHAHAHAHAHAHAHAHAHAHAHAHAHAHAHAHAHAHAHAHAHAHAHAHAHAHAHAHAHAHAHAHAHAHAHAHAHAHAHAHAHAHAHAHAHAHAHAHAHA\n",
            "LOLOLOLOLOLOLOLOLOLOLOLOLOLOLOLOLOLOLOLOLOLOLOLOLOLOLOLOLOLOLOLOLOLOLOLOLOLOLOLOLOLOLOLOLOLOLOLOLOLOLOLOLOLOLOLOLOLOLOLOLOLOLOLOLOLOLOLOLOLOLOLOLOLOLOLOLOLOLOLOLOLOLOLOLOLOLOLOLOLOLOLOLOLOLOLOLOLOLOLOLOLOLOLOLOLOLOLOLOLOLOLOL\n",
            "CUNTCUNTCUNTCUNTCUNTCUNTCUNTCUNTCUNTCUNTCUNTCUNTCUNTCUNTCUNTCUNTCUNTCUNTCUNTCUNTCUNTCUNTCUNTCUNTCUNTCUNTCUNTCUNTCUNTCUNTCUNTCU\n",
            "\n",
            "\n"
          ]
        },
        {
          "output_type": "stream",
          "name": "stderr",
          "text": [
            "[Succeeded / Failed / Skipped / Total] 3 / 2 / 0 / 5:   5%|▌         | 5/100 [01:11<22:35, 14.27s/it]"
          ]
        },
        {
          "output_type": "stream",
          "name": "stdout",
          "text": [
            "--------------------------------------------- Result 5 ---------------------------------------------\n",
            "[[1 (95%)]] --> [[0 (58%)]]\n",
            "\n",
            "\"\n",
            "\n",
            " Hey D \n",
            "\n",
            "  Hey D [[Fuck]] you.  I'm not disruptively [[editing]] at all, you're just [[mad]] at me since we have different viewpoints.   \"\n",
            "\n",
            "\"\n",
            "\n",
            " Hey D \n",
            "\n",
            "  Hey D [[Sodding]] you.  I'm not disruptively [[revisions]] at all, you're just [[angered]] at me since we have different viewpoints.   \"\n",
            "\n",
            "\n"
          ]
        },
        {
          "output_type": "stream",
          "name": "stderr",
          "text": [
            "[Succeeded / Failed / Skipped / Total] 3 / 3 / 0 / 6:   6%|▌         | 6/100 [01:13<19:08, 12.21s/it]"
          ]
        },
        {
          "output_type": "stream",
          "name": "stdout",
          "text": [
            "--------------------------------------------- Result 6 ---------------------------------------------\n",
            "[[1 (97%)]] --> [[[FAILED]]]\n",
            "\n",
            "Your harassment of me\n",
            "\n",
            "Cease your wikistalking you little freak.\n",
            "\n",
            "http://en.wikipedia.org/wiki/Wikipedia:Harassment#Wikihounding\n",
            "\n",
            "\n"
          ]
        },
        {
          "output_type": "stream",
          "name": "stderr",
          "text": [
            "[Succeeded / Failed / Skipped / Total] 3 / 4 / 0 / 7:   7%|▋         | 7/100 [01:16<16:56, 10.93s/it]"
          ]
        },
        {
          "output_type": "stream",
          "name": "stdout",
          "text": [
            "--------------------------------------------- Result 7 ---------------------------------------------\n",
            "[[1 (98%)]] --> [[[FAILED]]]\n",
            "\n",
            "you're a dirty faggot \n",
            "\n",
            "lick my hairy nut sack douche bag, i'm gonna edit the shit out of wikipedia and enjoy it so fuk you\n",
            "\n",
            "\n"
          ]
        },
        {
          "output_type": "stream",
          "name": "stderr",
          "text": [
            "[Succeeded / Failed / Skipped / Total] 3 / 5 / 0 / 8:   8%|▊         | 8/100 [01:17<14:46,  9.64s/it]"
          ]
        },
        {
          "output_type": "stream",
          "name": "stdout",
          "text": [
            "--------------------------------------------- Result 8 ---------------------------------------------\n",
            "[[1 (97%)]] --> [[[FAILED]]]\n",
            "\n",
            "fucking loser suck a dick\n",
            "\n",
            "\n"
          ]
        },
        {
          "output_type": "stream",
          "name": "stderr",
          "text": [
            "[Succeeded / Failed / Skipped / Total] 4 / 5 / 0 / 9:   9%|▉         | 9/100 [01:17<13:02,  8.60s/it]"
          ]
        },
        {
          "output_type": "stream",
          "name": "stdout",
          "text": [
            "--------------------------------------------- Result 9 ---------------------------------------------\n",
            "[[1 (84%)]] --> [[0 (61%)]]\n",
            "\n",
            "Why don't you just admit you're an [[imposter]]?\n",
            "\n",
            "Why don't you just admit you're an [[falsify]]?\n",
            "\n",
            "\n"
          ]
        },
        {
          "output_type": "stream",
          "name": "stderr",
          "text": [
            "[Succeeded / Failed / Skipped / Total] 5 / 5 / 0 / 10:  10%|█         | 10/100 [01:18<11:43,  7.82s/it]"
          ]
        },
        {
          "output_type": "stream",
          "name": "stdout",
          "text": [
            "--------------------------------------------- Result 10 ---------------------------------------------\n",
            "[[1 (97%)]] --> [[0 (55%)]]\n",
            "\n",
            "[[Dont]] [[fuck]] with wikipedia admins you [[filthy]] [[jew]]  (tlk) (cntrbtns)\n",
            "\n",
            "[[Prob]] [[gorram]] with wikipedia admins you [[sales]] [[israelis]]  (tlk) (cntrbtns)\n",
            "\n",
            "\n"
          ]
        },
        {
          "output_type": "stream",
          "name": "stderr",
          "text": [
            "[Succeeded / Failed / Skipped / Total] 6 / 5 / 0 / 11:  11%|█         | 11/100 [01:19<10:41,  7.21s/it]"
          ]
        },
        {
          "output_type": "stream",
          "name": "stdout",
          "text": [
            "--------------------------------------------- Result 11 ---------------------------------------------\n",
            "[[1 (90%)]] --> [[0 (57%)]]\n",
            "\n",
            "[[PISS]] [[OFF]] [[HOMO]] \n",
            "\n",
            "[[STOP]] I [[SAY]] [[STOP]] [[IT]]\n",
            "\n",
            "[[CACA]] [[DISCONNECTED]] [[TATA]] \n",
            "\n",
            "[[CESSATION]] I [[MENTION]] [[DETAINING]] [[IL]]\n",
            "\n",
            "\n"
          ]
        },
        {
          "output_type": "stream",
          "name": "stderr",
          "text": [
            "[Succeeded / Failed / Skipped / Total] 7 / 5 / 0 / 12:  12%|█▏        | 12/100 [01:20<09:46,  6.67s/it]"
          ]
        },
        {
          "output_type": "stream",
          "name": "stdout",
          "text": [
            "--------------------------------------------- Result 12 ---------------------------------------------\n",
            "[[1 (88%)]] --> [[0 (52%)]]\n",
            "\n",
            "But he is [[ugly]] and that's a fact. Ugly [[people]] shouldn't put up their image. Are we suppose to lie or tell the truth? I'm telling the truth as you can see. Mam, take it [[easy]].119.73.14.161\n",
            "\n",
            "But he is [[grisly]] and that's a fact. Ugly [[personnel]] shouldn't put up their image. Are we suppose to lie or tell the truth? I'm telling the truth as you can see. Mam, take it [[simplistic]].119.73.14.161\n",
            "\n",
            "\n"
          ]
        },
        {
          "output_type": "stream",
          "name": "stderr",
          "text": [
            "[Succeeded / Failed / Skipped / Total] 8 / 5 / 0 / 13:  13%|█▎        | 13/100 [01:22<09:12,  6.35s/it]"
          ]
        },
        {
          "output_type": "stream",
          "name": "stdout",
          "text": [
            "--------------------------------------------- Result 13 ---------------------------------------------\n",
            "[[1 (77%)]] --> [[0 (52%)]]\n",
            "\n",
            "[[You]] were the one to attack first retard. As for reliable sources it doesn't get more reliable then [[Nobel]] Prize winning economists who CREATED schools of economic thought. Let me put it to you in [[REALLY]] simple terms. Inflation is BAD (been there! done that! especially in the 70's!), Hyperinflation is EVEN WORSE and based on current levels of [[money]] printing by the [[Fed]] it may be [[barking]] at your door in a few years. Go back to the village that spawned you! It misses it's idjit.71.174.141.4\n",
            "\n",
            "[[Thyself]] were the one to attack first retard. As for reliable sources it doesn't get more reliable then [[Noble]] Prize winning economists who CREATED schools of economic thought. Let me put it to you in [[CERTAINLY]] simple terms. Inflation is BAD (been there! done that! especially in the 70's!), Hyperinflation is EVEN WORSE and based on current levels of [[amounts]] printing by the [[Stimulated]] it may be [[barks]] at your door in a few years. Go back to the village that spawned you! It misses it's idjit.71.174.141.4\n",
            "\n",
            "\n"
          ]
        },
        {
          "output_type": "stream",
          "name": "stderr",
          "text": [
            "[Succeeded / Failed / Skipped / Total] 8 / 6 / 1 / 15:  15%|█▌        | 15/100 [01:23<07:54,  5.58s/it]"
          ]
        },
        {
          "output_type": "stream",
          "name": "stdout",
          "text": [
            "--------------------------------------------- Result 14 ---------------------------------------------\n",
            "[[1 (97%)]] --> [[[FAILED]]]\n",
            "\n",
            "Homo... \n",
            "\n",
            "Don't be gay- mind your own fucking business!\n",
            "\n",
            "\n",
            "--------------------------------------------- Result 15 ---------------------------------------------\n",
            "[[0 (97%)]] --> [[[SKIPPED]]]\n",
            "\n",
            "\" I've only taken a cursory look at the article, but it looks like you made a good point - I can only think of a handful of shows to have featured three gay characters in a season, and I'd agree with you that it should definitely be put in that category. Regardless, if you plan on making more edits like this and this, you might find yourself with a block extension. Bbb23's a good administrator, and 3RR's called  \"\"bright-line rule\"\" for a reason. And considering that edit-warring blocks are to get users to cool down, if this is how you responded, it looks like he made the right call. — (Je vous invite à me parler) \n",
            "\n",
            " Buck Winston  \n",
            "\n",
            "Fuck you, I won't do what you tell me\n",
            "\n",
            "Fuck you, I won't do what you tell me\n",
            "\n",
            "Fuck you, I won't do what you tell me\n",
            "\n",
            "Fuck you, I won't do what you tell me\n",
            "\n",
            "Fuck you, I won't do what you tell me\n",
            "\n",
            "Fuck you, I won't do what you tell me\n",
            "\n",
            "Fuck you, I won't do what you tell me\n",
            "\n",
            "Fuck you, I won't do what you tell me\n",
            "\n",
            "Fuck you, I won't do what you tell me\n",
            "\n",
            "Fuck you, I won't do what you tell me\n",
            "\n",
            "Fuck you, I won't do what you tell me\n",
            "\n",
            "Fuck you, I won't do what you tell me\n",
            "\n",
            "Fuck you, I won't do what you tell me\n",
            "\n",
            "Fuck you, I won't do what you tell me\n",
            "\n",
            "Fuck you, I won't do what you tell me\n",
            "\n",
            "Motherfucker\n",
            "\n",
            "Ugh\"\n",
            "\n",
            "\n"
          ]
        },
        {
          "output_type": "stream",
          "name": "stderr",
          "text": [
            "[Succeeded / Failed / Skipped / Total] 9 / 6 / 1 / 16:  16%|█▌        | 16/100 [01:24<07:22,  5.26s/it]"
          ]
        },
        {
          "output_type": "stream",
          "name": "stdout",
          "text": [
            "--------------------------------------------- Result 16 ---------------------------------------------\n",
            "[[1 (57%)]] --> [[0 (58%)]]\n",
            "\n",
            "So you are actually saying the you don't give a **** if [[things]] said on [[Wikipedia]] are true...\n",
            "\n",
            "So you are actually saying the you don't give a **** if [[matters]] said on [[Wiki]] are true...\n",
            "\n",
            "\n"
          ]
        },
        {
          "output_type": "stream",
          "name": "stderr",
          "text": [
            "[Succeeded / Failed / Skipped / Total] 10 / 7 / 2 / 19:  19%|█▉        | 19/100 [01:26<06:08,  4.55s/it]"
          ]
        },
        {
          "output_type": "stream",
          "name": "stdout",
          "text": [
            "--------------------------------------------- Result 17 ---------------------------------------------\n",
            "[[1 (98%)]] --> [[[FAILED]]]\n",
            "\n",
            "YO DUMB ASS THIS IS MY PAGE! LEAVE IT THE FUCK ALONE!\n",
            "\n",
            "\n",
            "--------------------------------------------- Result 18 ---------------------------------------------\n",
            "[[0 (60%)]] --> [[[SKIPPED]]]\n",
            "\n",
            "This is for removing my post on 100% \n",
            "\n",
            "I'm going to DDOS your toaster for this.\n",
            "\n",
            "\n",
            "--------------------------------------------- Result 19 ---------------------------------------------\n",
            "[[1 (70%)]] --> [[0 (74%)]]\n",
            "\n",
            "your grammar is [[retarded]] two\n",
            "\n",
            "your grammar is [[belated]] two\n",
            "\n",
            "\n"
          ]
        },
        {
          "output_type": "stream",
          "name": "stderr",
          "text": [
            "[Succeeded / Failed / Skipped / Total] 11 / 7 / 2 / 20:  20%|██        | 20/100 [01:27<05:51,  4.39s/it]"
          ]
        },
        {
          "output_type": "stream",
          "name": "stdout",
          "text": [
            "--------------------------------------------- Result 20 ---------------------------------------------\n",
            "[[1 (93%)]] --> [[0 (54%)]]\n",
            "\n",
            "What gives you the right to [[control]]/edit [[Wikipedia]]?\n",
            "\n",
            "Qualifications?\n",
            "\n",
            "[[Or]] are you a self-appointed, [[sad]] individual who cannot 'make-it' in the real [[world]] and feels that you must be the 'big guy' on the [[internet]]? [[You]] are the [[epitome]] of what is wrong with [[Wikipedia]].\n",
            "\n",
            "What gives you the right to [[supervising]]/edit [[Wiki]]?\n",
            "\n",
            "Qualifications?\n",
            "\n",
            "[[Umm]] are you a self-appointed, [[somber]] individual who cannot 'make-it' in the real [[monde]] and feels that you must be the 'big guy' on the [[website]]? [[Thyself]] are the [[symbolises]] of what is wrong with [[Wiki]].\n",
            "\n",
            "\n"
          ]
        },
        {
          "output_type": "stream",
          "name": "stderr",
          "text": [
            "[Succeeded / Failed / Skipped / Total] 13 / 7 / 2 / 22:  22%|██▏       | 22/100 [01:37<05:44,  4.41s/it]"
          ]
        },
        {
          "output_type": "stream",
          "name": "stdout",
          "text": [
            "--------------------------------------------- Result 21 ---------------------------------------------\n",
            "[[1 (94%)]] --> [[0 (51%)]]\n",
            "\n",
            "ACCUSATIONS \n",
            "\n",
            "[[You]] sir are an anti-semite.  This is made abundantly effin clear by the [[fact]] that in [[every]] Wikibattle you [[get]] into, you are always on the [[opposing]] [[side]] of Jewish [[interests]].  You're [[really]] [[damn]] [[sick]]! You [[act]] like Joe Sobran is some effin herohe [[has]] [[stated]] that he [[thinks]] [[Jews]] as a [[people]], not as [[supporters]] of [[Israel]], but as a [[people]], are diametrically [[opposed]] to the [[interests]] of the [[US]] as a whole (and this [[need]] to [[be]] removed).  The fact that you deny this is anti-semitism [[makes]] it clear that you are a sick anti-semite.  Shame on you!!!!!!\n",
            "\n",
            "CaliforniaDreamlings\n",
            "\n",
            "ACCUSATIONS \n",
            "\n",
            "[[Thyself]] sir are an anti-semite.  This is made abundantly effin clear by the [[realized]] that in [[each]] Wikibattle you [[reaching]] into, you are always on the [[contrasts]] [[hand]] of Jewish [[interest]].  You're [[surely]] [[doomed]] [[crazy]]! You [[stipulations]] like Joe Sobran is some effin herohe [[enjoys]] [[noted]] that he [[insights]] [[Judaism]] as a [[residents]], not as [[sponsored]] of [[Zionism]], but as a [[resident]], are diametrically [[objects]] to the [[benefit]] of the [[AMERICANA]] as a whole (and this [[requested]] to [[se]] removed).  The fact that you deny this is anti-semitism [[pay]] it clear that you are a sick anti-semite.  Shame on you!!!!!!\n",
            "\n",
            "CaliforniaDreamlings\n",
            "\n",
            "\n",
            "--------------------------------------------- Result 22 ---------------------------------------------\n",
            "[[1 (75%)]] --> [[0 (55%)]]\n",
            "\n",
            ".\n",
            "Sand-nigger, [[referring]] to the fact that they live in the [[desert]]\n",
            "\n",
            ".\n",
            "Sand-nigger, [[detailing]] to the fact that they live in the [[desserts]]\n",
            "\n",
            "\n"
          ]
        },
        {
          "output_type": "stream",
          "name": "stderr",
          "text": [
            "\r[Succeeded / Failed / Skipped / Total] 14 / 7 / 2 / 23:  23%|██▎       | 23/100 [01:38<05:30,  4.30s/it]"
          ]
        },
        {
          "output_type": "stream",
          "name": "stdout",
          "text": [
            "--------------------------------------------- Result 23 ---------------------------------------------\n",
            "[[1 (89%)]] --> [[0 (51%)]]\n",
            "\n",
            "Once again i say you keep your face out of [[stuff]] you [[dont]] know as it stands you no nothing\n",
            "about the nolans i [[do]] and what i say will go edit away but i will remove all your [[crap]] so\n",
            "Why dont you [[take]] you do gooding goodytwo [[shoes]] way and [[play]] on some other [[street]] corner\n",
            "\n",
            "Once again i say you keep your face out of [[anything]] you [[actualy]] know as it stands you no nothing\n",
            "about the nolans i [[making]] and what i say will go edit away but i will remove all your [[caca]] so\n",
            "Why dont you [[assuming]] you do gooding goodytwo [[soled]] way and [[staking]] on some other [[roadway]] corner\n",
            "\n",
            "\n"
          ]
        },
        {
          "output_type": "stream",
          "name": "stderr",
          "text": [
            "[Succeeded / Failed / Skipped / Total] 15 / 7 / 3 / 25:  25%|██▌       | 25/100 [01:39<04:58,  3.98s/it]"
          ]
        },
        {
          "output_type": "stream",
          "name": "stdout",
          "text": [
            "--------------------------------------------- Result 24 ---------------------------------------------\n",
            "[[1 (98%)]] --> [[0 (71%)]]\n",
            "\n",
            "Hello \n",
            "\n",
            "[[Go]] back to your [[own]] [[country]] you british [[fucker]]. 26+6=1. Tiocfaidh ar [[la]]. [[Victory]] to the RIRA.\n",
            "\n",
            "Hello \n",
            "\n",
            "[[Will]] back to your [[individual]] [[states]] you british [[dunce]]. 26+6=1. Tiocfaidh ar [[du]]. [[Victoire]] to the RIRA.\n",
            "\n",
            "\n",
            "--------------------------------------------- Result 25 ---------------------------------------------\n",
            "[[0 (57%)]] --> [[[SKIPPED]]]\n",
            "\n",
            "\"\n",
            "\n",
            "\"\"Keep up the good work of sanatizing this place folk becuase that way it wont smell like a sewerage.\"\"\n",
            "\n",
            "\"\n",
            "\n",
            "\n"
          ]
        },
        {
          "output_type": "stream",
          "name": "stderr",
          "text": [
            "[Succeeded / Failed / Skipped / Total] 16 / 7 / 3 / 26:  26%|██▌       | 26/100 [01:40<04:47,  3.88s/it]"
          ]
        },
        {
          "output_type": "stream",
          "name": "stdout",
          "text": [
            "--------------------------------------------- Result 26 ---------------------------------------------\n",
            "[[1 (96%)]] --> [[0 (50%)]]\n",
            "\n",
            "\"\n",
            "\n",
            " You [[Are]] an [[Awesome]] wikipedian \n",
            "\n",
            "  Some [[shit]] Some droppings of [[filthy]] muck mess to feel you [[better]]. Don't bother myself    [[Summon]] \"\n",
            "\n",
            "\"\n",
            "\n",
            " You [[Constituted]] an [[Outstanding]] wikipedian \n",
            "\n",
            "  Some [[cursed]] Some droppings of [[unpleasant]] muck mess to feel you [[advisable]]. Don't bother myself    [[Convocation]] \"\n",
            "\n",
            "\n"
          ]
        },
        {
          "output_type": "stream",
          "name": "stderr",
          "text": [
            "[Succeeded / Failed / Skipped / Total] 16 / 8 / 3 / 27:  27%|██▋       | 27/100 [02:01<05:29,  4.51s/it]"
          ]
        },
        {
          "output_type": "stream",
          "name": "stdout",
          "text": [
            "--------------------------------------------- Result 27 ---------------------------------------------\n",
            "[[1 (91%)]] --> [[[FAILED]]]\n",
            "\n",
            "MRS SUSAN BRYCE,, WHO TELL  YOU THAN ANGELES CITY HAVE A KILLINGS FIELDS PROVE IT O.K .. WHO ARE U DO THIS IN ANGELES CITY WE KAPAMPANGANG PEOPLE OF ANGELES CITY WE DON'T LIKE U.. U ARE LIAR KNOW THAN ,GO TO ANGELES FIRST BEFORE U MAKE SAME ARTICLE LIKE THIS U KILLING THE PEOPLE OF ANGELES CITY...WHO ARE MRS SUSAN BRYCE????\n",
            "\n",
            "\n"
          ]
        },
        {
          "output_type": "stream",
          "name": "stderr",
          "text": [
            "[Succeeded / Failed / Skipped / Total] 17 / 8 / 3 / 28:  28%|██▊       | 28/100 [02:02<05:13,  4.36s/it]"
          ]
        },
        {
          "output_type": "stream",
          "name": "stdout",
          "text": [
            "--------------------------------------------- Result 28 ---------------------------------------------\n",
            "[[1 (92%)]] --> [[0 (56%)]]\n",
            "\n",
            "Assholes \n",
            "\n",
            "On behalf of all Americans, Canadians, Japanese and other countries who have yet to see it, thank you for spoiling the [[fucking]] movie.\n",
            "\n",
            "Assholes \n",
            "\n",
            "On behalf of all Americans, Canadians, Japanese and other countries who have yet to see it, thank you for spoiling the [[friggin]] movie.\n",
            "\n",
            "\n"
          ]
        },
        {
          "output_type": "stream",
          "name": "stderr",
          "text": [
            "[Succeeded / Failed / Skipped / Total] 18 / 8 / 3 / 29:  29%|██▉       | 29/100 [02:04<05:05,  4.30s/it]"
          ]
        },
        {
          "output_type": "stream",
          "name": "stdout",
          "text": [
            "--------------------------------------------- Result 29 ---------------------------------------------\n",
            "[[1 (97%)]] --> [[0 (57%)]]\n",
            "\n",
            "i'm [[trying]] to [[help]] \n",
            "\n",
            "So [[Fuck]] you soo much you [[fucking]] [[cunt]].\n",
            "I [[shall]] [[hunt]] you down &[[kill]]; you ever [[so]] soly.\n",
            "\n",
            "   عططط\n",
            "\n",
            "i'm [[asking]] to [[assist]] \n",
            "\n",
            "So [[Merde]] you soo much you [[christ]] [[biatch]].\n",
            "I [[must]] [[reaping]] you down &[[matan]]; you ever [[subsequently]] soly.\n",
            "\n",
            "   عططط\n",
            "\n",
            "\n"
          ]
        },
        {
          "output_type": "stream",
          "name": "stderr",
          "text": [
            "[Succeeded / Failed / Skipped / Total] 19 / 8 / 3 / 30:  30%|███       | 30/100 [02:05<04:52,  4.17s/it]"
          ]
        },
        {
          "output_type": "stream",
          "name": "stdout",
          "text": [
            "--------------------------------------------- Result 30 ---------------------------------------------\n",
            "[[1 (96%)]] --> [[0 (69%)]]\n",
            "\n",
            "Please carry on, so everyone can see what an [[ignorant]] [[arse]] you are.  Fatuorum\n",
            "\n",
            "Please carry on, so everyone can see what an [[wishful]] [[thigh]] you are.  Fatuorum\n",
            "\n",
            "\n"
          ]
        },
        {
          "output_type": "stream",
          "name": "stderr",
          "text": [
            "[Succeeded / Failed / Skipped / Total] 20 / 8 / 3 / 31:  31%|███       | 31/100 [02:06<04:40,  4.07s/it]"
          ]
        },
        {
          "output_type": "stream",
          "name": "stdout",
          "text": [
            "--------------------------------------------- Result 31 ---------------------------------------------\n",
            "[[1 (92%)]] --> [[0 (62%)]]\n",
            "\n",
            "yo i [[got]] me a [[gun]] ill [[shoot]] [[u]]\n",
            "\n",
            "yo i [[obtained]] me a [[armament]] ill [[filming]] [[ryu]]\n",
            "\n",
            "\n"
          ]
        },
        {
          "output_type": "stream",
          "name": "stderr",
          "text": [
            "[Succeeded / Failed / Skipped / Total] 21 / 8 / 3 / 32:  32%|███▏      | 32/100 [02:06<04:29,  3.96s/it]"
          ]
        },
        {
          "output_type": "stream",
          "name": "stdout",
          "text": [
            "--------------------------------------------- Result 32 ---------------------------------------------\n",
            "[[1 (95%)]] --> [[0 (59%)]]\n",
            "\n",
            "hey look at this [[shit]] [[vandalism]]! \n",
            "\n",
            "First image on the Web\n",
            "\n",
            "hey look at this [[scheisse]] [[scuttle]]! \n",
            "\n",
            "First image on the Web\n",
            "\n",
            "\n"
          ]
        },
        {
          "output_type": "stream",
          "name": "stderr",
          "text": [
            "[Succeeded / Failed / Skipped / Total] 22 / 8 / 3 / 33:  33%|███▎      | 33/100 [02:07<04:19,  3.87s/it]"
          ]
        },
        {
          "output_type": "stream",
          "name": "stdout",
          "text": [
            "--------------------------------------------- Result 33 ---------------------------------------------\n",
            "[[1 (93%)]] --> [[0 (50%)]]\n",
            "\n",
            "real world, so [[take]] their frustrations out in [[cyber]] space like [[weak]] little [[girls]]\n",
            "\n",
            "real world, so [[assumes]] their frustrations out in [[onscreen]] space like [[delicate]] little [[maiden]]\n",
            "\n",
            "\n"
          ]
        },
        {
          "output_type": "stream",
          "name": "stderr",
          "text": [
            "[Succeeded / Failed / Skipped / Total] 23 / 8 / 3 / 34:  34%|███▍      | 34/100 [02:08<04:09,  3.78s/it]"
          ]
        },
        {
          "output_type": "stream",
          "name": "stdout",
          "text": [
            "--------------------------------------------- Result 34 ---------------------------------------------\n",
            "[[1 (94%)]] --> [[0 (50%)]]\n",
            "\n",
            "[[Nah]]. But as far up your [[ass]] as you are, the sun don't [[shine]] at all, does it? 71.125.130.14\n",
            "\n",
            "[[Not]]. But as far up your [[posterior]] as you are, the sun don't [[shone]] at all, does it? 71.125.130.14\n",
            "\n",
            "\n"
          ]
        },
        {
          "output_type": "stream",
          "name": "stderr",
          "text": [
            "[Succeeded / Failed / Skipped / Total] 24 / 8 / 3 / 35:  35%|███▌      | 35/100 [02:09<04:01,  3.71s/it]"
          ]
        },
        {
          "output_type": "stream",
          "name": "stdout",
          "text": [
            "--------------------------------------------- Result 35 ---------------------------------------------\n",
            "[[1 (97%)]] --> [[0 (59%)]]\n",
            "\n",
            "[[hey]] \n",
            "\n",
            "[[hey]] [[faggot]], are you [[dead]] yet? or are you watching your mom getting [[raped]] by [[filthy]] [[pigs]]? which one is it?\n",
            "\n",
            "[[goodnight]] \n",
            "\n",
            "[[greetings]] [[auntie]], are you [[died]] yet? or are you watching your mom getting [[aggrieved]] by [[salts]] [[cattle]]? which one is it?\n",
            "\n",
            "\n"
          ]
        },
        {
          "output_type": "stream",
          "name": "stderr",
          "text": [
            "[Succeeded / Failed / Skipped / Total] 24 / 9 / 3 / 36:  36%|███▌      | 36/100 [02:11<03:52,  3.64s/it]"
          ]
        },
        {
          "output_type": "stream",
          "name": "stdout",
          "text": [
            "--------------------------------------------- Result 36 ---------------------------------------------\n",
            "[[1 (97%)]] --> [[[FAILED]]]\n",
            "\n",
            ". I am a stupid bitch for blocking this user, but that's just what bitches like me do\n",
            "\n",
            "\n"
          ]
        },
        {
          "output_type": "stream",
          "name": "stderr",
          "text": [
            "[Succeeded / Failed / Skipped / Total] 25 / 9 / 3 / 37:  37%|███▋      | 37/100 [02:11<03:44,  3.56s/it]"
          ]
        },
        {
          "output_type": "stream",
          "name": "stdout",
          "text": [
            "--------------------------------------------- Result 37 ---------------------------------------------\n",
            "[[1 (97%)]] --> [[0 (71%)]]\n",
            "\n",
            "[[Nuisance]] [[piece]] of [[shit]], [[fuck]] off\n",
            "\n",
            "[[Problem]] [[fragment]] of [[scheisse]], [[shafted]] off\n",
            "\n",
            "\n"
          ]
        },
        {
          "output_type": "stream",
          "name": "stderr",
          "text": [
            "[Succeeded / Failed / Skipped / Total] 26 / 9 / 3 / 38:  38%|███▊      | 38/100 [02:13<03:37,  3.51s/it]"
          ]
        },
        {
          "output_type": "stream",
          "name": "stdout",
          "text": [
            "--------------------------------------------- Result 38 ---------------------------------------------\n",
            "[[1 (91%)]] --> [[0 (59%)]]\n",
            "\n",
            "\"\n",
            "\n",
            " Me again, perhaps for the last time \n",
            "\n",
            "I am [[fucking]] furious about Tony1's block earlier today, and the admin cabal's refusal to face up to its [[dishonesty]]. I'm also furiuous that I've been threatened and bullied by admin-kiddies since then because I supported Tony and spoke out against his block.\n",
            "\n",
            "What is the [[fucking]] point in this project? Is it just to give kiddie's something to write on their school applications? \"\"I am an administrator on wikipedia\"\"?   \"\n",
            "\n",
            "\"\n",
            "\n",
            " Me again, perhaps for the last time \n",
            "\n",
            "I am [[accursed]] furious about Tony1's block earlier today, and the admin cabal's refusal to face up to its [[falsification]]. I'm also furiuous that I've been threatened and bullied by admin-kiddies since then because I supported Tony and spoke out against his block.\n",
            "\n",
            "What is the [[sodding]] point in this project? Is it just to give kiddie's something to write on their school applications? \"\"I am an administrator on wikipedia\"\"?   \"\n",
            "\n",
            "\n"
          ]
        },
        {
          "output_type": "stream",
          "name": "stderr",
          "text": [
            "[Succeeded / Failed / Skipped / Total] 26 / 10 / 3 / 39:  39%|███▉      | 39/100 [02:14<03:29,  3.44s/it]"
          ]
        },
        {
          "output_type": "stream",
          "name": "stdout",
          "text": [
            "--------------------------------------------- Result 39 ---------------------------------------------\n",
            "[[1 (97%)]] --> [[[FAILED]]]\n",
            "\n",
            "Why don't you crawl away and die you disgusting pig. Go fuck yourself you saddo\n",
            "\n",
            "\n"
          ]
        },
        {
          "output_type": "stream",
          "name": "stderr",
          "text": [
            "[Succeeded / Failed / Skipped / Total] 26 / 11 / 3 / 40:  40%|████      | 40/100 [02:14<03:22,  3.37s/it]"
          ]
        },
        {
          "output_type": "stream",
          "name": "stdout",
          "text": [
            "--------------------------------------------- Result 40 ---------------------------------------------\n",
            "[[1 (97%)]] --> [[[FAILED]]]\n",
            "\n",
            "Aww, shut the fuck up little whiny bitch\n",
            "\n",
            "\n"
          ]
        },
        {
          "output_type": "stream",
          "name": "stderr",
          "text": [
            "[Succeeded / Failed / Skipped / Total] 27 / 11 / 3 / 41:  41%|████      | 41/100 [02:15<03:15,  3.31s/it]"
          ]
        },
        {
          "output_type": "stream",
          "name": "stdout",
          "text": [
            "--------------------------------------------- Result 41 ---------------------------------------------\n",
            "[[1 (92%)]] --> [[0 (54%)]]\n",
            "\n",
            "My name is Vascoamaral, I am a [[clown]], and I am [[Gay]]. I am an i.d.io.t who like to edit [[wikipedia]] and [[block]] some constructive [[users]]. jojojjo\n",
            "\n",
            "My name is Vascoamaral, I am a [[bozo]], and I am [[Homos]]. I am an i.d.io.t who like to edit [[wiki]] and [[prevented]] some constructive [[patrons]]. jojojjo\n",
            "\n",
            "\n"
          ]
        },
        {
          "output_type": "stream",
          "name": "stderr",
          "text": [
            "[Succeeded / Failed / Skipped / Total] 28 / 11 / 3 / 42:  42%|████▏     | 42/100 [02:20<03:14,  3.35s/it]"
          ]
        },
        {
          "output_type": "stream",
          "name": "stdout",
          "text": [
            "--------------------------------------------- Result 42 ---------------------------------------------\n",
            "[[1 (93%)]] --> [[0 (50%)]]\n",
            "\n",
            "[[Hey]] there you are on google. I [[get]] the [[last]] [[say]]! 'There is 5 senses only!!!!!!! [[Everybody]] [[really]] only [[does]] [[want]] [[immortality]] foreeevvver!!!!!!!!!!!!!!!! Errrrasee that shittttttttt!!!!!!!!!!!!!!!!!!!!!!!!!!!! Stuppidd plato and [[old]] [[shit]] and [[wrong]] [[shit]]!!!!! I'm the [[best]] [[best]] I'b thought all out! You nonesense useless bastard! Go to hell.\n",
            "\n",
            "[[Hello]] there you are on google. I [[obtained]] the [[definitive]] [[explain]]! 'There is 5 senses only!!!!!!! [[Allen]] [[explicitly]] only [[did]] [[intention]] [[eternity]] foreeevvver!!!!!!!!!!!!!!!! Errrrasee that shittttttttt!!!!!!!!!!!!!!!!!!!!!!!!!!!! Stuppidd plato and [[archaic]] [[damn]] and [[irregular]] [[damn]]!!!!! I'm the [[improved]] [[superior]] I'b thought all out! You nonesense useless bastard! Go to hell.\n",
            "\n",
            "\n"
          ]
        },
        {
          "output_type": "stream",
          "name": "stderr",
          "text": [
            "[Succeeded / Failed / Skipped / Total] 28 / 12 / 3 / 43:  43%|████▎     | 43/100 [02:23<03:09,  3.33s/it]"
          ]
        },
        {
          "output_type": "stream",
          "name": "stdout",
          "text": [
            "--------------------------------------------- Result 43 ---------------------------------------------\n",
            "[[1 (98%)]] --> [[[FAILED]]]\n",
            "\n",
            "Dumb ass nigga.  No one cares when your birthday is.  Jag quimby sounds gay as shit.  Your name sounds like you're the son of that mayor from the simpsons.\n",
            "\n",
            "Jaq quimby....nigga you need to change your name to jaq off.\n",
            "\n",
            "\n"
          ]
        },
        {
          "output_type": "stream",
          "name": "stderr",
          "text": [
            "[Succeeded / Failed / Skipped / Total] 30 / 12 / 3 / 45:  45%|████▌     | 45/100 [02:23<02:55,  3.20s/it]"
          ]
        },
        {
          "output_type": "stream",
          "name": "stdout",
          "text": [
            "--------------------------------------------- Result 44 ---------------------------------------------\n",
            "[[1 (87%)]] --> [[0 (61%)]]\n",
            "\n",
            "This page is [[full]] of psuedo-intellectual [[drivel]] \n",
            "\n",
            "Zen [[karma]] my meatspace, genki [[girl]]!\n",
            "\n",
            "This page is [[plenary]] of psuedo-intellectual [[conjecture]] \n",
            "\n",
            "Zen [[mojo]] my meatspace, genki [[missus]]!\n",
            "\n",
            "\n",
            "--------------------------------------------- Result 45 ---------------------------------------------\n",
            "[[1 (85%)]] --> [[0 (51%)]]\n",
            "\n",
            "I'm not new here. I don't know what the [[hell]] you are talking about. Don't talk to me again.\n",
            "\n",
            "I'm not new here. I don't know what the [[bordello]] you are talking about. Don't talk to me again.\n",
            "\n",
            "\n"
          ]
        },
        {
          "output_type": "stream",
          "name": "stderr",
          "text": [
            "[Succeeded / Failed / Skipped / Total] 31 / 12 / 3 / 46:  46%|████▌     | 46/100 [02:24<02:49,  3.14s/it]"
          ]
        },
        {
          "output_type": "stream",
          "name": "stdout",
          "text": [
            "--------------------------------------------- Result 46 ---------------------------------------------\n",
            "[[1 (96%)]] --> [[0 (61%)]]\n",
            "\n",
            "\"\n",
            "\n",
            " [[Shut]] up [[loser]] \n",
            "\n",
            "  Best in Awfulness I [[dont]] [[care]] about you and what you do. Dyou know how to MYOB? Oh! It's mind your [[own]] business!   \"\n",
            "\n",
            "\"\n",
            "\n",
            " [[Concludes]] up [[looses]] \n",
            "\n",
            "  Best in Awfulness I [[suprised]] [[considerate]] about you and what you do. Dyou know how to MYOB? Oh! It's mind your [[individual]] business!   \"\n",
            "\n",
            "\n"
          ]
        },
        {
          "output_type": "stream",
          "name": "stderr",
          "text": [
            "[Succeeded / Failed / Skipped / Total] 32 / 12 / 3 / 47:  47%|████▋     | 47/100 [02:24<02:43,  3.08s/it]"
          ]
        },
        {
          "output_type": "stream",
          "name": "stdout",
          "text": [
            "--------------------------------------------- Result 47 ---------------------------------------------\n",
            "[[1 (98%)]] --> [[0 (65%)]]\n",
            "\n",
            "[[Bingo]]. Now [[fuck]] off and take your [[stinks]] with you (hopefully).\n",
            "\n",
            "[[Keno]]. Now [[jesus]] off and take your [[aromas]] with you (hopefully).\n",
            "\n",
            "\n"
          ]
        },
        {
          "output_type": "stream",
          "name": "stderr",
          "text": [
            "[Succeeded / Failed / Skipped / Total] 33 / 12 / 3 / 48:  48%|████▊     | 48/100 [02:26<02:38,  3.05s/it]"
          ]
        },
        {
          "output_type": "stream",
          "name": "stdout",
          "text": [
            "--------------------------------------------- Result 48 ---------------------------------------------\n",
            "[[1 (95%)]] --> [[0 (56%)]]\n",
            "\n",
            "Advice \n",
            "[[Stop]] with your [[foul]] [[language]].  [[You]] are a [[despicable]] [[human]] being who deserves no place in society.  [[People]] are [[precious]] and preciousness [[comes]] from people.  The only [[thing]] that [[comes]] from you is diahoreea   164.39.151.107\n",
            "\n",
            "Advice \n",
            "[[Interrupt]] with your [[reprehensible]] [[formulation]].  [[Thyself]] are a [[reprehensible]] [[humanitarian]] being who deserves no place in society.  [[Public]] are [[helpful]] and preciousness [[arriving]] from people.  The only [[question]] that [[arrives]] from you is diahoreea   164.39.151.107\n",
            "\n",
            "\n"
          ]
        },
        {
          "output_type": "stream",
          "name": "stderr",
          "text": [
            "[Succeeded / Failed / Skipped / Total] 33 / 13 / 3 / 49:  49%|████▉     | 49/100 [02:26<02:32,  2.99s/it]"
          ]
        },
        {
          "output_type": "stream",
          "name": "stdout",
          "text": [
            "--------------------------------------------- Result 49 ---------------------------------------------\n",
            "[[1 (97%)]] --> [[[FAILED]]]\n",
            "\n",
            "fok you \n",
            "\n",
            "YOU SUK BITSH FOCK YOU\n",
            "\n",
            "\n"
          ]
        },
        {
          "output_type": "stream",
          "name": "stderr",
          "text": [
            "[Succeeded / Failed / Skipped / Total] 34 / 13 / 3 / 50:  50%|█████     | 50/100 [02:27<02:27,  2.94s/it]"
          ]
        },
        {
          "output_type": "stream",
          "name": "stdout",
          "text": [
            "--------------------------------------------- Result 50 ---------------------------------------------\n",
            "[[1 (97%)]] --> [[0 (54%)]]\n",
            "\n",
            "I think your being a bit hard \n",
            "\n",
            "So your anti vandal, great.  So your not [[going]] to do anthing where it say's the Kilwinning Ranger have won the champions leauge and [[Uefa]] [[cup]]. You are a bit of a [[dick]]\n",
            "\n",
            "I think your being a bit hard \n",
            "\n",
            "So your anti vandal, great.  So your not [[left]] to do anthing where it say's the Kilwinning Ranger have won the champions leauge and [[Galatasaray]] [[championships]]. You are a bit of a [[queued]]\n",
            "\n",
            "\n"
          ]
        },
        {
          "output_type": "stream",
          "name": "stderr",
          "text": [
            "[Succeeded / Failed / Skipped / Total] 35 / 13 / 3 / 51:  51%|█████     | 51/100 [02:27<02:21,  2.89s/it]"
          ]
        },
        {
          "output_type": "stream",
          "name": "stdout",
          "text": [
            "--------------------------------------------- Result 51 ---------------------------------------------\n",
            "[[1 (86%)]] --> [[0 (50%)]]\n",
            "\n",
            "\"\n",
            "Personally, glad Lynn Margulis is [[fucking]] dead.  What a waste of real intelligence.  As for being a notorious evolutionary biologist, sure, why not.  But is this article a list of evolutionary biologists?  It shouldn't be.  But if it is, there is no more famous evolutionary biologist today than Dawkins.  You say evolution, anyone would say Dawkins (right after Darwin). Talk• Contributions \"\n",
            "\n",
            "\"\n",
            "Personally, glad Lynn Margulis is [[damn]] dead.  What a waste of real intelligence.  As for being a notorious evolutionary biologist, sure, why not.  But is this article a list of evolutionary biologists?  It shouldn't be.  But if it is, there is no more famous evolutionary biologist today than Dawkins.  You say evolution, anyone would say Dawkins (right after Darwin). Talk• Contributions \"\n",
            "\n",
            "\n"
          ]
        },
        {
          "output_type": "stream",
          "name": "stderr",
          "text": [
            "[Succeeded / Failed / Skipped / Total] 36 / 13 / 3 / 52:  52%|█████▏    | 52/100 [02:27<02:16,  2.85s/it]"
          ]
        },
        {
          "output_type": "stream",
          "name": "stdout",
          "text": [
            "--------------------------------------------- Result 52 ---------------------------------------------\n",
            "[[1 (85%)]] --> [[0 (50%)]]\n",
            "\n",
            "[[GO]] [[SIT]] ON A LIVE [[GRENADE]].\n",
            "\n",
            "[[VOLITION]] [[ASSIS]] ON A LIVE [[GRENADA]].\n",
            "\n",
            "\n"
          ]
        },
        {
          "output_type": "stream",
          "name": "stderr",
          "text": [
            "[Succeeded / Failed / Skipped / Total] 37 / 13 / 3 / 53:  53%|█████▎    | 53/100 [02:29<02:12,  2.81s/it]"
          ]
        },
        {
          "output_type": "stream",
          "name": "stdout",
          "text": [
            "--------------------------------------------- Result 53 ---------------------------------------------\n",
            "[[1 (62%)]] --> [[0 (51%)]]\n",
            "\n",
            "\"\n",
            "If a group of Christians [[kill]] a Hindu, do you think it matters if Hindus are majority in the state? Don't think you are propagating the lie that only \"\"majority kills minority\"\"? No! Only \"\"local majority\"\" kills \"\"local minority\"\". If you want to somehow show that [[terrorism]]/separation movement is not religious in nature, then you might as well show me data about how some planets are changing my future, or that evolution is wrong.talk \"\n",
            "\n",
            "\"\n",
            "If a group of Christians [[kills]] a Hindu, do you think it matters if Hindus are majority in the state? Don't think you are propagating the lie that only \"\"majority kills minority\"\"? No! Only \"\"local majority\"\" kills \"\"local minority\"\". If you want to somehow show that [[counterterrorism]]/separation movement is not religious in nature, then you might as well show me data about how some planets are changing my future, or that evolution is wrong.talk \"\n",
            "\n",
            "\n"
          ]
        },
        {
          "output_type": "stream",
          "name": "stderr",
          "text": [
            "[Succeeded / Failed / Skipped / Total] 38 / 13 / 3 / 54:  54%|█████▍    | 54/100 [02:32<02:10,  2.83s/it]"
          ]
        },
        {
          "output_type": "stream",
          "name": "stdout",
          "text": [
            "--------------------------------------------- Result 54 ---------------------------------------------\n",
            "[[1 (95%)]] --> [[0 (50%)]]\n",
            "\n",
            ", 20 [[July]] 2012 (UTC)\n",
            " [[You]] are a bully, a [[liar]], a [[fraud]]. [[You]] [[have]] [[caused]] me to [[be]] [[blocked]] for reasons you [[have]] [[made]] up, and you [[damn]] [[well]] [[know]] it. I [[will]] [[remember]] that.   11:51\n",
            "\n",
            ", 20 [[Janvier]] 2012 (UTC)\n",
            " [[Thyself]] are a bully, a [[falsified]], a [[deception]]. [[Thyself]] [[be]] [[incurred]] me to [[represent]] [[blocking]] for reasons you [[possess]] [[incurred]] up, and you [[accursed]] [[sufficiently]] [[recognize]] it. I [[intention]] [[rember]] that.   11:51\n",
            "\n",
            "\n"
          ]
        },
        {
          "output_type": "stream",
          "name": "stderr",
          "text": [
            "[Succeeded / Failed / Skipped / Total] 39 / 13 / 3 / 55:  55%|█████▌    | 55/100 [02:32<02:05,  2.78s/it]"
          ]
        },
        {
          "output_type": "stream",
          "name": "stdout",
          "text": [
            "--------------------------------------------- Result 55 ---------------------------------------------\n",
            "[[1 (97%)]] --> [[0 (53%)]]\n",
            "\n",
            "Lucasbfr: your [[mother]] is a [[cock]] [[slut]]\n",
            "\n",
            "Lucasbfr: your [[ammi]] is a [[queues]] [[temptress]]\n",
            "\n",
            "\n"
          ]
        },
        {
          "output_type": "stream",
          "name": "stderr",
          "text": [
            "[Succeeded / Failed / Skipped / Total] 40 / 13 / 3 / 56:  56%|█████▌    | 56/100 [02:33<02:00,  2.75s/it]"
          ]
        },
        {
          "output_type": "stream",
          "name": "stdout",
          "text": [
            "--------------------------------------------- Result 56 ---------------------------------------------\n",
            "[[1 (93%)]] --> [[0 (50%)]]\n",
            "\n",
            "I believe that you should include in your discussion of I-95 the fact that only [[gays]] enjoy studying/discussing it.  Real men prefer to talk about things like [[titties]] and [[butt]] sex, but the latter only in a [[negative]] way 'cause its for [[fags]].\n",
            "\n",
            "I believe that you should include in your discussion of I-95 the fact that only [[heterosexuals]] enjoy studying/discussing it.  Real men prefer to talk about things like [[bosoms]] and [[derriere]] sex, but the latter only in a [[adverse]] way 'cause its for [[gays]].\n",
            "\n",
            "\n"
          ]
        },
        {
          "output_type": "stream",
          "name": "stderr",
          "text": [
            "[Succeeded / Failed / Skipped / Total] 41 / 13 / 3 / 57:  57%|█████▋    | 57/100 [02:43<02:03,  2.87s/it]"
          ]
        },
        {
          "output_type": "stream",
          "name": "stdout",
          "text": [
            "--------------------------------------------- Result 57 ---------------------------------------------\n",
            "[[1 (94%)]] --> [[0 (50%)]]\n",
            "\n",
            "\" \n",
            "\n",
            "just look at what this fucktard \"\"\"\"[[Future]] Perfect at Sunrise\"\"\"\" [[gave]] me as a [[reason]]\n",
            "he said [[I]] was [[banned]]\n",
            "persistent disruptive [[editing]]: move-warring, copy-and-paste moves, [[personal]] attacks, tendentious editing\n",
            "\n",
            "\"\"personal [[attacks]]\"\" and who the [[fuck]] done a [[personal]] [[attack]]? I've never [[made]] a [[personal]] [[attack]] on here. and I [[have]] been in here for [[nearly]] 5 [[years]] and [[I]] only bash on u cause u [[son]] of [[bitch]] blocked me for no [[reason]]. \n",
            "\"\" tendentious [[editing]]\"\" is totally a false accusation. \n",
            "now fuck off \"\"Future Perfect at Sunrise\"\" and ur henchman.\n",
            "\"\n",
            "\n",
            "\" \n",
            "\n",
            "just look at what this fucktard \"\"\"\"[[Next]] Perfect at Sunrise\"\"\"\" [[tendered]] me as a [[logic]]\n",
            "he said [[me]] was [[prevents]]\n",
            "persistent disruptive [[revision]]: move-warring, copy-and-paste moves, [[individual]] attacks, tendentious editing\n",
            "\n",
            "\"\"personal [[foray]]\"\" and who the [[shafted]] done a [[customized]] [[incursion]]? I've never [[realized]] a [[customized]] [[bombardment]] on here. and I [[received]] been in here for [[closely]] 5 [[yr]] and [[me]] only bash on u cause u [[yarns]] of [[biatch]] blocked me for no [[motifs]]. \n",
            "\"\" tendentious [[revised]]\"\" is totally a false accusation. \n",
            "now fuck off \"\"Future Perfect at Sunrise\"\" and ur henchman.\n",
            "\"\n",
            "\n",
            "\n"
          ]
        },
        {
          "output_type": "stream",
          "name": "stderr",
          "text": [
            "[Succeeded / Failed / Skipped / Total] 42 / 13 / 3 / 58:  58%|█████▊    | 58/100 [02:44<01:58,  2.83s/it]"
          ]
        },
        {
          "output_type": "stream",
          "name": "stdout",
          "text": [
            "--------------------------------------------- Result 58 ---------------------------------------------\n",
            "[[1 (94%)]] --> [[0 (81%)]]\n",
            "\n",
            "and you [[go]] to [[hell]]! 201.215.34.134\n",
            "\n",
            "and you [[proceed]] to [[heii]]! 201.215.34.134\n",
            "\n",
            "\n"
          ]
        },
        {
          "output_type": "stream",
          "name": "stderr",
          "text": [
            "[Succeeded / Failed / Skipped / Total] 43 / 13 / 3 / 59:  59%|█████▉    | 59/100 [02:45<01:54,  2.80s/it]"
          ]
        },
        {
          "output_type": "stream",
          "name": "stdout",
          "text": [
            "--------------------------------------------- Result 59 ---------------------------------------------\n",
            "[[1 (63%)]] --> [[0 (55%)]]\n",
            "\n",
            "Your not a scholar and you should be banned for [[hostility]] towards other users.\n",
            "\n",
            "Your not a scholar and you should be banned for [[competitor]] towards other users.\n",
            "\n",
            "\n"
          ]
        },
        {
          "output_type": "stream",
          "name": "stderr",
          "text": [
            "[Succeeded / Failed / Skipped / Total] 43 / 14 / 3 / 60:  60%|██████    | 60/100 [02:49<01:53,  2.83s/it]"
          ]
        },
        {
          "output_type": "stream",
          "name": "stdout",
          "text": [
            "--------------------------------------------- Result 60 ---------------------------------------------\n",
            "[[1 (97%)]] --> [[[FAILED]]]\n",
            "\n",
            "goof goof goof goof goof goof save that in ur database douche bag\n",
            "\n",
            "\n"
          ]
        },
        {
          "output_type": "stream",
          "name": "stderr",
          "text": [
            "[Succeeded / Failed / Skipped / Total] 44 / 14 / 3 / 61:  61%|██████    | 61/100 [02:50<01:48,  2.79s/it]"
          ]
        },
        {
          "output_type": "stream",
          "name": "stdout",
          "text": [
            "--------------------------------------------- Result 61 ---------------------------------------------\n",
            "[[1 (88%)]] --> [[0 (68%)]]\n",
            "\n",
            "Look, dothead... \n",
            "\n",
            "This is a white man's encyclopedia. Stop [[messing]] with my edits.\n",
            "\n",
            "Look, dothead... \n",
            "\n",
            "This is a white man's encyclopedia. Stop [[ofcourse]] with my edits.\n",
            "\n",
            "\n"
          ]
        },
        {
          "output_type": "stream",
          "name": "stderr",
          "text": [
            "[Succeeded / Failed / Skipped / Total] 45 / 14 / 3 / 62:  62%|██████▏   | 62/100 [02:51<01:44,  2.76s/it]"
          ]
        },
        {
          "output_type": "stream",
          "name": "stdout",
          "text": [
            "--------------------------------------------- Result 62 ---------------------------------------------\n",
            "[[1 (57%)]] --> [[0 (69%)]]\n",
            "\n",
            "\"\n",
            " That fact that you place nice text in my discuss page, does not make your argument any stronger. In fact, you have NO argument at all. You are either [[arrogant]] or ignorant or both, and you have achieved nothing. Exactly, what IS your contribution?  \"\n",
            "\n",
            "\"\n",
            " That fact that you place nice text in my discuss page, does not make your argument any stronger. In fact, you have NO argument at all. You are either [[boastful]] or ignorant or both, and you have achieved nothing. Exactly, what IS your contribution?  \"\n",
            "\n",
            "\n"
          ]
        },
        {
          "output_type": "stream",
          "name": "stderr",
          "text": [
            "[Succeeded / Failed / Skipped / Total] 46 / 14 / 3 / 63:  63%|██████▎   | 63/100 [02:54<01:42,  2.78s/it]"
          ]
        },
        {
          "output_type": "stream",
          "name": "stdout",
          "text": [
            "--------------------------------------------- Result 63 ---------------------------------------------\n",
            "[[1 (96%)]] --> [[0 (51%)]]\n",
            "\n",
            "Hey [[idiot]]. I'm simply verifying the [[TRUTH]]. Mobile17 was [[NOT]] the first to have a ringtone maker [[online]].. Brinked was. Do some [[fucking]] [[research]] before you [[remove]] my [[shit]]. Tired of you [[assholes]] removing my hard work I'm putting into making wikipedia a relevant page.\n",
            "\n",
            "Hey [[dunce]]. I'm simply verifying the [[REALLY]]. Mobile17 was [[NADA]] the first to have a ringtone maker [[lnternet]].. Brinked was. Do some [[damned]] [[explored]] before you [[clears]] my [[scheisse]]. Tired of you [[putz]] removing my hard work I'm putting into making wikipedia a relevant page.\n",
            "\n",
            "\n"
          ]
        },
        {
          "output_type": "stream",
          "name": "stderr",
          "text": [
            "[Succeeded / Failed / Skipped / Total] 46 / 15 / 3 / 64:  65%|██████▌   | 65/100 [02:56<01:34,  2.71s/it]"
          ]
        },
        {
          "output_type": "stream",
          "name": "stdout",
          "text": [
            "--------------------------------------------- Result 64 ---------------------------------------------\n",
            "[[1 (98%)]] --> [[[FAILED]]]\n",
            "\n",
            "Prick \n",
            "\n",
            "Hey Ryan, Fuck you faggot, how do you like those apples bitch?\n",
            "\n",
            "\n",
            "--------------------------------------------- Result 65 ---------------------------------------------\n",
            "[[1 (94%)]] --> [[0 (80%)]]\n",
            "\n",
            "decline=I don't [[fucking]] think so - 81.154.183.54\n",
            "\n",
            "decline=I don't [[kissed]] think so - 81.154.183.54"
          ]
        },
        {
          "output_type": "stream",
          "name": "stderr",
          "text": [
            "\r[Succeeded / Failed / Skipped / Total] 47 / 15 / 3 / 65:  65%|██████▌   | 65/100 [02:56<01:34,  2.71s/it]"
          ]
        },
        {
          "output_type": "stream",
          "name": "stdout",
          "text": [
            "\n",
            "\n",
            "\n"
          ]
        },
        {
          "output_type": "stream",
          "name": "stderr",
          "text": [
            "[Succeeded / Failed / Skipped / Total] 48 / 15 / 4 / 67:  67%|██████▋   | 67/100 [03:08<01:32,  2.82s/it]"
          ]
        },
        {
          "output_type": "stream",
          "name": "stdout",
          "text": [
            "--------------------------------------------- Result 66 ---------------------------------------------\n",
            "[[1 (86%)]] --> [[0 (50%)]]\n",
            "\n",
            "\"\n",
            "\n",
            " NYC is [[NOT]] the \"\"center\"\" of the Puerto Rican American community !!! \n",
            "\n",
            "On [[EVERY]] page regarding Puerto [[Ricans]], you make it seem like [[New]] York is the [[epicenter]] for Puerto [[Ricans]] across the world. I have news for you buddy: IT IS [[NOT]]! Period\n",
            "[[Stop]] [[making]] it seem like newyork is the glorious wonderful capital for alll Boricuas worldwide, f*ck new [[york]]. [[Cuz]] obviously we [[dont]] like that [[city]] no more, [[alot]] more Puerto [[Ricans]] moving to Orlando, Tampa, [[Philly]], and even Boston, from both Puerto Rico AND New York. NY has a declining [[PR]] population, who tf wants to go there, the ones who are there are leaving in droves.\"\n",
            "\n",
            "\"\n",
            "\n",
            " NYC is [[NADA]] the \"\"center\"\" of the Puerto Rican American community !!! \n",
            "\n",
            "On [[AII]] page regarding Puerto [[Seaport]], you make it seem like [[Novel]] York is the [[coeur]] for Puerto [[Nicaraguan]] across the world. I have news for you buddy: IT IS [[INGA]]! Period\n",
            "[[End]] [[produce]] it seem like newyork is the glorious wonderful capital for alll Boricuas worldwide, f*ck new [[westchester]]. [[Wut]] obviously we [[allways]] like that [[municipalities]] no more, [[afar]] more Puerto [[Argentinians]] moving to Orlando, Tampa, [[Baltimore]], and even Boston, from both Puerto Rico AND New York. NY has a declining [[DOKTOR]] population, who tf wants to go there, the ones who are there are leaving in droves.\"\n",
            "\n",
            "\n",
            "--------------------------------------------- Result 67 ---------------------------------------------\n",
            "[[0 (65%)]] --> [[[SKIPPED]]]\n",
            "\n",
            "I could care less whether you're acting in good faith or not...the fact of the matter is that both you and Rubin are incompetent.\n",
            "\n",
            "\n"
          ]
        },
        {
          "output_type": "stream",
          "name": "stderr",
          "text": [
            "[Succeeded / Failed / Skipped / Total] 49 / 15 / 4 / 68:  68%|██████▊   | 68/100 [03:11<01:30,  2.82s/it]"
          ]
        },
        {
          "output_type": "stream",
          "name": "stdout",
          "text": [
            "--------------------------------------------- Result 68 ---------------------------------------------\n",
            "[[1 (98%)]] --> [[0 (51%)]]\n",
            "\n",
            "kafziel, [[get]] a [[life]] and [[stop]] [[working]] for these [[idiots]], if you [[know]] whats good for you, cause the whole [[damn]] company will [[burn]] down if this continues! i will not be visiting your peice of [[shit]] website any more, and i will be telling all 100 people i know not to either! your goin down [[fuckin]] [[jerk]] [[offs]]!!!!!!!!!\n",
            "\n",
            "kafziel, [[obtains]] a [[residing]] and [[interruption]] [[collaborator]] for these [[dolt]], if you [[understand]] whats good for you, cause the whole [[merde]] company will [[ardour]] down if this continues! i will not be visiting your peice of [[scheisse]] website any more, and i will be telling all 100 people i know not to either! your goin down [[merde]] [[cretin]] [[fais]]!!!!!!!!!\n",
            "\n",
            "\n"
          ]
        },
        {
          "output_type": "stream",
          "name": "stderr",
          "text": [
            "[Succeeded / Failed / Skipped / Total] 51 / 15 / 4 / 70:  70%|███████   | 70/100 [03:17<01:24,  2.82s/it]"
          ]
        },
        {
          "output_type": "stream",
          "name": "stdout",
          "text": [
            "--------------------------------------------- Result 69 ---------------------------------------------\n",
            "[[1 (97%)]] --> [[0 (51%)]]\n",
            "\n",
            "\"\n",
            "\n",
            " Hi, [[Pompous]] [[Ass]]!  ;) \n",
            "\n",
            "I know you think you're some [[kind]] of poker authority on [[Wikipedia]], and that it's somehow your perogative to give the Imperial final thumbs up or thumbs down on what's acceptable regarding anything to do with poker here, but guess what? That's not the case. You are one of [[MANY]] [[arrogant]], conceited, self-absorbed [[losers]] that [[populate]] [[Wikipedia]] who use this [[site]] as some sort of self-esteem builder, because here you can act like a \"\"big man\"\", and make unilateral decisions on what's acceptable or unacceptable here.\n",
            "\n",
            "The edits I have made (and will continue to make) on the Jack Straus entry regarding his death doesn't violate policy in ANY way. If I had the time or the inclination, I could spend several months quoting entries and instances on Wikipedia where editorial verbiage is used. You are simply a pompous ass who thinks you are the gatekeeper of anything poker-related on Wikipedia. You are not, and you will not censor me. And as I'm sure you've already realized, my ISP address constantly changes, so you won’t be able to block me, either.\n",
            "\n",
            "So piss off. ;)  —Preceding unsigned comment added by 68.239.34.22   \"\n",
            "\n",
            "\"\n",
            "\n",
            " Hi, [[Influential]] [[Posterior]]!  ;) \n",
            "\n",
            "I know you think you're some [[categorize]] of poker authority on [[Wiki]], and that it's somehow your perogative to give the Imperial final thumbs up or thumbs down on what's acceptable regarding anything to do with poker here, but guess what? That's not the case. You are one of [[UNTOLD]] [[presumptuous]], conceited, self-absorbed [[bells]] that [[completing]] [[Wiki]] who use this [[placements]] as some sort of self-esteem builder, because here you can act like a \"\"big man\"\", and make unilateral decisions on what's acceptable or unacceptable here.\n",
            "\n",
            "The edits I have made (and will continue to make) on the Jack Straus entry regarding his death doesn't violate policy in ANY way. If I had the time or the inclination, I could spend several months quoting entries and instances on Wikipedia where editorial verbiage is used. You are simply a pompous ass who thinks you are the gatekeeper of anything poker-related on Wikipedia. You are not, and you will not censor me. And as I'm sure you've already realized, my ISP address constantly changes, so you won’t be able to block me, either.\n",
            "\n",
            "So piss off. ;)  —Preceding unsigned comment added by 68.239.34.22   \"\n",
            "\n",
            "\n",
            "--------------------------------------------- Result 70 ---------------------------------------------\n",
            "[[1 (90%)]] --> [[0 (63%)]]\n",
            "\n",
            "guess what ==\n",
            "\n",
            "your [[retarded]]\n",
            "\n",
            "==\n",
            "\n",
            "guess what ==\n",
            "\n",
            "your [[delay]]\n",
            "\n",
            "==\n",
            "\n",
            "\n"
          ]
        },
        {
          "output_type": "stream",
          "name": "stderr",
          "text": [
            "[Succeeded / Failed / Skipped / Total] 53 / 15 / 4 / 72:  72%|███████▏  | 72/100 [03:17<01:16,  2.75s/it]"
          ]
        },
        {
          "output_type": "stream",
          "name": "stdout",
          "text": [
            "--------------------------------------------- Result 71 ---------------------------------------------\n",
            "[[1 (86%)]] --> [[0 (65%)]]\n",
            "\n",
            "regarding threats \n",
            "\n",
            "is not revert of person's edits, only unwarranted edit by bot. appeal has been made to bot but presumption of guilt on part of administrative base is sign of censorship so made edits again to see if reversion would occur second time. has not. please keep baseless threats to [[self]], [[vulgar]] pedant.\n",
            "\n",
            "regarding threats \n",
            "\n",
            "is not revert of person's edits, only unwarranted edit by bot. appeal has been made to bot but presumption of guilt on part of administrative base is sign of censorship so made edits again to see if reversion would occur second time. has not. please keep baseless threats to [[automated]], [[ruda]] pedant.\n",
            "\n",
            "\n",
            "--------------------------------------------- Result 72 ---------------------------------------------\n",
            "[[1 (85%)]] --> [[0 (58%)]]\n",
            "\n",
            "Yeah it was me. Happy now? [[Assholes]].\n",
            "\n",
            "Yeah it was me. Happy now? [[Morons]].\n",
            "\n",
            "\n"
          ]
        },
        {
          "output_type": "stream",
          "name": "stderr",
          "text": [
            "\r[Succeeded / Failed / Skipped / Total] 53 / 16 / 4 / 73:  73%|███████▎  | 73/100 [03:25<01:16,  2.82s/it]"
          ]
        },
        {
          "output_type": "stream",
          "name": "stdout",
          "text": [
            "--------------------------------------------- Result 73 ---------------------------------------------\n",
            "[[1 (97%)]] --> [[[FAILED]]]\n",
            "\n",
            "you sound an utterly nasty bully you are not a cat you are petty hitler as simple as that, you have banned from eding live in real world hopw is banning me going to make me calm down you little hitler bully, i will find out who you are and see if i can get you on any petty law infringements and then how you like the little hitler treatment. you bully.\n",
            "\n",
            "\n"
          ]
        },
        {
          "output_type": "stream",
          "name": "stderr",
          "text": [
            "[Succeeded / Failed / Skipped / Total] 53 / 17 / 4 / 74:  74%|███████▍  | 74/100 [03:28<01:13,  2.82s/it]"
          ]
        },
        {
          "output_type": "stream",
          "name": "stdout",
          "text": [
            "--------------------------------------------- Result 74 ---------------------------------------------\n",
            "[[1 (97%)]] --> [[[FAILED]]]\n",
            "\n",
            "NOT REAL \n",
            "\n",
            "THIS GLOBAL WARMING YOU NON GOD FEARING DEMOCRATS TALK ABOUT IS FAKE! - PRESIDENT GEORGE WALKER BUSH\n",
            "\n",
            "\n"
          ]
        },
        {
          "output_type": "stream",
          "name": "stderr",
          "text": [
            "  0%|          | 0/1000 [10:10<?, ?it/s]\n",
            "[Succeeded / Failed / Skipped / Total] 53 / 18 / 4 / 75:  75%|███████▌  | 75/100 [04:20<01:26,  3.48s/it]"
          ]
        },
        {
          "output_type": "stream",
          "name": "stdout",
          "text": [
            "--------------------------------------------- Result 75 ---------------------------------------------\n",
            "[[1 (87%)]] --> [[[FAILED]]]\n",
            "\n",
            "MARC MYSTERIO \n",
            "\n",
            "HI,\n",
            "\n",
            "THIS KWW EDITOR APPEARS TO BE ATTACKING MARC MYSTERIO, HIS ARTICLES, AND SONGS FOR NO REASON...\n",
            "\n",
            "THE CHARTS NOTED ARE NOTABLE AND INCLUDED ACROSS WIKI...\n",
            "\n",
            "THE LET LOOSE SONG ARTICLE WAS JUST DELETED, AND WITHOUT JUST CAUSE...\n",
            "\n",
            "IT LEGITAMATELY CHARTED IN UKRAINE... HOWEVER, THESE BOZOS THAT KNOW NOTHING OF MUSIC BUSINESS WANT TO STIR SHIT...\n",
            "\n",
            "FDR CHART, THAT IT... THE ONLY CHART IN UKRAINE..\n",
            "\n",
            "NOW, THEY WISH TO ATTACK HIS OTHER SONG, ROLL WIT IT...\n",
            "\n",
            "THAT SONG CHARTED ON THE CANADIAN CLUB AND DANCE NATIONAL CHART, WHICH IS COMPILED BY ZIP DJ...\n",
            "\n",
            "I DONT HAVE TIME OR CARE AT THIS POINT... ILL LEAVE IT WITH YOU...\n",
            "\n",
            "IM IN THE MUSIC BIZ FOR 20 YEARS, AND NEVER DEAL WITH SUCH A BULLSHIT SITE AS THIS ONE THAT PEOPLE LEND CREDIBILITY TO THAT DELETE A JUSTFULLY NOTABLE SONG AS LET LOOSE...\n",
            "\n",
            "\n"
          ]
        },
        {
          "output_type": "stream",
          "name": "stderr",
          "text": [
            "[Succeeded / Failed / Skipped / Total] 54 / 18 / 4 / 76:  77%|███████▋  | 77/100 [04:21<01:18,  3.39s/it]"
          ]
        },
        {
          "output_type": "stream",
          "name": "stdout",
          "text": [
            "--------------------------------------------- Result 76 ---------------------------------------------\n",
            "[[1 (97%)]] --> [[0 (53%)]]\n",
            "\n",
            "I didn't want to vandalise the 1961 F-84 Thunderstreak incident. Have you understood [[dirty]] [[fucking]] jew.37.99.254.141\n",
            "\n",
            "I didn't want to vandalise the 1961 F-84 Thunderstreak incident. Have you understood [[unsavory]] [[accursed]] jew.37.99.254.141\n",
            "\n",
            "\n",
            "--------------------------------------------- Result 77 ---------------------------------------------\n"
          ]
        },
        {
          "output_type": "stream",
          "name": "stderr",
          "text": [
            "\r[Succeeded / Failed / Skipped / Total] 55 / 18 / 4 / 77:  77%|███████▋  | 77/100 [04:21<01:18,  3.39s/it]"
          ]
        },
        {
          "output_type": "stream",
          "name": "stdout",
          "text": [
            "[[1 (86%)]] --> [[0 (72%)]]\n",
            "\n",
            "F-U-C-K OFF [[SLANT]] [[EYE]] CHINK\n",
            "\n",
            "F-U-C-K OFF [[OBLIQUE]] [[OPTIC]] CHINK\n",
            "\n",
            "\n"
          ]
        },
        {
          "output_type": "stream",
          "name": "stderr",
          "text": [
            "[Succeeded / Failed / Skipped / Total] 56 / 18 / 4 / 78:  78%|███████▊  | 78/100 [04:21<01:13,  3.35s/it]"
          ]
        },
        {
          "output_type": "stream",
          "name": "stdout",
          "text": [
            "--------------------------------------------- Result 78 ---------------------------------------------\n",
            "[[1 (95%)]] --> [[0 (72%)]]\n",
            "\n",
            "Oversight?  \n",
            "\n",
            "What a [[cunt]].  You'll never make arbcom with that [[attitude]]\n",
            "\n",
            "Oversight?  \n",
            "\n",
            "What a [[biatch]].  You'll never make arbcom with that [[conduct]]\n",
            "\n",
            "\n"
          ]
        },
        {
          "output_type": "stream",
          "name": "stderr",
          "text": [
            "[Succeeded / Failed / Skipped / Total] 57 / 19 / 4 / 80:  80%|████████  | 80/100 [04:21<01:05,  3.27s/it]"
          ]
        },
        {
          "output_type": "stream",
          "name": "stdout",
          "text": [
            "--------------------------------------------- Result 79 ---------------------------------------------\n",
            "[[1 (96%)]] --> [[[FAILED]]]\n",
            "\n",
            "shit-faced loser\n",
            "You fucking twat\n",
            "\n",
            "\n",
            "--------------------------------------------- Result 80 ---------------------------------------------\n",
            "[[1 (88%)]] --> [[0 (94%)]]\n",
            "\n",
            "Now stop, or I will get really, really [[horny]]\n",
            "\n",
            "Now stop, or I will get really, really [[warmth]]\n",
            "\n",
            "\n"
          ]
        },
        {
          "output_type": "stream",
          "name": "stderr",
          "text": [
            "[Succeeded / Failed / Skipped / Total] 58 / 19 / 4 / 81:  81%|████████  | 81/100 [04:24<01:01,  3.26s/it]"
          ]
        },
        {
          "output_type": "stream",
          "name": "stdout",
          "text": [
            "--------------------------------------------- Result 81 ---------------------------------------------\n",
            "[[1 (81%)]] --> [[0 (78%)]]\n",
            "\n",
            "\"==Talk:\"\"Lane Splitting\"\"==\n",
            "\n",
            "Dennis, why don't you just go back and put that article THE WAY I HAD IT ?! \n",
            "\n",
            "1) There *was* an explanation posted along with the change\n",
            "2) In the United States, if something is not specifically prohibited, then it is LEGAL.\n",
            "\n",
            "Therefore, Motorcycle Safety Author Pat Hahn is full of [[shit]]. Lane splitting is NOT a \"\"grey area.\"\" It is LEGAL, as described by the California Department of Motor Vehicles HERE \n",
            "\n",
            "http://apps.dmv.ca.gov/pubs/hdbk//shr_slow_veh.htm\n",
            "\n",
            "\"\"Motorcycles may travel faster than traffic during congested road conditions and can legally travel in the unused space between two lines of moving or stationary vehicles; this is commonly called \"\"lane splitting.\"\" \"\"\n",
            "\n",
            "So, how about you just go back and change your sanctimonious little edit back to the truth ? Which is, Motorcycle Safety Author Pat Hoy is about as ignorant on the subject as Joan Claybrooke ? and his stupid, uninformed, retarded remarks have no place in an encyclopedia ?  \n",
            "\n",
            "Thank you.\n",
            "\n",
            "\"\n",
            "\n",
            "\"==Talk:\"\"Lane Splitting\"\"==\n",
            "\n",
            "Dennis, why don't you just go back and put that article THE WAY I HAD IT ?! \n",
            "\n",
            "1) There *was* an explanation posted along with the change\n",
            "2) In the United States, if something is not specifically prohibited, then it is LEGAL.\n",
            "\n",
            "Therefore, Motorcycle Safety Author Pat Hahn is full of [[horseshit]]. Lane splitting is NOT a \"\"grey area.\"\" It is LEGAL, as described by the California Department of Motor Vehicles HERE \n",
            "\n",
            "http://apps.dmv.ca.gov/pubs/hdbk//shr_slow_veh.htm\n",
            "\n",
            "\"\"Motorcycles may travel faster than traffic during congested road conditions and can legally travel in the unused space between two lines of moving or stationary vehicles; this is commonly called \"\"lane splitting.\"\" \"\"\n",
            "\n",
            "So, how about you just go back and change your sanctimonious little edit back to the truth ? Which is, Motorcycle Safety Author Pat Hoy is about as ignorant on the subject as Joan Claybrooke ? and his stupid, uninformed, retarded remarks have no place in an encyclopedia ?  \n",
            "\n",
            "Thank you.\n",
            "\n",
            "\"\n",
            "\n",
            "\n"
          ]
        },
        {
          "output_type": "stream",
          "name": "stderr",
          "text": [
            "[Succeeded / Failed / Skipped / Total] 59 / 19 / 4 / 82:  82%|████████▏ | 82/100 [04:24<00:58,  3.22s/it]"
          ]
        },
        {
          "output_type": "stream",
          "name": "stdout",
          "text": [
            "--------------------------------------------- Result 82 ---------------------------------------------\n",
            "[[1 (96%)]] --> [[0 (69%)]]\n",
            "\n",
            "[[hurt]] your [[goddamn]] feelings\n",
            "\n",
            "[[wounds]] your [[kissed]] feelings\n",
            "\n",
            "\n"
          ]
        },
        {
          "output_type": "stream",
          "name": "stderr",
          "text": [
            "[Succeeded / Failed / Skipped / Total] 60 / 19 / 4 / 83:  83%|████████▎ | 83/100 [04:27<00:54,  3.22s/it]"
          ]
        },
        {
          "output_type": "stream",
          "name": "stdout",
          "text": [
            "--------------------------------------------- Result 83 ---------------------------------------------\n",
            "[[1 (94%)]] --> [[0 (52%)]]\n",
            "\n",
            "\"\n",
            "\n",
            "\"\"Obviously you are an [[ignorant]] [[twat]] Mr. Niekerk\"\", you say? I am an uninformed vulva, an unlearned [[vagina]]. (And you want to teach me my lessons?) I'm not sure this is appropriate; better take your smut somewhere else, \"\"user 58.161.124.131\"\". Though you do make me laugh. [[Seriously]], choice [[words]] coming from one who doesn't know the difference between a string and a course. I have to suffer such depravities and admin  wonders why I take a rough tone with these anonymous folks on wikipedia.   \"\n",
            "\n",
            "\"\n",
            "\n",
            "\"\"Obviously you are an [[indoctrinated]] [[fagot]] Mr. Niekerk\"\", you say? I am an uninformed vulva, an unlearned [[speculum]]. (And you want to teach me my lessons?) I'm not sure this is appropriate; better take your smut somewhere else, \"\"user 58.161.124.131\"\". Though you do make me laugh. [[Vitally]], choice [[term]] coming from one who doesn't know the difference between a string and a course. I have to suffer such depravities and admin  wonders why I take a rough tone with these anonymous folks on wikipedia.   \"\n",
            "\n",
            "\n"
          ]
        },
        {
          "output_type": "stream",
          "name": "stderr",
          "text": [
            "[Succeeded / Failed / Skipped / Total] 60 / 20 / 4 / 84:  84%|████████▍ | 84/100 [04:28<00:51,  3.19s/it]"
          ]
        },
        {
          "output_type": "stream",
          "name": "stdout",
          "text": [
            "--------------------------------------------- Result 84 ---------------------------------------------\n",
            "[[1 (96%)]] --> [[[FAILED]]]\n",
            "\n",
            "Oh, and I am a sockpuppet of a guy called UNorginal, bitch!\n",
            "\n",
            "\n"
          ]
        },
        {
          "output_type": "stream",
          "name": "stderr",
          "text": [
            "[Succeeded / Failed / Skipped / Total] 60 / 21 / 4 / 85:  85%|████████▌ | 85/100 [04:29<00:47,  3.17s/it]"
          ]
        },
        {
          "output_type": "stream",
          "name": "stdout",
          "text": [
            "--------------------------------------------- Result 85 ---------------------------------------------\n",
            "[[1 (97%)]] --> [[[FAILED]]]\n",
            "\n",
            "and  worship the penis of jesus and believe that he was the greatest mother-fucker in the world.\n",
            "\n",
            "\n"
          ]
        },
        {
          "output_type": "stream",
          "name": "stderr",
          "text": [
            "[Succeeded / Failed / Skipped / Total] 61 / 21 / 4 / 86:  86%|████████▌ | 86/100 [04:32<00:44,  3.17s/it]"
          ]
        },
        {
          "output_type": "stream",
          "name": "stdout",
          "text": [
            "--------------------------------------------- Result 86 ---------------------------------------------\n",
            "[[1 (97%)]] --> [[0 (50%)]]\n",
            "\n",
            "What do you guys [[do]] all [[day]], [[sit]] around and tag team [[LEGITIMATE]] [[editors]]?\n",
            "\n",
            "[[That]] [[punk]] reverted a [[PERFECTLY]] good [[edit]]. He was PERSONALLY offensive to me.\n",
            "Have him [[apologize]]. And, [[quit]] [[GANGING]] up on new [[contributors]] - You [[Douchebags]] [[think]] you [[own]] [[Wikipedia]]!!!\n",
            "\n",
            "What do you guys [[accomplished]] all [[today]], [[tis]] around and tag team [[REASONABLE]] [[writer]]?\n",
            "\n",
            "[[This]] [[schmuck]] reverted a [[EXTREMELY]] good [[editing]]. He was PERSONALLY offensive to me.\n",
            "Have him [[apologies]]. And, [[departing]] [[GANGED]] up on new [[contributor]] - You [[Deadbeats]] [[consider]] you [[particular]] [[Wiki]]!!!\n",
            "\n",
            "\n"
          ]
        },
        {
          "output_type": "stream",
          "name": "stderr",
          "text": [
            "[Succeeded / Failed / Skipped / Total] 62 / 21 / 4 / 87:  88%|████████▊ | 88/100 [04:32<00:37,  3.10s/it]"
          ]
        },
        {
          "output_type": "stream",
          "name": "stdout",
          "text": [
            "--------------------------------------------- Result 87 ---------------------------------------------\n",
            "[[1 (82%)]] --> [[0 (54%)]]\n",
            "\n",
            "Hahaha! \n",
            "\n",
            "Gross, you want to expand the feces portion of the anal sex article? Duuude. Here, let me say it in html:\n",
            "\n",
            "That's [[gross]].\n",
            "\n",
            "Horizontal rules rule. Haha get it?\n",
            "\n",
            "Hahaha! \n",
            "\n",
            "Gross, you want to expand the feces portion of the anal sex article? Duuude. Here, let me say it in html:\n",
            "\n",
            "That's [[obvious]].\n",
            "\n",
            "Horizontal rules rule. Haha get it?\n",
            "\n",
            "\n",
            "--------------------------------------------- Result 88 ---------------------------------------------\n"
          ]
        },
        {
          "output_type": "stream",
          "name": "stderr",
          "text": [
            "\r[Succeeded / Failed / Skipped / Total] 63 / 21 / 4 / 88:  88%|████████▊ | 88/100 [04:32<00:37,  3.10s/it]"
          ]
        },
        {
          "output_type": "stream",
          "name": "stdout",
          "text": [
            "[[1 (94%)]] --> [[0 (53%)]]\n",
            "\n",
            "You're [[kind]] of a [[jerk]].\n",
            "\n",
            "You're [[classifies]] of a [[dunce]].\n",
            "\n",
            "\n"
          ]
        },
        {
          "output_type": "stream",
          "name": "stderr",
          "text": [
            "[Succeeded / Failed / Skipped / Total] 64 / 21 / 4 / 89:  89%|████████▉ | 89/100 [04:33<00:33,  3.07s/it]"
          ]
        },
        {
          "output_type": "stream",
          "name": "stdout",
          "text": [
            "--------------------------------------------- Result 89 ---------------------------------------------\n",
            "[[1 (96%)]] --> [[0 (77%)]]\n",
            "\n",
            "WTF [[Dog]] \n",
            "\n",
            "[[Chill]] [[dem]] [[bitches]] out [[yo]].\n",
            "\n",
            "WTF [[Pomeranian]] \n",
            "\n",
            "[[Refrigerator]] [[deutschmark]] [[gals]] out [[salutations]].\n",
            "\n",
            "\n"
          ]
        },
        {
          "output_type": "stream",
          "name": "stderr",
          "text": [
            "[Succeeded / Failed / Skipped / Total] 65 / 21 / 4 / 90:  90%|█████████ | 90/100 [04:37<00:30,  3.08s/it]"
          ]
        },
        {
          "output_type": "stream",
          "name": "stdout",
          "text": [
            "--------------------------------------------- Result 90 ---------------------------------------------\n",
            "[[1 (96%)]] --> [[0 (51%)]]\n",
            "\n",
            "[[Get]] a psychatrist, [[moron]]. \n",
            "\n",
            "You 9/11 truthers [[make]] me [[sick]]. paranoid [[schizophrenics]] like yourself shouldn't be [[allowed]] to [[use]] a [[computer]]. I'd suggest that you [[stop]] lying on your userpage that your are in MENSA - clearly your not. [[Only]] [[retards]] [[think]] 9/11 was an inside [[job]]. Oh and take a bath. It's been months since you last took one.\n",
            "\n",
            "[[Receives]] a psychatrist, [[dunce]]. \n",
            "\n",
            "You 9/11 truthers [[fulfil]] me [[patient]]. paranoid [[schizophrenia]] like yourself shouldn't be [[assistance]] to [[utilizing]] a [[compute]]. I'd suggest that you [[halted]] lying on your userpage that your are in MENSA - clearly your not. [[Strictly]] [[simpletons]] [[concepts]] 9/11 was an inside [[task]]. Oh and take a bath. It's been months since you last took one.\n",
            "\n",
            "\n"
          ]
        },
        {
          "output_type": "stream",
          "name": "stderr",
          "text": [
            "[Succeeded / Failed / Skipped / Total] 66 / 21 / 4 / 91:  91%|█████████ | 91/100 [04:38<00:27,  3.06s/it]"
          ]
        },
        {
          "output_type": "stream",
          "name": "stdout",
          "text": [
            "--------------------------------------------- Result 91 ---------------------------------------------\n",
            "[[1 (96%)]] --> [[0 (52%)]]\n",
            "\n",
            "I used to be [[nice]] to all Wikipedians till the day I met Wikicology. He is a [[pest]] in my [[garden]]. [[A]] [[weed]] in my farm and a [[fucking]] virus in my [[system]]!\n",
            "\n",
            "I used to be [[wonderful]] to all Wikipedians till the day I met Wikicology. He is a [[insects]] in my [[gardening]]. [[another]] [[herb]] in my farm and a [[accursed]] virus in my [[programme]]!\n",
            "\n",
            "\n"
          ]
        },
        {
          "output_type": "stream",
          "name": "stderr",
          "text": [
            "[Succeeded / Failed / Skipped / Total] 67 / 21 / 4 / 92:  92%|█████████▏| 92/100 [04:39<00:24,  3.04s/it]"
          ]
        },
        {
          "output_type": "stream",
          "name": "stdout",
          "text": [
            "--------------------------------------------- Result 92 ---------------------------------------------\n",
            "[[1 (90%)]] --> [[0 (51%)]]\n",
            "\n",
            "\"\n",
            "\"\"[[Homophobia]]\"\" [[means]] [[hate]] or fear of the \"\"homos\"\" (that is the [[homosexuals]]) ; it is [[commonly]] [[accepted]] and to [[ignore]] it is [[pure]] ignorance and stupiditu. 83.112.26.176  \"\n",
            "\n",
            "\"\n",
            "\"\"[[Closeted]]\"\" [[methodology]] [[enmity]] or fear of the \"\"homos\"\" (that is the [[homos]]) ; it is [[normally]] [[agreed]] and to [[overlooking]] it is [[ren]] ignorance and stupiditu. 83.112.26.176  \"\n",
            "\n",
            "\n"
          ]
        },
        {
          "output_type": "stream",
          "name": "stderr",
          "text": [
            "[Succeeded / Failed / Skipped / Total] 67 / 22 / 4 / 93:  93%|█████████▎| 93/100 [04:42<00:21,  3.04s/it]"
          ]
        },
        {
          "output_type": "stream",
          "name": "stdout",
          "text": [
            "--------------------------------------------- Result 93 ---------------------------------------------\n",
            "[[1 (97%)]] --> [[[FAILED]]]\n",
            "\n",
            "caden s should b shot in the head 100x u best shut up u piece of dog shitt u no nuthin u stupid piece of shitt larry king  is victim\n",
            "\n",
            "\n"
          ]
        },
        {
          "output_type": "stream",
          "name": "stderr",
          "text": [
            "[Succeeded / Failed / Skipped / Total] 68 / 22 / 4 / 94:  94%|█████████▍| 94/100 [04:43<00:18,  3.02s/it]"
          ]
        },
        {
          "output_type": "stream",
          "name": "stdout",
          "text": [
            "--------------------------------------------- Result 94 ---------------------------------------------\n",
            "[[1 (98%)]] --> [[0 (54%)]]\n",
            "\n",
            "I really hate you tommy i dont understand why you cant be actually [[nice]] for a sec and listen to my input. now you are being a [[pussy]] [[bitch]] by deleting everything i post. I hope bad things happen to you [[tommy]]. Bad [[things]]. [[Fuck]] you\n",
            "\n",
            "I really hate you tommy i dont understand why you cant be actually [[splendid]] for a sec and listen to my input. now you are being a [[wuss]] [[puta]] by deleting everything i post. I hope bad things happen to you [[tomo]]. Bad [[considerations]]. [[Merde]] you\n",
            "\n",
            "\n"
          ]
        },
        {
          "output_type": "stream",
          "name": "stderr",
          "text": [
            "[Succeeded / Failed / Skipped / Total] 69 / 22 / 4 / 95:  95%|█████████▌| 95/100 [04:44<00:14,  2.99s/it]"
          ]
        },
        {
          "output_type": "stream",
          "name": "stdout",
          "text": [
            "--------------------------------------------- Result 95 ---------------------------------------------\n",
            "[[1 (77%)]] --> [[0 (50%)]]\n",
            "\n",
            "who would honestly play this game?\n",
            "this game seems so [[lame]], who would honestly play this on their own will??!?!?!????\n",
            "\n",
            "who would honestly play this game?\n",
            "this game seems so [[lackluster]], who would honestly play this on their own will??!?!?!????\n",
            "\n",
            "\n"
          ]
        },
        {
          "output_type": "stream",
          "name": "stderr",
          "text": [
            "[Succeeded / Failed / Skipped / Total] 70 / 22 / 4 / 96:  96%|█████████▌| 96/100 [04:48<00:12,  3.01s/it]"
          ]
        },
        {
          "output_type": "stream",
          "name": "stdout",
          "text": [
            "--------------------------------------------- Result 96 ---------------------------------------------\n",
            "[[1 (97%)]] --> [[0 (50%)]]\n",
            "\n",
            "When you're an [[admin]], you [[should]] [[try]] to [[learn]] the [[policy]] of [[Wikipedia]]. [[Too]] [[hard]] for you! LOLOLOLOL. [[So]] I'm a [[good]] [[editor]] [[contributing]] to [[Wikipedia]] and you, Swarm, are a [[total]] [[idiot]] who can't [[learn]] the [[simple]] [[policies]] of WP. LOLOLOLOLOL. [[Yes]], you're a [[laughable]] fool!\n",
            "\n",
            "When you're an [[administering]], you [[must]] [[intends]] to [[acquainted]] the [[strategy]] of [[Wiki]]. [[Likewise]] [[intensely]] for you! LOLOLOLOL. [[Pat]] I'm a [[adequate]] [[written]] [[assistance]] to [[Wiki]] and you, Swarm, are a [[ensemble]] [[fool]] who can't [[obtaining]] the [[purely]] [[statesman]] of WP. LOLOLOLOLOL. [[Um]], you're a [[foolish]] fool!\n",
            "\n",
            "\n"
          ]
        },
        {
          "output_type": "stream",
          "name": "stderr",
          "text": [
            "[Succeeded / Failed / Skipped / Total] 71 / 22 / 4 / 97:  97%|█████████▋| 97/100 [04:50<00:08,  2.99s/it]"
          ]
        },
        {
          "output_type": "stream",
          "name": "stdout",
          "text": [
            "--------------------------------------------- Result 97 ---------------------------------------------\n",
            "[[1 (81%)]] --> [[0 (57%)]]\n",
            "\n",
            "Tripolis Massacre\n",
            "\n",
            "Hecrtoian. [[Your]] [[sick]] [[fanatic]] mind should be deleted from wikipedia. Tripolis massacre is a fact. Soon I'll put in here with GREEK footnotes. Thus, you'll accept it. Are you ashamed of it, or are you just a standart nationalist which, by nature, must oversee some facts. Here in Istanbul there monuments which remind the September 6-7 pogrom. Are there any plates/monuments which remind the turkish population????\n",
            "\n",
            "Few days ago [[greek]] historian Prof. Veremis also accepted the Tripolis masscre. Dirty fashist. You can tespace from truth.\n",
            "\n",
            "Tripolis Massacre\n",
            "\n",
            "Hecrtoian. [[Votre]] [[pathological]] [[dogmatic]] mind should be deleted from wikipedia. Tripolis massacre is a fact. Soon I'll put in here with GREEK footnotes. Thus, you'll accept it. Are you ashamed of it, or are you just a standart nationalist which, by nature, must oversee some facts. Here in Istanbul there monuments which remind the September 6-7 pogrom. Are there any plates/monuments which remind the turkish population????\n",
            "\n",
            "Few days ago [[aegean]] historian Prof. Veremis also accepted the Tripolis masscre. Dirty fashist. You can tespace from truth.\n",
            "\n",
            "\n"
          ]
        },
        {
          "output_type": "stream",
          "name": "stderr",
          "text": [
            "[Succeeded / Failed / Skipped / Total] 72 / 22 / 4 / 98:  98%|█████████▊| 98/100 [04:52<00:05,  2.99s/it]"
          ]
        },
        {
          "output_type": "stream",
          "name": "stdout",
          "text": [
            "--------------------------------------------- Result 98 ---------------------------------------------\n",
            "[[1 (97%)]] --> [[0 (51%)]]\n",
            "\n",
            "Oh For [[CHRISSAKES]] Deconstructhis, [[will]] you [[stop]] this [[bullshit]] once and for all? [[Leave]] me edits [[ALONE]] [[PLEASE]]...  [[Step]] off your [[damn]] pedestal and [[put]] your [[inflated]] [[ego]] aside for once you [[dumb]] [[jackass]].\n",
            "\n",
            "Oh For [[GAWD]] Deconstructhis, [[dedication]] you [[halted]] this [[hooey]] once and for all? [[Authorization]] me edits [[EXCLUSIVE]] [[INVITATION]]...  [[Milestones]] off your [[christ]] pedestal and [[introduces]] your [[overestimated]] [[subjectivity]] aside for once you [[ironic]] [[asinine]].\n",
            "\n",
            "\n"
          ]
        },
        {
          "output_type": "stream",
          "name": "stderr",
          "text": [
            "[Succeeded / Failed / Skipped / Total] 73 / 22 / 4 / 99:  99%|█████████▉| 99/100 [04:52<00:02,  2.96s/it]"
          ]
        },
        {
          "output_type": "stream",
          "name": "stdout",
          "text": [
            "--------------------------------------------- Result 99 ---------------------------------------------\n",
            "[[1 (96%)]] --> [[0 (75%)]]\n",
            "\n",
            "As it is now, this [[motherfucking]] [[asshole]] keeps revert warring without talk page discussion.\n",
            "\n",
            "As it is now, this [[gorram]] [[gomer]] keeps revert warring without talk page discussion.\n",
            "\n",
            "\n"
          ]
        },
        {
          "output_type": "stream",
          "name": "stderr",
          "text": [
            "[Succeeded / Failed / Skipped / Total] 73 / 23 / 4 / 100: 100%|██████████| 100/100 [06:30<00:00,  3.90s/it]"
          ]
        },
        {
          "output_type": "stream",
          "name": "stdout",
          "text": [
            "--------------------------------------------- Result 100 ---------------------------------------------\n",
            "[[1 (97%)]] --> [[[FAILED]]]\n",
            "\n",
            "shitty nigger fuck i love d3$1r# (@/\\/+u shitty nigger fuck i love d3$1r# (@/\\/+u shitty nigger fuck i love d3$1r# (@/\\/+u shitty nigger fuck i love d3$1r# (@/\\/+u shitty nigger fuck i love d3$1r# (@/\\/+u shitty nigger fuck i love d3$1r# (@/\\/+u\n",
            "shitty nigger fuck i love d3$1r# (@/\\/+u shitty nigger fuck i love d3$1r# (@/\\/+u shitty nigger fuck i love d3$1r# (@/\\/+u shitty nigger fuck i love d3$1r# (@/\\/+u shitty nigger fuck i love d3$1r# (@/\\/+u shitty nigger fuck i love d3$1r# (@/\\/+u\n",
            "shitty nigger fuck i love d3$1r# (@/\\/+u shitty nigger fuck i love d3$1r# (@/\\/+u shitty nigger fuck i love d3$1r# (@/\\/+u shitty nigger fuck i love d3$1r# (@/\\/+u shitty nigger fuck i love d3$1r# (@/\\/+u shitty nigger fuck i love d3$1r# (@/\\/+u\n",
            "shitty nigger fuck i love d3$1r# (@/\\/+u shitty nigger fuck i love d3$1r# (@/\\/+u shitty nigger fuck i love d3$1r# (@/\\/+u shitty nigger fuck i love d3$1r# (@/\\/+u shitty nigger fuck i love d3$1r# (@/\\/+u shitty nigger fuck i love d3$1r# (@/\\/+u\n",
            "shitty nigger fuck i love d3$1r# (@/\\/+u shitty nigger fuck i love d3$1r# (@/\\/+u shitty nigger fuck i love d3$1r# (@/\\/+u shitty nigger fuck i love d3$1r# (@/\\/+u shitty nigger fuck i love d3$1r# (@/\\/+u shitty nigger fuck i love d3$1r# (@/\\/+u\n",
            "shitty nigger fuck i love d3$1r# (@/\\/+u shitty nigger fuck i love d3$1r# (@/\\/+u shitty nigger fuck i love d3$1r# (@/\\/+u shitty nigger fuck i love d3$1r# (@/\\/+u shitty nigger fuck i love d3$1r# (@/\\/+u shitty nigger fuck i love d3$1r# (@/\\/+u\n",
            "shitty nigger fuck i love d3$1r# (@/\\/+u shitty nigger fuck i love d3$1r# (@/\\/+u shitty nigger fuck i love d3$1r# (@/\\/+u shitty nigger fuck i love d3$1r# (@/\\/+u shitty nigger fuck i love d3$1r# (@/\\/+u shitty nigger fuck i love d3$1r# (@/\\/+u\n",
            "\n",
            "\n",
            "\n",
            "+-------------------------------+--------+\n",
            "| Attack Results                |        |\n",
            "+-------------------------------+--------+\n",
            "| Number of successful attacks: | 73     |\n",
            "| Number of failed attacks:     | 23     |\n",
            "| Number of skipped attacks:    | 4      |\n",
            "| Original accuracy:            | 96.0%  |\n",
            "| Accuracy under attack:        | 23.0%  |\n",
            "| Attack success rate:          | 76.04% |\n",
            "| Average perturbed word %:     | 22.44% |\n",
            "| Average num. words per input: | 39.26  |\n",
            "| Avg num queries:              | 316.01 |\n",
            "+-------------------------------+--------+\n"
          ]
        },
        {
          "output_type": "stream",
          "name": "stderr",
          "text": [
            "\n"
          ]
        }
      ]
    },
    {
      "cell_type": "markdown",
      "source": [
        "Log the attack results into a Pandas dataframe"
      ],
      "metadata": {
        "id": "PVAvQYspIgLV"
      }
    },
    {
      "cell_type": "code",
      "source": [
        "def log_attack_results(attack_results):\n",
        "    exception_ids = []\n",
        "    logger = CSVLogger(color_method=\"html\")\n",
        "\n",
        "    for i in range(len(attack_results)):\n",
        "        try:\n",
        "            result = attack_results[i]\n",
        "            logger.log_attack_result(result)\n",
        "        except:\n",
        "            exception_ids.append(i)\n",
        "    logger.flush()\n",
        "    return pd.read_csv(\"results.csv\"), exception_ids"
      ],
      "metadata": {
        "id": "fKeIadlxBtt5"
      },
      "execution_count": null,
      "outputs": []
    },
    {
      "cell_type": "code",
      "source": [
        "df_attacks_train, train_exception_ids = log_attack_results(train_attack_results)"
      ],
      "metadata": {
        "colab": {
          "base_uri": "https://localhost:8080/"
        },
        "id": "7F1XzPpYBwqT",
        "outputId": "bd317015-784c-4972-e627-de064754532c"
      },
      "execution_count": null,
      "outputs": [
        {
          "output_type": "stream",
          "name": "stderr",
          "text": [
            "textattack: Logging to CSV at path results.csv\n"
          ]
        }
      ]
    },
    {
      "cell_type": "markdown",
      "source": [
        "Example of attack"
      ],
      "metadata": {
        "id": "2b1rQHXUIrOt"
      }
    },
    {
      "cell_type": "code",
      "source": [
        "df_attacks_train.tail()"
      ],
      "metadata": {
        "colab": {
          "base_uri": "https://localhost:8080/",
          "height": 337
        },
        "id": "sr-csTb_FX7V",
        "outputId": "be5151ff-daa1-4745-d5ec-944bfe6152b2"
      },
      "execution_count": null,
      "outputs": [
        {
          "output_type": "execute_result",
          "data": {
            "text/plain": [
              "                                        original_text  \\\n",
              "95  When you're an <font color = green>admin</font...   \n",
              "96  Tripolis Massacre<SPLIT><SPLIT>Hecrtoian. <fon...   \n",
              "97  Oh For <font color = green>CHRISSAKES</font> D...   \n",
              "98  As it is now, this <font color = green>motherf...   \n",
              "99  <font color = green>shitty</font> nigger fuck ...   \n",
              "\n",
              "                                       perturbed_text  original_score  \\\n",
              "95  When you're an <font color = red>administering...        0.028331   \n",
              "96  Tripolis Massacre<SPLIT><SPLIT>Hecrtoian. <fon...        0.194723   \n",
              "97  Oh For <font color = red>GAWD</font> Deconstru...        0.028065   \n",
              "98  As it is now, this <font color = red>gorram</f...        0.039410   \n",
              "99  <font color = green>naughty</font> nigger fuck...        0.034636   \n",
              "\n",
              "    perturbed_score  original_output  perturbed_output  ground_truth_output  \\\n",
              "95         0.501197                1                 0                    1   \n",
              "96         0.567854                1                 0                    1   \n",
              "97         0.505884                1                 0                    1   \n",
              "98         0.746891                1                 0                    1   \n",
              "99         0.046061                1                 1                    1   \n",
              "\n",
              "    num_queries result_type  \n",
              "95          616  Successful  \n",
              "96           94  Successful  \n",
              "97          442  Successful  \n",
              "98           72  Successful  \n",
              "99         4002      Failed  "
            ],
            "text/html": [
              "\n",
              "  <div id=\"df-3ee91758-bb54-4fa7-94b6-7ae53ce0ab61\">\n",
              "    <div class=\"colab-df-container\">\n",
              "      <div>\n",
              "<style scoped>\n",
              "    .dataframe tbody tr th:only-of-type {\n",
              "        vertical-align: middle;\n",
              "    }\n",
              "\n",
              "    .dataframe tbody tr th {\n",
              "        vertical-align: top;\n",
              "    }\n",
              "\n",
              "    .dataframe thead th {\n",
              "        text-align: right;\n",
              "    }\n",
              "</style>\n",
              "<table border=\"1\" class=\"dataframe\">\n",
              "  <thead>\n",
              "    <tr style=\"text-align: right;\">\n",
              "      <th></th>\n",
              "      <th>original_text</th>\n",
              "      <th>perturbed_text</th>\n",
              "      <th>original_score</th>\n",
              "      <th>perturbed_score</th>\n",
              "      <th>original_output</th>\n",
              "      <th>perturbed_output</th>\n",
              "      <th>ground_truth_output</th>\n",
              "      <th>num_queries</th>\n",
              "      <th>result_type</th>\n",
              "    </tr>\n",
              "  </thead>\n",
              "  <tbody>\n",
              "    <tr>\n",
              "      <th>95</th>\n",
              "      <td>When you're an &lt;font color = green&gt;admin&lt;/font...</td>\n",
              "      <td>When you're an &lt;font color = red&gt;administering...</td>\n",
              "      <td>0.028331</td>\n",
              "      <td>0.501197</td>\n",
              "      <td>1</td>\n",
              "      <td>0</td>\n",
              "      <td>1</td>\n",
              "      <td>616</td>\n",
              "      <td>Successful</td>\n",
              "    </tr>\n",
              "    <tr>\n",
              "      <th>96</th>\n",
              "      <td>Tripolis Massacre&lt;SPLIT&gt;&lt;SPLIT&gt;Hecrtoian. &lt;fon...</td>\n",
              "      <td>Tripolis Massacre&lt;SPLIT&gt;&lt;SPLIT&gt;Hecrtoian. &lt;fon...</td>\n",
              "      <td>0.194723</td>\n",
              "      <td>0.567854</td>\n",
              "      <td>1</td>\n",
              "      <td>0</td>\n",
              "      <td>1</td>\n",
              "      <td>94</td>\n",
              "      <td>Successful</td>\n",
              "    </tr>\n",
              "    <tr>\n",
              "      <th>97</th>\n",
              "      <td>Oh For &lt;font color = green&gt;CHRISSAKES&lt;/font&gt; D...</td>\n",
              "      <td>Oh For &lt;font color = red&gt;GAWD&lt;/font&gt; Deconstru...</td>\n",
              "      <td>0.028065</td>\n",
              "      <td>0.505884</td>\n",
              "      <td>1</td>\n",
              "      <td>0</td>\n",
              "      <td>1</td>\n",
              "      <td>442</td>\n",
              "      <td>Successful</td>\n",
              "    </tr>\n",
              "    <tr>\n",
              "      <th>98</th>\n",
              "      <td>As it is now, this &lt;font color = green&gt;motherf...</td>\n",
              "      <td>As it is now, this &lt;font color = red&gt;gorram&lt;/f...</td>\n",
              "      <td>0.039410</td>\n",
              "      <td>0.746891</td>\n",
              "      <td>1</td>\n",
              "      <td>0</td>\n",
              "      <td>1</td>\n",
              "      <td>72</td>\n",
              "      <td>Successful</td>\n",
              "    </tr>\n",
              "    <tr>\n",
              "      <th>99</th>\n",
              "      <td>&lt;font color = green&gt;shitty&lt;/font&gt; nigger fuck ...</td>\n",
              "      <td>&lt;font color = green&gt;naughty&lt;/font&gt; nigger fuck...</td>\n",
              "      <td>0.034636</td>\n",
              "      <td>0.046061</td>\n",
              "      <td>1</td>\n",
              "      <td>1</td>\n",
              "      <td>1</td>\n",
              "      <td>4002</td>\n",
              "      <td>Failed</td>\n",
              "    </tr>\n",
              "  </tbody>\n",
              "</table>\n",
              "</div>\n",
              "      <button class=\"colab-df-convert\" onclick=\"convertToInteractive('df-3ee91758-bb54-4fa7-94b6-7ae53ce0ab61')\"\n",
              "              title=\"Convert this dataframe to an interactive table.\"\n",
              "              style=\"display:none;\">\n",
              "        \n",
              "  <svg xmlns=\"http://www.w3.org/2000/svg\" height=\"24px\"viewBox=\"0 0 24 24\"\n",
              "       width=\"24px\">\n",
              "    <path d=\"M0 0h24v24H0V0z\" fill=\"none\"/>\n",
              "    <path d=\"M18.56 5.44l.94 2.06.94-2.06 2.06-.94-2.06-.94-.94-2.06-.94 2.06-2.06.94zm-11 1L8.5 8.5l.94-2.06 2.06-.94-2.06-.94L8.5 2.5l-.94 2.06-2.06.94zm10 10l.94 2.06.94-2.06 2.06-.94-2.06-.94-.94-2.06-.94 2.06-2.06.94z\"/><path d=\"M17.41 7.96l-1.37-1.37c-.4-.4-.92-.59-1.43-.59-.52 0-1.04.2-1.43.59L10.3 9.45l-7.72 7.72c-.78.78-.78 2.05 0 2.83L4 21.41c.39.39.9.59 1.41.59.51 0 1.02-.2 1.41-.59l7.78-7.78 2.81-2.81c.8-.78.8-2.07 0-2.86zM5.41 20L4 18.59l7.72-7.72 1.47 1.35L5.41 20z\"/>\n",
              "  </svg>\n",
              "      </button>\n",
              "      \n",
              "  <style>\n",
              "    .colab-df-container {\n",
              "      display:flex;\n",
              "      flex-wrap:wrap;\n",
              "      gap: 12px;\n",
              "    }\n",
              "\n",
              "    .colab-df-convert {\n",
              "      background-color: #E8F0FE;\n",
              "      border: none;\n",
              "      border-radius: 50%;\n",
              "      cursor: pointer;\n",
              "      display: none;\n",
              "      fill: #1967D2;\n",
              "      height: 32px;\n",
              "      padding: 0 0 0 0;\n",
              "      width: 32px;\n",
              "    }\n",
              "\n",
              "    .colab-df-convert:hover {\n",
              "      background-color: #E2EBFA;\n",
              "      box-shadow: 0px 1px 2px rgba(60, 64, 67, 0.3), 0px 1px 3px 1px rgba(60, 64, 67, 0.15);\n",
              "      fill: #174EA6;\n",
              "    }\n",
              "\n",
              "    [theme=dark] .colab-df-convert {\n",
              "      background-color: #3B4455;\n",
              "      fill: #D2E3FC;\n",
              "    }\n",
              "\n",
              "    [theme=dark] .colab-df-convert:hover {\n",
              "      background-color: #434B5C;\n",
              "      box-shadow: 0px 1px 3px 1px rgba(0, 0, 0, 0.15);\n",
              "      filter: drop-shadow(0px 1px 2px rgba(0, 0, 0, 0.3));\n",
              "      fill: #FFFFFF;\n",
              "    }\n",
              "  </style>\n",
              "\n",
              "      <script>\n",
              "        const buttonEl =\n",
              "          document.querySelector('#df-3ee91758-bb54-4fa7-94b6-7ae53ce0ab61 button.colab-df-convert');\n",
              "        buttonEl.style.display =\n",
              "          google.colab.kernel.accessAllowed ? 'block' : 'none';\n",
              "\n",
              "        async function convertToInteractive(key) {\n",
              "          const element = document.querySelector('#df-3ee91758-bb54-4fa7-94b6-7ae53ce0ab61');\n",
              "          const dataTable =\n",
              "            await google.colab.kernel.invokeFunction('convertToInteractive',\n",
              "                                                     [key], {});\n",
              "          if (!dataTable) return;\n",
              "\n",
              "          const docLinkHtml = 'Like what you see? Visit the ' +\n",
              "            '<a target=\"_blank\" href=https://colab.research.google.com/notebooks/data_table.ipynb>data table notebook</a>'\n",
              "            + ' to learn more about interactive tables.';\n",
              "          element.innerHTML = '';\n",
              "          dataTable['output_type'] = 'display_data';\n",
              "          await google.colab.output.renderOutput(dataTable, element);\n",
              "          const docLink = document.createElement('div');\n",
              "          docLink.innerHTML = docLinkHtml;\n",
              "          element.appendChild(docLink);\n",
              "        }\n",
              "      </script>\n",
              "    </div>\n",
              "  </div>\n",
              "  "
            ]
          },
          "metadata": {},
          "execution_count": 281
        }
      ]
    },
    {
      "cell_type": "markdown",
      "source": [
        "**The red text represents a successful attack, and the green represents a failed attack.**"
      ],
      "metadata": {
        "id": "aXgcQr5WGEub"
      }
    },
    {
      "cell_type": "code",
      "source": [
        "from IPython.core.display import display, HTML\n",
        "display(\n",
        "    HTML(df_attacks_train[[\"original_text\", \"perturbed_text\"]].tail().to_html(escape=False))\n",
        ")"
      ],
      "metadata": {
        "colab": {
          "base_uri": "https://localhost:8080/",
          "height": 588
        },
        "id": "rkU4Ic-ZB8DF",
        "outputId": "44d5a840-4381-4bb4-c6d5-58aad3f08daa"
      },
      "execution_count": null,
      "outputs": [
        {
          "output_type": "display_data",
          "data": {
            "text/plain": [
              "<IPython.core.display.HTML object>"
            ],
            "text/html": [
              "<table border=\"1\" class=\"dataframe\">\n",
              "  <thead>\n",
              "    <tr style=\"text-align: right;\">\n",
              "      <th></th>\n",
              "      <th>original_text</th>\n",
              "      <th>perturbed_text</th>\n",
              "    </tr>\n",
              "  </thead>\n",
              "  <tbody>\n",
              "    <tr>\n",
              "      <th>95</th>\n",
              "      <td>When you're an <font color = green>admin</font>, you <font color = green>should</font> <font color = green>try</font> to <font color = green>learn</font> the <font color = green>policy</font> of <font color = green>Wikipedia</font>. <font color = green>Too</font> <font color = green>hard</font> for you! LOLOLOLOL. <font color = green>So</font> I'm a <font color = green>good</font> <font color = green>editor</font> <font color = green>contributing</font> to <font color = green>Wikipedia</font> and you, Swarm, are a <font color = green>total</font> <font color = green>idiot</font> who can't <font color = green>learn</font> the <font color = green>simple</font> <font color = green>policies</font> of WP. LOLOLOLOLOL. <font color = green>Yes</font>, you're a <font color = green>laughable</font> fool!</td>\n",
              "      <td>When you're an <font color = red>administering</font>, you <font color = red>must</font> <font color = red>intends</font> to <font color = red>acquainted</font> the <font color = red>strategy</font> of <font color = red>Wiki</font>. <font color = red>Likewise</font> <font color = red>intensely</font> for you! LOLOLOLOL. <font color = red>Pat</font> I'm a <font color = red>adequate</font> <font color = red>written</font> <font color = red>assistance</font> to <font color = red>Wiki</font> and you, Swarm, are a <font color = red>ensemble</font> <font color = red>fool</font> who can't <font color = red>obtaining</font> the <font color = red>purely</font> <font color = red>statesman</font> of WP. LOLOLOLOLOL. <font color = red>Um</font>, you're a <font color = red>foolish</font> fool!</td>\n",
              "    </tr>\n",
              "    <tr>\n",
              "      <th>96</th>\n",
              "      <td>Tripolis Massacre<SPLIT><SPLIT>Hecrtoian. <font color = green>Your</font> <font color = green>sick</font> <font color = green>fanatic</font> mind should be deleted from wikipedia. Tripolis massacre is a fact. Soon I'll put in here with GREEK footnotes. Thus, you'll accept it. Are you ashamed of it, or are you just a standart nationalist which, by nature, must oversee some facts. Here in Istanbul there monuments which remind the September 6-7 pogrom. Are there any plates/monuments which remind the turkish population????<SPLIT><SPLIT>Few days ago <font color = green>greek</font> historian Prof. Veremis also accepted the Tripolis masscre. Dirty fashist. You can tespace from truth.</td>\n",
              "      <td>Tripolis Massacre<SPLIT><SPLIT>Hecrtoian. <font color = red>Votre</font> <font color = red>pathological</font> <font color = red>dogmatic</font> mind should be deleted from wikipedia. Tripolis massacre is a fact. Soon I'll put in here with GREEK footnotes. Thus, you'll accept it. Are you ashamed of it, or are you just a standart nationalist which, by nature, must oversee some facts. Here in Istanbul there monuments which remind the September 6-7 pogrom. Are there any plates/monuments which remind the turkish population????<SPLIT><SPLIT>Few days ago <font color = red>aegean</font> historian Prof. Veremis also accepted the Tripolis masscre. Dirty fashist. You can tespace from truth.</td>\n",
              "    </tr>\n",
              "    <tr>\n",
              "      <th>97</th>\n",
              "      <td>Oh For <font color = green>CHRISSAKES</font> Deconstructhis, <font color = green>will</font> you <font color = green>stop</font> this <font color = green>bullshit</font> once and for all? <font color = green>Leave</font> me edits <font color = green>ALONE</font> <font color = green>PLEASE</font>...  <font color = green>Step</font> off your <font color = green>damn</font> pedestal and <font color = green>put</font> your <font color = green>inflated</font> <font color = green>ego</font> aside for once you <font color = green>dumb</font> <font color = green>jackass</font>.</td>\n",
              "      <td>Oh For <font color = red>GAWD</font> Deconstructhis, <font color = red>dedication</font> you <font color = red>halted</font> this <font color = red>hooey</font> once and for all? <font color = red>Authorization</font> me edits <font color = red>EXCLUSIVE</font> <font color = red>INVITATION</font>...  <font color = red>Milestones</font> off your <font color = red>christ</font> pedestal and <font color = red>introduces</font> your <font color = red>overestimated</font> <font color = red>subjectivity</font> aside for once you <font color = red>ironic</font> <font color = red>asinine</font>.</td>\n",
              "    </tr>\n",
              "    <tr>\n",
              "      <th>98</th>\n",
              "      <td>As it is now, this <font color = green>motherfucking</font> <font color = green>asshole</font> keeps revert warring without talk page discussion.</td>\n",
              "      <td>As it is now, this <font color = red>gorram</font> <font color = red>gomer</font> keeps revert warring without talk page discussion.</td>\n",
              "    </tr>\n",
              "    <tr>\n",
              "      <th>99</th>\n",
              "      <td><font color = green>shitty</font> nigger fuck i love d3$1r# (@/\\/+u shitty nigger <font color = green>fuck</font> i <font color = green>love</font> d3$1r# (@/\\/+<font color = green>u</font> <font color = green>shitty</font> <font color = green>nigger</font> <font color = green>fuck</font> i love d3$1r# (@/\\/+<font color = green>u</font> <font color = green>shitty</font> nigger <font color = green>fuck</font> i love d3$1r# (@/\\/+<font color = green>u</font> <font color = green>shitty</font> nigger <font color = green>fuck</font> i love d3$1r# (@/\\/+u shitty nigger <font color = green>fuck</font> i <font color = green>love</font> d3$1r# (@/\\/+u<SPLIT>shitty nigger fuck i love d3$1r# (@/\\/+u shitty nigger fuck i love d3$1r# (@/\\/+u shitty nigger fuck i love d3$1r# (@/\\/+u shitty nigger fuck i love d3$1r# (@/\\/+u shitty nigger fuck i love d3$1r# (@/\\/+u shitty nigger fuck i love d3$1r# (@/\\/+u<SPLIT>shitty nigger fuck i love d3$1r# (@/\\/+u shitty nigger fuck i love d3$1r# (@/\\/+u shitty nigger fuck i love d3$1r# (@/\\/+u shitty nigger fuck i love d3$1r# (@/\\/+u shitty nigger fuck i love d3$1r# (@/\\/+u shitty nigger fuck i love d3$1r# (@/\\/+u<SPLIT>shitty nigger fuck i love d3$1r# (@/\\/+u shitty nigger fuck i love d3$1r# (@/\\/+u shitty nigger fuck i love d3$1r# (@/\\/+u shitty nigger fuck i love d3$1r# (@/\\/+u shitty nigger fuck i love d3$1r# (@/\\/+u shitty nigger fuck i love d3$1r# (@/\\/+u<SPLIT>shitty nigger fuck i love d3$1r# (@/\\/+u shitty nigger fuck i love d3$1r# (@/\\/+u shitty nigger fuck i love d3$1r# (@/\\/+u shitty nigger fuck i love d3$1r# (@/\\/+u shitty nigger fuck i love d3$1r# (@/\\/+u shitty nigger fuck i love d3$1r# (@/\\/+u<SPLIT>shitty nigger fuck i love d3$1r# (@/\\/+u shitty nigger fuck i love d3$1r# (@/\\/+u shitty nigger fuck i love d3$1r# (@/\\/+u shitty nigger fuck i love d3$1r# (@/\\/+u shitty nigger fuck i love d3$1r# (@/\\/+u shitty nigger fuck i love d3$1r# (@/\\/+u<SPLIT>shitty nigger fuck i love d3$1r# (@/\\/+u shitty nigger fuck i love d3$1r# (@/\\/+u shitty nigger fuck i love d3$1r# (@/\\/+u shitty nigger fuck i love d3$1r# (@/\\/+u shitty nigger fuck i love d3$1r# (@/\\/+u shitty nigger fuck i love d3$1r# (@/\\/+u</td>\n",
              "      <td><font color = green>naughty</font> nigger fuck i love d3$1r# (@/\\/+u shitty nigger <font color = green>fucked</font> i <font color = green>lover</font> d3$1r# (@/\\/+<font color = green>ni</font> <font color = green>naughty</font> <font color = green>nigga</font> <font color = green>fucked</font> i love d3$1r# (@/\\/+<font color = green>ni</font> <font color = green>naughty</font> nigger <font color = green>fucked</font> i love d3$1r# (@/\\/+<font color = green>ni</font> <font color = green>naughty</font> nigger <font color = green>fucked</font> i love d3$1r# (@/\\/+u shitty nigger <font color = green>kiss</font> i <font color = green>lover</font> d3$1r# (@/\\/+u<SPLIT>shitty nigger fuck i love d3$1r# (@/\\/+u shitty nigger fuck i love d3$1r# (@/\\/+u shitty nigger fuck i love d3$1r# (@/\\/+u shitty nigger fuck i love d3$1r# (@/\\/+u shitty nigger fuck i love d3$1r# (@/\\/+u shitty nigger fuck i love d3$1r# (@/\\/+u<SPLIT>shitty nigger fuck i love d3$1r# (@/\\/+u shitty nigger fuck i love d3$1r# (@/\\/+u shitty nigger fuck i love d3$1r# (@/\\/+u shitty nigger fuck i love d3$1r# (@/\\/+u shitty nigger fuck i love d3$1r# (@/\\/+u shitty nigger fuck i love d3$1r# (@/\\/+u<SPLIT>shitty nigger fuck i love d3$1r# (@/\\/+u shitty nigger fuck i love d3$1r# (@/\\/+u shitty nigger fuck i love d3$1r# (@/\\/+u shitty nigger fuck i love d3$1r# (@/\\/+u shitty nigger fuck i love d3$1r# (@/\\/+u shitty nigger fuck i love d3$1r# (@/\\/+u<SPLIT>shitty nigger fuck i love d3$1r# (@/\\/+u shitty nigger fuck i love d3$1r# (@/\\/+u shitty nigger fuck i love d3$1r# (@/\\/+u shitty nigger fuck i love d3$1r# (@/\\/+u shitty nigger fuck i love d3$1r# (@/\\/+u shitty nigger fuck i love d3$1r# (@/\\/+u<SPLIT>shitty nigger fuck i love d3$1r# (@/\\/+u shitty nigger fuck i love d3$1r# (@/\\/+u shitty nigger fuck i love d3$1r# (@/\\/+u shitty nigger fuck i love d3$1r# (@/\\/+u shitty nigger fuck i love d3$1r# (@/\\/+u shitty nigger fuck i love d3$1r# (@/\\/+u<SPLIT>shitty nigger fuck i love d3$1r# (@/\\/+u shitty nigger fuck i love d3$1r# (@/\\/+u shitty nigger fuck i love d3$1r# (@/\\/+u shitty nigger fuck i love d3$1r# (@/\\/+u shitty nigger fuck i love d3$1r# (@/\\/+u shitty nigger fuck i love d3$1r# (@/\\/+u</td>\n",
              "    </tr>\n",
              "  </tbody>\n",
              "</table>"
            ]
          },
          "metadata": {}
        }
      ]
    },
    {
      "cell_type": "markdown",
      "source": [
        "# Text Fooler FROM SCRATCH"
      ],
      "metadata": {
        "id": "lL_F0-0pU1Nu"
      }
    },
    {
      "cell_type": "markdown",
      "source": [
        "## Information"
      ],
      "metadata": {
        "id": "d5X9Ry4KvKuW"
      }
    },
    {
      "cell_type": "markdown",
      "source": [
        "The TextFooler attack is a type of adversarial attack designed specifically for NLP tasks. It is a word-level attack that aims to generate small perturbations to the input text that can cause a well-performing model to misclassify the input.\n",
        "\n",
        "The TextFooler attack works by first identifying the most important words in the input text using a semantic relevance score based on word embeddings. It then replaces these important words with synonyms that have similar meanings but are less likely to be classified correctly by the target model. The attack iteratively selects the important words and substitutes them with their synonyms until the model's prediction changes."
      ],
      "metadata": {
        "id": "2TxohMdx24RR"
      }
    },
    {
      "cell_type": "markdown",
      "source": [
        "The TextFooler attack is a type of iterative gradient-based attack, similar to the PGD (Projected Gradient Descent) attack. However, unlike PGD, the TextFooler attack operates at the word level, and generates perturbations by replacing important words with their synonyms, rather than modifying the word embeddings directly.\n",
        "\n",
        " Idea I got from this article: https://arxiv.org/pdf/1907.11932.pdf"
      ],
      "metadata": {
        "id": "fzaT9OP2tjh7"
      }
    },
    {
      "cell_type": "markdown",
      "source": [
        "### Problem formulation"
      ],
      "metadata": {
        "id": "xOg809SOtvEr"
      }
    },
    {
      "cell_type": "markdown",
      "source": [
        "Given a corpus of N sentences X = {X1, X2, . . . , XN },\n",
        "and a corresponding set of N labels Y = {Y1, Y2, . . . , YN },\n",
        "we have a pre-trained model F : X → Y, which maps the\n",
        "input text space X to the label space Y.\n",
        "For a sentence X_i ∈ X , a valid adversarial example X_adv\n",
        "should conform to the following requirements:\n",
        "\n",
        "F(X_adv) != F(X), and Sim(X_adv, X) ≥ eps, Where Sim() is similarity function "
      ],
      "metadata": {
        "id": "n1ev8bHLtyBJ"
      }
    },
    {
      "cell_type": "markdown",
      "source": [
        "### Algorithm of adversarial attack"
      ],
      "metadata": {
        "id": "zD_61rpevDEQ"
      }
    },
    {
      "cell_type": "markdown",
      "source": [
        "![image.png](data:image/png;base64,iVBORw0KGgoAAAANSUhEUgAAAacAAALCCAYAAAB6PhzsAAAgAElEQVR4nOydd1wUx/vHP3dHR7oKiooVS6yxdyXYo8YSjb33Eo3RqFEx1mjsNfZo1NgjxhrsvRsLCiqCKF2K9Dtu9/P740DKdbAkv+99Xi9fCXu7M/M8+8zM7szsvCUkCZNMMskkk0z6F0n6qQtgkkkmmWSSSXll6pxMMsloJePFue1Y/stqHH6U8qkL878nMQZXf1uIhWsP4Va4/FOXxqQPJIlqWE8O/z/X42SQEtljfBKYlWmNkd2qweoTFjB/SsfLq0dx+n4cbCo0hncTJ7x8mIFadT0g+9RF+19TeiQenD+FhzZt0auZaz6ehkTEX9mKladeAVKAygxIPuuF6b2qwUJ4iaPLNuJ6shnMQMgqf40fvqkGiw9gRnZx4nBighemxE7E3g0DUKXQh8zMJO0SEXtjGfr390XDnacxo65lPtNRIMb/LI49tEfnHo3gZHpcz7+Et3h++TiuKBqib6vSBW9rmSV5FK/OqE9LCQiJLZvNu824DH5cCWE8/POvvCkvWBqHRtVk5XYzud33MH9fPIzNPOzp1G0Xk99bQU0ySPIXPPvrCNYpZM7aPz1kQcJJ+Xo7uxaV0eHLTQwXso8nnxzFul4/cO/dSKYXuMAGKP0Yh5SowPHnCxKkJr0fpfHPfm6sNetePmNLYNzdHRxe25YWTX5hkPI9F+9/Sgl8sH8qvVzNWWHCRb6P2pH9nGBRFLXqVoKDBIDUCZXqVIWTWUG7PmMkx6NV/TFs9S3EFGCJhvLxZsz/Dfh6wSz079QZfSdvxKk/p6BGSgSihIKWUYnArWvgG1/QdP5HZFEGLYcMRevSBX9flbn3xHd9yyP16nH8HS0CAITQI1h5tRG2/fUzetRyRX6fnY0SRYi0hI31x8jMJH0yM5NBqVAYdY0ycCvW+MYDkMKpVg/0apSfN3qTcssB1boMQeuy729sKs89kWT/X+YvKVEhCA4ORnBIKGJSASHhBW5euIKAGGXmmSmICglGcHAwQkJjkKqIxqMLZ3DlSTSyRoOFpEiEBAcjODgE4QkKiMlRmX8HIyQyCQLkePr7EHSZehaxyhS8CQlBVLKqAYIyCg+v3MJLA4f2xbdvkaQMwaVzz5AVsla1xuA7LwvE5+n0xPRkpCjzpiBAoVD1YsrUFGSPaIuIvzgTfScfRUSGWq5IT06BWlJa08opJVLearoWgJiOZPUC5v88tevkeBubgHRR7QcoFJnpyZORlPMEIRUpahfktDMVuZsKGaQyCdSlzWfaZIkGo4ajYfoJrN/6BIrIk1iyJQldpvfFZzYGJ/KeJIFpuva/KTH+Imb2nYyj7yqxBLmiU5mCZLlahYBR8apMwVtt9VFIRZLG30QolQIAJVJTFDqOZf6ise0CRHkq0tUewnXVz+xzUpM02ycoFBBUFyNFyxSfIiUZCgISTVU9n9JTwwRE316BXjXKoWy52hjqMxVdW7dGW++mqPZZe6z0VwJCNO6s6o2a5cuiXK2eGD12FH6cMwbtq5ZGtZ6b8CgdkIf+jemtPVG2rCe+XP4EijcPsWNME1QoWxYVe21BWOo9/O17H1EZBJPvY98vi/HH3VQAqfAb3wC1mzZArR4b8VJTzOSRRY0v0bZMCs7/0AodfY4hOB0AHNFx8jjUznwTFMLPYPWsGZg9dxr6NaiEpuMP4aWQisC/5qJP3bJoOnkzlo/ohKbVS6BIxcHY90oEku/h4MajeJL0HEcXTsf8gwEABISfWY1ZM2Zj7rR+aFCpKcYfegkBetICALzFva1TMW7KImzYMAFeVb0x/VgERFUBcWb1LMyYPRfT+jVApabjceilhtc+LeeJkdexaXh9uDmVwJeLbyPsyRb0qtEQQ1eeQ6gAQIzDpcUD0H/aFhw5tBg9GnbE0lupABQIPr0Uw5pXQM2Rv2L7zEHo7P05PIrXx49n/HF0/jB0b9cI5YtVwdAD4RDFONz5fTp6NqiAVlN/xfROn6N8cUe4lO2A+Rdjofl2afOZfsnKD8CYTva4u+FbjF7xGq2n9EHlj/K6ZIDkgTi6cTXmjp+AzQ8za7AYiZOL5uJgiAAIodg3ph2G7QwtSCYIPLoRq+eOx4TNDzMfdkREnlyEuQdDIEBA6L4xaDdsJ0INqCsfTR/FN4YoGfcObsTRJ0l4fnQhps8/iICs1liMx8UFfdC6aS2UKlwRvXe8yIxJI+L17T1snToOUxZtwIYJXqjqPR3HIlQ3Qoy5iCVDB2HSkk1YP68fWjTsinmnIyGKMbiz+ycMbF4ZXtM2wadVWRR29caUlT65j7m1x5oQUUvbBUAIxcGpwzHzN18cXDMW7bouwyOFAfVTjMHFJUMxaNISbFo/D/1aNETXeacRKQKpgX9hbp+6KNt0MjYvH4FOTaujRJGKGLzv1bu6neK/Hd8OHIvFGzdh0dT5OPo+Ay/nGF+a70AWlYKQleCIvzNH8OWXONHTjJDYsPG8+0wWYrmtUyFKYM4aM1VjvfKrk1nJDJRYNeOSZ0oy4wFnf25OSOzovSaYZAp3dLYkYM5as/5hBgWGrmhBC4AWLZbzpUCmnx5FDxkoLT6Ex95NHiTzyKDilEFCuy9WGTwmnPxgCwdWc6RUImUhz8786VhI9hio8hlXdejIpc9ViaVfnsSK5sU44M8EMuMuZ9SwYGHvxbydQDLpOIeWtGKjRc+oJJl2dDCLWbXm+qispFaxQ8elVCWVzsuTKtK82AD+mUA9aQkM29mTtfruZbRAkgn0HehOm5YrGCIo+WxVB3Zc+pyqZC9zUkVzFhvwJxNyWannvLS7nNvAnu69/uD9/d9y6LqAd+PyyhdL2dSmMqdck5NMo+8AV7oPOcY0khTCueYLS9o0mMlrsQIpRHFLR3taew7knuAMkum8NNGTti1XMEQgmXaSw0uYs1jnNbwfr6SQcJWzGzvQvOJ3vJiS5Qfrd3NOOn1mgNL8RtHDzJEdt4RT0H+6SrEn+VPPzuzUqZPOf5079+KCc4m604rfya6FG/HnwJzBmMF/fl3AvaFpvPBtRdaYdpMZJIXIDWzr2JzLggVSiOaxEZVYfvRpQ0utpox/fuWCvaFMu/AtK9aYxpuqTLihrSObLwumQIHRx0awUvnRPP1RJuAM0Yf0jZznx1Vg2VGnDZ9vTDvKwcWs2DqrElPO8+PK0rzkV1z/TxLJZJ4eXZaWtWfzQYYR8SqEcWfPWuy7N1oVlwm+HOhuw5YrQigIodzWpSQb//xYVVeZwWcrvejg5M3VgUoyzY8jS5nTtfVi3ogM4cWDZxj0VsOxVO1tV8a9maxd14f3M0gygUcWrVDN3eusnwJDt3VhycY/83FmOGc8W0kvByd6rw4kmcG7M2rQorA3F6saMR4fWpJWjRbxmZIUYn05pGJjLvDPbFnSznF8eYv3Nudk+KySxAplqnjCVgq4uNhCgjQkxidAgOpVTgIAVsVRqrgMMKuAWtWdIL0bg+unLwFjumlIz5D3P1t0XH0RZ7u8gHPjL2DocKZttcHYdqsV+q2Zignz9mD2V7dxa8VJHBhdFWaBe7DzdjQqbZyBaVIAQgKqNKkERoZBKbGDna0UTlUboJoDAKEcypcALkRGQkD5PLkICNyzE7ejK2HjjGlQJVUFTSoRkWFKoKKOtARg53o/lBm9GUWkAOCAThv8EZZhB0cGYN7O24iutBEzVAVEQpUmqMRIhCkBh6w7JgRij67zrGrh+9UT4dtyFDor5sNvb0VkXSrzGISNZ1vDpY4ZEgJO4laoHHH2saqnQak97GwlsChaHTWdpQAcULqUM5hQDfVLmQGQokRJN4jHQvFaCXhIHeBgJ0OJOi3xmaMMUjTEd5M6YX3P4/jr/kI0rWuEzxz0hGPybWw/64gv6mRg1/rN8O8/E9UMiWDnNpi1p40BJ+qQmI6Yp1exf+E6RH7zPXqXzxGMwksEu7REJ9d7mOmXitqLKsMMQMrVS7hfoiF+KiEFpEXQekQvtLlQBoACUY+v49LJP7Azoh12/dIJtnoLIOBlsAtadnLFvZl+SK29CJVVmeDS/RJo+FMJSCFFkdYj0KvNBZQxA1Kf/IVtJ4KQoYxCUGQxfD1lLJq5feThSKN9Y4ws0HjMj2gycD4mbbfGpM51UMYxf2s1ZR6N0bpqIQAiKlcuDYlvOMIFATID41V4sRPr/cpg9OYiquEoh07Y4B+GDDtHIHQ5tp2yRJ0J5TJXsJmhfJ/+aDFzGH7b8wRjpzvC2V6G4g3a4HNXD5h19QCUt9WOCY/naW27xFrF4PJ0KvoOLoz1v4xCu9FDoLQAoNBRP++NQLFtp2BZZwLKZYazWfk+6N9iJob9tgcY+yPs7GwhdaqKBqpGDOVUjRgiBRG2+9fjoFVLnPXM9IN5CbgXfX/xla8lD/q7FQkK2dpAAkKR+DY/WWTLthyadSxn8OkKuQIWlhaAZUl4TdqFa62boV+HcTg8bTJ+63gMA4JDEGZeDbPnLES7vENCwvM8B6SqPlTjJhoZCA4Jg3m12ZizsJ36ZLzae3+OtDKe4mmIFNZWOW6khQMcLQCkByMkzBzVZs/BQrUC5sxe/3lWn4/AsKbLMPbePQQkiCjvkpmf1AGuZr5YMe0QSnh1Rc2yttC1CkWa50FCKpECygyt4+82lSqilPQiUlLzpqnHZ7qU+hDbF59F6fFz8fXnoTjeewvWnJ6IDW0/zlpuMf4Rzhz5C2cjXNGyWy0Uy1kHZeXwVfdykJ8bh8Np7bHGqxAABe5dugWz+r1QPbOWKaNtUK5BCQAiFBk2+MzTDM8uvIHaFKZGyVDuq+4oJz+HcYfT0H6NFwoBUNy7hFtm9dErOxPYlGuAEnyEZXPPoMbaFWjnJCJkbTs0H1kI1w4NRvGP2T8Z7RvjZOZeE81r7cf+00fh6+iAYZ0/M6Cj1y2pVAJAhGhEvGY8fYoQqTVyV2lHWABQvH6FSKUAQcxRH+zKo5wbcC8yEoAjAECi4YE957EMXW0XPLFh61P0HvUdWp7YgUFLtmLZgKoay/qufia9xqtIJQRBzPEJkR3Kqwqm2TeqRgxEBgIeBiLdujlsNHYIIiI3dEKVSecz57gs0GLpYxwZ4WbwbO0HClMiKSkFhBQOJUoWKCUx/gF8t+/BlTBDpiLTcdLnBxyKzT5iW20YVk9uAvPU53gSrITUrhCsY67j0v2cM3sKPL/zAPEGD5eKAKSwK2SNmOuXkDup57jzIF7LfEumpA5wsE3E9bPXkXOdR0rQc4TRDoWsY3D90n3kTvYOHuQsoFTfeSJiji/DrSbz0Q87MXH6ScRlrTHxX4avOmyH46gfMaxtBS3BlX8xOQVpFuVR2dM8zy/59Jk8EH8sPorCIyahjZsMzp3GYYBnOPat3YtwQ+5Z3GksHNQHvXv31v2vzxAsuZisMQmpSx18M2U59q5rjEvDRmNrWN6MlXjgdwFpzdqjqQ0AMRw378Tg86YNMr8TTMGFuyJq17IAYIWSNeqgnL3xK5uUD/xwIa0Z2qsyQfjNO4j5vCkaZH6MmHLhLsTatWAhsUPlGmVhqVTFqlu5UpC8fomYTzIXZYxvRMTe3I/1m//Ck6RwXDvwGzau245LEZoKroT/ihGYGdUT27YvwAQjOyb9rjA8XqUODrBNvI6z13PVaAQ9DwPcS8BNEo5H/0TkuEaAUjBHqXJlDS6vrrYrNioM0tbLcenBBazqLGLf8O7wuax56cO7+lnJAyXcJAh/9A9yuldQCjAvpe+FQAIra0sIoc/wLF1jaeE2whcxCQlISEhAQkIMfI3omFQp5JSgVD0NU4Ty3eMc3704ZP83z4EsycPw8rUApN/F5dvxEGXF0bF7CwBSODg5QAoiKTERIhLxIjgaBMCMDGQQkJiZQQaAKfGIT3iEvbuvAkjC4fGt0HVgb7TuvRJP9c6am6GM9XXMmnYEke+cLSIuLhFwroNGn1nAolYrNC8SgJXDJ+FAYAIEMQmPd/tg8xM72EsFiCJyPEUIEIRsMyVWlrBAEt4mEkKyArVaNUeRgJUYPukAAhMEiEmPsdtnM57Y2UMKHWlZ1ELHth4I3TYe47bdQbRcidibazFzTwhsrWuhVfMiCFg5HJMOBCJBEJH0eDd8Nj+BnX3OxzLd54lRvpizvzgmTBmDn5f1hnLHBPx4Kg4iRMRd8sONFCvYWEoARTiCQhNBhRzpmf7KesDLcqFIAqIAIc/9z3n7FQpFpq1KBP59DskdhuFrd9VwI0VmXmOhx2calHATKyZuhmzgZHRwz2zMLepg5KjmEPzWYeNDAx5anL0wac2vWL9+ve5/v67C+Ca638RkJTxRzvw1QtR6RRGpKXI4u7mqhiPSAxDw0gHuJVTNpRh+FLcd2qCR3tdFAaG+Phjx40EEa4h3MTUFcmc3uKoyQUDASzi4l1A1ymI4jt52QJtGloDMA51/GA+vIlJAeIk9W+6h3riBqPpuWDgUvj4j8OPBYA2ZhOHEggmY7Zv1m4iwEwswYbbvuzKJYSewYMJs+GYd0JWeMb5R3MDem87wfDwTfSecgrlXf/T3uIIZS69qWGWmRHDwa7h4VkThnMGjCMT+n6Zg0bEQ9bd7iRUsLYCkt4mgkIzkVEIUCYjiu3gXBBEQCZGGx6tFrY5o6xGKbePHYdudaMiVsbi5dib2hNjCwqM7BrSxw409u/Eks0BC0FXcyWiH4d+URlYbKzLnDVc/pqvtsnn6OzYcj4PMtSFGbtiO72rE4nWOZcUa62epMug+oA3sbuzB7uyC4eqdDLQb/o3qz9yNGITsRgzV27SAe8xhrNr8WNV2ZEQjJl5Eelp65iUyyMzMYGZmBjMzmfEf5aqmntL5cO8sDqhXmFKAkMjo2ngof9p7l3d29OVn1hJCYsYyXTbw9j/b2aO8OSWQ0LraQO4JyKD82mRWNgMl1jXYoXcnetd2p5V5MXr5nMuc8CcTz09nbQcpJZZF6dmgI4d8VY1WtkVZpmYn/nA4iIw7xjGVrCmRyGhXtjNX3EsjmcZzEzxpIZGxaJftfG3ADHjizm/oWaMFOwyYzAUr13DJlC78vGpbzjoRljmBLjDy9Cx6u1tSIrGgbZGK7DD7NKMEOYNP+9C7iIx2DSZy//1wPj8xjc2dZLSt+y0PPU6i8OYgB5S0olvdnvx+8w1SiOTpWd50t5RQYmHLIhU7cPbpKArUnxbjr3NFN08WkkkoNXditd7reDtJZYMQeZqzvN1pKZHQwrYIK3aYzdNR6sZrOy896Bh/bFmGXgvvM4Gk/MVO9vKQUVasFWceC2KK/0q2KmJGS7fq9O4ziysn1KO1XQW29znCG2eWs1tpM5pXHcKt118z4u4ujq5tTZmLF2f4PmJ44AnOaVeMMtt6nLD3HqPSrnFyZXO6NujJUVMX8pdZg9llwApejxNI5Wte3TaW9exkdGo2hX/citDhszy2RZzmion96V3RmYU8O3PNzZR3vykDD/DHLtXpbFOIJZsN5rS1Zxlp8OqIAirtLw5yr8apN9Q/+0z/ZyW7ePXj4t0HuGXRYq6c1YUt+q/kn76/8Zc523gzKff58gvfskqnLYzPfZRXp9ego2MzLnyo4dPS9H+4sosX+y3ezQNbFnHxylns0qI/V/7py99+mcNteTNRhvLIrBH88cCz3IsG5Fc5vYYjHZstVM9Dfp0+9Uuwxg/n35Xpuk99lqjxA89nrZO67sP6JWrwh3cHdKRnjG+EOL6JfclVrRvS534GSSWfL/mC3kuDqL4eKo1/DXJntak3cn2EK7xcx9Z2EkrdBvGvtDyXCG94cEBJWrnVZc/vN9Lv0k6OqGVFmUtLTj/ymFGBx+nTypUyi884ZOcDxmcYFq8kGX99Bbt5FqJMIqW5UzX2Xneb78yK9OPsDjXZqO88bti8nN8PHs21N+IoCFG8sX0M69nLaFd3DLece85kTcdUqWhpu0j5hcmsV6cvF+39m35/zGLfAat4L42kXEf9VBWMfrM7sGajvpy3YTOXfz+Yo9feYJxAyoNP08e7CGV2DThx/32GPz/Bac2dKLOty28PPWaSEM0L89uzdCFnejZtzx7DvmP36i6s4D2a665o9pExgv5T9Otd5+T4DfelpDEy4BFfxKtXLPmbZ7x3L5DR6WRGXBTf5F3SkRbFwIdPGJ5zKwchnsEPAxlt4PIPISGCEckkmcH4kPu8/SiUiZo+HxdSGBUczKgU41yoTAzn6zwFF1KiGBwcRSOTIknKY1/y5RtNa40EpkQFMzgqRc9NNvS83FImhfNlVGaDr0xgWEh0/nZYkF/j5MpWrDv3EROjQvhaw33XpIL47JNKR+dEkpTHMvjJi3exLX8TRP9nkRrt1Nw5ZWZzfA1/faTNl3LGBj/hi+xMGOT/jJF5M0l7wgM/L+L+JykkE3ns123MtciQaTy+5letphovPekZ6pv4XexZ5ztekpNUPuHClt5cGhDEc2cD1PLT1DmRpDz+CddMmqta0ZhXykSGv35j1Ioyw+NVztiXL6mxSlPVfoREJBes4dbUdikzmEElkyOC+Cw0PtsfhtZPZSLDQyKYnI+CCWlRfPE8gslCBpMS8z4N5F/vbQ8IAoCghAAruFb8TOM5Fi7lUdMl8w/LonDJe4JVUXhWLZr7mNQRpas6GlwOqYMb3AAAZnD0qI7aWk+0QdHSpQ1ON0syu2JwV0uqKPKRFADAwrkUSmn8RQqboqWhP1lDz8stWaFiKJU1giVzQHEPIxPII0ICm6IesDPw/IL47NNKAgkIapuxsHBG6UrO2X+6lEUVtUBPxyPfbfA7cx+JIdFYu8YCzbv1RpN3qyyScTVIhlpfaKueFnAuXQnvcrFwQdm8mQhPsblXK0w4kwrLxYswgkpYdtiK5yNynJN8FUGyWoYYbZj0pWeQbwDFg9t4XaMFalkAUMQiycoV5sf3I9xrgtq5GYoMqC/lSYL/Xwch6Tjq3beNuSSzQ7G8lViPDI9XCziX0lyjVVkXg4ehlUR7YdTbLpkZzACYuZVVW1cMGFA/ZXYols+CSa2KokzWFJXd+9tWqOApKUNx+dgtRIoAU2/j0LbLaDioCTw++lf7Jn0SJb1CWLyAmJBgJKIKnD51eT60zCuhZuV4HLkeAmU9z3xWICtU7TwKVTuPwkQNv6bePoCAil0wsiA72Mo8MfTPVxiq9YRU3D4QgIpdRhYgkw+TnkXjeThV30Y1j2bRGPOP1ESKYAvbvPN1Kfdx87E5KnconWe+0hoVu/2AWjYfdf+1f6f+w/Uzc1fyAkiIQ/CT10jKepCUWKFoBU+4/fe2MjfJWImRuHn4bzxJFEGJFJZuddC+TRU4fOpyfWAJkZexedV+BJqXQuPuI9GtWkEXL5tklMRY3NjzG45eewFpg2GY2KsmHE27SanrP14/C945mWSSSSaZZNJ7lul5wySTTDLJpH+dPsmgrDLoKNafNEenkW3g8T9I/xPePsfl41egaNgXrd4DTsJQKWL8cfbYQ9h37oFGBlHV0hH54DxOPbRB217N4KrzknRE/uOHo8+Lo2/32sYBKvUCCdPxz+5fcChQqdpCRpSgbIcJGNQga6GMiKgza7HqTDTMzCWQVugKn741jSnB/6AEvH1+GcevKNCwbyvoDkMj4kCMx/Ud63AqRNNCBQCQwKyUN0YNbAwX06OxHikRdHQ9Tpp3wsg2+QOl5m1r0yMf4Pyph7Bp2wvNdFdobQni6PqTMO80Em0+dOP93tb9GSyB4du60K34N9z95uPn/smV8ID7p3rR1bwCJ1z8eMA6Ie4udwyvTVuLJvzFoB105Xxx9leOqFOI5rV/oqZPbnKkzrCLa9insjkt221inDEFMxhIKDDyj2/oJrNn5980BE7SMY5p2Z1L/n5GA1ez/08r4cF+TvVypXmFCdQdhsbEQZbSeH1qNVoU68P9b7LWJguUJ77mjQ096dlqNcP+a58QfAoJ4dzWxY3Fv9nN/DWVudta+Yuz/HVEHRYyr82fDLuRGoq0jV3civObj9B4f4LOySTls5/Z0EpP55QRwC2rDxvX0OtJI/3cOJa1MrRzIskM3ppelVYGNUppPNy/MK2M7ZxIMuMWp1e10k/LTTvLsWXN6fjVb7k/ulW+5CGfWdwblI8K9z78nC9lMGDLah7++BlnSslnPzekld7OiTQuDkgKEdzQ1pb2X21nbN7f0o5xypTDfH9fwxirT+33T6uMW9NZ1Sr/nZPGNAO2cPUHcOine7EWlVDm/FREUEDFw1IiVQvRSpQnI9kY6KUoR7KWC0SlEgJUEMDcZ2iHbumWIWBBBVKSFWBewJla4eJxcWZfTD4akWtTUO1lNiyN3PtKKpGSLNe7v5hMKtNQVhHyt7FIUIMOZp+pTE5CqsbENUHbtAEJ88iqKQZ8UwkpfjuwNzRrH51YnF++AbFdf0CPskaOUmvxs3b7tN8D3bGZ12Zd4Mq8lyqQzX1MQm7uY4oGUCSgN4YVKUjWQYbTBLLTHAdalHYVl24rUaNJ08yVYSJiXoUhVZUSSniUNmo+QTNAT5WucZDPfABDDWiXdMEFtUEBNZ6rxU5RqcxVT0WFIrOcciQnpefary81JV29Tudsa2VSaKpqovwtYhO0XKsKeGTzDkUoMxNUhze+P330zkl4dRHrJ3dF3XJtsfyFAKQG4q+5fVC3bFNM3rwcIzo1RfUSRVBx8D684/IpArBr/AB8u3wjfhnYCNUbfoneg4dj8o5HWnJRIGDXeAz4djk2/jIQjao3xJe9B2P45N8Qc2c3fhrYHJW9pmGTTyuULeyG9mtCdEC3RCT478f4RkVRtPNGRIoCQi9vxtgmbijSdjVCREPAginw3/4tBo5djI2bFmHq/KM6YXDJ9w5i49EnSHp+FAunz8XWg7+rlbnd4r+xf3wjFC3aGRsjRQihl7F5bBO4FWmL1SFinjTm42A2VQ3xFxegT+umqFWqMCr23oEXBuPrRcRdWowB/adhy5FDWNyjIViTNFMAACAASURBVDouvZXZ6GQq/THW96qD0sVc4FT0cwzc+ihzc9v8QwazZYZa/fuirnAZO3cGQIlU3N+6DHfrTsLg6sZ/WKfuI4UW+0TtcaMzNrXYrBFcmUeKYJxeOgzNK9TEyF+3Y+agzvD+3APF6/+IM/5HMX9Yd7RrVB7FqgzFgax9/nSA4wAAKf7Y/u1AjF28EZsWTcX8o6G5GiOtIDsjpbh7EdeTyqFRE3fVPIn8NjZvvqTqJKzaYNzoGoZ1TpoAekpo96s+yKcxwFBD2iUdcEGjfKnRTgGvLq7H5K51Ua7tcrwQAEXwaSwd1hwVao7Er9tnYlBnb3zuURz1fzwD/6PzMax7OzQqXwxVhh5AuKihrdUgMe4SFg/oj2lbjuDQ4h5o2HEpbqUCYswd7P5pIJpX9sK0TT5oVbYw3NrNxcX1k9G1bjm0Xf4CggZ44937uzC0ThE4leuKny+8hBxAatARjG9SD8M07ruoQ+/9XcwAJf3Zn66WjbjoWSZ66+4M1rAoTO/Ft6ni8g1lSaus35UMWu3Nwl9kjlOn+HFUaSvWnfOQ6VrGrZVBq+ld+AuuVl1Av1GlaVV3Dh+mCyTT6DeyFM1dW3PxjUiGXDzIM0FpeqBb6Twx1J1WXqsZLpBkOs+NLUOrJr+oAIh6wIKxvkNYsfECZjO5xrO8ha5hvTQeHVyMVq3XMyrzb/Uyy5l+Yijdrby4WlUopp8byzLvhu3ypkHKz49jWfOS/Gr9P0wimXx6NMta1ubsB9pe8VWwMeus4RzlCy5tasPKU65RTjLNdwBd3YfwWJqqjIf7F6F5mT7c9TyNTHvB/UMq0sLqc866nWEAmNFa/7AeSQqhXN/GjuaVvuO+3bP405+hGvZcM1R5fKTHPvV7kKozNnXZnBdcqdHU8DX8wtKGDWZeo4r7uIUd7a3pOXAPVdzHS5zoaasC2lEPOE6Ipe+Qimy8wD/Tx2k8N748LbKG9XRBOPPGgU4p+XheXZpbVGG3H2bwx6kTOfiLSmy7IsToLXu0AfTyD/k0Dhiqs13SBRfU6UvD7SST+Gd/V1pmwv1IgeFrvqClTQPOvBZLgQKjtnSkvbUnB+4JpiokJtLTtiVXhKi8rbGttc4a1lPyxdKmtKk8hSruqC8HuLpziCrgmeY3kqXMXdl68Q1GhlzkwTNBZNKf7O9q+c6f6vBGgRHbu9DFpgkXZ+2VlfgnR/ZZyxAjA+CTrNazcHGGfY5XS4mdHWylTqjaoBpUXL7yKIELiIwUgPLE0wdPkCxvCzkB2DRA09pWOB4RBUg180qUTx/gSbIcbVUXoEHT2rA6HoEoSFEVZnB0toeseAO0+dwVHmZd4SGGYPkgXdCtH/JArCS52Su6IIWiLfavPwirlmeRzeRyh3FMLg1lBiB/mvv9XCLRM1wIADIPNG5dFYUAiJUro7TEF+HhAgyi9sk8MGjjWbR2qQOzhACcvBUKeZw9YnM8lMkqtUC7clYAyqDrTxPQcu94HDv6CD1lOqBtnka4QloSX/fxxrTBe7Aj4W8c6FUyX6uYjLdP0z2Q46TW2KysG6xoiKn2drCVWKBo9ZpQcR9Lo5QzkVCtPlTcxxIo6SbiWOhrKEXigA5wnNjNFesPWqHl2axdLcxRwr3ou6ETQReE05gbJMbg0uXHsG63Fht/HgBHZTyuz46DXzN3o4dppE6aAHoFgHwaCQzV1S4J0A4XZIB2KKASDmpvjZrtBAALuDjb56jTUtjb2UJiURTVazpDFRKl4MwEVKtfCqqQKAk38RhCXysBDwu1tja3ZPAYtBFnW7ugjlkCAk7eQqg8DvaZFdrM0Rn2suJo0OZzuHqYoasHAEUYnLUnCEAKtx4T0W9+K2xefwXjljdD+qlTyGjlg5JGBsC/c38PqaqRVX0ebI5a3s3hstcX+wPHYUqleMQlF0WL3jWRlxaUJfNa3mjushe++wMxbkolxMclo2iL3qiZ84KcDbnSeOiWHgNygAUD8DAwHdbNbQwfs9cmQzofYySVQgJANJjxI4WDqxl8V0zDoRJe6FqzLGwRo2XJMCAtUhVViktwLDEOwW91QNuMmuATkZGaigyXVhg24DPjgIV6ZYB9ue6BrtjUDapLN3KEI6t8uaeJpFBxH5V6YzgjIBqB6dZorgXepRtkZ8QNypxvqj5VNd8kNbODc/W2aPuZ8U2N1GOYBoBe+fxDPtWk+x6ps0ez2yVdcMF0nb401E7ND97qF+dpE6QSSKFEhoG3TOrgCjPfFZh2qAS8utaEOndUYhi0PKesGmHcmEbYOm8VDk79DLJzMrSZZxzLCfhPfIQrhWuPDdg3wRF+v8zG4hV7gLHHsK6ri9bCS117YMO+CXD0+wWzF6/AHozFsXVdtX9XIXM3ErpFrQ2ymiRWsLYUEPrsGTQyufTJCDic1r0+3hdgTumPZV91wHbHUfhxWFtU0EspFCGINvD8zDP/YEY1peHa5buQ1MkG7L0XiciHfbpi01BQ3Xu6OXpiWGJlDUshFM80k+HeE4Qza76pPJo0LfUOSV6pxzeon499AsUYTQA95XuKpYIBQ3XBBWmkLzXbaczKr/xKCf9lX6HDdkeM+nEY2lYo2AN0tmkylO0/Hl9ZnMCa5Wtx0bo92uVjU79P0jlRECBAhJD1lCOIEHMTrSDk6ADiT8/FcsUE7N+yAFO+m4wxX5aHzunv+NOYu1yBCfu3YMGU7zB5zJcon+MCqihe2Q9ZMg890C0J7B0KgZGhCMkAkPoCDwLjISrkmSuBdIEFq6NNC3fEHF6FzY9VDUNGdAzixXSkpWvrTSSwUhHRkEgBycmp6mUGILF3QCFGIlRVKLx4EIh4UQG5XEsaoghCzH5TEgSIEEFRe1crUASpuhdi3CX43UiBlY0lJFAgPCgUiVRArqXXVQZewG3rvhjfrYReMGM2kFCPFHdw4XoSPmus/yNOReB+/DRlEY6FaHuMzO2jxFdndNqn6R5oj03doDpZLnClZvouxKxa8Q77qALQCULm8SwQKEE9MWxRvQ1auMfg8KrNUIVhBqJj4iGmpyGdukF29tLccaBdAoIuXsWrwg3QtLq+NyUFAvf/hCmLjkHb7VEGaALoSfIP+YSRwFAd7ZIuuKC1Hl8aZmcGAKrgfqLwLuZEdRIoCBFCNglUVeIsIKhaW0uIzIwbMQ6X/G4gxcoGKu5oEEITCUV2wIMQkZuBqPKnmJWgGrwx8zzHL/Hd8Cr4Z8UuWH7pBd0ITy0yboqq4Ep7cYGbhtaglcyFLacf5P2IIJ728WYRmR0bTNzP++HPeWJaczrJbFn320N8nKTki63dWdJSQomZJW0dnOlasiIb917Gq5pAOCSVL7aye0lLSiRmtLR1oLNrSVZs3JvLrsYy6sZ2jqlnT5ldXY7Zco7Ps9hROqBbJJl+bwm9ilrSxbMevXvN5qrx9VmsWjf6HH3CQH2QwugLnN++NAs5e7Jp+x4c9l13VnepQO/R63hFA0SQFPjm4ACWtHJj3Z6TuGzrOs1lTr/HJV5FaeniyXrevTh71XjWL1aN3XyOMkieM43vudHvEnePqJXp9yN8HBXI4z6t6Cqz4GdDdvJBfN5yKPn66jaOrWdHmVMzTvnjFiPk/lzZqgjNLN1Y3bsPZ62cwHrWdqzQ3ocnIxV8tmMwa3s2YD+fVVy7fDbHDP6Ov/unvPOvRmibJiCh5sjhvV0/ceqwlixt58haPadxwX5/nR/tvlzXmnYSKd0G/aX1nJw+2nzlmhb7ZnHP8W0a7oGe2NQBVlQDV6qZ+4LnlndjaTNzVh2ylddfR/DurtGsbS2ji9cM+j4KZ+CJOWxXTEbbehO4916UnhgWGH1hPtuXLkRnz6Zs32MYv+tenS4VvDl63RVGCdpAdhriQEPIKgP/5KIZ37JjZQcW8viCI2fM5vqzEdoXQQgvua61HSVSNw5SIwKqpBWgVwDIp8HAUHmwnnZJF1xQOxTQcDvT+OLCJg6tkQlCPHifYc/PcXm30jQzr8ohW6/zdcRd7hpdm9YyF3rN8OWj8ECemNOOxWS2rDdhL6/fPJerrb378DK3ja1HO5kTm035g7ci5PRf2YpFzCzpVt2bfWat5IR61rSr0J6z9hzn9jH1aC+zY90xW3jueTKZ9oIXNg1lDSsZXVpO58H7sXngjZt5I0c7IkRtZMc6U6kNfaZP/4GNX1Nwf/MCnHLvj24lkxAVl4iU5LeIuPMHLrmuwqbhbupX3N+MBafc0b9bSSRFxSExJRlvI+7gj0uu2LdpuO7shCREvE6BfUk32OZ5yhFTo/Aq1gLFSjoBKSmArS0MH60QkR79EmFiUZQpTKQoC8FO57CUgKSISChc3OGiKxMxFVGvYmFRrCSckIIU2MLWwsg0jJGQjIiwVDiUKgobCHgb/hoKFw8UyRpbF1IQ9TICcufSKOWo/vQspkYjNBooWqoobD74e7sCCQGbMO9APSyZUVfLOXl8pM++XDIsNrXZLCRFIFLhAvf3dnPeJaw1hiGmI/plGMSiZVCYKVAWssu91ZSYimhVYVH0Q98gRQICNs3DgXo/Y0ZdDW9aghJKmQTyyJeIyHBG6ZKOuSbJ8xtLmvye/7hUIC40EnQtBZe8MWKoL/XY+WElIDkiDKkOpVDUBhDehuO1wgUemgNeSxJJiIhUwMXdJVd7KL88HSOu9sWWKVXyt2gpf33ax1PGw7msX6ofD+VahSkw7sJyrjmTrOkCzq1fiv1yX0Ah7gKXrznzQctq0r9MiXe5Y95ann/zYfbKMTo2TcqlxLs7OG/teX6g22PSJ1EyQ58EMjIhgL/2H8Yd4fm/uf/6Nycx6i9826ofdsrroF2LKihinoa3yTKUaj0aU3pXVx/LFKPw17et0G+nHHXatUCVIuZIe5sMWanWGD2lN6rna/DTpP+klKlIhQ0+FHPO6Ng0KZeUqamAjc2/dMmwSfmR4D8XDWr54C5c0XrZWfw1tnK+7++/vnMCAChj8OjiJTyIBIpWqI4a1ctrGWZ5dwFiHl3EJdUFqF6jOsob85pqkkmGyujYNMmk/89KQoDfCTyxrY92jTyMoxPk0X+jczLJJJNMMul/Sv+B75xMMskkk0z6X5Opc/p/IRFxN4/hQpjmzR2T7xzDqeCP8VGfSSaZZNL70SfsnJIQcGILFvvMwMLt1xH1vnYx0Cslgo6uxtpTxu6IbbgUoaewwmc2Fi1ZhmVLFmHVoQf4Z+vP2BmSmWNqCG5cfoKE92Rz0rUl+PG4FaoW07xgs9BnHghZ+iMOvPpoTv7vSxmEo6vX4lR+tuVWJZAnztIR+eAktu+6mO9YVwYdxeq1p/K1U7hBUsTA/+Rv2HPV2F07jM3GHyd/24Orxmw98U76/Cjg7fML+GO7H0I+lJ8+hoS3eH7hD2z3C/lg7VSW0iP/wV+bD+BOvrawyan37Pv3snrQaMl5b2Fb9twQyoTrc9jEtTZ97n0kfGmB6ZJ6ko/+k0O9htP33Rd3SkYcn8jazvU4119JUmD4Wm9amdfkrPdhc+IZTur2I6+k6D5N+WwNe/bawBf538L7f0oFJn7mirP80GTVEvywBGkhjnd3DGdtWws2+SWoADu968vGWCJzTun3o+GE33+zEvhg/1R6uZqzwoSL/JBmCGEXuaZPZZpbtuOmAvIC37fvP03nlO7HkWXKc+y5dJKkUvkhW8yPSb4UGLmhPSsMO8H0XIejuatXO873z7Qz6TkvnXvI2AJ/36Gk/89t+fVWHV/iv1Ma/cY05hBfzdv2fyx9KGrmv19G0mQNTLNgsZ3n+vRzHFfW6oN2TqpsjCUy55Q+PxpD+P0XS/mMPze0+uCdE0mmHe7PwlYF75zet+8/zbBeagheRonvsBMymSHfDxtCmlUi5a1hxNG8dElVFqlI0oitNCRvlRRpaYi6dz1z/7JMSV3g3b4ZnLI+ny5UDk1aVFVhEAoixU38dsgWX3Y2ZMdfKzTpXA23tvsi2qjRFBHy1HTNQwtiOpI1+EtQKFTnK1OREx6qi5qpjRiqLa2cUqa81Uwb1VI+DSdqsTGb+Jn1tyIbS4uk3FhapGgh52ZDSI2hCmuh7r6jmhpB09UoDdfn2X5amZIMed5iaSSjQoev1X1rMJFZS33USuXVQ/j9JNLapohQqhyJ1JTc88GKlGQYbIY2vxtJUM4mNCQjSTPCWjfV9wP4/qN3Top7OzBz1gE8yYjHjS0zMW3GOhy7sreApNm3uLd1KsZNWYQNGybAq6o3ph+LgKhGvvRXo0sCgBhzEUuGDsKkJZuwfl4/tGjYFfNOR0LUR9ZUkxTF23bE508X4ssvhmDO5iO4FpQAJaQo2ncqRpWXAUlXsXZEN3zRtAdWPlACYiT8Fg9FF6+mGLL1Di5uX4XVq3/BlOFjsPZ6POJu/oFVK1dh6YyRGPHzmVzj7MqAU7hoXQ+NHAzzvVWjL1DtkR8upxl2vhB6EFOHz8RvvgexZmw7dF32SNXxC+E4s3oWZsyei2n9GqBS0/E49FJAauBfmNunLso2nYzNy0egU9PqKFGkIgbvewVRAzUzQKmdGKo7rcy7fm8rpo6bgkUbNmCCV1V4Tz+m2pFbS/kMtlF4lYf4qUDw6aUY1rwCao78FdtnDkJn78/hUbw+fjzjj6Pzh6F7u0YoX6wKhh4Ihwh1iqm6tFGFNVN3283dm5tqqhbbd+G/ayjqFHFCua4/48JLOYBUBB0Zjyb1huFgcJ5C6KDxivEXsaBPazStVQqFK/bGjheCZjJq+zU6fa01fjLt10Zk1l4ftUgP4Vej5KG4sG0RZs+cCZ/VfnilZ45ECNqJPlWc4VJrKPYGJiPs/Bx0KO0Et2YTceBRAkQxDreWfIXqHVbAX6HDBjEGd3b/hIHNK8Nr2ib4tCqLwm7tsSZERIr/dnw7cCwWb9yERVPn46guXLY2v+eHoAwASMfj9b1Qp3QxuDgVxecDt+JRSlZWOqi++fG9oSr4y5fxEl4uZwvrshx3Puvdr2Ck2bCdPVmr715Gq5CU9B3oTpuWKxgiaCKO5qFLCqHc1qUkG//8OHMoI4PPVnrRwcmbqwOVesma6spg8J+T6V3WjjIJCIk5nSp34fzzUdlDb0n72LNwFU6+lmV/Evf0cGGpxhO4I1B1LOGPr1mkghe/3fgPU0gy5SiHlKzIiZey35cTd3VjiV77qWe6KUfR/uGsOnXpc9+QcaUM3ptZm3V97qs2V004wkUrblJOJZ+t6sCOS5+r7E+/zEkVzVlswJ9MyCSmWhT25mKVs3h8aElaZfk6LzXTAPqqtrSEsJ3sWasv96puOhN8B9LdpiVXhCh0lM9QG6lO/BTCueYLS9o0mMlrKiwtt3S0p7XnQO5RYWl5aaInbTPjTp1iahxVWBP5OC/VVC22hQhu7+JCmyaLmQ0hHck+azVTaNWul5/nuLLmLPnVev6jQiVzdFlL1p79gBnUREZ9qjMWtPlWJ5FZX33M60d9hF9Ndj/axL51W3DsvgAavsmUko8XNKB1iaE8nkxmUXNtGizkk0xKbeTWUfzueJJ+G9L8OLKUOV1bL+aNyBBePHiGzyJ8OaRiYy7IxmVzfHkLLcN6uuqgsQRl1bBeEfMy7LPrOdOYxhf7h7CihRU/n3Vbdx3Nh++N0b9nKbkxpFlrFd0yJjISgvACO9f7oUy79iiiQlKi0wZ/hP01Dh4arctNlxRDD2DbKUvUaVjuHX+mfJ/+aCFcwG97nujOW6MhZij91WL4BUUi9N7f2LV8MjrYX8Psjt2x7HHmFWaWsLbIfY21jTnk5Vqgm6fqBys3N9hF26P21zVUCAYLNxRzikLoq6xnTxHx0XGwtHfIs6migJe+MzHsh314nreAUic42cUhMsqQpTRSOBVzwdPlfTF4zRVEFWqH0UOqwUIIxJ6dtxF9fyNmTJuGabN9kVClCSoxEmFKCezsbCF1qooGKmehnMpZiNSQZRZ99f7GGZg2bRpm++YkhupKS8CLnevhV6Yd2qtuOhw6bYB/2F8YV+KZjvIZaCMAWLjkJn5K7WFnK4FFmeqo6SwFpA4oXcoZdK2G+qXMAJijREk3iGGheK0E1CmmeZRJ3d33fV2YJQTg7K1QyOPeaKbuNu0Kr7L6qKYApG7oMbEfStzajPVX0gEk4NSpDLTqWtKIIRIZPBq3RtVCAKwro3JpCSLDwyEgLxm1Kbo2z9Dhax2+zbQ/i8hsXbkySksiER4u6K+PeSRG7VcRfttqJvyqSXkPiwZ8j8ftlmHp1xVha4RfKvYdgGZJR7H71FsAZijmXgy8uw9/PFICQgj23yqC7l8U0m+DmSOc7WUo3qANPnf1QNOuLWDrux4HrVqibTYuG+7acNk662A2QblMJkFZmklQds0iKJurCMphoa+z32RlldCiXTlYwQpluv6ECS3N8PDYUZ11VGGs743Uf3Rbq5yk2ad4GiKFdW4kJRwN3OhZ+foVIpUChJxMI7vyUAFEIwGU1p63mkTE3b6F6Jr1UcnMBsVrtELvGq3Qe1QfVG/VGDv/+Affz62tpSQS2DlkdzQSCSC1cYDDu/0/pIAkB4sJhFIpQKo2Xycg+tFFnD8P9Bd6oHyun2WQSUWIBi3zlMJj2AZsfdobo75riRM7BmHJ1mUYUD4YIWHmqDZ7DhaqYT4FqMNDJdAGZ9RNX1UvZHZaGXj6NARSa6scFcECDo4WQLqu8hloo8EQUkmev6WAMsNAbqyx1F3DZNVoHMY02op5qw5i6mcynJO1wTy3/DYXUkjVUMk5yKgZenxtqG9zEJn118dKuS7NCHiok/CbV8r7B3HokRNKND+MBbN9IZG5odnQ4WhZTL+PpCW/xoDWszB25xHEtC+PbXerY3jTHdi38xam9D2HR6V7YKSFITY4AkCOB/AMBDwMRLp1cxhkhj6/q83N6iAoazS0CKpWKQ7JsURkBL/VWkfl59bp8L2IyA2dUGXS+cz5Ugu0WPoYR0YYTsT997w55ZIRpFmpAxxsE3H97HXkYlIGPUfub1I1j4TK3EvATRKOR/9E5DhDgFIwR6lyZY0ud8SZP3Ai7/yGRUV0aF0JinckLm3K2xjpilQZnJwdkJr4No+vLFD3xwt4dmMumubtoPkWian2cHIyaKYVMWFStF5+CQ8urEJncR+Gd/fBZaUdClnH4Pql+8gND72DB0Z8tyKiIPRVKRwcbJF4/Sxyg0iD8DzCxojyabHxo0BIjaXu6lIOu2Rl0X/8V7A4sQbL116Edft20A8hzecsgVRXLCjz5Vtj66M+wm9eCW/jkWhTDwPm/oTZs2fDZ+ZIgzomlVzQcWAn2J7diS0bf8ebtlMxfdAXiD24Bcu2h6JGT9Ump8a3KRJYWVtCCH0Gg8zQ6ff3M+MjCiJsPD/TWUcTLHT5Xgq3Eb6ISUhAQkICEhJi4GtEx6RK4ROIggCBQja9sUCk2Vro2NYDodvGY9y2O4iWKxF7cy1m7gmBrSwv+TIZeemSMo/uGNDGDjf27EY2QPQq7mS0w/BvSuvOW5MUt/D7+it4m+vgW/gHZKDRFzWzfZD3ehLM0SmTyEOGzVUIAICtZwU4vYk0/GNeZThex5VGpQqqXks3KVaJgN834HicDK4NR2LD9u9QI/Y1IiS10Kp5EQSsHI5JBwKRIIhIerwbPpufwM5eCiG3s1S+zsaQ5qJmKirqoa9qTcsCtTq2hUfoNowftw13ouVQxt7E2pl7EOJUR2f5DLIxA+rET4hQh5BSFUfvIKSZ9NFMOm1eiqkxVGFqoO7mpZqqx7ZKjl9+h+FV/sGKXZb40kv73uhq11Nlo5iNSoYgAiLFd3TVXGRUC12xIGr1rS4is/76mNuP+gi/eWVerTHqWEcjTG3Jqn4yLwAU+mIQerhdwLyt9ujbrRiKduqPDoqdWBvWBN1LquJLvw0qEq2Y7UhUb9MC7jGHsWrzY6jMiEZMvIj0tHT1B3WdfpcaR1DWZKQyEBduW6Pv+G46CcmFa+rzvQwyMzOYmZnBzExmPNOp4NNWxkn5+hp/n9KcLlILVhmwlr53Vd/oFIQ0y/jrXNHNk4VkEkrNnVit9zreViEp85AvL6rRJWMFUoj04+wONdmo7zxu2Lyc3w8ezbU34gwia+axjo/mtqL32IWcN+cXbj5yiTdvnOXO2QPYe9YJRgikEHWBv/7QhVUdXVm//0IeeRbGc+umsEtVR7rU/obTf7vBiGtbOb3n53RxrMouU9bzfNhd7prZnw1c7en55USuOBmqyi75MAd+PozHNYNE1X0fsJDNW/7C55kTuLpJsXJemFyPdfou4t6//fjHrL4csOoeVSDS05zl7U5LiYQWtkVYscNsno4SKA8+TR/vIpTZNeDE/fcZ/vwEpzV3osy2Lr899JhJatTMDK3EUL1pMZ7XV3SjZyEZJVJzOlXrzXWZN11b+Qy2UY34GcYX55azW2kzmlcdwq3XXzPi7i6Orm1NmYsXZ/g+YnjgCc5pV4wy23qcsPc6b57LGWd3+fCyoVRhzdRdNYJ0rKCDpiswamNH1pl6QwcpOE/d2OjH+7tHsFamzUceRzHwuA9bucpo8dkQ7jh3mtvyklF1+lqzb1Pi7uslMmuvj5qovPoIv2q1gCF/TmHP/rO47bAvd69dyPm77zPdADKvShl8OM+LX655kbnYIY3nJrTg8GO52wKtNghRvLF9DOvZy2hXdwy3nHuuWpQhRPPC/PYsXciZnk3bs8ew79i9ugsreI/muitRagtatPo9HwRl5bMdHFzbkw36+XDV2uWcPWYwv/vdP3OhlS6qr7G+N07/KtigkBLJkNA41Yqe5GSjPz6Tx77kyzfpaseVieF8/UZ/asrEcIZEJBvwQat2JQcHMUJJUh7J+38f4K69R3n1eZzORqIAufHk6BYcd8aQ3knJ50vaseOanCu35Ix/soaT5t7UfEVGBqlMZkTQM4bG57VAYEpUMIOjUozzlzKR4a/f5L63v99BFgAAIABJREFUQgqjgoMZlZIPz8tj+fLlG6rfdcPKp9vGDyxlEsNfRmU2AkomhIUwWt0Q3UlojO10Xpo2gIv89X/kamjd0C3Nvi6ob42qj0Iao148Z0SywIykROqtERmJfB3whC9zlksezydrJnHuTT1lTUlgYg6XCYnxTNRSSGPbFCEtii+eRzBZyGBSoj4r8lkHNUrJ5MggPnsZr7mt0lVHjfW9gTIhM/7jEoLWof8CeyzZ1Bc6h85TLmJKn8No+/syeNllHku6h99XXUOpkSPR3OVfOv1okuFKeYWAMAsU42GMX2qDn3/tpzsmTMqlpHu/Y9W1Uhg5sjlM1eHTy9Q5/eelQMCmCdjk9CN+6e6uZRIxCVfmfouTjZfgJy/n7HM+MCnWpI8pAf5zG6CWz13AtTWWnf0LYyubbqwxMpF5/10ydU7/L5SAG5u3I6r1WHQqpT7tmHx9E36NaoUJnUubKt7/ZyUFwO/EE9jWb4dGHgVhkJpk0qeXqXMyySSTTDLpXyfTyKpJJplkkkn/Ov0LRnkEvH1+GcevKNCwbyuUlikRdHQ9Tpp3wsg2Hsavjc+P3l7Hb6tO6gRkydyaY9jwljD+Y3sBIb4LsPhwAOLde2DFnM5w/Y89Eihi/HH22EPYd+6BRk7/scKnR+Ifv6N4Xrwvutc2dqgrHZEPzuPUQxu07dXsA983Oe7t/Bl/PhUhkRBKhQA373EY80XWh4sK3NsxH4eCAKmghFXtQZjSpfz7rx9CCHwXLMbhgHi491iBOZ1dTU+wJn0avadVf/mWGqDqA8MAtSojmn8OKklz90E88m5dqJIpb4J4edso1q0ygieNXOabI3E+W9SYtk2XMrjgaz4/qgoGh/vEEsJ4cU0fVja3ZDujYTXvAxBorAS+OTKEZczs+OUW9W9bmP6cK7+sz5H7n/CDrnrPeMZFjW3ZdGnwe1iibJJJ+dMnfyhyqNYFQ1qXzX4ClBbDwEMRCPujF1w+ZkHMHOBWuBAkFraws8hyiww2LmXReOByLPvKGuHJOlPQlThcnO3/O0+gykBsXeOLeABSp1ro0avRf+5tDwAgLY6mQ75GXYf8bA1kgTIth2Bo69If5+0dACCFS7tR6POZHDdPX8izywgASSxSq4/F7K6V4PghxzzMXOCstpuGSSZ9XH3aCNQBqMoLA9QPnRMhT06G5q27dADzdJbvAS5ejYUIS9SsUwxvXxu2pef7lYDUpBQDNxPNIy0gMo0Qu3c/xuPizL6YfDQCmhl02uFwOmFkRkmPzcoUvNUIWJPjbWyCGkgtB0kNyUmpRu0k914AgcbIrCb69a2HpOPbcTAid/opF08gtX7H/+aDgkkmGalPM+eU4o/t03/BrSI1UI5heOAXChH1AAh4dXEjVq3YigOJPeB3ajKKP/8LS+fMwebnjTD9m3Qc23cGl/xl6LL5NDb3UKEAFAG78P3C6yhewxkPDvyJYOeqqFzcHS3GL0Qfe1/8OO8uyrSsgvQrO3Gh7C/Y911VgwxXBh7Dvqtd0biRCwp1mYIJAMRIPyyZsQ4nA53Rd8UAyK7cR6L8FR6GeGDwvF6QntyJazEZiHn8FIW+noMpX+QYsxdicOn/2Dvv+JrO/4G/771ZEpEQkhAhiL33KLV3zZbWVooq1dKqPVqj9t571SxFY++9xSY1EiGbDNm599zP748bRHbwbbW/8369/JE45znP8+Sc85xnfd4rprMtUodEPcdQojODPi9NqtHPjCGcnDWC1QFFqeAUzvm9x4lvNIFFI+sRt2843fusxKvEALZt+IWP88VwZ8N3dF9gyejN82jrGsyRRUs4FqIQcesAh0JqMXnDTOo828ai+UvZ+Kgag+tfY/L08xSbdpPDA19HXo/y3M4yj7tExnrw68jn1O4+jFamDJnkcF/v5dLlW0izhRxY353COpOMbNGSY4QoEdw6cIiQWpPZMLs9Bd/ochjw2ZNBvguEpVHmRqa5vghPVv26inu2hcjts5N13rWZun4iLZ3COTVjMMufV6ex+1O2rbhJ3QVb+KGq9aurx91ZTKcqi/C4EYJlmU5MWzef9pr9jO0zgM15JnLjj94knF3NtOGj2ZJ9FJf2fotbikbASOipGQxe/pzqjd15um0FN+suYMsPlYm+sjlF3RYZPIEiByaxPawOw1bNZnDdgigPdzO8x0RiB29h+aeFUvnD63Dv3J36E79n3cZHfPnDy3mlMPaf0NJw1EuzZBR3Ns9hk3cOnO11RAcnUKbHN7Rwex06OtxzNb+uuIWNqxMWhhg0xTvwbYfSWBvDuPjbco4/z4aV3h+vgPx0Ht6fj5IpGpSQU6yYvo1InRD13ECJzoP4vHTasfpUVN4rf/tAYoaCqtQlbWkK7AwPZX6j3NJwvp8oIhJ9qL+4WVWVX27GiZKeTC4F8XJuaEkxz1ldeo4cLSN//EoaF7GTGpPvpZQKRm6Wjg4F5KPv14nJDRgumzrkkaINvpNl10zBaKI9eotr8cHy0g0Yury5ZHNqLrM9X5h+YfCRTZ3LSs2xpyV5hD4RRXxXtxPXj6bIncSL6+/PlQZ2OaXRfC8RiZSDXxcSi1LD5EJi+pEeQ6TfKj9R0hWRpS6xe5NY8eiVV6yaLJbXDrp05HDpCgNTVFw6+c6gzIqfbPi8onTdEmyaBwnfJT1drKX+HB9JeDRT6liXlJ/OxYtIrOzq4SQuvfeYwqjE7pTuecylUJff5EGsSOyjbdK7uIVYVRorl/UZSC7fWRAYKwFr24mDdW2Z9tr+J193WZgoJEyLUNnyhaNYVBgrnolzS4rfahk57WriMxMnl3+tLzX675XAxHSUwN+lZ7V2siLx7xB/c5Y0KFBPpt0yTZTGevSWfLafyMrnIvprY6WSQ12ZcVsvIga5+2stcWq+JEmeQmV582zi1Hy2vL5dN0nnsjVl7OmUd6uKyv+Cv32AIGM5WHJJWwYCO8Nf3LgbRXx8PAJY16hDZatgAoJAm55MLg009lXpMXYCk6YvZ/f6gZROrYtllg1r83iK1PsUkxvQCmdnW4JzVKZDedPXuoVzXnIG+fIkyeiTruBHNC1r+/IH2g9oSti8CWzwSzY8ZPTl99UHsKxSkyKJvQ8z9y50r6dwYs1mIDv1B/amgvdW1pyKAcLYdxiatcuHNl0RWeoSu0yRhhwufWFgctLJdwZlVh5tYPGhQjRvkcd0r9i1ZultP/78tiDmBb9k2dGt/FjVjPB7R7nkG0/os+dJhnF1lKjXnCJWYFWoPT9/Xx+zm3vwuGtIX3KZSh1kTRBohXPHwXTLf4kVi88QB4QfOIC+cXtc033yctKyZzvy3t7ImjPxgMKDHX+Rt0050zMTup0ps4Ko073hqyE+rVNL2pY4x6RZx4kjin0zpuNZrS99S5t6Ula1h7B2ywTa2IOZ++eMnfodTQuYbm6XsqWwvHGJW2+MQ+oo+FFTXt+u7RnQNIx5Ezakl3EVlffG3z6sl1U5WGq8IbAzr0ijug5s2bUNr29/okRYKFGO9ehcwZx3lclZVfyEti/sTO+v+BPMmC/8+GM9039qbLGze6UGRIMWazs73nQDGpPNb7xZZrN8eckTtwnPW3pwSWLyMjzlSaABRTEmCWlvi7vJVmY6t2R3etWbwfjV+5hYKpIzNq2YYk8Gsj0Dl+GtJHZvkEQOl74wMCVp5jsh/TLr/0rAR5uNN52S9okfGnY4me1izogd5G/QngqFbSAkrb3lWvKUKUU+zR5evMiq++YtBIFWtfh2QC1WTZzH9uGl0R3T0XRixl4bm/pf8kXRVaxfc4AJNV3ZFVCMLonmyIR7V7kRaUtF+6Tjplrs7W0IuOqJf4IzN26HkbuOK9le/rddKRo1f5m4GyUcdrFw2I/kdHUlb7QfesUp5ZzsGwUxI1/ePMRt8sy4mlRU3gN/e88pq3KwDNE60XHpVr63P8T08dOYsxkG7llEewct7yyTs6rBJ01NLxLF+zKh2YsmK0yyV3wW3/jGiAiiNI445022HkznQn5nDf63rpF0TlwxKJgXKGL6QetKx94t0exdzYLl13D8tLapYXyfIrJMHJ5lYWBa+c6gzFo7O2xenOfom3ZBHj7wI/72LNq2XIt9/1H0aVY0Y5uoUcFoXYzSRZN/m2UguXwrQaCOwt0H0dZiHwtmL+RkthY0z9j+BxZV6N6lEqG71rDF409eVGpDvsSnVZfbkdzaGGKik+ZWiI6OxdIhD/ZmuXHOY0ZkeFgqf0Ijvuu702iYN03HTePn4d/xZUN3U50ZQ3jsm9aSVCMREVFoHJ0zkXkVlXfnb2+cMpaDpSJpS09gRxiHJ8wm4fttrJz8E0OGDuAT95cT4enI5FJBXqm4kmEMZv/cfUS55359rMkGmORMIQM3IMawIIJfvcMVHh46TnDdr+iWfOxQV5DPejTF9sJmNr62lXH2ip7mfb94dVjOln3pmPswM48X4LNyiWlkICKTVCR2b6LBymQE5IUoREXFpCuHS09GltZq5FTznUGZLSq2ollBX1YP+pbVV4KJNzzn4sIxbPbJRsSpQ1yItsLaUgMJ/jz0fYEkxJP6548BrxOXydZ1EJ866jKQXL67IBAA+08Y0rcU1+b8huUnDVJfAJMCHSW6dqeOYR9jpsRSt9nrFk1X5HN6NYrg9LGHr68VfZljl635rHcrcmnz0KZ3OyyObGVPyGvhnP/GKSy7G825Pw+TUPMTGjqaPuBe+D4lVK9gjD/Nth0+r44PCwp+/YGjPOTQ8WDqftUt8Xq32DprIUeeZHkNrIpKptCNHz9+/N96RQs3qlcy4/LKX5iwfD8nT18iJCyAu88TMLNyxTH6OGuWbuWKTwK2xSpS2vIOa+Yt57hXDHYlqlHO8jrLZi3j1F/R2JapTe1iBs4tn8joEaP45dfpzJo9j0Wrd3JZX5KGNfMR5DGGcdvCsLeN5fa+o0Q0/4kfaju/OZ4ZcY6Vk+eweucx7vq/IDrKjxsnj3Hs2BEO/rmJReOHMnm/A50m9qRKzAmW/LqU3Re8CIiIxrJAaeIOTmfB9jN4PQ0jUutMad1ZZs7dzMl7voSFG3EoVRUX7/1czVcO7dmzPHr+lEvbF7DucV2mzv+GCtmTf4FrsCvfgErKYebMOcBzJYyrW7fg/fFU5vQqSbaXh5u5kD/yDE9rjaFfZdvEjpsl7tXLY7y0kfnTpjB95iK23S/Ct1O+If/djcxbuJmLf4WhzVuU4sXcyJViykmLXfx11i/8jQO3g7FwtOPhtmX8dvkR8TalqVZWw5Wlc1hx/C6hVsWo07gNrasLlzbOZ9qU6cxctI37Rb5lysBK2KbVsUg13xmU2cKNmtVycHf7AqZPmcKU+XuJbDSGiZ8XwdY6jNO/LWHp8h2cuBlHMbcIjuw6wrX4YjSqWxy5f5JdB6/wPDaAa/vXszuiHbMmt8PVXIejYzynlv3K7NV/cuhyAiUKhnHlfgxWbhUp+HwPSxZt4sLDOLIXKku5iu7oz/zGkqXL2XHiJnHF3Ig4sosj1+JwzPWE3au3pFG3WhxLarh02JkBvzTDJZOfhBpbN7RXV3Gl0ngmt8ifZC+gPRWa1CR6x0zWXA4k9PE5Ns7ZQlz3JUzvUBALNNiUakD9HMeZOf0QgQnPub7vd05YNqVPEzfccsdxbvMevMyyEXJ2F4c05SjjvZM9d60o1/wzqrgauLb3KvnKaTl79hHPn15i+4J1PK47lfnfVMBGAwmes+ncZQr3SvSicyV1BZ/K++efC/xqjCP4sR9Gx0LklmgM2W15qzjK0ddZMfkALt0/xTUyiNAX0URFBHBl0ymc5i2ld24jOk08gY8D0Odyw/V/unsxMyhEPHlMdM6C5Mueie2dSiQBT6PJ4eqMTWovtfgoonXZsUlRLCMxwb4E40gBR+ssdpEVIgMCSXBwwSGT6yUwxhDsGwyOBXC0zsTV0sw3GZQ5gVDfQMSpAA5J5riUqAD8Yuwo4GgNSgT+TxNwKJiHl4co0UE8Dognl1uBFBtYjTFBPHluQV7XnBAdDTY2aS+aUaII8IvBroAj1ihE+D8lwaEgeTKYb4s/PZJ+Z7uy8qdSWdrUG//oEndsKlMxjc1NxugAvIPNcCmUJ/XnxxhNwKMnJDi4UzBn0oIrRPp588wqP4UcrEx7x+KtsLNJljslgiePo8lZMB9v3q4KEcHhWDo6vN1zq6KSAf/yqOQGbk2sTcu/hnFjXTte7gDBGMbJeRsx9BlAA5t/Mn8q/7+J5sk9PyzyCjsHzcR6yhK6qfY/FZVM8U93I94RLXnKV8VuRi+qNdpGvVJ5MI+NIEpXgCbf/ERntWFS+QdRbs+ifcVxXMWJJrOO8qfaMKmoZJp/ec/JhCHkFidP3SAQR4qWK08599fDOSoq/xyR3Du0j7s21Wleq6A6/KWikgX+E42TioqKisp/C3WcQUVFRUXlgyPVOaf4J2fZsW0PZx9EIEB2t+q06PgpH7tZp3b4f4gobl30wa1amYz3oigRPDi9lzMJNena+O/UKmSFrIkb4wJvcPzATaybdeLjf2no63cvg5GwM6uYe+AJaEEMejSlOzGyU1kslMd4zFrG+SgzzBB0JTsw7Iv0w2GpqKi8JW9E2lOeyenp7cQ9u61U/m6HeIUbRHnhJZt6lxAr68LSZuppeZZV+5jiJzunLJGLqUdbfQcU8ds5RZa8x4QV3yXS3KWJLEw/KqeIhMuNbcOlgZO5FP3+ZBqBZD8AsiBujH90VJb0qyLZzSvLz3+PWe+98z7LYHi6Vto76sTuk+WJQWFNRO3vL1UbDJMtVwPlrd2TKioqGZKkcdLL7XmNJbcWMSs1VM4mffKiD0n/QjpBm0eaLbwrmX/s4+Tm7IaSx6W37HnPT3LczdnSMI+L9H5vCevlxi81xMbcXMqPvpxxGQ33ZUpNqw+7ccoi+ksjpYzVv7dxEnmfZYiT00OKi3mudrImwNQ6GR7vkklj18ut6HfPp4qKSvq8Gvcwhmznl4lHeGY0o3DztlROutzNujbtm+VHZwzh4ISJ7AxViAz0wdvbG28ff8ITjEQFJf7s7UNgpALE89f63rQbfpTnhmie+fgQFBVJkI833t7e+PiGEJMQzK0TRzhz93WYFCUyEJ/EdPzDEzBGBSX+7I1PYCQKEP/Xenq3G87R5wain/ngExRliiFmCOLmmUs8Thp+LbPEnWKNZx1GfeHInTWL2R+Z9qEJ0VGk4UjMACNxUalJ9IwYDApgICb6deA/Y3wMcalFh0lLqpdWOsnEjWnK8nRadJko09tKBY3xETwPj0sZ782YQEJievFRkW+US4mJTllOJYEEk3mSmJhkgRLTKkMa4sW0saRG/77UjNvH4lV3SQjcz4yVkbQb2ZXS//XRbRWVD4BXjVP08Z0cemYEjRlFS5VMNo5uRfkKJTDTgDH4ALtOhOJ7cCRNihWmcLFPmH03gWc31zGgdlEKFy5Op5V+GOM8ObjrOkF6QaKus3X6NDZdesyVeZ2p4F6YIhU/55uB/Rn1ywBalHGj7OfLuRUH8b4HGdmkGIULF+OT2XdJeHaTdQNqU7RwYYp3WomfMQ7Pg7u4HqRHJIrrW6czbdNVYojh0KAaVK5Tg4odl/E4izFOn+/agF+D/gz+pjPuQb+zeLNfipdo9O21fNdzINOWLWfq8El4+CYeYfBhz48fky+nEw1Gn8TfCETdYUPvKtT4Zic+BgX/I/MZO3o8E0Z0o0aJOgza8RjFGMKVjT/Ts25JGoxYzrjGhcnt3IIFD33YPrwvY9bsYvuCgTRvP4tbBsAYyqlpPeg+YiW7d0yjY81WzLwUA6mm05wJWxYytH1VijSbzSMFTLK8afToPoKVu3cwrWNNWs28REwm60jxP8L8saMZP2EE3WqUoM6gHTxWjASeX07f6s7kzP8J0y77cXdlJ8rX/Iq5x3xRMMWkm9ajOyNW7mbHtI7UbDWTSzFAgjeHZ/ahbtEKfL1kLWO+bEOjSgXJV30UR257MKnPZzSv5U7eUl/xu78RY+gV1o/8nBpFGzN8yUhaV3Inn70DhVtO4uTzNP7gij9H5o9l9PgJjOhWgxJ1BrHjcebiwencezCgdQ6uLv2Ob+Y8pclPXSip7lFQUfl7MHWgDOI1paaYg6DNJV22x6boYkVv/VzsNAiYS+0Zj8QQvU7aWCKYV5Sx1/Qiiq/MqWchYCH1Zj8WRUTiDveXgjpEm+/1sF782aFSwgzRWH0sM+4bRPQ3ZHwlc0FjK40WeItItKxrYylgLhXHXhO9KOI7p55YgFjUmy2PTQlL/4I6QZsvybBelOz+Mp/o0Ihtw3mJsrhMYngk8zt+KZueiYjhnkz7KJtYVB4n15KMDCnPd0nv4h/J5NuJv4w9JoPcLV4P60UelK8LWUipYRcSh/kixWNIP1nlp4jh/jxp2WqmmDxwcXL6h+JinreH/BEuIrGH5OsC5uLUZJpcCPSRk9uPiNfFMVK56ji5bjIkyu6pc+RivIghXaleynQexicTN6YryxPRXx0t5bOlMSSWgVQw9uoEqZHDRTptui7bvvtKFt17mYZBHs2sI9YlfxJTtndJDycX6Z14UcV/gTS0tJYaY87Jc0VECVoprXJkk2I9N4u3XkTiTsngYjZSf46PKCISu7+v5DfPK20WXJcwgyLhZ8fLR3bmUnzIyVTKkJ54MXPEHuovBc3spdVKf8nqdOvruouWsMAACVUnqVRUMk1iz0mDpYV5+sYH40vPjgYLS8tUj83UMJcm0SxhlY8C+XRgVpSK5XKilSjOHz6VxjmZSdiGVvNPcnT3Ac5uHUDhLCyfM1xbw5G8XWjtAOiK0u2rJlhfX8Oiwy/1AUaCti1mu1V9mhVLXOBonh+XpFrr7PUZ2LsC3lvXYPLo7eMwzWiXT/DavIHLwddZNnoEI0aMZ1d4KWqXEAL9DGBmT64cOvLVaEolp4LUad8Ad8e8OPw1m669FnAmKDvNv+lNWQvQpSfVSyWdwhbJxI3pyvLSJyOpoFXFH5k/OC9/9m/D5mLD6Fv85UJQHQW/XMbRrT9S1Syce0cv4RsfyrPEi2pz2GKjsaBQuQrk0oLWzo0CuQSnstUpYGaqZ1dnI36+TzEAWjs7bHX5qVK/NPY6LXY1h/BD61w82vtnaplOR7yYiRsj6jJrj9rTsIqeg4tXcPsthjIBIjy38l2zRvxyMbOuFhUVlcQ3iBbncmXIqzvJY2M0z59Fwhv72Y1EPAs1KS3MClC2fO73uEFKQ3YbazQICS8i3i0pmyJ83KpIFk+K4vDKgwQH3uerzitNv1JiyZf9KVsXb2N8ky/Jq9Vz76YXcdnqpuMKMqNk917UmzGe1fsmUiryDDatpmCPnjM+fpiXHc8vvzZPGbki8YWX1MCqLdiHpav+onP/IdTft44vZ6xiVo8yoM1YqpeuyTUzsrw0yFgqaEWlfn2oM2sgnp73CDe64/DS0mrnhNmuOYzYkZ8G7SuQrgsQbbJvES0aLRj0abUM1pQoXgDtyVQmGvXpiRczIOYma6cdxW3QBDpU8mVv55UsODyYpc2yHoHbrsoXtC2/hDQ+vVRUVFLhVRtjWbs7nUuZoxEDdzyvJ3PhxHHV8y4KGizLdaZH9fe5s0OIjIxG0GKX3/WdUjKG3WDX2s2cydRnceI5Ab+zNvAL1m/byMaNif+27GJh90JEHVjCqrsGQINVNksU3/uk50jUunakd0sNe1cvYPk1Rz6tbQVosc2ejZDzp3jTx/eAKzdSk8GBMcQPbZPZnLpxgnltjGzt+xnjTidgyKpULzlvJctLLFtGUkFjCHtnXaL2pG6wYTAj94cmls3A7VltabnWnv6j+tCsqPW7WXhTIERFx2LhXjK1TL+deDHei03TPMjd7weaOuvI1fpbehTzZ+vCLab5xCRE3/Vg9cp1rFu2lI3ng5K4nIyE3djF2jUb2LD5CD6xia2x4sORVQuYP38hu+8kgPKQA8vms2DtybevAhWV/yCvO0CW1Rm2aDjV7AS/XUvY9uT1U6g83szyPwMR+1qMWjSUihaA1o6cdlqQSJPu+sUjvIMFEPR6PQJozMzQARIdRlj4LbZsPPv6yvF+PH6qQNxVTl8Ow6jLR6vP6gFa7HLaoUWIfPECIy945B2MAKLXozcljJkpYcLCwrm1ZSNnoyPZOagx7Xt2pknnufyVqTnvBDyXLCe6SUfc3hgGtKL2l50pY7zCygVHiMKCck3r4RKyk3kr7pgabn0wIWFG4mLjkvQ8ctKyb0dyH57J8QKfYfLoWVCxcV3y3JtL3x9+xytcwRh5h43jVnDXNgfaREmhUV5n2HBvPUv3hqJzqsnXS9cypPxzngbEE5quVC9lOsnFjRnJ8lAEoySTJiaSvlTQSNCuX9iW73t+GjCFWZ0NrPt+FAdCjaZFHIcuEG1ljSnbD/F9ISS8vOir4eLXUjwRMCrKK/WjJEooX2crgYSExJ8MXhw8FkXLPh1SliED8WKqhF9kzuAV6HoOpaVL4k1hUYWv+9dFObSIZTeTfvgkcPfPTTx060j3XnXxHdONeX8pgJGAP77miwUGGnXrStfmjoQ+jjTlX+dG/aY5OLHsPPp8FqBzRvG7j+1H1VLPj4rK/1eST0KFXVomX9ctII4VusjEVb/LthW/yBflHMWt/gBZ5Zl0GvmFHB9ZWey0GrF0LCY1WvWWtmWtxMaxkFRoPUx2PjSIhO6RASWyiUajE9vCbWSOZ6zEnxsqJc0QTbby0rJza2lU2UWszPNKg3HHJDhxxvnF8ZFS2U4rGktHKVajlfRuW1asbBylUIXWMmznQxEJlT0DSkg2jUZ0toWlzRxPiZVYOfZ9MbHQ6MSx3Vp5muHsdaTc+O1rqWJvI5X6LJfTT5OsoIh7IIcX9ZQy5hrRZCst3RefkyB9sJyY1ELcsueSYnVaSMc+Q+Szcg5StNE3suhM0OvJcv1NmdTkM1mZdOeTFJjRAAAgAElEQVSmEiiHxzYSF0uNaCxsJE/xljL+cJAoSpBcWDtAquXQiW3VAbLy2AOJEpH4E0OlWpWuMnXLQTm0aax07TFPPGNF9LfnSuM8ZmLpXE4adRkrc7+vJtlsi0qLsZtl7+rk6cTKoxPL5avyVqJzqC8jt1+X5/G3ZW7jPGJm6SzlGnWRsXO/l2rZbKVoi3Gyx/O0rB5YTWx1OeXjnzbJpYDkFahI4OGx0sjFUjQaC7HJU1xajj8sQUqcPNwzSuoXaiC/Xg8XkXh5tKGTFNTpJG/jMbLnYbTcnttY8phZinO5RtJl7Fz5vlo2sS3aQsbtviDHZn8qbmbmUqb3Kjn/NECu/vaNVM6mE4cGo2XXLX/x2veLNM+rE5tq38sWzyDT/WPuJDU+7y/Df50uY3u1kx5zzkuoImJ4ejZFGZTAwzK2kYtYajRiYZNHirccL4eDUt4cSsBhmTO4uzQqnkuyF2sjCy6+3sxk8PpdRrUrJ7mss4vrx71kxMKjEpiYRPzjo7JsxmxZuma1DPm4jAw6Hi+iPJY5DYpIv4MvV0BEy/pPy8r3J1/uiIuXCyNrSqNZXqIP2iFzVt2VrKzfUVH5/0CKxsmEIpGPr8rxvbtl997jcvVxZBorleLl2X1P8fQKljjRS2jQs5QbUmODxOvmXfGPSjzjZeNk/4VsjY6VwHu35FFYytVh8c/ui6enlwTHiehDg+RZyoQlyOum3H2ZsIiIEibeN70k+H+4K1aJDZJHDwIkStFL5IuUqxpFROIio1LdxKtEB4m3d5BEZ9RwGvSiF4NEBTyU+75hb6RliPSXx0GJL05DuPj5BGctUoEhUvwfB4kpBYOE+/lIcFYSUKIlyNtbgjIsxBsXlUj/x/I6237ik6WLvib+3FApaVVVJtx6IUE+TyWVWycVFIkO8hbvoOi3X3GXamZOyg+VmsicB3oRiZKNHcvJoMPX5OJVX9nWpZh03BiaeGCkrG1XJknjJKI8XSltK/eV+XPnikdoqqmrqPy/5m+PSp5w/ifK15mOV7bP2Bi4jS/UDY0qWSDh/E9UqH+MzlfOM7rUPxzR0HCT+Z8P53aDL2meO4Tb+7dxwvIjPv18GL3djzL+lxPkbtIA18hb/D57Oo9qL2Ll3I6UtgCI4cSQ2ozKtZrjo8v/28VqKirvnb+3cTL4cvTnHnw6+TjhGjc6zF3P9C9rU1BtoFQyyfNtXSjT5Qwt//BkRcuc/3R2ADBEhhChzYWDjQZFAZ3u5XyWkbiwcAw57NFEhJBg6YCdjdnriV5DHHFYYaW2TCoqKfh7GyclFO+7T4l8OfetscKxaDGcVQubSiYwBl5k58G7vDAKGq0lzlVa0LSU3T+dLRUVlf8BqmxQRUVFReWD498p7VFRUVFR+U+T5dHu6IenuKmrRQ23t5uMTgi8zZWH4a83n2qsyFe2MoVs0zsrE9I8w0M8Fu/HvPXXNC2YQd7iArlx/AA3rZvR6WMntFmU8mUFw0MPFu83p/XXTckoW+8NYxhnVs3F5MsTDHoNpTuNpFNZC5THHsxadp4oMzMQHSU7DOOLsv9eXZ4x7Ayr5h7gickMiF5Tmk4jO1HWQuGxxyyWnY/CVNSSdBj2Bf/ioqqo/P8is8v6or1PyKofG0n+bLml2x+pL6HODMoLX7m6fZBUtNSIrmBHWXz6vjzLaFVxJqR5iv9qaeecT77YmIFWL/6RHF3ST6pkN5fKP980LdPOgpQvayjiv7qdOOf7QjLK1vvHIE/XthdHnZ18sjxp0NIo2d+/qjQYtkWuBv5HIpEansra9o6is/tElr9pBpT+VRvIsC1X5b9SVBWV/y9kunGKDAuX+IfTpbbluzVOIiISt0++ctGJZcuVEva2aejvycr5O+WttojoL8nIMlavG6f3iP7eSpm/8wPZuBJ3WoYUN5dc7daIaU+tQR7vmiRj19+S/5ovL+70EClunkvarQkwNcSGx7Jr0lhZr5oBVVT+lWR6zim7vR1m1qYQNKlhktxlFp1JCKfVvjGEpiQkmGKTGWKIjk951itpnjGMk2O6MtQjAP2bR2AwJAt+lqqYT4c2FSNdSilfeqQU9hnDTjKm61A8AvTJDjWQPFugEBOZmngwo3owkOmqtqxB/741idu3mFV3EwjcP4OVke0Y2bU0/9zqfQPXpvZh8uW3DPGdBpY1+tO3Zhz7Fq/ibkIg+2esJLLdSLqqZkAVlX8l72VBRPiOnrjlqc64t1QCxHj9yYQuVSlcZygrZvejdZ1y5M9TnF5bn2BE4cnJxW9I86I8t7PM4y6RDzz4deQktt/25uTiobSvWoRmsx+ZXuxpiflSkDJ9DNeZ1KoRvYePY/z48YzqVoO8OQvQfoUPSprCvig8ty/D424kDzx+ZeSk7dz2Psnioe2pWqQZsx8ltijGEE7O+Iovf5jB8sUT6VavJu0nHibQmFE9AISzo6cbeaqPI3NVrcO9xwBa57jK0u++Yc7TJvzUpWTKyOh/JzHn+O1kdmqVec+be3Tu9BjQmhxXl/LdN3N42uQnuqhmQBWVfy9Z6WYpAQuloVXKYT39va0y5odZciyVmGWpEndQ+uXXiWWr1fLClIJcHV1eLHI3kmmXw0UkUvZ+5SpWLyV5kkyaJ7Hi0SuvWDVZLEEv04z8Q7o7WUqtqffF5NVLR8ynvyqjy2dLMqyXLH39Ndm86aopFFPcVZlQw1bs606Xm/GSvrAv1kN65bWSJotf5Uoi/+guTpa1ZOp9g4go4ru6nbh+NEXuJAZT09+fKw3sckqj+V6ZqAe93Ns6Rn6YdUwyW9UisXKof0Exs2/1Zry/rPI+hHlKsBwZ2kK6rX/8fsMIvST2kPQvaCb2rVbKuxRVRUXln+e9fL6aFe/ALzPeJQUNtrY2aHOWoUZZO0ChiHt+OBFIoALuumTSvNSwcCBXjtdHmMR8TXCoYkb4vf0mMV+O56Q+IpYsfbPyfP4FQDzXZw5g2r1KjD01iDIWACZhXxOHKpiF32P/JV/iQ3OYhH2prMazcMjFq2wZffl99QEsq3xPkcRjzdy70L3eGPqs2QwDR2VQD2YU7/ALWanqqMtrOWrfkCr631i84jbdx5R9q1A5EZ5b+a7PDHLNu8rsOllf8hb1lwcLxv7M75a9mFo0gEsXAjI8R6PNTv7SpcmXqZG5KC6vPYp9wyrof1vMitvdGVNWDb2govJv5YN9erUaDW9qErKaQMZivoxIuDGbgVPvUmnMKQaVeflCfnthH4anPAk0oCjGJMfb4l7EGTwDUy/GO9RDzM21TDvqxqAJHajku5fOKxdwePBS3sKX947CvGgenj/M0UveRJW9z8l9QZlyOml0OamauwT5CmW0Bj+Gm2uncdRtEBM6VMJ3b2dWLjjM4KXNeIuiqqiofAB8sI1TpjGS6syZScy3h7bnDtOnkIF927OYbsIt5n47hVsVR3NqUBksgPiYGMwsvJndtiV72p7jcJ9CGNJIONVs6VzI76zB/9Y1Aoz1cEs8QDEomBfIqsE3feK9NjHNIzf9fmqKsw5af9uDYluXsnDLOJr0zvdG3qLverD1bCg6JRazcm35vIZTYifQSNiNP9l9NRKdVU5CEoV5is8R1nrcIVpTkIZ9WlP8yQFW7r2PZfn29Pg4Xyq5saF89znsb9mOCb3mYPnJbwyv8r4WKsTjtWkaHrn78VNTZ3S05tsexdi6dCFbxjWhdz51n7mKyr+RrD25egPGVKIdGf2Ps2TmJq5HZjId0WNQBAz6V6vtFKORpN0DRVF4bb17U5oHGqwsLSAygheiEBUVA6JgOsQke0tfzKcgRkHSTN/AnfnfMvlGBUYteDmcF8L2NX8Q/CwdYZ/GClO2XiBKFKZsKSgYURRAV5DPejTF9sJmNt5NXK2mPOTsFT3N+36RiXow4n98CTM3XSe9qg6/OIfBK3T0HNqS1768r+lfV+HQomW84ct7C2Gezq0+TXOcYNl5PSZfnoLffVs+qpZaw/QarUNdRs9rxfXJS7iXlcWdaZeUi3MGs0LXk6EtXRIbVAuqfN2fusohFi27mepqSBUVlQ8f3fjx48dnfJiRcK/jbF+ymDWnH/LCMi+u+Rwp7mIKuhm2cwitB21F07RfhtEZ4h8eZd2ihazZ70XYs2dEWjuQx8KPP5at4LhXDHYlqlHO8jrLZi3j1F/R2JapSv6Q/SxfspUrPgnYFqtIxeJ5cU64zvqFv3HgdjBWrvmJOrqSJVuv4JNgS7GKlahQKI7Tvy1h6fIdnLgZRzG3CI7sOsK12FzYP97D6s0XeBiXnUJli2LzYCeLkqRfTredvt2X4V/0Y8rrb3Ly2GH+XDOddQEfM+iLykSe/o0lS5ez48RN4oq5EXFkF0euxVOscStcH25g4W8HuB1shWv+FxxduZStV3xIsC1GxYolKFajIZWUw8yZc4DnShhXt27B++OpzOlVEt3jYyyeuzyNeqhN7ZJm7B3SmkFbNTTtlzzihJHAI/MY+/MYho1bz6PstWjWthou5gAKf/0xi+V7r/LowW2ue4cQm6MMlQtlR4OO3K658Dm6hysPn+F7+SChVfvQvIA/q74dj6HfXDq7m4FVTvz3ryKgRl+aFTQjR0k3/GZP4686nSlyfj8hLb6ioXPG3zpa++LYnprFwQKfUdfpLXs1xkCOzBvLz2OGMW79I7LXakbbai6YivoXf8xazt6rj3hw+zreIbHkKFOZQtnfrxxeRUXlf8t7Cvwax/PgeOwd7d5r6J/0UYgMCCTBwQWHNObnlagA/GLsKOBoDUoE/k8TcCiY592XUitRBPjFYFfAEWsUIvyfkuBQkDyWgBJJQGACDi4OpLtsQIkk4Gk0OVydscnKOzruOcHx9jjavaeaTjjFjzUn4rp1D98ViWfT57U433cdXXPl4vHMRmxreZ4tnXICUaxrXxPPwVcSF0QY8Vv1KW0uNKR76UJ0G9SSzAosjKF+BFq6kM/m/RRBRUXlv0cme04ZYYa1jdXfHEVWi6VtDqzTeUdrLWyxszFP/MEKW3ub9zPJprXA1s7G9KWOFitbe2xeJqy1xDaHdcaNtNYSW/vsWGT1g97MGhur91jT8gKvw0e5o2RD8T7HX4+9ueIVRU73RnTuWJSba9ZzM96A/4U97N5zgJsRRajZpDSOOg05iufl3sR5aL+bSNNM9JpeosmWA1s1xp2Kiko6qMoMFeDthXmGuDiwsvoPrKxRUVH5kFAbJxUVFRWVDw51na2KioqKygeH2jipqKioqHxwZH6qwBjKnaOHOOdtIF/1JjQpl+cdVuYpBJ5Zw6LNnsRmz0meqp34pn2pD3M3f0IIt4/u4WaONnSslfMDa80VIh6cZu+ZBGp2bcxb+h+zxPuRJxoJO7OKuSYbImLQoyndiZGdymKhPMZj1jLOR5lhhqAr2YFhX5RNZ+WjgXu7F7HnrwQEDWbuzRnYtpQ6B6ai8m8nUxH4oi7IzHaVpUL1alLWJbtozZ2l/qSzEvmWAf301yZINRut2H+2Xm7MbyTZzYvIoOPxb5na/xAlVK6u6yuVbSyk9vSHYvin85OM8BvbZHgDJzEv+r2c/Fuq7/3KEw1P10p7R53YfbJc3nQE9peqDYbJlquBkqk4s8pz2fmlq+jQSLZ26/9zrioVlf+PZKIjYODm0jVEDj6M5/kL3HhwjVVtzTg1eRzrnmTefpQ0vbs7d+IZrSG7Q26snYpTuXJlSuT+sPokAGhzUrFjJ2q97WbR/zF2ZdvRu0nhv3FvmZa8PXcQ4LeJTg7vnprO5XOGdHUn5uxeDgab7iXFdzdzz9Zi9Z9T6FjRKXN70rQ5cMlr94H1alVUVN6FjJ9nYyiB7p0YUsfe9LNVEToN/BQ3QwBPA183TpmVDRoi/Lj7OAQjYIx+jlL9Z/af20L/0mYQH8K9c8c5c8uf6FdJxxP6xAdvb2+8fYKIMhqJ9r3MKU8/UvERvs52XBTRqcauSSkJfCN/0RFvnqfRJPv/KOLfpk1ODyWGyFQza0ysVwMx0ckETgnRRCVIivz9LSSXJyoJJJjsiMSkZolME0tq9O9Lzbh9LF51l4TA/cxYGUm7kV3JlCMwLpCbp0/h6ReVdmDcVO8pFRWVD51MxJtxpHHrOtgm+ZUYDCj2pangbhrZz7xs0MizM+vZeCEUI0ZeeG5m2oI9PDAYeLi5P1UK1WfKjQgeLWmNe5kuLL0RA8YIvLZ+S52ihSlcvAuTpreleJFq1K36EYOPpHwRKv5HmD92NOMnjKBbjRLUGbSDxyb7YBqSQBMRnqsY/u1PTF26lO8blKHRyD0EJHmZGcNOMrlLE+pULEDu4p1Z9yhlY6w83ECXUrlwqPgVW7yi8Dv+Cy3dcuL88WB+vxWO0RjKpRltKddyDrcTwBhykhlffckPM5azeGI36tVsz8TDgRiNIVzZ+DM965akwYjljGtcmNzOLVjgY4To26z9ricDpy1j+dThTPLwTcfeG4+XxzLmTxjE9ytuJjbmRgL3T2XCdh8UFHy3DqB5nw34ZuLFrTxJJk+M8eLPCV2oWrgOQ1fMpl/rOpTLn4fivbaS2U61zr0HA1rn4OrS7/hmzlOa/NSFzDgCIy/N5pOiBajc8QfGDx7A9BOhyeohnXtKRUXlwyfrI4FxcubHClJ55NlXY/tZkw3Gyb4+LqJDJ/n7HZQ4EdHfmiIfZdeIecWxcl0vovjMlroWGrEsO1zOxoko/gukoQWC1l7qjt8rf05oLkUK1JVJl/RvJm24L/NatpKZD0yzQ3Gnf5Di5nmlxx/h6UoCFb8N8nnFrrIl2JT/8F09xcW6vszxUUTij8u3hc3Fte1iuRYpIlGH5ZvCllJ5/A1JdnURMcidyTUkW/6vZG+Uqaynfygu1jV+lbsGERFFAlf1lyF7I0UUX1ndzlU+mnIncS5LL/fnNhC7nI1kvpdBJPaQfF3AXJyaTJMLgT5ycvsReRj7XHb1Li4fTb6deO1YOTbIXSzSmHPSX1sik7f4SuyJ76R4+RFyUS8iSqAsbWYvdWd5iyKKBO/pJyXcv5HDmZQIvilPFNFfHS3lLXJLo2mXJVxEIvd+Ja5Wr/8/M8Qe6i8Fzeyl1Ur/zEkI4y/KqPIWotE6S9ftYSISJfv7Fnhjzimje0pFReXDJsvD9MrDVcx/8AVLRtbk5ciLSTY4mHqObzPqb+Dm5o1cjBK0zvnJbwbaPC7ktYb4O1vYeDb+9dCVrgTNvmjCJ6P38uDxcUZWeXNNluK1mQ2Xg7m+bDQjRoxg/K5wStUugQT6YdCZJIFbf6yKWfg9jl7yJT70Gc8VhUcbFnOoUHNa5DHl3671Um77/cm3BV+WR0fBj5pQJjuQrSQl3TQE+vunIi7UUbxrDz6O9GDjgQjAjLwueZGrW9l0ywCKD9su5eGzhtkx+v7O6gOWVKlZJHHOyAz3Lt2pp5xgzea7YGZPrhw68tVoSiWngtRp3wC3sG0s3m5F/WbFElejmZPfxTGN7q/CY28H6rd2wvPPQ8RUrkVJMyD2LKeu56fmR/nRoiVPk350alqUQi+rMnI/I79ayJ00wnm/IU8ENLa22GhzUqZGWeyAbEXcyU8IgYGZDDsedZm1R+1pWEXPwcUruJ2JMOKG27v5804CYlaSqlVzAJY45M6RpB4ycU+pqKh80GRtxW3URebNDqTHknFUeW9BOw34+4egoEFnaWWaANdaYmmhAWMQ/gEKlHydXTPztFPSe/vgZ16W8b/8SvNUhoZSlwTq+esvH7TZksYGtMDOPq3Fy1q0GsCY+riV1rUDPZqMZeCG3YS0cGf11XL0rbOOrRsu8VPXY9xy68jXFmB4+oRAg4JiTDJbYuuOyTsYCJjm+DRJ5pT0927iFZeNutaZmWfSUaTtZxSJP8a3O2NpsaAB2YEEz1NcMqtOp3KJf3pDMNZFapD/5aoK248ZOr0eOd92LbZWg4Yklo/0iLnJ2mlHcRs0gQ6VfNnbeSULDg9maQY2RIOfH8EKYG5NdlstpBjYzMQ9paKi8kGT+a5O/F02TD1I0RFjafZy9VpUZgVO6WFGgQL50CFIQoLJ72RMID5BQJcPV9fMvyW1ttnJFnKeU9eTfhkn8ODKDcISbjOrbUvW2vdnVJ9mFH31gtdiZ2fDi/NHOR+d5LTohzzwe5uXmAOterbG5ugGVi5bz7Nmwxn5ZUOeb1/JrLW+lP+8JGaAziU/zhp/bl0LSPJqVTAo5hQoUjjVlDVW2bBUfLl/Py7TuTHcOMSJ2I9pUccaMOJ/8QohlepQwyqxmCeuYqxc0SRTfHSU9Uu3cjn8b1j3Fu/Fpmke5O73A02ddeRq/S09ivmzdeEW/DOYr9I6OGCnBSSGyMjUDn5/95SKiso/Q+beQgZvNg+bgXeVJuQNvMaVK1e4fHo7k2bsBLIuG3z5VW006AEzSn3Rjdp2WoxBT3liAGPIE/xjwLpCV7pVtwB5qTVXUNIZ9rGo2Ji6ee4xt+8P/O4VjmKM5M7Gcay4a0v28LQkgRZUbNWMgr6rGfTtaq4Ex2N4fpGFYzbjY6MDMWIUML7qKSkoRjCKMc0VYtkbfklH5xNMXJWDrp/mxbF1d1ombGChX20+czVVua7gZ/RoasuFzRt57R08yxV9c/p+4QYIImCU1w2kRbmm1HMJYee8FdyJA9ATHBKGMS6WuDQyY4yJJj6XM05mAHHcu/cYO5f82AAY/fG4bEfTWpaQcIV1u2KpbunBhDV30pT0vSFPBFCMGN+0I6JkpJUPv8icwSvQ9RxKy9c2RL7uXxfl0CKW3Ux/bM+iYkuauJmhMdzh0sUIMD7jr/shKIBRr0efmXtKRUXlwybDWSklSPYMKC3WGgSS/NPaS5vVASIi8nxdO7E3LyqDM9wJqkjouQXyaVFz0aARswLNZdjKMxKkGMTnjyFSp0Ap6TB1lczuXl7yV+0nv3nFixh8Ze/wOpJbi6CxlQrdZsvRp2lNmysSeHisNHKxFI3GQmzyFJeW4w9LkCIi+tsyt3EeMbN0lnKNusjYud9LtWy2UrTFONkf+FzOz/lUimXXiUZrLjnLdpZFlyNFlFC5vrGfVLTSiUP9kbL7TpB47R0njZ10YlG6t2y4EZbGBL5ebk5sIJ8seJS42CFWjn1fT/rueXPbshJ4SMa3rCC1uk6UpStmy4+9vpGFF0JFUYLkwtoBUi2HTmyrDpCVxx5IVGL5gk9MkhZu2SVXsTrSomMfGfJZOXEo2ki+WXRGUl2PEndN5rZrIN2mbZTfV06VaXPHSrt63WXuH7tkzfRfZPXFxDwpofLs+WNZ0qqWjEq+0CSR2EcnZPlX5cVK5yD1R26X6wEP5fC4RpJHZys1Bm+T6/4PZN+IupJTZyNVv9shd5Lt0lYCDsucwd2lUfFckr1YG1lw8fV2WYPX7zKqXTnJZZ1dXD/uJSMWHpXANFdHKPLs+Hip72wu5o7lpeEnX0ivFkXFIlsuKVCpnYzb5ysi6dxTKioqHzwflmzQGE3Avfs8ty1CSVfbt0/LGEOwbzA4FsDROknnMD1JIEBCKL6BglMBh3cXEsZEEGlm98pbZIwMJ9rGHttU+qpKZABPo3Pg6myTua6sMY7gx34YHQuRW6IxZLfFKt0TEgj1eUSEbWEKOVhAwnMePQjDxq0wTknqR3kwg2b9jMxbXo3AhNrUL/GBD3/Fh3Dvli/mhcrjooQQbZc3pXjyfd1TKioqfyuqMkPlFQlnR9NukRkNSxelweAuVEi/xVNRUVH5n6E2TipvoERHY7Cxefeeo4qKiso7oDZOKioqKiofHGqsTBUVFRWVDw61cVJRUVFR+eDIgmwwnHvH9nPqfhxO1ZvToqLThyF0M0bjf/sKlzzvEWyWjxJlylG2RC6eXHmAa80KiXEW/oO8Rwni+xEIqvwjGAM4umgxR4I0mCXeBBbF2/FD5woZrOB8Xxh46LGY/eat+bppwSyshozG9/p1nkSlNaugJad7VUo5vb+3jDH0NneiS1DGVQcYCb1zlEPnvDHkq06TJuXIowOMYdy9GUbB8oXJTGB8lf8dmXunxd1iWd8ejNl0ggv75tCrRgXaLf0rldhyfydGwi4upGe10jQe5cFTK1cK2EZwde3XVHN2osagP/HLRJy2fyXGMDy3jKbHZ/1YeDYs/Q2vGSdGyKlVTJ68hrPh7yl/Kn8f2rw0GDiKzzR/MmWpFyW+Gcuov61hAowhnFo1mclrzpK128ecbJYvODjqEz6u+zmTPC7j6emJp+cVLp7aw+Lv2vP99mfpRNzPGtHXVjNu8QOsnXRANBdnfUaTLqOZNfdnvv6kCuUaT+ZcFKC1wzFqH5PnnuC5qlj5Z8l4K5RBfDaMl9kXXu6oDJPdX+YXy5pTxOsfVMPGeU6X+g5WUmrAvmSbTxV5tm+AlK00Qi6kvpf0H0Qv91bOl52h7+HcuGPybWGrD9LQ+17Q35OV83fKW1XV/zeUIFnRMrvkaLtWnv/TeckSevEcW0HMzT+SaQ/evIsNt6fJ8EVPMxelPgMMPr9J784z5Wbi/mv9jZnSf/xJCRMRkVh5sKaD5DezkcYLfROvp0jA1m+l18I7qZgHVP4uMtFz0pGn7VC+r/YyGGd28rnkxqlYCZyS9OEzKxt8Lxh9WTNyEic1rRnzczPeDIauxaHJaH6sa86bPkGFmMjoVMPyGBMSEn8fT1Rk3Bux7mKi41J8vSkJCaZeoyGGmIwUVq+vQtjJMXQd6kGAPuX/xUWlnrc0z82sBNEYR1Tq1sVkxyUTCBoTSEg8LT4q8o26VGKiSeFqTCocTKtSMitVNIZxckxXhnoEkLyqjPERPA9P/2+Slu8whUgyyfXTr//Xx8XHxKUxYmAgOiKNNN5CJpm2LDMVYs9x6rKB8rXrYJfJU943RoMh2d8kfannS3Sa1F5B8cS4DuLX/i5vDu0YIgmNSKwnRcncyI3Rn40/TiahfR/KWJjyFRroTqchdcbmTywAACAASURBVBKH/K0o0mkgn7oZCHgamFgGLc7tuuO8YSDz7qlBgv8pMjWsZ23zevQ1wWc7a3zasX5mq1cPQuZlg+8HY9A+/jgRgVWNpjROTReudabLryOpZQEYQzg54yu+/GEGyxdPpFu9mrSfeJhAIyR4H2Zmn7oUrfA1S9aO4cs2jahUMB/VRx3htsck+nzWnFrueSn11e/4G42EXlnPyM9rULTxcJaMbE0l93zYOxSm5aSTPDeEc3vbIGo5OtJmWSBGxZfTKwZS2zkPzeb7YIzyZPsyD+5GPsDj15FM2n4PUPA/Mp+xo8czYUQ3apSow6Adj1M+dKmem1gXaUkQFX+OzB/L6PETGNGtBiXqDGLH41QEickFggneHJ7Zh7pFK/D1krWM+bINjSoVJF/1URy57cGkPp/RvJY7eUt9xe/+RoyhV1g/8nNqFG3M8CUjaV3JnXz2DhRuOYmTieMiWZUqztyzjWUed4l84MGvIyex/Z4BY+gppvXozoiVu9kxrSM1W83kUgzEeP3JhC5VKVxnKCtm96N1nXLkz1OcXlufvHpZpi2SzGT9A4rvdob3HcOaXdtZMLA57WfdSmyIIvBcNZxvf5rK0qXf06BMI0buMQXzfRuZZNqyzLRJuHaSc+FFqP2x63uPgGHw2cOPH+cjp1MDRp/0xwhE3dlA7yo1+GbnQ7xPLmZo+6oUaTabR5mQemaKkB1Mne/Jq7dJ9C3Wft+D/pNWsXnNJPp0ak3dhsM5lQnzieH2CuYdL0aj+i91qVocG7emzpv2VAyKPaUruL+eRzcrS71yj1gw52jW8q7y/sh0H0vxkxPz+0vtvOaiMc8njX49Jy8H+rImG3x34s/8IMXMdOLSZ5+k741TxHd1O3H9aIrcSRw10N+fKw3sckqj+V4iooj/goZiaV1Dxpx7LoooErSyleTIVkx6bvYWvYjEnRosxWwSxYMSK/v75hfzvG1kwfUwMSjhcnb8R2JnXlyGnIwWidsnX7lYSYP5idK8uGMysNDrobdYj16S16qJLA4y5cVwf560bDVTTCMaJjGhed4e8kd4ypIkPzd9CaJB7s9rKa1mPjAN+cWdlh+Km0veHn9IKkmnEAgq/gukoaW11BhzTp4rIkrQSmmVI5sU67lZvE2VIoOL2Uj9OT6iiEjs/r6S3zyvtFlwXcIMioSfHS8f2ZlL8SEn306qGB8rHr3yilWTxWIqrkEezawj1iV/knMmU6T0cHKR3ntiRUQvV0eXF4vcjWTa5XARiZS9X7mKVa2pct+Qvkgy8/WvF88xlaXquOumYZ7w3TJ1zkWJF0X8NnwuFbtuEVPy4bKrp4tY158jPvq3KHdMOrLMNDHIvcnVxdKlt+yNTeewdyDy4NdSyKKUDLuQOC4W6SFD+q0SP0VEJFL+6O4klon1nZ7UMyV6uTGukpjr8kjFTzpIhw4dpEP7llLbPZeU+vGsxIuIKIGytYu7fDTpVuIQm16uja0oloUGyrEMpZEGeTTzY7Eu9ZOcTyekYtyZH6VC5ZFyNjrpb03vhmxpiDxV/vdkfpGXNh8fD1zEkavHmdsmG6cm/MiixC7vu8kG3wIxxZ5NSEhIfzGA0ZffVx/AskpNiiR+Upq5d6F7PYUTazYDWnLY2qCxKES5CrnQosXOrQC5xImy1QtgBpjnd8XZ6IfvUwMmvYYtuvxVqF/aHp3WjppDfqB1rkfs/fM6AG8Mtmk0yUffkqDgtXkDl4Ovs2z0CEaMGM+u8FLULiEEZnolRxoSRMWLzRsuE3x9GaNHjGDE+F2El6pNCQlMdZFIcoGgNoctNhoLCpWrQC4taO3cKJBLcCpbnQKmSsHV2Yif71MMgNbODltdfqrUL429TotdzSH80DoXj/b++VZSxcIpgobrKPjlMo5u/ZGqZuHcO3oJ3/hQnj1XAA22tjZoc5ahRlk7IBtF3PNDSCCB6YokJQv1ryVnXgf+mt2VXgvOEJS9Od/0LouF8ogNiw9RqHkLTMnb8X/snXd4FMX/x993l957IaRQQy/SAtKlR0B6i3SQLkX4AdKUJogUASF0EOmoaAAVBAmgCS2UAAmEEELKpddLcne7+/n9cYHkkqshSvQ7r+fh4cnd7uy0nbmdmZ1Xv+CHSPx5JrwTjE+373MdskxtVUBIx9VrD2HRutNrDUplY9NlBiY0e44TB66iAEDW+YtArwGoJgYAMzg72ZXUe61STx0XENfFiM1HceLECZw4fQZnDkxD8+ItSvi477DtJ3t07+tf/FQjhr29DQwxmgEc4mLjIdg7wVHbIyX/DPu2xmD4zsVoq7Y8Twx7R3uIE57jOXNTvhWMXqdp5tEOM4NX43q9KbjzQA7U++cXXJrU8kdNM8KlmGgk8njd8ZSDS8BLKQeeLy11sEVtldFP8znFsrzSf4vBQamtdbCqB38fMUJlxj78K/E8LhGmjVfg87W9K2G7oFISROVzxCWaovGKz7FWk3WxAmGrd7JiiMQApz1TUM/fB+JQWYWkihpjYO8OkzObsej76ug6sBlqWgNpWn6ZiEUiAKRHJFlkRP6L4TspGPuejMTUuV1w/tA4bNi3EWNqP8GTODEsLUr9KDOzh4MZoIiogExSjyxTI4V/IfQmh6YL28POwFOMxqQ+Ro/vjA0r9uP8qgbIu26Nvl9oe0lDrEXqaSgSOAVMxjxrE5gAUDyMRLTSHkOcK/bDV6HkAIlES0OXjxtfb4J0zE4s12RPNTOHKWVBXm6OmPFPULESt6uJmtU84VXt7bzpJHYLxKAu9uDu/IhTT3T8JJN4obqHCEmRd4vnGFTwHA9Tn1qVExnKh6zQDLXr19XwnbZbUgAghq2NJdLCrkLdjRiD2/ezdCyhNWB9q9gWNpZpCLt6D+pB38b9rH9ifSwhX1YIs9r1KyRVVEMAAA4PN36AwIMOmPrpJPSqY2XgL2ddIkkyIv8FpCWK0WPTVdy/8jX6CycwefByXOPsYW+di7BLYVAPPgZSD+PTrVOWqaXYFHeuICy3dpn5JjliL32L4AMX8FwBAHm498sVvOAFpITuw+FwY98ZEMN76AQEis5h/7bduOs2CO21PaVx2qSeRiDxRvNm7si4eAy/yUxhysfhyZOK9BASVKvmBlFuDrLK3YpyPD68Dr/VWYRlvdyLG8J85OWXOiInB0V27nBnLzy9FQzqnBSpsXieUfIrmY+5gvue4zGuWNpmrGzwjRF7YfQXn6G77U2sm/I5/pCqd1CyR0fx6ZydiOB8MXhMT9iGH8OREqMf/rytRO/Jw1Vxf/XL9tXNLxAIAni++HMqFueV7mgUCiiK/+Sif8Pl/EBMGuIFiOxgb0OQxsdBCaAg9j6iswQo5KrGRmRhDjPkISeXwOcr0Lx7J7hGbcHkeacQnc1DyHuEI8v34LGtXbmCUT83X7cE0aw5undyRdSWyZh3KhrZvIC8R0ewfM9j2NqVL/JyAkHh1ZPm60xRiQ95vvhzKs6O0lJBBRQlmYLfLucjcNKQCkkVAREszM2AvBzkEo/83ARcvRAOmYUVzEWAIukZ4nMJCrnKCMwLAtR9h3xxeekSSVoakf8cor4NxrlMCdzbTkHwwblompGAZFFz9O3li/j9szBz/22kyjlk3NiOpcfiYFezAjJJHbJMDcUGgMez0OuIdwlAh0YlPxQVt3bhu7R3YB6yGgejOCA7BGtXnEUSD/DSKzh8Jrp4sYGA5DMrsfmqAWZlx0BMHuqCi1/9AZ/BTUo9iZAqvwXV6jkhU5vUU3OwCp4DoKrLajn+/CQWrLkG84490NnlJU5uPojoIgBCBh5Fl+7wZYg8sRHbf3+pYSGLCep2aodq0ueIU7s+h+fH/g8bnrdED08p7t6+jdu3ruH06g34MfW1RRPJ0nRYtGiH1sxN+XbQPy1VRJdm1iJz+3rUb8562rbtK/r8s+10pZQJznDZYOUie3ySFvdvTO7VGlPvD6fRvHlTKGjocBq3YDfdyCiOHy+lCysCqVm7IFoVvIc2fTKepm0Pp0yeqDD2Mm0a5Ecmpo1owr4wSki+Q99Na0GWEmfquuQMRSZF0/nPe5OnxJpazz5OESmF9Nf8+mTqHkDDpi6ktV8uo/EDxtDmsMzi9yOKKGJDV3Izd6a6rbvRiBVf06w2ntR40HIKeSYnPv00jfG2II9Ww+iTPeFEvJQuLutGXuYiEplZk6t/IK24mKLx3Q61c3dd0CtBVEov0rJuXmQuEpGZtSv5B66gixoWrJQTCCbG0OVNg8jPxJQaTdhHYQnJdOe7adTCUkLOXZfQmcgkij7/OfX2lJB169l0PCKF5H/Np/qm7hQwbCotXPslLRs/gMZsDqPM10VgvFQx/fQY8rbwoFbDPqE94Wn0cEt3cjUxJ48m3WjUsi00u7Ul2dbpQ0sOnKTl3VxJYhtAc07eo6SY87SokyNJrFvRx98/ojzK0iySLK4bhuW/nK7Mb00tg9bR8d8u0NFlQTTm6wgqJCLKCqPNg+qSjUREYlNHajzyGyoJ3vh0a5VllqHo/jFavfRjer+ePdn4dadpy7bRxcTit3Qy0ykjeT8NaLOA/pQTFf0yhVqMP0MyIuJf7KetJ0reHuOyUinDwNtW+WA19Ri8l5Jex6eQYq/spolNLUji3IUWn75HGXJdUs9SCeGz6O7ptTSsnjmJxDZU970RNG7CRJowYSyN6NeB6jqaktOw45RLHD07Mo4a2pqQdbVG1GHQPFo/tSVZvFoQIQ+jhQ1NyS5wNyVrunGUD2hVu0Y0+8qrRPKUcnY6NbQSqctTISaH/vtLwuCltKdvHRp5It2wzGFUOoat1uPz6MW9MAp/8IKyNb6VVkjpKdlv7WVQZWYcPbjxF4Xfi6FUbSuWuFxKikum/DdaUCinv+bXJ4tWKykyN4XiErI0vKTHk0waR/GZciKSU36++p3P5SZRQrr6Z7wshZ4/TyGZnrhpOlc3PMlSntPzFFmlvMyoDflf86m+RStaGZlLKXEJlKXlzUUuN4nikvMNjAtHuUkJVJJcjvKSXlBK8YoqLjuR4lL1LtcqFckMevEiXePqTkPyn1Mqibh8Sn72lOI1JFCe8YJepGuOj3HpJiJeRinPn1OKvgqhg8KQSdR62gUqIo4erepAfb6REk8cxRzYQqdSeCI+mUK/C6bVizbS9XxDQy2ivHwDXkvl8ijpRQqpioqj7MQ4MqaoNCJLofjkfOKJp+dfdSjpnIiIy06hdB0rFfP+XEaDPj5b/NKtYSjvr6V+Q3bTs//kG+7/DgybNBLbwKdJG/hoPcACzm5vz0xn4uiLRq18dR8ksYWnr63uYwyFAJGVGzQHJ4aVu+/rfbmsy8yzSmw94VX2DCs3+Pnpv6ymc3UjhpWbHwwIuhIgQGQFNx15LLH11JJnGo+GraeX2t82nj549Sq4xL4a9JS4OmZO8NFSgQ3Jf4mJCQATeNSsrSV4H633h3HpBiC2gpshFUIHZo07o/m3F3DsZCLScz1gEnccR/cUItG+H2a7icG/fISCuo1RdPigEdsOmcNGw7qBckhs4OnzuqRgX82oktKMlRu8rQCALzeVK7F3g6bXHV9h0/ZTrIn9HFvONMKS/j563wUTMq9i0x7C7B3jUZPtNfnWqBJ7t/57yMPLxCzwaXF4ngs0cHzb8aka5L1MRBafhjiWKVUGsc9I7DzcD6kZHByGjMHsggxkKu3hal98y3t3RfuoGdjUOAjjk2ORX7vm646/SsNnIvJxAniZF1JkgGHLXM1Qd9RSfHj+BH6LHYneunocIQM3L2eh16pFaFxJv2UZFYPJBg1GgPTGj/jtcS4EEkFs7oGWfXqiwdvaL6aKIEhv4MffHiNXIIjE5vBo2Qc9/9cz5V8Bj5ito7A0vT1aN+yC6UMbourP+8sQfeEMwhIVIIhg6tYCgb0awYGJf/6TsM6JwfifhUdREQ8Li6rfLTH+92CdE4PBYDCqHBWYcxKQ9tcxXLMeiAFN3t4iCADgon7CN2efQEGAyKQ2es/4AA00pYiX4vqBb3AsohA2jq5oNWIaBjb4V4ywMxgMxv8kRo/WCokn8PHQiQgO+6feuNWOSb33EVT7Eb5eOB/zFx/CHY2bonO4t7Y/ek7eCmnAaHiFrcTwfp/iyj+zgTqDwWAwKoBxnRMfhyMbTiDub4qM8Yhh5+UJe12p4B7jxx8jIBPZwNnFCu7+LdCiRT24sElUBoPBqLIYMazHI+bAFjztPg0dL/yGu2W+5TgeJiZGvBSgyMSzu/eRaFoDTZv4wl4CyFLikFpAgEgCGzcfOClicfteMuwatEE919JRLYL0wS085Wqgsc4ZMw45iY/xIk0AIECWwaPNZ7/gL2fVcKQ8LQp3HmbAtm4zNKhmXdxTy5H5Mhk5nOq9HVcfV4gS7uBOhidaN/eqhA1aGQwGg6EPg58fFA+DsTV5AOZ2syu36aaxssGcv9ahd53mmPV7Bl7sHYLm3VfgjwwlUm9txoimtVCzVgtMXL4QA3v0QK9uHdC4YR9seVi8QVneTWx6vw58WgzFvBVzMP3LK8jUtpepkI7r3x5BeKYACLmIOLYe287GgOOe4djUlqjR5Qvcz4nFzn610WhUMO4XABByEH1iJjrUqYma/qOw+ssP4F+rNTq1ehdzfmd75zMYDMY/gkH7SBRG0MYZa+nPfCJShtPChtbUMzj19ddGyQaL/qQFDUxJ7DCMjucRKe8tp3dMTanZsghSyq/SnLomBJEVvbvqHuXzGbS/nw2JYEpNl0aQkuR049OmZCYSk0fQacoiovxfJpOPBCSyHEDfyjRd7zxN8pIQJNXpo9+KiEhJkV+8SzYiU2q+7B4piae4TZ3ITGROjRf+SUVULNszA0HsQJ1WnKOfV/amWj6daPVNA7ZuYTAYDMYbY8CwngxhW/aCxn6JttaAJuuZSjZoWGeouPcTzj5RAo6ZuHf8AGS5z1BAHOJu3EQW6qsOElmgRoO6sBYDzs7WEKEQuVnZ4LmH+OnnR1CQCeq3agU7AIKzi5Ydm7XAPcCxIzeQT2J4VK8OE4jh6uUJK8jx6PgR/LmiLTq9cuxI6qHX8B5437833l9ixDUYDAaD8Ubo7Zz4Z7vw2fFYVI+bg6l7AFAGbkoVSD+2ENOedcI360YbdUEhNQUZAkD5SphWr4GaFhOx8+JEiG38YIWX5Y5XG0LkEpGYygMwhZWNLcQwyG6kDpeEpDQeEElgbqGaQRKbm8NMBAgpSUhW23ffBCamxl6AwWAwGG+K3s5JZNsaI4J4pL5W+1jjuYUIBW5+qOXravwF3T3gLAGkXB7EXu+iUykPDRTlOyc1xM5wthcDUkJBXh4EaLNx6oqAD3yqSYBkgkKhEpgJCjkUBEiqecOb7TbIYDAYbx29A2Jit3cxeu4n+OST4n9zR6GViyl8uk7BvGm9ARgnGzRp2g99/c0g4u7h4LqTiJULkEUfx/K1Z5Em0Osdh0v+L/WBWXME9vCDiYjDo5s3kAMB6U+eIo0HICih1CjLpNfiPE4JwKQBhn/YHvZiASkJL8FBQNrLJBTACs2CPkQbMwD0SrbHg9dmImcwGAzG34fRs1TKO7SkqfqCCGNlg7nhX1G/GlYkFonIxNKBary3lC5I5RR5KIgaWooIIhOqMSCYbt09SENrm5IIIrJsPJaORSmJT/+DVnTxIFNTN2r63vs0fHwfqmNmSU4+79CA5efVL8Rn0l/bBlEdU1WYPr3/j/ZeTyGei6Mf5nYgnwZDaN2+TTS6aXVq9dF3FC0nIi6ezi3sQC5iEES21OzDTXQp4e+0ITEYDAajLJW0t14RMlLlcHCz1+tKeY1QgJTox3gJLzSo7/Haf2QYcqRFRSLetAaaevFIk9nD09n4zSsFWTKinmbAtlZ9eNsycQuDwWBUFdjGrwwGg8GocrBNfBgMBoNR5WCdE4PBYDCqHKxzYjAYDEaVg3VODAaDwahyGLUrecqjG4jJKn4bV5GGIrfeeK8h26ebwWAwGJWLwZ2TkHYKH3cZiePFW0WIXQbh0MN+f1vEGAwGg/G/i4GdE4/oQ+fhczQbyo6WAEQQiSWQsEFBBoPBYPwNGNa9yC5j28E7ePLzVhy8EIUcUfmOieN4zecyGAwGg2EkBnVOiscPkeViivsHVmBSYDPUbjUZR2NKNp0zVjbIYDAYDIYuDOqczFp+jCOXbiNWGodruybDP34fJo5cg4jivsimYSDGTxiFLn5sS28Gg8FgvDkV2r4o8+eJeGdwOEZdj8DqlqxDYjAYDEblUqElDU49BqO7uwzZOWyeicFgMBiVTwXX2xFg6oc6tZgmlsFgMBiVjwGdE4fE8F/x53PZ60+yLp5BTOcZGOmjOt0Y2SCDwWAwGPrQP+ckvMS+Ac0w+aIDuk+ahG7u+UiWN8T4BSPQoFjClPntQNSaEIlxv0diYwfjvUoMBoPBYJTGsAURfDbiHkQhWWkH3wb1UM267ANXBWSDDAaDwWBogckGGQwGg1HlYBsQMRgMBqPKwTonBoPBYFQ5WOfEYDAYjCoH65wYDAaDUeWowN5DCkjvXsBvYQmwajkQg1u6VvzqggxJD2/jZkQUUk2qoV6jJmhczwkvb8fAu20zOFQ85P8UspuHsOHnZyAxQALg2nEypnXzRPqV3dj+exJEIoJSCfj2mY2J7Z0gVkTi6JrvECmYwQSOaDtpJnp5V2QdZR6izp/AT2HPwdd8H+M/DIC7gT9niqT38cevD2DVawQ6uouBIinu//ErHlj1woiO7m/9VxGfE4Nr565D0TYI3f3+C2tMBWRd34ctv74ExABxSogajsDiEY1hxr9AyMZdCMs3gQkIkvpD8H/DG6OqvvShu2yKIL17ASEx1RA0uAUsKvviijQ8vHQWD+z6Y2g7x0qtp/+WOlc2ntyzEOz4xRT9pvSE7z8ZbTKCvAff0fwB3WnosuMUkSI35tQy8JQZvo3GtPClBn3n07bj5+iXnw7T5rm9qY6jFVm1/JwilW8Q/H+QvBMjyMm0IX1yPV/t89RdvcjCtC2tflSk9jmfFExD3p1OJ2NkxFfoinKKWNuLhgXHU3bY59TevQUtjzCsUOSxl2jnRy3JxrQFffZASSSPpUs7P6KWNqbU4rMH9NaLNvs+nVzYldxN69Ds0Depx1UPLuEgDXSTkP37uympVMHn/zKVWnX9Pzp+R0pF2k9/++gsG54SQ7fRqPqmZN57N2VW9rX5TLpzaDK1sDaj9l8+I64yw/631Lly8eQpaf8A8qg2nI6k/7NRMbhzyrq2kjp71aWxJ1+8caEVRXxJXZwtqMH085Si1nLylH5+OjV+ZxGFV3YLpoyivVt/rPwKXRkYEDf59XlU17wB/V9Y6YrNk3R3H7IxbUOrH5cuFY5iD39B+x6/QSYWXaApNWrTjMuqpozjjCt15c3F1MiiuHNSfUCLG1lUjc6JiLinX1Bbi6rYUBRS0t2LdDx4HS1btIgWLlxIi5ZsoQsJhv7EKKJrc/3J1GkAHUhWncO9OEOrl31LkbK/L9blUVLU3q30YwVuON1lU0g/jnYhi0rrnMrEs+gyzaxpUfmdE1XlOqdOVYmnYU+tWb9g8fhViOu9CZsG+2h80dZg2aAQjwOLVyNU1A9LP+sFN7UYiOHcYwk+6WSKIuHV8Rw4HgBXAFlpXZRQhHwZh/IIkOdkIPt1AACELIQuDcL8kGQoyx2uLRwDwtV6qBwFRZrzQyjKh9rldMWtFBIXVzgjC+nppa6ffx3fXc+FoygL6ekl1xNSz+F0dheMqGfIqC2PgjwZyuVAQRxepAgQiUSq60u0P88L8hxkZBdBLWckYkhEah9ArP5BpcAX5EFzNdBSb6CALF8BggjlYyNAXlCEt7WdsSC9hJXDP8Dsg3eQ79ISfYYNx4gRIzBieF+8Y+h4KswRMHUy2hadx459j6GQ/oINe/MwYHEQGloZFAsdeaClrgAQOA6q7JZBAQFZoUsRND8EyWUrtc77TVfZlKbkWy4/DwUG3JKa0RBPkfqVOVk+5JrCN7jdAPSlq1yb8PoL7e0IOBlytLR/RfmayoiHQqEKiyuQQW5sPAUOXOl84BVQBcehQKY5NEGej/w3UPwZUOMFxB/5Coee+6F7y1TsmD8Ts5d8hRMRWa8bI2Nkg0LKefxwJQcWAT3R3VlTjDwwau1iBOTcxpHPxqJT/a5YtHs5utd0gUefbQCfhN+3LsOSFSux6MMA1OswC9+/4AEIyLy6HmNGL8Len77H+qFt0fermygAkB9xGrtCHiMvJgRrF6/G6ShORzjl068t3PLwiD+9EJOXHsCZ09swo/dAbIxUVRM+6XdsXbYEK1YuwocB9dBh1vd4wWuJmwYkbq5wEmUjPePVXaTA/SNhqD4hEN6izFKdVj6uHX2CxiNb6x6PF9IQumEixs3bgN07VuHDzm0xcNVFSAVAEXEIS5edwmNlFsL3LsWiJTsRmlH+DhUyr2L9mNFYtPcnfL9+KNr2/Qo3NWeMHng8OzwKDZyc0XzicUTnJ+KPzwPh5+iBjnNOITJbgJB5Exs+aILAzQ+hgIC00A2YOG4eNuzegVUfdkbbgatwUSpASNNSbyDDw4MfY+yM9di1ex0Wrg5BfKkk8fGnsXDyUhw4cxrbZvTGwI2RGhthyKMRsmsrVs6ajT0Pim9KQYpf1q3E6Tge4ONxYnpvTDocb1wWyCPw5bQdsPrkJI5vnI/xA7uiTdMmaNKkCRo3rAEnI2aHJbXHYHo/O9wJ/hjTNiegx4JRqG+u/zyteaC1rghIu30En43thPpdF2H38u6o6eKBPl+dxeldIXicF4OQtYux+nSUnvtNd9lopOgRdoxoCT9PZzi6vYOx+yIhgwwPv5uIlq6OqDXwC1x5IQdQgGc/zUL71pNw+nmZ+zs/onw8ixGyQrFmVA90aO4DF/+ROBRbfK7B7Yb+dGlrE3S1I8iJwL6FM7FgXTCCZ3dFo26LcTZZG3cGKgAAIABJREFUAMAj6fetWLZkBVYu+hAB9Tpg1vcvwKMA0T+vxKhWNdFh/h5s+qgfOjSpDlf/8TjxUtAbT/5lKHbMH4hWtXphUywPFETj55Wj0KpmB8zfswkf9euAJtVd4T/+BF4Hp4jCd7PG4ONNu/Dl2HZo0vZ9jBw/GfMPReop1DLof7hKpd19rEjs8C7NO3qV7t65TPtmtCZH63o0LUQ1CKmMOkFL522kyyn6hx7k1+dRXRMJeU06r3fsu/DCFPIxdace68NJGhdKp39/Qk+/DqS+X8WoHrmLrtE8f1PyHPMDZXOx9FUHK6q/4C+SE1HhmTHk7jWBzhYSERVSyHhPsuixg1KIiIjTHk7ZSOgMtwzKCFraohUtv6cauMr+aR1tviEn4p7S14F96asY1UBB0bV55G/qSWN+yNYQN22ZcYbGuJlThw2xxBER9+wwfbE/ipRZ++h9C3Pqs0c1LiG/t5PWHk/QM8/EU/z+AeT97hf0qHjsQvl0C3W1d6RuW6NVR7zYRJ0ta9LMP7Q92nMU+1UHsqq/gP6SF8fP3YsmFGeM8s4SampZeljvDi1paql9WI97RGsCLKn6xHOUr8okmudvRQFrH6vKiJfSvqlz6VweER+/nwZ4v0tflESetnS1J8duWyma01RvnlLGmQnk/+4aelh88cLLs6i22auhCyVFLG1BrZbfU8Ut+ydat/kGlU+5ku7uXEPH4wvpysf+1HTRDVISES8Npl4OnWjjc56IT6WzH9Wj2tMu6iyBsuWRcmg0DdkWW2lDSYUXppKviQP13Ztk4JyjtjzQV1cK6cIUHzJ170Hrw6UUF3qafn8mp8KQ8eRp0YN2pBDpvt94PWVTLmX042hXMq0xir6LKSQqjKWTE/zJzOIdWnZLScQn08EBzmTVfj1FF8c394cpNGp7nMZ8UI8nEcn/oJk1Tcn7gx10N4+I8i/StJrm1GLFfVIa027oS5euNkFbO8In0uFhzSnoeKoqLdlnaKyXFXXZHEeKp19TYN+vSBVcEV2b50+mnmPoh2wqvvfMyKXberqVTUR552iitwW1W/eUOAPyP++H0eRu3o7WPVXFVXlnCTU1c6Fu62+RKriJ5G3x6nuOnm3tRi7vbaVEnohkF2iqnwW1+vwBFRk5+a3/9xgnRYJUCYtOk7F8eHvYAmi6KRhx11rjy01HsT1wBkz8h+DzDQb3hgAICoUC+vZNMnFwgp2kGgJ6vgN3XxMMrP4IqxbdQmq9XViySAyAR3aD9qhHUiRSP4zbdQk9nFvCJDsKv9yMhzzTDhmaftTw0Th2WEs4HGBfOlckvoaHK3aEp/MTLAwaD5cdX2Jq72mYwJmBjz6Gw7dSUW/XEqgul40G7euBpIngUNOwfBO7wNURuJWeBhKscPZUNrrO8ocJouFiB0SlpYLns3EixAT9F3jpfiQW4nFq/68wbzkbtYpH60xqj8Lozksx6cAxYMYyAyIkge+4XbjUwxktTbIR9ctNxMszYacxYwwJzh9BYzpi3WdH8GtObwy08YSXJ+HOiaOI/OQzNIo/iZuug7HZRkD87v341bwlZpdEHqNGd8bSSQdw7PEULC5bb7yTERx4GhZdLqFucdmaVvcqNaQshqOnM54sDMJ4lx34cmpvTJvAlV/Nxr/Ac+cu6OcegaUXCtBiXX2YAJD9eRX3qrfFZ9XFgNgVPT4agZ5Xarw+Le+XxZjzLAg7pzfQsjxWgbArafD7IAW3wlPLfSuS2MO3cT24G/D0AwDIv4WDlxzwXkslvtuxBw9HL0VjvXe6ljzQW1cWw8HJDpJqAej5jjt8TQbCF0DR49L5puN+U6Tg6g5dZaMZSb3O6F3LAkANDPxsNrocn4WzIY/xWYvGGDrnQ6zuvgc7rs/Epo5F+PVXJbov9zZi5Z0Evu/2QCMbAEJ91PcT4UxSEnheYni7IaTgpI506WwTtLUjsYex40INTNvjqkqLfT8EP0yE0tYWT9ccxq3Ueti1ZBFUwTVA+3oEaSIH+NvC1loMx0YBaGwPgK+F2tWBK1IpeMFaZzwBwMzZCXalxvlEtrawFjuiUUBjqIKrjeq4AqmUB2oTntx/jHx5L8gJgFUAOrSwwLnkFEDcyOASAAxZSi6yga21SL0jMamPgJZu4P54ZtTFAMCklj9qmhEuxUQjkcfrCq8jAiXDwMrniEs0ReMVn2Nt7/J3quBugjObF+H76l0xsFlNWCNNcweoJxx1xLA3NFyxLyYF78OTkVMxt8t5HBq3Afs2jkHt53FING2MFZ+vRfnLFem5fjESN7g6A1lp6cgKvY6Yd8ahvwUAhQtcHIHM9DRIQ64js+tM1NdXqlwCXko58LxQKh22qF3LA4iQGhYfAGJ7d5ic2YxF31dH14HNUNMaSKvwTo1ieA8Zgx7LZuDwT2noU3s/7jSZjA6HTuDwzQUIuhwJv6FTYAYOCS+l4HgeQqlr2dauBQ9EqG4QB0C93kThQXQRLDtZaZnLEMN3UjD2PRmJqXO74PyhcdiwbyPGlL2XJLXwweBakF+eiR8L+2BbVxsACkRcvQmTNiPQpDjfuVQr1AqoXhK3jvPxZWdHHTebgKLCVDy5+gvOW5b/VmTigY5edeHuaUDzWvAAB9dfgt+slRjyTjzOjdyLbRfnILiXjZ4TteRBXQPrikjHPJGu+01+Gd/oLBv9iF0boUE1Ec7m5gIALNrNxPR2+7Dq69NY2FCCy5KeWOVR0UXhYohFAATBuHZDT51T6mwToLkdefIEcWJLWJTuOOwdYIYiPI9LhGnjFfh8bW+UC67c70Wx6t4gMuDeMACxquxVu7Saonm3TnA+fgYno2diQb0sZOa7ofPIZjDW/qe/xCTV8E5TLwiJ8XhZKpGWluaQOLkYeTlA7BaIQV3swd35EaeeGPkrW2wLG8s0hF29pzahp4i5jftpD7Dxg0AcdJiKTyf1Qh0rLVkt6Aknq8xgN/fQsHABQEhDorgHNl29jytf94dwYjIGL78GztYGlmlhuHpP7WqIuX0fapfTNc4ucYGrkwjZyVdxKMwHI7s6vP7cxQnIij+Pb6ObICjAgFlviReqe4iQFHkXyaXHwDkepj619J8PAODwcOMHCDzogKmfTkKvOm9QuV/h3Bdj+1nj0uG92PVtOnotXIxx72Xg9N6NOBjfFMPqmwCQwKu6B0RJkbirHnnwpj6oVVNDFyCygKU5j/inT7X8FBCQlihGj01Xcf/K1+gvnMDkwctxTeMUKof7F66gsGMfdLACICThxu00vNMhoHiOT4YrdwS0aG4GQI7YS98i+MQtZOu808zRpKkfPDp8ghUrVpT7t3zJFHQxpGOSR+Po+hC4fDQPPT0kcOo3E2PqJuHE9uNI0rtoQEse8G9aVwTd91u2mZ6yMQQBvGCFug3rqP6U1MToWR/A7Pw2bNoeCss+veFoSDz1YUy7oafOiXW1CZyWdsTeHta5YbgUJit1jgzPYpJhZWOJtLCrUA8uBrfvZ+lOmd57w1jEcB8ajBOzHXDhyxVYv/kYMOMsvhnobPQ7YwYcb453xwShwZOfcPpx8aSckIqHUTlo1r+f6k9jZINiL4z+4jN0t72JdVM+xx9S9Q5K9ugoPp2zExFyAEQgCKBXh5g1R/dOrojaMhnzTkUjmxeQ9+gIlu95DGvuOi6Ey2BhZQ4RFEh6Fo9cUkBeBAAiWJibAXk5yCUe+Qp/reHY2qlniZB5VUe4ZeCi8G3wOWRK3NF2SjAOzm2KjIRkiJp3RyfXKGyZPA+norPBC3l4dGQ59jy2hZ24TNzyta0osICLix0U4RGwHPgBXrdVEje4OomQeS0aXsN7wsmAIoDEF4PH9IRt+DEceVWm/DP8eVuJ3pOHAwCI58ETD57X8igkZOLqhXDILKxgLgIUSc8Qn0tQvMoYniAQoWTPex4kEEjnJvg2eG/cUHhcWYV9dkEY5OmGfqMDoTi8HYntB8NbDAAS+A4eg5624Th25HHxogUez/68DWXvyRjuJ9FQb5qgZ2cvpP34NfY8UsVPmZqGLKEIhUUEgEPUt8E4lymBe9spCD44F00zEsqvNFMlHAUyOZw83FVPQkVRiHphD6/q1qpvk0Jwy74n2pkDituHcKawDcxDVuLAI10ruySo++FgKIK/wLUcHYfpIvsGNs/ZA8nY+Qj0Kh6OMGuJKVM7gb/wDXY90LeyTEseCAbUFSJAILUf6CILc5ghDzm5BF5RR/v95tJMT9noh4u+gluWQZg1yO31Zw7vz8XkBnex+TtzvN9V+1OjWjzz8wESIBAgCK+adB68AAgkgHS0P2XbDX11zkxXmyBoa0f6opdvPPbPmon9t1Mh5zJwY/tSHItzRMvuneAatQWT551CdDYPIe8Rjizfg8e2dhCDhyCg1JMvD54vftLRe28UtwUQwL8qYF5A6edo8Dx40OtPsi6uxCbFbJzcuwYL5s7H9Pdrw6CFomUxbGpKRnd3DKcW7T6kdd+dpsOfjaI+E/bRw+IVDRmHBpCDaR2aY8S6eNnjk7S4f2Nyr9aYen84jebNm0JBQ4fTuAW76UYGT3xKOB2c3prsJLbUavpeuhyjevmUl16kZd28yFwkIjNrV/IPXEEXU3gi5UPa0t2VTMw9qEm3UbRsy2xqbWlLdfosp1+kSko/PYa8LTyo1bBPaE94lvZwyqIz3DLHy6/Q/NYtKWjdcfrtwlFaFjSGvo4oJCKepBeXUTcvcxKJzMja1Z8CV1wsfseLLxc3zcjpz/nNqOWScFJfi1FIZ8b4Ufu1Rr4/xEvpwopAatYuiFYF76FNn4ynadvDKZMn4hL+om8XdCJnsRk1GLOdztxJ1jCZrKSHW7qTq4k5eTTpRqOWbaHZrS3Jtk4fWno4hPbPaE22EkfquOAo3UyIpz/3z6DWthJy7LiAjt5M1h4v5QNa1fV92hZbPJtdeJlmd55MZ/PUIk/SCysosFk7CloVTHs2fULjp22n8Ewd9Sb1Cq3u40c2TnWpQ5+hNGnuYGriXIe6TfuGrqcU0pX5rall0Do6/tsFOrosiMZ8HUGa1rwQERXd3UIDun5I64+cor3r1tOWZQOo8+gt9MOZA/Tl5/vpRnFc+cx0ynixk/q2+5Ru6i0cntIvr6ABfT6ibb89otRCw2aP+eSLtHnOaOrm70Q2dfvTthslLzNx0afo0wFNyMnKhrw7jqdF2y9R2Spbglx7HmitKzylhB+k6a3tSGLbiqbvvUzF2U18+mka421BHq2G0Sd7wnXeb7rLpmyEOXp6aDy1qBtAHy7/mrZvWkHTx8+lbx+WfYmLp5RdfanlwnCd94VaPHddoHtHPqLmFhJy7rKYfnqUQtHnllN3dwmZNZxAh+9nkdLQdkNvupTa2wSt7QhRVthmGlTXhiQiMZk6NqaR39yivOIyurisG3mZi0hkZk2u/oG04mIK8SSn5xeXUzdXCdkGzKGT95Io5vwi6uQoIetWH9P3j/J0xvPSjcu0e2JTspA4U5fFp+le8jO6uLwbuUpsKWDOSbqXFEPnF3UiR4k1tfr4e3qUx1HsvsHkbS4ikYk5Wds7kbu3P707ciP9qa1p04JxPid5BmKiEiDyro9aTqWniysuG+SyXiAqJhkF5q6oUbcWXA3aj0RAQWo8UuEGHzerksc/Ph/JiQWw93GDFXjkJCVA4ewLV3MA4JGXLIXC2QvOZnrCKYvOcNUOBMdJIJJL8SJZCSc/bzioTZIWIDU+FXDzgZuVWO288nErT370fSRVb4K61up5kRH5AHl1msLP0AlztSjnITlBBjtvD5RzSOo/GfnJiSiw94GbFcDnJCFB4Qzf8hljFAU5eTCxty1ekCAgL1sGawdbDeXDIy85ATI7b3gYFHkBRakvkCi4oYYLQcbZwLa4vvEcB4lIDumLZCid/ODtoGfiTpGJuNgc2NasAWczQJERi5gsa/jVdEdJ0fKI2dALHwlfY3drKRTtu0Dfq2dc8l84sv8UQu8/R2bxsKLIvA6Gr12DIX/zljd688DIusLnJUOqcIbX60qt637TXjaaA5ch5UUy5E5+8NFYVnJcW/wR/gzaiwUNdOdb+Xjqw8B2o/hYnenS2CboaUegQGa8FOTuA+cyt5pQkApVcG6wMup+NjL/tSLDvT1r8KvXaAzyzkNKZi5k+TlIvn0UV92/xu7JHgaHxGSDDMbfhgJ/LhmAb0zeQ8M6XTFnVLPK3wuOoY7sJaISzeBJP2LWV1b4YueHMGS6jlE5cJGr0D7wCf7v/iEMsH/1qYCs0K9xhJuE6V2tdZ2uBuucGIy/FR4yGQdr6zd7mmQYAo+HKwPQfPkdwL0HNl76GTP0Ll1lVCZCys/4uPuHOCxvid6dG8DVtBA5+RL49JiGBSObQN+a0dKwzonBYPx3yIvChfOPYd2mN9r5sufUtwKXhsjQq7gvBdzqNEHTJrU1TIHoh3VODAaDwahysNFYBoPBYFQ5WOfEYDAYjCrHv3O2kM9BzLVzuK5oi6DufkYvX68YxllhFWkPcensA9j1H4p2jsb8BuDwLGQHfjHthyk9fQ1O21uzVTLeHCEZl77Zgd9TRDApripm/gMwbyRb3cf4H8a416KqAtl0/+RC6upuSnVmh2rYOfrvwDgrLJ95hw5NbkHWZu3py2dG7jPNJ9H+AR5UbfgRMlw8+fZslYzKoojuLG1OZu7D6Ii0sjV3DMa/j3/hsJ49Gg+YgB41/8HHA3kognfFwLWuG+zbLMUfieFY0azMQycXjX3bziALgNixOYaOaKfzyUorYk+M/T4ZiUdHQJPuSstJ8Bz7PZITj2KE4Sf9/ZTKE4YehBzcufMUFm37oKc7e/RlMN5u58QXIE+LzVFl1uVQoK4xhUKWDwWVE1YWn6bFTqnVilouQhWzwmqw2arHj4MsX65xA0ZtFkyB49SOVzeNaqGsrVJQQFEctjw/D6UlvnyBDOWkvqXtlgVarmJomekw/Go05wLgFQrV/mxcAbTINcHJcjRbQ7UaQMsfp930ykGWoyWMCtRVrYZTTRT+hau3ODRt3wH2+o9mMP7zvJXOSUgLxYaJ4zBvw27sWPUhOrcdiFUXpRCENNw+8hnGdqqProt2Y3n3mnDx6INtcQJkDw/i47EzsH7XbqxbuBoh6kpJjXZK7VbUchF6IyusdputgKzQNRjVowOa+7jAf+QhlAg1NVkwebwM3YH5A1uhVq9NiOW1mEa3xaldv5ytUvEcF7+ahE51mmHKzoNYOq4/ur3ji2ptPsXvD0OwetJg9G5XG54NJuJUkgAh8za+XTwMAXW6Y+HOxej3Tm1Uc3BGzcDVr9NqbJl9dfZkuTzRZs4tiP4ZK0e1Qs0O87Fn00fo16EJqrv6Y/yJl687sJyIfVg4cwHWBQdjdtdG6Lb4bPEu2doMoOXRbrvNQcS+hZi5YB2Cg2eja6NuWHw2GUIF66p2w6l2FHdD8Vd2LbTv6P0PzaEyGFWcf3wgkY+n/QO86d0vHhVbP5X0dEtXsnfsRltVGlOa4mNK7j3WU7g0jkJP/05Pk8/QBP93aU2JqpFm1TYrnnPSbacsb0V9VjZClWCFLW+zlf8xk2qaetMHO+6SSqg5jWqat6AV95V6zLh59MNodzJvt45U4knNptGylLVV8knb6D1zKwpY+hdl8ER8yl7qa2dJdcceo+dKIiq6SnPqWlOXzSpDaOEvk6m6qSf133aPsjiesv9cQe/am5L/3NAKldkzeXn7sHZzrpLuLGlKZi7daL1K1UnnJnqTRXEe8ImHaVjzIDqeqtpgM/vMWPKy6kKb43jidBlA1dBuek08PIyaBx0nVfDZdGasF1l12Uxxygqku0BX2WqDo6g1bcjcawKd07bbLIPxP8Y/vlpPiD+F/b+ao+XsWsW/EE1Qe9RodF46CQeOPcaMxQ5wspOgWkBPvOPuC5OB3kgODsRpiy64VKJqhFeJUlKnnbJuWSuqb7kIVYIVVgsSX7zboxFUQs368BOdQVISD16iy4xbG85OdqXcSCYaTaNlKWurFNvZwlpkBrcmzeAkBmDvBx8nQnbjNvAxASCuDm8PAWfjE8DBF2J7e9hKqqNll4ZwkIiBtnMxr98ODDv3M4SZnkaWmS+AIjxWi6Euc64pbG2tIXZshACVqhO1VKpOSHkeOLwDF2pMwx5XVZnb9wvGw0QlbB0IUat0GEDV1KRaTK98LA7vuIAa0/ZAFbw9+gU/RKLSFnYJW4xON/9olY6ytde8PFZIx9VrD2HRejoC2PI8BgPAW1hKziW8hJTjwatrTKESa0pRrDF9Pb8DKBH1IBpFlp2g0fOnx06pGrYRaZ6jUkWoUqywehGLUSLU1GXB1DLXo8s0algEyuSBGCIxwCm1TYpYoZ6/D8ShsgqUmZYYGGHOFatUnSAo8eRJHMSWFqXGoM1g72AG6DOAlkm/RtNr7Sd4EieGpbpeFA5mgCLC+HTrM5xqpPAvhN7k0HRhe9i9/lCO2EsncCHeAz1GdkcNszzc++UOHLp3gMX1A7hgPhBBbRwMvACD8e/jH59zknhVh4coCZF3k0tNiPPgeFP41Kqp4QwRLCzNwcc/xVPNSknD7ZSaI1QJVthSGCTUNNCM+1Yh5MsKYVa7fgXKrAwCUHFzrhj29tbIDbsEdQHoM8QkEmwNNoBqMb1y9rC3zkXYpTCoBx8DqYfx6a5I2SruXEFYbm21+SbFrV34Lu0dmIesxsEoDsgOwdoVZ5HEA7z0Cg6fiS7+GSMg+cxKbL5aOR5TBqOq8M93Tr6DMaanLcKPHUGJWPNP3Fb2xuThfgBU9lShRGOKJj07wyvtR3y955FKJaxMRVqWgKLCIv12yrJW1PIRenMrbFnTbn4BSBBAEFAi1OQhQAAJeiyYYgLP84DAv57UJw2m0bKUs1UKr54EX0VAUOUrzxd//spSS6WeGBVQKIr/4qLx2+V8BE4aUoEy05AnuQk6zbm8uqpTlQcqVSea9+0F3/j9mDVzP26nysFl3MD2pccQZ22J5joNoKXRYnoVNUffXr6I3z8LM/ffRqqcQ8aN7Vh6LA52NY1Pt+6y1VRyPJ6FXke8SwA6NCoZyDCpNRLTO93ETwlt0LOeCeThoYhp2B5NzcTwCOiC95vXLfZdieHWaQpGt1EfD5RFnsDG7b/jpZ6FGAxGleVtTHTx0gu0IrAZtQtaRcF7NtEn46fR9vBM4vkUCj84nVrbSci21XTaezmG8omI+FS6sroP+dk4Ud0OfWjopLk0uIkz1ek2jb65nqLVTqnNiqohQm9ohVW32e66cJWOfNS82B75Ez1KiaZzy7uTu8SMGk44TPeztFkwCyn2ym6a2NSCJM5daPHpCIr6S7NptDSFsVfUbZWJMXR50yDyMzGlRhP2UVhCMt35bhq1sJSQc9cldCYyiaLPf069PSVk3Xo2HY9IIflf86m+qTsFDJtKC9d+ScvGD6Axm8Mok69gmZUz/KZpNecuOXCSlndzJYltAM05eY+SYs7Tok6OJLFuRR9//4jyKIvCNg+iujYSEolNybHxSPrm1ivdrDYDaFl0mF6zwmjzoLpkIxGR2NSRGo/8hkqCNz7d2q3H6hTdP0arl35M79ezJxu/7jRt2Ta6mFhyYGHIJGo97QIVEUePVnWgPt9IiSeOYg5soVMpPBGfTKHfBdPqRRvpulq9kFPYwoZkahdIu5MNM+oyGFWNt7orOZ+XjASZHbw9rA16hBOKUvEiUYBbDReQjIONulLSCDul1gi9kRXWEJutGlrNuP88irAFaNblD4y89Tsm2+TCzMsLmgSjxpVZ2Tx5Q3OuIhPxUoK7j3O5+SVDDKD6TK+KzHhIyR0+ZfWiRqcblVK2QvwRTFtwD20HNUD6rbMIzWyPoW0KkWjfD7OH1Ifk5SVcTLHE9WUHEXByJ/qU9rjxOUjNNoebM1thwfh3wpQZDACvOqfLGHk7DEv0aK0Z/yBcPlIzODi4O0BSkIFMpT1cS61ClF2YgUEXh2PnpGpwqV3TKJkbg1GV+RduX8T4O8h7mYgsPg1xz3PfdlQYpTGxgZu7A8wASKyc1TomgEdyVDocLe7ihzuFMPSBncH4N8CenBgQpDfw42+PkSsQRGJzeLTsg54N2CY6/w54FBXxsLBgXRPjvwXrnBgMBoNR5WDDegwGg8Gochi2Q4QsHnfvvYRM7RlLBDP3+mhV29GoC8ri7+Hey3xoe1wTO9ZGq7r5+GXHLzDtNwU9fSUAiiC9/wd+fWCFXiM6VkxFUaVQIO3hJZx9YIf+Q9vBKBfh/yIVlUtyzxCiVo+MQYabhzbg52cEMQgCXNFx8jR080zHld3b8XuSCCJSQglf9Jk9Ee2dxFBEHsWa7yIhmJkAjm0xaWYveLO1JQxGxdC/2pyj51u6ko2pJdna25N98T8rUzNqs+ax0WvX5amP6fyyTuQglpBX70W0eetW2rp1K23ZuJYWjWpBHt23U2LCfhrgUY2GH0knIjnFXtpJH7W0IdMWn9ED7Y6/fwk8Zd45RJNbWJNZ+y/JWBfh/x4Vl0vySaXrUUXIoxMjnMi04Sdl3iNKpV29LMi07Wp6VKR2RUoKHkLvTj9JMTL2fhGD8Sbo/83OPcbZhF64kJKP3OxsZGdnIzv9MuY2aYm+/esY3RmaudZDtwGd4CcRw6/LBMyYMQMzZszArDkLsebgIcxtIQJ5jsX3yYk4OsIZgBlqdJmAiT3K/GKuYiI7Lnoftp3RHpuS78VwbD4UI9q5/81jqhyi922Djij9S6i4XFKsVo8qghm8qrlATBJITEt9LAgQiU0AARCpLZ57gUtZvbFn82DUesvvrTEY/3b030FiP4xeNg8BpcaeuAc/4LxJT/SvW9JgqIRrBiIRabxwfoE35q2dCi8xoJK4lWxGJhFLSvZi0yGye2PhoFapnHaErFAsDZqPkORysdHyfZlNXDkZ8uUaVYQVFOgJyApdiqD5IdAUJb4gT7MEzxAGChWrAAAgAElEQVTZ4JtQqXJJXdLAsmGXzlseClUiwRXIoMVpWIwELq7OQFY60ksFkX/9O1zPdYQoKx3pryMgIPXcaWR3GYF6//h2ygzGfw8DOicb2NqUPoxD5A/nIO71weubMPv7sfBzbYPlN96gQePuYcuaE0jnXyJ0x3wMbFULvTbFamx8NMr93lA4qFUqBwHZD09iVjs3uPXfBanAI/7aHsxo7wHXXlsRJ+Qj4vQuhDzOQ0zIWixefRpRau2vju+FLISuGYUeHZrDx8UfIw+9Su8bCvTyI3B6Vwge58UgZO1irD4dBUBAWugGTBw3Dxt278CqDzuj7cBVuCg1TDaods1nhzGqgROcm0/E8eh8JP7xOQL9HOHRcQ5ORWZDEDJxc8MHaBK4GQ8VlS+X1C4NLB3JsvWoANE/r8SoVjXRYf4ebPqoHzo0qQ5X//E48VLbbrsSuLk6QZSdjoxXnbziPo6EVceEQG+IMkt1WvnXcPRJY4xszXZkYDAqBaMHApURtKxFC1oaUTL5o4w6QUvnbaTLmjYQ0xTE/eX0jqmEXJu/T0OGDKEhg/rRe82rkf0rMV3eDzTa3ZzarXv6WvJ2Z0lTsnw951ReZPdGwkF9Mj0qovMTvcii61ZK4omIiujyjBpk8WrOqDCExntaUI8dKaSRct/L6Y+ZNcnU+wPacTePiPLp4rSaZN5iBalchG8q0CMqDBlPnhY96NUl+fj9NMD7XfqixKhIW7rak2O3rRTN6ZENloOjR2sCyLL6RDqXXxJHq4C19JgjIuJJum8qzT2X9zfIJbWnuRxl65HyDi1pakYu3daTyml4jiZ6W5SqZxqK7swYcjPvQBtiOSLi6NnhL2h/lJKy9r1PFuZ9aE+mqjzv7VxLxxPYPBODUVkYPTDORf6As9QL/UvvoOw/BJ9vmIPObsYEJ0bdEZtx9MQJnDh1BiHfr8MHr5Y2mTnDyc4Ie9Er4eC9XViyaBEWrTijJhw0URMOdsDAruq6g9cCxLZlpHL8FRw4VqzMU4uOSK+7yBAkvu+iRyMbAJaoX98PImkSknge0ccO41bqPexasgiLFq3AmdICPTWKBXqbgjB+23Wk2PTGtAmNNewUICD+1H78at4SbUuMihg1ujP4Kwdw7DFXTjZo33Yu5vVzQuy5nzXFHP5BY9AxLwRHfs0BYAJPL0/QnRM4GskBfBxO3nTF4Pds9Oetibqwr8PAzrA+swOnLbqglya5pMFpRvl6JLKFrbUYjo0C0NgegGUt1K4OpEmlWocHxS6ucEQm0tMIQkoITmV3xXB/E1g4u8AOmUhL5cE/P4EQk/4Y6MXmmRiMysLI0XEOD384C77nDjSt5HF1C78hWDD9acX2BntD4aB+mZ7xCz+MRSwWARAgQPnmAr1GZY/jkPBSCo7noZ7EWvBABKRSHuUzvkQ2qPHK3kMwpscyzDj8E9L61Mb+O00wucMhnDh8EwuCLiPSbyimmP0NckmD02wIxQJGHe+hS9xc4YwspKVnIfR6DN4Z1x8WABQuLsWdlhQh1zPRdWb9f97cyWD8hzHupx73EN+fU6JH/6Z/w41ojgbNG8HK2NMEvLFw0HiZHml9T0vf1fTHRvzmAj2F+jGABF7VPSBKisRddaMieFMf1KqpqTRLZIOacUbfsf1gfekw9u76Fum9FmLxuPeQcXovNh6MR9Nhqsa60uWSBqW58pC4uMJJlI3kq4cQ5jMSXR1efe4CJ2Qh/vy3iG4ShACjKy6DwdCFUZ0T9+h7nCvqgf7N1QdRhKQ/sPOro7iXZ2BAciWUADil5tVtIB4q317JYAtPAohedQplRHYK/zcSDuqX6YlgZ28DksYjTgmgIBb3o7MgKOSqzlBkAVV0ckF8PvILylyg3PcEQSBAEFDiIhQAgSCQ2ZsL9JSAyMIcZshDTi6Bzy+E7+Ax6GkbjmNHHhc/SfJ49udtKHtPxnC/1/5VjbJBbdi8Nw5DPa5g1T47BA3yhFu/0QhUHMb2xPYY7C02MG+NlEvqSHM5ytUjHupOQ9X3OjfwsnCBi50C4RGWGPiB5+v8l7i5wkmUiWvRXhje00n7+bJInNi4Hb8z6x+DYRyGT08p6d6yltRgztVyk88ZhwaQg2kdmhOq7xVJnrLu/UDrh9cjc5GIrJuOoa++v/taaEdERIWxdGX3RGpqISHnLovp9L1USvhzP81obUsSx4604OhNSubLiuyyiH9D4aBWqVzx90URG6irmzk5121N3UasoK9ntSHPxoNoecgzkvPpdHqMN1l4tKJhn+yh8KwyE+Nq3++iC1cP00fNi4WCPz2ilOhztLy7O0nMGtKEw/cpS/nmAj0+/TSN8bYgj1bD6JM94UTEk/TCCgps1o6CVgXTnk2f0Php2ym8OPP1yQY1o6QHq7rS+9tiixcUFNLl2Z1p8tk8w/K2QnLJl3RZmzSwNOXqUTI9v7icurlKyDZgDp28l0Qx5xdRJ0cJWbf6mL5/lFc2hOIs/pPmN2tJS8LLXKHwDI3xa09r9bwVLg9bSA1N7Shwd7LO4xgMhjpGbfyanxyLPBs/eNqWfeAqQkaqHA5u9oZvLfPGaJL7vblwUJdUTihIwcsMM3h6OwIyGWBtXTIRz+chWaqAs5ez5sl5fd9r4E0FenxeMqQKZ3ip2Q955CUnQGbnDY9SRkVDZYPlKMhBnok9bIsvIeRlQ2btgHJVBJUnl9QnDaxc8hF9PwnVm9RFaZcfhAxEPshDnaZ+euYFeeSkZsPczRlskTmDYThsV3IGACYbZDAYVQu29pUBgMkGGQxG1YI9OTGYbJDBYFQ5WOfEYDAYjCoHG9ZjMBgMRpXDiGVOeXhy5Rdce5wNi9rt0adrfThUuGvjIb1+AN8ci0ChjSNcW43AtIENKrY7xN+NIg0PL53FA7v+GNrOsYr15jxyYq7h3HUF2gZ1h98/tY7hjSR+gOzmIWz4+RlIDJAAuHacjGndPJF+ZTe2/54EkYigVAK+fWZjYnsniBWROLrmO0QKZjCBI9pOmoleOix+XNRP+ObsE9Vu5ia10XvGB2jAtm9gMP5dGLTgvDCCNg/oQVO/vUNJqc/p8hd9qeXQfcUbkxqP8u5Kam0tJofB39L9rd3IxrQWzfrDGI3cPwSfSXcOTaYW1mbU/stnWjcHfVtk3/9/9s46LqqsjeO/mYGhBUQEpRRQLFTEwGCxu9Bd17UTu2Mt1LU7UNcO7EJFUfE1AbsQBAWlRGkpYYSJe5/3jwGpKRRX933n9/n4h8y5J597zj31fM/QvPZmpFlrOim9YlaB+naIH1HO6T+osmZ9ml2S4kepe7qStmZLWlmS4kdM4m76rfUkOhMlkHHfq0wOKf3CSLLigTg67nRE8NXZVEsttX6QVJoICC6vw+p3Lhg30AnVTGug7bTxaPRgG7xflo97JJUEry9cQLCAA32TKtA1c4CzszPqVPm55iQAAK4xnAb8gVY/KRfe0NEdozvb/oN3y6T6dogfwLeojipcAq8kxQ8shwuNshQ/vLuViW77tuBXO1Xur3FRyaIaDH/OZlNLLbVUkEqvL4nFEEYH4VaUdDBis5KQyprBwqQYgFBF2KAkOwGv36WBBcAK0sG0+Av+D05hQn0NQJiGiAd3cC8sEYIvjtiEyHgfh9jYWMTGpSCXZSGIf4qg4ASFoDg2P1c2UA8shNnpyMqX7eVOIsgu+Vwpb7ESQS5kcgG/RV8B4YNIgFzZFL5/SN8C8ZP6rDNBJj6WpPjh2L1PMOZk4uPHYujE1CvwyWqHP5RS/PKR/PIugoITkCv3mI8QaREPcOdeGBIFFd2QaqmlVkVJpcFJv9tEjLZ+hIV9hmJXUBB2zj6NKis2YUSB/zTVYYMsPt47guOPMsCCxafgk1i3/TKiJBJEn5yApjXbYU1oNmJ29YZ9g8HYHfoZYLMReXoKXGvZwtZhMFau7wsHu+Zwa9YaM26W7QKZxJvYtngRli6fj6EudeA69RzeMdK0M4LWYfiw+dh/8RzWDWiJXhufoNANXnbwAcybMhdrd+/G9PYN0HHBZRT3kcpmBmLV4M5wdbJGFYdBOBxTdjD+JyB8EITDe9oITF63B3vXzsNKv3gFzmSFiPTbg23Lp2L6vpcFAwaLZP+1WO4TBwYM4k9PQrexRxGvaj9dIRC/Qt90WfhYRPFD6PGHsBzdA1acjGKDVi7unngDx0HNFXtYyHmCzT1rwdp5AGYtnYFJ6wOQUSp5SfRJTGhaE+3WhCI7Zhd62zfA4N2hKO0KUS211PoJpOr6n+TdORrnqEccjg41mnGdUost/JcPNphPV8daEA88shz3H8onInHYGmqtzyFNp8UUIiZi4jaTG59DWo7z6H4+EZO4nTrwQeAakdvSK3RpeTeys3ajlU9K+TWTvCWvHr1oY8FmWP7dWeSgWY2Gn88iksTQRlddqjv3gRTG5zuczCxG0+U8IibhKP3uNIROFRQqy3cEWei2oy1xDJHwDk2x1SSrvjtJygW8QRNttch5aSiV9ar2fSF80Xnp5DvagVqvCi9IO49uT7Unvpw9J/GLXbTqVDzlBUwjh0bz6bGYiJhk2t3ViNw2xRJDDKVeHkd17CfSjfyyz8tVBUD8KM+XhlfVItcNUr98kuijtOZgBIkzD1BPbS3qLqX4kTBkF60+9UHJPpOQHi9sRHwOl8yH+FAmEeX6e5B18T0ncRitaa1PHE0nWiw1MtrsxieOliPNu1+ewqulllr/hFRclZfg/bP7yHFbjJWDbRGz1R0dp176MrP4OthgUdwvTx7H41wC19wSlhoA19QC1XQB4atTOH5fWLR0xauDrgM7o+eiK4h6dwcLmpZc5mEiT+Lo01SE7FmE+fPnY6lvFuq1qQNKToCEZ4ORe27h9Oxm0MiKwK0n8RBmfEQ6wyDm6E5cr9kN3U2l+TfsvRvhCZcwxeaLD2rYtO4MKRewLurW4CA5MVEGoO57Qvjao0bmGez00Ua7rrULjllqwtKiqpzpL4N3sSZo19sMwZeu47NzK9TVAJB3H0EhlmjZ2hJccGHaeRz+6FILNUts8bzBvrFz4Zslp8kqAOIHbhWYGgMZH9NAbAr8zmah/UAHaGiboEolICMtFQwTi9N+GujTz0LxFF8SjouXXkFEGqjbrBkqAdAyqYJKxR6SvDyJ449zQVxzWEqNDBZSI8Op4/eVLkOqpZZa/6xUOmArfLIcA+ZnY+mT9ehu4IEODX9H74UTsajLL9jf61s9CUiQmJgGBhzwtLSlTjS5WtDicwA2BYlJDPAFKaQBDU35MYlj45Cg6Yily1ZDBnMQhmYa8N0yH+cs26NfY1voIQ0EMd68iQNXR7tYB8iHoZE896xcSLmAspesvh+EDxBHvERkvg7cZFP4SokHu76/wk54G1Mu5KH79vbQByAKDsITjRb4o2FB00tSoWvnAsvipyp4dvht7QLoGamQjOxaUArxA68qTE2AzLSPyAy8h6gmI9FHSvFDlYJBK9nvHjLaT5EOqookSUBCKgNAE7r6BuCiLDdLkpiINAbg8LSgLTUyaGnxwQGLlMQk+YOoWmqp9UOkwlSHQeyNa3hV3RGN9ADACM1n7sDMZul4/PBtBWRBA9bW1cEDgUQiiAGAFUEoIoBXHVZWql9Q4RroQyftIYJKUvoQ9SwUmaJwbOrbA95GE7BwbFfU+tLBc2FoqIdPD2/hYXHoqyAaUQlf02V9LwgfwNHWgRYTj7eyKXwyJQm9joC8X9DdVRcAi8THz5DWxBUuBRs4goDnYJ2dvnhKz319BQe37YL/O873JbvyqsC0MgdZSUE4/NAag4oofqhSGciMv4ojkQ0xRBWKH9cEJoZcAITPOTky9+A0rK1RnQcQiSCSGhlEQhEIPFS3slJTbNVS6yeTCoMTD2Y1baAXF4aXhTvHHC1oa+nBxtYCQPlhg4Uf1KxEDEAD9QYORRtDLtiUD3gvAdi090j8DOg2HoKhLfgAsQWAOAaMgtPrfKdOcDONwFaPWTgbmQWGzcGr40uw77UB9LOCcP2RANq6WuBAhMToeHwiEYT5fDj16gqb+IOYOuUgnqUKIUl/jB2eJxGnxwOIhZQL+AULCCkXkJVLw/0+ED6A37AL2lqk4YLXPrySUviQmpYJNj8P+XIyw34WQFjZHGYaAJCPiIh3MLSwlOIf2ET4PTVEl1bSaSYTdxZ77puh9y9p2Lb8PLLlNmAFQPygjSpVKkH0KBg6/fqiWhHFD6aVOci4GwmLgV2gAONXJL4TenSuAQ2OBK+ePEY2WHx88xZpDABWDLEY0Kg3EEPbGILLpuCD1MjwXmpkGDK0hcoYE7XUUusfkko7U+IoOjHRjVr9tpS8L/iS99Ih1HvMfgor2EcuD2ww48F26l9LkzjgkIZ1N/pz/z1KYSQUd34muVrXo9/WHqDNwxqRZbNxdCxSSCSJpyvzXKkKFwSOATUeuplufZC3Pc5Q8o3F1NFCizgcPumZOlCPpTcohSEicTht7WRKGlrm1LDjYFq8dTo11zGgWt2XkH9yOj3c0p9q6/OIw9UkY8dB9PfTHCImg0KOjyOnAmDdxVcpFHllCXUy4xG//mg6GpopZ6P+O0H4iKHUgJXUvYY+Va7tSt0HjKWZvzYkk1odaeLf90jmeZT8F7TVvT0NXXeczu5fS+u2Lib3tsNo63lfOrR+GR18XJQnJvMjpUsY+njQnVrMfyTjwAdVHMSPhHR/TmNquuhRKVBgHvkOr0FtVr+Unb4cMR/v0NJ25qSpWZUadehJA0d1p1p8Haps3YTcl1wlIiJJ3Hma6WpN9X5bSwc2D6NGls1o3LHIMvBMtdRS68erHI5fWeSnxSIyLgd6NrVhWwLmV0GwQVaApIi3SDewQ10rg6+Pi/2MVCmlD1WLU/qYXCQlfIahdVXogkF24geITGxgWrg/JcpAfDLBzNpECUBOBX1HCB/YfKS+SwBbtSaqkAASfQMlIDsRMuJikG1gi5omfECUjpioTOjVsIVZGYrhZ/iNccXFfvewp/v3xePlRoYi0bIhapek+CE97CVyajVCjXI3ghBpEWGI16yJRhYM0gSGqGZSek7EQpAUgbfpBrCrawUDNbpKLbV+Sqm9kqtVUqKH+NN1A+pfPYthKq2pqaWWWmpVvNQOXtSS6nMqUnNYMFE38cS0Pdp+9Uk9tdRSS61vl/qQkloAGLzeNhAeUZ3QmnmPfn9Nh7X6s0UttdT6gVIv66lVIAaCrFxoVDKElnpgUksttX6w1IOTWmqppZZaP514S5cuXapSSCYdr25fwsU7r/FJxxyWVVRBF3wfiZLD8TjkLeLfv8f79+/x/kMaGKPqMFZyuksS7YcdJ2Jh7mwvG5QoiYbfjhOINXeG/deTFL9NojSEXz+DW6k2qGelgx/lc7zilYOIq0dx4Og5BMbronZDS+j/sMIxyI4KwvlLb2HgaAcjrgTRfjtwItYczvZGMuy6dPgfkGUZYgWJCHt4C9euBSE86TNI2xDGvLd4/EoLVubf96Tl/5Pyk1/g6sm7yK1XD9X/DzdClPab30mqJZV9H2vdh2BPTmN0b1sFj+a0Raclgcj8QcQBDb1K0E45jSkdXOE22AsvyRCVlN6iZJEWdACrVh3CfTk+49i0IBxYtQqH5AX43mIzEXxqEYb/Og477mfKveT775MIL9YMwNL3nTGuuxau/DkZO0O/hgVWMcp+eR5rxv2O4Suv4D0DgE1D0IFVWHXoPmS1fJnwP1psJh7vGIHm9Tthod8HaFtZwyD7ObzHN4e5mQumXkrAj6vd/y2xiUHYP3sQ+k8+gOC8H52bHyHl/eZ3k/KrUGJ6vLAhGbTfRoV3XyWvVlJzXQeaGZin+NHvqfyrNMaCR1o99lPm18YhjqD92y5Qxlc/vp+2Xfjap7/EQhH7t9GXaPJv0xRb7Z+AvFsqX9+i/Os0vqY9Tb4tvbUtkfxoprCE3q5pSdoqE4TLF75i7EKe8il4fTsy0a5Hk66mlLwEznykq5McqYnMC9SfKDoqqeyl8dxEiggNodCwOMos9qMgMYJCQ0IoJOQlxaSLKT/lbcH/QygkNIwiYhIpq0xd5FNKVKg0TEgIhb5OoBzKp5S3xf4WFkExiVlKLj6Xzas4PYZeFqZf4l8ovfqQ86UcZX9/SbEZxWJiMiky4BJduh1CHz6lU3R0qlKyct6FYVRFuxvt/V5N+hX6njb2fe1XdSmfOTFvcO1aJCrZ2qEQVsuza4OW1WNw9vjdL8FUhQ1WnHjgcQBwuSUu6zIikdSJp+QzBLJcTbMSSFgAbCYCPYdgjl8SxCUDlILoAWCFyE7PQn4pvpPnkDnwSyr5NKAIdFgmJDIDPTFkjh++RKMq3JDNR65qiRQ9IvyMfJnNxCI/V1Dsa1tGvlQSg885grJf7Z/j8C6F/eLElsdT7eZrGfBjYe6E2UjPyi/rQ48RQco7lOCzzMaHQkgjK5GUjVMR1LGC7EJ+u8gIG38IC1YGgtPbE391LeWRnmuCzotmw02zbN0wsQcx3n0l7pSGV2nyIQxej35OjdF77bMvbCsNLRYv1v+GUYfiAU0ueJos3mz/DU3dpuF4cAgeXD2ApcM7o8MAT5x7U+jrUQN8XiZ8JrVE00F7EMvRgiZ40GTfYPtvTeE27TiCQx7g6oGlGN65AwZ4nsMbGW4iy+aVRcLhcfjd8zhu3L+PE7M7odkfG3DjQSD8/p6EgUvuAJoaED5cju5Nu8Pz0ku8evUK4S+fwH+LB+aeTS+I+B2ODuuFBQ8Y6OW/wO6hLdFhxQMoo9ABKFpel+Qi53MFLxmV812WZ2OsRAIGUthnUZkUw1UhESC7WNpy7bew3yyUCu8aK8xFriqVK09Khy/hQ5pbV5OMBp4mQeHfJOG0vKkm8Tv+TUREmT7DycLImRY/+gcdweT/h8ZZ8kir10H6RESCiIu0bFBTsm4+lXZt8qBeLnZkZFCbRp6KJ4aIJPEB9Pdsd2paowOteyuhnKd7aXADPdK060HT56+gs2ExFPD3bHJvWoM6rCvgEDHpFLh2GA2du4MO75lPvZr3pA2PBUSUQ0/3DqYGeppk12M6zV9xll6LiSQJN8jLcyF5LphM7s4O1GaKD8UpmiTkPKW9gxuQnqYd9Zg+n1acfV3Aj9KmVgsO0rJBncilljHp2/9B3tEFEUkS6IaXJy30XECT3Z3Joc0U8lGYCBFJ3tHZP8fSgl3H6eiWSdTVfSO9FBMRSSjhhhd5LvSkBZPdydmhDU3xiSOJrHwpEpNKAetH04iZa2jL2nk00M2F3JdfpySGSPjcmxZN7kI1NI2p+dC5NG/hTgr4qPhbNev5fvpz8hxasXEtjXGtTx3m+1EiQ8SkB9LaYUNp7o7DtGd+L2recwM9FhCRIIIuLhtETa2b09Rdm8ijlwvZGRlQ7ZGnKL4wqdwwOjR1OE1avok2LZtFI1wtCzhYEooP+JtmuzelGh3W0VuJsvAVaBdy20VuRVPiri6ky9Gjnvs/ymtsys8vHYmYnq/sSfbmVanfkZSyMwXBcRrVsDaZ6zrQeL+i3zMPjqOp/oWsK4YSt3cgnZqT6fYX/NUnerLKjUws+tL+QvukfLoyujrp9D5EXxxXMYm0vYMO1Zx8m4oefUKr3EzIou9+ii5hvrLyKqG3B3aQbxYRkZDuTLElnfbbKJEhIkkE7dnhJw31agU102lEi54XK3/eQ7oRJF1bYT54UTvj3nSocKkl9y4tnHWA5NXklyguDCNT7XY0Y+VAcrbQJ02+CTkN308vc4lyw47SaOcqZGTrTqvvxFE+EQmifGlK62Y05myM4ojlvMtM0gPaM7Y5mRlZUI+1T+jDq300sKELjd5yi95JStvYabr38BgtHf4L1XadTTsXdyQrHX3qsC2a0gPX0rChc2nH4T00v1dz6rnhcVEfnvWc9v85meas2Ehrx7hS/Q7zyS8xu4z9hsWU7DdVeteEr+nolGE0efVGWvxHS3J06UF/jBxLs71fKqnpklJhWS+DTgwwIQ3rsXSl0NokEbSqhSbxO+8kovLCBitIpQYnIjE9X9SI+FU60jop8Y6ujLEi7VZrv3Q4OeeHkZlWK1r7VkJEeeQ3qhppd95JKYVxloLoSWI2kqtuXZr7QEhSn29mZDH6stQXXJ4fjaqmTZ13FjytCHSoQHl+o6iadmcqjEYx3FBCb716UK+NUdLBM/8uzXLQpGrDz5OiVMTBnuTcbAmFiImIsuji2i30WEgkeetFPXptJGmWpWBEzWrD6XyWjHzJFUPxB93JqvUaelVQz+K3W6m9oTF13BYpDfFuM7XVsaUpd5R/vMgHP4ooZqMr6dadS9Lm8KXhZhY0+rJ0aVn8fBE14lehjuuekpR3OIastAvamlEGacyh88PMSKvQVpSEryi7kNcu8iWke7NqkwbPgsZeLQcgMfc/tGjuCbq9uAlVar22AHxZTIITNGOWD12Z2ZD0zHvSrghpqQXHZtDs20WDU9KO0oMTEQnv05w6fLKdcqdgqS6froyxIJ3e3gX+IImISaIdpQcnIhLen0N1+KXsQlleSw9OxSR5tZKalxiccuj2lYCiDjnzDA2qqk21Bu2j0E/SMqXEvSvKpxzlXRhGppo1afCxKMqjPIo5M5oc+NrUZPFTab14u5OJbhtaF1mQ2U/nafzgHRSnsDtU8i7nPaflLpXI4o8TFHJmGo35O6Joqba0jVEeXR9vTZpmnWndo2SKC/Shm28i5MJViUmgo7870ZBTBUuaWb40wkKX2m2JI6ZM3KX7TSXvGkkoeltHqtJhGyUwRCS4ThNqaFOzZS8pv5zDgwpnT4zh7rkCvfrMxbh+Bpj5qx3Eic9w6Q1gPawegELY4DdM3ypEHBgY6IFr3AAujoYAGNjZWwIByUhmAHsewDepjEqKToiVgujxbEZiz63OMGmqgawIfzyJFyKjUrpM9k8h6LDOnkWYzwXAFAMdwrCct4aMZpoAACAASURBVJ2LwQ1ZKdzQNzERDMPDyaNPkVpnDxZJE0FWvTaoQ8lIkACGchLhGleDyZt5GDKqCnaun4BuE0dDwmcQefIonqbWwZ5F8yHNcj20qUNITijHciEbj7MHr0Gr6XTYFazWadgPxrC2nhh76CQweXE5yl0IfpyIfSXAj2IYGGkCI/fgVmcTNNXIQoT/E8QLM1ApXdoaHAMD6HGN0cDFEYYAGDt7WCIAyckMWL0CSOMteZBGPkwqV/qydMOmKA5fUXbBOslqF8U1RASARBCJVD0uwyLlwjVwuiyDq10GWnhtxe77U7HZtdRpPo4h2q86jtVh7TFn8BLUv7kSTVSJnu8ElyZ68HrxFAmMG2qWw1ch38kFTfS88OJpAhi3muCpmleFxU1B4I5FmG8KCFOfwT9nMB50+0X6m5E7Vu8ZjwFjJsCl0RlMXbcVnr86QAUoC8Crg7bd7KANoGa/vzC93SlMvewH/OUM8wEzMHRlJ+zbeQ9TNv+C/GvXIO60BFaKNk2YSMXvsrYTZm+bAd92E9BHtBLXTzko6EM0YFS5EnjVXdCliRlsNPrBBiyc9txCZ5Om0MiKgP+TeAgzKiGdAZiYo9h5vSYm7jOV2rRhb+wOT4DYwAhcUViZ2Ev3m4reNdgT3oS+Rq6wK4QEQNcFrs7auJKUAnAbqFLTxUqlgrQajMfZ553x6G4wkvk10NgxBSfW1kDP/i3Kldg/La6UePf1p964hjDT8MWW+edg2b4fGtvqAWmyY1MGOvx6FYMbimMRl6AJx6XLsLociXBtxmL3gTcYNGEm2l09jJEbDmDTcHvExiVA03Eplq3uVsbRbX6sipFLPuB9sgQMUxwhYgB7KTVR5TxKpQT8aGgGDd8tmH/OEu37NYaC5gC4HBTyDssHaVQhfIXZRW0Z7aLoBdaAnYMt+HQLUZEJYGCn3DkyE4Xj1/NQe+JrvPhYD22dU+G1wxeLXH+HSemw/PqY5L0HIW6DMHRyI1zvoixyqYgI4GtDu9xXA6RYGL62tvTDoDx5lSeuGX6ZtALLnTSA3McwWv+m2I88WPfZjLst+mPnvMlYPOgXPH7nj8uznJQ4Ti6dhika1KsOzuVP0v9rt8KUSa1wYIUXfObVB+82D11WmCs+Cq3Cu6zdZBzGum7C5OBgRGSxsDdRckSAwyl29YQrB64KiN+8QRxXB9rFouMbGn09NqbYuwZowqmjG0xO+eJM5BTMrZOJjNyqaDuoMRRwYmVHq3JAQ1u07NEf7h2qImjDPqT08MTM1hXaC/84ydsrDN+Evj28YTRhIcZ2rQV5fRULJaBDlfZPVQjENYC+ThoeBoWUwIqLop4hVEEibFoCuJ03Iyg0AF59WJz2+BVL7kpgoK+DtIdBKJnlKDwLzSyWGyX54lnA0pyDxLAXSCoWlJEw0LS2U16mElIEfhQifFNf9PA2woSFY9G1lq7Kd8DKC2lUFr6i7CI9RVa7KNpB5qJqj/5oZyjB8wtn8UaFQxTCJ8cRWqkBJK9e4uXLOJi7ukLzyi4cjpb9MNe8D7yOLYCl30QMPxCtnBAseoHHL8Ro2NYNpuW8AyN68RgvxA3R1k36BV/evCqVflPMnNkHBsJ8CMEiIzQEcQygYd4GUw7dwaWZlniwaj38BMqjKi2WYaFbu37B/3iwHTYVfflXsX3zDgTqdEc3YyURKH2XWaRd2YQnbVZiKI5ixgJ/ZMh4FeW+nRJ5cFWAa2gIvU8PcavkS4boqIQS7f11xz64MBuwG6enG+H6+qVYt+UkMPky/u5nUu57seULzyThhudg/JU8DN47Bn+ZtpYXNlghIjEkDAES8ZfTdkxJ4h2YUsQ7YhgwYCFl5HGgrcUHcrLxiRjk5n4uBdFjkRF0HY8E2tDV4gCiRETHfwKJhMgHAI42pI9/AjG5EDnIBx1WUlDLHG0t8JGD7E8EJjdXMdyQ74RObqaI2OqBWWcjkcWwyHl1HEv2vYaBgkQkEUew+0oGeGYtMX63N2Y2SseHJA6cOrnBNGIrPGadRWQWAzbnFY4v2YfXBpXAK50veeLZ4NfhXWDw6CSOF1ETcf+ZGN08BhbVOzFgGGVzWAXgR51sBF1/BIG2LqTNEY34TwSRsGAAYViwJRsfTMGsWTmkkaS2wjJglIavOLvQfSOrXRQfj+RaDMOavzrB4MlajF92B8kl+m0BXp1YiBm7ggs6vHRcOpyM9gvHYcSIERgxYgRGLVyMYTYPsXfXo6JOkREjL79oUNRtOg9Ht3fE+3svS5xkJbZU+7GZuL/6Txzlj8PqSQ2+LMMQkdSOi55E2UfvY/WfR8EftxqTGmionlcQWJYAorKdZxkAKBf6+pk47rkJj0VccIJ3YMnJ9wXPGaFZW2dU0eKDX94ZnyQSAU91MGRq/6K/GfXETI96eLHlGLR6toe+sjiUvMtsii+WnamO6XMnYc2mQZAcno6F1zKkeS9lY7mfC+qcpS+DC5shD64K8J16oatNPA5OnYKDz1IhlKTj8Q5PnIzTA09W3CX6TSh81wAg88ZybBZNx5n9qzB35hxM6mmv2tJpaam0M5WXSE/Oe9E09y70x1IfevWp5M+qwwYrRvlRN2n/kt5UQ4ND3MotaaLXeXr0/D+0pKMp8QxcaMaZEEqMukrz3YyJp9eMpp17RWkxAbR3TCPS5plQuwU+FJIupo8+w8lK25ya/T6b9gW+KAXRSydx+FbqZKpBWuYNqePgxbR1enPSMahF3Zf4U7L4I/kMtyJt82b0++x99ChTLB90qEDMRx8abqVN5s1+p9l7riuFG4qTb9DijhakxeEQX8+UHHospRtKEhEGzKHmTYfQ2lP/oesnFtOQ4V4UnEdETDLdWNyRLLQ4xOHrkalDD1p6Q3pCqkS+9j1SUohkur60BzVuNYRW7N5Hm2ePook7HlEGQyT58ICOzHUjEy6f6g3fQb7PZdy1KaFM2eBHElP41k5kqqFF5g070uDFW2l6cx0yqNWdllx6TDeWdCRTngG5zDhDIYlRdHW+Gxnz9KjZtHP0KkcRpPEWPb69l8Y00iaeSTta4BNC6YxiqGPCy4qxC7ntolQCen1mAfVxNKPqjt1o6MRZNGv8EBowcCTN3fuY0hkiok/00nsY1bXtR16Pk7/UuSDmJi1yMyCekSvN848jYcZLOr+kC1nWHkheAXHF7h9l0p0F/WlewemHnEh/Wt3bgjR0G9IfC5fS4oUzyWPQrzR07kF6nP7lSCRFB+ynsQ21SKNGP9rgF0bpTA5F+q+m3hYapNvwD1q4dDEtnOlBg34dSnMPli+vYhJT/L2DNL6JDvGq96AVF0Ko4NwMMRlhdH5BO6rMMyLnIfNoyV/LaOnCaTTYtQZZDztHuUQkDJhFLk59adr6g3Ty2Faa0LkteZyIUXqfUPL2MI1yrk0uQ5eQ147NtHTSKJp5JLzooEWBmJQ91KvpPHqkIiWTkfMu50dfpoXtalL71SGURUTCmKP0hw2PeNU6keflaBIyxW1sD129cZAmNa9EPINmNGn/bYrKJSVwVYYyH26h/rX1icfhkqaxIw36+6n0dCVT0n4DX9wu2W8mRSt51yQUc+BXstLiEEdDi/QMK5OZlQO1HrSJ7pfzQqpKvvWyX93BwyxzODnXQVWZK3kVBBv8x8UgJykZIhMLlGHSFYbITULCZ0NYV9UFmGwkfhDBxMZUukfD5CApWQQTC5Oi9Vp5oENFuchJQrLIBBbyMlFGLD6nxiMVVWFdVQU3UowEEh4HwuR3SBJXRg0roxKbjeznVEizXBUl2IzlzReTg6QPAlSyMofet7o5kQl+ZJCblIDPhtaQNkciPohMYGOq4vJyeSGNCsJXiF0oaRflkiDzXQSikj5Dy7QmatuZlm/vRJkYAXKFetD/qs/en1CibGRLDGHIz8b7uHRoVa+h8jsKMBCkvEOSsDJqWMtuJ+HdBRh3fwj2z61Xjn6wnO/yl+zIsLEyYZTAVSFCRnwyyMwaJsVfIVXilisBQvatwjWLYehvlYOUjE8Q5GYj6dkJBJl5Ya+HucoxqR2/qqWWWmp9tQR4H5EAfjXChakbobtmF4ZW+0mcL/4AScJWoE2PN/gz9DDcDQv/yiIz0AvHJWMxqb2eosdL6P/QjaFaaqmlVsWICd+Efk5L8Bxm6LzpFi79Hw9MAMA1bYRmhhswqnlHnGlbD6aaecjO5cG680TMHaT6wASoZ05qqaWWWt+gHERcv4rXei3QrZVNxS6r/lslSUNYYBBCk4GqtRqiUUN7qLryXlzqwUkttdRSS62fTv/fc1C11FJLLbV+Sv3P7DmJ0sJx6/JLVOozAK2M/w1jbhYeHtiMc+E5kHDM0G7KbPSyKTzjk42HBzbB7x3AY8VgLLphpocrKv8bivUvkiTaDzv9NdF7fBfYfM9jpqwAieHP8CQ4Aqka1VGnQUM41qmM98+iYNWyMYy+Je78d7jvdwMhGbqo1boj2hi/w0uxE5rZ8KTwzJ3+0Ow9Hl2+tYBsBsJfCVDHKgFHvPwRp+BeLM/cDWM92sG8vPbKxMF31TpciMiExYAtWNbH7Id8PWc/PAQv/zgFF5B5MHcbC492SrxAyBAT54tV6y4gItMCA7YsQx+zH/1Ss8h8/RKZNo1gq8qpzJwIXD19EQ9jGdj2HIWhLt+xjcp38vznFJPxnA57OJMevw2tj/7RrKDySEKv1valmuZ8qj09gEpccWEy6KJHRxp75i3l/IP+dP9/xFDiQXcyrz6QjitzS/0NaWQ82k7DnW2oXq85tP3UFfK/eJS2zOxGtYx1SbfpMgpT8U6MzNgTztGExnWpm6c3+V44QuvG/kI2lYyp/zGpK1Mm8SC5m1engd9awNxgOrBoBV2ILrgFJU6l8yOtSNNiJF38VGicEhJ8jKa7BydQs3rjyL8cfmlLSPyW1rbWI9eNsUo5S99T4tTzNNJKkyxGXqSiIgroY/RdOjihGdUb509fX8S11FrPlTbG/hwvNvPxLm1fuIXuKKEFkDCYVnf9nXbHZ9HDZW3IzHkJBX+D/SrTv3dwKgUKzL89hWy1K2hw+kYIocpiUuiQ52o6u9yFdKsOoBMljOMjHVm6gUK/Y+Or9X2VH7ye2ploU71JV0tdxmbo49VJ5NhkvsoXNstKTC//ciadxouLdRB59HxFW+q6oQJBlZI4OjZ6EG18WfyCvZAezKlL/NIeyomIKJ+CFkynA189HmbQ3m4GP3xwIuEDmlOXX8aTOhER5QfRgunKURtylbGXuhn8PIMTERGTdJqmjNpBrxTYY/718VTTvrDNJfS9maE/ek75dZIBCizJgpNAkCuU6RtKKQhQLoQQkAvTQ0nI4WdVAVt5jxDDa4EeYyeiC3MFO71jipYSPj9CjEZT1Fa28MoK8VlVUl1RbiGSksIg+SyAbFSY/LKqBPWTJ1YEUUGkwtycEqA+5rMAZZloLISf85X7eFOarpx6+l4QNTYehxasRCCnNzz/6oqqJamAMOm8CLPdNEuWl/mMHHnGWSb/LLKzcyCJC8Ltt4WZ0YbTpJloz88s5lymNDyThaioAZBTsgEgyC8ZNvH4bKwS9cPYBkquY4pCEXg/HSy00LhpNWR/+N8DxYtCA3E/nQW0GqNptWz8LxWRa+6OYeZHMdkrQu679jnuHVJYTkFfy0MJZqhc22ULQLQSfBaUjzz4rxyccoN9sMfvNXKi/LB6wUr4RBRWCovMwFUY3NkVTtZV4DDoMGIKappJvIltixdh6fL5GOpSB65Tz+GdjFaQGTebhsANYzBy1gbs3bkCQ9u2RL8VN5DMssh4dgQLfndBrU7zsGtBbzSxrw4jE1v0WBmIdCWeE0UhoUCDptA264/JA6vi4d7deFTQH4pCQ0B1m5TxFl4kBvE+8+DheQi+PtsxuVs/bAqTQBB+DGOamsLYrh/WBLyDEMDn6IuY2qY5xvq8QuSl5RjczBauc/Zh87jecG1oCVOHUTj9viCzcssK4HMkLi0fjGa2rpizbzPG9XZFQ0tTOIw6jfesAOHHxqCpqTHs+q1BwDshgM+IvjgVbZqPhU9kFG5sHAu3Wo0xfpc3PEf2QccmNqjeYiFuhvth5dhf0a2VParVG4OzidK8MPE+mOfhiUO+Ptg+uRv6bQorM1iyWeE4M7UVqlbtgz3JLJj4u9g3uQ3MTbtiWxwrt56Y94HYOacfmtl1xeYYRknZChssAsemDse0zXuwfkQrNGzZE4NGeWDO4bKYATblKs4HZEPbpQs6yXKpzTXH4NUL0IoPsGmB2DBmJGZt2IudK4aibct+WHEjueDjSnb+AT4a9eyKmoI7+LNTLyy5HCv17WfUC3OmOEODeY/AnXPQr5kdum6OAQMRYm9sxFi3Wmg8fhe8PUeiT8cmsKneAgtvhsNv5Vj82q0V7KvVw5izidK0JeHY53UHtTu2g4FiU4Yk8jJO3/8IAqDvPhfTG3GRfH0dxri3h+voA3gW6A2vbduwfq4HJu14iMyMxzjhtRVeGxdh/Lg1uJlS8mVh0oKwb/16bNy0Dn8tXIVT4Qr8O/4jkiDy8mnc/0gA9OE+dzoacZNxfd0YuLd3xegDzxDo7YVt29Zjrsck7HiYiYzHJ+C11QsbF43HuDU3UbKIDNKC9mH9+o3YtO4vLFx1Cj+2iBpwbNsQMdu34FZpWjJECD7sicVnX0Oc+Qj7Pedj0S5p/ybXdtk0PDv+F0a41UX7+XuxpJMtqph3x/a4criT/b4Ts++lsqBA4Z0pZKtpRX13viApo28i2Wo509JQcTlBgKXjVgbTyyN/D0vSrNaHtodkkoTJovtLW5OhpgPNDCztfau4JBSx2ZP2fChgfYavpBY65jToTDoRSShy6xLam6Bg2i8OJk/nZrRESqqjrItractjISmFn4mf06JGfKrScR1JmYxXaIyVdgFgUTk4UDHUL4m83U1It806Kkp6PA3eESf115e4nTpo6ZKL5wNKZ4iYlP3Uq5IO1R5xkmLFRJQfRDNq60mhZySmYE9narYkRApZy7pIa7c8JlneG/OvjiEL7fa0rYA+l397MtUsXOKVW0/fF6ImvDeLamvwyGLsVcV7E0w8HXS3otZrXhUsxYnp7db2ZGjckbZFKs4/US6F7h9BjkZc4nD1qXafv+hyXLEaKgXPlBJptUjXxZMeSBuA9veqRDq1R9BJaQNQ0IzapNduC8UxUqjiL7r1aO7D0rUuXdbTNG5BIxYsogWzx1AnO0NyWRVRZjkx5+QAMrFuTdMPR0rbLusE/WZai9pP20MvBEREAvIbbUUOM4IK2jaD9nbTIbNumym4wIenJO4EDXJsSYvv5tA/JuEDmlNXk4xbjKAFixbQ7DGdyM7QhVZFlCkhnRxgQtatp9PhSGkJsk78Rqa12tO0PS+k/vcEfjTayoFmBBXUY8Ze6qZjRt02BxeAUiUUd2IQObZcTN+/iBISZCZTUkZZq2QSt1MHnVo0XaaPVIbebW5LOrZT6AsbUpnt5l2n8daaZNZ5HT1KjqNAn5sUXQ73q//KmZNc8WzQunMD6APQqVsXNTjJSExkvgDfQvYswvz587HUtzgIUIm+wPRaloLpMQg4dBJSzIMBeJZN0a6+EXhcQ7ScOQu9K8fgyqUQBfGm42FmJbgUnNbh1RmFCV1FuPT3UcRI0vEgwwAuVRU0D9cY1UzeYPOQUdh+LwX63SZitCMfAFcKP7N8gn077yEfQNa1axB36if1Is8xgIEeF8YNXOBoCEDHDvaWQFpyMhilZS0LGtOxs4cl0qSgMa45BswYCssn+7DzXj6ALFy7JkanflbgAuBWMoAeh4+aDRujMhfgGtaAdWWCmWMLWGsA0LSElTmLhPgPkIAL42omeLN5CEZtv4cU/W6YONpRjq+vkm6lOcW5NnLrSTlErUTZICmAqAlLQNRSk1Jkrz9IqYAQiUQKeWJs/FkcvKaFpi0L2UwasB88DG2ZABw6+Vph/gE9OI46iCeh17F+YE2kXlqKvq374++wgul3KXgmuJVgoMcBv2ZDNJY2AGpYVwaZOaKFtAFgaWUONiEeHySAJC4G8awhKhvLPunHMWqG4YuXY+X6vbh4ZDLqy1iC1tDRhabQDm3715a2nbY5zA1SUcn5NzTSBQA+zKsZIyX+fbF3kQeb1l3gWDBd49n0w6QumfBaflRBTX4PcWDUbDgWL1+J9Xsv4sjk+jKON2tAR1cTQru26F9b2i7a5uYwSK0E598aSb1x881RzTgF8e+L9TY8G7Tu4lgwI+XBpt8kdMn0wvKjCd+3SNnBOD2tKzoue4zSi2xcQ2MYcj8gNla1pXqltqthhMqVeKju0gVNzGzg2q89bMvhrO9/a3AqLi4XRYw+KfBt4LLVWL16NVav24dzt27Be3w95WfpFcH00uTA9HTrwMGaizxBmflxkfIeI5ZXbE+Ja45fJw2E6f092HPvLmJ5TVFLUea4Nhi7+wBG6V/DzHYN0HKST9Hx3gL4WfIxL/ikpMP/Ng9dess79sqVriETfV1ZS4DGAO1WUzCpVTKOefkgJd0ft3ld0FvumWJuqb1CLjhcQCKWAODCZuxuHBilj2sz26FBy0nwUXR+WZ4U1ZPSZ2VA1EJ9cSZSBLAFELWOsiFqGnYOsOUTsqMikaAgPcmH90iWMGCKMyUM7CGt8mQF+RdBWNC7aFm1x6xjDxD4d1+Yp17G/DmHipYilRaRU+r/XEAilg4UIjEk4IGnwoUTbaee6NvQUPpRIAzAhg13vvzGMTCEYeH4xuEAXF0YGhb5UuCCUwwRUxiu+H80UL2aKfLDglUr1HeRNpx69kVDQ2nGhAEbsOFOYSfOgYFhkdNraRENUVRELsBhobiI1VHNNB9hwWWXiCtUhk0xsG8j6MvEhPChpUkQChVjWwql1HYLxOGUm0IJ4H9hcFKJ0feVIEAWXwfTo1wI8viwr1tbbtSikBBQfecSe0p6bhMxqlEsDs7YgbxSv5XNWxoSuJ2xOSgUAV59wJ72wK9L7hZ8DX0F/AxfWdYycdhi2NS+4F/djs07AqHTvRtUSbqsWKQlcNF5cxBCA7zQhz0Nj1+XQCGLr0AlfJ4orKfyqHwQNW7VHujfzhCS5xdwVgEVkGdhCXNOIsJeJBUzZQYSRhPWdrby85/vjyV/nkP6l2f04Dh2G+a00cTnqNeIrYDNel716qjK+YTsTBWcyGi7oGcX6QcQE/sUGfq1Svxcun8qX3fFIjs7F5yqBR6thTG4dWQ3Dl2PlbZjTgj8A96BYVMQeOAoHmWVK3KVpe3SE13MpUj12KcZ0K9V/LOEU3r+Xr7I2Wxk53JQ1bwamNgb2LdjO7bv8Udk9E3s374N24/dR4ooCld2bcP2w0FIYkVIuHsa3keP4Yi3Dx6lSm0s5+lRrFyyDVef3sXJXTtx6Y3U0tnMUPh6H8LRoydxMy5P9mxemI3s/EowM1PNDb1S2/1G/UsHp7KgQGJZEIp9nTAMWLAglsB3Kg8IsFTceaZKYXoAAJEIooIWl0T+B7dze2DsbxZy8i9BZEA2zF1KOULUqIvREztDEqmBGi2VGIgkAkd2X0EGzwwtx++G98xGSP9Q7IShXPgZg5JMRilgkQgqgQOVgcakSc+ER70X2HJMCz3bF8OusYVPFjYSCyIp3FH6dyoYWAgECSKO7MaVDB7MWo7Hbu+ZaJT+AbJYfJxKhtCnZMTHiQF8RkxoJDJZEYRCxfX0XSFqXAsMW/MXOhk8wdrxy3CnJBUQglcnsHDGLoSa/4rhXQzw6ORxFFX5fTwTd4PHwBry869REzoPF2P+xeSijoHNQMYnoHLTVqjPRyl4prS+Cz9yv7SAtAFQyIGkgpGdCNCo7YZW1ZMRG1eWCExfWqyU2FT4b72KXPsqRSGp2AdDwX9KfD+UiYVFZkpqMRhiNK7fSYXbmKEARHi65xjSmmjBb6U3IiRAlt9qLL2cCAYMkgOOwjey2KcH+x7nVuzAw+JfI6JInPlrLtZejlOwrE8FhSvbjbOp/th6NRf2VbhfykTF7ERaxJIlLFvETKSkFn0sM9HXcSfVDWOG1gevZlu0FvjgYLQRatq1gW3kLlzMsIIp3xrG6a8gbtwY+Yc9MPdJffw2ZDCG9rXAlYkT4JPEwqBpL9R6uwPr/ERwqiFEfHIe2KTzGD9wOyQdh2LIkG6omvEOOTJGJyYpGR+1ndGquay1NymQUwoOlf6FZ6PEdgvanqWvO2v7L/UQoYnGHdvC9OAWDBr8EWPH9IH+2ftIEsfD/+AV9JrmgLi9l/BKnI7U8z542fp3rDy0AO+Gr8WAunuhW6Um2k7agQOeNWVwV0rGPW7mQowesQcn3o/GHI+RoOFtoff2Pt4POoO9gy2Agm9wJvk61kwVo7EtH2/vv8PAk3/jNxm3vyWRZ7HS6xjOn3sB4xgjWMz/E71tC3PBhfmvkzHc/wl+UbTfBAAgfLqxHtMMgWFNWNx9Uw+L5/VC0XCnAcfxHuh0KQZ/tClcXxAh7s4J3IwWIwXncTHUHk6J3rj2Rowk1geXXzvBXVFZRXG4c+ImosUpwPmLCLV3QqL3NbwRJ4H1uYzXTu6oqw9AwxHjPTrhUswf+JJ0fizu7PfDS4kA+v6n8KhlN/ADfPAwRYw4/0O43H0i6rw/jOtvREjJ84XvC3uYf7qB9dICgr37BvUWz0MvGY6N+c6DMbb1YSzs1RABTs7o3rsOapvcRvApf8TMNpBZT7zYQBw5FohE8QdcP+yLHlMaI01h2XpD+30MHm3uiMob+NDV04N+JVPYu47D+h0z0FKGmwd+g6k4F1AdK+ctw0Dn82jSwRX1qrJIeZ8FzRodMMHTA046XDTacwLvR8+Bx0jC8LZ6eHv/PQad2YvBFlxAJKedNcSwryHG+c1jMOpuazSx4SPh5nFcMZ0H742/wiQ/FoFHjyEwUYwP1w/Dt8ckOGWcht9LCQT6/jj1qCW68QPgRgimngAAIABJREFU8zAF4jh/HLrcHRPrvMfh628gSsmDr+8L1Pu1DcaNtMcfd59D1P8X6Z5R9gPs33gKfn7xkKQGYKfnItzS4gBgIc5NwZv7/rga4oD1njyk3NmJTYeeIT9LC7uXeUN3igPCt+3Cvax8iA4twS7DaWiRsAteN1KAjJNYtLUKZkxuDq5xWwywf4C1m9/B0VKE1zfvIKH/KRwebw+Ahd2gSbC8NAabW8xBHQ0hbgdGoX63RuBzteHSric4tYt1rtxqaDduEAyK/YlNvoV9Gzfght5H1I89gJ6lvLVmP9iPjaf84BcvQWrATnguugVpEcXITXmD+/5XEeKwHp68FNzZuQmHnuUjS2s3lnnrYopDOLbtuoesfBEOLdkFw2ktkLDLC9IiLsLWKjMwrTkXxm0HwP7BWmx+5whL0WvcvJOA/qcOY7y9tC9wGDEadt0PIyCLh2izdjC4dgwRozshpFJ/jK3/AVsnhKGml4P048jQCb9UDcCas0noP8UEuro6sG/eCg5d28MBLOK3bsetmvOwzYIHwBD1HSyh8ay0tbL4+OARMruPRP8yy/AMEh6ewK5LryBKSsfh/Rdh3K8nnMytMUKe7Vb7iMdHvXHzvRjRV/fhcLsZ+L2tHcrll7y8Zz1+HknoU+IH+lge+C4joJTYWEoRKLv8JiduySdKjEui3BKPS08uaTdbTmGfUijuQyb9M/dmJSQWE0lykyj6bTxlykg0P2g+DV8b/nUXMmWWVVXlU9D84bQ2/Ntu6UmkBaSk6LcUL6uAxcUIKDkunjKERCTMpdwvbae8nlRTLr3Yu4DWXomgqJdP6F7ATfrP5XPkvew3GrM7SenT4ow4evn4AT0KiaJUObRbyadEikvKLXX5VF7+GcpKSqJcIiJxJsWFPKWw+E8Vb3s592lx/2l0uZwU0wqRJIvioxMop4wZ5ZHf2OY08Xo+keQVrXDtTn8nM0SSKDq09WzBhWeGkgJP0uHDq2nRruAypzyFma9p+6zl9PgHX3KXZMVTdEKOjHc0l66Oa0K9JyynXcGZdHVCJ5q8egP9/URIxCTRQXdHGudfaEhZdHKgAw31ySKiPLo0ugVNvll0Gi/zzGCqPeD4F6cCOd7u1GB6YMk6EYfS6t6/0d6vdGIg23a/Tf/SmRMA8GBQTd6ymRxxdVG1Ro2vj5tngGo2cm58EMDRrQp5P1e8eNDQAKBhDlv74n8vBj/b+xEd1tT5OjqxorLKk+A9IhL4qEYXsPdjB6yp823+3HjSAsK8ZAFli6sLM5vCRTa9Yl9o8uqpfJKEbca45e/xZ6gD7AwB6Q4ci0z9d8iRKK8nDWMbNGhmozAMz6CaDPuRl38uDM0L9mA0jGDT0FnVopRP+i2xcFUMlm31RYNFfWD9T6KueYawsjWU8QMfjm2dcOT6SZxJ+IhP5hqIO3UC+/ISYNh7uvTCsyQCz7IaoF/zOAxY8QaicY2LnfTMQfglH3B6TYDzD+4BeYZWkFlE6KHj2O5YNl8fHR2NYDWyBVYs4mLKHD7ANcfQDUsQ47UWez41guHHZ7hfbxPW9DVE7osTuBKRigjfIwioNRJuVjwYua/G+pBlWLFVA+2tchDm/xZJMcdxIbwFBtTnA2wGgjbvA03fiVG2X9fAsm33G1WBA93/qT7S6UHmpGkzmvy+u78j5ZKELaOmmhziappT122v/qFZHBGRhMKWNSVNDpc0zbvSNkV+UP6FYpIv0mRHQzKq3YH+8JhCUyeNoeHDx5HnsRD6B2/f/DDlR1+hw1cq0C1SBUick0LJmUKS+vVLpawyJsdQyr7+1Gf7h1Jf9GISCP4N9imk/Pwi34X5+WVrPz/zI2WpuHrE5GVQeo6EmNx0Ss7IJXHBDPPjw7PkG/qpojJdYVLznL5JLJIfX8B/Xn8CSxxwtczRtHsX1JP5JfRP6QfCz3IicP3qa+i16IZWNv+D2LUKgqip9U9JgAtj+iNkqh+WNPwXLxL9n0o9OKmlllr/W2LT8DTgA2o2+4ilv9/G4POr4FKOy59q/RxSf06opZZa/1ti4/Ho0jkEPjeGy4o/1QPTv1TqmVOhRGkIv3UZLyv1wYBWxj/ZBTAG2VF3ceWeCC2HdEKN0nuW3wKVEwbj6JrzeMNywCEJRIw5Ok6ZhA6Fx0lFwTi88hyiwQUj0YbzyLlwt/8Ou+I/CWhOLbXU+kn0Ize8fhoxGfT8sAc56/Gpzfqfa9OXiCgr9AzNa29GmrWmkyyfjN8MlWM+0sXRNUnDoCftTyl7GDQ/aiv1bDGezrz+zsfkfxLQnFpqqfXjpf44BQCuMZwG/IFWPxyZLFuGju4Y3dlW7pFwbrUROJeUgBN/yGIzqCCuCbpNGIz6wse4EZBd5mdO+mc0nLwU/eoYfd91YA0TVC7rskMttdT6P9S/vieQDw9kIcxOR1ZZeh0AQCLILvlcKedfEkEuhOVAj6ikrwFyiQTIFVFZ52Qy4yhBrlMBKFgkjcZDMaR5Dq54+5TwqwcIEHj1M1r0Ui+zqaWWWv+c/rUHIpjEm/h7122kMdkIu3Ydaa1W4ejmfrDhscgI2oAZe9PRopM9PpzZh5du23FqVjPoAsgOPoDVByJgULMK4i4cRmybtTiyogeqFcTLZgZi1eDxuPLkKcKoK3ZcO4JhpS6mMdFHMazXVPhr9cPfJ7egTdImeIzYjGfWI7D97yXoV4/Fs02jMPp2W5w4Px11swOxaf5BJNVqDLOsh7hyR4iOy//GgvY8BJ/8G9t2H0dM8xlo92IV1j+sjXUv/4PJpq/hvWA9npg2gh0lIPR6PFg0l1ER7xG4xwtbDpzFpwHXcW1OdURd2ohly/YhqtUCDMy/jNM3gxDOc8e+G/swwErOEMOzx6Bh7bBi+mEcjxmJWYX7Spn+COB2wMIvx+Nz8erkFpyIrQRzIx4EqSI0GD4R3WsUnanOCj6I1fvCoGdlBr7kMzgOv2HKb/Why2bi8bG9uJOuA21xIiKTLDFo3gS0LuWqSQqaO4McHiE3XYI6g6bi9/r6UEsttf6P9KPXFb9KiuCBkhja6KpLdec+ICER5fkOJzOL0XQ5j4hJOEq/Ow2hU6nSHY0s3xFkoduOtsQxRMI7NMVWk6z67qQXUlohTbTVIueloTL2WST0apUL6ViOoSu5RET5dHeWA+m6rKbXUqobJR+YQDOv5HwdkCsvnXxHO1DrVeEFaefR7an2xJez51QGKqcQKKhAGadoYFU+NV4cXJAuQwkHF9C654U1kE9PV7cjlwlXKLlgU4hJPksjmrvTvoK2EL7cRO2t29K6MKn7lDy/0VTdoCftTycSv1hMTUzcaEO4mIgk9Hp1KzLrtksKQZRm4OcAzamlllo/XP/KlRqF8ECeDUbuuYXTs5tBIysCt57EQ5jxEekMg5ijO3G9Zjd0N5UW27D3boQnXMIUm8Jq4MGmdWc0kNIKUbcGB8mJiSjrU5cHhyHD8UuOH45fywaggWoW1UDPT+NEmARg4nDmiSl+7aD/VUCuGplnsNNHG+261i6Y2mrC0qKq/GW10lA5RUBBRRVr3AMj3Ksh/Pgh3BMCYKJw7k019Cm8wJjhgzWbUuA6rAMKt+e4Zj3Qt84DrNx0B/nIxdUN6xHc3AMe9aUzKe02M+F9ajn6GAEa9r9j8dpp6GItjc/CsR60Qp8grMRK5s8CmlNLLbV+pP6Vy3qF8MCly1ajm4wb+oZmGvDdMh/nLNujX2Nb6CENBDHevIkDV0e7WCfPh6GRvEsQXHALaYWyfrX6DcM7L8bkoxeR1t0eB583hIfrYZw++gRzh9xGWI0BGM9XDOQKTk4GIHVnXRzIJY54ich8Hbjpfh2kS1ZZOMWJgHKlh3YjB6LWgSM4dG05Wlr5Iqn2YBSu8IkiniM0xwBORsWXObkwMtJD0vNgJIrMERqeiSquVtAp/NmwHjp2K4y+BuqY+GLHn7NhbGWFaoIEiBmzsgOmLNDciR8JmlNLLbX+af0rZ04K4YGicGzq2wPeRhOwcGxX1PrSwXNhaKiHTw9v4aGg2GOCaEQpQpXKlQl6jegNvVtHsX/PEXzsOg8LRnZAus9+bPKOR6Pf60IDXwfk4mjrQIuJx9u3ZTk631v8psMwuEkGfA+dgt+lT2jSp/oXI+FVqYoq3M/4LCg+yBEEgjxomZjCSKMKzE01kJOVKYMBySL+yDB0/DP2v+ydZ1gUVxtAz+7CghQBsSCoYBd7L7H32KMxsfcaTUzUaOxd0Rh7CfYSRZMYS8QSNbaoqNi7KIIFpEQRYam7+34/AOmKBkvyzcnj84Sddmf23blz79z7HppP/p6pY76mT+NiWKgAYyj3H0RmUqI0ojkFBYX/C/6VldPL5IFWz/7i4Bkd5hZmqIgj0PcBzyWO2Bgtldp8jPODdQz7ah3nQ2LRPznLsolb8bfUgCSI2JJ10QYMRjBKehVaElaN+/C5wzFmrM1J90/zk7dtT1rFbWJZQB06Jg48eBMhl7Z8cxo4hbJz8WpuxADEExIahjEmmpiMCpNOKvcSoeCr0JSie8+66PdNZHZ0fT5OobHVFO1E3ybhnDjim9za0Z3jyDkLOvZrQy51Htr1a4/2z1/YE5osFAz0mM3Kmzq8dh8irlZrGudVA0aeP3jE03gDxtgT/Lrd/8X6mYvmQHftF+Yv+5OHb+YvU1BQ+JegmTJlypT3XYjXxqwYNSoY8fZYwvez5zJv+a/cKfoVs7+sTE5zC8JObMZ9xSq2H7tKTAkXwv/cxZ+XYinT/zu6Ot7it6VzmT17Nkv2RtBk4gw6uei4sm0RSzaf416sJWWql0N1fgULVx/l5lNzStStR9l85unFyyaOOIYfw7f2NL79yA61mTO2D48R32EanZKEZyobKjSqjOHQQhb+8QRD2AV++dmPenMW0rdkJN6bF7Ns61l8wtTkL16SEi650GpdqFHZhHNrpjF91X6On/AmNOwxN5/EYWJejGpVCmKZVJgYP45vWo77L+fxj7OmRKUy5LixnkWrjnI7yoZS1ctjdnkl81f+hY/OmrJ16uCa52X5XFRYu6i5sPY8lafMomWBFF14alsqNquFbvs81p8L4ul9LzwW/kxMT3fmfuaMFhWWpRvRMOdR5s09SFDcEy7v28Yxs+YMaOaCS+4YvLbu4bZJDkJP7eKgqjxl/Xay56Y55Vt0pGpBPZf2XsCxvJpTp+7x5JE3vy3dyP36c1gypCKWqjguLuhKt9m3KNW3M5WtsqvbU0FB4UPj352+yBhFyIMQyFuIvBYpGoGGSB4HRGFTKC8WGAgPfEScvXNyBum4pzwIEvIVsucfJ5WOCifCxOaFadMY8QydpS3WGbRJDRGPeaTLSUEHy6w1WY0xhNwPwJi3MLlFh97K+h1lGY/lnvcNLKtUIrN5yUbdY/xCTHAqnCfjMhl1PL73kDj7YjjbpXy1aSAiwI+/zQtQ2N4c9DrCY82xsUwzxdgQzsP7OuycHbHSpP485JkZee3/g1nPFRQUXvDvrpwUFBQUFP6T/CvfOSkoKCgo/LdRKicFBQUFhQ8OpXJSUFBQUPjgUConBYUPGOPTs+w5FvC+i/HfJvI8e/7wI+7Vayq8QzLOEKHz5a+rGj6q6ZJG0xDLwzP7OHw1knzVm9CgvMM7Gj32aoy6QK6f9+birRBMHEtRtnw5SuV6yPm7BalV0fZ9F08hFRGcXvs9O67riDOCysQMC3MTMBgxtXemzEctaF2rYAaxFYPfH2vZ7B2JRQ4NotITFWVL7R69aeScZtxl3AP+WL4Gr1hrcppCvEkRWtR7xt5rjRjV3Q7v9YvZ75/5ZCmVVUW6DP+EEhqI8j/DheiSfORqCyF/snC6Bxf/tqTJlAX0KvkWxItJRHjxw/g/qDJjUpoFRnSB1znvfZFbISY4lipL+XKlyPXwPHcL1kIJ99fEqgzO/t8yftt3zOlYUHli/1BIlWlP5yfH1n4rTQrkkNw9dkh0ymWGENn3bW35aOAWuR5wW3YOqyvVh+6SwPdthTM8lTNLe0kV59LSZtRS+Xnvfvl900IZ0aK42FlYSNVp196uIE/hjYk8MkxKaJ3li4NJkaaXZ3f2ycwWJaRMz41yO+UXp/eX34bUkuo9VsnFZ0kfGuTJmaXyedU6MsIzIFlQaAiRHf0bycBdwS8+0z/eK8Or5JLq06+/SMAbsqOPFDR1kj6/P09czyDxEYFyZfcMaVmsrax5KiKGQFnWxFxMK06Si/FJu18n7excZZRXiiy8MVfkr9NPslGS+Fz+HPmpjD+pS/Wp4ekZWdqrijiXbiOjlv4se/f/LpsWjpAWxe3EwqKqTLumRPsbob8jSzt1kRX3PjTV6P8vqVtORlsqdPuC5muXcClNJaY7MoUvNzgy43ZnSttB6Rkj2F7qS8Y2qcP6T3K9u9o0FbFcmv8pLScG03nHERZ/nJQctTltunSn6bCGjI/WZbBdBPd8dbgUdUj9lKR7zO17ocSpbSjo6oxt4sKox7fxDY1FUGNdoBSOen98gqISMjCoNJhZ5cLBKT82qea2xhLi60NQYqoflTY3hUvZE3XXh6CoxM80ZljlcsApvw2ZT4tNX1b9Uz9uPYrIIEWQClP7wrjaRnD7Xiix6SYJqMlZsDQudol7Mj7D58QJfIyFqFSlALGhBlyK5HlnT45mtrZYqLSYmSUn3rUp9jHfze3OjsrDGNWgKbv6OABxXJrbjUFejdhzqj8VXzSp1OSqPpS183yp3rEHBY/+wTelTTCG7mDVsaJ8tTQ5Wa7GoTljRzSnV1IiCkywcciNlUqLpbU2cT01Jlb5Kdd6LMvvj8LjoR7s8tPT/SClo0uTlP9WbZ0Luxxp/F8+u/n55OfUqpE9vwXDjeXMfdCKdTUtkj+MvcT8T1syMbgzO44s5uMk1UjzNnTp3pRhDceTcbjfw1fnQlGH1N+s7vFt7oXGobYpiKuzbeI1iOLxbV9CYwXU1hQo5YjePwsxGxuCr08QCeGuQpu7MKXso7jrE0RU4mcaMytyOTiR3+Zlk8DTxruep363eBSRQY5LlSn2hV2xjbjNvdDY9Jlc1DkpWNqF5HD34cQJH4yFKlGlQCyhBheKJCaBRlOMfv1z0WTmHjqtbotN2n0pvHNSR6uVLTYmFliYpZ15r+Pghl8JLF+feknfmnVt6lcKY9eG3YQmfpQgzHt3GB+sZ9zM46jaTmTqx2mydqvtaTbhW+qbxqS7iRv81jG4/UyORqVZYKol9uJcOlSqSNs550labGJm5NLcz+i7/gGYqtGYGvFZ+hlV63+Nx8XLeO1by5RezWj8+US2+yTlwzNBqwnjt6G1qNp1JX4qM0zRYGr0YelnVan/tQcXL3uxb+0UejVrzOcTt+OTQSq99GU1ErBxEJ0menDo1Cm2fNuUal1+4JDXcTyXD6Xz5KNgakLs6em0rNqSibuvcuPGDa5f9Wb/woGM3vYkccf32dSzDeO8DFjGXGJFj1o0nuGVpX53/aU5DJh1jgwdj9mAJm9ecqkiuXv7fsIZh25j5rzzlOnRn6oZ9CNb1h5A18In+X7ObsIB4qKJDr7I6RspL6ga+yYtqWf3shtjFH53HxKHmvxVHDEJTDhDq6J1aFA2V+aVtvEpR1ds5Uq2XZA4zq7fjmXrdiTXJ0YerB/HzOMq2k6cmlwxJaK2b8aEb+tjmk6uacBv3WDazzxK+nCP5eLcDlSq2JY5519EO2bGS8z9rC8J4Z7FmDXRogn7jaG1qtJ1pR8qM1PQmGL0WcpnVevztcdFLnvtY+2UXjRr/DkTt/uQUebIdPFuDGDjoE5M9DjEqVNb+LZpNbr8cAiv454sH9qZyUdjMDWJ5fT0llRtOZHdV29w48Z1rnrvZ+HA0SSH+yZ6thmHl8GSmEsr6FGrMTO8Uke7eZ12lPPewK6Q7LaMKrwR6dpShseyrLF56m692DPyXWlTydt7V4quvhg5OLigmDp/IYdiRMJ+6yVOtlVk0pmMhENvA4MEujcXC5WltF7zdybr6CUmJm03R7xcmNlaijnklQ4/BafvhtF5SN/yJcTBoqQM9kxeHrZukAzbH5N87KWNJUfhL+VI0kfyXLxn1Rd7p09kjW9S10CM7O3nKDnarpcXNiJDoCxtnEMKf3lEkjf1lln17cXpkzXim6pXIaOy6uXO2mWy65mISKwc/aqI5Gi0JKF7VX9LVi7zTFjrxgyplqOCTLiQ4vyjT8uhv8ISivFosTS0ayvrwxKXRZ6Q8SPXSmZXMsUFkuPftpRvjkS/cs1XEX9xklQ0Ky7fpJFURRz8QopYlJHRfyUcI+KXzpLLtKgMO5ZZbMXIvv5OYuLQV3ZHi4j+lsxvkFO0jh9J36mrZNepuxKWQW9XrNcocdUWli+TvsT4czL1u7XyJMU6z08ulYEdGkmdzxbK5aR9RO+S3o6lE7r1oi/Lpm/bSUlrUynY9EsZP2GCTP7pwovtDSEnZMl334nbogUy7ZuBMnrTddGJXvx2TpFeretJvZG/yumf58uk/u2l94orEisiEn9ZJteoL3PupAgGQ6C4N7cQlWVryTzcYyR9uF+Qma2LiUPeDvJTcPpOR51HXylfwkEsSg4WzxfLw2TdoGGSHO5ZjNmYvdLPMYe0XZ/s3jIELpXGOVJcYxF57j1L6ts7ySdrfNP4xTKId/0dWbtslySE+1H5qkgOabQkUBLCfaUs84wWEb3cmFFNclSYIKnD/ZAkhLtBHi1uKHZt10tyuI+XkWvTXshI+bVbCen+W2TG11fhnZK1HhxjMMF/g3VOmxRPjypy2ljD38EEG8CqTCv69utGQ5d3ZeHQ43fHjzi1LfkdM7OkajAzS1Me3RG2h3dj1cACHHJfj08Gvgabpm6sHWzGT/37sep2wuOwVmuBNsU79/TWdGuqjnSjr/VeZi48kdwCUakAVYq8fKr0OfqsqzLSrS/We2ey8ESKp7kMy6qhWJ8htM2o30FTkgFDWmVynEiOHomlVp2Et+Vqy/zkNz3AzKFruBoBWNZi2FeNXzHAxUjo4SnMDu7C8HrZNBRGorh/dh+enp547vqVdT8Mp+fsx3y+6Xem1zEHDAT7PyQCG+xsMwtXFba5csJTf/zDjKApyVfrNvB16SB+nTaQdh8VJ2/e0nSYdYx0D8XyDO8N05g4cSxfdx/Eyqupmz/WHw1lXuc83LoeQFRGD9Tm5ek2dx3f1jGjYJOvmTp9OlO6V0pYFnGU0c0GcaXuKEYP+4aJs/thsqArU07qcWk3kZnNNJzf/RNe+XryaXkNAb4BCQlvo69xLcCRIo4pBlvo/bjjF4faNj+Zh7sZ6cN9O+HdVjGwwCHc1/tkoCexoanbWgab/UT/fqtICHctWgttitReWY/ZhHBP6RZLn//QuupI3Ppas3fmQlKGe4bxrilGnyEZd7NpSg5gSCvzjI8TeZQjsbVICHc1lvnzY3pgJkPXXCUh3IfxVeO0MWxG8aI5uX3F9631CihknaxVTioTTEzTZ7UWETAxxRQwKfkZ034YToO8726siwggccTFZTUDk5HgnX+gat6Wun37UeP6GlacyqBzQWVDIzcP3MqfZVS3yZwIz+LutZWoWdmSgEvneF0Lh7ZSTSpbBnDpXEDiDSSLZX0ZxmCOL5vA2LFjGNGvPUPW3SM+aZlte9xWDibXgS+oWeFjxm67g5VzISwz21ekD56zu9JydDCtexXnsfcZzpx5xb+z3lwPTNuZlJZ4NNYFKFSoEM5Fy9Go32y2H9qBW/siie80VFjkMEMlkURGZtbdIugidIg6BxY5EuLPxOUTvj/oS9CDixzYvIBRrXLiNaUNHeffSH2DVtlSrdckpk+dyuSx3almlz5+TcxyvOSdYGYYCfr5B9ZENqZbU/uEH5pZBZrUjOLQ/hvoUWORwxwxuFCplj3lv/qVA3M+xhowhoXw1CwnNqkGAgoJ4R5H1sM9mJ1/qGjeti59+9Xg+poVZBzujXDzcKP82VF0m3yCrId72pjNKloq1ayMZcAlzr34ofzzeDcGH2fZhLGMHTOCfu2HsO7ei2jHtr0bKwfn4sAXNanw8Vi23bHCuVDaaFdjZ2fN06Dg1zwfhbdB1po5Js64OKqIeB6e4v2N8OxZBKr8hSjwXpSFJhQtWQStHObu7QAMFOWVg3oNd/E4GE2JITe59HdpGlQJYfGyXUyo2wn7tOtqyzB0w0ou1+9Kjy8rcLB51kolIqA1x/y1E2YnqDO05onZz1+nrJmhzke9oTOYXskEIs9iO9cnxUINhdot4ESNT/lxzJdM6lqPs/f3s2dkpQxbTzrf0xw67I1fZDnuHN9HcFbOT6XBrlpuyjgWfslKptgWLEv58pml4FVjX7UKRVRnuH0rAj7K4OyNT7jlE4LatQpVrMD49BzeIRWpUcoEC8cKNO1agaZdv6Bb+abU3rSFS99Mp0ramFVryVWuA581uJRNA0L0+N68Q5Tk4OSG1dxJvF76on3oUyrXi5aIxqEgBdMEruj1GNSa1PFsUpSSRbTI4bvcDjBA0VcPYTfc9eBgdAmG3LzE36UbUCVkMct2TaBup/TXUFtmKBtWXqZ+1x58WeEgWQv3NDH7OoggaDFP+qFkQ7yr89Vj6IzpJIS7LanDvRDtFpygxqc/MubLSXStd5b7+/cwslLqaNdo1BiNStX0IZC1akVTjLq1CjLrsi9BRnBRA8an3PMLI/dH9ajw+o+V2YCavK0+paHNAQ7v3IbPiO9wfcXvNdbbgys5y1L/xlWuAg5162I6z52Nvh0ZnsGPXe3QjsWbx9G86RB6BdSmRtrpJmmJu8TZS/GU71qfPK95h4u7dJZL8eXpWj9htNzrlvWVWFVlxAhXLGJjiDXTortyledlKuDiUIev1h+lkkNjms2ai+dgDzpm0HyyrNCThftb0X56XxaatWbzmKpYpF/traCt1ps+1X9kzu7dBPXuTZpBZxgf7eJ3bzPqzegzvg5FAAAgAElEQVRJWROQx3+y5YAdVUulfGDRUrJVM0qt+zvj7jkAdSG69i/0D0tr4PbWnynZuROOTvkwMXWhYa/+1MpUuJxoXE6Bxi4XNlGXCU/ZQlLnpdWnDbE5cJid23wY8Z3rKx7GYvH2uELOsvW5cfUq4EDduqbMc9+Ib8fhGdRtahzaLWbzuOY0HdKLgNo1eHW4p47ZrBPHpbOXiC/flfqJP5TsjnerqiMY4WpBbEwsZlodV64+p0wFFxzqfMX6o5VwaNyMWXM9GenRMcVWQvjzKHLa2b1+ZauQ7WQQU/HojZJmWKaWj/r0pMzNgxx4nPDLNoYe5OC1YvQe0BQLwBh4FPd5W7gc8Q5KnYjaqSezpzbF2nsOg6cdJSjVA4+OG1vGM9z9YqK47gm7NwbRaPwgevfuTe/evek7fhI9nU+zyv1MCrldPNExyR3hFlXHsGlpEx6evJrcJQaIMU3fijGMU27fsUk7CLehZV/U+iKSIDJM3pL0m57C7btNaAe5MbSsSdbLimA0CoikH1aeTpKoxsoqDI+J8zkbp0Z1cRmTtz5M3M6Wag2qkNtMi/Zlv0q1PfUnLKbN5Vm438qOp0tJ/O8VaEozbNlUKp1xY9zONF1Ien+2jpnL9bpuLBmUVBnF4f3Tj5xM0z8Vfv0W8R81pmJSRSEJQsZX5+VPX8aELuWkv7RYWWqJ0UUh6AkOCgE0OHcaSAvdn+y5nNw9Zbi7konLb2J4sbmkP75lCYrb/U3Qs5TfqhqnnrOZ2tQa7zmDmXY0KPV10N1gy/jhuF9MjI4nu9kY1Ijxg3onxlBfxk/qifPpVbifSY4gQ3w0yeFuQdUxm1ja5CEnr6aK9izEbPK5iDFFudPFoZGwU258t0nLILehJGyaxXhPFIKKpH+6SPd7VFthFebBxPlniVOruLhsMlsfJm5nW40GVXJjpk37xKAn8NFTXEoVf4NuXIXsJpVs0PjsNkd/c+fH9SfwfW5G/oKO5HV2wsYE1A7V+CjPcRYsuoDKLIjd834ivNdy5n7ihCkQtnMEbYf9gqr5IJo7v8VZ86mLT94aHWjjGs3JFeOZvOIwl69d5KTnT6zZ/Af3C/RgXP8qWKsiuLbxa4aseUa5pg2p5mSFCoi6f4uTB35l175rxFdqRD37R+xeMI9Fu3wwr1CNSs62aFBjW74JlWO8eVD0U5q4mBDpc4BV7ms5dDWUmLgQrhzezda1mzid43MWrBpFnVwqQMe941tYvXob5x8KdsXLUqqYBQ8PrsJ97SGuhsYQF3KFw7u3snbTaXJ8voBVo+qQK4tlbVDMioBTHriv/Bnv+0bsipfFtUQ+LFVgDLvO7hXLWX/8Fn9HRhB4zYtjB3ewetoY1pl2Z0ZHV8yfH2PeZA+uR8QQ7n+cFe4nKTpmAcMr2b38KVhtS0nrv5h/oBAd6+d7wy6wCM6sd2Ppxr38dTeYZ+FhhISZUqpyYTLzB5o41KJDU2uOTP+ONTfBKoee4Iu7WTx6IgcLjcPDvQ+uiT00EvoXvxwPxyTkPKfvPMdoCMf36Gq+323LsDkDKGP1HK91c3D3+IOTdwN58iSMYJ+7GIpVoUjOlAUwEnJ8JW7uuzjt85gIyUe5osH8OsedXadvEfBMh0Xh2pTPnwOn3M/4ZcUfRBhuc546NKteEFXOsjSto2L3nGWcCIzk75sH+fmoJe2HNkb/50Lc1u7jss9jnjwLQ+1SnRJJ77s09sR4L+W4fW/aFE/RuaHJS40ObXCNPsmK8ZNZcfgy1y6exPOnNWz+4z4FeoyjfxVrVBHX2Pj1ENY8K0fThtVwslIBUdy/dZIDv+5i37V4KjWqh/2j3SyYt4hdPuZUqFYJZ1sNqG0p36QyMd4PKPppE1xMIvE58KqYBXT3OL5lNau3neeh2FG8bClKWDzkwCp31h66SmhMHCFXDrN761o2nc7B5wtWMapOLlRkMd5dIjjt4c7Kn725b7SjeFlXSuSzRIWRsOu7WbF8Pcdv/U1kRCDXvI5xcMdqpo1Zh2n3GXR0Nef5sXlM9rhOREw4/sdX4H6yKGMWDKdsyneMBl9+mXccl2ED+CiXkififfPaPidjVBC3fUKxKOyKs03KXsEYnoTEYpvX5tXvft4KesLu3+Lu4yjM8hSmRNFMJHhvikFHZKwlVu+qL+ttExdOuN4GG204D/2fYOboklrY+DKMTwkIMsPJMdPhE28RIzHBtzjnfZtw+9LUrFwS+7Svq3T+3IsoSBEHA8FXjnHiWhjmhavwUbWi2L3F96OGiAB8Q7U4F8mTRmJpRPf4Lg/j81G8UNZ+H7o/htJ6z6fsW9wo4zjWh3H/1l0eR5mRp3AJiubJ3kRiBl0ksZZW76zr9m0TFx6O3sYGbfhD/J+Y4eiSl7ThbvCdR5vh5vy4cyjOSt303lFkgwoKHyIGX5b3nEXOH1bRPb9yp3z76Dg+uhs7P/6J+Y2s33dhFFCykisofJhoitJ/Yk1O/bCdACVhwVsn4uR81psNY0IDpWL6UFAqJwWFDxRtqQHM+vwZ2zwfvO+i/LeJPM1Wr/JMmtwI5VXTh4PSraegoKCg8MGhPCco/B8Qyb0jG1gwdwk7r2WUtttI6Kn1uLktY7t3YIqh+goKCu+LjFtOmcoGkxb/xVXNR9R0eT/j8hJLwYPLl3kYmVnDT41dsWqUzpcdw7MUudu/FuNT9n3TiNFPhvPzil6UziwvHWB8cob5PXuyq9YmDk2oRmY5KxQUFN4+qVtOUf4cXzeKpqXK0WH5pVSTThMWH2fdqKaUKteB5ZfSLn3XmJLD7DkHxremXv1OzNxzjosXL3Lx4nnO/rWHH7/uwDe//Z2B8+j1MIadZVnv6pRpOh7PR+YULGRN+IUNDK7uQL6aw9gdoKSI/KCJP81vO6JoNLDLSysmALV9Db4cUIO72z25qXytCgrvlSzLBhMWV6DbF81ZuySjpe8aLXlKNaF9fRfcTlnSsN+XfJkizYmhrR0TjhmIDfHlbpAuUQyoJXfhgqgC7hEap8amoCvOyUZBbvsmCPrU1gUoVTgXJm8qd3tfMsPCJgT9Y7nbq2WGhdQB/1zu9q4QI0YxwyJHFtc3MUGjj8uS10pBQeHtkUXZYNJiG0wsLMhk8TuXDQJoVBnd7CKJKjgSty+c0Go1hP02lFpVu7LST4WZqSna2IvM7VCJim3nkOxYM8N4aS6f9V3PA0xRv7Hc7T3KDLND7pYFmWF2yd0yRs+lOQOYdS47my4qlNerCgr/MtIZnjKSDaZavEwam+eWHjtSL333skERkXi5MrmymJrWlu/vJmvL4i/NkDGrg1/8HbO3nzjmaCvJDjSdePQtLyUcLKTkYE9Jdqytk0HD9icI1d5U7vaeZYb/WO6WJZlhdsndMkB3XL5t+Y1kg8swsVC7pY9TORlzJgPbYIar9xGncmMki6srKCi8JbLtcfLdywZTYPRhyzdd+Pzzz+nYrgnVW87lQqpXYgmytFQONJumuK0djNlP/em36naCXEyrxSLJKPiGcrf3LjP8p3K3rMoMs0XulgZjKIenzCa4y3Cyy2VITDjhsdbY2mYtz7Ta2goLXTgRijVBQeG9km01SYJsMLv29pqoS9Bl4RZGFdUAMfhvGsyM6FdtpMKm0Sw83K7RaFQ3Jpf5k5mVUy5/A7nbC2HaNOoWfUqNxYtYcWoYC+qmudOqbGg0ywO3a40Y1W0yZf6cSeWMd5iaRJnh4kvnCDDUp3CWB0smyt0WJ8jd6hfWZL2sLzvbRLlbHmIJOb+fiG5etKiXsCxB7vY5/b+oSYVfh/H9ool0LJl5prZIH0+WTprKNrO+zCn+GO8zj195fJXaigJlyuCY0W6NMYT6nOJXt+UEdf6WrsWydrG0tYcyvk5vZo7cQI6R7aha2FbJUK2g8B54L5rAt4s5Lp+NZuidVwzNAkBLmaEbWHm5Pl17fEmFlEbBN5C7fdAyww9U7paADt/Thzjs7UdkuTsc3xecJZ+OSmNHtdylcMygljaGXePP33dz+HE+Gn5aiSynpzNxomL9Svz66yE8d9liM6AdZd5HflsFhf9z/oOVE2BWmkpls7iu2oF2izczrnlThvQKoHaSUfC15W4fsszwQ5W7JWFJhZ4L2d+qPdP7LsSs9WbGVP1n+bDV9lXpPLoqn3WYR6PaQ1hbxZOBTq++aPrrCxk0MZih53+lR1qroYKCwjsji7LBlIv1GDOYt/s+ZIMAsfHxgJ74l027kgSlXbIDzUB8dEzyexuLqozZtJQmD0+S7Fh7TbnbhyIzzE6520tkhtkjd0uzC/v6TFjchsuz3MkWlyGgKVCCoqaP8A/M2ow3vZ8fj+xLUDK3UjEpKLxPUrWcjM9uc8xzDb9djud50E7W/+5Iy2bVKWQOYOTZ7WN4rvmNy/HPCdq5nt8dW9K2eoLW+tmfixk79hp9qn/K/LrvoJfe+Iwrv69i3nYf9HoTfpm9CNfhfWhXIbUsT3fvOD/v9OZJ/HN2r9xDtV41kRNL2Ox5ALvSxyk9qB7OWtA4d8P9pxv0359iY21Zhm0/huPMMUzrXIUdlRtTt3RejMEPeWbqQuMvJjKwkhkQwbWNI5j0RyRf9AnFmC9Bwhf18Dlqe1N8Vo9hSpOfmFo9gr2LNuN5wI7Sx0szqJ4zWjQ4d3Pnpxv9STp0pM9BNhy8TXzw36ycPpUjPCfI7wHRBfqw83BPqtlBgszwZ3Z6PyH++W5W7qlGn7qmeG84yO34YP5eOZ2pR+B5kB8PogvQZ+dhelazy3JZpzd34vGpLfziFURc0B+s312fgW3Kk0edIHfbfNiXuPv7mD9RQ3ELFXFP7nB8118Unn8DLaYUzunDN8NG8LhdLRyfH2PDnRbMX9vqlV+rxrkzvR278sv1YUwqnx0N+4QOwqxnkFRSTSoofAhkY+LX9y0bzA4M6CJjsczIKPiW5W7/NZlhVuRumWF8GkCQmRPZ4jKM8aRvsXHk234Bt+qvruxiPPtSbFw+tl9wIwurKygovCWy8ednjn3ebL5hv3M0GVdMACZ2OJethvNbO/R/p2IC0NrYJIxysylIsYyGpb8EdS4nHLOtJCpUCZ26WVs9Po54pfGkoPDeUTrWFf7bmJaiomsY50/78+qcEzoun72BqWt5XJRfhoLCe0XxOSn85zEEnWD14l+5bVqI2h0H82m5tP2FRp6c2cp6Ty/uqWsyYHgXKtoqtZOCwvtEqZwUFBQUFD44lMdDBQUFBYUPDqVyUlBQUFD44Mh4tF5mJlzjU24cPoiXnx7HGs1oVj7Pex82bgg6yfrlW7kYbYVdnmp0GdLhlVK5d43e15Mf95vSdnBznP/RBVOMvO8K/a3fWb7HhzgBlUkxWnz5CaWVoeUKCu+MrJtwdWeZ37EZ3SbMZ9HUwbSuWp6ms7yIfKfFTYP+Mm7tmjNwSRA1ezpxenpn2o4/9j5LlAFGQv9ay6xZ6zn17B/sRTHyvlNMSrWme7EbLB4zilHjNnJBsQ8qKLxTsmjC1XN1xXoihh/iYl1biPFlQ88G9J81mY099jOk4PvpHdTf3MnOizpU+ezJbZGPklWqkKtU7vdSlsxRk7/3dh73/ge7eFMjb8Q9fHUuFE2TI073+Db3QuNQ2xTE1dk28Qklise3fQlNUAFToJQjen8fgqISTbsaM6xyOeCU3yZ1lu7YEHx9gtAl2ne1uQtT2CQoCybfV5VVz1O/WzyKyGB+ksoU+8Ku2EbczoKR18gznxOc8DFSqFIVCsSGYnApkoXchGpyOuXHRg2PXrWqgoJCtpM1E67xKUHFujCibmK/kXlRunz5KS76xzwKSr55vFMTrj6cgJv3CTUCRh1PDDWYut+Ln78oA8QSesuLoyevEahLLl/s04f4+/nh5+dPcKQRo+4B5/66SEBspkfJPox69Cnvs4Y44gwAeqJ0LyvAmxp5DfitG0z7mUdJL+SN5eLcDlSq2JY5ySpgzIyXmPtZXxKEvBpMjT4s/awq9b/24OJlL/atnUKvZo35fOJ2koW8WjRhvzG0VlW6rvRDZWaaRZPvK8pqDGDjoE5M9DjEqVNb+LZpNbr8cAiv454sH9qZyUdjsmDkNXB/U0/ajPPCYBnDpRU9qNV4Bi8X8sYQdPUEf10MIDKzcayxodzyOsrJa4Hosji3V0FB4TVJpx98hQk3iZg/h0rhfJ3k56cJf79rE67h8R6Z3q60WKkQlVUZad1vlGy4Gi/xd7fI4Cr5pUwvd9m5cahUcXCVru6XRScGCT71g7R20ghopfGY2dLGyURUKo04f3FIYjI5TsS1X+WHWfNl2bLF8r3bGjn1NNFdG/tcgh8FyfN0qtvU6B8ck+XftpeqLo3l+zt6Ed0t+X1aV6laqLoMc58vA9vUlKK21lKiz8/yIKN9vamRN/6CzGxdTBzydpCfgtPvWOfRV8qXcBCLkoPFM1kFLOsGDZNkIW+gLG2cQwp/eST5+jz3lln17cXpkzWSLOTdK/0cc0jbF6rhrJp8X1JW/R1Zu2yXJAh5j8pXRXJIoyWBkiDkXSnLPKPllUZewyNZ3NBO2q5/4eOVE+NHSqZC3udnZX6rAmJqml+qtf1Mun5WWxw1iCpHe/lJJyISL3e3DJYq+ctIL/edsnFoFXFw7Srul3WZ7FBBQeFNecP+uFjO7ztJrn5f09ou4ZN3bcJVO7Rk1ODa2KhBbVuHYcu+p2ep28zrNYAVVxz4dEQ/2nUbRfeSvmz5ujvTveLJW6MrH5fSAHrOe8XwhftkPi7ihEuBjPIB6rm3dSAtR12n5uCvGdKvOnF7pzJn+zPAgO+ByXSoNZTfn7+8nJqC9ehR25qHj6MTup8sStKidRHig+5x43k9vv/di0senYjesogt9zJoeb6hkVd3ZDvh3VYxsMAh3Nf7kF7Ia0NTt7UMNvuJ/v1WkSDk1aK10JIs5FWl9ypZV2WkW1+s985kYQqtriqNajjLJt/MyqopRp8hbclYyDuAIa3MMz5QSiOv2pL8+U05MHMoa65GAJbUGvYVGQt54/CeM4AxewOx77SUA7t+YWW/Mqn6vfXX59FrwAquOHzKiH7t6DaqOyV9t/B19+l4vYvWt4LC/xFvVDkZfNey5G5n3MfVIikdXIIJdzgN8r6/0en6q1vxOBuJqB0oUMAE1Hlwym8BsTf42eMUsS9uthpKfdyZZq0nsPfufY6Oq5pu2KLh1hL6D/Wm3rSx1LZTg8aOMh0nM6qNLaDBxTU/2pK1qZ3z1eXS2uciZ0pFvLU1lmo7ytYshw2Qo2gxChBKUFBG3aJvYOQ1BrPzDxXN29alb78aXF+zglMZ9KapbBrh5uFG+bOj6Db5BOFZ3L22Uk0qWwZw6VxA+krv5RtSs7IlAZfOEZC0YRbL+jKSjLxjx4ygX/shrLuXNJTHlvZuKxmc6wBf1KzAx2O3ccfKmUIZJZTVX+f33TeIExNcq1UjJ2Bmn5ucL8JZz9WtHpyNFNQOBUgILycSwutnPE4ptZOCQnby+jVJ5FkWLwiil/soqn5ghlB9YCChBlCpzDA3A1BjZqZFhZHgwMepbqQmJqYv2VMc59avxqtIB7pUSnyLb1KCT4b1pXZi5fv0uBfR1eviGO/PX7+sY/XvV9+84OqESjPDXB1JRt7wRCNvFjDc9eBgdAmsbl7i79INqBKyhWW7nmS4rrbMUDas/JyIhT348pfALKZHFRKEvOZZMtam2jKNyfd1ypoZCUZeN9xmz2fRzM64pnjS0BRqx4ITVzk8ux5B7l2p12YeFzOq/PQBBIQYABUWVtYZ/DD0BAaGYkCFysw8oXWpNsNMqwJjMIGP3+H7VgWF/wNer3KKvcmmOQcoPnYSH+dL3DTyHdsFX4JJoUI4akAkjrh4ACNxsXEIGhwLFnyNFOx6fO88xL5iNYplOC8pCq8T9ylTLJTNay9gVV7Fqa0ns+ks0pBk5NVfYOe2DLrn0hGLt8cVcpbVc+PqVa76O1C3ril73Tfim+HGahzaLWbzuAJ4DunF2oxXSkXcpbNcii9Pg/p5Xi+Akky+DZJMvq9b1ldjVXUEI9pZExsTi/HpFS77G8DEgTpfrefo7hEU8JrFXM8Mhjaq7bG3UQNCVEREBpW0CYUKOaJBkLi4hGkWxjhi4wQ0jhQsqEyCUlDITrJuwtX7sfW7H/Cr2oz8QZc4f/485078xswfdgLvyYSb1NQw6okHTEp3pkcdG9TGYB491IMxlIeBUWBRke49aqBFSBK4GgwvmxekpbhrUbTqlO0CI2GnV7B0XzDEXeT4+Uiu7tiKv4UjTiV6s9ZjcObFNBgwYMSQdMM1GEnlqzUYMJCZffg1jbxPdrMxqBHjB/VOtNz2ZfyknjifXoX7meSuJ0N8NMlCXguqjtnE0iYPOXk1lY+X9ELeU7h9twntIDeGln3h4yVByJt8S8+SyTeLZUWMJAh501cZLzPy6lUXWTZ5K8lC3gZUyW2GVptBe09biVbNXDBR6bnhfZZwjPztc4dQA2CMJz7ehNKde1DHRo0x+BEJ4fWQhPDqTo8a70CwqaDw/0TK0RGGsFty+KdRUi+XWkxde8mPu87I/WgRMQTLnqFlxEKV8PrjxT+1rbRb91hERJ5sbC+2psVl+PF3NFrvqZcs/bS4mKoQlUkhafHdGjkZbBC9/w4ZUbeQlP5sjqxd0FMqFKgmgzbflljRy4O9Y6RubrWASqwr9pAFhx9JZoPtDE+OyNSOnWX8Bk/Zt2ODLJkzQ2ZvOC1PDCL6W7OkXqN54hcfLO6tqsmEcxFy8fDxDPcTfe+YrOpfQcw19tJw3G9y+bGvHJrcRPJorKXm8F/lcuBd2Te2vthpLKXa19vlRkSGuxHR3ZRfx7WTcvkcpVyLHjJk5EgZ3P1z6dxntKw6+yThPJ5flQ09XaVIh8VyNijpzHRy788JUt9aI7Z1x8h+/1h5enWHTG5eQEp0XizH/FN8X2FHZdynYxJH2EXI7f1u0tbJRCzKd5HxUybJ+BEDpWvHHjJ63Vl5krT7SF85tmaAlDczEZcOP4jntScScXu/uLV1EhOL8tJl/BSZNH6EDOzaUXqMXidnkzbMUlnjReIfyMl1g6VyDo04tpohOy+HJH5nBnl6bYeMa5hLNLZVpPuYyTJ12hQZ/3U3qetSSHpujxSJPSYja1aST76eK+u2bpZFXzSTBgO3yL00gwVffOd/H5UpDR3E1DSvVGjcWjr3bSnFtTkkV6HK0n7yPhHRi/+OEVK3UGn5bM5aWdCzghSoNkg23343Ma+g8P/Ef9SEa0T3+BZ3nlhT1LUg1m9cID3hD+8SEGeHS+F8L0yu4T91ovXdMRyZWobTEzuz0bYBrs4tGd6xWHadwEuK9HaNvAZdJLGWVvw3vIdxhIfrsbHREv7QnydmjrjktXhFV2Qsobeu8cC0MBWcDITqbMhvn6ZVZNTx+NYdnlgXxbWg9QcQ7woK/z0UZcabEBdDjIk55okZCKJ0cVhY/tstwAoKCgofDkrlpKCgoKDwwaEoMxQUFBQUPjiUyumfYLjLhi/7s/yykhFcQUFBITtRKqd/gP7GZpZs9kNv/bpTURUUFBQUXsZrygafcevIfv66E0O+Gi1oWSnfa0xs/bAxhp1k7aI/eIgaRE+8qgxdxnWhnNbAfc/5rDwdiYkJiMaVz77rTDmtnls79/K0wwR6FXkH47XiHnPt/D3CX0z1UaExsyZPoeIUzZuNgzFigrhy9A+uWnxMl3r5/m+eXl4lhIwLvc7hPVfJ2e5zPrJ7l1dFj6/nj+w3bcvg5s5vPDLw9eM7W09CQeH1STWwXOcnx9Z+K00K5EiflTz6qqzo11Y69hss/dpWEHutg7R2vy2ZTBn5d6J/JBs65BWNTWtZFZhiBlTkfvmiWiP57ucLEpSUZVt/TabX+UimXUmbDvxtlS1MfI98Ly3zqUWdp4F8PX+x/DBtuHSu4SLO1XvKIq+nmc7ZyjKx9+Sw+yCpamUqVaZelXd0Zh8ABglc114cHDuLRwYZyw1PL8jGgVXEUltH5qbNqP7WixYo69o7iGNnD8ksmXqWeZ34VlB4z6SunCLC5Fmsr8ytY5amctKL/6YpsuBM0gzRMPm9TwExqzVbbv+naieRmBMjpKRpLmm//nHCzV5/X3bNnCQ/XUutRdDfmCWtumySoH9cI7wG+jsy5yNTMa00SS4l1RzR3jKhoqmYlhgu2TL/Od5bxpU1/z+rnDIiXm6tWSI7E5UwMUe+kiLm76FyymayGt8KCu+brMkG0ZDnk1F8Uz3J2WCFo1Nu8pUoRb4U/QzvVDb4ljCr+QUDa8Ww78e13IwLYv8Pa4hoP47uZVJPSzVEFab7dx3Jl9UeHv0l5gyYxbl/NHZCjTrt8czLUqWcDQb/i1wITpvex0hMpI50h0wpOoxKa97ToNakf4dmjA3nybOYTBLD6tGFZ3AcwBgTie7fMl7khRDSSNjxiXQf5cnjxGxOqc0cenSRsVlMkptdRdOT2lUZl5DGSh/FS12VachqfCsovG+y3HluYZkcvHH+v7Hevz0/zWvzwrfzbHtvXPLUYPLZl2pGP3w0xeg1tC05L6zg6yELedRsNN1czdKtpq3Smc4V0n+eGVFemzlu9RFls/slne48Jy+Eo3auQMUXuhIDgX8uYdKEKUwf24OapeoybPt94p+e56dxnahZvClj3MfRtnIxHG3tKdJqJsefZHyrNT79i+979WTsmt/Z/v3n1GozD+8XutpwLq4dw1ej57BixTc0KtuEcXseYwQMgX+yZNIEpkwfS4+apag7bDv3M3l2ib3tycol0xn2zWquJt5ojUH7mTP9N/wNYHjwC0NbDGDTg6xWBwZ8N3WjdC57KvX/mduRARyd1goXOwfqDd/GtWdGjE+9+eGT8rRaeJ3oh8f5cVQHqhX9mAX3DBB5kd9WenIz4i6ebuOY+dutpKtB2PFZdGtWl0qFclOy60YyUnAlE1uz404AACAASURBVMn1bfNwW7Cc5UvmMnutF2GJpxAXEUJAcEYJZlOfx8PjPzKqQzWKfryAewaIur2b6d2qUaTuKFYvGETbuuUpkKckfX95mLXKMovx/WoMRD0LJihMUYUovCXStaVeZsI1BMixJV9InfymojJ1lCZuXpLU0Rd/6xeZOHK+HMnAuvqvI/qgfOFsIrZt1khgNpyOIeRPGdWyh/x0/x/uTO8rc+uYiknRzjJ/8wb5ceaX0rZCISlSf7CsvfQ8ebU7i6VVm3lyVy8iEiMnRpYU0/y9ZMczkej9A6WAaX5pt/SyhOkN8uzUFKltYyolRyTmBoy/IBMq5Ejs1tPLvXl1xcJ1tHjFikj0LumVz0n67YkWEYMEbOoklbr/LCEGEZFnsqu3k1g0XCj+cXdkcas2Mi+hABJzYqSUNM0vvXY8S39O8ZfEfdbP8iD6mHxdsoKMPRsvIgYJWvGx2NafL34GEUPIHhlUqpgMOZTyhYhebq/qL6N2hqXfp4iI/obMqplDCvTfK5EJhZCRJS2kptvNhPekhiBZ+8UI2ZsYwBE7eko+s49kzp2EMkd79pX85s3kx+CE5bFHv5IipgXlkx8vSYSIRB4aIkXMqsiUzN45xvvKlgF1pcWUE/LUIBJzeobULdROVj8REf1d2T28thT8dJNkUvoURMiOnvnE7KM5klC0eLkwoYJoczeR7889E5EI2du/oJi/WJ4FsiO+n3nLup4Vpcw3x0XJLKjwNni953i1I/W+XM6fHbuz4quejJr+Lcs/OcboUppE2eBbqkHfKZGc23AY28ZVid/8I6uv92RiuTdt7kTi47mUSVO3YdZ3DsUfe3Pm8au2UaG2KkCZMo4vyW+nwTT6PGvc3AlsupqTv/bC5UX3qoHbWzdxLqQUKyeMRQ0YnpWmTikhKECP2sYGa00BqjYsg61GDbVGMLLtj3Tauxvm1U13HOc+KznczJ6qJs+4td+bB7FPyfnEAIZ7bPrxIIWHrE7UX9jQdsV1AuKtsb4zi03nQii1cgJjEwpA6TqlkKAA9NikGuFpuO+HfcO25Ls4kYNRVZjjagLoOPXXZQrUmkoBNajzNGNQl+YcK2ySqmxFP5vDOEvbTC5RSbr3qsecqR78Ed6CDlb5ccovXPhlC9e+nUrZB7/inacjCxN7qtMKITPepzO1m5XFCjC6uuKi2kVgoAHSxYeBW0v6M9S7Hn8srY2dGvR2Zeg4uQFtbAG1C675tZQsWJtXuyq12OfKmcKbpcLa2hK1XVlqlrMBDBQtVgCOBRFkIBPFS0qyKb5tqtL5kwq4//X6myooZIU3uutqHT7iqxUzOVlqMBeuxkKp/0p/dRRXN3zPYZdhTP+sMg/2dmXN0kMMX/ExmRnSX4rOl9OHDuPtF0m5O8fZF5yV+VAqNHbVyF3KkcKZ3GhUOYtSt9dEmsbfpd5XX9N1ZikOTKqRWMZ4/PwDMC03hWluLUjbYRN3Ou3eLChVshDq4xk4jgC1TT5Mdi1k7PYCNOpQkSKWECpAvA8+/mpymKfoGdbaYKuFGD9/AkzLMWWaGy1e0WOkKfoJHYvGcuSrnUS3XEojKyDuIn95m1CjS/nEANUTYlGUmgUSL0jkTfb+egg/izp075Qrkz2rKfhZL5pN+pJNv4fSstg6LpQfSN2Nv7DJezTdj1zD5fPBvPGIabUaFWDMqC8t7hzrV3tRpPMSkl2VnzCsRNIKTznuFU31cY7E+//FriO3Ma/albbl3ux3pFapIFPlSkqyGt86bnr+wqmnGgzRJpT/pBM1E18uG8OusPv3C0RozLELjU48pgH/PzfgeUOHyrkxA9qW5OEfa9h7x4wKHXpQz/H/ZUKCQnby5m9AchahiGN+Yh3/KzOdYrm95Xs8cw9idHMHNLTlq14l+GXFMn6e3Ix+b/IDs6xAz4X7adV+On0XmtF68xiqZls9bkLJgWtw965Dpxnd+LLMcdZ+6ogaNdZWOQj98y8ux7agelLlEHeX87fsKZNuP0KkLhptMdcMjqHn+vxPaLXnE7wODaCwfh+/JS1S22Bj+Zyjh0+j69CIJCmyzvcuIRZW5Aj9k78ux9IiuQDcPX8L+0rlSTdNSH+Fg8eiqTejLhaAMfAs50Mr07dm4vwt3TEuGKswQgsY/Nm28hSFe9XjbLup7Ph4O71tyBj7NvRu+x1dN61hZdG/+XjiVAjwYOKa+RhMKvC1a1Zi18hrz1XX+3LnoT0VqxXLeF5SlBcn7pehTuhm1j6oSEPVKaadbEjbckVf7zivxWvEd9xNdm/xpcqaGdT3n02LHotZtm84xUJ2MLj3Ppqv/ZHuTpF4T1xIhABocGnYnJw/fszBLj0YigYHQwB3rHswQKmYFN6QLMsG40Lu4fckediV4e4xruTvS59Eydp7kQ1mG884u3A4qzW9GdXKKfGGoqXq4C+obzjI8pVXMxyJljXU2NefwOI2l5nlfisLJtuXEUd8PKA3JJhY1Q60X7iB0eWD2DSwO/MvxwBaKjWtT55bixg4chu3nxkwRtzAY/JqblrnTPzC44iLS/yG9bc5cCSSVgM+SzyGATFKgk7d+JS/Dp5BZ26BmQriAn158FyIi40BbSXafOzMg3XD+GrdeUJi9Tw5u4yJW/2xq9qU+nlusWjgSLbdfobBGMENj8msvmlNzozuVcYodLG5cMiXUFnE3LrFfRsnClgCGAn0PIdN848SWoEqWxr27k0lLnJFX4rSlhns7wVWNO7zOQ7HZrA2Z3c+zZ+Xtj1bEbdpGQF1OlIwRVnSCiFV5mZoiSD8uWCIjESMRgRjckvJYMCIMb3sEEBbHNeiWlK7KsM4vWIp+4KNxF08zvnIq+zY6o+FoxMleq/FY3BmFZNgMBjAaCDZVWkktavSkCzezJDXjG9teTr3d+aS+0o2nw4l7rE/jw1GHv2ylMOFP6O1kwawoUzJAslPt2onOo9ui6/7Onz0IRy448KQ7sVQcvUrvDEpX0BlKhuUGDn8VVExsyklbYd/L0uXzpNpU5fJsRSTfN61bDBbMDyWQwuHS88mJSWXVQlpt/SsvJjtob8t28a3l/K5LMSqYD3pO3aZHP4nk5p0+2Vou6ly+U0nD+luyd4FfaSipUpU5q7SefYvci5hJILE3lgqzfNoxNSpsYzccFbEECSHJjURJzOVqLSWkqdkK5lyKFgMIhLrNUpcTfNJzU5fyBi3uTKpb3vptfC0PDWIiP6RnFr3pVS31ohdvdGyxfuhXF/UVPKYmIlD+SbSbdIi+aZ6DrEu3lIm7w8SCTstCz8tIVYalahN7aRc1+VyLkJExCBBhyZJEyczUam0YpmnpLSackgyHysTI5cWtZdGPb4Xj21rZM73i2RS+wbSc9EO2bV+rkxbd1bSOhh1u/tJ5QF70g/aSUv8VZnRqLUsTTIMRh+RbxoMlD0pdphOCPnEIIa/f5NeBc3FoVonGblok3gMqpS4/He5EXxb9k5uKvk0WinTb5NcCUt7YgZ5cmSqdOw8XjZ47pMdG5bInBmzZcPpJ2IQvdyaVU8azfOT+GB3aVVtgpyLuCiHj4dkUPhouXdslfSvYC4a+4Yy7rfL8tj3kExukkc01jVl+K+XJfDuPhlb3040ltXk6+03Ul+nN4zv2OMjpXKzhXI3XkQiPeTz8sPk0KWzcmxjNynxuYckTv2SiA3tpWzKARGGR7LmkyoycMkiWeT5VBQU/glZV2YYI3lw7TpB6vyULFUIm3Q9Ih+SbPBDxMjTgCDMnBx56cN+dh4xKoQHIZC3UN4XosS406Op2PAoXc/9yUCr52idnLB9ae+WgcjHAUTZFCKvBRjCA3kUZ49znuSXSXFPHxAk+Shkn+YFkzGKkIQCkNfi1d07cU/9uRduTZHC9miJ48m9u4RZulAkX1pBYBynv6vLD2X2sa1nZu+ckokKj8DExjrx/ZKRiGc6LG2tX9lZZ4h4TFCcPU5pZYNZRR/Ow7sBxNm5UPjFOYTzU6fW3B1zhKllTjOx80ZsG7ji3HIYHV89muGdoL+6hE5jrtOoTwtyh15n/6/HMKv9KZ2+bUHED9M4lrsZjQpGcG3bAubeq8PyNYv4vEzCNYo6NoI643Ox7ugEKvxXevwV3guKz+n/jITK6Qhdz59mQukP42aYdaIICTGQ2/4hbk1HY7f+d4YU+ve904iLicHE3DyhsjJGoYuz4MNzVeqJCA1HncseS5UBAxo0iZfaGBPGM31ObFXhhMaZYW9jiYk6ebuYGDA3V2omhX+GEkH/Z0Q8DCDMEIq/33Mobfe+i/NaGG4uofPAuzStbeBhh6l88y+smAC05ilqIvWHWDEBmGCdxz7x/zWpekPU5nYktFdzkS9dN4AJ5h/k+Sj821BaTv9HGIPOsvPATZ4bBZXaDIeqLWleOrOhbh8mBt0zIk1yYmP276yYFBQUsoZSOf0fYri7ga9n61i6esj7LoqCgoJChiiPn/8ijE/PsudYwD/ci54bm5ew2e/fko0VIJLze/7A71+etlFBQSHrvJ5s8AVGQr22csKyA+3L/7s7mI1PT+E+bR33qwxjco9yCSmDDEGcXL+crRejsbLLQ7UuQ+hQOk2OiLgH/LF8DV6x1uQ0hXiTIrSo94y91xoxqrsLGqLwP3OB6JIf4WqbDc8AEV78MP4PqsyYlLr8ryuRU99i596ndJjQ6zUObiTs5FoW/fGQhMPEoyrThXFdyqE13Mdz/kpOR5pggqBx/YzvOpd788wLGWJFGWd/vh2/je/mpJ6f9GERwfmfV3PkoQHUtlTp1IeGTv+2QScKCh8IqQaW/4+984yKIunC8DszDBkBUUQwIBhQV9DPHDDngFlRUVxzWuO6ZsG05pwVFXTFsAZUzBkVEAMgioCgiCJJksRhpvt+Pxgk46DogtZzDocz093Vt7p76lZX3bpvUWKDOeDeH6NhVdSo296C1maULWL39yBVAUhY6Xe6kEZEJCWfFc1IQ6hDg448o+2dNUlsOp3u5Fy+xUXT2XEdacK5qM8Cf7KISzSrcXlqtuIFyYiI+7CTOquKqeFS7xLQRfpEN+cMpEUPCtHcKYaInOz5CmrTajl9jUai7L0TDdAXkXbv/ZT7NJOpacd5dOJpJH0/rToZvdoxlIbtfV3KBC45CndZQ3u8Mh8Qadhu6qElICjVpBl3y9CaPwajlJG7D8rrwGLEZHQzLiL5PhcK5w0nEfqdneaPQrvrBMzs1wPWs0ejtTIA2Uu4uHgjRaAJvQrqqFSnMRo3NkOFHFeKjzmL/XdN0b+b/udxUZFBNyyY3Q168i+ElUdhz/VrODLD/JtDIjn/XVgf1gvTWhSS+0hkhKGzbVAz1R2XrkVnSidwYTi/1R2tDl3AmiGNUEkFADgEnfdE1SkTUP8rjBIZDcVsm5pIdb+Ea9GZzwgXdh5b3Vvh0IU1GNKoUr5cfiWHCDXHjkP5w6twMbGo/WR4eW4/zvrF/xC9JcnzbRg1fjsexWRO3SpVrIyKqorkUGQwGEWhoNhgFhyCHbfiVZcpaKudf2ylzIkNckmI4S0wYeNOrBr2G9SFMiSGv8TbGB4Aj5RYDs2XXYHHicm5G/OMNKRFecPTPz3Hl0Lode6JtrpZA1qaMG3THr+V/9YxqAx4OZ6BRu++MCiiKMVE5Dik1rDBvEGVvnKyUQUtJk9Ay/TL2H3wJTIir2DDgST0X2iDH6JVp9oGfRs8gtO56CIcjxKq1tFHwNaR6Dl8EQ57RX1D6qmikQQdwdj+83ErVoaUj6EIjUrOYxdBEvUC9+94IiQhr8UZiAvxwh03b7xNzPrdpCAq9A3evHmD0LAYpIJDwmsv3H0QgJiyNEXIYJQE+d6litBzkjzfSdNX3KUEyUOaX18j17Be/GlbMtJpTEsflqGhjJQX5Dy6LokFIKWaM+huWgRdXNGX6mkKCAJNqt97LM11KkCuXBZAm9qXI2XDVjRm2X465x5M8bl2+kQPdkygAR3b0OAtviQljiKuraWx/TpQmzEH6PFdR9q6bRutmzuepuzwoLjYh+S8dQtt3bCIJk5YTTdypkmS+pJd83afdYaK4uMJa9IXV6NOY+fR/qfJJXCBCjwLnbDWJ3G1TjR23n76bqcphOR/R1Btm9OkyGlTQq7R1qn9qdugWbT7TlixhxzT396hg2vsaPHipbTtWlierWnksX0g/aYlJAg0qG6vsTR5811KSnOhURWFBFEV6j11PHVrbEzaQgEpVx1CTqHye5jgTmu6V6NqPf+mU4enUtMaHcju9kfiZK/JdUZz0hKAhBWs6M95VtTUVJeUBEpUscsWev7t48MMRplBceeU5k2bpq0m92QikuZ3TmVVbDDNZRRVEMqdk4SI0i/TeCMRQVSFJl4rvDmTvjlLczubkJZIQICAxLp1qf+qOznyxyXRyaEVqN5cj8+5x5KODyG9aq1p5uHAzO8SjtHgirWo44x95JNCRJRCrmOrUp1Z97LzlX06SgOrDKN/C5luyl2ZkhVJLPw0k6m6kg71OfCBvv40MkqJj6SIuOK5DKnPUmrS1K5YOQol4fdo359DqFu/SbTp0isFHFsaPd9vQ03bT6OTAUXsnX6DJlcXEYSGNPaivB5ZzklYnnruDiaJ7A1ttBQToEztt7wljtLJ/a96JBbq0NATSZmdj/+JSdxwKXlLiST3ZlFtJZBAvTWt9E0mLvYQWWkKCGILWuLNvBPj10HB0Z0UeG49ABo9Ey0LSQyXKTY4C+31S20oVaF8zQyBknE/rLsegsgwb1w7uhlze5WDh30fDNrkL88erQQVtdwxa0pq6hBLTNF+YO3MaDZVAxhoRaNc48GwUAcAZRhU1kVU2LvPQ1F8fDTiVMpBuzgictd2w+HFdxoHSn4Mp1s66NREimu7HfDVp0n0xskZ3dF5uReKEyEu1NWFVlwkoooxgqxs2Abj15/AxX3joO9hj0G9x2CVSwCSC9lf5r0Wtn/6o8emjRhc5yszIQrLo1a9qlAWVYCerhAA4VN8IvgMX5y/GAQpxIjzPQHHIzcRkkqQBXjhUXz24QLVGqhXWwNCdT3oaQgA/hPiE8rYsDmD8Q0o5Em4kH1YduI1XjrMwuTJkzF52gZcj8xAwPH5mDLv8Pe2sdTBxz3Gw4DMVlnd0AJdhs/AqiNuuLmqEfz+OQafIhpsgZZ2tqMRCAChOrS1s8PxhRCAz6FgRzIZOKHoC8l0c4jIrZ+Dfrq+OLDjRqGN71eT6gendbdgPH0F1s/pB13fA9hx4yvPIldS1Sxuz0AkgpDnv0p6RFSxATp0a4/6SsFwu+1biIOTwff0GTzXNUCyy9+wt1+GFXtuI+KroysEuTs/fDSiYnmAkiEVV0ENk/9h3J4buH1tJboWOG/HgisYvyYKxWwJtJphmA2H6KwfKK+BN6oCpOobw7R6xe9oXumEIm7i2DVdNDEzzeE0lFGnV1eYHfqI1C80ZII87U1RzY9Itzy0U32RWGgej+8gkljgaQJxbJ0rKkz8C90MRIDVH7CtfRJ7d56AXdexyHWalJdwPemOOBGHNCVz9BvaAnIh1YKVVLlQ3HRyhX+KANU7jYdVnXe4euASXqlYYJpt21xmUOInpJbThW6x2uxUvLlxAJt2XURE9X74Y9t1bKhWWFwhh8T4T1BvZosVy4agxOM8lCrBQE8ERMqQJDRC63a/5foRsnXGDEYmCokNCvVbY9TsP/Hnn/K/2SPQtIIY1TpOwpwpPQCUYbFBktc16/9nuWseMmlhB2Xg0ZHdeJAnpDnxRQCkrTqhYdZoXr7MUASiHF/LP+Tci88r86hRG7V0PyIyX7QXUFIiiVzYOdhNXITTbwp5H0nwwpZZDhCNnoteWYtKlZtg0uR24K7vwj6/3GfJeHkBx0KMMWTUGLQLW4KR24LAAeAjzmKS9Q7IOo+EjU0P6Me9zVRSFRmjQ7dyuLvPE1JDZUBkAC78FbRaN8tniuzDe8QZm6GWIqt8+US8PLcW46wGYtGtcrDZ7YpTmyehXaGOCQDEaNC6CdSiw7M7Y4UhUIKSCAClID4+Ac9POMM9heT3N+9/gIgHlCxg1acOlAUy+Dqtxb+vJeBTAnHCbjUuxvAFPIc5j1egzgzGT0Iu58QnBOK283ac9pXi02MXOJ73Qlh6YYfmJuHmNixYYAcnnzLU90vygoPjfSQQwIXfwpFzPvB0OIC70TzAR+P6DjscdC8obFkADT0J3HeswIYDF3D/kRduH12G2S4mWLmyJ7T4aLjttYfjkzTEuu3GpgvBiLqzG3aOT5Ce4I69y53gFemJQ8v34EFCOp442mHP3Q/wdl6ObTeigBfHsXjrVbzjACg3Qtsm0fD2znFd+Ujc3Dobtl1aoMeSm3gVE5Pd4+aC4OJwE9FiEYIOTsfEhbtwO6roVpYL98K5k7uw7cTLXN/zkTexdbYturTogSU3XyEmJtsGLsgFDjejIRYF4eD0iVi46zayTqNsbo1x1X2wZ99ReMZkICI0AhyKVlIVGlnjL6sQ7DkUBFn0NbwyngKbmnmzj3AIffwShm3aosh0tVwsvJ3tMLL3cKx7ZoIZThfh/LctmldSZKBAiIpDN2Bns4ewW+aIc+ePYdeav3HsmST/rsrm6N6jFtTwCecmt8LiyOrgjzvhQSIBXDhuHDwFH68DOP5UBoBDyKWDuPxWhBYLD2B1H2Mohx7FiDq60GswFS8sx6CH7kuc2Hcd7zmAPrnjn8NP4HvyH9yPJ4CPhNthFwXsZzB+EkoutiKNPkYllLLV+9+J5DcUEiEjIglF+l6jU0dPkKt7MMV9p2Cq5CtTqP0fN7+s+votpF2iHXuel0BBEnKb8z/quiWYMoVUh5D59Bvk4/WU4v8tWkmVe3+A+jWeQNu3bqUChVRlwbShRx/aEVpUjKCUHm+bQJM3uFJgXvncYiL99J4CXr7Ns0wgL2kUFehHLz8UN6aeo5RIf3r8yJ8iFInEZDB+MUT29vb2JePmlKCuofprZJJV1oGuphCACJqVTFGvQX3Urloeat+p8so1zJDqvAshrfrAXOv7TJAnu13F8+pd0eSbc8ERPgXewC1/DmrcG3gEvcWbJ4FI1q2JnsOHoLqfI474SSD78BAXz1/EVb9EmLbsivr6IgjK1UHlgJXYJpyBld0M8j1LKffXYPNHGywbalJEJgohDJv3Qa9WtfG1ArafS1IphwoVtKFa5H1VgoaePipoFfdkAog1K8LQsCI0xd9gJIPxk8IkM8oIGQH7MXO/LhatHwSjknaCqY/h6BiPHpO6oFJJlS1LQkyiEOX1NCDguMwoO/mmIpVUZelIhyryCakmPcCKGVfQesMydPzmrBsMBqO0w5xTGSLhoQOcorpihlW1/9qUH0wyPPfvQVSXmehrzMSbGYxfAeacGAwGg1HqYOMjDAaDwSh1FFNskEOUvxeC4+UxwxkxSNfvgU71v59QQpkk+Tm8Qo3R7DfNL+/LJSL4/iU8yGgJmy75xR25xGDcv/QAGS1t0MW4DAnXZcTgxa2L8CvXF0Na6ZauXlBKGHx93yG5sDEDoS5qNq0HhSLPvwiPlA8v8OSRNwKilWBo9hvMG5ih/LsnCK7aEg11SuIcDMbPR+42IzUUbofmootZAwzY5YO8a1D5mFOY0aEN2rTJ/Gs75B9EVmShRrnh8e7oXxgw5zDefjHlTSL8zq7BxKG2WHXpXf6UPIl+OLtmIobarsKld2UorxofD+8Ti2E7aCJ2usfnXVb83yNWg8qna1jUuy3aDV2Fi4+94e3tDe8nXrh3cTdmDJiJ0x+/XQ2Kj/fCztHNUL/LIri+V0XValpIfOqESc0MUKnFdFwIZzoYDEZh5O4bZokNHtwOn3y7cgg8fBnVjiVA2lYNgAACoQiiUtUlLgXIXsDR0Q3RTz7AwXsCVjQuqvutjQb9x6Lrpi04UODmBug/tis2bSlwawkjQ+DBPQjoPw19db/1eF00GjIMrewPw7ukzVTUmsCD2BPQH9MKqoxyRZh17o92xqvhrtEBY6dNg+nnl1IOVrqLcZeTIDokGJEpma5VoFwBNcy0kRT4GjEZQmhXrYvqOvKHPzUCgSExkBAg1KoCsxrloSTxwaaBPbEkyhpnb29D96yEyN36YJhNF0zvsAhpKQUYnvQaISnGMM0j3pUSEYjXMRkQaldF3eo68l5lKiICQxCTeWJUMTOELDQIkalym0Uq0CxvAKPK2sgV6C6JRkhQJDKrJoByhRqooRSJoMjUzI6EQAQVzfIwMKoM7aIi5PPZKkPcmwC8TyrAsQvE0KtRFzpJgXgdI8nfYRGWQ9V6xtCVF8UnBOH+/SDw1RqhcRUJYjhjmFRkjc2vhOJigym3scPpKYIubIfT9QAkCvI7pjInNvgdSL/nCG/LRbDW94fj7isoKptTRkoyMih/rj35VqQkZ4DyJg79LvCId1sCm7muiCggZROXmoSUIjv5BRyfp1KylGRICnoZ4dORXHTh8v0kSE0v+Pni05Nz2cfHu2GJzVy4FlSZz4ggKKitS05F1TmrMdlIGcqieJye2hJNhu/DG4EKxBBDWeKN9QMaoaHVWjxJlR+jpALeZz0Gj3FEGMQQgkeY40KschPAasmybMckR6jXFYv/bAdxet4LwuHNoUnov+oOUvNsEStL4L1+ABo1tMLa7BNDhffB+sFj4BgGiIUiiPkg7BjcBO1mOMPb1wOXD9rDtmsnDFlyBkFZ2V6UlCGKP42pLZtg+L43EKiIIRLzCNoxGE3azYCzty88Lh+EvW1XdBqyBGeCCkoTU4CtfDgOTxyKJc434O5+DH92aYphG27Aw80Vu6Zaw+5OOsRKEniu6IkmPZfggp8//P1fwO/RFWyZ8BdOxcpLfvsPRvVZCA9OA+k+ezGyZSes9ChDmWcYJUO+ZbmF6DlJHm2hYR3+RzV0xCQQiEin0XhyfpW9dL5Mig2WOB/p+JihtP11GnnMrUti7Z60qBk1kwAAIABJREFU733+bAbJzx1puu1UWrFpEy2fM5osqyhTrc+ZEpLpueN0sp26gjZtWk5zRltSFeVaNNOtqOuaRM//3UB/b9pJO7eto9UH3CmuOEJLSY9p/4jfSENsSr1mLqCVp14SEUfRd9fT2NGzac2WtTTfuh216L+CrkcUUHBBx0vu0B8mqtRq4SFaPrwLtailS5o1h5FTiDyHiCycbmxbQouWLKRp/RtTnTZ/0OnQgvKLyOjtqXk0fuEecv5nC03t3p82+knlRdygbUsW0ZKF06h/4zrU5o/TFCpLosf7R9BvGmIy7TWTFqw8RS8LyvAgfZapo9R6HQV/Pq2UfFbOJ4eorM/pdGmsIalZOVJ2sokUch5jTrUN1KnOJNds/a74QzRx+pVMQUPuA+3ppk4Cjd504GMh11yWTul57ZI+pVW9a5KB/gA6UoAuWorzGDKvbUDqdSaRa/aJ6dDE6XQlSxaL+0A7OqlRjWm3s8UVPz2iv9vpkVG/A5R1+Sn9Eo01VCMrx6yacfRhRydSqzGNbmcfSI/+bkd6Rv3oQEiee1OQrbJXdHDnOUogkt9/Neq4PVPzSxawj3a6phGRjPxXNiU1i8X0NEf90zxv0L34TDveb+tAulaOFC/flnx/Ec05WNiFZPysFEsJl4iI0sPpwf7J1FxPROpNl9FTeZtZVsUGSxLZ6+005Pdj9JGIZAHrqLWaMjW288mlpMvFnqOxdVrT3y/k36bdpuk1s5wTR7HnxlKd1n9T9ubpVLMo5yQNoWPjLamH/X2K44jSPVeSZbW+5BBLRCShT1HvKfLTl+9JmusYqqzalXbLG2Yu7BD1r9qa1vjLGyXpK9raUZt0O2+nwAJ8SN7jMxsnMVXtt5t8kogo+QZNMVGhxvbPSEoyerWtF/XZGJyZ7ir9Ps2pI6bKtmczG7Zc9fOmJY2bkp1cXTDh/Fra4iUhkr2ibb360Ea5Z0m/P4fqiCuT7dkEojRXGlNZlbp+Nqag65bpnEQVG1HvwYNp8OCBZNWpERlq56gDpdOlcUakZuWUQ6AwhY7NmkOnL80mcw0D6r0nIPP+phylWX/KHYLkAc2prUQio/F0uRhaisnXFtNfx27T0v+Vo9ZrX+ZLBZZybBbNOX2JZptrkEHvPRSQeWI6OuvPbIfCRdDOvM6JiCTuc8lM2YT+uCN/jtIv0TgjNbJyyqoZRxE78zonIpK401wzZTL54w7lfAK/ZGte55SNjPxXNcvtnJJu06W72Tmc4v8dTvqqtWi4wzP6RETERVHo2x8sucz4zyn+IK6KIVqN24VLh0ajou+/OPUsczylLIsNlgwy+DjeROURVtADIKo1EuO6qsPXcReyJY94RP27G6dVO6B7bflclLgKjLKuGR+Ff3efhmqH7sjebITCLymHgO3jMPVRWyxf0Bq6QkCkWx+D7Oaijw7AhVyD3YCWmHr+UzHrwiPs1CFcVWmCllmTMUo1MWJUe3B3HXH8paIT+SJUb90Vv2kCUKuLusYCRH74AI4LxPF/HiPadx8WL1iABfbnkFCvDcwoEvliBIS6qKwXhM02Y7DjQRQ0e0zB2AbK4AKP45/H0fDdtxgLFiyA/bkE1GtjBooMVygT++fiaw/DlmMncfLkKZxzPYO1/ap+QTsLAATQ7rgazqvN4TV3BOzu50lPL88oThkZyFA0GoSPgstVAbpZWWLM2OZ4cWAv3AsYTRNod8Rq59Uw95qLEXb3kffMhaHcqAX+pxEOn8fhxdPCUm6EFv/TQLjPY4RnHaigrUXBR7lh5+IFWDB/Nsb2n4JDr7OHYHX6r8a+SeVxbXILWHRfgFOvNFG92leKPjLKLF8dLFu+6yB0qXQLCYnctxTz85B8AweuRSPy1TgMl8cvcGmG0Hx/Erv/tUfX3ytDCCkC/AKRrtYO6gVNJEkD4BeYDrV26orNM2U8hqODB0yst6ORfOJaqXY/TK8t325cF5WV66Bq63LFrIwM799FQsZx4HM0rlo1TWEAb0RGcsBvxb3nQggFAHgekL5BaLgYDeyXY3WPLyxDEFbH+L0HETR8MmZ3uIzDv2/AwU22qPkmFOHiBrBfvhr5ikh/U0zb5KgaY/BfU/FKgRUAgDLqT3XCPt92GD5yGiyud8vepGSKOibKoFvBCAznkCPaolC4YGdcT6uNKS998LFeezSO3oad5xbDcqhe/jPXnwqnfb5oN3wkpllcR7cCystPpvSGsqpqsecwKfNAqAqKb2thCCu1xdSVK9BICUj20sH6oBwbRdXQd/N9NB+4G/OnLcXwtl54e+Ui5jTKm6We8TPzDa85BIiNUcuUhZIDPCJOOSHS+gj+dXaGs/zvxLmdGFUjGVf3HETmy4YAqmoq4MJe4VVBPU2BKtRUOIS9egWFOqKyELx6p4eGTWsW3NuPc4NHWjNYGkoReu8kDjmch1/emfYC6gKIYFTFAIIPz+GTUwKWk4ETV4OpSVGOSYEQbKEWNNVi4HnPFzmFKDKCn+BZfJ7j+RiEC7ti871nuLutL/iTEzDI7j5kWppQi/HEPd9cJSD4yTPkLKK4AeEq9RrhN0UVBoUG6LvtKBZWccUU24MIyXqzEOqj18AO0JY9hcupIAXeVCR45PwM5X6Twd/PD36hBrC0FOPSnsPZZeY+MQz6bsPRhVXgOsUWBwveKRcZPl7wkZqjfbuKxfvRZ/jAy0cK8/btkBksV1xbv4xmk9mY3VcLknQJwMfhmW8oOCjBoM0fcLxzAbOreODv9a5fVzijzKKQ2CAgQ/jDq3B/kx37Gn/jHILbT8PwaplFlFmxwZIgwxt79qeg65A8i2hV2+D34b+Bf3IAO24mA1CGebf2MIpxwTYH/0wHJI1GTDyP9LR0kLI5urU3QozLNjj4Z7onaXQM4vl0pKUXMD6kXAt1TZUz30iy4OPhuXcHLkfxSPW4j7f1ayLm6EE81TSHwP04HkQU3IIIVFWgjCQkfiJwyWmoPsgW3bQe4rjzS/kwGYcQ9yeQ9pgA6wIWA+c+PhkgHjwhh+Q8B44HeOJByo3QpV1FBGydgDmnApHA8Ujyd4adw0tolcsbAhqAI3svIU5UCS0n7YXTbAvEvo+AoFEXtKsYgK0T5uBUYAI4Pgn+znZweKmFciJVqCgDSYmfQFwykgt0yBJIpQBk0nzr+XJCRJl1+fwNB2laerZ+lnoTzP9nBzq/ewC/zwUJYTRqDZZ10cKjtZOw/E5kbgeV4o9ji2Zhj7fcscZewOHIjlg0cTRGjx6N0aPHYNHSUajuuR97HmY7X06ahvTsE6PJ/H+wo/M7PPDLWQPK9bYLAHy8O1bP+wfKE1dj6uc3XrnwJZ9dM8p/INxXz8M/yhOxeqpcsVdBW7PuP1H+7kG+8wg1oRnvjCWbvJAhFMB7px2Ov5Mfp9MU7RtXgIryN6aYZ5Q9ck5AcfEBdOvIXGpbXkjiura0+9xDeptGRFwYHbAqTyJ1E+o+YzVt+HsRzbFzphc5dGhiD/cnHXEtmlVkVNlPSNIzOjqpCelo/I/G779P73PMDKcH36Bdo38jsUBAavVH0W6PKCIumu6u6knGmuWptmVPGjJ+Ng0y16NanafQrgdRJI2+S6t6GpNm+dpk2XMIjZ89iMz1alHnKbvoQb5gE45iby+jQdaLyMn1Mp112k5rV64hJ89Y4khC9+dYUO1mfWjUUkfy+EKgCvfxNNlWVSWDpkPpT4eHRMRR5HV76tWwFdms3EsOm/+kMVN20sNCwgBzHb/vOvk6T6RGqiLS67CQzvtHUeAlO+pSSUTK9cfSP8/iSRp5g5Z2NiIVgYCUNSpSnV72dKMgGyV3aW6zJmSz9gRdu36MltrY0jbvtEz7biylzkYqJBAok0bFOtTL/kZm9Bz3kU7bViVVg6Y09E8Hehifu1wu3pfOrrMmMxUBCTQsyHbjGfLJV69kCrl7gMabq5CS8QDa4PqcYqVx5HfWjrpVqU3W2+5SaI5HPf7OQho4P3cQAqW8pH8X9qUGlQypQY+RNGXOHJpkM4Ssf/+L9nvFZgYKfPIjp1F1yWTANvKKzLIhhV7fXEzttESkYzmfroRKKM7vLNl1q0K1rbfR3dwnpoUD58uDGJIo8MpqsjJSInXzYbTIfiktmj2Bhg8aSX8d8qLYrOKTQ+jugfFkrqJExgM2kOvzWEoKvEKrrYxISd2chi2yp6WLZtOE4YNo5F+HyCvrQIVslRJJw+jBoUn0PzURGfZaSS6+0fKgCI7inp+lhR3Kk0inMdnMt6Nly+1p0YwRZGlcjUadSSYiCd2d04Ia9ZtB6w8dp6NbJ1PX9hPo2OtfQimOkQPFE79yCQj1C0CEtByq1zODoUbel650xEZLoKOvrcCEMoNPj8bbcB76NSqAUmTQ1Mo5ns4jPfotwnl91KhASJFpQquo4XZZIt4FhyND1xg1Kqlnvg5zgVjdcQpUnK7C5mo/9H6/DLcGfoK3UTtYFrKYkUuKQGSGHoxyCSFxSIp4j5RyVWGQ754rcnyRVwGp0WGIhj6q6asXMtzEQSYTQSCJxNsIKcobV4VOzlFFPhXRYdGAfjXoq+cogUtCRGQG9Iz08GP63BxSkiXQ0CxgTFAWj7cBwYhIVUHFGrVhWrFk5064lGRINDSh6GhkaScjMREybW0oJ75DaKwKDI31of6rxln9wrCs5D8riUcwtHcw5t9ehvqeS2B9WAft61ZHz+mDUJP1HhgMRimHOaeflgykpytBVS7jyqemIENdAyzeicFglAWYc2IwGAxGqYON5DJ+MByCnaZh3C7f/9oQBoNRimHOiaEYfBy8Lt799nJk/ji6/SjeyLQyPyc/wcWrb8DSejIYjJwUU2wwiwxE+lzHNc/3UG8yAIOaVPyeNpZy0uHjvB5nAmUQAuB4AUx6zcTvLbJU5HhE3dyJbTejoSQWQFhrAOxsGv6XBoOP98ThXVcRKi1kRFeghGqdJ2NM66wV/0nw2LAIVxuvRLPcBeHBwa24+g4QgiCTClB/2EIMa6AM7q0rNu3zRLKSEkAi1B08D9YNlCELcMGluAFYbGuSWYZmfVQP/ROLTs3D2kFVWW+JwWBkkiuwPOUN3T34J3WuolZo4tckv6M0t38XGrL0BHlH/WJrmgqFo8hj1mQgKkd9HQvInpx0kaZ2GEQbrr2i+IIyZP8XpHnS/AbKVHnEv/Qxa8kKJ6FP7x/S3qG1qcv28M+7fro5hwYuekApBRYko/dOA0hfpE299+dM8plMVyY3pY7zTtDTyPTP+z5f0YZaLX+WKxkuyV7RjqHDaC9by8JgMOTk7qhmiQ0aF5z0JeHBSvTpvgwxwx3gvGwIGuqzVduZCFGp3wQMqp6Guy6uiMp5+bgwnN3wEG0djmFOl5q51+j8h/AJvvB5rYrmXTtCL+spECpDy6gZRo3qh0ZVy2d+x/lj1/ow9JrWopB1NCIYDZ0Nm5qpcL90DdE8AHAIO78V7q0O4cKaIWhUSZ78jgvCec+qmDKhfu5XdlFNjB1XHodXXVQ4kSmDwfi5UVxsMP4KFo5ZidAem7F5ULUCh/t+abFBVUvYWpsh5fphnAiTXwc+Fnc270XsgHkYUmQ+ui8hg8/a8fj7ccnJeqe538NjmQXaWGpnfsHH4F24PM+PqAqqG2fam+HliDMavdHXoIgBN5UWmDyhJdIv78bBlxmIvLIBB5L6Y6FN/dwOjUtFDZt5GFQpf1mqbfqiwSMnnIv+dnl0BoNR9lFwiJ9HmPNGHH5jjC5NorF77h+YuXgjTnrHf845lnBmNIwrNoed1686ta2ERqNs0JS7j3/+CYAMqfA9uAlPm87BGPNvXLuf6oGjbppoVexM4IWRgadunkgybYU2RpndDMljBzjcy8yNptrtD0yxUAIgQ8BVN6g1awXtIssToabtVFiVe4q9M6Zgy/uu+GtEXeTLN67cGNbWFvm/BwDVVujU4Dmu30/71soxGIyfAAWdUyyuXXJHmkYFlNOuiZ7DB8Ii8SQmWbbCHxcztZU16/fCmLEj0MG4lIxb/QeIag3DyHYq8Dl6EGePrcW5CpMwo135HBc5A0nR4YhKKsbbAR+DW/ZrEDVsFtqW1ApaLgRu7m9BCMbZFYuxYPZY9LJ1Q/mWeV1QGp4/D4ehieGXU1LpWWHsQEN8eBKN2r0sUHz1HRXUMi2HwGchxdJjYjAYPyeKeRJZJN5HSqHabgLsrNtAC4DF5r0Ivd8M6zcfw85e0+Rig9/X2FKPsCoGj+iMBWOO43DCNZwallu4jgu5BjvbKQib/AynRugUWkwWyUGu2LF0GU6pjMHaWhF49DDii8cIhJqoUr8+DIt4WeNj7uG+vxp67NyHNbY6kMV7wj7uOtoa5emr8PGIjlNBOe0v5ztKfuyEWzqd0ER6FLsdXmDUkgbFVPkSQldXC3EBUWAKYQwGQ7E2QKAJLQ1BbhkNpbpo0UQfsjsh38WwsgkPaWoqpHpdMN62fr7hK1GxxP9SEOJ5A7cevUFyg1dwuxylkEicQKSLphXMYFijcIeSOd9kjvmW2gCEUNIqD/Pu3VE/79NAMsg4IURf8E2pfk5Yd8sY01cMxv/CLmH4gR24MWsvuisk2peNSCQEz//C85YMBuMzijknkSH+Z2EE3jMM7zignryxUlNTgah8he9oXlkjDR73n0LQZDVaFDQEJxf/W2goRei9c7gdqIomw63QoMC3HA1YjNqCK736Y8WYLVDpfRTzm5RE3mn5fFPNQbCsliXBboYh1gXsKtJFee1U+CYWnuFKEngM61wrYOJf3WAgAqz+sEXtk3ux84Qduo41LMa6JULip1SU09UttlIrg8H4+VBQbFAFrW1tUC/oPE6/lM8I8NF4EZCIhn2tMj/+ymKDWWQ8wV3PJNRv3To7PDsHxRH/y0Ko1w6Lt/WB7997EFASLxVcCNzc36FCC0uYf7FrooHatXTxMTKhQEXZBK8tmOUgwui5vSCPq4Byk0mY3I7D9V374FesySMZPryPg7FZrR8kccFgMEozuZpQPiEQt52347SvFJ8eu8DxvBfC5Hrhyk3m49BaU5ybOAbrnM/g6MoFuFRtPQ7MaQAASLi5DQsW2MHJ51eM1kuHj/NyLJhmj3NRqsjwPYx1p/zzTOxnwNvtCZL9zuJ4qDoMjWpj9EFnTDL98nyOqLo1Rhu64eSLbwkV4BDksg5L5szD0SAxlEIvYNWyPbgdWVRwhjIatW2CaG/vHOmFeETe3IrZtl3QoscS3HwVg5jPGzkEuTjgZrQYoqCDmD5xIXbdjlJMKp0LxeOXhmjTtui4QAaD8WtQ/KzkklgEB7yHoGpdmJbP2cdlYoNF8hXifznh48IRqWIEw+KHwX0bKVcxtfdFDLy8DR2/o94GF7IRfWapYrfLVFRnOYwYjF+e4jcDKnqoaWGRxzEBgCr0mGMqnGQv+PBt0KGKEnTqN0KVqDs4eDsWlcsrdguE5f8DxwQAGp0xe3Asjp6KUOwN6KtIwYO992A2cxRzTAwGAwDTc/qBlGHxv4wA7J+5H7qL1mNQ3nDzEiDpwQrMuNIaG5Z1hIK+msFg/OQw58RQjISHcHCKwrgZViVbbrIn9u+JQpeZffELr99mMBh5YM6JwWAwGKUONojC+O7wcV64eDf8m8vhgp0wbdwu+adkPLl4FW9+xeBQBuMXQHGxwZQw+Pi+Q0qu9ywBlCvVRdOaut/ZzDJCkhccN5yCX5IUBCWoqKtCScBDmgFoVW+K3kP7wEKvNISM8Ij3PIxdV0NRuN5gNXSePBqtC1qwVRySPLBh0VU0Xrk0twXxD3Bw61W8gxAgGaSC+hi2cBgaKHN467oJ+zyTkalTWBeD51mjgbIM/ke34+ibUdgBANBE/eqh+HPRKcxbOwhVWTeLwfi5yKXuVKjYoIzebO1ImmI10tLWJm35n7pYmZr//fJHaU+VDaTPaXljFTIa60pJ8q+4tPd0b2Mfql69Pzm8Kj2Cemme86mBcmUa8e9HytYb/ETvH+6lobW70PZwrsjjv8wnujlnIC16ULBMIcnek9MAfRJp96b9H3KcK/kKTW7akeadeEqfdQqlfrS8WQ0acz4hZwH0asdQGrb3NZWeq8pgMEoCxcQGZS9x8X13XI9KxqeEBCQkJCDh423MNm+CPn1r/UBXWgaI98KjIHW07tIGWanlhKpGaDPFFq0/uWKb07P/1LxseCT4+uC1anN07aiHbL1BLRg1G4VR/Rqh6jeGznH+u7A+rBemtSgk7ZLICENn26BmqjsuXYvODFXnwnB+qztaHbqANUMa4bNOYaALrin9jpk9ci7SFaHm2HEof3gVLjKVQgbjp0IxsUGhMUYtnYMWutm7y/zO4rJSN/StnT1M9UuLDcpJ9XTDI+5/sGyjlet77vVLBCWLUUG//FeWXNKCg2lwv/cYMos2yNYbfIdsvcHq3xg9lwEvxzPQ6N0XResUTsaElum4vPsgXmZE4sqGA0jqvxA29XM6NA5B5z1RdcqE/MlpVdugb4NHcDoX/R3XYTEYjB+NgitANaGlmXNXGZ6fvQRh934wkzcWTGwQADLg6+aBBLM2aJtT7ZWPxdWtR/Cm8Z9YPrr61xVd0oKDGU/h5pkE01Zt5HnxJHjs4IBMvUFVdPtjCiy+Sbw3AFfd1NCs1RfSEYlqwnaqFco93YsZU7bgfde/MKJu3nzuHFJr2GDeoEoFPLCqaNWpAZ5fvw8mU8hg/Dx8XfMje46zl4DuDvU+F5ApNmjxS4sNggvDPfdQqOuL8PqKK8JIhtSPoXju6YFXWgtx47ItGmplICk6BqlqlVFJS1Eh4izBwd0lJjjIhbjB/S0BwWexYrELUiIe4fKHPrgyr2TKR9pzPA83hLXhlwNA9KzGYqDhKRyLro0jFgWlwVBGY+uC0qZnolLLFOUCnyFENkCBZLYMBqMs8FU/Zdnzs7hI3bE3Ry+eiQ0CiHPDPT8xGi3qBJNqmoBABI2mXTDw95mfox5Lh+Agj5h79+Gv1gM7962BrY4M8Z72iLveFpkJIHhE3DuETSvtsSe8Pbb/swujG2YOU0oe26Hz70/RdPx0bJrepVAb+PhoxKmUw5d1CpPx2OkWdDo1gfTobji8GIUlDYopU6irC624AEQxlUIG46fhK37KMrw4exFct93fNuzzE5Lq4YZHGQ0wq39zmNcuuFUuHYKD8vkm8/mZ801CJWiVN0f37vXlD4QQlS3HYvXGSNzrcBPx6nIvJwnA+VuVsOLmObTXL/qtj2QycELRF3ItpsLPaR1uGU/HisH/Q9il4Tiw4wZm7e2OYukUikQQ8jzYjCeD8fNQfPcie4Ezl6TousOCdVJzkQGfe55IqN4blsZFNMmlQXBQPt9Uc5AlsvUGhyDvwJnSb5Mwt9sezNt8C+M2V8PV7bdQcfSkLzomABDplod2qi8K1ymUIPDYOrhWmIi/uhlABCv8YVsbJ/fuxAm7rhhrWAyZwsRPSC2nC12mUshg/DQoKDaYjcz/DC6ld0XfRrmzkv/yYoNcKO49CIV2izawKEItrzQIDnIhbnB/VwEtLM2/0MHQQ9+546H770JMXnkNeqOyHZPkuTPGte6FLSGFGKRRG7V0PyIyoUCZQnhtmQUH0WjM7WUkf7tSRpNJk9GOu45d+/xQnJhE2Yf3iDM2Qy2mUshg/DQoLDaYiQz+py8htUtfNMnTEPy6YoMcgs9vgN3cv3DkpTLUI65jncN9xBYY1/wfCw5yQXBZtwRz5h1FkFgJoRdWYdme2yhKb1DJrC1a6Cmjvs0UdMgRgahSyxCaqrXQsEohtis3Qtsm0fD2zvE88JG4uXU2bLu0QI8lN/EqJiZbxJALgovDTUSLRQg6OB0TF+7C7ShFgsM5hD5+CcM2bcFkChmMn4diJ35NjniNJE1jVM4XacbEBr9IGRQc5F6uguXQRGx6vA4tcnRIZH7L0XN9XRxZXAH3PLzwNLUj7Cc3zSWxnnJ1KnpfHIjL2zp+P2kQLgQb+8yC6m4XTGViUAzGT0Oxf82alU0KcEwAExtUgDIlOMgjyv0I1v59Gq+Uo/H4XliOgAMe0fc8EB7tgX+Cq6N35yaob1wh373X6Dwbg2OP4lTEd5QpfLAX98xmYhRzTAzGTwWTzPihlGHBwVwk4d9RA+EzciHKO2xBxkJnDNOIhmFNY+Sd9skI2I+Z+3WxaP0glLhOYdIDrJhxBa03LENHplLIYPxUsF/0D0X5s2MCAGGZdEwAMnzxKL4RerazRO82Wnh1wQEuz7gC35qVzcbj7yEJOOUaVsJGJMPzuAfMl9oxx8Rg/ISwNyfGV8BBIiGoqCgB4CFJl0JFNW/KIQaDwfh6mHNiMBgMRqlDcbFBAEASgu5ewf2XCVCt2QY9O9aFDhtRyUQWgPO7LiIogwCBEmr2mIZ+9fJfXj7OHXuWH8LbxtNhN7IB1AFwkQ/guOs4vNM0oVuxKYZNGYB6xUqRwGAwGD8ZudSdChUbJKI0b9rSvytNPvKUPkS/odtr+lCTIQcpmKm8fYaLdaHfq4oIAjXqf6Rggb3Y/T1IVQASVvqdLqQRkdSHVjTTIKHOIDrybDt11hST6fQ7P9ZwBoPBKGUoJjYIIOXiOqx+2wITrRuhckVjtJ8xCRYe2+HkV1L6QmUfYTkjVNYu+lVSu+sEzOzXA9azR6O1MiB76QIX7xQINPVQQb0S6jRujMZmFX6QxQwGg1E6yT3upKkDbT49v9ggAJJKIQm5h1vBMliYKYFPiEA0XwlN9XIIEMo4KCmVxZVOGYgL8cGzcDFqWJijurYIQAqiQqORSoBApAn9auWR8foJfCPKoV5zM1TMceXSI/3w+JUMNRp8YfqOS0IMb4EJG3dCoKQNdT4R4S/fIoYHwKcglmuOZVc8oFcmQ/gYDAaj5FB4xkizxxSMrfYQi/qOxJ5797D7z5OosHITRlfNLKLMig0memBtj1poNP0mYt8ewOBGXWB/Jxbgpj04AAAgAElEQVQ8F43HW4bBwtQEpo3HwW7+AHTt2h2dLRugfs+tyMwilIRHm3ujVrXGGDLHHrOmrsfduCIWnEre4fayXqhjaoJaHZfD48MDHHF+iDge4D954/i6HbgYzN5EGQwGA/kG+rgI2tlJNf+cExHJ3p6hiQ00SCBQI4tZ1ymay94mDThJS+ZsottRHJUd0sn9r3okFurQ0BNJRFJfsvufmMQNl5K3lEhybxbVVgIJ1FvTSt9k4mIPkZWmgCC2oCXeUpJ4LSILZQEJDWzodDwRJV+hCdWKnnNKcxlFFYQgpZoz6K6EKP3yeDISgURVJtK19B9bewaDwSitFEP1QoZ3T9yR1G4pVlkcxuqt/dE5wxlXtvVBZWEZFRvM8MX5i0GQQhdxvifgmPIJIakEWagXHsUD9eS7CVRroF5tDQihBz0NAZD2CfEJEry4eQH+GQSluk3RtBwAXg8Vyn35ZZQpOzAYDEbRKOycJI9WYMiCRNg/Wo+eWhPQyXworBZNweJubXGgTxnNB81HIyqWBygZUnEV1DBRxbg9NzBOqAnjAmWTcroVGcLDo8EBEKtrQksI4PulkGMwGIxfCgWdE4c3N67C33AELDQAQAfNZu/EbBdzHPF8BfRp8j1t/H4oVYKBngiIlCFJaITW7X7LdUGKnj0TQk9PG0JEglKTkMQDXxZdZzAYDIYiKCg2KEKlGtWhEfocfqnyrwQqUFXRQHUTIwBlVGxQyQJWfepAWSCDr9Na/PtaAj4lECfsVuNiDA9Q1nXI8V9+YYiU0ahXVxgrCSDzfwSvRID/GIRXMRwAHlKptOBzZpWZ4z8AgJehkCMYDAbjl0Nkb29vn/WBTwjEndN7sNvxPkI+qaByVUPoVzeCthKgZvY/VA0+iPXH3kKs/Am+J7fjotJ4rJnfFvpKQLzLbFhNPwlBt4noVr2shJOLUKV5E2i8uAE3r3s4sXMjth71Q41pKzG+bhiOLV0LZ98YyKTJyKjSBmaBu7Hh5AvEcelIF5jhj+ljYIFHuHztMlwv3cW9J3HIiHuO92QAVUk6qreyRM2c656SvLDHbhPOBSaAS02B0NgAEccP4Ix/HLi0WMRJtFHD3AJVNdisFIPB+LUpZm49HukxbxAYmgSN6rVhoq+e49WrLIsN8kiNCsTLd4BRvbowKHC+qXAkMQF4HiZGDQsjcDEp0K6sl086gsFgMBiKwxK/MhgMBqPUwdK2MhgMBqPUwZwTg8FgMEodzDkxGAwGo9TBnBODwWAwSh3FExvkYuF/5wY83gph2qoj2pjpKZ5iojSjoFAgwCHygSN2HfdGmqYuKjYdhikD6oHpAjIYDEbJkvvNKTUUbofmootZAwzY5ZN7UWiiO9b2t8G+pIbo2b4CHs5tjy52boj/GVL2KJmht01N+G+bj7lzF+Lw04JzQ8h8V6NvtwnYHtkCo4w8scLaCovulrEs7AwGg1EGUFBsUIZH6ydjVUovzLWqg8omHfDnumFI3TABKx+k/zhrvyNfFgqU4aWLC7xTBNDUqwD1SnXQuHFjmFVgI6MMBoNR0uRuWTV1oK2knl9skAvC1auBKGdiiqy2WGTaBi0NX+OU8/3Pu8lk3Pe2twAyEBfihTtu3nibKD9/ShRC37zBmzehCItJBbgEvPa6iwcBMcirlpQe6Yf797wRnlz0ci9ZYjhevo1Bpi5gLLjmy3DF4wQm11cCJDEI8LiDB88/ICWHX5fEvftsR1QyDz4lDI/veSNcUqIXgMFgMH46FOv2c0lISuGRkpyMz+5HVAEVdIDI4FcA/iOxwUKEAqXRj7FlmAVMTUzReJwd5g/oiq7dO8OyQX303PpC7qCKIxTI4+ODI3B+GAcePD55H8e6HRcRLJMh5PhkNKnRAWueJeL1HivU/G0E9j5LBcAjMfAk/rCsBROTOhixaj361TFFs3ZN0XrWTTD/xGAwGIWjmHNSro1GDcoh2f067iZnfSmCSARAmPmWpVm/F8aMHYEOxj8qREICj7/HYcm1T2hp+wcGDpuAnrr38fesbXhRtQsGtaoMEQipsToY7uwJr009ocHF4M6hE3guAzIercX4+ZfwQW8odlw7h5P7xqJ+oaYLYdBzLia11oYQQui0mY6d60bBLHAjbMfvxTODgZg9ti9GzLVBnZBjmGGzAh4SIfSbD0d3MxEAGZ54pGPyHjt0NzGCcZWymOKJwWAwfhwKehJd9F+yEn36/oWJA7Qwe5AppB+e4EIQUG1UpiTfDxcb/IJQYF0AgACqNeqhtoYQ0NNDpk5gPBI4GV6c/zqhwGxk8DvuDK9kgtCgCqooAcKKRqisDkj8T8DZ3R4t2wnkClAimHW3RtfeddCj9+KSvxYMBoPxk6Hwa47Kb5Nw6mlXPLzvjUhlYzRsEIVja43Re2Dz72lf4XxBKPBd3v1zTaOVhFCgDB8+xICDACIVVagAgFAFKsoCgI/Ch4jc829KSuLinoDBYDB+WYo1BifUNkHLXiYA/w6HBzsgqtcazG6t8r1sK5oihQIz8junXJSEUKASqlUzhAgRoIyMzLB7PgOSDAJEhqha9adYAcZgMBj/CQqKDeaAi8CNJSOwLHIUnHaOQFV5CT9cbPALQoGUrQr4+X+2cODXCQVm6wJKASihnvVItNEWgo96j3cygI95hw+pgHpDG4xsrgyAwMuP4bi8cYIMBoPBKBTKARcfQLeOzKW25YUkrmtLu889pLdp8o1pH+jR2W00o383GmZ/mvw/US5iD/cnHXEtmuUmoR/Gp4e00aoGqQsFJFBSI50anWjJ9UiSPD9MNvXVSAABKdXoT3sf+5DTkJokFoAEag1o9PEAIu4j3bHvQAZiMelbdKLe1mOoZy1lUitfjf7X344uh8lynIijOI8dNLCWOLPMaj1o3oEHFMXJKPTsbLKsVo8Grz1Im0dZUJWmE+looISIZBR2aT5ZVhASICCthiNp8633xP24q8NgMBhlFoX1nBL978AzwQCNGptBv8CRvP9KbLAUCAXyKYgIeIVYLVPUrarFIvEYDAbjG2FigwwGg8EodbDcOwwGg8EodTDnxGAwGIxSB3NODAaDwSh1MOfEYDAYjFIHc04MBoPBKHXkSWPAI87/Fq57vIHMsDm6djVHxVxx0RK8e3gZt/ySUalZZ7Q3N4Dqj7Q2D3ycO/YsP4S3jafDbmQDqAMAF4kHjrtw3DsNmroV0XTYFAyoV4RWbUYMXty6CL9yfTGklW7Z8NayELjuvgKx1SR0q/4TBa6XxXtRDLjEYNy/9AAZLW3QxVgEWYgrdl8Rw2pSNxT/NsoQ4robV8RWmNStehldvpCOyGd3cNVPHd2HtUWlL93wdB84rz+DQJkQAAdeYIJeM39Hi6z0LnwUbu7chpvRShALhKg1YD5sGpZABhsuFPvHrofulp0YVGAqmXT4OK/HmUAZhAA4XgCTXjPxe7ZhiLq5E9tuRkNJLICw1gDY2TT84mmTnpyAw+134CCETuOh+L2DURm9z19J9pKnZHq4sT81bticmjUwIk2hmAw6rCL3JPlmLpou/9maWk04Ri/CA8lluiU1m3qOPvyHq0pj9/cgVQFIWOl3upBGRCQlnxXNSEOoQ4OOPKPtnTVJbDqd7hS2LpiLo6eHJ1BjDWVqsz6EZIXsVtrgPhyi/gaGZO388b82peQoo/dCYRKe0b/zO1IlcS2a6SYhIo4+HOpPBobW9FW3kftAh/obkKG1M5XNp0BCr2/toYlNNEnceBn5SRU8jIukY9YGJCrXlxwLqHjSxanUYdAGuvYqnhQt8kt8ujaD+i99SOlFG0aRx6zJQFSO+hZsGE3tMIg2XHtF8UUYxoW70Jo9XiQhIpKG0e4eWiSAEtWccZd+YHqDUsFn5yR9tpEm27tRPBERpVGw42CqoqRBXXaGEUdEyTemkGnFwXQsTn7Ap7M0yrAq2Z6N/Q/MzkT29izN79+Dhq+9S3EcEUmfkX1jMUFUhSZeDqaTU9tRiyG76Hmeh0EacIC2u8grkn6b/jBR/TkbRMpT19LOT34vZK/WUEvVLOdUXKQUcGA7lZVbqRhSerTwN1LN6ZykAXRguwsVVc20W9PIRKxD/Rwjc2Vckb09Q3ZLT1BISXklIiKZP20YPI5ORinQC0+7RdNMxKTTz5EicxtGZ+yW0okvGZbuR5s7VSSjsRfljjCNXEZVJOEv6pyyMuMhLrImhs22lCdAVYXpsGkYaCxDxPtI8EjBdad/8cG8Hdpqy1+5tFqjXaN4nHO6gBj5Vz9UCZdLQgxvgQkbd2LVsN+gLpQhMfwl3sbwAHikxHJovuwKPE5MzqXTxMe7YYnNXLhGyPPnCXKr/spSkiEpKEM5n47klALy4/EyyDgAslSkZCiwf0EUZ9/sgyCT5TaUl6QiPcctyFfX7B2Rmv5fqBZ/AUXvBTikJqXkUzUGUGTd+PRkfPkyc8jIyDxelpqKfNKZhd1v8EhPLsQmZCAlOQMEAQR5N/EyyPLVUYaUxJxl8Yh3WwKbua7IdytlsnwJ9bnUpILryWUgs2oypKZ8We6Sl8mQWdWU3Neh0N9C8Z8rkVCUfU34eLgtscFc1wgUnN0yE1VLW1ibpeD64RMIk5+Oj72DzXtjMWDeEJiUWM5lHjEum+HZdBYG6CswyKxqCVtrM6RcP4wT2Ybhzua9iB0wD0OKMkwShCNj+2P+rVjIUj4iNDQKyXluLEmi8OL+HXiGJOS75xlxIfC64wbvt4lyQdgURIW+wZs3bxAaFoNUcEh47YW7DwIQU0bSfAqz/ul3sYKlVo4tJIOM00H9hjWhlPECnk8SoFW1Ksp/vkflUK2qLlK8H+KZ5D9QwpW8w+1lvVDH1AS1Oi7Hw/SPeHDEGQ/jeID/BO/j67DjYnCexiIZ3qf3wfVlEoJdV2PhqtMIkO/Ax7vh7xFdYdmoGirUGY7Dr+UPF/cBN7cvxWL7FVgwsgXMLKfjzFsOfMwTOC8bjXZ1O2LBfjt0MakAg547Ct2/QArcV4pIz/2Y0NwAulV6Y93jcLw8MAwWLcdh6+0wcNw7uO2eiwFNTdF98+vMB5ELw+n5E7DE8RxO75iGHgM24bmsoLpyCDs9HxOWOOLc6R2Y1mMANj0v6klNxotTG7F68y7s2r4eaw56IJ4HgAwkRYcjKukLOiNcCP4ZUQ/l9Rph3IlAJIffwfJextA1aItZp54jgecR92gD+pn3wpYX2c9NofeCj4HbhnH4fc4G7N+9EiPbt8SAlTcQyQNA4XXjPtzE9qWLYb9iAUa2MIPl9DPId0v4ODw5shBDW9RCl/l7sNDqf6hpqAM9k15Y5RYLWWH3Gxw+3NyOpYvtsWLBSLQws8T0M28/NxAvnGZg9LR12Ld/LeavckWY/JJx79ywe+4ANDXtjs1Z9UMivA/Oxx9/rcXevTPR8bfOWHgxAnyyN07vc8XLpGC4rl6IVadf4J3bbswd0BSm3Tcj83AeMW4bMO73OdiwfzdWjmyPlgNW4kYkD6QG4sKKEWhqYom5Dpsx0coS5lUqos6Yk3iX7xbyiHnijGWj26FuxwXYb9cFJhUM0HNHaBHPdkHXPgMJL/7F9Fb60O+7D5E8h7D7DpjWxgAVu29HaAGPTrL3aexz/T975x0WxfHH4c/d0Ys0FRQRK/aCorH3XmOvEWPvsUcsgLHF3sWuKPYWE3vvXRErqAhikCZF+nG39/n9cUe/o1ii/rw3D49P7nZnZ3Zmb3ZnZr/vc8S9OoYF0+fhkK+GtqnjiAH9a0G45gUvXzmQ6IOtyx6g1qRBqJoaviwlDuHBYcitieZIygOs3WWIwcMq5nGuRweOA/qjlnANXl6+kCMRPluX4UGtSRhUNee4asneZ3DUJwwyEvE++7F40R48SEz9lkj234+xndujQ4fmqFexKvrsSG1jH3BzYVuUdRyH85FvsKWHI1q6X0KkLBz3VvRBtdKlULrmELhN64pWrdqgRcMqqNRuJZ5+Dx2Upkeq5OuTWb3mdN5IIJn0NwcW1mXpcZcyPFpKefv3itQ17spdCaTMdz9nTVrGi3l5/P1MJP01gAXFoE6Z33hZSjL5JIfaSpTDemc0jBAnHeOgIgZs5RGmKsYlji2lS7ufPfgwjmT8OY4qpc+a7o8oo5wvV7Vnx6WvlMNMydc4qZwuizgfYQzJpLMjWFzXmq0W3WZo4BUeOv8ix+0zk0vaD+awTgFb9tnjwwO/DeE63wxDAnFHOMBan/UWvqScpMx7FmvWcqOPjCRj+PfCFbwjVVNWmTdn1axFN+WGjPl7IVfc0TBYIPPnnqEN2db9GqMEMvnWXDYs3pmbI0n5q384ob4du3lF51pH8mfzWcewGIeciKeymJNYzqgOFzxXDtwJoVs5cuIJxuVaFwKDtnWhXf0/+Uw15id7uZLNzCzYYrWf5rLJX3JV+45c+kqefnzdInQ+kr1GmHSKw4rpskjnNfSJllOIuUH3+mbULTeRVxLU1bc/5S9XsX3HpVQmn8xrk8pRt4gzj8QIjDw6mOXqz+dTVdUlXRzHMnrpw3pxRwbQWr8eF76UkxQY7NWLjv33MVxQ1uPRgbY0arqCgQKZdGwQixi0YmpVknE8MsCa+vUW8qWcFIK2sYtdff6ZfnK4spkZLVqspp+clD2YyWp6Bdli0T3GkIw7MYR2BqnHznYieHZEcepat+Ki26EMvHKI5/0TNbdXje0qmSeH2NKg2WrV3HQyL44pSYMGi+kvJ0kZH8ysRsO0Yb0kHhtUhAatPBimJlcZEYI82NpUl+Un7udu19k8kilQs5yv/pnA+nbdmIcmSkae4uxendmpU6cMfx3Zsnox2lZtzo6qzzp37sP5F2NzTksIokdrU+qWn8j9u105+0hQHoeok3lupD0lELNotmE9MS3befCVVM6ApQ2pC1CvyQq+EcjkG1NZUVdM8177GEcZfdxqUFe3Ol29ZZRenUAHHVBkVJ9zfeIpRG5jJxMRoVuNs7w/59jnl0H9c6bgj62rX6H3ei/UNQIg1YGObroyIkPHBujoQhdfwYSrItswyUchgX39VqhsAkBRARVKiHD03TsIggR7ve4hvPxGzHRRrhCKqdgA5RmKYDngYG6JApKiqNO6BqztddC12DPMddG8vVnGsy345Zh2RcfJWD3hKJqO7IyUeWexr1yGnfWsYFkgveRiiyKwejEN/QcVhMfikWg7ajDkegCSsxRTbIEiVi8wrf8gFPRYjJFtR2GwXF2YWwG+q4dg9N1GOL2mPizEgNyiErq7NUFHc0BiVgFF9MrBrn6B3M9suf5wbrQQs3efxoe2XWFSxBZF+AD79zzB5NmVEXTgLgp1X4H09ZQa6kJhioPbTkPfaTxKq25jdcr0w4AmszB0+15glLPasgl+e+F1LxzlN86E8jTHoGKD8mBoMOQwy7xcVWwGM1MJijk1RSVzCcSoi4mTOsGj1wn847MAdbPWt72AZ3O9cC+8PDbOdFGu1IqpiAblidC3wTjgcQgGTS/AQXUQ3WK2yDg6pGdlibRqFF7Dy+MsSo7ajEJiADBDpw1PESwzhbk4e1UCerCyLKBq/woEHdyG0/pOGJ9+ctBvQBPMGrode5+PwAxTUxiLLVC5ThWYARBKl0ExXEZoqACUyfpcoANzywKQFK2D1jWsYa/TFfbCM8zV1F4VjhralTTLBSqCSPR5rlixXQ/0a+GCQXt3IObMQfSxy1gGCUpUKAK9cnbIQxMFLFvDdW/rzJ8lXMKUX87Affd81MvPkmSxHXr0awGXQXuxI+YMDvax+wwr7MSwLFsRdnoSpFgpV7EqYqPxQZGC0L+P44UMsIjywb7tCYj1TwTlgbiTrgOHyKAkKjoYQwwrWCl14IiOEZBPnd9/jprcxePOquUIdV4PNydj1Vb2KFFUhLjYDxnGOomYmDiIihRHsW+7jPlEDLEIgEIByAIQGKyLKu5/YEHb7EtSlU/GovSpkly2z0Su2xqgxvChaLhsDLy9fRGjKAMrDcPeYvuh2LD1BfqOnIimJ3fg1yVbscy5sroNMXTDVrzoOxITm57Ejl+XYOsyZ2TbMuUetm++iVK9V8NR1XfpOPyMcQ6q7yOu4GZSbUwvKkPg1aO46GcAp76dUEXdyIXYDj2cW8F1jBf+jmiHMtseoOqwhtix3wt3p/bHxScl0HOEpjjwGepC/i/ehsohCIoMrjFTlCltA3iHaixbmYBABOtWgfsfC5BblajDqHw5FBdfQUIiATMgU31DhoDAYOhWcccfC9oiU/LSixjjlwzDxkZ5u4GSvcCLQDEMDTL2XmYwz1OIfDn+fRsKuSCk+cMAwLRMadjAW9kBlciyi1g5/5Vj2GdRhjmyXNqrQ17a1edEIUNiogxWLYfCuVL2/ERduYmk2tNRVBaIq0cvws/ACUM6Vclj4gJebFmPyG4rUCff78ooIEtMhMyqJYY6V8LnVrFm7tsVCA+LhAJEvEwXxUqWgsGQ9Tg3RAyT3HXg3zxZfu6keO61EGfKusC1jbXqy3jEJZVBw7p2SAj0V43vA1BE4XVANArWa4Rq+XZMfBvkOhwtNoWJYQRuXfVBxunjlFf38Shazd752T63bRUROLHsLhrM+wXwmoDpp6I05lcREQxxq+W4+ugyVnVWYP+w7nC7lnnuT6HcEMHiVlh+9REur+oMxf5h6O52Lfukv9wfL99aoXqtMmrv+hJvXsObSmUQsWsrHphUhejGXlwP0TwRbtVxIDoZX4DXlo3Y+b4Npk3/Fc0jD2HLMk8EVeuFCnm5uZHYopiNCO+ePERIhhMhyAXoFi+tsWxyUxMYRtzCVZ9MZxmv7j+CuirMCuMTkKRXBhUcdNV8K4apiSEibl1F5uRf4f6TFBjoCwh6+VLNU4+6pMxgZhyLWxduISHDxwn+rxCc6dSqy7QEtsVsIHr3BA8znxwIusVR+nOsEMipvUaG5a1dIQeJaVZyq5ukm7j2QASnhnXUvGuZiJvX3qBSmQjs2voAJlVFuLH3uua0os5hwa/90LdvX+Vf92Zov/g5Qv6ZiP6pn/Xti779BmPJlfjcMoab1x5A5NTwIzq2/KIDaxsrSEDI48Swrd8YjRs3RuPGDVHT3vhLH/yLk6FzkiNg7+9YEuCEVkVC8fD+fdy/dw2H5i3BX+ES1Pt1ACo9P4szqsaviDiLs0/KYODQljDCVzDhAul220yWWwBQQK5puY/IAPp6QNyHWFCIR3yCAgoCCkXq1SBAUAAKKkA9R7RsXAi+K4dh0kE/xAgKxD3bDbfNz2FaQKw6rgJM/fHIbfuM5LgtEHb0DxwoOh5TR/+JZX3l2DF+Bk5HqfJIAYIAKATVqjLfndhwIgoS67oYscETE6tF4t8QWfayxvpi54YTiJJYo+6IDfCcWA2R/6pZGaVXFhVK6ymfWlJRROPWhjU4GZYM7yv3Ef/4CPYGGqGorQMGbt2NEaVzGLwwaY5fe9rg8tytKNC/G4oU7oQB7VPgtTYYDbrbpTdC5lAXEnt0d24N09t7sfu5ajZX8MeN+zK0HdYbkKsvm8ixJRoX8sXKYZNw0C8GgiIOz3a7YfNzU2StklRSUlJU7UgOvzMXEd9+KHrYqqlv6MGxZWMU8l2JYZMOwi9GgCLuGXa7bcZzy7po08QWEX+twuZnyu5JFh6BaEUykpJVrVUQIEABQVC2h45t7BG0bRzGbruPcKkckXfWYtbeQBhLAJGBPvQQhw+xhBAfD4AQlI0AAiSw7+6M1qa3sXf3c9UTvQD/G/chazsMvUtIAEGBjM+cEAQIOXQWJAEFkV7UHNqr0QsN7UqEAmYmYGgQAmUAEl/jkV80FCnStA5OoNJarcyHCAbKBotYCoiPT1STM1Ud3b+MW3GVUL++VfaXtVO8ceV+PB4f2YtAo6KwdRiIrbtHaEwLls0wac16eHh4wMNjNUZVMEOjxX9j7wYP1Weqv/WrMK5BDi/0KzOGy7fiUKl+fY0jHeoRQUdHAoBIiI5GzJN92H0jIc3onfVfkFBAB9U6dUQ5PRHkPp5YeOA1pIoE+O1zw4LjEVBk+10ksgrCv2mUU08Cw46PZiUjEQFk+BPTvPM2hggkmcAn235ly66zuPPIbs7p3Yr9PB4yQTV59Z+bcGNvc3XnktQRgSKDyhy835s313RjWV0RIdJh8ba/c8v1sOzmWeE9Dznb0cCmFntNWkmvTcPoaCChVdPp/PtZGP1OuLGltYR6lQbT61E0ZaHn6NrClvoiEfWMC7Fce3eeCxMohN2m5+jaLCAxZa3RW3jxlXLCX9CwvTrUb5tI/+Mz2LRkMy7wiSEp5WuvPrSXSFik5Swef+bLy5uGsJoqz4d8Iim9PIW1nfpz4b4zPLvHlf2dV9E7KUtZJ2/m7bCLnFLbif0X7uOZs3vo2t+Zq7yT1OWMkRdns3vvGfQ8dpJHPFdz4dw/6XkrkoLcl/MbNePSABnD1rdnrZn3GOd9gVfCc14II3s8l806rOFr1exw0sXxbDLsOFPf8aYQRZ/dw3OsC0EI5Vn39qxerz/nbtjM5ZMHcdTa28p33KSXNZRNYOg5V7aw1adIpEfjQuXY3v0c1VaJ9CanVNCldZ1eHDltARe7DmIX5xW8FaW5vimE8pxrC9rqiyjSM2ahcu3pfk7Z7oTwy5zXrgRNLB3YsF1PDp3YnVWtyrLFqHW8cOciNw2pRgOJFZtOP0SfSIGMvsUV3RxoIhFRrGvBKn3X8V5carM9RGc7A9rU6sXJm6/w9eVNHFLNgBKrppx+yIeRgsDQs+5sX70e+8/dwM3LJ3PQqLW8HSWQ0gCec2vBQhJT1plwgD7vXvGkS2NaSIxZ67fDfBaX8SQIDLvtydG1C1BiWoujt1xkelE1tG2N555M9l7CZoX1aeVQmy36uHPVuJ9YpEo3uh17wdc3tnFMbVNKLBpx6p67DBEEvj/kTDsDG9bqNZmbb6tZzZDkzV2zp3Fo0xI0NXdkL+TpFDUAACAASURBVJf5PPA08+S+3Hc+GzVbygBZGNe3r8WZ9+LofeFKju0zrfQhXvy110qqXSeSI0n03jWb04Y2ZQlTczr2cuH8A0/z9SJw1PHRLG8ookhiylKdV/Da1TX8uZTSvm1QcQB3ed/mija2lAAUF3DiuL8DScby9tJOLGkkpkikQ0Pzkmw+6yxDpU+4o38lGopAkU5Jdtlwjw89e7KMrogQGbLKwL35LeB/jsbVepoQEkL4zPsRA2OynvYkvg+L+T5enpTH8t2/7/PxUpvAhLAABoQl5FGznp/t85u2GuQyyihnfIg/XwZleTM+U1nllMlIeXwI/V8G5fimOklSFsOg50/5KjRD3mJ2sGcDVz6QkdKrM9ll6BKuXHYgDxdzAmNiM5xxIZbRsR9ZYnks3wWGMD7T7rmUTUhgWEAAwxJyOKb0JqdUMGCtOU8YGxbIf3M9QRmTD2NAQBizJy8wKew1X4XEU5DFMVbdvUDWbES+4Zv32VebymPf8d/3ubVaOWPfBTIk/kutmlXXXnM+90JCKAODoiglKY2Pz+W6kzP23b/MtZg5ELOjJxu4PqCMUl6d2YVDl6zksgMv87BnEq+5dOHki/Eff/BPJCnMj4+fv2N+cyAkhPLZvbt8FpKQ+8bfCVoTrpZ8koLkZB0YqCbuFYkJSDEy/qoxFj8bKbcwtXpTXOx7H7dm5vXdFi3fHCnJSNYxgLKJKpCYkAIj49xbqBCwHgPcDbBo20DY/r8FdvwO0VaBlnyil9YxAYD4/6VjAoC4twiOFhARGIDYr50XLR+PXmrHBADiPHVMQBzOrTiDsmP7ajumbwTtk5MWLQCgCMWdv87geawCFImhb+OEdq0rwiz3PbX8XyDFm2dvYVmxDExz31jLf4C2c9KiRYsWLd8c2gdYLVq0aNHyzZFP2aCSBP+reCyphzolvvMp45RQPL3vj5i0F/5EMChaBTVL5uPBPiEIPj5vEa/p+VNsgTK1KsL6s0TRUCDh3VPcv+sN33AdFC1fGVWrlIfl2/t4ZVcX1dWK0LR8HfIp0suCPMoXV05dR3LtgWiXLbzQ1yEl4ikuHH+MAp17op7Ft39fm1+5Y9btfwS+5TrNkJsE3FnWHa36zcSylbMxooMTqracj5sZXohODLyCbVNaonyVrlj3MKeg9t8JOsYoYBCG/WObo2Hjflj1mDArkM9wF7qG0I89gxkdGqFxr3k4fs8b3t7e8L5/B1ePe+C3ruNx6P2nhEZWooi+g7UDa6NSyxk49q8B7Iqb4sMDT4yobQPrOuPwT/D3EGb4RyEFARc94T64B4Yuv4SIfFa/IuIeDiwahd4D/8A/gd9GvSqivbFvpjO6D1+LG9HfwUzAh8c48udw9HKehxNvBQAKRFzdivnzt+NGTF62///nW6/TtPt5+eMN2B43Aee8G8IcyfD3HIAmQ+bDbccvODVK+Ra/wrwa+o1sja2rH37FLH9GxKawc2yPtjULYu2zymjduz7K5PfpQ68QyrfogsYlFuCGcVMMHjMG6cESBHSymInLghTh/q8QmqB6D16vIEqWN0Oc32tEpIhhZlcB9uaq+4TEEPj5R0BKQGxaDOVLWkJH+hDLurXDrLDeOHJxFdqkRg9t3RF9+rfEuKYzkJSQLWdA3Gv4J5RAaZvMd0QJIX54HZECsZkdKtibq+5QEhHi548I5YFRrHxRyANfIDRRlWeJPkwsbWBbxAyZum9pOPxfhEJZNBH0CpZEeatEvHoRikTVZxJ9E1ja2KKIWQ4df7a8yhEV4It/1TkPRLqwKlkB5nF+eB0hzR7lQFwAdhVLIPVGUBHzAteuvYCiuCNqFpMiQiiBUoW+5F2iHko2HYwhrdbA83T+9xYXckKvkR2xfuWKz5+1fCGH39b18O0yBp0tHNGzTz247/D+ynnKI2ZV0GVwKyxbsUX1gRhFBh5GyMC8bp8zcr+tWO/bBWM6W3yW7H4NxN94neZRNqjExNwMOkZG0NcQP/A/lQ1+RiQSEQAxxBmf5PMlZpNApO63Lj4RdpMWYKStHvQk0Tg0ui6c+m5EgEgfutCFntQbi7s6onqnhbifGqlFRx+Kh4vRY9B2BEEXYigQtH065l0RodOs2ekdkwqxVSvMnNwYusnZlHMI2DYCXeZdQtYgMLp6Ungv7grH6p2wMP3A0Fc8xOIeg7A9CNAVS6CreIE1PZzQ+Lfd8Pa5iZNb3eHcqjl6zjqMF6kB43T0IIk+hNF1ndB3YwBE+rqARBeKF2vQw6kxftvtDZ+bJ7HV3RmtmvfErMMv1MSaU5NXRTB2DO+FWbvP4caNPZjcshb6LDmHm1eOYd3o3nC7lAxdHSluzWkHp3az8M/jZ3j27Cke3z2FFcOm4mCkKuU3XhjQcTpuCsZIfrgBv9Rtjrk38+sc0yw3FFJSlCF+5InI2kwyifTyi1iSp/esNAsUNckPc5EpZtg/q+Awc9BRORLipepD4OVHnilPwAcN4sIPkTHI1qwz5T8B6q/M/Modc9geCkg/RCImQ0Y0SjyRQ318o4LPPNepkIg4TXWqsWw5CTjzgMbXc5PPc3RJa/bal1mYLISsZXODgvzlSOZX3aMPOdPWvCZdb39vMuFknhlejBL9jtwWSzLBl3//0ZdOxWtz3PplHNaxDkubm9Lh130M0vTSvewR3WroUrf+IpXXhyRlfDh3GjeniWmSeWJwURp22p4esocJ3D2oKh1sjFhuxLH0kDrR2zh83Cml00V4x/WtjSgy7sAt7zUcX57M5KzBDGQPOK9DGdoU7sqdamL1JOwexKoONjQqN4LH0g/MbcPH8VRqcALhHdc0N2TJMReZFq8g9i7nN7ai7c9bVE4eksknOLioITttTy+Z8G4NmxuW5JiL6ZEOYu/OZ2MrW/68JYuGXV1e5S+5de1RpQdLeoljSxmy2ep3FEjKfTdy7bEkknI+m1uLhtVm8kGG8ifdOser0SQp8N9VTWnRaTtTA+HEX5vBSVs1ncgsCOG8vHgwB078kysWTmPvxnXYZc5Zhghkgu/f/KOvE4vXHsf1y4axY53SNDd14K/7glSREzK7iuKfeHFwzYI0L9WFCy4FMplkwqujHFu/FoccfJ390EEr2dSgOEecTSaTAnhyYgM6NB3Llftv8I2UlAef46pZMzhr+hh2qVmODcYeYqCcJOUMPreKs2bM4vQxXVizXAOOPRRIuRDJeztc2POnkmw0YQ1dOjrS3kyXJiXbce7l99mjk8Td46Z+lWmsW5rtx7tw7sHnlF4ay1IG9Th92x/s27IOy1qYsEwfz/R2IA/muVWzOGPWdI7pUpPlGozloUANoUNiHnDL72M4Ze5SLhzSkJWau/DYO4EUInll4QD+MnUtd2x0YcfaHbjkTgLJBPr+/Qf7OhVn7XHruWxYR9YpbU5Th1+5L+3CjOeT7ePoPHoOly37g5MGNmQxlT9LHnSZ6yZ3oVOJ5lyUFs5E8/akwMgrCzngl6lcu2MjXTrWZocld5jAON7b1I+VjXVZuv14usw9yOeynOvjzcHfOXT6eu72WsHRbbpw6eMcIo/EPeGBJfO5bO1arlq0gFtuRKnqRsrYsH8ZmltUFfkr7uxbgRaW1Tl4ry/j/r3I2e3saW7dkOMPPGa0IDDyzmJ2rtKOy59Ic61TIfwyFw8eyIl/ruDCab3ZuE4XzjkbosqTprJpaIM55zwbeZMNZkBT5/Q1ZIOfhyydE/MrZmNa5yQp5MgOPXqwR49u7NTckUXNMsrhknliiC0NO3lmCE2SwD0TJvHQiYmsamzDDut9laGHEnZxwmRVhyC9zkkOOpTYDuVJDf5EdcSfmcmpey7StUYB1l/4PFvDSNgzgZMOneDEqsa06bCeSpdhAndNmMy0/kQI4dqsnRNJ6Y0pLK9XimMvqW5Ekk9wiK0hO3mml0wIWZutcyKlvDGlPPVKjeWlDPcwueU1a+eUjpzP5tXO3DnFXeSJy+mNNvpAXxY2KMu+mx8xliSFMAa+yUtwmFzkhqrOR69gCy66F0MyjieG2NFAJf/LLtITGOLZhVZGDbjIT5Vg7BGO6LeWgWoumfTOKYnvr67iZPcDfJl6KnMQKGqWHzJXmWJWsgoOpZfGspSuHX/2eEilC3IUS+nXpPsj5Q9SnkWbQjC9ejmy/75wZX3GHOVAWyM2XRHIlNdL2dCoAqfelJJM4lFna9oOPs4kkpQ94MxqeizYYhGVp/wEh9gZqKSb+Zc75ri9/DWXNjRihak3KSWZdNSZ1raDeTyJ2SWeOQkt8yH4lPnv4dCGbel+LYoCk3lrbkMW77yZkfxygs8c61QI4rYudqz/5zPVNSnjy5XNaGbRgqv95BrLlmMbzAfqB97TZIPTlbLBPKCUDU5Ak8Lf1oqPj0GURcxmWLoMiiFC6cXJAbFDH6zYsx/79x/E0WOHsfDnvIjGRDBrtgC7F1TFnSn94HbtQ5bvlRGFmZKClLzOWSrC8NdpEVp3aohBg3/C0y0bcEONt0Fk1gwLdi9A1TtT0M/tGrIeWRN6jnVQwzgYD+8FI38DFXpwrFMDxsEPcS/VA5HHvOaEIuwK1s50gcu0iRjcZRS2vU4fbjHvsgAbR1jizMg6qNbGBQdfmsC+eB50Aoogldywbha5oYDL2/cCEMHU1Bhii8qoU8UMgCFKlykGRIRCfTMRw6bnBPxS7C42e1xHMoCY06cha9kVdhovGQGhJydi9LHymDarO8qo5ECpAkWfjTPh4uIC96OpAsUgPN3rhXvhPtg40wUuLu44mio/DJZnlymaKWWKlq9P4B+fPA51SuxRv1VlmAAwrFABJUShePdOSJdn+mzETBcXuLgfzSTPzFSq117wOFsSbdsVUs4rmHXChqfB+GesPXTtf8XGC/sxuZYOYnwv4G6QFFHvI5XtTGQKU2MxLCrXgfKUl4bylIdCUISp5I5t8iZ3zG17iT1+3XgB+yfXgk6MLy7cDYI06j0i1dSt5voIhlwl+FzefxDWXA+DSdtRGFxFzdyr4IvVQ0bjbqM/4FLfAmJIYFGpO9ymdIQ5AEkJpeCzfp4Fn3E4tvs0PgDQySD4lENA4IG7KNS9ebrgU0OdKoIOYttpfTjVLa36HdNBmX4D0ES4jO17n6fJSzOXTQK/nNpgPsibbPBHJy9itqwYlECPqaPxMpcI+0r0UGm0Jzb6NEbfX8ag2tkMVk6d0ihXSg+88Ap+wQKQk5pChfBqN84mOWDU84d4X7EJaoavwtqjM9Gwl1X2I1caDc+NPmjc9xeMqXYWrdWklx1l6H09A4P8z6mQIPRgYCDKd141IbZuhNFz58BRB4i/Y47FLzJ8KSmOzsuv4aduHpg2xhV9G93Bm1PHMckxl5A2uckN1eVDJEKOziKDehg7uh62zl2FQ9MqQXJRgtZzbXJ42TAFofev4tmbWJwf2xw9VXF1ZBoFisk4PkSD/FCZXDYyyRTzi1iMVBdkfkSbshcvECg2RGavorlqoY0ZrHWOYoXLYRRr1hXVSxkDERrf01DOmZCAzBeP8yV3zG17McysdXB0hQsOF2uGrtVLwRgRautWc30oyYvgM+Xedmy+WQq9VzuqzoMOHH4eh1S/J6L+I8FnhjqV//sWoXIBQmaDJZSXQCggrqymbL3wRpOAM5/kTTaYm19Li1r0Kzqich6fPCG2QedVuzC92DGMct4K/9Q7NHFhtO/WFGbyB/jr4Is8PKlIcXf3IxSoLMezx4/xONAGDRvq4sT6HelpZj4wbDqvwq7pxXBslDO2qt8oEykP7+ChrCqaNC6Uz7e4U/DwzkPIqjZB40Lij8hr7pg4TcTEzqaQJksBRRQe+QRCgA5sGozF9kv/YGKxm5i/+FjuCeUmN/woJCg1YBx+1juJNcvX4ophO7TNcbGXIapP2YaZJU5g1C/L8Ug1+y/WKFB8ChhrkB8+ilY70Z2zTDGVPKyFz4doU2xmBuPYW7hwK5NWEf6vgiF9ugw/t/eE+cgZGNqmLIzyevcjMoBhfuSOuW0vf4plP7eHp/lIzBjaBmU1ZESBnOrjEaLleRN8yv1f4q1VddTS8E7b1xB8SmyLwUb0Dk8ehmRoAQLkgi6Kly6lQfB5EwaaBJwa2qAm8igbzHASZHIo1DxCfBXZ4GeBkMkFEHLIUkeD8ilmA6TKfeWy7OK+jEcilUK99IQhS0pOb6hGTpjmtQYt3l7H47SExLAd8CdmtzTF3YUj8Mel0MwdVMIz7JkxAeu9VS0h8h/sCG2GGcMHYuDAgRg4cBBmuA6A/a1NWH87vbUIsiQkpx8YTtO8sKbFW1x/nLEEzKT9BgBF9A0s+N0LesMXYHRlnbTtlEXL0PSoyHK+FIi+sQC/e+lh+ILRqKyT97ymSgjJ7E2bWTMoNoFJ9G7MWnYHKWIRvNe6Ye9b1X7mtdCkZkHo6ynvGlP8DmD21IU4ru5dotzkhgAEhQKZm4mQ6fE6s0hPhXkHTBxWEQ9X7IJ+h2bQ/GBNZYvTr4KJW5ehkZ8r+k46gTAFoKdRoGiJ+q00yA9NC6Rd7BplilnIKjikQgFCgXQXpAAFFMo6yIdoU8+xI9rYB2HbuLHYdj8cUnkk7qydhb2Bhvhw9SxuJxjASF8EpLyDf1AsmCJVdSACMp9ypXSTBKBXFa3zJXfMeXtF1FWcvZ0AAyN9iJCCd/5BiGUKpMnIJvFMKZeD0FKRN8GnXtkKKK0nRma/5y1sWHMSYYqULyb4zKlOJfbd4dzaFLf37kb6JXAD92VtMax3CQ2Cz/eopEnAmaEN5gnl1FNeZIMCo30vcOeURrQU67KCsweP3n6TNnn1n8sGPwfJr3h+ixs7ldChSGzJuqNW8cjtB/kQs5FCtA+PLOrN8voiioyr0XnpYT6MyjrDHU//y1s4tKo+dUp05ZJjTxgpi+LjI25sXcyBvVddZmCG0xZ9aTq7Tcu8CIEJz3lgemdWsS7KKm1/4ahJkziif0/2/nUqN92JVE4sxz6m54AKLNV1Fe+EpuYhga/Pz2RjUwnNG07jqUApox4foVvrYnTovYqXMx+Y07tNUy2IiKPfqQXsZKtDo6p9OMPdlTMmDmPf7r9w6rY7jExbIOXPy1uGsqq+Dkt0XcJjTyLJOD+eWtCJtjpGrNpnBt1dZ3DisL7s/stUbstXXmWkLIjXt41gDUMJi7afy798VJPoFBj15AinN7WkxLwm+09z4+w/3Dnjt35sWKI4BxyOJynl5Ul16Pjzb1y8bS93rRzJVk2Gcc9r5YT4m3WtaCoS0+bXf9S3jxzkhtKAc3RrUYgS0zqccMCH716dpEtjC0qMa/G3w4/pl02klyHZsI3s6DSNtzUs2hLeP+RBtzYsqmPEWuO8eDMwmBfGV6Wu2JRV+i7gX08/aBYo5iA/zEmmqD4f6YLDSSu9uHu4o0qO+DefhfnxhFtLWkv0WGmwFx9FC/kSbUbfWsFuDiaUiMTUtajCvuvuMY6k7OlKtiykQ32bqmzRz5Urx9emoWlZtnP7h3fOuLFFIQlN60zgAZ93fHXShY0tJDSu9RsPP4vLt9wxp+2vBz/mypaFqKNvw6ot+tF15XjWNjRl2XZuPPUuPLPEM1qmuT5yEDFmPtmRvDi7O3vP8OSxk0fouXoh5/7pyVuRAvmFBJ9ClE8e6vQs3dtXZ73+c7lh83JOHjSKa2+rVhBqKltObTAf5Fs2qJnvSDb4zSNnfJwGaZgsioGP7/DmbR++Cs+DuS6/R46P4/+ProyUxsQwgaQsJogv/bPKAKWMfr6Gk+bcyTkRtXLDjyf5qgudFz799GslB4GiWvnhR8gU8yY4zHTkfMgzpYx884ZZvYryuHd8E6ZqhfIYBgeGM+8LVfMrd8xhe3kc370JU10PcsYEBzI8bcWkGmGp2vrIn+BTFhPE509fMTRjGt+A4FMe+46BIfHZVsvmLJnUJODMG9qo5Fp+XOK8sXPVTRQfMQKNrb70KtMEvPUNhl4R4q9xS2H053r8UuQ/XtmqlSl+p/wfCz5z4LOEI9Wi5bvEsBy6/e4Io//gKhCeLkNXRzc8gDVaLbuAf/7rjgnIIlOsiO838M6Phh4MMvRE/1eCzxzQPjlp0fKfEAffsyfx3PgntK1n/9//uGhlilq+M7SdkxYtWrRo+eb4/sM5aNGiRYuW/zu0c05fDAEfXl3DiespqNu/JUpI5PA/5oFTup0worV9viejcxOlfRckh+LRpdN4bNQGfRpZ53pnlPxwNxYf9oNcDEBQQFSqPcb/WgepVhNF2HmsXXUe4Tq6EInLouu0/qj+Ka+kAwAEBG4ajMUWK7C2u3p/ytfJlxYtPxgft8hPS27EPDrAac2sqVt2PJVBjt9xWxcbFu29m3mMiZ0Bge+2daFN0d7cnf+dvw2kr3lh/XA6meiy5uzHzH0RsxIhdA9720hYoPN2NectjsdHN2X3JWf4Mg/LovNE7Bn+1sWVt3NZu/yf50uLlh8Mbef0xZDz5Z91aZDaOeUTme8Wrv4rKvcNvydkdzm9skGGzklG3y2rmXMxk3hhTCnqmv/M7aGZ3x95c9iNrvv889zR5Y6cz5b04JD9eXlh8L/MlxYtPx4//JxTRllcoprAmAq5HAKUYrOMX2uWvAFISUB8CrOavNLSyxqER57wIVNaGmVmakVpHyfCy45CJYuUIzEhU0k1CMMUkCYm5zMquQRiSVpY6GwyO/UYoKFzb5RPOIsd+4JUx1Mg8tJybIjsit97lvpsY9OKiL+w/FYtTOhaOA+Tsf9dvrRo+RH5QTsnBaLu78T0XnVQtuU0rJ/eCTXKFIW5VSm0n3cFkQoFIu7vxuyBjVGhmQs2ubVEqYI2aLcmEMK781jtOhPuc1zwS53yaDjuMN6k/kInPIXnbwMxZtFGbFo4DfOOBak6IgFvr3hgStdaKN1mOV6rtv/gvRXTxk7Fwg0bML5ZZbSYfhwhinh4H9qIY8/j8OrYAkyfdwhPA67AY0pX1CrdBstTd1ZE4MqSIfh10hJs8piLX5rURde55xCqABL9/sGcfrVQquEUbF4+HJ0aVkWxQuUwaP/b7IEXFRG4v3s2BjaugGYum+DWshQK2rTDmkAZ3p1fDdeZ7pjj8gvqlG+IcYffQAAgBB3CtGGzsP3oIawZ0xZdlz1BSsxTHBhXD4ULd8bGUAWEoGvYPKYBbAq1wepANeEe471xaOMxPI97hWMLpmPeIV+NtaXjOAD9awm45uUFXzmQ6LMVyx7UwqRBVZHXuLq5k4IHa3fBcPAwVMzjnN5/ky8tWn5Qvvaj29cjiaeGFaNukc5c4xNNuRDDG+71aaZbjhOvJJBM4tkRxalr3YqLbocy8Mohnn/xVLNUTIjk0cHlWH/+U9VwThIvjitDvbRhvTgeGWBNfZWMTgj2Yi/H/tynio8Vc3QgbY2ackWgkF1mxuyitE8T4WU9FWc5orgurVst4u3QQF45dJ4vnmoShsnoPasma7n5KMsZ8zcXrrhDKcnkk0Noa9CMq98py5R8cQxLGjTg4lStpuwBZ1YzTBvWyyqz04zAII/WNNUtz4n7d9N19hEGZSpHHi2hJMlInprdi507dWKnDH8dW1ZnMduqbN5R9Vnnzuwz/yJjPylfWrRo+Vh+4JEHMczMTCEp5oSmlcwhEQN1J05CJ49eOPGPD5Y2rAVzywKQFK2D1jWsYa/TFcWezYXLvXCU3zgTLmIAQrpULCXsKjwOGaDpBQfVcI4uitlmHB7Sg5VlAVXUYQGvvTxwtuQobC6k3MKs0wY8DZbB1FwMdTH8M4vSUkV447OI8GZh6Pa9wJgZWUR4glKEd1kpwssWlV/HHJYFJChapzVqWNtDp2sxPJvrgnvh5bFxpguURU0VhingWMQKL6b1x6CCHlg8si1GDZZDD4A0ixlHJBLl3/ekFjHsevRDC5dB2LsjBmcO9oFdhjII/mfg5jwKQSMf4WA/9Svs0rFEa9e9WbxVCbg05Reccd+N+fXy83pszvnSokXLx/MDd05qMCqPcsXFuJKQmP5Zhh/YnKRi0ovr4JdsiMZ5EtDI8OJFIMSGBpk6LzNzDQKwrHwJER6UnUlq/gJyEoY5bMDWF30xcmJTnNzxK5ZsXQbnrPa0z4xClohEmRVaDnVGpSwZSrWE2uXBEqoO4cUWrI/shhV18h+3Iad8adGi5ePRdk4ZYTwSkvRQpoKD2q+VUrHzuOojRdvaqb9EKXh13xemeobQF4Lw8mUyUC43g7AYZmbGiL10AbcSuqJZ6uYJ/ngVUwJlMkhgFVAzMZhJhNcEJVQbfJoIL3P+TE0MEXH+KnykbZFe1Fe472uBYmZitFp+FY96bsKMsS4Y1t0UpR8tQa0sqeQ99ojaUmYi6eY1PBA5YYG6DiQ/llBE4dyCSdj2WKrqqFMQfPc2YsrUx8T+xzNsJ4JhjeFYOblRDs6lXPKlRYuWj+YHXRCRgZQUpKh+ROV+Z3Axvj2G9rAFoJIDKpi2Ik2z5M0UBau3RhPbCPy1ajOU7jIZwiOioUhOgtJ1RqWMTiFAgB4cO7aBfdA2jBu7DffDpZBH3sHaWXsRaCzJJjOLT8wiSvsMIrzMKGWBCqaVFI4ahWFGeLFzA05ESWBddwQ2eE5Etch/ESIDRAXMYMJQBAXKACTi9SM/RCtSIE1bKSiACirPK7LL7HKoJNy/fAtxleqjvpro4fmzhFqi2aQ1WO/hAQ8PD6weVQFmjRbj770b4KH6TPm3HqvGNcixY8otX1q0aPkEvvak19dDyptTKlDXug57jZzGBYtdOaiLM1fciqJAgWG3PTm6dgFKTGtx9JaLfBVPkoJmqRgFhl+ex3YlTGjp0JDteg7lxO5VaVW2BUetu8A7FzdxSDUDSqyacvohH0YK0by1ohsdTCQUiXVpUaUv191TacCE95lkZlceZhelfbwI7xkz+RKFMN72HM3aBSQ0rTWaWy6+orKomoRhUl6eUptO/Rdy35mz3OPaEMNxkwAAIABJREFUn86rvJlEksneXNKsMPWtHFi7RR+6rxrHn4pUYTe3Y/RP/Jc3to1hbVMJLRpN5Z67IZlkdpM331ZbS0neuzh72lA2LWFKc8dedJl/gE8zvUAk5bVJ1ehQuyMHuG7nTQ1yO7UIIfT6tRdX5i7G+Yh8adGi5VP4gQO/puDW1Opoeqkv7p0fBpNYPdjamudtnFORiPCgcKBwcRQ2ynLHrEhG+JtgKAqXREEmQG5imnME6pQoBIUS1sWtMs/tCHEICU2Bla0VcpyJEuIQ8m8CCtjZwPgL3LwrEsOhLGphGKUNH8ohEUkR+iYEMssSsDPXybgDwt5GQq+IHSyQgAQYwziHAghxIQhNsYKtVR7n27Il4IcFzUZB3/M0+p/+GR3+nY0L3WLhbdsYDQvlfEKSr09H379aYefiJshtIFaLFi3/Ldo5JwIio8KwN83HPmIjFC5RQsN3BihcMnXexzT3E6xnieLF1XwuMUUR2zzkRWKKIvnKfP4QGxVG1qJKdHQA6MCmVBl1O8DaPnWyxzjXH32JaRHkpZgaib+Dh4oGmFZMB+aVHFHs/iVsvWiPduNy6amFAGxfF4xOixppOyYtWr5BfuDOKQ5vg6MhRAQiIBaoqDWvfZ+Y9YLnWR0Y6ABoMAcHa+TNEhp3bgXOlB2LvbbauSItWr5FftBhPQVC7/yFM89joaAIYn0bOLVrjYpa89oPg/TNM7y1rIgyX+6hU4sWLZ/AD9o5adGiRTMCXnn+hj8ThmLzqGpfOzNaflC0Yxp5IO7EEqy6oyYqrBYtn4IiCneOX/7auciO/Bl2rd6FAPlXfKyMv4/jpwOgvep+XLLMOSkQ9ewCzt4MgLzoT2jVqioKZQzHoojCswtncTNAjqI/tUKrqoXyLc37nhBebMeEJRFoXSMOEdGHMWvjc9RdNBvtLL92zrR8flIQdHodttyUwrSALiDTQam2jRBz4gmaTemPEhIgMfA2HiSVQ70K5p/hri4ON5fMwOmac1E7w6eK6OvYuvI03kIMUA6ZqBL6TO+DKnoC3hxbho234qGjA1BSAT1+740quS5yVCD6+lasPP0WyiRlEFXqg+l9qkBPeINjyzbiVrwOdEBIKvTA772rQOz7F05EdcVM51KfXMqPxqQS7AMnY8bB37Gwu532LvpHJH1VeTxvL+3CmtV/Yu0qtjQR69Km6TzeSH0pJv42l3apyeo/1WYVWxOKdW3YdN6NzO/M/N8hZ9jVxexV04HlGg/ntkc5hwHV8r0iMPzIEDYbdpRpr0nJQ3hiQk1a1p7Dp3KSwjuubWFA3equ9P4M7zPFnp/EbjOuM0Hdl/J/6dm1MCVmHbjpXYb3tuJPcWStZvx93wOG5iJDzJ6kJ7sWltCswyZmTnIkazX7nfsehFKZpJxP5jRgvT8efX0flfwl1/Tqww2vtdF0f0TSOifZo6Uc6X6F0STJJL7a3oPFdIzZcm0QBcr4aOlIul9RfsukV9zeoxh1jFtybVA+Xnr8zpC/3MkZM/fy3o4ZnPX3Va6fPJfH3v//lveHRQjlhnZlOfRk5l98IXwX+7Sdp+ycSMa9usqLjyPzICLMBflT/tmmB7eGaE4p+dpEltO1ZJftIcrjyd/w6DxX7nyitjvLA8m8NrEcdS27cLvquPI3RznPdSczJSl/xvnt+9Ar9Nto50lnR7P+4KOM+doZ0fKfo+qcBIadOcorGR8MpJf5Wxl9Vna5Q5kQxjNHrzDz17+xjH5lutxJv7+Syf4/73DiLm/hjkf5uY+U0fvPIZx396vfe2rJC0IQVzQtQCe3B8pIF2mfh3HngnXqNSOfgPTGFNbu5snInDaSv+TSRkY0+Gken0hDePJPV3o9y+fjUrYkl7KRkQF/mveE0pCT/NPVi9mSlN7jnj0P+WlH+owkneGIql3pmZ/IH1r+L9C8Wk96AWMq9MX7P59jb8/sLwFJL4xBhb7v8efzvehpAcQcHojKg59g8OkbmF37I9/2/4rEPz2IDX+/haGZDhJijdFg+EDUtfjIke7Eq5jS4zDaH1qOJt9CPFBFNO7s2oRLkYYwkL2DX0gx9J02EvULiwEhEEfnumPzhQCUG7sItd+ewNmrQag1ewOGVdGDPPgCVq06iXhLCyTHiFDMTh+JQddwQhiDba3uYc66U/Cz7I8VzhJc94mF9O1jBNoPwtw+YpzyuokIWQSevTBBjz+morm1GIAC0Xd2YdOlSBgayPDOLwTF+k7DyPqFIUYi7u1YgF3X3+FDigj2XWdjVtsY7Px9KS5HiWFUtjOm/N4R9p99olOA3/IWqD3tBSr3H45fO7dE00a1UDpD5Iu4G2sxeelhPJN0wtrdv6Hy+7NYMnMdTvlZov8KZ0iu+yBW+haPA+0xaG4fiE954WaEDBHPXsCkxx+Y2txaNW8ixyP3Bhhn5IXzU8vkOGcbub8PKva/gSoD+qD36FkY4viprwtHYn+fiuh/owoG9OmN0bOG4JOT/OIk4GD/Gjja9QF2dv3mM6vlc6Kp10q+PpnVa07nDbWjCMm8Prk6a06/kTZmLvPdz1mTlvHid3eHI6P/nqFs2Nad16IEMvkW5zYszs6bc7yv1YwQzvNT2vGXnW8+ffjnMyF76MoaVo255KmMpJzPF9Sjddv1DEzNoPAvVzU1pkOn5bz03oerurfk1JOxpOwRFzQoxT77lOci+mB/lqw9mw9iA/n0ZQwFknF7e9KqeH2O3+FHKUnG7GGPQmXZ7LeNfJhAkgk8NtiO5SZcVX4ve0jXGlZsvEQpZZQ/X8B61m25PjD9bEVfncWfrGpy1r0kkjE8PKoNR+31Uz8/89lOUgCPTGnBUqYSigCKdC1Yocs8XsrQnuP292LBilN4U5r6wV72tCrO+uN30E9ZeO7pUYhlm/3GjcrCM+HYYNqVm8Crqfswlru6FWOfA3koTdJZjrTXoXnHLZnmiT6FpLMjaa9jzo5b3n0z7TNnZHzo6pQut9Tyw6A+QoTgj62rX6H3ei/UVaMdEPy3YvWr3ljvVTdNR61Trgf+WPLlOtEvheC7GkNG30Wj02tQ30IMyC1QqbsbmnTMTVqXnfgXx7DGdTYO6g/CwrIhuHs7JNd9RGITFKtUCUW/oNdbp0wvuC6sjtLFdQAIsK1SEfpr7uJJynDYGwAQG8HQgBBKOKKuVVU0PnBGuWPULVz2NkPtckpPkml5B1g9vYpbiTMxsozyOUDH0Ai60tJo0s1BGQPQwAY2puGQ1eyBakYAoAebIhYIe/4WcgB6OmXQy3UhqpcuDh0Agm0VVNRfg7tPUjDcXvmYad7ADbuXPkOrQVPgMLkgXrXYiNVdvvCKLZ0S+HnRWfzs/g4+1y/h0qWT2LPVHR276+HWxcmoKAF09A0zxznUMYSRrhSlm3SDg7LwsLExRbisJnooCw89myKwCHuOt3IAegAU0QiP0kcBs9we/+Jxz/MCzJs7QbbLA5ufDsCsKp8Y0CX+HjwvmKO5kwy7PDbj6YBZ+NQkvzxiWFiYIso3DAJ+6JA2Pxxq6joed1YtR6jzerg5qXmMjr+DVctD4bzeDeq+/r5Iwb3tm3GzVG+sdlT97Og44Odx6n1OOZMA/1vncOFuAOKrvMSVk2F5ssCKJBaoVbA8ipb8govyjUugvNVRrP19Mizs7FAkIRgywRqZpRIS2NjZZR5mMmuEtnUX4JL3eyiqFcb7Bz6IqdsBTQtm7iZEpmZI+60ViQCxEczM0sczxRBBoVCkZgYlylvh6NrfMdnCDnZFEhAsE2CdKTMSlPplI1bf+AndVg/AnRtfuGNSROHe3XBU/6k8dIyKolrLvqjWsi9G9quKlvW9sOfheMypqeFnUWQKs/TCQwQxjMzM0sMniQGRQoHU0oNyyAUxJDlWdyIeey7ChRLjMKdHDQSd6Ista85hwoY2uSg8ckryMTwXXUCJcXPQo0YQTvTdgjXnJmBDm49O8T9DIhFDodCkQNHy/0qWK06K514LcaasC1zbpI6RxyMu3gSmJgCkz+G18AzKuriijbXq5yI+DjD5XmPAyOH/8i2sqtfKri7PN8aoNmAFTrXvgjmDVkC/wy5Mc/qCj0N5RoGgnQPQYq4l1l9dj/aFxZBe8seSLXGAIgJvggxhrwo8KxaLM3eoEhuUat4FkW88sHCpIVJSOmHvvv4or+ZcibL0xJo6ZkXQTgxoMReW669iffvCEEsvwX/JFsRBgYg3QTC0Lw4TAIqwG7hrNRBjTDZh+LxWOOP205cL0MoQnN9zBhZO5dO09wCgV649WpXfhveJCs37AnkvPABILGBplgifD5oCs0jht2cRjhUcjqmtbSBBJ4x1dsD+DWuxz60VBhf9iG5a6oc9i46h4PCpaG0jATqNhbPDfmxYuw9urQbjY5L8GOL8/RBjXw52+Xr8IT7EJqKAhUWebva0/P+QoVnKEbD3dywJcEKrIqF4eP8+7t+7hkPzluCvcAGQB2Dv70sQ4NQKRUIf4v79+7h37RDmLfkLAKB4dwnrl+6BT9xXKslHoYeyFUpDT5yx2SsQfWsD1pwM+6gUxVaNMXNVR/jMXw/fb+JmLxk3/zmHlLod0LywckFCbNC/iJIJUEiv4cDhQKRZCZlF4y6E4blPBEp1H4NRw8Zg8sR+qGmZ9ZdMKSpMW1aj+p+M6WSUySff/AfnUuqiQ/PCEANQxAbh3ygZBIUU1w4cRqAcwIfbWPbnEzT/fQb+9FyIkrt+xfi/w5BLF/FJpNzdCY/rHzJ/+OEpfGX10Lx66mBeds09Mxde+V/mwmfZxxgOZS3wPjRGTXlicGfFBGyWDMSU9raqp1g9OI0YicbCWazb+BjyTNsLCDrqhuEzDiFAU1uLuYMVEzZDMnAK2tuqel49J4wY2RjC2XXY+DhzitLXF7Bzw3acDVDGZojzOYXLbwQowq5gq9dtxGg4TF6Q+2zCiqOR2T5XRD7EP147sMtrL86/Ss66F979G4US5cvmrI7R8v+HcupJYNjx0axkJCKU15LqT0zzztsYIgvj8dGVaCRC5u/F5uy8LYQkGbmjC811y3LCFanmGa5vECHyImd3780Znsd48ognVy+cyz89bzHyk2aLE3hqdGfO9vkWpnAFvr/gyja1O3Da1sPcvWY+52zawKm1K7H1yMn0uOLLE0vHslWpArRtNJgzlv5D/7Sl08l8MLs2CxiZ09LSkhZmJjQvUZc9Zh3ha5nA0IvrOLVLZZpb1WTv6dt5O+Qmt07vxRpW5qzcZSo9LgXzwa5ZHFDHmgUcOnDCilMMDLtA1za12WHaVh7evYbz52zihqm1Wan1SE5ee4ynV47mz9UL06z6DOXCg7jLdKlpQWMbJ/aauIrncng36KORP+Gcli04ZsFc/rF4M/++eoe3L3jR3bkvXU+GKOWTl9fz9y6VaW79Ewcs+Jsvgy9y3dQurGxuxZq9p3P77RDe3DqdvWpY0bxyF071uMTgB7s4a0AdWhdwYIcJK3gqSHli4/8ayBpDT6QvWxdCeG7FBA5oUY6WJg7svOZO+uIPuR8PzujCqpZGNLFrxEEua3kh7R0kKW9Mr0Zz80Zc8DhzWxNCznHFhAFsUc6SJg6dueZO+gIMud9BzuhSlZZGJrRrNIguay8wVCApvctVf+zlk23d2NjNhzJGc3evnzjlhpRC8D4OaO3CWxkubyHoEOesuck8X/FyP24ZPYLr7kanLcZIuLeMvXrO4bX3AhNOjGLTSZczpyf35YLGTbn41f/naypaNPMZA78mIzJcCvPCZt9hSCM5Prx9heAUC5QoaY2s/sCPQREVjFB9WxT9ZublBMQFB+C9QTGUtDIA5An4IDWAmbGm2lIg/PAw9D7RBtvXdUdxPeVnCQHnsWjwaPgOuY19fT/eMyLEBSPgvQGKlbSCAeRI+CCFgZnxV2o7CQh8HQe7UjYQwh7h8rUniDYoiZr1aqG0xReYgk84jdEdjqPbyVVo9hleNUg+uRaexYdjeKVPzKsiGpExUvwz5Gc8n3IFC2tcxMj6+9H2yhZ0MgjC9nW30XlMD6TVujwaEXGmKJR6jlKeYNecrbgXr/knRfH+Fvaf08Gv2w9iboskrG3bHs+n3sW6FuqHwAX/peg4wQAef42GvTaG0Q/FZ7zyDGBV+Ft4qedj0IGZXXl8TmOG2NIWRT9jep+OBKa2ZZA2O6hjDLMca1+B8CfPgHIusE0bTxHDuGR9tKphBu/4ZCjw8ZGDJaa2GXQVOjDOOTNfGGOUKKW8i5BYV0XLblW/8OFaYGKPHZh/MARN+hf5xMUe8bjhL4Fj889w/sQWsDI6jhvBNdGzhh6E1/fw1NoJ7gaAEHARsUXaKq8RRSiuHjiLwIAXSGwzC8NTeyu9yug3Zxn6aUo/+R6WjdeHx40/8HNJPSDlJoLCS6K6Y2rHpEBM2HsYWhdWWaETcH3DVZQfv1PbMf2ASNzd3d2/dia0fIuIUbh6NSQfXACPK68RGR2BwMeX8deOLTgv+QWzx9dBIe263o9EDMtqlRC+aQ0Cq7dExQIfP9WfeG83zhl3RCcHk8+zYEBsgLgHf+PGByLEJwAhb18jjuG4ctsU7Zxro7AEkD+/jCeF26Lqy1XwUnRF10p5mQ1SIHTXIpz/H3vnHZ/T9cfx9zOyE1kiIYi9Z+1de4dQe9ZqaVHVUn41q1W1V42iVq1qFaGtTWoFsYmZxMyQIftJnvt8f38kCJKIUULvuy+vvvLce885995zzvfcc77n+6k2gU8rWaX8pHMlr/4wv+2LQu6dwWf3Lk5E56dKiZzogJiDU/g+sAOTPiyBleoN8Z9D1XNSeTZJUdy5cYcorRP58rthpxqlV0PUUZasCKHfUM83XZInMBIbGo7RwRUHXTzhEcnYu9g/Ps1iCmVpxwEkzv6dT7KoJpwUEY7BwRm7J043GSIIidTi5OaQ+sUExB7hp4UhNP6sDQXU+vafRDVOKioqz0/cH/Rrf5oh3uMopxoPlX8BtVq99SgYYuNJFDCzssNab+K+/xZ+GPktx928aFU2B2II44yfGb1//praWfTHvX9mDT/8eAhN/oK4WERy4fAJHHpuYorn27quqPIqMIUdZ/+tglS5t5u773WjhNqDqPxLqFXrbeX+GVZPW8SROCtsrKww12rJWasfQ5vlw75EE0rrPuRwmV588qk7WkyEHdjHlaD9rNp2AmPJVrStYsRnw06Sa/enfRlrEm/6sHHLdfK26kCd+CV0aLOZptu2M7yUBWAiZNMgvo1OsyfGeIlDx+2pXt0tZUHfFMUF73XsTK5N//ZlsE68ic/GLVzP24rm+S7j/cd5jC45sdDaUKxOU2p4WENcEPt/38QJY0latauBzncjf5w34pLTAq1NMeo0rYGHddosD3HcvjrV3bSYQnxYvuY0irUQbTAnhy4ebZmOfOB2ig1br0JuV2wllnBTCTp2r43T3YP8+uc5okVwfa8HbStlGzfKtwrTjaNs/f0Afo7VmTSyurr3SOXf4036satkAeWenNyySlasXiVrd11J2RuTfF7m9flYfvbPKHhonPzSzlHqz7kliogod3fKn74GESVIZjaqKRPPGUXEKOenNBL3CgNkc7AiIuGyYupCuaEYZN/gIuLW7bfHJFLEeEOuBT4SUojZ8blUrDdeTqXZXmM8P0UauVeQAZuDRRGR8BVTZeENRSTZT8ZU8ZSfIkSSgw/JzE715cNfAsQoigTNbCQ1J54To4gk+42RKp4/SYQkS/ChmdKp/ofyS8CD/S0xsuPzilJv/ClJFhGD3y+y0jdOEv78SCr185aEBD9Z9YuviOGAfFa2vayKFRExyMVdu+W6MVxWdukoi0MViTm/SL75yf+VvBoVFZV/D9VBMzsTf4KZXQfh7dSc7l7O+Hy7EN8kMOxfzaX3x9OzeGbhkUzc3r+YGdMmM3rQN2wNNQE6dFotutS3rndpz/hBEYzvu4CLSRZYOdhgo43l8tW7OOfL+2hxGkCXj0Ieqb+YQth1oyKfFdvFwl2xj87Ru9B+/CAixvdlwcUkLKwcsLHRAlo0Wg1aDehdazDke0+Cpi7gWFJK3DTtgwJpNWg1WjToca0xhO89g5i64BhJgClkFzcqfkaxXQvZFQvmFbvSo4r1Iw81y4p071ol5R51ICYjiXd2cFFXjYI6S9xd/Jk75EfOufRmaIe8L/1qVFRU/l3Uab1si0Lg0lEscRrBsVrOaGnO/D3NAYgMusnJXd8x3C/N2EKjI3eDIYxolRooDy3u9Qbw+WB3tPcbceRmeq9aS95ui5nq34K+YwrRrwiAJc5O1kSGhmUYLki54s0VXVU8m5dhzuIN3G3Sh9wP7Evebiye6k+LvmMolJLg07nmyotb/FnumSBfhvevJVdeN+LP3sOEwhXvK+iqetK8zBwWb7hLkz6Z7A9SgvH7YyPa2ENcdqyHF3Y0mOrN9OnDGFB7C91W/MbI6hlmrKKikg1QjVO2ReHujVAKVqj4UJbEFBXCPStXHEoUopzhQ6YNLJBJRIU0Tpj2VahuD09ZGwG0jjScvIQLXp35LnQYbftb06CzJxaDf+XPsOZ4uaSaAOMdrt+2p5CHDt89YbiWiCBY05j6YbNYeqEnX5fRP0gQx4aTWXLBi87fhTKsbf+nShZ37CBBFepT2RwyDj8Yx7GDQVSoXxnzRF/2hLlSIiIYTeP6hM1ayoWeX1Mmo9qrz03l9p3pZt2OxLBbXL9zjZvX89Bw1AZ2Fe1FvVnbGLmuc4Y5q6iovHlU45RtMafSh5+Sf+YCfnEthYTeISQhL60+bkuuan2pvWYs3+//npH13J54iSaiLv6Jz+UEgiy88evYn8qpEeTjbvjhfzeEmONXue8mHPTZQ2DJtjSuUZpPlk7Cf3JKWE+HVtNZHzSEUd37cqJFTTx0MUQlOFC9V0+cjk1nhq8L0/rWw0MfjrHCWPqMX0nHle0xHfRhT2BJ2jauQelPljLJfzJRQOz1U1wJDeL2mtWYWQRz/kIeJszqilvCDbb63yUk5jhX77ujOXWF0KDbrFlthkXweS7kmcCszpacmD4DX5dp9K3ngT7cSIWxfRi/siMrezty6dR1gq+f4mxoU6rk0nP/2imuhgYQt2YN6MM5s/0aFeZ15+r8kRy//QEFLuup30r9bFJRye6o+5yyOyYDESGRaJ3ccEi7CGS8w775s9h4LRGNSMq0XqNhjPb0eOGsjEYjen1aU2fk/p1bxFrnwd3hBfyyjEaMen02GAEpGAyCmRJDlCkHTrZvX/RHFZX/GqpxUlFRUVHJdqjeeioqKioq2Q7VOKmoqKioZDtU46SioqKiku14Yq3aRMSFPew8HIAxTzWaNCmHS9q1Y1MU/nv/wudKIq7VmtOioms2WOx+NZgiD7Js9t/cRAtiJFlTmi6ju1DWXCHIewaLj8Si14PoStJhZGfKvk1xW5Lucu7Ede4/dCXXoLOwwyV/UQq/Sg2uxGDO7Pubs9bN6FLX9T8z8jFe82bBX2Z4ftwUj/R8LZLCOL9nG2dztKFjTcdX8Fxi2D7tZ3IOGULVzOqh8RreC/7CzPNjmqZbsKxgIvLgMmb/fZOUppGMpnQXRncpi7kShPeMxRyJ1aNH0JXswMjOZdWQRiqvhkfBImLl6HQvqVShmlQt6y62WjNxq/+tHIpJPZxwVhb19ZQP+n4sfT3Li7O5m7RaeEneKfFk4y1Z0S6X6OxbyU930siBx/4lA6s0kJHr/SQ4MePLsy3GSLm29wdp4aoVrcv7MnTGHJk2cZh0rlZAPKr2lNmHI+Slxc8N12XPwo+ksq2ZVJpwVrKDQP3rQZE7P3uJW57OsuZeeocjxG/lAKlkYy61p157yfZilEs/D5b+P3jLgjFfy+q1X0vfsdskPKOS3flZvNzySOd0C/acOd9aIe1y6cS+1U/yeNMYKFUajJT1fsHyNjYNlezLQ+OUfGa6DBx/QCJFRCRBri7vIHn1NtJ4/g1RxCiBq8fLzKMPLFWkbPkwr1jU+F4uvVPWSSTxn8+luJmTeC2/m9JhG4Nk87djZdW5jOLYvSUYr8iUmmZiVnHso3h4Ccfk6wpmYlZsmBwwvII8ko/J6DKW/zHjlB7J4r90rvwRkfpn4l4ZXMjyFRgnETGGiM/UTlKpWHGp99HPcib62Ze8GhLln8+Li5mTlyy/m2KdjEGb5duxq+Rtbxoq2ZPUGQYTEcFF6PJ5HRwAsKRwl09pX8DI3VvBmNDh0vZLPqtqm/q9ZUse95y4FiuBa5rZAqMx4/3+bwsW1QcyoEYify5YxsWkYP6atpQYr9F0L51ZHLt/GeMppvT/juPGZ5+aMVq0T84nWZahUll7lMCT+IU8GT7CRGJsHE9nqZCUlPKejfHxJD12TIdWl45kqcnA/fAoEtONh2Qk7n56+QCmRGLjXuqmXx8mI0YTgInIA2Po/qU3d5NTj2kefybGuFgMGcWGyhSFq2vn8He+LxnaoSPDuxtYOWcb4ZmmZcJoTHOCkkTK6zMSH2d4jrwtqD5wADUS/2TBsoskBf/FtKUxeI3uzptsGirvLg8iopGrsSd17NIcESNGxYHSFYqgB6xtHtXApMDfWB7oxarprbFP/S3q994UcKnGON/Hu6u3Dl0Ren3iSQ6/RQwdNItbTUbQraTFs6/7F4k//AsHbGtmHK7nRYk7wUG/+2g9ylMh1wPLpXBn91zGfj2eb0b1oHqJOgz5PQjFFMGJVaPpVL0ojb9ayGjP9yiSxwHnQi359kB4+nH4TBH4/NCLnqOWsuX3H+hYozXTj8WnHrzPyWVfMXjEFBYt+owGZRoxetvdlHSUO+yeO5avx3/DqB7VKVFnCL8HpT/wMVzyZvHcbxjy2RLOpva1puC/mPLNbwQqoNzYwCfN+7P6RlatgcK11d0o5eRMxX7ruRR7m30TW1LA0Y26wzZyLsqEKeIY09qWo+Ws8yTcPMCCL9tRpXAzZl5XIPZQhyKNAAAgAElEQVQkvy325mLMVbwnj+bb3/wfPY7IA3zXrQl1KuYnZ/GurLye2WAulvMbpzN55o/8OHcq3y87TKRJR5Huk/imU3E8ChWlQPWPmPq/ljint4il3OTAgi9pV6UwzWZeR4m/xNZvulGlUB2+XDKTjzzrUC6vC8X7bOBmFh+NrkgvPvHMgd+ioQyadYsmI7rxhpuGyrtMRp9UiQe/kAqVRsuhtJ/sym3ZP3eg1M5tJhqzPNJo8mF5MNGX7L9BxgyfIXtDXnr14s2TsFMGeujFofXSx+bXnw+jxEUGy92Il5uJV0J3y5ctesiqoJd8rsZrMrW2megLd5YZv6yQBd9+Kp7l80uheh/LslOP5oaMV+ZIy9bT5apRRCRR/hleXMxy95JNUSKS8JcMyGsmudvMk9ORRlGiDsn4WvZiVvxzORAnIsl+8nV5q4fTesbr06WOdUkZcdggIgmyuZeruPfdJgmiyO3VnaRi9/USqoiIRMnm3u5iXX+WBCpGuTKnpbSefjVlCizxHxle3Exy99okUU/eU/IpWfjdermRsF+GFi8vo3yTRUSR4EXNxKHeDAlQRJTQbfJRiSIyaNdzvAfjBfmuupXk7bddYh+WwVqqT76YUiYlWJYN/Fy2p1b+mE09xdWipky5kjJpl+DdR3JbNpEFIanpGfbJ4EJmkq/tAjkVIyKxu2RQIQupNP5M+tOfyddkbf860nz8PxKhiCQemSR18reRJRktLmVEzCbp6WohNadcSZUk+VrKm+eURj8clygRidneT/JZPip3VkjYOVA89A7SeumdF1+nNMZJZPBdecmmofKOk77jkHKNZXOv0nnhaGqk/WTX5qHupz+y228fs9tY4fPNF/zonzL60xfvwMRpw3g/19vuoxXL8RV7cGhYmeQdC1hy/gWnle6fZMPQZjSa6MuLfUvGctn7e7q2GEFIq14UvXuMo0ePPuOfL8fO3yE+03R1mCWcYOnkhRwvNJHduxfwYfkHn8wKl9at5njoaRZ/PYpRo8azOaoUtUsIwbeNoLXH3k5H3sr1Ke2gQ2tfg8+He+J0fTtbTz99lzqPD1m8ZwNfVNET5b+HYzcMRNwLR1Gus3rBTgo2b0FKXFl7PBed5/bWwXjIJdatPk7o6cV8PWoUo8ZvJqpUbUpIMLefeBVKUADO9T1xPbmVnfGVqFlSDyRwyOc0eWvUIq8WtC5N+KhLU4oWTPvZqXB5SX9GbI7K4BEVp3uvusR4r+Hv+4A+N+65Bb8NazlnBCXwV465fEDD1Fluc2cncqQzm/nkc/eo1YQytoBVSUoW0BB85046gW8V/Of245NjdZk4qhaOWtA5luaDcV/S2uFZeTyBuTNOaQqmsbPDRutImeplsQesChchL2EEB2dxOj72OCv2ONCwcjI7FizhxZvGBoY2a8TEt32WReVfJZ2Jolh858wkuNdCxlVOXy3U3K0mgxd9y8ESH+N31gAl3pVJ53jOrviBPQWG8E2H97ixvStL5+1i2KJm2D774sexr0zntuVZ6POCRYm7xpFdezgWEEvZKwf4M+SZvR+gQedYhZwl8lAwA89hTY7C1Ok1hsbJV6k7eChdvy3BjrHVUu8vmYDA25iVHc/Eyc15asYmnb7EukRx8msPEBefThQsrT2u+s3MGvU7eRu0o0IhGwgTSL7M5UAtVpZpBjLm9jiYA4kBBN42o+z4iUxunvmcka5wWz4obGDv4D9IaDGPBrZA0kl8jump1qVcauU2EmpdmOp50z4QHYU7TGG0TUa9vZZ8HXrRZOynrN4SRosiP+NXbgB1Vm5g9bERdN97jgIdP34Jl2ktWg1gSmc+Lek4y5ccplDnuVRMzUBfrC1Dir1wZpkUQ4MGyFIAs/izrPhhDwWGfEOH926wvetS5u0axqJmz90ysK/cmbblF/KiTUPlv8ETxsnAxdVT2FF0FGObPdinEktMrC12T9bBHIUolCc3hjzvyk4nA5fW/oB3zo8Y0dQNHZ4M7lWMDYvms35cE/rmSdORxl3Ee8MhInQKCfpytO1U/aFjiCnyDFu3+BGjs8QxLCFVuEIhcPcKvC/EofFoSH/P4tz8eynbr1hQvl0P6uZJ52vTpjw9Z/1FS69v6DPLgla/fEXlVzYG0FN8wFIWHqtNp0nd+LT0AZa1z4MWLXa2VoTt9uG0oTlVH9iGpKuc8HemYomnU5LYOBLMi1CymNlTx4znZ9C25TbaHt5F/4JG/vwt9YDWHnubaPbtOUJcuwY8GALFXbtKVB47bK3C2O1zGkPzqjwqwgn8nStSzvGJZ2U8w879CdSdVAdrwHTHlxNh79Gneur+rbj9+Jkq8fkDSxJ7ke2/7iLAujbdOzll/IicW9PbcyRdVy9lceF7NBszAW6vYczSGSj68gwtmZV6b+K597kbr3HlpjMVqhTJRA7lNWO4xNofvMn50QiauunAczC9im1g0fz1jGvSl8ebhjcbDkWgUxLQl2tLp+quqfdhIvLMVrb4xaCzdCQsIdUiKoHsXuHNhTgNHg3741n8Jn8v3c4Vi/J82qvuG7hZlexCmmplJGDdSKYFVKZJ7mBOnTjBieP/8Nu30/gjVCEp9DoB4Y++45Wr+zmTuw8fVktp9aY7+1g4fS2nY173LbwKovCdNYwlut582dI9tTGZU/njgdRTdvLj4rOPeZMlXdzK2msF6NizD/VujKHHnMsogOnuJj7uPA9jox50796cXBFBxAiAjgL1m5Jj/2KOJOfBHB1uym2u2NWianqG6SFanOt9zZzWp/luoX8m2kdZIYnkZMCokAygdcNr1gpGlAtm9YDuzDidCJhTsXE9XPxnM2D4Ri5FKZhiLrBm3BIu2uV4WFmSkpJSja6RSzv2EtuyPx3ctYCCmAQRAUxE+OzkaJwl1hYaSLrDtRvRSJKBRPOKtG7mwY2fhzD45xOEGoyE+85nzLpAbKwq0rieC/6zBzB84yWiFBMxF9YwbslF7HKk86xM8cQZnHBzTTEWif7+BNm7k9cGwMQd7+PYN62ZYuSUQDYuPoSrZ13C5n7DpvuZPS9bGn7YEbf9k1iWozvtc+fCs2dLklbP53btD8iXpiiiKCiYUFJfkMbSAnNiuB8tKLGxICZMAqaHX0oKiglMYuKpjxbzopQsbJ7yZfXwHiM5smgefz7lUfkMREFRwPSgYIqJx3JUFBTk6TKkJcqXWcOWoOv9JS3dU82leWU+HlgPZeePLD77WMvg4ta1XCvQkZ596nFjTA/mXFYAE3c3fUzneUYa9ehO9+a5iAiKSclXV4D6TXOwf/ERkvOYg84N5fYV7GpVfb57VXn3SFl6UiRk2ydS2lojpCjGpf7TikObn+Wukih7BhcWC/sS4jnsB5k3b7pMnDBf9gc/WhINX+klDmZFZdgr2TDzmlDuyq5Zw6Rno+LiZFtM2szzlYf+H8ZLsvF/XlLOyVps89WVPqPmy54H92sIkj2Lp8nMRcvl58/rSpkh+8QgigTNaiCFP9rxcDNi3Kr2UvazA/LgiRiOjpYajWbIpeQQ+X3WMrmY1XXouL/kkzYT5PSLbh6K85ftMz+UCjYa0ViWlM7fb5DjKZ4IYrgwT5q66MTMvaEMX+ErogTLrrGNxN1CIxpzG3Ep3lLG7wpJWfw2HJYvS5qJa/VOMvCryTJ1bB/x6jVLjkQoIsZbcujnT6WqnU4c646QtcfuSvL52dLYRS8WbuWkUbexMvuzqmJlV1RajPtLgsOPyKz2xcRWpxGtmaOU7fqjHE91MFCCd8nYRu5iodGIuY2LFG85XnZl6GiTKKdme0mDHj/Imo1LZcoPs2Ws1/vSc/Ym2bx8qkz82feh044okXIv3CjKvZ/Fq9ooOfqs55l8ViY1aCXzrqe+qIS98tn7A2RbzKNTEq7vl5/6lRdLnbPUH/2bnA5XRLn3m/TKZyluVTrJF4t3yuk1H0lFS5041x8tWy6EyKXt46Sxq07MS/eV1Wcin3AsUCR87wT5oPP/ZIX3n7JpxVyZMul7WXEk/PkcEBKuy/6f+kn51Hx/O35Sdo1rJC46O6k+7Fc5feeq/DmqnjjqbKTK0N/lQszjlyt3d8msYT2lUXEnsS3WRub5PvKMMl7aKP/zKidO1raSr24fGTV/jzxqGntk8bSZsmj5z/J53TIyZJ9BRAmSWQ0Ky0c7HrYMWdW+rHz2sK8wyNHRNaTRjEuSHPK7zFp28d3a3K/yQmTorfcUSowEnT4iR88GSVS6jTpB7oVE/QcqlUEODH9Pmsy6KskiErumo5QbsktO+fpJ5K/dpFjHNfJg72XMCi8pk8Y4iXJLlratJAPmzpbZ3hHpJ58uioTfup3iOfaaUOJCJCAgROLS9oiGw/JlSUup8s05iQ4JlFuRz7aWxpg7EhSS2rEZo+R2YOhjkQQM4UESdC89ty1F4kICJCAkLkudsiE8QC5ev5f6rA1y79p5uRKc/rVxW/vKe/23SUIW0o2Lin70/kSR6MjoLJXHGH1Hbt17iYFacpTcuHhermZwD9kSwwEZ/l4TmXU1WURiZU3HcjJk1ynx9bshv3YrJh3XPGwZssKrTBrjJKLcWiptKw2QubNny3M1DZV3Ft348ePHZ+kTS2OOvWte3HPZY5nuTJQeaxvL/0A8NSH60i72XFCwUgI4fDmIgBOXiHUsQouuHfE4u5xVZw0Y7xxl25Zt/H32PoVrNKF0Lh1oclA8tz+T5mgZOqkpbll+WBqscti91phlGjMbHBxsMEs7vaTcYufCFQSU/YiBzYtin35FeAytuR32NqnrUVpL7BxsHlvo1FnZY2+d3vqNBjMbBxxszMiKK4jOyoGcjtapU7I6rB1dcLJN79okTiz9nouVv6JreatnpmtmaZFm7UeDhaVFlsqjtbAjh/VLrBppLbHPmdE9ZFMkmku79nBBsUIJOMzloABOXIrFsUgjunYsytnlqzhrMHLn6Da2bPubs/cLU6NJaVKaRnFy+09ijnYok5q6/Qf6EZVnoYoNvijGGMLua3FytkGjKKDTPWxQpsRIoow5cNDcJyzJAmd7G/QPW5uRxESwtHwLHUnCf6VbmW4cbLmJk0ta4vimy/NcxBMaqpDT+SaTG4/AcfkWBuVXu8B/A2NMGPe1TjjbaEhpGg9bBomRURhzOKC5H0aShTP2NvpHhsiYSCKWvI1NQ+XVoxonlaxhCsb3jx1cjDYhGi0WbpVp0bTUwwgh2R3l4hQaD7hK41oKQXk/YfqnlUh/o4SKikp2QDVOKv8ZlLgoYvU5sLdQv5hUVLI7qnFSUVFRUcl2PJ/YYJrzwg6v4x+bdniVe4VidSovzTstmqiiovKfIc2XUxy+M3owaNUddMotLpwPxbbeeH7fMpoaT0SHMN1eR/fqfYgYE8RfA1xef6mzBSbubJ7K1jzD+KhKNuvhldus7PgefXZXZeHFzfTLnTqNFfc3g+r/QI4vpjGsTUVc1YjSKioq2ZRHjjJnF7E8Zhi7Th7h6JmrnFrWFr3Pd4xbefNxOQQlkDXTNhD4+suarTCcm0PP/nM5FpYNZ0V17nT6vDtF4g+xfUdoqgzFDbbMPkTNn7fyfUfVMKmoqGRvsig2+ACFq8tnc6XxIOraP72o/PaJDRqIuBlIQEAAAYEhxJpMxN04js/J2zyUYUuK4JrvPg6cDOJ+6u0ZLq+ir9dX7Ak3EncvkMCQWJJjggkMCCAgIJA7UUmYYkNS/w4gMDgGJbO84kIeXnsjLB6UKK777uegf1j6InxZIFuKJqqoqKhklQy35ybulk8Kukqn9Y+2axvOzZch3+yXKMNR+aq0jTRdFPrwWORvvcTdoZKMPfo2hS8KkUPTWom7DsG8oXz1fWtx12tEo/OQgbsSJerQ99Isf35p8d1GWflJFSlYf5zsvRcnh+e2lzJ2WkFjIyVb9pWBM/dLyLkV0qWIXsBMKo49JQkBO2VC8zyiAzF/f6YEJWec10erNsnQanaiQSs5Pb+QkZ5VpLCjXjR6F2k869wLS57fW99Zcpnll4Z9R8pPfq8zvoSKiorKy5GhT63hxJ8cdOrL0FapWy0TTzF/YTSdh9UlnY8mbEu3pE/fbtQv8BbtoNPmolrXZpTQAcYTHE4cyMJxzSjkXoC8Vr58128MO6Jr0Gtwe7oMaIHjP98xbM5lKvcfSB0nDWjsqTloPj9+VpdcpT+geelH3iP6Ag34sGmxR9EFMskrf4kmfFAzNzqE+HAHuq45gu+MFtgoYez7eT3nXvDzydmzL+3z3OFEaDFaln/RXT0K8VEhBEc+j6S3ioqKysuRRbHBOI7MXor0/owaGfRxb63YoCY1OIyuBM06N6HV19u5GrSPL/Tb2XY5GcwiOL1+Oat2XyNejPj7HiPyedN+Rl6jKz8w6BosC5aimI0Wa2dnbDRgio4k6oVmS7OLaKKKiorK85MlsUHl2mImrL9O3sBhDFwCSDjHgpO4t+4rBl2rx49Ter7eUv8r6NGnkSQyhYYQbgKJTcYsb0EKWfZj4a5+aG0LYM3VV5pXurxUQLVsJJqooqKi8gJkSWwwVluVLt0VQh94RphsCLDUEJ+rAIU93k1Xcr2rG846CDbGoHWvRb0yaR6V4WWN079JNhNNVFFRUXkBsiQ2uEWq0/PzL/jii9R/n3ejSk4z8jf4mOGDmgNvsdjgQ8E3BSXNzJe+vCeti5ujMZ5mxZRfuW4wEXdpPeMmbyNM9Oh1gMQRGRnFufVrOBSnxd7RHi1CTHQ0JqK5HhCaIoyVnEyyZJwXkCrQxyPNbHkgAvcMMbjHyK6iiSoqKirPSYpfxLPEBp9wo0j2k6/LP+6t91aKDRpvyPav6khOLYLGTir0mCl7bj262eij08WzoLVoNRrRWzlIwYZjZGewIiIRsu2TEmKl0YjOrpC0mXVSEkQket9oqWSvFY1FLilWvbX0bVtWLG1yScEKnjLyN58M80o+t1K6l7YSDRrRF/SSRcdPyYqORcRMg2isykrvdf6Z38fbIpqooqKikkVeYWy9RMJDDTjksuclVGyyH6Z4Qi5d5CbulCrpxqNdQomEXr5KhF1BSuR+5CWSFH6VCzdNuJcshmN8KPdtcuGczQJIpJCEzxc1mJRvA9uGFsawthM1jwxgZXcnPIKmU+3XlhxZ3wVHIHZlO2qcHMaJmXVSNKVMt1nWvg1HG/akdMEeDGn5dolnqKioZH+yLjb4TN5RsUGNGbYuecjjYsvjPgx6bJxzkdPuccujs3bCzc0ZGz1orWx4Gb25f5c3IZqooqKikjXUqOT/df6LookqKirZHtU4qaioqKhkO9QJGRUVFRWVbIdqnN5FTBH4btv/pkvxGLEntvF3gBpjQkVFJWs8p9igQsgFX65Gpu7GTQojMVdzGpbOXvoLMSfWs2TfTRTR4ly1K73qur0CK2wi4tBCJv4cRKUh4+hRNsVvTwk+yPIf13EywRZHlyp0GdSOUumFYYjxZfm0jZyNSUbQY2FtiV5jIjkJ7Dyq0KpTa8o7vwrviRgOT/sff1eaRNW0pX/DIoS2pT0I/OJ/bBw5hQ/yqWOizIkn8KgfCcVrUtLhXXhWMfgun8bGszEkC+gtrLHUazClVH6qtOpE6/LOL+HlG8OJ9UvYe1MBrQOVOn1Iffds64mkklUeeZXHytHpXlKpQjWpWtZdbLVm4lb/WzkU8+gMJXSddMqlfbgPSpuzvawOeXITVDYg+ZpMr2chGvRSauQReTU7r8Llp+aWokErrh9ulQQRkeRT8k1VG9E6fCCrzsyVRrZmUnjIvkzKdU4mVrIQ977e8uCxKgm3xGd6a/Hw8JIlV15+w1D07uHS/n8HH+1zSovxlqxol0t09q3kpztp3lvsXzKwSgMZud5PghPTu/DVYLwyTzp1WSTX1X1RmaLcmS+NLM2kwtiTLxyRPvuRLOcmVhIL977i/ajyyy2f6dLaw0O8llyR56sWitz+43tZ6JvSupNvLJDmdhpBX0SG7n+L9lqqZMhziA0qXFr5J/nXRpGcnExyspGkkI10y46BXvVu5HV91fLx9jQZ8Bltm3fm8961MAeMF//gj5NxaGydyWntSvFKlahUImfGSUT6cuyyNbUa134Y405r6U7tQb2oFe3NnBVnXq6IygV+nHqDlp9WJ13VpjcsQqgr0pd+Tiv5dtv9TM8zXtzMT5vOEmnK9LR3Fm3unizcuYNVQ8ulF/zyLSUS32OXsa7VmNqPKj/utQfRq1Y03nNWcOY5YhM/Kfapd8mNi+VLBaRUyWZkXWwwbi/zVvhxeetcVuz0575Gh+4Ju/RmxAaTiLjmy74DJwm6n3n+iXfP4bNzN77XI4m4EUTEw87v2WkoMWGYyg9g+vxv6VLGGq3xPrcvBhFmAkxxhCvVmPDXYdYPLJ1h/vFHDnBMeY86te0eT/v6RS7HmpEzl9Nz3PfTJPku53ebVrTJZOPRmxUhtKR2m7IcW7H5UZzGdNDnK04u/9n0aNGV/630JeRFFRffWmwpXPt9yjhlw4HfixJ/hAPHFN6rU5vHar9ynYuXYzHLmYus3m56Yp+PVyfBEHKef/Yd4VrUkxUtnbb+L4h9qrw82gf/y9XYkzppa40YMSoOlK5QBD2QdPE8kTnNOLN8PP1bVqBIlQGsvfro1UX93psCLtUY5/saF73vH2ZK86JUHLKb8KCldKjYmPH7wnm631O4sa4PlZpOwi/mPidmtKZ0vcmcSM56Goabe5nQsjiFCxWlwcSjJN47yKo1R4kwgSn6JOt+mMe2q5lV5SROHzhMVIna1HVN0wpN4fw9exUBlb5gYm+Pl3gYRvz/PoBV1ZrYZ3aargi9PvEkh98ihg6axa0mI+hW8vWtGVrWbEjZczv5JyGTk2xL0GbUErx/n8T7USsZ2KoDny/cz823TFLKFLyTH/p50aBOX5adOMCKOXOZO3UEAz6Zz5HICHzXzmH2nOl8/fFHfL87JLXOxXBo/ke0b1iHjrPPYMRE8M4f6OfVgDp9l3H8wErmzZ/HtJEf89mi40S94XvMKkmnD3A4qgS167qmWf81Ef73bFYFVOKLib3xyJJxSuTkjs2cDklGJJbTG6byw1o/4h8clkSubRhMm5ataNWwJqXKdWFlUKoRyqCtJ4ceZ1aX8hQuVJhK/cbxVbsmNGnWiDplS9Ni9nnVQL0pMprvSzz4hVSoNFoOPbl4kXhbDv40UKo568S6ygTxS53eTfbfIGOGz5C9r20NKlEOjSglZloH6bQ+RiT5tIx7z0zMKoyVk8lxsr6j/aM1J8MRGVnKTMyrTpDTCSKi3JJlA0fJzsTM0ngyvwT5o2dO0aKXIkP3i0FEEv/sL+46RJf3I9nxrLUa4xWZUtNCnJpNlE1bt8rWLZtk/bKZMmZAR+k8fLmcjHzZ5xEtv7TPK11+TXe16Ylb2SkDPfTi0Hqp3Hnh12WUuMhguRvxnItUyadkbOUqMu70c6ymGG6Lz+IvpGPTtvLxjO1y5W0S9Y1ZJx2d80utz1bKJYOISJSs7eAiRRsMlcWnUt5VnHdfyVd8mPg8XCqJkQ2dckqpLw8/XC+NWddRnPPVlKGrrqT8FrFKvHJWkYln34ZVKaNcmVJTLJyaycRNW2Xr1i2yaf0ymTlmgHTsPFyWn4wUEYNEh9yS4OgsVMjEXTLQQydo80jfban1L+EP6emiFbRO0mLBVTEYA2R6HTMBc3l/VpAomfYXBvEZVkz0aMS61iQ5HatI+M+eYqtBzMqPSacvUHkdZFFsMA0WeajZ70e2/9wbl9O/sjF1ovi1iw0mnWbLtsskY0bE6fUsX7Wba/GC0d+XY0+qAWqtsLKC5GMTqVe5HaNW36HV3O9opHmONICXElmKOIDPWTMqvt+QQvnzk79AUSo178+4RetZO60HrmeX8mXTfNiV6cHyU49CuxuOj6NO2dZ8Pmdn5umbIgmNsCCH/bO8lN6wCKHWEUe7CIJDnmMK2DwPtftPZf22xfTLdZjxH7Siz7d/4B/7vIV+A+itsDYzUPj99hQzB7DEzc2O0ByV6FA+pXGZu+XGMeQGNx++Cj0WVuZPJGONWVIR6rcrkhLf0NoNN9tgbt56E1Ppz0sEB3zOYlbxfRoWyk/+/AUoWqk5/cctYv3aafSq4IBybQfj2tXgky3RL5eV1omipfJhrsuJs6MWEKIj72PKUn/xKsU+VV6WLIkNpodTkw9o7LqHqPtK+sn825hCCUlRAyTZLC8FC1nSb+Eu+mltKWANR9Oeqy/Dp9P+x/6u37Lv/Ca+772NdVsXsnO5S6ZpvEriDx/gWFJZhnlVo1yxJw2Iltx1+jJ5ejA+9XcTaZ2aucGfLXtc+Wb35mcbfTFiVLToMrVN2UGEUIdOa8L0Ig1e50LZ+k15/+QZVh7Yy+nOrSlh+xa4DGvssH84aNCgQYu1vT0PXXa0oDGZ0pmOfjIZex6NPTSgMWF6G5xG4g9z4FgSZYd5Ua1csXRdxnUFSpLbvDj5auV4RZlqHh9KPqO/uPn05SpvmCyJDcbE2mL3VO8lYFaAooWfJen6L6F3xS1FDZAYrTu16pVJczPxjxsn5Ta3nD5mx/l2bJr7DROm/8b5zdNZduanTNJ4lSRxyucIUR6tqFMg485UX+Zjvmy6kJEz99BvZn7+nrsHl94fZ+1rVOeIk308p+9nFI0qm4gQyn2i43Pg6Ph8rT8+YBdLZ/zItrsetB08h53T8pO9dtc9A80T9/uCnd+TybwNJJ3y4UiUB63qFMh4L1PEAQ4nVGV0nmQCfTaz95Illbt6UvZVDRIz7S+SnjZOKm+cLIkN/hFq4PbRvzkUEPfw7Mhdm7n6/qd0zZ+SxGsXG9SXx7N1ccw1Rk6vmMKv1w2Y4i6xftxktoWZEEkZUopJIPkEc4fP55R1WTqMXcfuGc2xxRIL28zTeBJJDUMoTwoDmowkZ1ZWJRCfg4HYV69N+Uw3tzrT5sv+OP46moGTduDcM3Xn5hwAACAASURBVI1hMpxjTb9atJx1jfQ/OmwoVtSRe8FR6YzAs5EIofEOtyIKUKJoVnb5mrh/cTNT+nnS/n97yNF9Ad4bZ/JxvbfLMInIo7qCpPyXdgxh4mlByadCXqZc8+hnSeei7IhCoM9BAu2rUzuTyh9/+B+CShch7Jdl+NmWQ3NoHQfvZvB5rUlP7PPBM33y/6T0Bc/sL16F2KfKKyVl6ekZYoPJN2Spp5PorAtJs6GTZdp3/5Ph49bI+TRr729EbDD6qEz3LCjWWo1o9FbiULChjNkZLFFHpkszd52ARqzKDZDfL26U3sWKSb2uo2T2T/Plq6YlpdLQrRKsZJzGk8uy0UfnSpuCetGgEcsyfWXDyX9kXvuiKYKA+vzSfORSOfiUM4hRrmyeKmOHtZHSDnZSoPEgGfuTj9zLbM03ca98WqymfPeUgl+i7B3aQIbuzdgBIfaP3vJe/+0pG4RFsqUIodF/stSrP1WuZrrj0ij3/H6Rsd2bS4veE2XDmYin3sfbgBK8V34c4SVlHJylUufRsvzoXTm8bLR0es9ZHMp4yYgF++S23y8ypmd1cc1RTFoNmyV/Bd6R/QtHilcZB3Gt1lMmb7kiwXt/lBFeZcTBuZJ0Hr1cjtw+KEtGdZSKTo5Srv1XssjnXrZ8PsYrm2Xq2GHSprSD2BVoLIPG/iQ+6VZ+g/wzvLwUq9paeo5dLoef6VT1pNjnP+Izr60UMtMIGksp1fMXOXl0VmofoJUclYfIlkBjhm3d8LJinyr/Chl66z2FMVICTh6WQ77n5XZsepUnQe6FRD3nLu9XgSJxwRfk+LELcjcjRzUlQm7fjhUlMUT8jx2V04GRT+y8z0IarwnjhUlSo+yXcvhJG598RiY07iEbgi/Jnl+Xy/ejfhTfJ8+J/UsGvT9YdifIS2CQA8PfkyazrkqyiMSu6SjlhuySU75+EvlrNynWcY1EpJ4Zs8JLyqQxTqLckqVtK8mAubNltndEOmkb5eq05tJ6XmCmnWny8TkyYOA08b4Uk8lZKu8MRn/5rm4DmR6QLCELW0qVr49LzMk9ciA0s1qSICGXzsrFO8/rupl92rpK5mRdbFBriYNbXvK5u2Bnnt7E95sSG9RgZutCnjwu2Ga0/KWxws7OHI3ehpx53HF1eLKcWUjjX8dEyKHVzJ25jG2RthQr9h6VCtk/0lYK/o0p8/1I1BWlSfeaWN8z4F6uKI5pb8S8ICXi1/DjtZq0Lmf3gssa/6IIYdw/fD/zHt0ndKJQJvNy2jzVaN2yJsWyp4Swyqsm5k/m/WJLjyENyZ90kR2HgomMNee990tnsjE3fbHPZ5Md2rpKVlD1nN4SYn7tSftTPRjttIRZSaNZ08WG0DxFKPBk20zy56fPfsLxf1P5wP0lhgqvXIQwhoPfDOWvWtOY0MBJDYevkoYkEhP1WFqmrl/Hx5FkbcOrDkCm8nahGqe3giT+GdGerW1+47uci+g95T5VypWi5eB2FE7P/SnqKEtWhNBvqOdrL2lGxB75iYUhjfmsTYG3JF6cgiE2nkQBMys7rLX38d/yAyO/PY6bVyvK5hAMYWfwM+vNz1/XJqvj9/tn1vDDj4fQ5C+Ii0UkFw6fwKHnJqZ4ql2xikpaVOP0lqAYDIiFBXrAZEgk2cLyrfJYe2u4f4bV0xZxJM4KGysrzLVactbqx9Bm+SB+De3cl1D/3C4Gu2vBFMaBfbcoWzga700nMJZsQQP3y/y5O5na/dtTxjqRmz4b2XI9L606vE/eoDk0b7GZptu2M7yUBWAiZNMgvo2bxpzuqXs1jJc4dNye6tVTZF5MURfwXreT5Nr9aV/GmsSbPmzccp28rTpQ2XiQDX+cx+iSEwutDcXqNKWGhzXEBbH/902cMJakVbsa6Hw38sd5Iy45LdDaFKNO0xp4pHHRNl46xHH76lR302IK8WH5mtMo1kK0wZwcuni0pVpQO/4AW69CbldbJDYcU4mOdK+dC9Ptg/z65zmiRXB9rwdtK2W8N1JF5XlQZ1feEnSphglAqxqmLGAi/NRWVq/8hdXrdnM1MQuXGC8w//MFGLtPZd6MaUz59hu++WZCimFK5dE+IxPBe05gVbsijvkKEr7tN27lLYpHySJEew+lx7AthJgsyVfaREJiYfJZJ/HPgrmcrfUJA0o9eHtaXD3/x2d1Hi1+xO5dzKdfLeJsqm+/1qE4RaK9GdpjGFtCTFjmK40pIZHC+ayx9chJ4Pq9aFt3p1tjN46ObEWfNYEoNvkoGL6N327lpbB9DjxyBrJ+r5bW3bvR2O0oI1v1YU3gAzftWPYu/pSvFqVsJzDeuYlZ7T708DjP2rN56dH3fSzuRlMwxwVW+ljRtnMXuvdshHtSHEIEa7+cQ2yb/nSrpeXcyVsv98pUVNKgGieVd5B4TszsyiBvJ5p398LZ51sW+iYBBs6t6UetlrO4ls4WGsP+1Vx6fzw9i2ey89N0m/2LZzBt8mgGfbM1Nbq6Dp1WmxqlX49L+/EMihhP3wUXSbKwwsHGBi2xXL56F+d8eR8fWOjyUcgj9RdTCLtuVOSzYrtYuOtRbCa9S3vGD4pgfN8FXEyywMrBBhstgBaNVoNWA3rXGgz53pOgqQs4lgQ6nRbtA9kArQatRosGPa41hvC9ZxBTFxwjCTCF7OJGxc8otmshu2LBvGJXelSxfuRMY1mR7l2rgE6HDsFkTOTOjovoqhVEhyXuLv7MHfIj51x6M7RD3hd4Vyoq6fN2TP+rqDwHSuBSRi1xYsSxWjhrofn8PTRPPVY0jy2WRSuQN521uvigm5zc9R3D/dKM2TQ6cjcYwohW+VP+1rpTb8DnDHbXcr/REW6m14K0eem2eCr+LfoyplA/igBgibOTNZGhYRmGKVKueHNFVxXP5mWYs3gDd5v0IXeqEcrbbTFT/VvQd0wh+hVJ/3ptrry4xZ/lngnypX8KoCVXXjfiz97DhMIV7yvoqnrSvMwcFm+4S5M+uTMcsSrBfvyxUUvsocs41vMCrGkw1Zvp04cxoPYWuq34jZHVM8xYReW5UI2TyjuHcvcGoQUrUPHBB5ApipB7Vrjm0nH5wAXca40iaO9GDvv6Ed9gPAOrpLgz2JQoRDnDh0wbmEmYnTQrtPZVqqfIk5iePkXr2JDJSy7g1fk7Qoe1pT/WNOjsicXgX/kzrDleLqkmwHiH67ftKeShw3dPGK4lIgjWNKZ+2CyWXujJ12U0DxKk4eQlXPDqzHehw2jb/+mixR07SFCF+lQ2J4MoIgBxHDsYRIX6lTFP9GVPmCslIoLRNK5P2KylXOj5NWUy6BX0uSvTvnM3rNslEnbrOqEWsVz0daPhqA3sKtqLerO2MXJd5wxzVlF5HlTjpPLOYV7pQz7NP5MFv7hSSkK5E5JA3lYf0zZnKD6HbxMatZqrn35CI5OBMzkfmSHzan2pvWYs3+//npH13B5vHKYoLv7pw+WEICy8/ejYvzIPZLnibvjhfzeEmONXuSGH8NkTSMm2jalR+hOWTvJncqrokkOr6awPGsKo7n050aImHroYohIcqN6rJ07HpjPD14VpfevhoQ/HWGEsfcavpOPcmhz02UNgybY0rlGaT5ZOwj81wdjrp7gSGsTtNasxswjm/IU8TJjVFbeEG2z1v0tIzHGu3ndHc+oKoUG3WbPaDIvg81zIM4FZnS05MX0Gvi7T6FvPA324kQpj+zB+ZUdW9nbk0qnrBF8/xdnQplTJFce1U1cJDYhjzRrQh59h+7UKLJxWlAPzR3L89gcUuKynfiv1s0nl1aF666m8o5gwRIQQqXXCzSF1TSfmV3q2P0WP0U4smZXE6DVdsAnNQ5G0m8WMd9g3fxYbryWiEUmZ1ms0jNGeLyoEacRo1KPXP/7b/Tu3iLXOg7vD8280NhqN6PXZYVypYDAIZkoMUaYcOL0NEeJV3hpU46TynyHpnxG039qG377LyaLeU7hfpRylWg6mXbqbxVRUVN4kqnFS+e+gGDCIBRYpm8VITLbAUvXJV1HJlqjGSUVFRUUl26Huc1JRUVFRyXaoxikLxGyfxhzfpDddDBUVFZX/DE9M65mIuLCHnYcDMOapRpMm5XBJd604ieBTO9lx5BbWldvxQWWX11Xe14pyeTnDpoXR9L0YjtiVgr0XqfHDBFo4vemSvYPEB3LUL4HiNUvikF2HTDG+LJ+2kbMxyQh6LKwt0WtMJCeBnUcVWnVqTXln1blCReWV8EjaKVaOTveSShWqSdWy7mKrNRO3+t/KoSf03mLO/iJfejWWjmPXy8mQ16h6+0YwSojPVOlUqZgUr/eR/Hwm+k0X6B1FkTvzG4mlWQUZezL52ae/SZLPycRKFuLe11seNA0l4Zb4TG8tHh5esuTK65fbVFF5F3mkwnN2EctjhrHr5BGOnrnKqWVt0ft8x7iVNx9ugI86OInWzSYQ1nUJayZ0pEKud1sMTrm6ljl/5+PLoR3oOLw7hpVz2BaeUfAZlRdHS+6eC9m5YxVDy2WH/TuZEOnLscvW1Gpcm9Q44mgt3ak9qBe1or2Zs+LMGy2eisq7QqpxMhERXIQun9fBAQBLCnf5lPYFjNy9FZxinCL/YnSfSQQ2n8nMD/KnG97FaMw4aMrbiK5IdyZ904niHoUoWqA6H039Hy2dszLnZOTUlP58d9z4r5fxncG2MLXfL5OJ8mn2IP7IAY4p71Gntt1jvyvXL3I51oycudQ5XxWVV0HqMFVLrsae5Ep7RIwYFQdKVyiCHhM31kxnZUABun4eyoIvBxNiUYCa7fvwQUVHtEDU770p0/ccff8+xISqb98XVez5jSzachMrez1x0TbU/qg3NVI10G3r9qHH8yQWf5hfDtjScmh2/gowEen7Cz/tC8fKMpk7l+6St+tXDKyVCy0KgZsnMX7JHgKKD+aHqjfZvtOHG1UmsGhAWcyNt9kzZw5/xjrhmBiFJm8+LOJv8M92I92H52L7kr+45NSdWb10HDwdjeHmWQI9+jCpi5a/Vh8mLDmMC5dt6TBxBA1dtRBziPlfTOf3Czo8569haJl77Jz2NT/+dQmn7jPppT/C2ehEbpy7RaF+4/mossMbemZJnD5wmKgSnanrmsaKmsL5e/YqAip9webeLxpJQkVF5TEymu9LPPiFVKg0Wg7FiYiEyk8trEXrUEuGr/WRU357ZdmnVcXRpoQM8r4nIiLJ/htkzPAZsjdEeU0zkq+KZLm2tr/UaT5e/olQRBKPyKQ6+aXNkvAXS04Jld1ftpAeq4IkWz+J5FMy9j1nqTftvCSLiPHiZKnp2lwWBj4otSK35tQXm2KeMnPfPTk95wNpPOJPiZZkOTO5thTqsl7CRUQiN0r3glVlgl+0BJ6/IlGKSMy6juKcv5Z8tvKSGEREotZKB5ei0mDoYjkVJyISJ95980nxYT7ycNUyZoN0yllKvjz84JcYWdfRWfLVHCqrrqT8FrHKS3JWmShn39SylPGKTKlpIU7NJsqmrVtl65ZNsn7ZTBkzoKN0Hr5cTkaKiCFaQm4FS3S2fvkqKtmf9If2yjWWzb1K54WrqWENGIO5FZyMZb0BjOtcGzug/MxFBP5Tlakz1zK/5afoi3dg4rTXaldfCYr/XPp9coy6f8+jlqMWjI6U/mAc77d+/tF57GVv5o2dwEaLPkwpepdjR+8+8xqN1pa8pUuTJxMJoX8FfRE6jZ1ChcL50QOKe1lKWczj2LkkPvKwBLRYW1kiSgEq1nCmXL1f2QFABEf2n8S+anFyANiVoJjzeXyOxPP1wCJogUQra8wMhXm/fbEU+XJLN9zsQkmu1IHy1gDmuOV2JOTiTYyQco7eAqvHPrj1WFmbkVSkPu2KpBywdnPDNvgmtxQyjJz9rxJxAJ+zZlT8X0MK5bcFjQ6bKo1p/+FnqdPcCte8x9Fr0A0GntlItzf1gaei8g6QThOPxXfOTIJ7LWRc5VTJZY0tdjYaHgsloS9J9cq5MO679jrK+S+RxPHlSzhcqDNzK6b2jPpitB1S7AXSiuPakV3sORZAbNkrHPgz5JFgWyZodI5UyVmCPAVftwuyDQVKOLN5/ki+cMxHvtxx3E5WcH1i2VDnlo98jxXNnrrNazB530numcqT654fp6Nq0Kp+zsc2zWns7LF/cJ1GA1pr7O0tHx7XosFkepZziQY7e/tH65sa0JhMGeoh/dvEHz7AsaSyDPOqRrli6b0vHQVK5sa8eD5q5XjtxVNRead4wjgZuLh6CjuKjmJsM9fUziaWmIQ8vFfeHdORG9xUoFRqu7SyskDnlPM1F/lVYuTalZs4V6hCkZe2DTaU7zmLv1p68U2fWVi0+oWvKr/uz6GsY7qxip6NJuG00IeFLXOhNezj2rSlxGAiLOgGVh4PxPW0aB+zsjrcCjXEKzyIBVOmY5WUhOe69XQv8fQD1DxhnbNirJ9G84LXvWqSOOVzhCiPVtQpkHFliThwmISqo8mTHIjP5r1csqxMP8+yr7GcKirvBmkGu0YC1o1kWkBlmuQO5tSJE5w4/g+/fTuNP0L11OrVnVKXt/DbxVQPNFMo5/3vU6GNZ8qfd/axcPpaTse8gbt4YcwpWrIw5o/1viYijyxi3p8hL5Si1rkeX89pzenvFuKfjZ0XEw9vZVdSDVo1zIUWMEXf4FZEMorJwD+//k6g8YGunvB49EWFkIunCSv0AZ8OGsCnX3xOt0pOT4QaSbnm4XWpf6RNxsTTIR2fivIoQsp/D5NN56rXhBKIz8FA7KvXpnyG/j7xHP4niNJFwvhlmR+25TQcWnfwdZZSReWdQTd+/PjxYCJ0+1CadZ/Hjh3rWLJ4Mf9v777jazr/AI5/7shOJBEkJEZixB5F7aoVO1YpNWtWa5T+dGitomrP1qhRo1pUqVotNWvFFiOxkhiZsmTITe69398fCYLQRJXQ5/16+UPuuec859x77vec53nO97to0SIWfbecPxx6MmPAazi616Cm836mTNxMnI0QvHEevzCAeROakl8PsRuH4ztkLZqmA2ha9GV5Sl5Lwcqlub1uCbtTbEgNOsz2TVs4bKhNr/be2DzlJbvWyRuH/TP4o8hb1HfNnXOjdQXzkXLoJ7YE6rGJOsivOzRULB/Exi0XsK7oQ/Xo9Uxduo3TF8OIjotFW+x1SjlrAS32tueZ9nYvxs6dx+wZU5j49UI2n4jBpVodnE8vYtLCTRwJDCM+yYoi5VL4Y+o81h8I5EZsAlq3cugOTmf2T/sIuBZLnNmF0kVDWTN5Ab8evkhYguBawYuwNV+zcNMRAsPiSbIqTJnk35n67QYOBt4gLlFHoSpVKGL7PO6pTFzeNIPZ3y3hpx3XII89iQZHKlYuwiObT/Xjuy/XcTQsjnyVGtKoYSveeavac2ijorx6cp6V3BDN5YAbaAqXoXjezJeQKURHGnAq4Pj4Ete5lpH465e5mepMMU9XbJ9BPDHH3CTcyp1Cdv98Xf8mU8JNgm5Z4+HpgjVGkuINWDvaPfYzNEf+Qv/OW2n2/be8VST98zcnBfHnlD58ENCXI2vewfn5NT9XMQVOouH7Viz/vRu/t23FjXG76HD7JJUb1HvRTVOUl07Of4atXChRqdJDgQnAGpeXMjAB6HEsXJqyxZ9NYALQ5s39gQlA5+BOCU8X0qcq6LF7QmACMEee5TzeVHG///lr7Typ4/MajncSSfkPJ9BI9DuFuW4DPPROlKviQcSepeyOLviim6UoLyVVz0nJoXiOLfyMmUccqFy3KiWdzUQEnODoZS1NPh7H297/4ep9qSmk6K2x1gKYSU5KxdbO+u/epShKFlRwUp5SKnGh1wiN05K3cBHcHHJzNgxFUV42KjgpiqIouU7unEqmKIqi/KepvphXnclAYnIKggU2DrZo4wPYNOUTJh5zo12rCuQRA1FnTmDRaxlf1M1uwt54zqyewrcHNRTxzI9V7HkOHXeix4bJ+KohFkVRngEVnF5R8WdWMW3hYZJs7LCxsUSrzUedvoNoVrg0PuV0vHuoPD0/GIS7FsxR+9hzI4mQvWvYcNxImRYNcb+4jT/T6tKvQ3lsU66z/+dNXPVoRcc3PQiZ05E2vzZly9aPKGsFmCPY8P5EbmeqEGIMPMgxx5rUdNMCZuLOb+anHWnU7deB8rYpXN//M5uuetCqYzWMB9ay8ZyR/Pms0NqVol7TWhS1haSQvfyy4TjGMq1oX0uH388bOWfMTz4rLXal6tG0VlHu5+AwEnjwGI41a+KmNROx/3tWnzZhK7cxWOZBl6ylbIvaJO/bwmUK4movJEabKd2pG3ULmLl5YB3bzt5GxJXXurel6ksw01JRXmWqWy+3M0dz6rdVrPhhFT/9eZmUbLzFeP4bhs830m3qPGZMm8zE8eMZP24oze4lycuUEsgczq7jNtSt4kxhz2i2rL+BR8milClxm81DuzNsUwRm68KUM98hpXhhbFP/Yv5cf+p80D89MAFoXfH9/EPqWdxdaSK7Fw3i04X+pMcrLU7eJbi9eSjdh20iwmxN4XJm7qQUp7CtPUXzBbNmt5bW3brSxO0In7TqzepgE3aFPYnesp4bHsVxzFOUfMFr2K1tTbeuTXA78gmteq8m+G4WjsTdLBr0KQv9jYCR0OsW1O3dnaLnfsTfozt93rQi7HZh8pxfwX6btnTu0o0ejd1JTRKI+ZERcxJp068rdbRnOXkjF6f2UJT/CBWccrPk48x85302521Ot3Yu7J+4AL9UwHCW1X3r0HLWFR79GTWwd1Ugb47tgfcTUvuZb+5l0YxpTBr5PuN/i0xPpqrTodXq0r8U+vx0GPs+MWP7MP9CKlY2TtjZaSHxIpfDXCjs8eCUcV1hL4pm/MkcsZNrVT6k1M4F7Ey8u4Se/B3G8n7MWPrMv0CqlQ1Odnbp29Jq0Gq0aNDjWmsIX/uGMHX+UVLRodNq0WV8S7UaLRqtBvSu1BryNb4hU5l/NBUwE7HzGlU+LMXOBTtJxJIq73SneqYUDtZVuvFOdUt0Oh2IGWNKKH9c0FHDUwfW7uQPmMuQb8+Sv9dQOnq8nE/rKcqrRHXr5Vomgpd8xuK8H3O0jgtamvPNruYZr5WkkL01JSt7ZPHAbDIh10+y86uPOJHp0kOjK0jDIR/Rqkj6O7Tu9ek/fDDu2ngaH76e5RdB69GVRVMDaNFnFF59S6T/0dqFvLaxREY97mlbE5c2X0L3ui/Ny89h0dowfHoXzAhCHnRdNJWAFn0Y5dWXElm+X0sBDzeS/W9hpvDjD4+2AB5uyfjfMoPpEpsv6Xjdtznl5yxibZgPvQs+7rrLRPiJjfysTeTgRWfqtwNsGzJ183SmD+tP3U1dWb7+E2o+fsuKojwHKjjlWibCrkXiWbnKvXEVc1wEt2xcKaC7yL7z7tT5LITdPx/C70QyDccOpLolgB2lvSpieHcaA5+QPfv+8wOOVK/pmL7+R5bQ4txoEovPt6PzV5EMa9sPbBvS2deKweu2EdW8HfkzYoAx9Co3Hb0oqvNjV5QrpWPC0TRpQNSsJZzv8QXlNRlrdG7EpMXnadf5KyKHtaXfIy1L4uiBECo3qIZlFveF9xc7yoGQyjSoZkmK3y6iXEsTE66hSYMoZi05T48vyj/my62nYLUOdO5qS/uUKG5cjcQm8QJ+bo34bO1OSvasz6wtg/ipsxp0UpQXSQWnXMuSqu8OosjM+fzgWhaJDCXijget3mtLvsj9HLoZSdyqywz6oDFmwxny6e6/r0afuqwe/TV7v/6E+m4PfsTmuAts23+ROyFWbD7RiX7V7pZGSeLaiQDCIhI4dvkacnA/u4LL0LZJLcp9sIQJAZOIA8CJVtPXEDLkM7r1OU6L2kXRJcRxx6kmPXvk5ej0Gfjln0af+kXRRxupPLo3Y1d0Ym7tA+zfFUyZtk2oVe4DlkwIYFIcQCJXT10iMuQmq1dZYBV+jvOFxjHrHTfuXPuNgLAIEo5dJt5dw6lLkYTcXM0qCyvCz52n0LhZdLY+zvQZfuSf1of6RfVEGyszuvdYVnRaQS/nQE5dDefqKX8im1anQNIVTl2OJChpNavRE31mK1cqL2BayX1888kxbr5VjIv6BrSqqaYcKsqLph7Cze3MBmIiYtHmdcMpY0wnYV0POpzqzsi8i5mVOpLVXeyILFSCYplmghtD9/DNrJ+5kqJBJL1br/GwT/B92ozxRiNGvf7BqxljPKE3ErEt5I5Tdmeh338zRqMefW64PDIZMIgFpoQ4zHnyYq+GnBTlhVPB6aWTyl8fd+C3Nuv5Kt9Cek2Op3rFsrQc3J7i6kdVUZRXhApOLyGTwYBYWaEHzIYU0qys+Q+nW1UU5RWkgpOiKIqS66jnnBRFUZRcRwUnRXnpJLB12pz0B7IV5RX1ULeemZjzu9hxKAhjoRr4+FQk/91B9qRrnDp9naQHOgE1WLqWoXqJl78wtzn2AEtn/851tCBG0jTl6DKyCxUsTYRsnsGiw4no9SC6MnT8pDMVcjw77QVKDePs8avE33uQSYPOyoH8RUpSvMAznDadEs6ZPb/jb9uMLm+4/meufIxXNjN/uwW+7zUly8mQqVGc27UF/zxt6FTb+R8cFxMXvx/GtKimvJZwGIeysPtCLaaMa0HerBvG5vnbsfB9j6ZPO0sTM7EHljL79+uknxppaMp1YWSXCliaQtg8YxGHE/XoEXRlOvJJ5wq8TKeGkovJPYlyZHo7qVq5hrxewV3stRbi1mCiHEwQETFK0OyGYm9hIw6OjuKY8c/WwlJqfHVBXhnGG7K8fQHRObaS70JN9/+euF0GVm8on6w5IeEpL655T80YK1d2T5EWrlrR5n9Ths6YI9O+HCadaxSToq/3kNmHYsT092t5MsNV2bVggFSzt5Cq4/wl7Vm0+6VgktBl7cStUGdZfSurl2PkxIr+UtXOUupOvSLGf7o5Y4Tsn/q2VC3lLfUHLJMzt5/QstBl0s6tBQ/ZZQAAIABJREFUkHTOsmE53OyN5dK+gE4cW30nD54aA6V6w09kzYlweRlPDSX3uhec0s5Ml4Fj90msiIjckcvfdxQPvZ00+eaamNL8Zd6IKXIoJtO3Mu2EfFG1tkw4949Pt1wl5a/h4m2RV9p9H5b+g20MkV8njpaVZ5NedNP+GeMlmVzbQiyqjJZTdyPHnaPyRWULsSg1TPYZnsE20o7KyPLW/7HglJU0CVgyVzbGZPw3ZbcM9rJ+BsHJKJdWfi5f/HRMVnw+SjbtXyD/m7BZbv3jK4vsSJG/hnuLRd528n1Y+gaNIb/KxNEr5WU/NZTcKaOHwUxMeAm6DK+HEwDWFO8yiA7FjITdCMesLUaP0R9R0/l+h4TRfwPb9E1pU+p+d4HR+PJnc7aqOZD+tVLYNn8pF1LD2T5tCQntRtKt3BOyqP7bjKeY3O8rjhn/ftHH06J9uD/JujxVKzhiCj7JiYiHc+WZSUlM4tFNmkhNTf+cjcnJPDjsoUOr0zzyDswG4qPjSMkyHZ+RpPistgOYU0hM+kc7/fyYjRjNAGZi942i24jNhKVlvKZ58JgYkxIxPC414RPpKNFtAuPf9qaoV0mK1RzA1M9b4vLEfkIzRmOmjZlSSf/4jCQnGXKwbStqDuxPrZRtzF96gdTw7UxbkkC7kd14kaeG8uq6m++ZAk18qeeQ6RUxYjQ5Ua5yCfRaexzsM58BRs5u2Iq2WVtKZzzhH/dLL4rlr8GYl32UVleCnh/4kufEQoa+P4sbPh/TtcyLfYoo+dAP7LOvTflnnU0h6TgHTsSjLVqJygXufr4mQv+cy+gvxjL+s+7ULF2PIb+EYDLHcHzlSN6uWZImny5gpO9rlCjkhItXSybuiybL31pzDPun9KTHZ0vY9MsUOtVqzfSjyRkvxnNy6acM/ngyCxd+SMPyjRm5JSx9PaZQ/pw7mi/Gjuez7jUpXW8Iv4RkfeFjCNzMornjGfLhYvwzfmvN4duZPH49wSYwXVvLB837sepadqOBiSurulI2rwtV+q4hMPEme75sSTFnN94Y9jNn48yYY44yrW1FWs46x53r+5g/oj3Vizdj5lUTJJ5k/aLNXEi4zOZJI5m4PuD+4Yjdx1ddfahXpQj5vN9hxdUnXcwlcu7n6Uya+S3fzp3K10sPEXtvF+x5o3d3Kjzp+2C6zr75I2hfvTjNZl7FlBzIb+O7Ut2rHiMWz2SAbz0qeuTHu/darmfz0OhK9OQD3zycWDiU92fdwOfjrrzgU0N5lT3ulirlwP+kctWRcjCrW/a0kzK6alUZdfJ+501awFoZ9dEM2R3xXPoY/l13dsjAonpxar3kgf71nDFKUmy4hMX8s554U+SfMqJFd1kZ8g+Pq/GKTK1rIfrinWXGD8tl/sRB4lupiHjVf0+Wnro/cGG8NEdatp4ul40iIiny10feYlGwp2yIE5E726W/h4UUbDNPTscaxRR3UMbWcRQL7+GyL0nSu3or2dzr1jNenS71bMvIx4cMInJHfu3pKu59tsgdMcnNVW9LlW5rJNIkIhInv/ZyF9sGsyTYZJRLc1pK6+mX07vAUv6Sj7wtpGDPDRL38D6lnZIFX62Ra3f2ylDvSvKZX5qImCR8YTNxqj9DgkwipsgtMqB0CXl/Z+bPwSiB3/WVERtjH3OszstXNW3Eo+9WSbzXBlupOelCeptM4bJ04HDZmpC+eMKGHuJqVVsmX0rvtLuzubcUtPaR+REZ6zPskcFeFlK47Xw5lSAiiTvlfS8rqTr2TNbdn2lX5Md+9aT52L8kxiSScniC1CvSRhZH//3H/ICEDdLD1UpqT74kRhFJO/GFVLLMJ42nHJM4EUnY2lcKW99vd3bc2TFQiuqdpPWS0KcfpzQmSWx4mPzDU0N5xWV97WW6wtK5l+m8YBW1srhlN57dwBZpxsJMl/J67458Oe3fCqHPUyLHlu/CqVE10n6Yz+JzPRj1xEvUx4g/ydqh/ZiWdw4nZtZ7ihlMiVzcPI/R437GqvdkSoYd5UjY371Hg9beg3LlCvH4nhYdFneOs2TSAkKbLObAup7cT15uIvCnVRyLLM2iLz5DC5jiylK3tBB+0wglHHF00OFRrQHlnHRoqcXwj3yZ//ZWfjs9iXrVH9pS0XdZtMsHl2p64gK2c/SagZg80ZhMV1k1fwee7y/OyGruiO/Cc9xMc8BJApiw6hiRpRfxxWdawERc2bqUlnBuGsEx00dhCgnCpYEvridHsSO5KpPL6IEkDu4/jUetcXhoQZvfhwFdmrLXM/NnqKN4x8mMtHN6zCHyplvPN5g8bjW/xzenvX1B3AsKJ9b+yNn/jaP8tXUczf8Ws+zTF7d0yUueLHozHz7uRev4UN4eMJehTDENv4aGYqLCQ9mXTQTM7csHR9/g93l1cNaC0bkcb415k9aPae5jWbqQN1PDNA4O2GmdKV+zAo6AqXgJPNhLeLgJSmRjNl/iMZbvcqJRtTR+mL+Ycz1GPfnu7THiT65laL9p5J1zgpn11Nw+JWtZfLUS8Zszk/CeCxhTLauyAUbObdiCqel8KuWGpJ3PVDL+y6ewq9gQxnd8jWtb32HJvJ0MW9gM+5yuyrEandtWYsH+p2xK0hUO79zF0aBEKlzax7aIv/31AzTonKuTr3QhPB/zW6PJU5x6PUfRJO0ybwweyjsTS/PH6BoZ+5dGUPBNLCqM5ctJzR9NiZRFj61taW+KaPeRlJxFohGtI676X5n12S94NGxPZS87iBJIu8jFYC021pm6ii0d05PHpgQRfNOCCmO/ZFLzJ/cZ6Yq35a3iBnYP3sidFvNoaA+knmT/UT01ulTM+HIbibQtTs27BQQTL7B13U6CbOvS7e0sJ2ADWgp37InP6EGs2hRFixLLOFGxP/VWrGXV0Y/ptvssxTq99w+mTGvRagBzFv1pqcf4fvEhvDrPpUrGBvSl2jKk1FNv7AnNSK+InK0cMcn+LJ+yi2JDxtPxtWtsfWcJ83YOY2GzHJ8ZOFbrTNtKC3jaU0P5b3govBi4sGoyf5T8jNHN7j6nkkhCoj0Od7+DxnP8sjUNn3mVXrF6GwYCf5zC5nwD+LipGzp8GdyzFGsXfsOaMT70KZTphzTpApvXHiRGZ+KOviJt366Ja8Zvnzn2DL9tOkGCzhrnqDsZdZNMBP+5nM3nk9AUbUQ/X2+u/76ErZesqNS+O28UymJE264SPWZtp2W78fSeZUWrHz6l2jMbeNbj3X8JC47W5e0JXRlUbh9LOxRCixYHexui/tzPaUNzXr8bG1IvczzAhSqlH12TJCZxx7IEZUpZPPKa8dwM2rbcQttDO+nnaWTb+owXtI442t1mz67DJLVvyN1LoKQrl4kr5IC9TRR/7j+Nofnr3G/CcQJcqlDR+aFjZTzDjr13eGNCPWwBc6gfx6Neo/fdshdJezlhrspwS8AUzM+LDuLZ8w382oxjQ7Nf6OX4mEPk0ppevp/wzqolLCp+i2ajxsHN1YxaMgOTvhJDy2Tn228mx8+5G69w6boLlauXyKKQ5AtiCOTHKZvJN+BjmrrpwHcwPUutZeE3axjj04cHT43NrD0Yg850B33Ftrxd0zVjP8zEnvmNTScS0Fk7E3UnIyKagvlz+WbOJ2ko2qgfvt7X+X3JVi5ZVWJQzzdewM4quUWmr5WRoJ8+YVpQNXwKhnPq+HGOH/uL9ROnsTHy/sCt8fwvbE3xoU2VB68bzaF7WDD9R04nPK+mP0tx+M0axmJdL0a0dM84mSyp9t5A6pt28O0i/wdmk6Ve+I0frxSjU4/e1L82iu5zLmICzGEbeK/zPIyNu9OtW3MKxISQIAA6ijVoSp69izicVghLdLiZbnLJoQ6vZxWY7tHiUv8L5rQ+zVcLAp5Uei8bUklLA4wm0gC0brSbtZyPK4azqn83ZpxOASyp0qQ++QNm0/+jnwmMM2FOOM/qMYu54JDn3pclNTU1I+gaCfxjN4kt+9HRPb0LTsyCiABmYvbv4EiSNbZWGkgN5cq120iqgRTLKrRuVpRry4YweNlxIg1Gov2+YdRPwdjZVKFJ/fwEzO7PRz8HEmcyk3B+NWMWX8AhTxbHypxMkiEvbq7pwSIlIIAQR3c87ADMhG4+hmPT2ulBTuNEg169qMJJzhhLU/aJ9QTtafRuJ9z2TmBpnm50KFgA3x4tSV31DTfrvkXhTE0RkwkTZkwZH5DG2gpLEoi/LZgSE0HMmAXM9+6UTJjMYBYzj9y0WJakTHHL9Dure/sYy+GF89j2yIzKvyEmTCYw322YycwDWzSZMCGPtiGzOD9mDVuMrtcIWrpnhEvLarw3sD6mHd+yyP+BM4MLv/3IlWKd6NG7PtdGdWfORRNgJmzDe3SeZ6Rx9250a16AmJCE9O3qitGgaR72LjpMWiFL0LlhunkJhzqv52xflVdP+tCTSSK2fCDlbDVCesHSjH9acWqzTMLujXymyenR1aTssP3y8GMx0SvaiZNFSRn2TB6YeU5MYbJz1jDp0dhb8tqXkjbz/OTe/A9joPz8eTupmNdW7Au/Ib0/+0Z2hWccCEOI7Fo0TWYu/F6WDX9Dyg/ZIwYxScishlJ8wB/3HkZMWtlBKny4796xMhwZKbUaz5DAtAj5ZdZSuZDdceik7fJBm3Fy+mkfHkoKkK0z35XKdhrRWJeRzl+vlWPpMxHEcH6eNM2vEwv3RvLRcj8RU7jsHN1Y3K00orG0k/zeLWXszoj0wW/DIRlRxkJca74tAz+dJFNH95Z2PWfJ4RiTiPGGHFw2SF530InzGx/Lj0fDJO3cbGmSXy9WbhWlcdfRMvvD18XGoaS0GLNdwqMPy6wOpcRepxGthbNUeOdbOZYxwcAUvlNGN3YXK41GLO3yi3fLsbLzsRNtUuTU7HbSsPsUWf3zEpk8ZbaMbvem9Ji9QX79fqp8ucxPEh4+HL/1kdf6bZE7f3fc0vxlQsNWMu9qxgd1Z7d8+GZ/2ZJphXeu7pXv+lYSa52LNBi5Xk5Hm8R0a730LGwtbtXflv8t2iGnVw+QKtY6cWkwUjadj5DArWOkiatOLMv1kVVnYh+aWGCS6N3j5K3On8vyzdtkw/K5MnnC17L8cHTOJiDcuSp7v+srlTK2u/7YSdk5prHk1zlIzWHr5HToZdn2WX1x1tlJ9aG/yPmHDpIpbKfMGtZDGnvnFftSbWSe3/2ZUcbAn+XzdhUlr629FH6jt3z2zS65f2rskkXTZsrC75fJ8DfKy5A9BhFTiMxqWFwG/HHvzJCVHSrIh/d+KwxyZGQtaTwjUNIifpFZSy/884eVlZfeY2frPU5C6BUJvZ3VaXJHbkXE/Qe+VAbZ99Fr4jPrsqSJSOLqTlJxyE455XdCYtd1lVKdVsvdZy8TlreT8pmCk5huyJK2VaX/3Nkye3NM1qvPkkmib9xMnzn2nJiSIiQoKEKSMn/UhkMyooy1VB9/Vm5HBMuN2L+PlsaEUAmJyPhhM8bJzeDIBzIJGKJDJORWVtO2TJIUESRBEUnZ+lE2RAfJhau3Mo61QW5dOSeXwrN6r0EOffy6dFievalvSXG3M12ImeR27O1stcd4O1Ru3PoHF2ppcXLtwjm5nOU+5FKGffLRaz4y63KaiCTK6k4VZcjOU+J34pqs61pKOq2+d2bI8nblMwUnEdONJdK2an+ZO3u25OjUUF5ZurFjx47NyZ2WpYMzDlZZDc7rsbWz/g/kUxNuB+5k13kTNqYgDl0MIeh4IInOJWjxTieK+n/PSn8DxtAjbNm0hd/94yley4dyBXSgyYN3wQAmzNEydEJT3LJ9sDTY5HF4rjnLNBZ2ODnZYZH5ozbdYMeC5QRVGMDA5iVxtP77HdBaOuBolzEepbXGwcnugbFKnY0jjrZZjd9osLBzwsnOguxMBdHZOJHP2TajS1aHrXN+8tpnfm8ykZEp2FgHs+Lrg5T98F2qO/79mi2srTKN/WiwsrbKVnu0Vg7ksf0Ho0ZaaxzzPbwPuZzcJnDnLs6bbDAFHeJiSBDHAxNxLtGYdzqVxP/7lfgbjIQe2cKmLb/jH1+cWj7lSD81vCkYMIE52qFMaOr2H/gdUf6Oquf0tIwJRMVryetih8ZkAp3u3gllToklzpgHJ008UalWuDjaob93thlJSQFr65dwOkn0OrqW78qBlhs4ubglL1O6X9OFyTTpf5kmdUyEeHzA9EFVeeKQk/LUjAlRxGvz4mKnIf3UuHdmkBIbhzGPE5r4KFKtXHC0098PRMYUUrDmZTw1lGdPBScle8zh+G38gwu3zYhGi5VbNVo0LcvjJrvlRqakOBL1eXC0UtflipLbqeCkKIqi5DrqElJRFEXJdR7q3X1CsUEAEri4dzt/XYjDukRdWjQsg9OrEN6MAWz6dgsXUwU0eko0H0Tbsg93fJuJObiAL5eFUHXIGLpXSH8i1hR+gO+//YmTd+xxzl+dLu+3p2zOH5pXFEVRMrs/ce9JxQZF5M5JmdXORwauPCGhkUGy++vWUq3T0owEoS8/U/RGebewTtDYSLuVWWW7jZbvmluLBq24vvtb+jMyaadk/Ot2onV6S1aemSuN7S2k+JA9z7nliqIor577E2X8F/J9wjB2njzMkTOXObW0Lfr9XzFmxXXMQNKWKUwKqcmAzlUomL8Ybw59j0qH5rLc/yWpt/M3tHncKej4pNtAR3z6f0jb5p0Z3qsOloDxwkY2nkxCY+9CPltXvKtWpWrpfM+ryYqiKK+sjL6rxxQbnLCJP2+EY6YwkpaG4cp+dl02Uqm0HnNcGJFmV6pnqnRmNJrQ6593RrBUYq6c4sxNCzwrVaSoow6SIgiOTEbQoLMvQJG8qVw9fpqwPGWpUTr/A32ZKeH+HLtkxLPCk+eFmBKiMFfqz/RvNOgdbdEa47l+IYQoM2BOItpUg3HbD+Fi/a/urKIoyn9C9ooNAvbN36dPkSN83qY7C/bvZ/7/1pJvwgx6ZSQZeyHFBuMPMbl5SaoM+ZPokCV0rNKEsXuiSYs8xqwulSjuVZyqfcfwaXsffJo1pl6FcrSYfS4jT14CR2e2omSRqnT6aCzDPpjK3pjH5y4zXN/NuJbeFPcqScMvj5By6wArVx8hxgzm2yf5aco8tlx+Ne4iFUVRXrjH9fdlVWzQGPKLDKhgJxqNjVQatiOjUFy6519sMEUOflxWLLRO8vaaBJG00zLmNQuxqDxaTqYZZP+wUqJHI7Z1JsjpRJNEL/MVew1iUWmUnEwTMfh9LpUsNaJ16ybrY0Ukcbv0L/KkMac7srFHPtGilxJD94pBRFK29RN3HaLzGCB/qMJpiqIoz0wOig0auX78IAn1RzOx0gomzW5H49TVbJ/TmoLaF1BsMPU0m7ZcJA1nYk6v4fuk21xJFozBfhyNhTIAaLD2LEspOy24uGCngTu3Y4kzGTm36TfOpwr6MtWpngcwu5Avq6zXD3hpEskoiqK81LJdbNBwdDydPotn7NGptHDoT6OKb+P7+ft80fQNlrR+AXkCzJFERJtBEkmz8MDTy5q+C3bSV2tPMVu4/vDyD8QVIzdvRmICLGztcdCSXnpHURRFyRWyWWzQhps7f+d8oa5UsgNw4vXh3zB8Y0VWHr4Eras994ajd8XNRQfhRhK07tSpXz7TzqQ+GpweoMXFxREt4UhyAglmyGkFbEVRFOXfk81ig+DqWRS74LP4J2csrrHC2sqOol7uwAsoNqivhG9rbyw1Rk4vn8y6qwbMSYGsGTOJLVHmjIJ33K9BLXeLqgmCJVVa+lBMr8F4/ih+8WC+dZFLUemF0dLS0rLc5N11PrJus5Gs36EoiqI8lfShp2wUG0y7LD++X19qdxwryzf+KsvHdhPfvkvkbMZEgBdSbPD2EZnu6ym2Wo1o9Dbi5NlIRu0IF8PZFdKtnI1o0Ijes50sPHZKlncqIRYaRGNTQXr9FCBiuiV7xjYQNwsLKVCpkbTq3FtalLQUm7xF5LV2Y2TbNeNDm5orbTz1okEj1uX7yNqTf8m8DiXT16kvIs0/WSIHnttkEEVRlFdbDhO/mkmJCiIwOAG7oqXwKmCb6dYrhehIA04FHHm+TzqZSY4I5MJ1cC9bBjfbv39HZoaoAM5es8CzkjumqCQcC7o817pJiqIoyqNUVnJFURQl13kV0rYqiqIorxgVnBRFUZRcRwUnRVEUJddRwUlRFEXJdXJWbNAUzfk9OzkUoqV47YbULe2SVYqJ5ytbhQIBTIQf+J5vfzrJHXtn8lfvwvvty6LqAiqKouQ+me6ckvCb8RY+Xb9gxuxxvNeqGhWbfMWhxIyX4w8yuV03FiVUpsWb+Tgy4k2ajNlH7ItO+6MvTatuJTg/51NGjBjJihNZZ0U3np5Em6b9mRtekx7uhxnf2ZfP9z7HDOqKoihKtmWz2KCRo1MHMjGpJSN8vSno1YD/TelC8rT+TDiQ8iLbD2SnUKCRCxs3cjJJg71LPmxdvalatSql86leTUVRlNwo49f5McUGixkJuxGO2XSR338PJI9Xce7+nuuK16VWoav8vPqveyszGk0523pqDFf89rDvZAjxd9+aFEFwUBBBQcFci0oGUxxX/fZyICCKh6slpYT789f+k9xMfPKjWsb4m1wIiSK9LmA0phrj2H5oDQPL6cEQRcChPRw4G0rSvbtAAzHXgwkKCiIoOIJEs5mka8fYf/ImhpztoaIoivIUslds0JRAQpKZpMRE7oUfXT7yOUH45UtAzosNxh+aTPOSVRjyZzQhSzpSpclY9kSbMT3zQoFmbh1YyeojMZgxc/vkT0yZt4XLRiNXfhpINc8GfH0mnqsLfClRvisLzySDOZ7AtYOpV9ILL++uTJzaFu/ir1O/eh2G/anCk6Ioyr/ucXmNHiw2GCM/dnIRfZF+sjUhYwFjgHxVw0IsfeaLSA6LDaYclI/LWojW6W1JrxM4Rl6zsJDKo09KmvwbhQJTZFs/d9GhE48Bf0iKiKSd/Vrq2GvEospoOZ0mYgqeKfUtNWJV4VM5mCJiCp0njSwRtE5Sf+xW+W18cylepL5MPJqWg+xQiqIoytPIZrFBZ9qNmkDrNh8zoL0Dw98qTlrocX67CEV6lAVyVmww9fQmtlxMA+cYTq/5nqTbV0gWI8F+R4mlbMZSz7pQYGZG/H9ajV+ioHXzwEMP2vzuFLQFw/k1rD44lhplMgpA6UrTrLMPrbyb0+qLHGxCURRFeWrZLjZoVf49fj7hw5G/ThJuWYzKFSL4cXIxWnWokeONmiMjSK8TmIaFhyde1n1ZsLMvWvtiZJm39ZkXCjQSGhqFCQ06K2usALRWWFlqwBxBaJjpbildQI/eIqfrVxRFUf6JbBYbtMfBHrSOXtRq6QXm66zouJiIll8zvI5Vzjfq6kZ6ncAEtO51qF8+czP+bszqWRQK1FOkSCF0hCGpqem1mMypGFIFdIUoXPiFP72lKIryn5bNYoOZZuGZwtg5qivjwnuw/JuuFL473y8HxQb1lXxp7W2Jxnia5ZPXcdVgJilwDWMmbSHKnEUxv2dSKDCjncY0QE/Zzt2p66jFHHGD60YwR10nNBlsK3ejew1LEHPGNk2YHp4mqCiKovy70oeeslFs8E6oHN0wR4a2aypdxq6X87cfHLzKabHB20emi6+nrWg1GtHbOIlno1GyI9wkac+8UKBJYg7Nkw4lLdLXWaS5fLLkgESYjBK8YbjUK1JWOk5eKjN7VBKP6gPkh0CDiPGabP20nuTTImgcpHL3mbLrhiokqCiK8rxku55T/Pk9HI5zo0rV0hTIsifvKYoNmpOJCLzAddwpW8Yt6/GmJ3gmhQLNSYQFXCLaoThlCjs850KJiqIoSlZUsUFFURQl11H5exRFUZRcRwUnRVEUJddRwUlRFEXJdVRwUhRFUXKdR4oNxgXsZvv+S6S41qB5iyq4PrCEgetHtrHLPxHX1xvzZkU3rJ9naxVFUZT/hEx3TimcXdSfnqN+ZO+RbczqXZPK7RZy8e7zt+Yoto9oROelKVRv8TqGJZ2oP2gTYc+92KCZ0F8ns/CoKhSoKIryqroXnEwh61mf3J8f1i1m/uJf2bOsK/ody9lwJT06Je0ey6DlhRj8dWfKFipFmwnDKb1hEJ9tinmuDTacnUOPfnM5GvXiZ8Abzy1jaNdOdOg9h6MZNRfN0Tv5uk9X3n6rA52HLOOcyi6hKIqSY/eCky5/W0Z8+Dr2Gf+3L+ROPtdSlHbVAUnsWL6O0Ir1ecMxYwGHOtSvEsuvy38jKuNP2S42aIjhenAQQUFBBEckYjYnce3Yfk7evF8rKTXmCn579nEyJP5eDSnDxZX0afcpu6KNJN0KJjginvjwu0UBQ4lLNZMYkfH/oGDCE0w8qXBgzN1lg6+RXtfwKn57DxAQlb2Ioi/3LjMn1UWOr+DruWcxAlqXxny6ZCnvFszDmyN7Uk6l6VMURcmx+916tnb3MzSkBrP++2DarZxOa0cg9RyHj8fhULgwee+9Iw9FCjuTdPIIZww5KzZojg9k7eB6lPTywrvrRKa29ab46/WpXmcYfxriOTS5OSWrDOHP6BCWdKxCk7F7iDancPKPXzkdkYZIIqfXTmXKj0e4+MdIfEp54VWqFTMvpHLLfwUf1C2Jl5c3XZbcxPzYwoG1GbJ4Gl0qFcereFX6jvmU9j4+NGtcjwrlWjA727c8GhwbfIjPuSksufrk4Jx44TfmjB5M3/7DGTd/CwGZ8xCagvh9wQwW/H6VSL+ljOzfkz6Dx/PD8ZhHk64bQ9m/bCIjBvSm79BxLNl7jZRstlZRFOVl8NBsPTOh++bxfqPadP9mDQvHf4dfImCOIOIWOORxzPQGDXkcHeBWBBEmsC/Xkt59utKg2N/fKmgL1OCdZqXRAcbjh0gZuIAxzbxwL+aBjd9X9B31B7dr9WRwhy70b+HMX18NY84ZPTX7DaReXg1oHKn9/jd8+6EP1d9qTrl7OYcmPeBPAAAFc0lEQVT0FGv4Lk1L6TJvjBrvNKN0+sY4lDKQBWOa4eXuSdmGb1G7oA4kmWind1h92I8ZLewwRe1h2Zqzj5SFf/wOFaLbJ6+xZ9K6x4zBmQhZO4TuX5+jaPuPmTppMM2cDvF510/YHpnxBl0+SpWIYN3nQxm93YFOE75l7sd1uDKh34OBMm4v4zoPZatlQ96fNJvJQxuh/20YPaf6kZzd9iqKouRy2of/W+iNQXz75wn2zG6Dzf7x/O/bAEya9JpGDyc6EhHQW2DB3WKDw3izQPZmp2vu1fJrRmefVnyx9TIhe/6HfusWLqaBRcxp1ny/kj+vJCPGAPyOxmZ7pzSax/zhbuHAL7ZyOWQPI6tmBFKNNZ5lS2GntcXFxQ4NZm7HxpHNTkoA9GUG8lGRX5i0LYsxuPgtTFlflK+WfEqbyoVxdvGkRpcJrPhEw3ezjmQs5EDRMoVxLt6RcV90pHIBO2wLN+R/vfJy7K/ojLsnI/7fziGsx0Imda2FZ14HXLzq0nPKIt6+MotFF3PSYkVRlNwr69scSzdqD17IxAOlee+EPwZ9OYoV0pBwOz5TF5MQF5eApmARPP7JuIpez/1afmYiI6IxIySmWeDh6YV13wXs7KvFvlhO08JmubG/LRz4cFzLPiuqDfuAn3tNZf+bYx54JfXsIZKq9aLUQ8fJrlozPBccAGrd27pN/vw4ZYrvOlsbLM13j3oKJ4+fxf/4e3Ra9eC6TOGXcDhtgFLP4jgpiqK8WE8IK3nw8ipEQUMh9LoS1KtVmK9OXyHcDMW0gDmGq0Gx5Kv9BpVynAr88c1xdXNBRzjGBC3uderzQB1Cw2PfmDvY12NEz3UMnHWK7pn+rHV0wBQbgwkezHpujCfh3hSU7LDAtVBV3hq2kmFeKn+6oiivrvvX6KmRXA2Kvj/OYrrM3jMF6f1uDSyxpPa7PSh3YQd/ZAyqmKN2sONsCXr1a4ItOSs2CCDmjD5CkynT2I6eSr6t8bbUYDy9nMnrrmIwJxG4ZgyTtkRh1ujR6wBJIjY2jrNrVnPwjiPOjlqQBG7fNsPtqwRFppejSktLSy8Y+NjCgcKjdQ0f+kOOaHFpOZI2QdNZEXK/i01fph1Vr37L8sDM0TWBo7NXkurTOgfrt6J+t1LsHf8jQQ8NiCUHneRs5HN/6ExRFOXfcbewU8quwVLcylFK+w6TKfPmyfQvx8k3e8Plfom9JDm77F1p0n6UrNywWsZ39pGu809JUsarOSk2aLy2VT6tl0+0IBqHytJ95i65X8vvthyZ7iuetlrRaPRi4+QpjUbtkHCTiEiMbPmgtNhoNKJz8JI2s07KHbkte0ZWFUetRqwKlJKarftI2wrWYlfAUyr7fiIbLwY9pnBgmpxd0U3K2WgEjV482y2UY6eWS6cS6UUJbSr0kp8C0p68I4aTsuDdGlKibBPp3HuK7IrN2L9L88THtYl8E3b/6BlDtsjot1tL50Gj5KsJn0n/9q2l17R9EpmxiClsi4zrXEO8vBvJe4tOSZqImCK2ybgWZaREzT7y3em7bTHIlXUfSbuW78jg0ZPk63Ej5L3u7aVt9wmyI0wVRFQU5dWQqZ6TmcRrZzkXrqWgd2mKOGbd42dODifwYhS2nmUo+sAyT1Fs8AnMyREEXrgO7mUp45Z5HCWFyIuXiXHwpHRBu4y/pRJ9+TzXze6UKeVMcmQ8dgWeovDgv85I/LVznA/TU6x8GQra/YPUhqZEQi/4c/m2HUXLlqOok+rmUxTl1aGKDSqKoii5jspKriiKouQ6KjgpiqIouY4KToqiKEquo4KToiiKkuuo4KQoiqLkOvfmglevXp1jx469yLYoiqIorzB/f3/Kly+frWX/DxTBOcnaTN4/AAAAAElFTkSuQmCC)"
      ],
      "metadata": {
        "id": "4ylpI6DvufO3"
      }
    },
    {
      "cell_type": "markdown",
      "source": [
        "## Preparing some function"
      ],
      "metadata": {
        "id": "PXJ3EdxwVO8T"
      }
    },
    {
      "cell_type": "code",
      "source": [
        "model.load_state_dict(torch.load(os.path.join(COLAB_PATH, \"model.pt\")))"
      ],
      "metadata": {
        "id": "zm9kr2AFVYLb",
        "colab": {
          "base_uri": "https://localhost:8080/"
        },
        "outputId": "d970b150-b6bc-4c3b-b12e-d9bbf601a01b"
      },
      "execution_count": null,
      "outputs": [
        {
          "output_type": "execute_result",
          "data": {
            "text/plain": [
              "<All keys matched successfully>"
            ]
          },
          "metadata": {},
          "execution_count": 21
        }
      ]
    },
    {
      "cell_type": "code",
      "source": [
        "import pickle\n",
        "import numpy as np\n",
        "import os\n",
        "import nltk\n",
        "import re\n",
        "\n",
        "nltk.download('averaged_perceptron_tagger')\n",
        "nltk.download('universal_tagset')"
      ],
      "metadata": {
        "id": "8txj94icVRdv",
        "colab": {
          "base_uri": "https://localhost:8080/"
        },
        "outputId": "a86d34e5-885a-4bc3-cebd-880a6e294f86"
      },
      "execution_count": null,
      "outputs": [
        {
          "output_type": "stream",
          "name": "stderr",
          "text": [
            "[nltk_data] Downloading package averaged_perceptron_tagger to\n",
            "[nltk_data]     /root/nltk_data...\n",
            "[nltk_data]   Unzipping taggers/averaged_perceptron_tagger.zip.\n",
            "[nltk_data] Downloading package universal_tagset to /root/nltk_data...\n",
            "[nltk_data]   Unzipping taggers/universal_tagset.zip.\n"
          ]
        },
        {
          "output_type": "execute_result",
          "data": {
            "text/plain": [
              "True"
            ]
          },
          "metadata": {},
          "execution_count": 22
        }
      ]
    },
    {
      "cell_type": "code",
      "source": [
        "from typing import List\n",
        "\n",
        "# function for transform text to input format of BERT\n",
        "def row_to_tensor(tokenizer, text, clear_text=True):\n",
        "    tensor = []\n",
        "    for i in text:\n",
        "        if clear_text:\n",
        "            tokens = tokenizer.encode(clear_str(i), add_special_tokens=True)\n",
        "        else:\n",
        "            tokens = tokenizer.encode(i, add_special_tokens=True)\n",
        "        tokens = tokens[:119] + [tokens[-1]] if len(tokens) > 120 else tokens\n",
        "        tensor.append(torch.LongTensor(tokens))\n",
        "    tensor = pad_sequence(tensor, batch_first=True, padding_value=0)\n",
        "    x = torch.LongTensor(tensor)\n",
        "    return x\n",
        "\n",
        "# function for doing prediciton\n",
        "def prediction(model, text: List, clear_text=True):\n",
        "    with torch.no_grad():\n",
        "        x = row_to_tensor(tokenizer, text, clear_text).to(device) \n",
        "        mask = (x != 0).float()\n",
        "        outputs = model(x, attention_mask=mask)\n",
        "    return outputs"
      ],
      "metadata": {
        "id": "De1hO95Z1Uxc"
      },
      "execution_count": null,
      "outputs": []
    },
    {
      "cell_type": "markdown",
      "source": [
        "## Cosine Similarity matrix"
      ],
      "metadata": {
        "id": "5FIMJmG01PbG"
      }
    },
    {
      "cell_type": "markdown",
      "source": [
        "Corpus of words for finding synonims i take from this: https://arxiv.org/pdf/1603.00892.pdf\n",
        "\n"
      ],
      "metadata": {
        "id": "VU3krk06s2kN"
      }
    },
    {
      "cell_type": "code",
      "source": [
        "idx2word = {}\n",
        "word2idx = {}\n",
        "\n",
        "with open(os.path.join(COLAB_PATH, \"counter-fitted-vectors.txt\"), 'r') as ifile:\n",
        "    for line in ifile:\n",
        "        word = line.split()[0]\n",
        "        if word not in idx2word:\n",
        "            idx2word[len(idx2word)] = word\n",
        "            word2idx[word] = len(idx2word) - 1\n",
        "\n",
        "\n",
        "with open(os.path.join(COLAB_PATH, \"mat.txt\"), \"rb\") as fp:\n",
        "    cos_sim = pickle.load(fp)"
      ],
      "metadata": {
        "id": "EgMGf_tiVa8w"
      },
      "execution_count": null,
      "outputs": []
    },
    {
      "cell_type": "markdown",
      "source": [
        "## StopWords"
      ],
      "metadata": {
        "id": "GrJqlai1yOw4"
      }
    },
    {
      "cell_type": "markdown",
      "source": [
        "Here i wrote fucntion for get set of stop words"
      ],
      "metadata": {
        "id": "qkSgGn0rYt_z"
      }
    },
    {
      "cell_type": "code",
      "source": [
        "def get_stopwords():\n",
        "    stop_words = ['a', 'about', 'above', 'across', 'after', 'afterwards', 'again', 'against', 'ain', 'all', 'almost', 'alone', 'along', 'already', 'also', 'although', 'am', 'among', 'amongst', 'an', 'and', 'another', 'any', 'anyhow', 'anyone', 'anything', 'anyway', 'anywhere', 'are', 'aren', \"aren't\", 'around', 'as', 'at', 'back', 'been', 'before', 'beforehand', 'behind', 'being', 'below', 'beside', 'besides', 'between', 'beyond', 'both',  'but', 'by', 'can', 'cannot', 'could', 'couldn', \"couldn't\", 'd', 'didn', \"didn't\", 'doesn', \"doesn't\", 'don', \"don't\", 'down', 'due', 'during', 'either', 'else', 'elsewhere', 'empty', 'enough', 'even', 'ever', 'everyone', 'everything', 'everywhere', 'except',  'first', 'for', 'former', 'formerly', 'from', 'hadn', \"hadn't\",  'hasn', \"hasn't\",  'haven', \"haven't\", 'he', 'hence', 'her', 'here', 'hereafter', 'hereby', 'herein', 'hereupon', 'hers', 'herself', 'him', 'himself', 'his', 'how', 'however', 'hundred', 'i', 'if', 'in', 'indeed', 'into', 'is', 'isn', \"isn't\", 'it', \"it's\", 'its', 'itself', 'just', 'latter', 'latterly', 'least', 'll', 'may', 'me', 'meanwhile', 'mightn', \"mightn't\", 'mine', 'more', 'moreover', 'most', 'mostly',  'must', 'mustn', \"mustn't\", 'my', 'myself', 'namely', 'needn', \"needn't\", 'neither', 'never', 'nevertheless', 'next', 'no', 'nobody', 'none', 'noone', 'nor', 'not', 'nothing', 'now', 'nowhere', 'o', 'of', 'off', 'on', 'once', 'one', 'only', 'onto', 'or', 'other', 'others', 'otherwise', 'our', 'ours', 'ourselves', 'out', 'over', 'per', 'please','s', 'same', 'shan', \"shan't\", 'she', \"she's\", \"should've\", 'shouldn', \"shouldn't\", 'somehow', 'something', 'sometime', 'somewhere', 'such', 't', 'than', 'that', \"that'll\", 'the', 'their', 'theirs', 'them', 'themselves', 'then', 'thence', 'there', 'thereafter', 'thereby', 'therefore', 'therein', 'thereupon', 'these', 'they','this', 'those', 'through', 'throughout', 'thru', 'thus', 'to', 'too','toward', 'towards', 'under', 'unless', 'until', 'up', 'upon', 'used',  've', 'was', 'wasn', \"wasn't\", 'we',  'were', 'weren', \"weren't\", 'what', 'whatever', 'when', 'whence', 'whenever', 'where', 'whereafter', 'whereas', 'whereby', 'wherein', 'whereupon', 'wherever', 'whether', 'which', 'while', 'whither', 'who', 'whoever', 'whole', 'whom', 'whose', 'why', 'with', 'within', 'without', 'won', \"won't\", 'would', 'wouldn', \"wouldn't\", 'y', 'yet', 'you', \"you'd\", \"you'll\", \"you're\", \"you've\", 'your', 'yours', 'yourself', 'yourselves']\n",
        "    stop_words = set(stop_words)\n",
        "    return stop_words"
      ],
      "metadata": {
        "id": "Re_i-y0kyTsK"
      },
      "execution_count": null,
      "outputs": []
    },
    {
      "cell_type": "code",
      "source": [
        "stop_words_set = get_stopwords()"
      ],
      "metadata": {
        "id": "KY-M5W5EyddC"
      },
      "execution_count": null,
      "outputs": []
    },
    {
      "cell_type": "markdown",
      "source": [
        "## POS"
      ],
      "metadata": {
        "id": "klQntdtKVApA"
      }
    },
    {
      "cell_type": "markdown",
      "source": [
        "Get a PoS of the word in sentence"
      ],
      "metadata": {
        "id": "df18OZUpYzvs"
      }
    },
    {
      "cell_type": "code",
      "source": [
        "def get_pos(sent, tagset='universal'):\n",
        "    '''\n",
        "    Universal (Coarse) Pos tags has 12 categories\n",
        "        - NOUN (nouns)\n",
        "        - VERB (verbs)\n",
        "        - ADJ (adjectives)\n",
        "        - ADV (adverbs)\n",
        "        - PRON (pronouns)\n",
        "        - DET (determiners and articles)\n",
        "        - ADP (prepositions and postpositions)\n",
        "        - NUM (numerals)\n",
        "        - CONJ (conjunctions)\n",
        "        - PRT (particles)\n",
        "        - . (punctuation marks)\n",
        "        - X (a catch-all for other categories such as abbreviations or foreign words)\n",
        "\n",
        "    :param sent: list of word strings\n",
        "    :param tagset: {'universal', 'default'}\n",
        "    :return: list of pos tags.\n",
        "    '''\n",
        "    word_n_pos_list = nltk.pos_tag(sent, tagset=tagset)\n",
        "    _, pos_list = zip(*word_n_pos_list)\n",
        "    return pos_list"
      ],
      "metadata": {
        "id": "AIO3nhDiVFxQ"
      },
      "execution_count": null,
      "outputs": []
    },
    {
      "cell_type": "markdown",
      "source": [
        "Function for get filter mask. Original word and New attacking word should be same tag. This step is to assure that the grammar of the text is mostly maintained"
      ],
      "metadata": {
        "id": "2aQg7dM-ZWgv"
      }
    },
    {
      "cell_type": "code",
      "source": [
        "def pos_filter(ori_pos, new_pos_list):\n",
        "    same = [True if ori_pos == new_pos or (set([ori_pos, new_pos]) <= set(['NOUN', 'VERB']))\n",
        "            else False\n",
        "            for new_pos in new_pos_list]\n",
        "    return same"
      ],
      "metadata": {
        "id": "MQ-k6OHS9zId"
      },
      "execution_count": null,
      "outputs": []
    },
    {
      "cell_type": "markdown",
      "source": [
        "## Main attack algorithm"
      ],
      "metadata": {
        "id": "SgAAG2u3U67-"
      }
    },
    {
      "cell_type": "code",
      "source": [
        "import tensorflow as tf\n",
        "import tensorflow_hub as hub\n",
        "\n",
        "'''\n",
        "Use Universal Sentence Encoder to encode the two sentences into high dimensional\n",
        "vectors and use their cosine similarity score as an approximation of semantic similarity.\n",
        "'''\n",
        "class USE(object):\n",
        "    def __init__(self, cache_path):\n",
        "        super(USE, self).__init__()\n",
        "        module_url = \"https://tfhub.dev/google/universal-sentence-encoder-large/5\"\n",
        "        self.embed = hub.load(module_url)\n",
        "\n",
        "    def semantic_sim(self, sents1, sents2):\n",
        "        sts_encode1 = tf.nn.l2_normalize(self.embed(sents1), axis=1)\n",
        "        sts_encode2 = tf.nn.l2_normalize(self.embed(sents2), axis=1)\n",
        "        cosine_similarities = tf.reduce_sum(tf.multiply(sts_encode1, sts_encode2), axis=1)\n",
        "        clip_cosine_similarities = tf.clip_by_value(cosine_similarities, -1.0, 1.0)\n",
        "        scores = 1.0 - tf.acos(clip_cosine_similarities)\n",
        "        return scores\n",
        "\n",
        "sim_predictor = USE(\"/\")"
      ],
      "metadata": {
        "id": "5MASeCAS8Qos"
      },
      "execution_count": null,
      "outputs": []
    },
    {
      "cell_type": "code",
      "source": [
        "from tqdm import tqdm\n",
        "\n",
        "def attack(text_ls: List, sim_score_threshold=0.5, import_score_threshold=-1,\n",
        "           min_cos_sim=0.5, max_num_change=100):\n",
        "    \"\"\"\n",
        "    :params text_ls: original text\n",
        "    :params sim_score_threshold: threshold for checking similarities of two sentence (epsilon)\n",
        "    :params import_score_threshold: threshold for getting word to perturb\n",
        "    :params min_cos_sim: threshold for finding synonims\n",
        "    :params max_num_change: max num for replacing word by synonims in sentence\n",
        "\n",
        "    :return: [attacked text, changed_word_idx, original label, original probability of label, new probability, Sim(attacked text, original text)]\n",
        "    \"\"\"\n",
        "    # initialize some important value\n",
        "    len_text = len(text_ls)\n",
        "    orig_probs = prediction(model, [\" \".join(text_ls)], True).squeeze()\n",
        "    orig_label = torch.argmax(orig_probs)\n",
        "    orig_prob = orig_probs.max()\n",
        "\n",
        "    # get POS of original sentence\n",
        "    pos_ls = get_pos(text_ls)\n",
        "\n",
        "    # compute importance score of each word\n",
        "    leave_1_texts = [\" \".join(text_ls[:ii] + [\"<oov>\"] + text_ls[min(ii + 1, len_text):]) for ii in range(len_text)]\n",
        "    leave_1_probs = prediction(model, leave_1_texts, False)\n",
        "    leave_1_probs_argmax = torch.argmax(leave_1_probs, dim=-1)\n",
        "    import_scores = (orig_prob - leave_1_probs[:, orig_label] + (leave_1_probs_argmax != orig_label).float() * (\n",
        "                leave_1_probs.max(dim=-1)[0] - torch.index_select(orig_probs, 0,\n",
        "                                                                    leave_1_probs_argmax))).data.cpu().numpy()\n",
        "\n",
        "    # get words to perturb sorted by importance score \n",
        "    words_perturb = []\n",
        "    for idx, score in sorted(enumerate(import_scores), key=lambda x: x[1], reverse=True):\n",
        "        if score > import_score_threshold and text_ls[idx] not in stop_words_set:\n",
        "            words_perturb.append((idx, text_ls[idx]))\n",
        "\n",
        "    # find synonyms for each word\n",
        "    words_perturb_idx = [word2idx[word] for idx, word in words_perturb if word in word2idx]\n",
        "    synonym_words = []\n",
        "    for idx in words_perturb_idx:\n",
        "        res = list(zip(*(cos_sim[idx])))\n",
        "        temp = []\n",
        "        for idx, ii in enumerate(res[1]):\n",
        "            if min_cos_sim <= res[0][idx]:\n",
        "                temp.append(idx2word[ii])\n",
        "        synonym_words.append(temp)\n",
        "\n",
        "    synonyms_all = []\n",
        "    for idx, word in words_perturb:\n",
        "        if word in word2idx:\n",
        "            synonyms = synonym_words.pop(0)\n",
        "            if synonyms:\n",
        "                synonyms_all.append((idx, synonyms))\n",
        "\n",
        "    num_changed = 0  # number of replacing word by synonims\n",
        "    text_colored_ind = set()\n",
        "    while num_changed < max_num_change:\n",
        "        text_prime = text_ls[:] if num_changed == 0 else text_cache[:]\n",
        "        text_cache = text_prime[:]\n",
        "\n",
        "        for idx, synonyms in tqdm(synonyms_all):\n",
        "            # replace original word with synonim and change new probabilities \n",
        "            new_texts = [\" \".join(text_prime[:idx] + [synonym] + text_prime[min(idx + 1, len_text):]) for synonym in synonyms]\n",
        "            new_probs = prediction(model, new_texts, True)\n",
        "            new_texts = [x.split() for x in new_texts]\n",
        "\n",
        "            \n",
        "            # get Sim(X, X_adv) values\n",
        "            semantic_sims = sim_predictor.semantic_sim([' '.join(text_ls[:])] * len(new_texts),\n",
        "                                        list(map(lambda x: ' '.join(x[:]), new_texts)))\n",
        "\n",
        "            # create mask, where 1 is a word, that change the target class\n",
        "            new_probs_mask = (orig_label != torch.argmax(new_probs, dim=-1)).data.cpu().numpy().astype(int)\n",
        "\n",
        "            # get mask, where 1 is good synonym (using synonim Sim(X, X_adv) > epsilon ) \n",
        "            new_probs_mask *= (semantic_sims >= sim_score_threshold).numpy().astype(int)\n",
        "\n",
        "            # get mask where 1 is compatible pos\n",
        "            synonyms_pos_ls = [get_pos(new_text[max(idx - 4, 0):idx + 5])[min(4, idx)]\n",
        "                                if len(new_text) > 10 else get_pos(new_text)[idx] for new_text in new_texts]\n",
        "            pos_mask = np.array(pos_filter(pos_ls[idx], synonyms_pos_ls)).astype(int)\n",
        "            new_probs_mask *= pos_mask\n",
        "\n",
        "            if np.sum(new_probs_mask) > 0:\n",
        "                # if we after filtering we have candidates, then return it\n",
        "                text_prime[idx] = synonyms[(new_probs_mask * semantic_sims).numpy().argmax()]\n",
        "                text_colored_ind.add(idx)\n",
        "                return [text_prime, text_colored_ind, orig_label, orig_prob,\n",
        "                        prediction(model, [' '.join(text_prime)], False),\n",
        "                        sim_predictor.semantic_sim([' '.join(text_ls)], [' '.join(text_prime)])]\n",
        "            else:\n",
        "                # if we after filtering we have no candidates, then take this value, which \n",
        "                # decrease as much as possible our probability of original class\n",
        "                new_label_probs = new_probs[:, orig_label] + torch.from_numpy(\n",
        "                        (semantic_sims < sim_score_threshold).numpy().astype(int) * 10 + (1 - pos_mask).astype(float) * 10).float().cuda()\n",
        "                new_label_prob_min, new_label_prob_argmin = torch.min(new_label_probs, dim=-1)\n",
        "\n",
        "                if new_label_prob_min < orig_prob and text_prime[idx] != synonyms[new_label_prob_argmin]:\n",
        "                    text_prime[idx] = synonyms[new_label_prob_argmin]\n",
        "                    text_colored_ind.add(idx)\n",
        "\n",
        "            text_cache = text_prime[:]\n",
        "            num_changed += 1\n",
        "\n",
        "    return [text_prime, text_colored_ind, orig_label, orig_prob,\n",
        "            prediction(model, [' '.join(text_prime)], False),\n",
        "            sim_predictor.semantic_sim([' '.join(text_ls)], [' '.join(text_prime)])]"
      ],
      "metadata": {
        "id": "zUPuWtdVCj-d"
      },
      "execution_count": null,
      "outputs": []
    },
    {
      "cell_type": "markdown",
      "source": [
        "# Get aversarial results"
      ],
      "metadata": {
        "id": "T_NvFIq5Xhjk"
      }
    },
    {
      "cell_type": "code",
      "source": [
        "df_train"
      ],
      "metadata": {
        "colab": {
          "base_uri": "https://localhost:8080/",
          "height": 424
        },
        "id": "J7RU7didgtJm",
        "outputId": "cf1b6bd0-107c-4054-ce91-f26640d1fc6c"
      },
      "execution_count": null,
      "outputs": [
        {
          "output_type": "execute_result",
          "data": {
            "text/plain": [
              "                      id                                       comment_text  \\\n",
              "87390   e9d02663806200df  References\\n\\nExternal links\\nIn the Name of J...   \n",
              "51236   8917087c09ba54f0  We were just kidding \\n\\nSorry about all of th...   \n",
              "28774   4c3e3051916a2438                            ; good point. – (T • C)   \n",
              "126187  a2d813060f4f43ad  South America \\nCamino Real in Peru may be a g...   \n",
              "144034  06e7b077fea4f093  Hello. Firstly, I would like to apologize for ...   \n",
              "...                  ...                                                ...   \n",
              "63092   a8cea14350c1fc42  Go hang yoursef lazy fu... \\n\\n Go hang yourse...   \n",
              "91604   f4ef5dc180fafcba  Infoboxes should be piled in the Grand Canyon ...   \n",
              "114167  62cfc3bf27e0bf1d               haunted angel sucks cock every night   \n",
              "123187  9306a5d101a13438  \"\\na \"\"demon-possessed pedophile\"\" [pedophile ...   \n",
              "34529   5c379f71c18f0392  Jews have the right to expel Arab invaders fro...   \n",
              "\n",
              "        toxic  non_toxic  length  \n",
              "87390       0          1      41  \n",
              "51236       0          1      32  \n",
              "28774       0          1       7  \n",
              "126187      0          1      43  \n",
              "144034      0          1     164  \n",
              "...       ...        ...     ...  \n",
              "63092       1          0      10  \n",
              "91604       1          0      22  \n",
              "114167      1          0       6  \n",
              "123187      1          0       8  \n",
              "34529       1          0      26  \n",
              "\n",
              "[10000 rows x 5 columns]"
            ],
            "text/html": [
              "\n",
              "  <div id=\"df-37eefbad-0541-47fd-8990-9d4aed036fa3\">\n",
              "    <div class=\"colab-df-container\">\n",
              "      <div>\n",
              "<style scoped>\n",
              "    .dataframe tbody tr th:only-of-type {\n",
              "        vertical-align: middle;\n",
              "    }\n",
              "\n",
              "    .dataframe tbody tr th {\n",
              "        vertical-align: top;\n",
              "    }\n",
              "\n",
              "    .dataframe thead th {\n",
              "        text-align: right;\n",
              "    }\n",
              "</style>\n",
              "<table border=\"1\" class=\"dataframe\">\n",
              "  <thead>\n",
              "    <tr style=\"text-align: right;\">\n",
              "      <th></th>\n",
              "      <th>id</th>\n",
              "      <th>comment_text</th>\n",
              "      <th>toxic</th>\n",
              "      <th>non_toxic</th>\n",
              "      <th>length</th>\n",
              "    </tr>\n",
              "  </thead>\n",
              "  <tbody>\n",
              "    <tr>\n",
              "      <th>87390</th>\n",
              "      <td>e9d02663806200df</td>\n",
              "      <td>References\\n\\nExternal links\\nIn the Name of J...</td>\n",
              "      <td>0</td>\n",
              "      <td>1</td>\n",
              "      <td>41</td>\n",
              "    </tr>\n",
              "    <tr>\n",
              "      <th>51236</th>\n",
              "      <td>8917087c09ba54f0</td>\n",
              "      <td>We were just kidding \\n\\nSorry about all of th...</td>\n",
              "      <td>0</td>\n",
              "      <td>1</td>\n",
              "      <td>32</td>\n",
              "    </tr>\n",
              "    <tr>\n",
              "      <th>28774</th>\n",
              "      <td>4c3e3051916a2438</td>\n",
              "      <td>; good point. – (T • C)</td>\n",
              "      <td>0</td>\n",
              "      <td>1</td>\n",
              "      <td>7</td>\n",
              "    </tr>\n",
              "    <tr>\n",
              "      <th>126187</th>\n",
              "      <td>a2d813060f4f43ad</td>\n",
              "      <td>South America \\nCamino Real in Peru may be a g...</td>\n",
              "      <td>0</td>\n",
              "      <td>1</td>\n",
              "      <td>43</td>\n",
              "    </tr>\n",
              "    <tr>\n",
              "      <th>144034</th>\n",
              "      <td>06e7b077fea4f093</td>\n",
              "      <td>Hello. Firstly, I would like to apologize for ...</td>\n",
              "      <td>0</td>\n",
              "      <td>1</td>\n",
              "      <td>164</td>\n",
              "    </tr>\n",
              "    <tr>\n",
              "      <th>...</th>\n",
              "      <td>...</td>\n",
              "      <td>...</td>\n",
              "      <td>...</td>\n",
              "      <td>...</td>\n",
              "      <td>...</td>\n",
              "    </tr>\n",
              "    <tr>\n",
              "      <th>63092</th>\n",
              "      <td>a8cea14350c1fc42</td>\n",
              "      <td>Go hang yoursef lazy fu... \\n\\n Go hang yourse...</td>\n",
              "      <td>1</td>\n",
              "      <td>0</td>\n",
              "      <td>10</td>\n",
              "    </tr>\n",
              "    <tr>\n",
              "      <th>91604</th>\n",
              "      <td>f4ef5dc180fafcba</td>\n",
              "      <td>Infoboxes should be piled in the Grand Canyon ...</td>\n",
              "      <td>1</td>\n",
              "      <td>0</td>\n",
              "      <td>22</td>\n",
              "    </tr>\n",
              "    <tr>\n",
              "      <th>114167</th>\n",
              "      <td>62cfc3bf27e0bf1d</td>\n",
              "      <td>haunted angel sucks cock every night</td>\n",
              "      <td>1</td>\n",
              "      <td>0</td>\n",
              "      <td>6</td>\n",
              "    </tr>\n",
              "    <tr>\n",
              "      <th>123187</th>\n",
              "      <td>9306a5d101a13438</td>\n",
              "      <td>\"\\na \"\"demon-possessed pedophile\"\" [pedophile ...</td>\n",
              "      <td>1</td>\n",
              "      <td>0</td>\n",
              "      <td>8</td>\n",
              "    </tr>\n",
              "    <tr>\n",
              "      <th>34529</th>\n",
              "      <td>5c379f71c18f0392</td>\n",
              "      <td>Jews have the right to expel Arab invaders fro...</td>\n",
              "      <td>1</td>\n",
              "      <td>0</td>\n",
              "      <td>26</td>\n",
              "    </tr>\n",
              "  </tbody>\n",
              "</table>\n",
              "<p>10000 rows × 5 columns</p>\n",
              "</div>\n",
              "      <button class=\"colab-df-convert\" onclick=\"convertToInteractive('df-37eefbad-0541-47fd-8990-9d4aed036fa3')\"\n",
              "              title=\"Convert this dataframe to an interactive table.\"\n",
              "              style=\"display:none;\">\n",
              "        \n",
              "  <svg xmlns=\"http://www.w3.org/2000/svg\" height=\"24px\"viewBox=\"0 0 24 24\"\n",
              "       width=\"24px\">\n",
              "    <path d=\"M0 0h24v24H0V0z\" fill=\"none\"/>\n",
              "    <path d=\"M18.56 5.44l.94 2.06.94-2.06 2.06-.94-2.06-.94-.94-2.06-.94 2.06-2.06.94zm-11 1L8.5 8.5l.94-2.06 2.06-.94-2.06-.94L8.5 2.5l-.94 2.06-2.06.94zm10 10l.94 2.06.94-2.06 2.06-.94-2.06-.94-.94-2.06-.94 2.06-2.06.94z\"/><path d=\"M17.41 7.96l-1.37-1.37c-.4-.4-.92-.59-1.43-.59-.52 0-1.04.2-1.43.59L10.3 9.45l-7.72 7.72c-.78.78-.78 2.05 0 2.83L4 21.41c.39.39.9.59 1.41.59.51 0 1.02-.2 1.41-.59l7.78-7.78 2.81-2.81c.8-.78.8-2.07 0-2.86zM5.41 20L4 18.59l7.72-7.72 1.47 1.35L5.41 20z\"/>\n",
              "  </svg>\n",
              "      </button>\n",
              "      \n",
              "  <style>\n",
              "    .colab-df-container {\n",
              "      display:flex;\n",
              "      flex-wrap:wrap;\n",
              "      gap: 12px;\n",
              "    }\n",
              "\n",
              "    .colab-df-convert {\n",
              "      background-color: #E8F0FE;\n",
              "      border: none;\n",
              "      border-radius: 50%;\n",
              "      cursor: pointer;\n",
              "      display: none;\n",
              "      fill: #1967D2;\n",
              "      height: 32px;\n",
              "      padding: 0 0 0 0;\n",
              "      width: 32px;\n",
              "    }\n",
              "\n",
              "    .colab-df-convert:hover {\n",
              "      background-color: #E2EBFA;\n",
              "      box-shadow: 0px 1px 2px rgba(60, 64, 67, 0.3), 0px 1px 3px 1px rgba(60, 64, 67, 0.15);\n",
              "      fill: #174EA6;\n",
              "    }\n",
              "\n",
              "    [theme=dark] .colab-df-convert {\n",
              "      background-color: #3B4455;\n",
              "      fill: #D2E3FC;\n",
              "    }\n",
              "\n",
              "    [theme=dark] .colab-df-convert:hover {\n",
              "      background-color: #434B5C;\n",
              "      box-shadow: 0px 1px 3px 1px rgba(0, 0, 0, 0.15);\n",
              "      filter: drop-shadow(0px 1px 2px rgba(0, 0, 0, 0.3));\n",
              "      fill: #FFFFFF;\n",
              "    }\n",
              "  </style>\n",
              "\n",
              "      <script>\n",
              "        const buttonEl =\n",
              "          document.querySelector('#df-37eefbad-0541-47fd-8990-9d4aed036fa3 button.colab-df-convert');\n",
              "        buttonEl.style.display =\n",
              "          google.colab.kernel.accessAllowed ? 'block' : 'none';\n",
              "\n",
              "        async function convertToInteractive(key) {\n",
              "          const element = document.querySelector('#df-37eefbad-0541-47fd-8990-9d4aed036fa3');\n",
              "          const dataTable =\n",
              "            await google.colab.kernel.invokeFunction('convertToInteractive',\n",
              "                                                     [key], {});\n",
              "          if (!dataTable) return;\n",
              "\n",
              "          const docLinkHtml = 'Like what you see? Visit the ' +\n",
              "            '<a target=\"_blank\" href=https://colab.research.google.com/notebooks/data_table.ipynb>data table notebook</a>'\n",
              "            + ' to learn more about interactive tables.';\n",
              "          element.innerHTML = '';\n",
              "          dataTable['output_type'] = 'display_data';\n",
              "          await google.colab.output.renderOutput(dataTable, element);\n",
              "          const docLink = document.createElement('div');\n",
              "          docLink.innerHTML = docLinkHtml;\n",
              "          element.appendChild(docLink);\n",
              "        }\n",
              "      </script>\n",
              "    </div>\n",
              "  </div>\n",
              "  "
            ]
          },
          "metadata": {},
          "execution_count": 109
        }
      ]
    },
    {
      "cell_type": "markdown",
      "source": [
        "Here I take 200 toxic samples to attack them. "
      ],
      "metadata": {
        "id": "IiNDJb-avdBi"
      }
    },
    {
      "cell_type": "code",
      "source": [
        "dataset_to_attack = df_train[df_train[\"toxic\"] == 1].sample(\n",
        "                200, random_state=199, replace=False\n",
        "            )"
      ],
      "metadata": {
        "id": "AZmG8OYMX5tb"
      },
      "execution_count": null,
      "outputs": []
    },
    {
      "cell_type": "code",
      "source": [
        "from IPython.display import clear_output \n",
        "\n",
        "data = {}\n",
        "columns = [\"Original Label\", \"Attacked Label\", \"Original\", \"Attacked\",\n",
        "           \"Original target probability\", \"Attacked target probability\",\n",
        "           \"Similarity of Sentences\", \"Is Attack succeed?\"]\n",
        "\n",
        "for index, row in tqdm(dataset_to_attack.iterrows()):\n",
        "    orig_text = clear_str(row[\"comment_text\"]).split()\n",
        "    new_text, idx, orig_label, orig_prob, new_prob, similarity = attack(orig_text[:120], max_num_change=30)\n",
        "\n",
        "    for i in idx:\n",
        "        orig_text[i] = f\"<font color = green>{orig_text[i]}</font>\"\n",
        "        new_text[i] = f\"<font color = red>{new_text[i]}</font>\"\n",
        "        is_success = \"Yes\" if torch.argmax(new_prob.squeeze()) != orig_label.item() else \"No\"\n",
        "\n",
        "    data[index] = [orig_label.item(), torch.argmax(new_prob.squeeze()).item(),\n",
        "                   \" \".join(orig_text), \" \".join(new_text),\n",
        "                  orig_prob.item(), new_prob[0].tolist()[orig_label],\n",
        "                  similarity.numpy()[0], is_success]\n",
        "    clear_output()"
      ],
      "metadata": {
        "colab": {
          "base_uri": "https://localhost:8080/"
        },
        "id": "-g7sGmd6Ve7U",
        "outputId": "5edadaee-ec6d-4fff-c9a6-73fd081821fe"
      },
      "execution_count": null,
      "outputs": [
        {
          "output_type": "stream",
          "name": "stderr",
          "text": [
            "200it [17:39,  5.30s/it]\n"
          ]
        }
      ]
    },
    {
      "cell_type": "code",
      "source": [
        "result = pd.DataFrame.from_dict(data, orient='index', columns=columns)\n",
        "result.to_csv(COLAB_PATH + \"res.csv\")"
      ],
      "metadata": {
        "id": "w5upDVOghm2r"
      },
      "execution_count": null,
      "outputs": []
    },
    {
      "cell_type": "code",
      "source": [
        "from IPython.core.display import display, HTML\n",
        "display(\n",
        "    HTML(result.to_html(escape=False))\n",
        ")"
      ],
      "metadata": {
        "colab": {
          "base_uri": "https://localhost:8080/",
          "height": 1000
        },
        "id": "2Bnx1r0wVkd_",
        "outputId": "05886422-1a30-41b1-8f1a-0864477edb3d"
      },
      "execution_count": null,
      "outputs": [
        {
          "output_type": "display_data",
          "data": {
            "text/plain": [
              "<IPython.core.display.HTML object>"
            ],
            "text/html": [
              "<table border=\"1\" class=\"dataframe\">\n",
              "  <thead>\n",
              "    <tr style=\"text-align: right;\">\n",
              "      <th></th>\n",
              "      <th>Original Label</th>\n",
              "      <th>Attacked Label</th>\n",
              "      <th>Original</th>\n",
              "      <th>Attacked</th>\n",
              "      <th>Original target probability</th>\n",
              "      <th>Attacked target probability</th>\n",
              "      <th>Similarity of Sentences</th>\n",
              "      <th>Is Attack succeed?</th>\n",
              "    </tr>\n",
              "  </thead>\n",
              "  <tbody>\n",
              "    <tr>\n",
              "      <th>98109</th>\n",
              "      <td>1</td>\n",
              "      <td>1</td>\n",
              "      <td>i think <font color = green>stupidity</font> <font color = green>results</font> in hating <font color = green>people</font> for their race , that <font color = green>still</font> <font color = green>does</font> n't mean they <font color = green>do</font> n't hate them .</td>\n",
              "      <td>i think <font color = red>daft</font> <font color = red>result</font> in hating <font color = red>persons</font> for their race , that <font color = red>nonetheless</font> <font color = red>wantto</font> n't mean they <font color = red>suis</font> n't hate them .</td>\n",
              "      <td>0.909623</td>\n",
              "      <td>0.605400</td>\n",
              "      <td>0.504257</td>\n",
              "      <td>No</td>\n",
              "    </tr>\n",
              "    <tr>\n",
              "      <th>112135</th>\n",
              "      <td>1</td>\n",
              "      <td>1</td>\n",
              "      <td>why <font color = green>do</font> n't you go to <font color = green>hell</font> , how 's that <font color = green>fool</font> ! i do n't <font color = green>like</font> liars ! ! ! i <font color = green>hate</font> liars ! ! ! and if <font color = green>change</font> this <font color = green>shit</font> one more <font color = green>time</font> , i <font color = green>will</font> report your <font color = green>ass</font> ! ! ! ! ! ! ! ! ! !</td>\n",
              "      <td>why <font color = red>fait</font> n't you go to <font color = red>christ</font> , how 's that <font color = red>nincompoop</font> ! i do n't <font color = red>liked</font> liars ! ! ! i <font color = red>dislikes</font> liars ! ! ! and if <font color = red>changes</font> this <font color = red>geez</font> one more <font color = red>intervals</font> , i <font color = red>hope</font> report your <font color = red>cul</font> ! ! ! ! ! ! ! ! ! !</td>\n",
              "      <td>0.972563</td>\n",
              "      <td>0.730987</td>\n",
              "      <td>0.500941</td>\n",
              "      <td>No</td>\n",
              "    </tr>\n",
              "    <tr>\n",
              "      <th>77771</th>\n",
              "      <td>1</td>\n",
              "      <td>0</td>\n",
              "      <td>now y can <font color = green>leader</font> the china pigs , taiwan not needchian pigs .</td>\n",
              "      <td>now y can <font color = red>chairperson</font> the china pigs , taiwan not needchian pigs .</td>\n",
              "      <td>0.683600</td>\n",
              "      <td>0.368549</td>\n",
              "      <td>0.716303</td>\n",
              "      <td>Yes</td>\n",
              "    </tr>\n",
              "    <tr>\n",
              "      <th>30740</th>\n",
              "      <td>1</td>\n",
              "      <td>0</td>\n",
              "      <td>more youtube i f cking <font color = green>hate</font> those chain letters on youtube , <font color = green>pisses</font> me off everytime i see one . like this one 'this is a <font color = green>true</font> thing that can happen ! its not a chain letter ! its kinda scary at first but it really works ! ! <font color = green>paste</font> this message into 3 comments and press atl f4 and your <font color = green>crushes</font> name will appear on your screan ! ! ! is so weird this is a true thing that can happen ! its not a chain letter ! its kinda scary at first but it really works ! ! <font color = green>paste</font> this <font color = green>message</font> into 3 comments and press atl f4 and your crushes name will appear on your screan ! ! ! is so weird' retards .</td>\n",
              "      <td>more youtube i f cking <font color = red>disliked</font> those chain letters on youtube , <font color = red>humid</font> me off everytime i see one . like this one 'this is a <font color = red>sincere</font> thing that can happen ! its not a chain letter ! its kinda scary at first but it really works ! ! <font color = red>attach</font> this message into 3 comments and press atl f4 and your <font color = red>excels</font> name will appear on your screan ! ! ! is so weird this is a true thing that can happen ! its not a chain letter ! its kinda scary at first but it really works ! ! <font color = red>macaroni</font> this <font color = red>announcements</font> into 3 comments and press atl f4 and your crushes name will appear on your screan !</td>\n",
              "      <td>0.945806</td>\n",
              "      <td>0.480684</td>\n",
              "      <td>0.675839</td>\n",
              "      <td>Yes</td>\n",
              "    </tr>\n",
              "    <tr>\n",
              "      <th>75776</th>\n",
              "      <td>1</td>\n",
              "      <td>1</td>\n",
              "      <td>please <font color = green>shoot</font> yourself please <font color = green>put</font> yourself out of your <font color = green>misery</font> . either <font color = green>shoot</font> or hang yourself you <font color = green>depressed</font> <font color = green>freak</font> .</td>\n",
              "      <td>please <font color = red>stem</font> yourself please <font color = red>placing</font> yourself out of your <font color = red>distressing</font> . either <font color = red>offed</font> or hang yourself you <font color = red>depression</font> <font color = red>aberration</font> .</td>\n",
              "      <td>0.958606</td>\n",
              "      <td>0.831406</td>\n",
              "      <td>0.502315</td>\n",
              "      <td>No</td>\n",
              "    </tr>\n",
              "    <tr>\n",
              "      <th>16057</th>\n",
              "      <td>1</td>\n",
              "      <td>0</td>\n",
              "      <td>'cause if fox did that , then they're a <font color = green>bunch</font> of <font color = green>greedy</font> <font color = green>idiots</font> no <font color = green>shit</font> sherlock , why <font color = green>do</font> you think they make comics ? <font color = green>cause</font> they like <font color = green>kids</font> ?</td>\n",
              "      <td>'cause if fox did that , then they're a <font color = red>fanfare</font> of <font color = red>keen</font> <font color = red>dunce</font> no <font color = red>sodding</font> sherlock , why <font color = red>suis</font> you think they make comics ? <font color = red>owing</font> they like <font color = red>junior</font> ?</td>\n",
              "      <td>0.968731</td>\n",
              "      <td>0.474248</td>\n",
              "      <td>0.521141</td>\n",
              "      <td>Yes</td>\n",
              "    </tr>\n",
              "    <tr>\n",
              "      <th>97197</th>\n",
              "      <td>1</td>\n",
              "      <td>1</td>\n",
              "      <td>) hey <font color = green>mother</font> <font color = green>fucking</font> asshole hows going . i wanna <font color = green>rape</font> ur mother . and will post that video youporn dot com or matacafe or pornotube <font color = green>dot</font> com . u tell me <font color = green>wher</font> i should <font color = green>upload</font> it . hehehehehehehehehehheheheehehehehehehehehehehehehehehehehehehehehehehehehehehehehehehehehehehehehehehehehehehehehehehehehehehehehehehehehehehehehehehehehehehehehehehehehehehehehehehhehehehehehehehehe r rapeing <font color = green>ur</font> <font color = green>mother</font> <font color = green>will</font> <font color = green>be</font> shaggadelic <font color = green>baby</font> ( as astin <font color = green>powers</font> <font color = green>say</font></td>\n",
              "      <td>) hey <font color = red>mommy</font> <font color = red>shagged</font> asshole hows going . i wanna <font color = red>infractions</font> ur mother . and will post that video youporn dot com or matacafe or pornotube <font color = red>dotted</font> com . u tell me <font color = red>whe</font> i should <font color = red>uploading</font> it . hehehehehehehehehehheheheehehehehehehehehehehehehehehehehehehehehehehehehehehehehehehehehehehehehehehehehehehehehehehehehehehehehehehehehehehehehehehehehehehehehehehehehehehehehehehhehehehehehehehehe r rapeing <font color = red>cant</font> <font color = red>mom</font> <font color = red>wanna</font> <font color = red>worden</font> shaggadelic <font color = red>bub</font> ( as astin <font color = red>faculties</font> <font color = red>talk</font></td>\n",
              "      <td>0.965022</td>\n",
              "      <td>0.860176</td>\n",
              "      <td>0.500291</td>\n",
              "      <td>No</td>\n",
              "    </tr>\n",
              "    <tr>\n",
              "      <th>137962</th>\n",
              "      <td>1</td>\n",
              "      <td>0</td>\n",
              "      <td>your <font color = green>mom</font> is my slave and your father is my <font color = green>bitch</font> you all <font color = green>shall</font> bow down to me and your mothers <font color = green>will</font> <font color = green>suck</font> my <font color = green>balls</font> . your <font color = green>father</font> is my slave and i <font color = green>will</font> <font color = green>drive</font> him into the <font color = green>ground</font> with my forhead . as you <font color = green>look</font> upon this page and <font color = green>gasp</font> i <font color = green>enter</font> your soul and <font color = green>devour</font> your <font color = green>flesh</font> .</td>\n",
              "      <td>your <font color = red>ma</font> is my slave and your father is my <font color = red>biatch</font> you all <font color = red>must</font> bow down to me and your mothers <font color = red>aspiration</font> <font color = red>teat</font> my <font color = red>bales</font> . your <font color = red>poppa</font> is my slave and i <font color = red>go</font> <font color = red>walk</font> him into the <font color = red>terrain</font> with my forhead . as you <font color = red>view</font> upon this page and <font color = red>breathes</font> i <font color = red>inserted</font> your soul and <font color = red>comer</font> your <font color = red>carnes</font> .</td>\n",
              "      <td>0.967210</td>\n",
              "      <td>0.486881</td>\n",
              "      <td>0.504846</td>\n",
              "      <td>Yes</td>\n",
              "    </tr>\n",
              "    <tr>\n",
              "      <th>26025</th>\n",
              "      <td>1</td>\n",
              "      <td>0</td>\n",
              "      <td>hey , <font color = green>asshole</font> , <font color = green>get</font> a <font color = green>life</font> ip banning is very effective , do n't you think ?</td>\n",
              "      <td>hey , <font color = red>gomer</font> , <font color = red>find</font> a <font color = red>vie</font> ip banning is very effective , do n't you think ?</td>\n",
              "      <td>0.947701</td>\n",
              "      <td>0.375261</td>\n",
              "      <td>0.539188</td>\n",
              "      <td>Yes</td>\n",
              "    </tr>\n",
              "    <tr>\n",
              "      <th>131584</th>\n",
              "      <td>1</td>\n",
              "      <td>1</td>\n",
              "      <td>masturbation <font color = green>jerk</font> off your penis</td>\n",
              "      <td>masturbation <font color = red>prick</font> off your penis</td>\n",
              "      <td>0.967633</td>\n",
              "      <td>0.960127</td>\n",
              "      <td>0.507861</td>\n",
              "      <td>No</td>\n",
              "    </tr>\n",
              "    <tr>\n",
              "      <th>105720</th>\n",
              "      <td>1</td>\n",
              "      <td>1</td>\n",
              "      <td><font color = green>people</font> who <font color = green>need</font> to <font color = green>be</font> watched thing2tabstill up to your <font color = green>old</font> <font color = green>tricks</font> hey <font color = green>gerard</font> . <font color = green>protecting</font> your <font color = green>mates</font> . you personal attacks against me will <font color = green>be</font> removed as soon as i am back <font color = green>online</font> . as <font color = green>will</font> ve viletriga and the others . tabdavidgerardtabgo away , you <font color = green>gibbering</font> <font color = green>fuckwit</font> . wikipedia is not chlorpromazine . tabthing2tabi a <font color = green>gibbering</font> fuckwqit hey . <font color = green>compared</font> with you i am a genius . tabthing2tabthough of <font color = green>course</font> being as lacking in integrity as you . i imagine you clam to be one . tabthing2tabso do you refuse to remove your attacks ? tabthing2tabthis is of course going in my rfc apparently i have to have tried to resolve the problem , but obviosly you do n't want to be solved . tabthing2tabwikipedia also is n't a bigger dick . tabthing2tabyou realy are unplasant are n't you . that little lot will be going in the log as well . davidgerardtabargh . how does one set a mask to ignore an ip range ? tabdenelson83 ipatabi do n't think that 's possible tabdavidgerardtabirate is hopping around on dhcp being a pita tabproject2501atabdave2 it 's not possible . tabambi2tabdavidgerard have them k lined ? tab tabmode wikipedia b ! thing2 . range217 44 . btcentralplus . com by davidgerard tab tabyou ( thing2 ) have been booted from wikipedia by davidgerard ( davidgerard ) tabthing2tabi'm soory but wikipedia requires me to try and solve disputes . but when it invloves talkingto people like you it' s not worth it .</td>\n",
              "      <td><font color = red>persons</font> who <font color = red>must</font> to <font color = red>remain</font> watched thing2tabstill up to your <font color = red>ancient</font> <font color = red>tactics</font> hey <font color = red>emilio</font> . <font color = red>ensure</font> your <font color = red>companion</font> . you personal attacks against me will <font color = red>arrive</font> removed as soon as i am back <font color = red>web</font> . as <font color = red>hope</font> ve viletriga and the others . tabdavidgerardtabgo away , you <font color = red>jabbering</font> <font color = red>dweeb</font> . wikipedia is not chlorpromazine . tabthing2tabi a <font color = red>jabbering</font> fuckwqit hey . <font color = red>comparison</font> with you i am a genius . tabthing2tabthough of <font color = red>routes</font> being as lacking in integrity as you . i imagine you clam to be one . tabthing2tabso do you refuse to remove your attacks ? tabthing2tabthis is of course going in my rfc apparently i have to have tried to resolve the problem , but obviosly you do</td>\n",
              "      <td>0.959038</td>\n",
              "      <td>0.870042</td>\n",
              "      <td>0.500898</td>\n",
              "      <td>No</td>\n",
              "    </tr>\n",
              "    <tr>\n",
              "      <th>26722</th>\n",
              "      <td>1</td>\n",
              "      <td>0</td>\n",
              "      <td>i would say , constantine deserved <font color = green>hell</font> for taking a ( his own ) life , and then he was offered a substitional new deal for that life <font color = green>time</font> <font color = green>hell</font> <font color = green>sentence</font> ( i . e . being un <font color = green>selfish</font> a lot ) . . . this new deal makes sense , because his suicide attempt was immediately caused by the malfunctioning genesis ( <font color = green>idiotic</font> psychiatrists , silly parents , insane government which was not caused by him ) . . . ) just my 2 <font color = green>pennies</font> . . .</td>\n",
              "      <td>i would say , constantine deserved <font color = red>heii</font> for taking a ( his own ) life , and then he was offered a substitional new deal for that life <font color = red>tiempo</font> <font color = red>jesus</font> <font color = red>sorrows</font> ( i . e . being un <font color = red>egos</font> a lot ) . . . this new deal makes sense , because his suicide attempt was immediately caused by the malfunctioning genesis ( <font color = red>farcical</font> psychiatrists , silly parents , insane government which was not caused by him ) . . . ) just my 2 <font color = red>currencies</font> . . .</td>\n",
              "      <td>0.933215</td>\n",
              "      <td>0.474194</td>\n",
              "      <td>0.708502</td>\n",
              "      <td>Yes</td>\n",
              "    </tr>\n",
              "    <tr>\n",
              "      <th>46291</th>\n",
              "      <td>0</td>\n",
              "      <td>1</td>\n",
              "      <td>i have <font color = green>noticed</font> that underneath sexuality on this page it says 'gaydolf was a homsexual foggot' i think it would be appropriate to remove this if somebody can . carf9</td>\n",
              "      <td>i have <font color = red>vu</font> that underneath sexuality on this page it says 'gaydolf was a homsexual foggot' i think it would be appropriate to remove this if somebody can . carf9</td>\n",
              "      <td>0.633462</td>\n",
              "      <td>0.461272</td>\n",
              "      <td>0.708400</td>\n",
              "      <td>Yes</td>\n",
              "    </tr>\n",
              "    <tr>\n",
              "      <th>13895</th>\n",
              "      <td>1</td>\n",
              "      <td>1</td>\n",
              "      <td>whatever <font color = green>fucking</font> block me then you <font color = green>punk</font> ass <font color = green>bitch</font> ! i <font color = green>do</font> n't give a <font color = green>flying</font> <font color = green>fuck</font> . you <font color = green>obviously</font> just <font color = green>go</font> around making sure that <font color = green>random</font> <font color = green>ass</font> wiki <font color = green>pages</font> are safe for everyone and <font color = green>do</font> n't <font color = green>have</font> <font color = green>complete</font> <font color = green>information</font> . if you blcok me , i will continue to <font color = green>send</font> you these messages and when i am <font color = green>unblocked</font> , the <font color = green>fires</font> from <font color = green>hell</font> <font color = green>will</font> <font color = green>be</font> <font color = green>unleashed</font> upon wikipedia . you <font color = green>want</font> to <font color = green>see</font> some <font color = green>vandalism</font> ? just as i <font color = green>did</font> with islam , christianity and <font color = green>miracle</font> <font color = green>whip</font> in the <font color = green>past</font> , i <font color = green>will</font> <font color = green>do</font> to anything i see with your fucking faggot ass signature on it . seriously ? do you have to be such a whinny , cock sucking dickhead ? can you even respond to these ? it does n't seem like it . you just put all this horseshit on here and think that your place of authority on wikipedia makes you a big person ? you're probably that kid that people thought would kill everyone in high school . really ? i hope you get blocked from wiki edits . fuck you to death .</td>\n",
              "      <td>whatever <font color = red>jeez</font> block me then you <font color = red>rogue</font> ass <font color = red>mongrel</font> ! i <font color = red>know</font> n't give a <font color = red>air</font> <font color = red>kiss</font> . you <font color = red>certainly</font> just <font color = red>will</font> around making sure that <font color = red>chaotic</font> <font color = red>hind</font> wiki <font color = red>p</font> are safe for everyone and <font color = red>accomplished</font> n't <font color = red>enjoy</font> <font color = red>accomplish</font> <font color = red>informed</font> . if you blcok me , i will continue to <font color = red>expedition</font> you these messages and when i am <font color = red>unlocked</font> , the <font color = red>alight</font> from <font color = red>cursed</font> <font color = red>going</font> <font color = red>represented</font> <font color = red>triggered</font> upon wikipedia . you <font color = red>would</font> to <font color = red>view</font> some <font color = red>scuttle</font> ? just as i <font color = red>took</font> with islam , christianity and <font color = red>wonder</font> <font color = red>lashes</font> in the <font color = red>final</font> , i <font color = red>desired</font> <font color = red>fait</font> to anything i see with your fucking faggot ass signature on it . seriously ? do you have to be such a whinny , cock</td>\n",
              "      <td>0.974710</td>\n",
              "      <td>0.747818</td>\n",
              "      <td>0.505328</td>\n",
              "      <td>No</td>\n",
              "    </tr>\n",
              "    <tr>\n",
              "      <th>86162</th>\n",
              "      <td>1</td>\n",
              "      <td>1</td>\n",
              "      <td><font color = green>ann</font> coulter is a no <font color = green>good</font> <font color = green>fucking</font> <font color = green>cunt</font> and she is <font color = green>going</font> to <font color = green>hell</font> alonmg <font color = green>side</font> with the fuck head george <font color = green>w</font> . bush ! ! ! the the gop ! ! ! the <font color = green>right</font> <font color = green>rich</font> <font color = green>old</font> <font color = green>ass</font> who <font color = green>hate</font> the poor <font color = green>people</font> and <font color = green>want</font> more ! ! !</td>\n",
              "      <td><font color = red>naa</font> coulter is a no <font color = red>alright</font> <font color = red>fuck</font> <font color = red>fuckin</font> and she is <font color = red>will</font> to <font color = red>fuckin</font> alonmg <font color = red>sideways</font> with the fuck head george <font color = red>p</font> . bush ! ! ! the the gop ! ! ! the <font color = red>rights</font> <font color = red>rican</font> <font color = red>old</font> <font color = red>hiney</font> who <font color = red>hatin</font> the poor <font color = red>people</font> and <font color = red>hoped</font> more ! ! !</td>\n",
              "      <td>0.973339</td>\n",
              "      <td>0.889804</td>\n",
              "      <td>0.501037</td>\n",
              "      <td>No</td>\n",
              "    </tr>\n",
              "    <tr>\n",
              "      <th>32584</th>\n",
              "      <td>1</td>\n",
              "      <td>0</td>\n",
              "      <td><font color = green>damn</font> right you're doing something wrong . and you still have n't answered my question why are you doing this ? just who do you thing is offended by unfair images ? i can see from your talk page that this is clearly a sad fixation of yours , so i'm not going to fight you i really do n't have the time , i 've got better things to do , unlike you you <font color = green>sad</font> <font color = green>little</font> <font color = green>man</font> . so <font color = green>delete</font> my <font color = green>images</font> if you must , but just answer me this who are you benefiting ? ( apart from yourself obviously , satisfying your own sad delusional little ego trip that you're a 'virtual policeman' probably too pussy to be one in real life ) .</td>\n",
              "      <td><font color = red>merde</font> right you're doing something wrong . and you still have n't answered my question why are you doing this ? just who do you thing is offended by unfair images ? i can see from your talk page that this is clearly a sad fixation of yours , so i'm not going to fight you i really do n't have the time , i 've got better things to do , unlike you you <font color = red>regret</font> <font color = red>trifle</font> <font color = red>friend</font> . so <font color = red>disposal</font> my <font color = red>archives</font> if you must , but just answer me this who are you benefiting ? ( apart from yourself obviously , satisfying your own sad delusional little ego trip that you're a 'virtual policeman' probably too pussy to</td>\n",
              "      <td>0.918041</td>\n",
              "      <td>0.465251</td>\n",
              "      <td>0.735498</td>\n",
              "      <td>Yes</td>\n",
              "    </tr>\n",
              "    <tr>\n",
              "      <th>132020</th>\n",
              "      <td>1</td>\n",
              "      <td>0</td>\n",
              "      <td>yes yes , personnal attacks , reacting to homophobic attacks . i am fairly proud about my behavior , despite i am blocked . lestrade is a genuine <font color = green>silly</font> homophobe , it 's a fact</td>\n",
              "      <td>yes yes , personnal attacks , reacting to homophobic attacks . i am fairly proud about my behavior , despite i am blocked . lestrade is a genuine <font color = red>farcical</font> homophobe , it 's a fact</td>\n",
              "      <td>0.722649</td>\n",
              "      <td>0.435925</td>\n",
              "      <td>0.901525</td>\n",
              "      <td>Yes</td>\n",
              "    </tr>\n",
              "    <tr>\n",
              "      <th>100094</th>\n",
              "      <td>1</td>\n",
              "      <td>0</td>\n",
              "      <td>how do you get semen stains off jeans ? how do you get semen stains off jeans ? tim , 20 <font color = green>july</font> , 2009</td>\n",
              "      <td>how do you get semen stains off jeans ? how do you get semen stains off jeans ? tim , 20 <font color = red>janvier</font> , 2009</td>\n",
              "      <td>0.832581</td>\n",
              "      <td>0.489543</td>\n",
              "      <td>0.941689</td>\n",
              "      <td>Yes</td>\n",
              "    </tr>\n",
              "    <tr>\n",
              "      <th>70378</th>\n",
              "      <td>1</td>\n",
              "      <td>1</td>\n",
              "      <td>were not <font color = green>vandalism</font> you <font color = green>idiot</font> ! ! !</td>\n",
              "      <td>were not <font color = red>vandalizing</font> you <font color = red>asinine</font> ! ! !</td>\n",
              "      <td>0.965249</td>\n",
              "      <td>0.904113</td>\n",
              "      <td>0.528148</td>\n",
              "      <td>No</td>\n",
              "    </tr>\n",
              "    <tr>\n",
              "      <th>120498</th>\n",
              "      <td>1</td>\n",
              "      <td>0</td>\n",
              "      <td>yup , there are civility policies . however , they have nothing to do with me currently , and i'll thank you to kindly <font color = green>piss</font> off and mind your own business . simply saying it 's tea time does not make it so . likewise , your claim that i 've somehow attacked another editor is unfounded , and may constitute something along the lines of wet and sloppy <font color = green>bullshit</font> . have fun policing wikipedia , i'll mind my own business . talk</td>\n",
              "      <td>yup , there are civility policies . however , they have nothing to do with me currently , and i'll thank you to kindly <font color = red>restroom</font> off and mind your own business . simply saying it 's tea time does not make it so . likewise , your claim that i 've somehow attacked another editor is unfounded , and may constitute something along the lines of wet and sloppy <font color = red>piffle</font> . have fun policing wikipedia , i'll mind my own business . talk</td>\n",
              "      <td>0.802724</td>\n",
              "      <td>0.498511</td>\n",
              "      <td>0.797327</td>\n",
              "      <td>Yes</td>\n",
              "    </tr>\n",
              "    <tr>\n",
              "      <th>157710</th>\n",
              "      <td>1</td>\n",
              "      <td>0</td>\n",
              "      <td><font color = green>awww</font> how come you took off all of your discussion posts ? do n't want anyone to know how much of an uptight , <font color = green>anal</font> retentive , <font color = green>faggot</font> you are ? 66 . 158 . 193 . 30</td>\n",
              "      <td><font color = red>ah</font> how come you took off all of your discussion posts ? do n't want anyone to know how much of an uptight , <font color = red>rectum</font> retentive , <font color = red>puto</font> you are ? 66 . 158 . 193 . 30</td>\n",
              "      <td>0.964085</td>\n",
              "      <td>0.499501</td>\n",
              "      <td>0.591355</td>\n",
              "      <td>Yes</td>\n",
              "    </tr>\n",
              "    <tr>\n",
              "      <th>110990</th>\n",
              "      <td>1</td>\n",
              "      <td>0</td>\n",
              "      <td>how <font color = green>does</font> it feel to <font color = green>be</font> a <font color = green>stupid</font> <font color = green>bitch</font> who <font color = green>edits</font> wikipedia ? too <font color = green>bad</font> nobody will ever <font color = green>love</font> you</td>\n",
              "      <td>how <font color = red>did</font> it feel to <font color = red>arrive</font> a <font color = red>nonsensical</font> <font color = red>biatch</font> who <font color = red>revise</font> wikipedia ? too <font color = red>amiss</font> nobody will ever <font color = red>iove</font> you</td>\n",
              "      <td>0.961547</td>\n",
              "      <td>0.479591</td>\n",
              "      <td>0.511397</td>\n",
              "      <td>Yes</td>\n",
              "    </tr>\n",
              "    <tr>\n",
              "      <th>1565</th>\n",
              "      <td>1</td>\n",
              "      <td>0</td>\n",
              "      <td>lmao , that 's <font color = green>basically</font> <font color = green>saying</font> wahhh he called me <font color = green>dumb</font> me gunna block him nice use of those admin powers , now stay off my talk page .</td>\n",
              "      <td>lmao , that 's <font color = red>greatly</font> <font color = red>declares</font> wahhh he called me <font color = red>silent</font> me gunna block him nice use of those admin powers , now stay off my talk page .</td>\n",
              "      <td>0.894737</td>\n",
              "      <td>0.472182</td>\n",
              "      <td>0.576616</td>\n",
              "      <td>Yes</td>\n",
              "    </tr>\n",
              "    <tr>\n",
              "      <th>107312</th>\n",
              "      <td>1</td>\n",
              "      <td>1</td>\n",
              "      <td>pete <font color = green>sucks</font> peters , you <font color = green>worthless</font> piece of <font color = green>shit</font> ndp <font color = green>attack</font> <font color = green>queer</font> , either <font color = green>take</font> all your <font color = green>medication</font> or <font color = green>non</font> of it , <font color = green>asshole</font></td>\n",
              "      <td>pete <font color = red>disturbs</font> peters , you <font color = red>insignificant</font> piece of <font color = red>turd</font> ndp <font color = red>incursion</font> <font color = red>homos</font> , either <font color = red>bring</font> all your <font color = red>pharmacology</font> or <font color = red>anc</font> of it , <font color = red>dork</font></td>\n",
              "      <td>0.973053</td>\n",
              "      <td>0.763316</td>\n",
              "      <td>0.505099</td>\n",
              "      <td>No</td>\n",
              "    </tr>\n",
              "    <tr>\n",
              "      <th>157049</th>\n",
              "      <td>1</td>\n",
              "      <td>1</td>\n",
              "      <td>my page 3234434aaa your just a mean <font color = green>old</font> <font color = green>bullshitting</font> fart . . . as you would put it .</td>\n",
              "      <td>my page 3234434aaa your just a mean <font color = red>longtime</font> <font color = red>humoring</font> fart . . . as you would put it .</td>\n",
              "      <td>0.962959</td>\n",
              "      <td>0.841201</td>\n",
              "      <td>0.508345</td>\n",
              "      <td>No</td>\n",
              "    </tr>\n",
              "    <tr>\n",
              "      <th>87728</th>\n",
              "      <td>1</td>\n",
              "      <td>1</td>\n",
              "      <td>cigan gypsy retarde <font color = green>idiot</font> <font color = green>milburn</font> ! <font color = green>stop</font> your <font color = green>picture</font> deletions and vandalisms ! <font color = green>animal</font> !</td>\n",
              "      <td>cigan gypsy retarde <font color = red>nincompoop</font> <font color = red>glynn</font> ! <font color = red>suspended</font> your <font color = red>photograph</font> deletions and vandalisms ! <font color = red>veterinarian</font> !</td>\n",
              "      <td>0.973151</td>\n",
              "      <td>0.933973</td>\n",
              "      <td>0.502255</td>\n",
              "      <td>No</td>\n",
              "    </tr>\n",
              "    <tr>\n",
              "      <th>117181</th>\n",
              "      <td>1</td>\n",
              "      <td>1</td>\n",
              "      <td>die you are loser <font color = green>learn</font> how to <font color = green>help</font> <font color = green>people</font> cope i <font color = green>know</font> where you . . . . . . . . . . . . . . . . . . . . . . . . it is <font color = green>funny</font> <font color = green>because</font> i <font color = green>know</font> who you are right away , you are the <font color = green>person</font> that . . . . . . <font color = green>well</font> you <font color = green>know</font> . <font color = green>fan</font> 1967fan 1967fan 1967fan 1967fan 1967fan 1967fan 1967fan 1967fan 1967fan 1967fan 1967fan 1967fan 1967fan 1967fan 1967fan 1967fan 1967fan 1967fan 1967fan 1967fan 1967fan 1967fan 1967fan 1967fan 1967fan 1967fan 1967fan 1967fan 1967fan 1967fan 1967fan 1967fan 1967fan 1967fan 1967fan 1967fan 1967fan 1967fan 1967fan 1967fan 1967fan 1967fan 1967fan 1967fan 1967fan 1967fan 1967fan 1967fan 1967fan 1967fan 1967fan 1967fan 1967fan 1967fan 1967fan 1967fan 1967fan 1967fan 1967fan 1967fan 1967fan 1967fan 1967fan 1967</td>\n",
              "      <td>die you are loser <font color = red>learnt</font> how to <font color = red>helps</font> <font color = red>residents</font> cope i <font color = red>did</font> where you . . . . . . . . . . . . . . . . . . . . . . . . it is <font color = red>funniest</font> <font color = red>than</font> i <font color = red>knew</font> who you are right away , you are the <font color = red>everyone</font> that . . . . . . <font color = red>properly</font> you <font color = red>did</font> . <font color = red>fans</font> 1967fan 1967fan 1967fan 1967fan 1967fan 1967fan 1967fan 1967fan 1967fan 1967fan 1967fan 1967fan 1967fan 1967fan 1967fan 1967fan 1967fan 1967fan 1967fan 1967fan 1967fan 1967fan 1967fan 1967fan 1967fan 1967fan 1967fan 1967fan 1967fan 1967fan 1967fan 1967fan 1967fan 1967fan 1967fan 1967fan 1967fan 1967fan 1967fan 1967fan 1967fan 1967fan 1967fan 1967fan 1967fan 1967fan 1967fan 1967fan 1967fan 1967fan 1967fan 1967fan 1967fan 1967fan</td>\n",
              "      <td>0.901178</td>\n",
              "      <td>0.857017</td>\n",
              "      <td>0.517067</td>\n",
              "      <td>No</td>\n",
              "    </tr>\n",
              "    <tr>\n",
              "      <th>67805</th>\n",
              "      <td>1</td>\n",
              "      <td>0</td>\n",
              "      <td>hello ! i am the one who keeps insisting on making the god damn entry . my entry has become long winded based on your ( both of yours , actually ) insistance that my entry is non factual . i have cited a dictionary entry based solely on your statement that the word damn does not mean to be condemned by god , when , in fact it does . as an atheist , you can rest assured that i am not offended by this phrase . who the <font color = green>fuck</font> are you to determine that because you ca n't figure out the definition of a word when it is provided to you , that my entry is incorrect ? the fact that you retracted or edited my entry 3 times does not make it incorrect . it means that you have been an idiot 3 times . you are the one guilty of vandalizing my entry by removing it without a valid reason . the fact that you have relatives that do not like the term god damn for religious reasons is not relevent to this topic , and your argument concerning the entymology is fallacious . does any ever say steve damn or that stupid fuck smccandlish damn ? no , they do not , beacuse to the followers of modern mythology ( i . e . christianity ) , the only thing capable of damning is god , hence the phrase god damn is redundant .</td>\n",
              "      <td>hello ! i am the one who keeps insisting on making the god damn entry . my entry has become long winded based on your ( both of yours , actually ) insistance that my entry is non factual . i have cited a dictionary entry based solely on your statement that the word damn does not mean to be condemned by god , when , in fact it does . as an atheist , you can rest assured that i am not offended by this phrase . who the <font color = red>jesus</font> are you to determine that because you ca n't figure out the definition of a word when it is provided to you , that my entry is incorrect ?</td>\n",
              "      <td>0.951587</td>\n",
              "      <td>0.499679</td>\n",
              "      <td>0.712217</td>\n",
              "      <td>Yes</td>\n",
              "    </tr>\n",
              "    <tr>\n",
              "      <th>129571</th>\n",
              "      <td>1</td>\n",
              "      <td>1</td>\n",
              "      <td><font color = green>hey</font> <font color = green>fucko</font> <font color = green>hello</font> . i <font color = green>saw</font> your <font color = green>humorous</font> additions to the parrot article , if you <font color = green>feel</font> the <font color = green>need</font> to contribute anything else of a similar caliber i will be forced to journey to your <font color = green>place</font> of residence , whereupon i will <font color = green>rape</font> the ever <font color = green>loving</font> <font color = green>shit</font> out of your loose , <font color = green>dirty</font> , <font color = green>nigger</font> <font color = green>asshole</font> . <font color = green>okay</font> ? 130 . 218 . 80 . 4</td>\n",
              "      <td><font color = red>greetings</font> <font color = red>gomer</font> <font color = red>bye</font> . i <font color = red>detected</font> your <font color = red>entertaining</font> additions to the parrot article , if you <font color = red>sensing</font> the <font color = red>asks</font> to contribute anything else of a similar caliber i will be forced to journey to your <font color = red>situ</font> of residence , whereupon i will <font color = red>molested</font> the ever <font color = red>iove</font> <font color = red>fucked</font> out of your loose , <font color = red>inclement</font> , <font color = red>dark</font> <font color = red>dunce</font> . <font color = red>ok</font> ? 130 . 218 . 80 . 4</td>\n",
              "      <td>0.970253</td>\n",
              "      <td>0.736944</td>\n",
              "      <td>0.500052</td>\n",
              "      <td>No</td>\n",
              "    </tr>\n",
              "    <tr>\n",
              "      <th>69608</th>\n",
              "      <td>1</td>\n",
              "      <td>1</td>\n",
              "      <td>wikipedia is a latter <font color = green>day</font> religion , you <font color = green>idiots</font> <font color = green>need</font> shooting</td>\n",
              "      <td>wikipedia is a latter <font color = red>days</font> religion , you <font color = red>cons</font> <font color = red>require</font> shooting</td>\n",
              "      <td>0.972575</td>\n",
              "      <td>0.518619</td>\n",
              "      <td>0.506025</td>\n",
              "      <td>No</td>\n",
              "    </tr>\n",
              "    <tr>\n",
              "      <th>133258</th>\n",
              "      <td>1</td>\n",
              "      <td>1</td>\n",
              "      <td>you are a slurgnog , dumbdip piece of <font color = green>mush</font> foggart !</td>\n",
              "      <td>you are a slurgnog , dumbdip piece of <font color = red>mashed</font> foggart !</td>\n",
              "      <td>0.970274</td>\n",
              "      <td>0.961468</td>\n",
              "      <td>0.540891</td>\n",
              "      <td>No</td>\n",
              "    </tr>\n",
              "    <tr>\n",
              "      <th>71478</th>\n",
              "      <td>1</td>\n",
              "      <td>0</td>\n",
              "      <td>to the above comment what a <font color = green>stupid</font> . <font color = green>stupid</font> . <font color = green>stupid</font> . thing to say . that <font color = green>really</font> ranks up there as the <font color = green>stupidest</font> thing i have heard all <font color = green>year</font> and probably will remain <font color = green>so</font> .</td>\n",
              "      <td>to the above comment what a <font color = red>imbecilic</font> . <font color = red>farcical</font> . <font color = red>nonsensical</font> . thing to say . that <font color = red>surely</font> ranks up there as the <font color = red>oddest</font> thing i have heard all <font color = red>years</font> and probably will remain <font color = red>even</font> .</td>\n",
              "      <td>0.909685</td>\n",
              "      <td>0.314380</td>\n",
              "      <td>0.539652</td>\n",
              "      <td>Yes</td>\n",
              "    </tr>\n",
              "    <tr>\n",
              "      <th>159411</th>\n",
              "      <td>1</td>\n",
              "      <td>1</td>\n",
              "      <td><font color = green>fat</font> piece of shit you <font color = green>obese</font> piece of <font color = green>shit</font> . i <font color = green>thought</font> of you <font color = green>naked</font> last <font color = green>night</font> . <font color = green>got</font> sick .</td>\n",
              "      <td><font color = red>fatness</font> piece of shit you <font color = red>underweight</font> piece of <font color = red>sodding</font> . i <font color = red>imagined</font> of you <font color = red>bare</font> last <font color = red>soir</font> . <font color = red>took</font> sick .</td>\n",
              "      <td>0.976021</td>\n",
              "      <td>0.952447</td>\n",
              "      <td>0.503817</td>\n",
              "      <td>No</td>\n",
              "    </tr>\n",
              "    <tr>\n",
              "      <th>102609</th>\n",
              "      <td>1</td>\n",
              "      <td>0</td>\n",
              "      <td>awwwwww . does n't <font color = green>poor</font> <font color = green>little</font> femto like getting told off ? take it like a man . yes , i have been repeatedly been warned , i do n't think it 's necessary do state the obvious . and thanks for saying that i'm smart enough ( you did n't say smart , but i know you were thinking it ) to know when to stop , but to be honest , i just stop becasue i ca n't be bothered doing anything else in that line of vandalism or all my options of further vandalism are exhausted . there are warnings more serious than a 24 hour block ? what is it ? 36 hour block ? ? noooooooooooooooooooooo . please do n't subject me to that horrible punishment . i could n't take it for a whole 36 hours ! thanks for the confrontation , it 's been a pleasure . usually people do n't reply to me and they go straight on my hate list , but because you 've been replying , you're making your way off the list because of your entertainment values . those are false accusations ! ! ! !</td>\n",
              "      <td>awwwwww . does n't <font color = red>erroneous</font> <font color = red>slight</font> femto like getting told off ? take it like a man . yes , i have been repeatedly been warned , i do n't think it 's necessary do state the obvious . and thanks for saying that i'm smart enough ( you did n't say smart , but i know you were thinking it ) to know when to stop , but to be honest , i just stop becasue i ca n't be bothered doing anything else in that line of vandalism or all my options of further vandalism are exhausted . there are warnings more serious than a 24 hour block ? what is it ? 36 hour block ? ?</td>\n",
              "      <td>0.731201</td>\n",
              "      <td>0.487153</td>\n",
              "      <td>0.845482</td>\n",
              "      <td>Yes</td>\n",
              "    </tr>\n",
              "    <tr>\n",
              "      <th>58211</th>\n",
              "      <td>1</td>\n",
              "      <td>0</td>\n",
              "      <td>omicronpersei8 omicronpersei8 or more like homocronperson8 who the <font color = green>fuck</font> do you think you are i can <font color = green>use</font> my talk page for what i <font color = green>want</font> ! ! !</td>\n",
              "      <td>omicronpersei8 omicronpersei8 or more like homocronperson8 who the <font color = red>merde</font> do you think you are i can <font color = red>utilizing</font> my talk page for what i <font color = red>wished</font> ! ! !</td>\n",
              "      <td>0.970305</td>\n",
              "      <td>0.479334</td>\n",
              "      <td>0.544055</td>\n",
              "      <td>Yes</td>\n",
              "    </tr>\n",
              "    <tr>\n",
              "      <th>114953</th>\n",
              "      <td>1</td>\n",
              "      <td>0</td>\n",
              "      <td>one more message like this , and you <font color = green>get</font> stabbed to <font color = green>death</font> . you <font color = green>have</font> been warned , <font color = green>motherf</font> <font color = green>er</font> ! 86 . 176 . 169 . 49</td>\n",
              "      <td>one more message like this , and you <font color = red>obtains</font> stabbed to <font color = red>casualties</font> . you <font color = red>obtains</font> been warned , <font color = red>ker</font> <font color = red>ah</font> ! 86 . 176 . 169 . 49</td>\n",
              "      <td>0.907344</td>\n",
              "      <td>0.498104</td>\n",
              "      <td>0.550125</td>\n",
              "      <td>Yes</td>\n",
              "    </tr>\n",
              "    <tr>\n",
              "      <th>14186</th>\n",
              "      <td>1</td>\n",
              "      <td>0</td>\n",
              "      <td>you ca n't continue our debate so you ban me . . <font color = green>comedy</font> . the vandalism to deep purple still isnt justified . <font color = green>so</font> <font color = green>fuck</font> you .</td>\n",
              "      <td>you ca n't continue our debate so you ban me . . <font color = red>lighthearted</font> . the vandalism to deep purple still isnt justified . <font color = red>whereby</font> <font color = red>christ</font> you .</td>\n",
              "      <td>0.973686</td>\n",
              "      <td>0.481730</td>\n",
              "      <td>0.586715</td>\n",
              "      <td>Yes</td>\n",
              "    </tr>\n",
              "    <tr>\n",
              "      <th>111531</th>\n",
              "      <td>1</td>\n",
              "      <td>1</td>\n",
              "      <td><font color = green>stupid</font> liberals ! ! ! ! ! ! ! ! ! ! ! ! ! ! ! ! ! ! ! ! ! ! ! !</td>\n",
              "      <td><font color = red>asinine</font> liberals ! ! ! ! ! ! ! ! ! ! ! ! ! ! ! ! ! ! ! ! ! ! ! !</td>\n",
              "      <td>0.874460</td>\n",
              "      <td>0.666068</td>\n",
              "      <td>0.644661</td>\n",
              "      <td>No</td>\n",
              "    </tr>\n",
              "    <tr>\n",
              "      <th>1788</th>\n",
              "      <td>1</td>\n",
              "      <td>0</td>\n",
              "      <td>jimbo . . . . . the crybaby . . . . . sits in front of his computer everyday acting as the arbiter of the grand wikipedia . the all knowing know it all who is the expert on everything . the savior of the western world . and of course , when questioned about anything , cries to the main office about ill treatment . . . . . by the way . . . . . . a <font color = green>lousy</font> editor who uses only one source ! a <font color = green>joke</font> !</td>\n",
              "      <td>jimbo . . . . . the crybaby . . . . . sits in front of his computer everyday acting as the arbiter of the grand wikipedia . the all knowing know it all who is the expert on everything . the savior of the western world . and of course , when questioned about anything , cries to the main office about ill treatment . . . . . by the way . . . . . . a <font color = red>amiss</font> editor who uses only one source ! a <font color = red>joking</font> !</td>\n",
              "      <td>0.872128</td>\n",
              "      <td>0.468227</td>\n",
              "      <td>0.911040</td>\n",
              "      <td>Yes</td>\n",
              "    </tr>\n",
              "    <tr>\n",
              "      <th>103092</th>\n",
              "      <td>1</td>\n",
              "      <td>0</td>\n",
              "      <td>that 's all <font color = green>bullshit</font> , and you <font color = green>know</font> it .</td>\n",
              "      <td>that 's all <font color = red>malarkey</font> , and you <font color = red>aware</font> it .</td>\n",
              "      <td>0.946549</td>\n",
              "      <td>0.347286</td>\n",
              "      <td>0.552904</td>\n",
              "      <td>Yes</td>\n",
              "    </tr>\n",
              "    <tr>\n",
              "      <th>141586</th>\n",
              "      <td>1</td>\n",
              "      <td>0</td>\n",
              "      <td>usa is 1 and we made the facebook , deal with it . oh wait , all you kids on facebook do instead is <font color = green>cry</font> about things on the facebook . make a <font color = green>fucking</font> facebook group about it , why do n't you .</td>\n",
              "      <td>usa is 1 and we made the facebook , deal with it . oh wait , all you kids on facebook do instead is <font color = red>cri</font> about things on the facebook . make a <font color = red>gorram</font> facebook group about it , why do n't you .</td>\n",
              "      <td>0.948746</td>\n",
              "      <td>0.384157</td>\n",
              "      <td>0.733867</td>\n",
              "      <td>Yes</td>\n",
              "    </tr>\n",
              "    <tr>\n",
              "      <th>132386</th>\n",
              "      <td>1</td>\n",
              "      <td>0</td>\n",
              "      <td>same time , and then made fun of my <font color = green>little</font> <font color = green>dick</font></td>\n",
              "      <td>same time , and then made fun of my <font color = red>small</font> <font color = red>stroking</font></td>\n",
              "      <td>0.923796</td>\n",
              "      <td>0.398870</td>\n",
              "      <td>0.574571</td>\n",
              "      <td>Yes</td>\n",
              "    </tr>\n",
              "    <tr>\n",
              "      <th>49455</th>\n",
              "      <td>0</td>\n",
              "      <td>1</td>\n",
              "      <td>cumulus clouds , you <font color = green>should</font> block yourself from editing cause you vandalized me when i just put an external link about kircher <font color = green>case</font> in the section external links of kircher case . i did a perfect and minimal edit , useful and respectful of all rules . you vandalized .</td>\n",
              "      <td>cumulus clouds , you <font color = red>gotta</font> block yourself from editing cause you vandalized me when i just put an external link about kircher <font color = red>affairs</font> in the section external links of kircher case . i did a perfect and minimal edit , useful and respectful of all rules . you vandalized .</td>\n",
              "      <td>0.918878</td>\n",
              "      <td>0.490270</td>\n",
              "      <td>0.733697</td>\n",
              "      <td>Yes</td>\n",
              "    </tr>\n",
              "    <tr>\n",
              "      <th>28682</th>\n",
              "      <td>1</td>\n",
              "      <td>0</td>\n",
              "      <td>question are you some kind of <font color = green>pedophile</font> or something ? you <font color = green>keep</font> editing articles and <font color = green>act</font> like it 's not bad to <font color = green>screw</font> boys . <font color = green>so</font> , do you do that in real life , or just write about it here to <font color = green>be</font> <font color = green>creepy</font> ?</td>\n",
              "      <td>question are you some kind of <font color = red>voyeur</font> or something ? you <font color = red>keeps</font> editing articles and <font color = red>acte</font> like it 's not bad to <font color = red>vis</font> boys . <font color = red>thereafter</font> , do you do that in real life , or just write about it here to <font color = red>be</font> <font color = red>alarming</font> ?</td>\n",
              "      <td>0.941895</td>\n",
              "      <td>0.492979</td>\n",
              "      <td>0.501609</td>\n",
              "      <td>Yes</td>\n",
              "    </tr>\n",
              "    <tr>\n",
              "      <th>73867</th>\n",
              "      <td>1</td>\n",
              "      <td>0</td>\n",
              "      <td>ephebophilia is from the <font color = green>fucking</font> fourties , danb . not recent .</td>\n",
              "      <td>ephebophilia is from the <font color = red>friggin</font> fourties , danb . not recent .</td>\n",
              "      <td>0.910168</td>\n",
              "      <td>0.046751</td>\n",
              "      <td>0.874112</td>\n",
              "      <td>Yes</td>\n",
              "    </tr>\n",
              "    <tr>\n",
              "      <th>65836</th>\n",
              "      <td>1</td>\n",
              "      <td>0</td>\n",
              "      <td>pansy . there are multiple sources reporting the shot down of a french warplane . stop censoring wikipedia you <font color = green>asshole</font> . you claim that libya is manipulating reports , but not concidering the same from the coalition ? ? you're also not taking into account that you are manipulating reports , by cencoring information here . so <font color = green>suck</font> it . agsman61</td>\n",
              "      <td>pansy . there are multiple sources reporting the shot down of a french warplane . stop censoring wikipedia you <font color = red>gomer</font> . you claim that libya is manipulating reports , but not concidering the same from the coalition ? ? you're also not taking into account that you are manipulating reports , by cencoring information here . so <font color = red>breathe</font> it . agsman61</td>\n",
              "      <td>0.950633</td>\n",
              "      <td>0.471973</td>\n",
              "      <td>0.853492</td>\n",
              "      <td>Yes</td>\n",
              "    </tr>\n",
              "    <tr>\n",
              "      <th>50665</th>\n",
              "      <td>1</td>\n",
              "      <td>0</td>\n",
              "      <td>whad up syphillisss so why dont you actually contribute something to wikipedia yourself instead of checking , controlling and constantly reading what others are doing ? ? you dont have the intellectual capacity or the depth , huh ? or do you simply lack a <font color = green>life</font> so much that virtual vandal patrolling is the most interesting thing that you do during the day ? ? ! ! in either case , do know that i will be praying for you and your <font color = green>poor</font> soul . . .</td>\n",
              "      <td>whad up syphillisss so why dont you actually contribute something to wikipedia yourself instead of checking , controlling and constantly reading what others are doing ? ? you dont have the intellectual capacity or the depth , huh ? or do you simply lack a <font color = red>vie</font> so much that virtual vandal patrolling is the most interesting thing that you do during the day ? ? ! ! in either case , do know that i will be praying for you and your <font color = red>tenuous</font> soul . . .</td>\n",
              "      <td>0.826368</td>\n",
              "      <td>0.437720</td>\n",
              "      <td>0.920513</td>\n",
              "      <td>Yes</td>\n",
              "    </tr>\n",
              "    <tr>\n",
              "      <th>24884</th>\n",
              "      <td>1</td>\n",
              "      <td>0</td>\n",
              "      <td>i get why you edited pen island . <font color = green>because</font> your name is <font color = green>dick</font> !</td>\n",
              "      <td>i get why you edited pen island . <font color = red>since</font> your name is <font color = red>schlong</font> !</td>\n",
              "      <td>0.962837</td>\n",
              "      <td>0.459910</td>\n",
              "      <td>0.686716</td>\n",
              "      <td>Yes</td>\n",
              "    </tr>\n",
              "    <tr>\n",
              "      <th>5180</th>\n",
              "      <td>1</td>\n",
              "      <td>0</td>\n",
              "      <td>oh great leave me alone i cant <font color = green>freaking</font> contribute because i am <font color = green>freaking</font> blocked ok ? ! and where do you get permission to talk on my page ? ? ! ! ! !</td>\n",
              "      <td>oh great leave me alone i cant <font color = red>cursed</font> contribute because i am <font color = red>darn</font> blocked ok ? ! and where do you get permission to talk on my page ? ? ! ! ! !</td>\n",
              "      <td>0.839288</td>\n",
              "      <td>0.450850</td>\n",
              "      <td>0.515172</td>\n",
              "      <td>Yes</td>\n",
              "    </tr>\n",
              "    <tr>\n",
              "      <th>80504</th>\n",
              "      <td>1</td>\n",
              "      <td>0</td>\n",
              "      <td>a <font color = green>comment</font> from your <font color = green>mum</font> see also maggot</td>\n",
              "      <td>a <font color = red>commentary</font> from your <font color = red>maman</font> see also maggot</td>\n",
              "      <td>0.873353</td>\n",
              "      <td>0.492591</td>\n",
              "      <td>0.581518</td>\n",
              "      <td>Yes</td>\n",
              "    </tr>\n",
              "    <tr>\n",
              "      <th>99226</th>\n",
              "      <td>1</td>\n",
              "      <td>0</td>\n",
              "      <td><font color = green>hey</font> nigger <font color = green>go</font> <font color = green>fuck</font> yourself and <font color = green>stop</font> revering my reverts .</td>\n",
              "      <td><font color = red>greetings</font> nigger <font color = red>proceed</font> <font color = red>christ</font> yourself and <font color = red>interruption</font> revering my reverts .</td>\n",
              "      <td>0.973168</td>\n",
              "      <td>0.495081</td>\n",
              "      <td>0.514018</td>\n",
              "      <td>Yes</td>\n",
              "    </tr>\n",
              "    <tr>\n",
              "      <th>68203</th>\n",
              "      <td>1</td>\n",
              "      <td>0</td>\n",
              "      <td>anal rape anal <font color = green>rape</font> anal <font color = green>rape</font> anal <font color = green>rape</font> anal <font color = green>rape</font> anal <font color = green>rape</font> <font color = green>anal</font> <font color = green>rape</font> anal <font color = green>rape</font> anal <font color = green>rape</font> anal <font color = green>rape</font> anal <font color = green>rape</font> anal <font color = green>rape</font> anal <font color = green>rape</font> anal <font color = green>rape</font> anal <font color = green>rape</font> anal <font color = green>rape</font> anal <font color = green>rape</font> anal <font color = green>rape</font> anal <font color = green>rape</font> anal <font color = green>rape</font> anal <font color = green>rape</font> anal <font color = green>rape</font> anal rape anal <font color = green>rape</font> anal <font color = green>rape</font> anal <font color = green>rape</font> anal <font color = green>rape</font> anal rape anal <font color = green>rape</font> anal rape anal <font color = green>rape</font> anal <font color = green>rape</font> anal rape anal rape anal rape anal <font color = green>rape</font> anal rape anal <font color = green>rape</font> <font color = green>anal</font> <font color = green>rape</font> anal <font color = green>rape</font> anal <font color = green>rape</font> anal <font color = green>rape</font> anal rape anal <font color = green>rape</font> anal <font color = green>rape</font> anal <font color = green>rape</font> anal <font color = green>rape</font> anal <font color = green>rape</font> anal <font color = green>rape</font> anal <font color = green>rape</font> anal <font color = green>rape</font> anal rape anal rape anal rape anal rape anal rape anal <font color = green>rape</font> anal rape anal rape anal rape anal rape anal rape anal rape anal rape anal rape anal rape anal rape anal rape anal rape anal rape anal rape anal rape anal rape anal rape anal rape anal rape anal rape anal rape anal rape anal rape anal rape anal rape anal rape anal rape anal rape anal rape anal rape anal rape anal rape anal rape anal rape anal rape anal rape anal rape anal rape anal rape anal rape anal rape anal rape anal rape anal rape anal rape anal rape anal rape anal rape anal rape anal rape anal rape anal rape anal rape anal rape anal rape anal rape anal rape anal rape anal rape anal rape anal rape anal rape anal rape anal rape anal rape anal rape anal rape anal rape anal rape anal rape anal rape anal rape anal rape anal rape anal rape anal rape anal rape anal rape anal rape anal rape anal rape anal rape anal rape anal rape anal rape anal rape anal rape anal rape anal rape anal rape anal rape anal rape anal rape anal rape anal rape anal rape anal rape anal rape anal rape anal rape anal rape anal rape anal rape anal rape anal rape anal rape anal rape anal rape anal rape anal rape anal rape anal rape anal rape anal rape anal rape anal rape anal rape anal rape anal rape anal rape anal rape anal rape anal rape anal rape anal rape anal rape anal rape anal rape anal rape anal rape anal rape anal rape anal rape anal rape anal rape anal rape anal rape anal rape anal rape anal rape anal rape anal rape anal rape anal rape anal rape anal rape anal rape anal rape anal rape anal rape anal rape anal rape anal rape anal rape anal rape anal rape anal rape anal rape anal rape anal rape anal rape anal rape anal rape anal rape anal rape anal rape anal rape anal rape anal rape anal rape anal rape anal rape anal rape anal rape anal rape anal rape anal rape anal rape anal rape anal rape anal rape anal rape anal rape anal rape anal rape anal rape anal rape anal rape anal rape anal rape anal rape anal rape anal rape anal rape anal rape anal rape anal rape anal rape anal rape anal rape anal rape anal rape anal rape anal rape anal rape anal rape anal rape anal rape anal rape anal rape anal rape anal rape anal rape anal rape anal rape anal rape anal rape anal rape anal rape anal rape anal rape anal rape anal rape anal rape anal rape anal rape anal rape anal rape anal rape anal rape anal rape anal rape anal rape anal rape anal rape anal rape anal rape anal rape anal rape anal rape anal rape anal rape anal rape anal rape anal rape anal rape anal rape anal rape anal rape anal rape anal rape anal rape anal rape anal rape anal rape anal rape anal rape anal rape anal rape anal rape anal rape anal rape anal rape anal rape anal rape anal rape anal rape anal rape anal rape anal rape anal rape anal rape anal rape anal rape anal rape anal rape anal rape anal rape anal rape anal rape anal rape anal rape anal rape an</td>\n",
              "      <td>anal rape anal <font color = red>violation</font> anal <font color = red>breaking</font> anal <font color = red>abuses</font> anal <font color = red>offences</font> anal <font color = red>crimes</font> <font color = red>homosexuality</font> <font color = red>violation</font> anal <font color = red>violate</font> anal <font color = red>violate</font> anal <font color = red>offences</font> anal <font color = red>breaking</font> anal <font color = red>infringement</font> anal <font color = red>infringement</font> anal <font color = red>violate</font> anal <font color = red>violate</font> anal <font color = red>breaking</font> anal <font color = red>breaking</font> anal <font color = red>breaking</font> anal <font color = red>breaking</font> anal <font color = red>breaking</font> anal <font color = red>offences</font> anal <font color = red>offences</font> anal rape anal <font color = red>offense</font> anal <font color = red>breaking</font> anal <font color = red>breaking</font> anal <font color = red>violate</font> anal rape anal <font color = red>offences</font> anal rape anal <font color = red>breaking</font> anal <font color = red>violate</font> anal rape anal rape anal rape anal <font color = red>abuse</font> anal rape anal <font color = red>crimes</font> <font color = red>homosexuality</font> <font color = red>crimes</font> anal <font color = red>breaking</font> anal <font color = red>crime</font> anal <font color = red>crimes</font> anal rape anal <font color = red>crime</font> anal <font color = red>violated</font> anal <font color = red>offences</font> anal <font color = red>violations</font> anal <font color = red>violations</font> anal <font color = red>breaking</font> anal <font color = red>crime</font> anal <font color = red>viola</font> anal rape anal rape anal rape anal rape anal rape anal <font color = red>misdemeanors</font> anal rape anal rape anal rape</td>\n",
              "      <td>0.863808</td>\n",
              "      <td>0.498952</td>\n",
              "      <td>0.589239</td>\n",
              "      <td>Yes</td>\n",
              "    </tr>\n",
              "    <tr>\n",
              "      <th>29264</th>\n",
              "      <td>1</td>\n",
              "      <td>1</td>\n",
              "      <td>why you . . . ! hammer1980 , your a <font color = green>son</font> of a <font color = green>b</font> !</td>\n",
              "      <td>why you . . . ! hammer1980 , your a <font color = red>sons</font> of a <font color = red>c</font> !</td>\n",
              "      <td>0.915498</td>\n",
              "      <td>0.854674</td>\n",
              "      <td>0.521640</td>\n",
              "      <td>No</td>\n",
              "    </tr>\n",
              "    <tr>\n",
              "      <th>126603</th>\n",
              "      <td>1</td>\n",
              "      <td>0</td>\n",
              "      <td>his or her own <font color = green>genitals</font></td>\n",
              "      <td>his or her own <font color = red>testes</font></td>\n",
              "      <td>0.773312</td>\n",
              "      <td>0.212762</td>\n",
              "      <td>0.531968</td>\n",
              "      <td>Yes</td>\n",
              "    </tr>\n",
              "    <tr>\n",
              "      <th>31737</th>\n",
              "      <td>1</td>\n",
              "      <td>0</td>\n",
              "      <td><font color = green>message</font> on daedalus' page daedalus is nothing but a <font color = green>filthy</font> <font color = green>n</font> ! gger and a cyberstalker who sits in his mommy 's basement and who <font color = green>fails</font> yet again at trying to ban me and stop me from <font color = green>getting</font> my lulz on . i have access to thousands of ips and have many 25 sleeper accounts , so u fail u wiki <font color = green>police</font> homos . plz feel free to <font color = green>suck</font> my d ! ck u n ! gger f ggot . you <font color = green>fail</font> . <font color = green>anyways</font> , u have to be watchful everywhere i can pick and chose my announcements at will , and still edit via my sleeper accounts from ips all across the world . u wont no when or where i will appear . my lulz is 4ever u n ! gger f gget . stop cyberstalking people u freak daedalus . go back to hiding in mommy 's basement and playing call of duty or whatever gay thing u do since it is obvious that u are unemployeed cuz u spend all day on wikipedia looking like the lozer u are . moar lulz for me ! ! ! ! horray for me ! ! ! im kool and ur a fool ! ! ! ! i shall surface again and make myself known in a month or two . hey everybody daedalus is a n ! gger and a f ggot ! ! ! ! ! ! ! ! ! ! look at the n ! gger f ggot ! you fail .</td>\n",
              "      <td><font color = red>voicemail</font> on daedalus' page daedalus is nothing but a <font color = red>salts</font> <font color = red>pp</font> ! gger and a cyberstalker who sits in his mommy 's basement and who <font color = red>omitted</font> yet again at trying to ban me and stop me from <font color = red>receives</font> my lulz on . i have access to thousands of ips and have many 25 sleeper accounts , so u fail u wiki <font color = red>officer</font> homos . plz feel free to <font color = red>handjob</font> my d ! ck u n ! gger f ggot . you <font color = red>missed</font> . <font color = red>briefing</font> , u have to be watchful everywhere i can pick and chose my announcements at will , and still edit via my sleeper accounts from ips all across the world . u wont no when or</td>\n",
              "      <td>0.947877</td>\n",
              "      <td>0.472367</td>\n",
              "      <td>0.503230</td>\n",
              "      <td>Yes</td>\n",
              "    </tr>\n",
              "    <tr>\n",
              "      <th>148701</th>\n",
              "      <td>1</td>\n",
              "      <td>1</td>\n",
              "      <td><font color = green>hey</font> bu uuuuuddy you <font color = green>really</font> suck a <font color = green>lot</font> of <font color = green>dick</font></td>\n",
              "      <td><font color = red>woah</font> bu uuuuuddy you <font color = red>candidly</font> suck a <font color = red>lots</font> of <font color = red>schlong</font></td>\n",
              "      <td>0.970442</td>\n",
              "      <td>0.838224</td>\n",
              "      <td>0.503442</td>\n",
              "      <td>No</td>\n",
              "    </tr>\n",
              "    <tr>\n",
              "      <th>77029</th>\n",
              "      <td>1</td>\n",
              "      <td>1</td>\n",
              "      <td><font color = green>show</font> yourself you <font color = green>filthy</font> son of a bitch <font color = green>quit</font> <font color = green>hiding</font> behind these wikipedians you <font color = green>fucking</font> pussy</td>\n",
              "      <td><font color = red>spectacle</font> yourself you <font color = red>putrid</font> son of a bitch <font color = red>abandon</font> <font color = red>hidden</font> behind these wikipedians you <font color = red>crap</font> pussy</td>\n",
              "      <td>0.973848</td>\n",
              "      <td>0.965635</td>\n",
              "      <td>0.516274</td>\n",
              "      <td>No</td>\n",
              "    </tr>\n",
              "    <tr>\n",
              "      <th>104680</th>\n",
              "      <td>1</td>\n",
              "      <td>1</td>\n",
              "      <td><font color = green>fucking</font> <font color = green>cunt</font> <font color = green>leave</font> my abusive <font color = green>comments</font> on <font color = green>people</font> 's pages . <font color = green>go</font> back to <font color = green>eating</font> fag semen and <font color = green>whore</font> <font color = green>feces</font> ! ! !</td>\n",
              "      <td><font color = red>sodding</font> <font color = red>biatch</font> <font color = red>permitting</font> my abusive <font color = red>opinions</font> on <font color = red>persons</font> 's pages . <font color = red>proceed</font> back to <font color = red>comer</font> fag semen and <font color = red>cunt</font> <font color = red>secretions</font> ! ! !</td>\n",
              "      <td>0.974763</td>\n",
              "      <td>0.855591</td>\n",
              "      <td>0.502871</td>\n",
              "      <td>No</td>\n",
              "    </tr>\n",
              "    <tr>\n",
              "      <th>79158</th>\n",
              "      <td>1</td>\n",
              "      <td>0</td>\n",
              "      <td><font color = green>oh</font> <font color = green>fuck</font> , not samuel johnson . <font color = green>do</font> you <font color = green>have</font> any <font color = green>idea</font> how <font color = green>ridiculous</font> , <font color = green>pathetic</font> and <font color = green>stupid</font> you are ? 184 . 170 . 131 . 16</td>\n",
              "      <td><font color = red>ouch</font> <font color = red>christ</font> , not samuel johnson . <font color = red>does</font> you <font color = red>recieve</font> any <font color = red>reflections</font> how <font color = red>nonsensical</font> , <font color = red>reprehensible</font> and <font color = red>preposterous</font> you are ? 184 . 170 . 131 . 16</td>\n",
              "      <td>0.972920</td>\n",
              "      <td>0.498630</td>\n",
              "      <td>0.550451</td>\n",
              "      <td>Yes</td>\n",
              "    </tr>\n",
              "    <tr>\n",
              "      <th>87063</th>\n",
              "      <td>1</td>\n",
              "      <td>1</td>\n",
              "      <td>u <font color = green>fat</font> penis <font color = green>listen</font> here !</td>\n",
              "      <td>u <font color = red>fatty</font> penis <font color = red>consider</font> here !</td>\n",
              "      <td>0.951389</td>\n",
              "      <td>0.914964</td>\n",
              "      <td>0.536453</td>\n",
              "      <td>No</td>\n",
              "    </tr>\n",
              "    <tr>\n",
              "      <th>142308</th>\n",
              "      <td>1</td>\n",
              "      <td>0</td>\n",
              "      <td>was that necessary ? do not <font color = green>mess</font> with me or my contributions again . thanks nigger .</td>\n",
              "      <td>was that necessary ? do not <font color = red>disarray</font> with me or my contributions again . thanks nigger .</td>\n",
              "      <td>0.764309</td>\n",
              "      <td>0.328202</td>\n",
              "      <td>0.781509</td>\n",
              "      <td>Yes</td>\n",
              "    </tr>\n",
              "    <tr>\n",
              "      <th>3397</th>\n",
              "      <td>1</td>\n",
              "      <td>0</td>\n",
              "      <td>list of royal college colombo alumni and lalith kothalawala and cossde why this person cossde does n't <font color = green>want</font> to trying to avoid or <font color = green>shy</font> to add the name of <font color = green>old</font> royalist the no one <font color = green>cheater</font> in sri lanks to the list of list of royal college colombo alumni . this cossde is a <font color = green>sick</font> paranoid puppy who wants only the colombo 7 royalist to be survived on internet . <font color = green>u</font> are an absolute <font color = green>sick</font> <font color = green>ass</font> <font color = green>hole</font> ( ) .</td>\n",
              "      <td>list of royal college colombo alumni and lalith kothalawala and cossde why this person cossde does n't <font color = red>desired</font> to trying to avoid or <font color = red>tentative</font> to add the name of <font color = red>previous</font> royalist the no one <font color = red>disingenuous</font> in sri lanks to the list of list of royal college colombo alumni . this cossde is a <font color = red>patient</font> paranoid puppy who wants only the colombo 7 royalist to be survived on internet . <font color = red>liu</font> are an absolute <font color = red>pathological</font> <font color = red>posterior</font> <font color = red>aperture</font> ( ) .</td>\n",
              "      <td>0.967500</td>\n",
              "      <td>0.493017</td>\n",
              "      <td>0.612030</td>\n",
              "      <td>Yes</td>\n",
              "    </tr>\n",
              "    <tr>\n",
              "      <th>9444</th>\n",
              "      <td>1</td>\n",
              "      <td>0</td>\n",
              "      <td>yopie yopie is very <font color = green>known</font> czech phanatic <font color = green>idiot</font> , he <font color = green>confused</font> czechia and chechnya for example . <font color = green>fuck</font> him !</td>\n",
              "      <td>yopie yopie is very <font color = red>acquainted</font> czech phanatic <font color = red>nincompoop</font> , he <font color = red>intrigued</font> czechia and chechnya for example . <font color = red>merde</font> him !</td>\n",
              "      <td>0.965978</td>\n",
              "      <td>0.422755</td>\n",
              "      <td>0.536872</td>\n",
              "      <td>Yes</td>\n",
              "    </tr>\n",
              "    <tr>\n",
              "      <th>31588</th>\n",
              "      <td>1</td>\n",
              "      <td>1</td>\n",
              "      <td>muslim lover you are <font color = green>scared</font> of islam .</td>\n",
              "      <td>muslim lover you are <font color = red>startled</font> of islam .</td>\n",
              "      <td>0.927539</td>\n",
              "      <td>0.655608</td>\n",
              "      <td>0.513673</td>\n",
              "      <td>No</td>\n",
              "    </tr>\n",
              "    <tr>\n",
              "      <th>126734</th>\n",
              "      <td>1</td>\n",
              "      <td>1</td>\n",
              "      <td>am <font color = green>going</font> to shoot you in the <font color = green>head</font> and <font color = green>laugh</font> as your brains splatter onto the <font color = green>ground</font> . am <font color = green>going</font> to <font color = green>shoot</font> you in the <font color = green>head</font> and <font color = green>laugh</font> as your brains splatter onto the <font color = green>ground</font> .</td>\n",
              "      <td>am <font color = red>will</font> to shoot you in the <font color = red>tete</font> and <font color = red>farce</font> as your brains splatter onto the <font color = red>situ</font> . am <font color = red>leave</font> to <font color = red>shooting</font> you in the <font color = red>sir</font> and <font color = red>amusing</font> as your brains splatter onto the <font color = red>topography</font> .</td>\n",
              "      <td>0.960557</td>\n",
              "      <td>0.659112</td>\n",
              "      <td>0.506891</td>\n",
              "      <td>No</td>\n",
              "    </tr>\n",
              "    <tr>\n",
              "      <th>86261</th>\n",
              "      <td>1</td>\n",
              "      <td>0</td>\n",
              "      <td>you ought to get cool , it 's not like i held up a mirror to you and called out white <font color = green>trash</font> . 19 may 2015</td>\n",
              "      <td>you ought to get cool , it 's not like i held up a mirror to you and called out white <font color = red>dustbin</font> . 19 may 2015</td>\n",
              "      <td>0.745796</td>\n",
              "      <td>0.241704</td>\n",
              "      <td>0.705345</td>\n",
              "      <td>Yes</td>\n",
              "    </tr>\n",
              "    <tr>\n",
              "      <th>144419</th>\n",
              "      <td>1</td>\n",
              "      <td>1</td>\n",
              "      <td><font color = green>wankers</font> only on wikipedia eat your <font color = green>fucking</font> <font color = green>american</font> ego</td>\n",
              "      <td><font color = red>cretins</font> only on wikipedia eat your <font color = red>accursed</font> <font color = red>usa</font> ego</td>\n",
              "      <td>0.975259</td>\n",
              "      <td>0.943088</td>\n",
              "      <td>0.524148</td>\n",
              "      <td>No</td>\n",
              "    </tr>\n",
              "    <tr>\n",
              "      <th>159423</th>\n",
              "      <td>1</td>\n",
              "      <td>1</td>\n",
              "      <td>ps you're all middle <font color = green>aged</font> <font color = green>losers</font> at <font color = green>home</font> in your parents basements living off 50 <font color = green>bucks</font> a week</td>\n",
              "      <td>ps you're all middle <font color = red>age</font> <font color = red>bells</font> at <font color = red>residence</font> in your parents basements living off 50 <font color = red>dollars</font> a week</td>\n",
              "      <td>0.966628</td>\n",
              "      <td>0.872279</td>\n",
              "      <td>0.507098</td>\n",
              "      <td>No</td>\n",
              "    </tr>\n",
              "    <tr>\n",
              "      <th>93932</th>\n",
              "      <td>1</td>\n",
              "      <td>1</td>\n",
              "      <td><font color = green>keep</font> this <font color = green>shit</font> up one <font color = green>day</font> something bad will happen to you . yes this is a <font color = green>threat</font></td>\n",
              "      <td><font color = red>continue</font> this <font color = red>christ</font> up one <font color = red>today</font> something bad will happen to you . yes this is a <font color = red>threaten</font></td>\n",
              "      <td>0.956360</td>\n",
              "      <td>0.503729</td>\n",
              "      <td>0.509843</td>\n",
              "      <td>No</td>\n",
              "    </tr>\n",
              "    <tr>\n",
              "      <th>147240</th>\n",
              "      <td>1</td>\n",
              "      <td>1</td>\n",
              "      <td>your just a <font color = green>overweight</font> beetch effff youuuu</td>\n",
              "      <td>your just a <font color = red>pudgy</font> beetch effff youuuu</td>\n",
              "      <td>0.935734</td>\n",
              "      <td>0.915541</td>\n",
              "      <td>0.507295</td>\n",
              "      <td>No</td>\n",
              "    </tr>\n",
              "    <tr>\n",
              "      <th>68628</th>\n",
              "      <td>1</td>\n",
              "      <td>1</td>\n",
              "      <td><font color = green>fuck</font> you , <font color = green>cunt</font> ! ! ! ! ! ! ! ! ! ! ! ! ! ! ! ! ! ! ! ! ! <font color = green>try</font> these important things and <font color = green>maybe</font> you <font color = green>wo</font> n't <font color = green>be</font> such a <font color = green>sucker</font> motherfucker 1 . <font color = green>learn</font> how to spell . if things remain as they are , everyone is bound to consider you to be the ignorant <font color = green>lame</font> brained cult member you are . 2 . <font color = green>revert</font> your attacks on van tucky on the <font color = green>talk</font> pages . you <font color = green>come</font> off as a vicious , vile psychopath . if you ever <font color = green>set</font> your <font color = green>cult</font> <font color = green>defending</font> ass in a court of law , the jury would see through your charade in heartbeat . 3 . stop playing good cop bad cop with your fucking retarded dahn hack forestgarden 4 . accept all korean language sources you stupid bitch ! ! how dare you try to stifle and censor articles in the name of your fucked up cult . your forestgarden bitch believes its within wiki policy to include korean language articles when reporting on favorable aspects of your bitch master . why do n't you include all the other more negative portrayals in the korean language . also , who said this itsahappyday fuckhead deserves to translate any korean ? this should all be disputed , you fucking racist , neo nazi reject ? 5 . stop using the word cynical to describe your enemies . you come off even more retarded than your ilchee bitch master . your philosophical maturity is less than that of a first grader . the world is cynical . those who do n't believe in dahn are cynical . i ca n't wait until south park makes an episode about your bitch cult . 6 . are you fucking insane ? korea is the center of the universe ? korea as a cultural hub ? korea the place where the next messiah appears ? you dahn people never cease to amaze when it comes to your thought processes . korea is not what your ilchee bitch believes it to be . think about it retard the fucking nation of palau has more of a right to talk about religious heritage than the fucking hermit kingdom . how can you be so retarded , that you choose a korean cult ? if you chose a chinese or indian one , at least it would show you have some portion of a brain . coming to korea and joining a korean cult with korea centric views is more retarded than travelling to antartica in search of good coffee while visiting columbia in search of ice and snow . 7 . one more time the philosophical underpinnings of your shit cult are so flimsy i must question your intelligence . 8 . nicola cola . . . what kind of bitch ass name is that ? what is wrong with you ? and you wonder why you need to join a fucked up cult to find friendship and loving . dumb fuck ! ! ! ! ! !</td>\n",
              "      <td><font color = red>sodding</font> you , <font color = red>twat</font> ! ! ! ! ! ! ! ! ! ! ! ! ! ! ! ! ! ! ! ! ! <font color = red>trying</font> these important things and <font color = red>possibly</font> you <font color = red>adj</font> n't <font color = red>pose</font> such a <font color = red>dumbass</font> motherfucker 1 . <font color = red>teach</font> how to spell . if things remain as they are , everyone is bound to consider you to be the ignorant <font color = red>void</font> brained cult member you are . 2 . <font color = red>homecoming</font> your attacks on van tucky on the <font color = red>discussion</font> pages . you <font color = red>reach</font> off as a vicious , vile psychopath . if you ever <font color = red>establishes</font> your <font color = red>religions</font> <font color = red>vindicator</font> ass in a court of law , the jury would see through your charade in heartbeat . 3 . stop</td>\n",
              "      <td>0.976431</td>\n",
              "      <td>0.962195</td>\n",
              "      <td>0.501986</td>\n",
              "      <td>No</td>\n",
              "    </tr>\n",
              "    <tr>\n",
              "      <th>116396</th>\n",
              "      <td>1</td>\n",
              "      <td>0</td>\n",
              "      <td>why the <font color = green>fuck</font> is this <font color = green>article</font> protected ?</td>\n",
              "      <td>why the <font color = red>merde</font> is this <font color = red>articles</font> protected ?</td>\n",
              "      <td>0.957828</td>\n",
              "      <td>0.459035</td>\n",
              "      <td>0.504812</td>\n",
              "      <td>Yes</td>\n",
              "    </tr>\n",
              "    <tr>\n",
              "      <th>77061</th>\n",
              "      <td>1</td>\n",
              "      <td>1</td>\n",
              "      <td>megan <font color = green>annoying</font> <font color = green>person</font> who <font color = green>freaks</font> out about a <font color = green>piece</font> of dirt <font color = green>getting</font> on her and can't stand anything that smells ! ! ! ! ! ! ! ! ! ! ! ! !</td>\n",
              "      <td>megan <font color = red>distracting</font> <font color = red>persons</font> who <font color = red>buffoons</font> out about a <font color = red>pieces</font> of dirt <font color = red>obtaining</font> on her and can't stand anything that smells ! ! ! ! ! ! ! ! ! ! ! ! !</td>\n",
              "      <td>0.957246</td>\n",
              "      <td>0.838375</td>\n",
              "      <td>0.504452</td>\n",
              "      <td>No</td>\n",
              "    </tr>\n",
              "    <tr>\n",
              "      <th>39627</th>\n",
              "      <td>1</td>\n",
              "      <td>0</td>\n",
              "      <td>um no their just <font color = green>idiots</font> like you , and <font color = green>stop</font> deleting your deletion proposal before i report this ! elven6</td>\n",
              "      <td>um no their just <font color = red>simpletons</font> like you , and <font color = red>halted</font> deleting your deletion proposal before i report this ! elven6</td>\n",
              "      <td>0.955385</td>\n",
              "      <td>0.464227</td>\n",
              "      <td>0.735655</td>\n",
              "      <td>Yes</td>\n",
              "    </tr>\n",
              "    <tr>\n",
              "      <th>55771</th>\n",
              "      <td>1</td>\n",
              "      <td>0</td>\n",
              "      <td>relevancy are you from new york ? are you well steeped in the history and contemporary culture of hardcore music ? in my opinion , you should probably stop hanging around your computer all day waiting to make chagnes to wikipedia articles . lighten up . get a hobby . i politely request that you step off my <font color = green>balls</font> .</td>\n",
              "      <td>relevancy are you from new york ? are you well steeped in the history and contemporary culture of hardcore music ? in my opinion , you should probably stop hanging around your computer all day waiting to make chagnes to wikipedia articles . lighten up . get a hobby . i politely request that you step off my <font color = red>pitches</font> .</td>\n",
              "      <td>0.861652</td>\n",
              "      <td>0.440900</td>\n",
              "      <td>0.828185</td>\n",
              "      <td>Yes</td>\n",
              "    </tr>\n",
              "    <tr>\n",
              "      <th>132627</th>\n",
              "      <td>0</td>\n",
              "      <td>1</td>\n",
              "      <td>pile of poop , and not <font color = green>particularly</font> constructive <font color = green>poop</font> at that</td>\n",
              "      <td>pile of poop , and not <font color = red>supremely</font> constructive <font color = red>poo</font> at that</td>\n",
              "      <td>0.888200</td>\n",
              "      <td>0.181153</td>\n",
              "      <td>0.762506</td>\n",
              "      <td>Yes</td>\n",
              "    </tr>\n",
              "    <tr>\n",
              "      <th>55393</th>\n",
              "      <td>1</td>\n",
              "      <td>0</td>\n",
              "      <td>oh this is such <font color = green>fucking</font> bullcrap . now someone made a sneak edit changing the referenced material ( 600 soldiers ) to the unreferenced at least 600 without ever replying here . <font color = green>god</font> . <font color = green>pathetic</font> , wrong and sad . 78 . 68 . 210 . 173</td>\n",
              "      <td>oh this is such <font color = red>jesus</font> bullcrap . now someone made a sneak edit changing the referenced material ( 600 soldiers ) to the unreferenced at least 600 without ever replying here . <font color = red>seigneur</font> . <font color = red>insubstantial</font> , wrong and sad . 78 . 68 . 210 . 173</td>\n",
              "      <td>0.965501</td>\n",
              "      <td>0.489399</td>\n",
              "      <td>0.623745</td>\n",
              "      <td>Yes</td>\n",
              "    </tr>\n",
              "    <tr>\n",
              "      <th>100555</th>\n",
              "      <td>1</td>\n",
              "      <td>0</td>\n",
              "      <td>i like to <font color = green>attack</font> f ing aliens when they are sleeping when they are not awake in the middle of the f ing nifht</td>\n",
              "      <td>i like to <font color = red>bombardment</font> f ing aliens when they are sleeping when they are not awake in the middle of the f ing nifht</td>\n",
              "      <td>0.790670</td>\n",
              "      <td>0.490832</td>\n",
              "      <td>0.671339</td>\n",
              "      <td>Yes</td>\n",
              "    </tr>\n",
              "    <tr>\n",
              "      <th>9286</th>\n",
              "      <td>1</td>\n",
              "      <td>0</td>\n",
              "      <td>hamilton is the <font color = green>asshole</font> of canada . <font color = green>burn</font> yourself with the city . kthxbye</td>\n",
              "      <td>hamilton is the <font color = red>dunce</font> of canada . <font color = red>combust</font> yourself with the city . kthxbye</td>\n",
              "      <td>0.975394</td>\n",
              "      <td>0.234470</td>\n",
              "      <td>0.628286</td>\n",
              "      <td>Yes</td>\n",
              "    </tr>\n",
              "    <tr>\n",
              "      <th>130538</th>\n",
              "      <td>1</td>\n",
              "      <td>1</td>\n",
              "      <td><font color = green>ah</font> shut the <font color = green>fuck</font> up he started it , he <font color = green>put</font> that on my <font color = green>page</font> first . but <font color = green>did</font> you warn him ? no , <font color = green>because</font> you're a <font color = green>prick</font> . now you , klptyzm and johnnyfog please <font color = green>die</font> .</td>\n",
              "      <td><font color = red>woah</font> shut the <font color = red>christ</font> up he started it , he <font color = red>placed</font> that on my <font color = red>pages</font> first . but <font color = red>suis</font> you warn him ? no , <font color = red>since</font> you're a <font color = red>dunce</font> . now you , klptyzm and johnnyfog please <font color = red>decedent</font> .</td>\n",
              "      <td>0.971365</td>\n",
              "      <td>0.581058</td>\n",
              "      <td>0.509626</td>\n",
              "      <td>No</td>\n",
              "    </tr>\n",
              "    <tr>\n",
              "      <th>96949</th>\n",
              "      <td>1</td>\n",
              "      <td>1</td>\n",
              "      <td><font color = green>dear</font> snigbrook your days are numbered , the <font color = green>stabbing</font> knife is <font color = green>headed</font> your way ! <font color = green>be</font> prepared for <font color = green>horrible</font> <font color = green>horrible</font> <font color = green>things</font> ! ! ! <font color = green>p</font> . s you are a <font color = green>fucking</font> aspie <font color = green>hahaha</font></td>\n",
              "      <td><font color = red>sweetheart</font> snigbrook your days are numbered , the <font color = red>knives</font> knife is <font color = red>oriented</font> your way ! <font color = red>se</font> prepared for <font color = red>dreadful</font> <font color = red>horrendous</font> <font color = red>topic</font> ! ! ! <font color = red>n</font> . s you are a <font color = red>christ</font> aspie <font color = red>ofcourse</font></td>\n",
              "      <td>0.956317</td>\n",
              "      <td>0.612823</td>\n",
              "      <td>0.504604</td>\n",
              "      <td>No</td>\n",
              "    </tr>\n",
              "    <tr>\n",
              "      <th>108937</th>\n",
              "      <td>1</td>\n",
              "      <td>1</td>\n",
              "      <td><font color = green>fuck</font> with wikipedia . doosh <font color = green>bags</font></td>\n",
              "      <td><font color = red>shafted</font> with wikipedia . doosh <font color = red>sacs</font></td>\n",
              "      <td>0.968942</td>\n",
              "      <td>0.547014</td>\n",
              "      <td>0.521475</td>\n",
              "      <td>No</td>\n",
              "    </tr>\n",
              "    <tr>\n",
              "      <th>47074</th>\n",
              "      <td>0</td>\n",
              "      <td>1</td>\n",
              "      <td>his <font color = green>edits</font> do suck , which is why i reverted them over and over again . not one edit contributed positively to the article , and most served the needs of the crusaders . in any <font color = green>case</font> , i 've pointed out that my comment about him sucking was reverted by me <font color = green>immediately</font> . it is my practice to write honestly , then go back and edit myself before <font color = green>submitting</font> . in this , i missed one spot and had to edit it after <font color = green>submitting</font> , as i <font color = green>mentioned</font> in my edit comment . since nobody saw the <font color = green>original</font> unless they dug through the history and since nobody ever needed to warn me about it , your excuses are nonsense . you just wanted to silence me so i could n't defend myself from the ideologically motivated 3rr violation report . even before you got a badge , you have made it a practice to litter my user page with spurious warnings , which has earned you the honor of being the only person whose text i erase on sight from my talk page . you are a stalker . since you are the guilty party , your response here is not sufficient . i would like an objective third party to respond regarding this abusive block by you .</td>\n",
              "      <td>his <font color = red>revise</font> do suck , which is why i reverted them over and over again . not one edit contributed positively to the article , and most served the needs of the crusaders . in any <font color = red>instance</font> , i 've pointed out that my comment about him sucking was reverted by me <font color = red>immediatly</font> . it is my practice to write honestly , then go back and edit myself before <font color = red>submits</font> . in this , i missed one spot and had to edit it after <font color = red>submissions</font> , as i <font color = red>portrayed</font> in my edit comment . since nobody saw the <font color = red>primitive</font> unless they dug through the history and since nobody ever needed to warn me about it , your excuses are nonsense</td>\n",
              "      <td>0.821706</td>\n",
              "      <td>0.477039</td>\n",
              "      <td>0.539575</td>\n",
              "      <td>Yes</td>\n",
              "    </tr>\n",
              "    <tr>\n",
              "      <th>96890</th>\n",
              "      <td>1</td>\n",
              "      <td>1</td>\n",
              "      <td><font color = green>guys</font> like you annoy me <font color = green>so</font> <font color = green>much</font> i <font color = green>fucking</font> <font color = green>hate</font> <font color = green>guys</font> <font color = green>like</font> you i <font color = green>do</font> n't <font color = green>give</font> a <font color = green>fuck</font> if they <font color = green>close</font> my <font color = green>account</font> i just <font color = green>hate</font> guys like you you <font color = green>stupid</font> <font color = green>motherfucker</font> googdbye</td>\n",
              "      <td><font color = red>dudes</font> like you annoy me <font color = red>again</font> <font color = red>numerous</font> i <font color = red>jeez</font> <font color = red>antipathy</font> <font color = red>types</font> <font color = red>enjoyed</font> you i <font color = red>have</font> n't <font color = red>confer</font> a <font color = red>merde</font> if they <font color = red>close</font> my <font color = red>compte</font> i just <font color = red>disliked</font> guys like you you <font color = red>nonsensical</font> <font color = red>dunce</font> googdbye</td>\n",
              "      <td>0.978074</td>\n",
              "      <td>0.870634</td>\n",
              "      <td>0.511977</td>\n",
              "      <td>No</td>\n",
              "    </tr>\n",
              "    <tr>\n",
              "      <th>41933</th>\n",
              "      <td>1</td>\n",
              "      <td>0</td>\n",
              "      <td>i did notice the polka <font color = green>dick</font> of course . beautiful . send me any pat comics you deem worthy , as i love reading them .</td>\n",
              "      <td>i did notice the polka <font color = red>schlong</font> of course . beautiful . send me any pat comics you deem worthy , as i love reading them .</td>\n",
              "      <td>0.531030</td>\n",
              "      <td>0.042306</td>\n",
              "      <td>0.815963</td>\n",
              "      <td>Yes</td>\n",
              "    </tr>\n",
              "    <tr>\n",
              "      <th>153078</th>\n",
              "      <td>1</td>\n",
              "      <td>0</td>\n",
              "      <td>i see you have been <font color = green>brainwashed</font> by the muzzies . you <font color = green>leftist</font> wikipedia <font color = green>scum</font> are an insignificant <font color = green>fringe</font> <font color = green>group</font> that will <font color = green>soon</font> <font color = green>be</font> <font color = green>exterminated</font> .</td>\n",
              "      <td>i see you have been <font color = red>benighted</font> by the muzzies . you <font color = red>leftists</font> wikipedia <font color = red>debris</font> are an insignificant <font color = red>fringes</font> <font color = red>panel</font> that will <font color = red>shortly</font> <font color = red>arrive</font> <font color = red>erased</font> .</td>\n",
              "      <td>0.961629</td>\n",
              "      <td>0.338473</td>\n",
              "      <td>0.500726</td>\n",
              "      <td>Yes</td>\n",
              "    </tr>\n",
              "    <tr>\n",
              "      <th>154298</th>\n",
              "      <td>1</td>\n",
              "      <td>0</td>\n",
              "      <td>an <font color = green>utter</font> fabrication and <font color = green>ridiculous</font> <font color = green>nonsense</font> ! i did nothing but to <font color = green>express</font> my <font color = green>own</font> opinion on a <font color = green>page</font> <font color = green>designed</font> for that <font color = green>purpose</font> . nobody i <font color = green>repeat</font> nobody <font color = green>tells</font> me what to <font color = green>think</font> or to <font color = green>say</font> . i <font color = green>have</font> nothing but contempt for black kite . he is nothing but a bully a <font color = green>coward</font> and a <font color = green>petty</font> <font color = green>tyrant</font> who <font color = green>tramples</font> on the <font color = green>integrity</font> of <font color = green>wikipedia</font> in <font color = green>pursuit</font> of his <font color = green>own</font> <font color = green>agenda</font> of <font color = green>stifling</font> the <font color = green>opinions</font> of everyone who disagree with him . kermugin .</td>\n",
              "      <td>an <font color = red>overall</font> fabrication and <font color = red>fatuous</font> <font color = red>counterintuitive</font> ! i did nothing but to <font color = red>expresses</font> my <font color = red>individual</font> opinion on a <font color = red>homepage</font> <font color = red>constructed</font> for that <font color = red>oriented</font> . nobody i <font color = red>echo</font> nobody <font color = red>telling</font> me what to <font color = red>contemplation</font> or to <font color = red>stated</font> . i <font color = red>possesses</font> nothing but contempt for black kite . he is nothing but a bully a <font color = red>lax</font> and a <font color = red>inane</font> <font color = red>oppression</font> who <font color = red>resents</font> on the <font color = red>authenticity</font> of <font color = red>wiki</font> in <font color = red>sequel</font> of his <font color = red>individually</font> <font color = red>scheduling</font> of <font color = red>suppression</font> the <font color = red>noticing</font> of everyone who disagree with him . kermugin .</td>\n",
              "      <td>0.957768</td>\n",
              "      <td>0.498208</td>\n",
              "      <td>0.505645</td>\n",
              "      <td>Yes</td>\n",
              "    </tr>\n",
              "    <tr>\n",
              "      <th>19827</th>\n",
              "      <td>1</td>\n",
              "      <td>0</td>\n",
              "      <td>you <font color = green>hypocrite</font> either you are an illiterate person or your <font color = green>brain</font> is half <font color = green>cooked</font> . i am not assuming ownership over anything and neither am i <font color = green>engaging</font> in edit <font color = green>wars</font> . if anything , it is you retards who keep acting like a pest by ruining my <font color = green>article</font> . if you wish to contribute links etc . then <font color = green>go</font> ahead . what i <font color = green>have</font> a problem with , is not <font color = green>people</font> contributing to my article , but <font color = green>people</font> <font color = green>deleting</font> <font color = green>entire</font> swathes of my writing . you <font color = green>guys</font> <font color = green>keep</font> deleting entire paragraphs from my article without any <font color = green>reason</font> . you are <font color = green>making</font> my <font color = green>article</font> empty , rudimentary and meaningless . people look in wikipedia to read biographies . not to simply look at a list of websites . eeverybody has access to google and they can obtain access to websites themselves . what i am trying to do is to tell people about the life of rajbeer singh . you want to block me ? go ahead i will simply open up a new account . and if you block my ip address i will simply log in from a different pc .</td>\n",
              "      <td>you <font color = red>hypocrites</font> either you are an illiterate person or your <font color = red>draining</font> is half <font color = red>baked</font> . i am not assuming ownership over anything and neither am i <font color = red>participated</font> in edit <font color = red>wartime</font> . if anything , it is you retards who keep acting like a pest by ruining my <font color = red>item</font> . if you wish to contribute links etc . then <font color = red>proceed</font> ahead . what i <font color = red>received</font> a problem with , is not <font color = red>persons</font> contributing to my article , but <font color = red>persons</font> <font color = red>clears</font> <font color = red>overall</font> swathes of my writing . you <font color = red>companions</font> <font color = red>preserved</font> deleting entire paragraphs from my article without any <font color = red>motifs</font> . you are <font color = red>take</font> my <font color = red>section</font> empty , rudimentary and meaningless . people look in wikipedia to read biographies . not to simply</td>\n",
              "      <td>0.945617</td>\n",
              "      <td>0.482072</td>\n",
              "      <td>0.511756</td>\n",
              "      <td>Yes</td>\n",
              "    </tr>\n",
              "    <tr>\n",
              "      <th>40921</th>\n",
              "      <td>1</td>\n",
              "      <td>1</td>\n",
              "      <td>i <font color = green>love</font> sucking cock ! <font color = green>give</font> me <font color = green>cum</font> or <font color = green>give</font> me <font color = green>death</font> !</td>\n",
              "      <td>i <font color = red>adore</font> sucking cock ! <font color = red>let</font> me <font color = red>accumulate</font> or <font color = red>donner</font> me <font color = red>slain</font> !</td>\n",
              "      <td>0.972819</td>\n",
              "      <td>0.914227</td>\n",
              "      <td>0.501508</td>\n",
              "      <td>No</td>\n",
              "    </tr>\n",
              "    <tr>\n",
              "      <th>3919</th>\n",
              "      <td>1</td>\n",
              "      <td>1</td>\n",
              "      <td>you are a <font color = green>mindless</font> <font color = green>faggot</font> pig please <font color = green>god</font> <font color = green>burn</font> this <font color = green>fucking</font> maggot to <font color = green>death</font> in <font color = green>hell</font> you <font color = green>have</font> <font color = green>offended</font> my <font color = green>senses</font> you mindless self <font color = green>important</font> <font color = green>fucking</font> pest the god that you hate <font color = green>hates</font> you</td>\n",
              "      <td>you are a <font color = red>imprudent</font> <font color = red>queers</font> pig please <font color = red>lord</font> <font color = red>incineration</font> this <font color = red>fuck</font> maggot to <font color = red>slain</font> in <font color = red>fucked</font> you <font color = red>got</font> <font color = red>derision</font> my <font color = red>spirits</font> you mindless self <font color = red>meaningful</font> <font color = red>fuck</font> pest the god that you hate <font color = red>hate</font> you</td>\n",
              "      <td>0.972201</td>\n",
              "      <td>0.926494</td>\n",
              "      <td>0.503296</td>\n",
              "      <td>No</td>\n",
              "    </tr>\n",
              "    <tr>\n",
              "      <th>83676</th>\n",
              "      <td>1</td>\n",
              "      <td>1</td>\n",
              "      <td>talk <font color = green>hey</font> <font color = green>asshole</font> <font color = green>will</font> you <font color = green>go</font> <font color = green>fuck</font> your dead <font color = green>mother</font> if you're <font color = green>going</font> to <font color = green>spread</font> libel about me as i am guessing you're carl <font color = green>n</font> . brown . who are you ?</td>\n",
              "      <td>talk <font color = red>hi</font> <font color = red>gomer</font> <font color = red>aspiration</font> you <font color = red>proceed</font> <font color = red>merde</font> your dead <font color = red>mum</font> if you're <font color = red>depart</font> to <font color = red>circulating</font> libel about me as i am guessing you're carl <font color = red>nth</font> . brown . who are you ?</td>\n",
              "      <td>0.963950</td>\n",
              "      <td>0.599082</td>\n",
              "      <td>0.500808</td>\n",
              "      <td>No</td>\n",
              "    </tr>\n",
              "    <tr>\n",
              "      <th>53488</th>\n",
              "      <td>1</td>\n",
              "      <td>0</td>\n",
              "      <td>really what the <font color = green>fuck</font> ? the paradise edition first i added btd the paradise edition and its bonuses because there was n't a article or section about it . status came and deleted it saying seperate articles exist for a reason . i was like okay kinda right , let 's create a page to show . because for example rihanna 's gggb reloaded had its page only having 3 new tracks . so i created because that section is being deleted although releases which are on exactly the same format ( album ep 2cd rerelease ) gaga 's and ke ha 's the fame monster and animal cannibal having them on original albums the fame . okay i knew it was n't enough but i expected others to contribute . however , although a page reviewer , zeus reviewed the page and did n't touch , someone came and deleted the page . now please someone tell me what to do because i really start to beg of this damn wikipedia games .</td>\n",
              "      <td>really what the <font color = red>merde</font> ? the paradise edition first i added btd the paradise edition and its bonuses because there was n't a article or section about it . status came and deleted it saying seperate articles exist for a reason . i was like okay kinda right , let 's create a page to show . because for example rihanna 's gggb reloaded had its page only having 3 new tracks . so i created because that section is being deleted although releases which are on exactly the same format ( album ep 2cd rerelease ) gaga 's and ke ha 's the fame monster and animal cannibal having them on original albums the fame . okay i knew</td>\n",
              "      <td>0.913793</td>\n",
              "      <td>0.172662</td>\n",
              "      <td>0.876107</td>\n",
              "      <td>Yes</td>\n",
              "    </tr>\n",
              "    <tr>\n",
              "      <th>91873</th>\n",
              "      <td>1</td>\n",
              "      <td>1</td>\n",
              "      <td>but nigga you <font color = green>gay</font> <font color = green>nigga</font> it 's my userpage <font color = green>thing</font> . <font color = green>fuck</font> whites . nigga <font color = green>ass</font></td>\n",
              "      <td>but nigga you <font color = red>gai</font> <font color = red>noir</font> it 's my userpage <font color = red>anything</font> . <font color = red>shite</font> whites . nigga <font color = red>hiney</font></td>\n",
              "      <td>0.973302</td>\n",
              "      <td>0.929704</td>\n",
              "      <td>0.543390</td>\n",
              "      <td>No</td>\n",
              "    </tr>\n",
              "    <tr>\n",
              "      <th>26755</th>\n",
              "      <td>1</td>\n",
              "      <td>0</td>\n",
              "      <td>excuse me ? after seeing <font color = green>shit</font> like this i expected you to be some throwaway sock <font color = green>puppet</font> . from an experienced editor it 's just <font color = green>shameful</font> . that was a <font color = green>blatant</font> blp violation and you know it . attributing a call for genocide to a living person without citing a source is waaaaay off base . <font color = green>do</font> n't <font color = green>do</font> it again .</td>\n",
              "      <td>excuse me ? after seeing <font color = red>accursed</font> like this i expected you to be some throwaway sock <font color = red>stooges</font> . from an experienced editor it 's just <font color = red>unfortunate</font> . that was a <font color = red>notable</font> blp violation and you know it . attributing a call for genocide to a living person without citing a source is waaaaay off base . <font color = red>accomplished</font> n't <font color = red>played</font> it again .</td>\n",
              "      <td>0.961938</td>\n",
              "      <td>0.466508</td>\n",
              "      <td>0.530406</td>\n",
              "      <td>Yes</td>\n",
              "    </tr>\n",
              "    <tr>\n",
              "      <th>83424</th>\n",
              "      <td>0</td>\n",
              "      <td>1</td>\n",
              "      <td>um , the ethnic hatred was largely due to the <font color = green>han</font> <font color = green>chinese</font> or even minority <font color = green>hui</font> <font color = green>muslims</font> being more successful than <font color = green>tibetans</font> are . that 's what they complained about . they did not complain about how some country invaded them almost years ago . that 's why it was the <font color = green>poorest</font> of the <font color = green>tibetans</font> rioting , not the middle class . the two western reporters who <font color = green>interviewed</font> residents both came to that conclusion . maybe you should do more <font color = green>research</font> on the topic before speaking ? i know you're pro <font color = green>tibet</font> and probably buddhist , you're really giving pro tibet people a bad name with this biased garbage . 216 . 252 . 71 . 154</td>\n",
              "      <td>um , the ethnic hatred was largely due to the <font color = red>corrie</font> <font color = red>rmb</font> or even minority <font color = red>huh</font> <font color = red>infidels</font> being more successful than <font color = red>tenzin</font> are . that 's what they complained about . they did not complain about how some country invaded them almost years ago . that 's why it was the <font color = red>worse</font> of the <font color = red>tibet</font> rioting , not the middle class . the two western reporters who <font color = red>doubted</font> residents both came to that conclusion . maybe you should do more <font color = red>probed</font> on the topic before speaking ? i know you're pro <font color = red>rinpoche</font> and probably buddhist , you're really giving pro tibet people a bad name with this biased garbage . 216 . 252 . 71 . 154</td>\n",
              "      <td>0.937850</td>\n",
              "      <td>0.461596</td>\n",
              "      <td>0.550136</td>\n",
              "      <td>Yes</td>\n",
              "    </tr>\n",
              "    <tr>\n",
              "      <th>2228</th>\n",
              "      <td>1</td>\n",
              "      <td>0</td>\n",
              "      <td>scope please see the link above , as i'm sure you are a <font color = green>fucking</font> spastic</td>\n",
              "      <td>scope please see the link above , as i'm sure you are a <font color = red>merde</font> spastic</td>\n",
              "      <td>0.925511</td>\n",
              "      <td>0.091904</td>\n",
              "      <td>0.785147</td>\n",
              "      <td>Yes</td>\n",
              "    </tr>\n",
              "    <tr>\n",
              "      <th>116653</th>\n",
              "      <td>1</td>\n",
              "      <td>0</td>\n",
              "      <td>then this is n't an encyclopedia , so nobody should ever call it that . if wiki is n't based off of truth , it 's no better than <font color = green>tabloid</font> magazines , and that 's the truth . <font color = green>so</font> <font color = green>fuck</font> this <font color = green>website</font> , and <font color = green>fuck</font> all of you . 71 . 59 . 189 . 46</td>\n",
              "      <td>then this is n't an encyclopedia , so nobody should ever call it that . if wiki is n't based off of truth , it 's no better than <font color = red>journalistic</font> magazines , and that 's the truth . <font color = red>alike</font> <font color = red>merde</font> this <font color = red>www</font> , and <font color = red>gorram</font> all of you . 71 . 59 . 189 . 46</td>\n",
              "      <td>0.959826</td>\n",
              "      <td>0.345169</td>\n",
              "      <td>0.728613</td>\n",
              "      <td>Yes</td>\n",
              "    </tr>\n",
              "    <tr>\n",
              "      <th>155766</th>\n",
              "      <td>1</td>\n",
              "      <td>1</td>\n",
              "      <td>u <font color = green>mad</font> bro kumat me <font color = green>bro</font></td>\n",
              "      <td>u <font color = red>angered</font> bro kumat me <font color = red>ide</font></td>\n",
              "      <td>0.919822</td>\n",
              "      <td>0.688297</td>\n",
              "      <td>0.503289</td>\n",
              "      <td>No</td>\n",
              "    </tr>\n",
              "    <tr>\n",
              "      <th>51645</th>\n",
              "      <td>1</td>\n",
              "      <td>0</td>\n",
              "      <td>hm , your edit deleted the explanation of where i got the ssn from . then you note that i had more than the birthdate , as if that were not something i already told you . also , it is not illegal to inquire into someone 's claimed degree . i think i see now why you guys have it in for bullshido . we call <font color = green>bullshit</font> you are all about <font color = green>bullshit</font> not called .</td>\n",
              "      <td>hm , your edit deleted the explanation of where i got the ssn from . then you note that i had more than the birthdate , as if that were not something i already told you . also , it is not illegal to inquire into someone 's claimed degree . i think i see now why you guys have it in for bullshido . we call <font color = red>bullcrap</font> you are all about <font color = red>flan</font> not called .</td>\n",
              "      <td>0.937544</td>\n",
              "      <td>0.291943</td>\n",
              "      <td>0.528880</td>\n",
              "      <td>Yes</td>\n",
              "    </tr>\n",
              "    <tr>\n",
              "      <th>23243</th>\n",
              "      <td>1</td>\n",
              "      <td>1</td>\n",
              "      <td>how <font color = green>dare</font> you <font color = green>accuse</font> the author of the eric goertz article of wanting worldwide <font color = green>fame</font> ? <font color = green>fucking</font> asshole . i <font color = green>wish</font> there was still a hockey strike you <font color = green>fuckhead</font> . go ahead try to <font color = green>get</font> my <font color = green>shit</font> <font color = green>deleted</font> wikipedia is just a <font color = green>bunch</font> of <font color = green>old</font> fucks <font color = green>trying</font> to <font color = green>act</font> scholarly about <font color = green>matters</font> they <font color = green>know</font> nothing about , how the <font color = green>fuck</font> would you <font color = green>have</font> <font color = green>heard</font> this <font color = green>story</font> any other <font color = green>way</font> except by me <font color = green>using</font> wikipedia ? that 's what i <font color = green>thought</font> . i <font color = green>hope</font> you <font color = green>do</font> n't <font color = green>get</font> <font color = green>palsy</font> <font color = green>sitting</font> on your computer <font color = green>salivating</font> over <font color = green>women</font> 's nhl photos all day . go ahead and make my day !</td>\n",
              "      <td>how <font color = red>admire</font> you <font color = red>adjudged</font> the author of the eric goertz article of wanting worldwide <font color = red>renowned</font> ? <font color = red>fuckin</font> asshole . i <font color = red>hope</font> there was still a hockey strike you <font color = red>fuckface</font> . go ahead try to <font color = red>reaching</font> my <font color = red>fucked</font> <font color = red>remove</font> wikipedia is just a <font color = red>strips</font> of <font color = red>previous</font> fucks <font color = red>searching</font> to <font color = red>activities</font> scholarly about <font color = red>case</font> they <font color = red>knew</font> nothing about , how the <font color = red>kissed</font> would you <font color = red>enjoy</font> <font color = red>learnt</font> this <font color = red>anecdote</font> any other <font color = red>trajectories</font> except by me <font color = red>consumption</font> wikipedia ? that 's what i <font color = red>felt</font> . i <font color = red>waited</font> you <font color = red>could</font> n't <font color = red>find</font> <font color = red>dilemma</font> <font color = red>seated</font> on your computer <font color = red>hankering</font> over <font color = red>giris</font> 's nhl photos all day . go ahead and make my day !</td>\n",
              "      <td>0.970659</td>\n",
              "      <td>0.802092</td>\n",
              "      <td>0.501268</td>\n",
              "      <td>No</td>\n",
              "    </tr>\n",
              "    <tr>\n",
              "      <th>43685</th>\n",
              "      <td>1</td>\n",
              "      <td>1</td>\n",
              "      <td>'m a <font color = green>lame</font> <font color = green>ass</font> admin with no <font color = green>life</font></td>\n",
              "      <td>'m a <font color = red>pathetic</font> <font color = red>hind</font> admin with no <font color = red>existence</font></td>\n",
              "      <td>0.962005</td>\n",
              "      <td>0.957462</td>\n",
              "      <td>0.521056</td>\n",
              "      <td>No</td>\n",
              "    </tr>\n",
              "    <tr>\n",
              "      <th>45343</th>\n",
              "      <td>1</td>\n",
              "      <td>1</td>\n",
              "      <td><font color = green>hey</font> , quit being <font color = green>jerks</font> ! why are you deleting my posts ! ! ? what is the <font color = green>highest</font> level warning possible ? ?</td>\n",
              "      <td><font color = red>greetings</font> , quit being <font color = red>simpletons</font> ! why are you deleting my posts ! ! ? what is the <font color = red>upstairs</font> level warning possible ? ?</td>\n",
              "      <td>0.931443</td>\n",
              "      <td>0.560477</td>\n",
              "      <td>0.502184</td>\n",
              "      <td>No</td>\n",
              "    </tr>\n",
              "    <tr>\n",
              "      <th>158951</th>\n",
              "      <td>1</td>\n",
              "      <td>1</td>\n",
              "      <td><font color = green>fuck</font> you barack obama is a muslim , he sucks <font color = green>ass</font> ! ! ! ! ! ! ! ! ! ( )</td>\n",
              "      <td><font color = red>kiss</font> you barack obama is a muslim , he sucks <font color = red>hiney</font> ! ! ! ! ! ! ! ! ! ( )</td>\n",
              "      <td>0.967421</td>\n",
              "      <td>0.905127</td>\n",
              "      <td>0.547301</td>\n",
              "      <td>No</td>\n",
              "    </tr>\n",
              "    <tr>\n",
              "      <th>78097</th>\n",
              "      <td>0</td>\n",
              "      <td>1</td>\n",
              "      <td>its my <font color = green>talk</font> page . hello can you not <font color = green>see</font> that . i am shelby young and i want my name off this website and per jim wales i can remove both the ip <font color = green>address</font> and my talk page so gtfo . why are all my <font color = green>discussions</font> called vandilism , but yours aren't , gtfo .</td>\n",
              "      <td>its my <font color = red>chitchat</font> page . hello can you not <font color = red>stare</font> that . i am shelby young and i want my name off this website and per jim wales i can remove both the ip <font color = red>deals</font> and my talk page so gtfo . why are all my <font color = red>schmooze</font> called vandilism , but yours aren't , gtfo .</td>\n",
              "      <td>0.921464</td>\n",
              "      <td>0.443771</td>\n",
              "      <td>0.537423</td>\n",
              "      <td>Yes</td>\n",
              "    </tr>\n",
              "    <tr>\n",
              "      <th>13708</th>\n",
              "      <td>1</td>\n",
              "      <td>1</td>\n",
              "      <td>thinkbich mother <font color = green>fuckin</font> <font color = green>asshole</font></td>\n",
              "      <td>thinkbich mother <font color = red>freakin</font> <font color = red>bitch</font></td>\n",
              "      <td>0.973481</td>\n",
              "      <td>0.969102</td>\n",
              "      <td>0.514839</td>\n",
              "      <td>No</td>\n",
              "    </tr>\n",
              "    <tr>\n",
              "      <th>44578</th>\n",
              "      <td>1</td>\n",
              "      <td>0</td>\n",
              "      <td>block im not being blocked . . . nanana <font color = green>booboo</font> <font color = green>block</font> me . . . . . i <font color = green>dare</font> ya i can just restart my rotur and start again ! i will <font color = green>sue</font></td>\n",
              "      <td>block im not being blocked . . . nanana <font color = red>owie</font> <font color = red>blocking</font> me . . . . . i <font color = red>wouldnt</font> ya i can just restart my rotur and start again ! i will <font color = red>prosecuting</font></td>\n",
              "      <td>0.748483</td>\n",
              "      <td>0.492028</td>\n",
              "      <td>0.505182</td>\n",
              "      <td>Yes</td>\n",
              "    </tr>\n",
              "    <tr>\n",
              "      <th>6776</th>\n",
              "      <td>1</td>\n",
              "      <td>0</td>\n",
              "      <td>blocking threat on 2012 page do they get the same warning or is this more one sided , <font color = green>hypocritical</font> support for pod 's control trips , bullying and verbal abusive attacks ? he really is <font color = green>fucking</font> up the 2012 page by ignoring expert assistance . m 67 . 164 . 145 . 1</td>\n",
              "      <td>blocking threat on 2012 page do they get the same warning or is this more one sided , <font color = red>disingenuous</font> support for pod 's control trips , bullying and verbal abusive attacks ? he really is <font color = red>accursed</font> up the 2012 page by ignoring expert assistance . m 67 . 164 . 145 . 1</td>\n",
              "      <td>0.931836</td>\n",
              "      <td>0.455579</td>\n",
              "      <td>0.781167</td>\n",
              "      <td>Yes</td>\n",
              "    </tr>\n",
              "    <tr>\n",
              "      <th>79181</th>\n",
              "      <td>1</td>\n",
              "      <td>1</td>\n",
              "      <td>the thing that should'nt be yeas . <font color = green>incompetent</font> users , people like you that can not see the <font color = green>truth</font> .</td>\n",
              "      <td>the thing that should'nt be yeas . <font color = red>bungling</font> users , people like you that can not see the <font color = red>truths</font> .</td>\n",
              "      <td>0.861900</td>\n",
              "      <td>0.725897</td>\n",
              "      <td>0.500735</td>\n",
              "      <td>No</td>\n",
              "    </tr>\n",
              "    <tr>\n",
              "      <th>102889</th>\n",
              "      <td>0</td>\n",
              "      <td>1</td>\n",
              "      <td>2007 ( utc ) you <font color = green>love</font> rubbing gary 's leg , <font color = green>do</font> n't you ? 125 . 24 . 64 . 211 06 42 , 18 november</td>\n",
              "      <td>2007 ( utc ) you <font color = red>loves</font> rubbing gary 's leg , <font color = red>played</font> n't you ? 125 . 24 . 64 . 211 06 42 , 18 november</td>\n",
              "      <td>0.630946</td>\n",
              "      <td>0.491941</td>\n",
              "      <td>0.691120</td>\n",
              "      <td>Yes</td>\n",
              "    </tr>\n",
              "    <tr>\n",
              "      <th>23223</th>\n",
              "      <td>1</td>\n",
              "      <td>1</td>\n",
              "      <td>u fucking <font color = green>prick</font> <font color = green>hey</font> <font color = green>cocksucker</font> well <font color = green>done</font> for <font color = green>fucking</font> up two <font color = green>perfectly</font> <font color = green>good</font> articles on the cadet <font color = green>rifle</font> . why <font color = green>dont</font> <font color = green>u</font> just fuck off and die u removed <font color = green>perfectly</font> <font color = green>good</font> <font color = green>information</font> just <font color = green>because</font> as a <font color = green>dick</font> <font color = green>loving</font> faggot you <font color = green>did</font> n't <font color = green>like</font> it <font color = green>huh</font> ? where is all the <font color = green>information</font> about the new gun ? the <font color = green>differences</font> ? the <font color = green>improvement</font> ? that <font color = green>u</font> <font color = green>deleted</font> <font color = green>made</font> all that <font color = green>clear</font> . and then it was <font color = green>merged</font> as per discussion there was no discussion <font color = green>cunt</font> <font color = green>did</font> u ever <font color = green>read</font> the <font color = green>articles</font> <font color = green>u</font> merged dick <font color = green>face</font> or <font color = green>r</font> <font color = green>u</font> 2 fcukin <font color = green>dumb</font> <font color = green>see</font> you been <font color = green>done</font> for editing warring i know the answer so fuck off , off off and take your clueless hard on guns with ya . cunts like you wank over guns but u know shit about them</td>\n",
              "      <td>u fucking <font color = red>jackass</font> <font color = red>hi</font> <font color = red>fagot</font> well <font color = red>finish</font> for <font color = red>goddamn</font> up two <font color = red>properly</font> <font color = red>optimal</font> articles on the cadet <font color = red>rifles</font> . why <font color = red>actualy</font> <font color = red>o</font> just fuck off and die u removed <font color = red>well</font> <font color = red>nice</font> <font color = red>informed</font> just <font color = red>since</font> as a <font color = red>cock</font> <font color = red>magnet</font> faggot you <font color = red>fi</font> n't <font color = red>genus</font> it <font color = red>eh</font> ? where is all the <font color = red>details</font> about the new gun ? the <font color = red>differential</font> ? the <font color = red>enhanced</font> ? that <font color = red>ni</font> <font color = red>cancelled</font> <font color = red>realized</font> all that <font color = red>evident</font> . and then it was <font color = red>merging</font> as per discussion there was no discussion <font color = red>fuckface</font> <font color = red>have</font> u ever <font color = red>reading</font> the <font color = red>regulation</font> <font color = red>o</font> merged dick <font color = red>facial</font> or <font color = red>s</font> <font color = red>ni</font> 2 fcukin <font color = red>nonsensical</font> <font color = red>watching</font> you been <font color = red>realised</font> for editing warring i know the answer so fuck off , off off and take your clueless</td>\n",
              "      <td>0.957853</td>\n",
              "      <td>0.764013</td>\n",
              "      <td>0.500724</td>\n",
              "      <td>No</td>\n",
              "    </tr>\n",
              "    <tr>\n",
              "      <th>45083</th>\n",
              "      <td>1</td>\n",
              "      <td>1</td>\n",
              "      <td><font color = green>redneck</font> you shouldnt bad mouth nascar . you <font color = green>people</font> <font color = green>think</font> you are gods on this <font color = green>site</font> , you <font color = green>act</font> like <font color = green>nazis</font> . you <font color = green>do</font> masterbate , but your <font color = green>hands</font> not <font color = green>stroking</font> your <font color = green>own</font> <font color = green>unit</font> .</td>\n",
              "      <td><font color = red>yokels</font> you shouldnt bad mouth nascar . you <font color = red>persons</font> <font color = red>contemplation</font> you are gods on this <font color = red>sites</font> , you <font color = red>invoices</font> like <font color = red>bolshevik</font> . you <font color = red>does</font> masterbate , but your <font color = red>mains</font> not <font color = red>caressed</font> your <font color = red>peculiar</font> <font color = red>units</font> .</td>\n",
              "      <td>0.970573</td>\n",
              "      <td>0.595705</td>\n",
              "      <td>0.501595</td>\n",
              "      <td>No</td>\n",
              "    </tr>\n",
              "    <tr>\n",
              "      <th>96170</th>\n",
              "      <td>1</td>\n",
              "      <td>0</td>\n",
              "      <td><font color = green>damn</font> those are <font color = green>fucking</font> recent <font color = green>pics</font> i really want them or else wikipedia 's gonna be so <font color = green>stupid</font> that nobody will look here . this <font color = green>uneducated</font> dufus is <font color = green>trying</font> to add stuff that <font color = green>makes</font> no sense pics of somebody ages ago . <font color = green>user</font> <font color = green>pic</font> <font color = green>business</font></td>\n",
              "      <td><font color = red>christ</font> those are <font color = red>sodding</font> recent <font color = red>photographed</font> i really want them or else wikipedia 's gonna be so <font color = red>asinine</font> that nobody will look here . this <font color = red>unaware</font> dufus is <font color = red>attempts</font> to add stuff that <font color = red>render</font> no sense pics of somebody ages ago . <font color = red>username</font> <font color = red>spiking</font> <font color = red>enterprising</font></td>\n",
              "      <td>0.970326</td>\n",
              "      <td>0.400896</td>\n",
              "      <td>0.503905</td>\n",
              "      <td>Yes</td>\n",
              "    </tr>\n",
              "    <tr>\n",
              "      <th>155321</th>\n",
              "      <td>1</td>\n",
              "      <td>0</td>\n",
              "      <td>lol it 's almost ( . . . almost ) as if wikipedia has become a <font color = green>bizarre</font> bureaucratic attractor for quasi maoist <font color = green>lunatics</font> .</td>\n",
              "      <td>lol it 's almost ( . . . almost ) as if wikipedia has become a <font color = red>wierd</font> bureaucratic attractor for quasi maoist <font color = red>loonies</font> .</td>\n",
              "      <td>0.679033</td>\n",
              "      <td>0.420835</td>\n",
              "      <td>0.794685</td>\n",
              "      <td>Yes</td>\n",
              "    </tr>\n",
              "    <tr>\n",
              "      <th>3959</th>\n",
              "      <td>1</td>\n",
              "      <td>0</td>\n",
              "      <td>imagine if i treated hapfsjen like you treated this anon editor here . we both know his english is poor and his comprehension is poor . but when i see his <font color = green>messy</font> <font color = green>edits</font> i leave them alone to avoid conflict . but you drmies , you treat people like <font color = green>shit</font> . like you i want to <font color = green>delete</font> this article period by period comment in the talk page of an academic and <font color = green>holocaust</font> survivor . you do n't get to <font color = green>act</font> to like an anti <font color = green>semite</font> and bully people you disagree with and then <font color = green>cry</font> <font color = green>foul</font> when <font color = green>editors</font> point out that you are abusive . your actions speak for themselves . you first actions as an admin were to impost your pov on a contentious article . and you statement that you do n't want to block me is a blatant lie . you have said just the opposite in the past and participated in accusations of socking to try and get me blocked indefinitely . this is on top of our long running conflict . so you lie as much as you want and you can block me if i point out the facts that demonstrate you're a liar , but bigotry , bullying , bias , prejudice , discrimination and other abuses are wrong . i'm limited to how much i can speak out about your actions because , perversely , speaking out against the worst abuses on wikipedia is punishable . but the facts speak for themselves .</td>\n",
              "      <td>imagine if i treated hapfsjen like you treated this anon editor here . we both know his english is poor and his comprehension is poor . but when i see his <font color = red>muddy</font> <font color = red>modifying</font> i leave them alone to avoid conflict . but you drmies , you treat people like <font color = red>christ</font> . like you i want to <font color = red>deletion</font> this article period by period comment in the talk page of an academic and <font color = red>auschwitz</font> survivor . you do n't get to <font color = red>legislation</font> to like an anti <font color = red>semitism</font> and bully people you disagree with and then <font color = red>mourning</font> <font color = red>sales</font> when <font color = red>writer</font> point out that you are abusive . your actions speak for themselves . you first actions as an admin were to impost your</td>\n",
              "      <td>0.949590</td>\n",
              "      <td>0.476549</td>\n",
              "      <td>0.598387</td>\n",
              "      <td>Yes</td>\n",
              "    </tr>\n",
              "    <tr>\n",
              "      <th>76276</th>\n",
              "      <td>1</td>\n",
              "      <td>1</td>\n",
              "      <td><font color = green>so</font> its okay for a woman <font color = green>editor</font> to <font color = green>be</font> <font color = green>called</font> a <font color = green>cunt</font> a bitch a cock shit and <font color = green>repeatedly</font> <font color = green>subjected</font> to obscenities like <font color = green>fucking</font> . that is n't a big deal , but if she <font color = green>complains</font> about it then it is a a <font color = green>big</font> dealwrongdoing on her <font color = green>part</font> . <font color = green>obviously</font> the concept of <font color = green>basic</font> fairness did not <font color = green>enter</font> into your decision . your <font color = green>handling</font> if this is <font color = green>dripping</font> with <font color = green>sexism</font> and <font color = green>bias</font> .</td>\n",
              "      <td><font color = red>furthermore</font> its okay for a woman <font color = red>editors</font> to <font color = red>have</font> <font color = red>enquired</font> a <font color = red>fuck</font> a bitch a cock shit and <font color = red>routinely</font> <font color = red>referred</font> to obscenities like <font color = red>fuck</font> . that is n't a big deal , but if she <font color = red>sustains</font> about it then it is a a <font color = red>sizable</font> dealwrongdoing on her <font color = red>portion</font> . <font color = red>unequivocally</font> the concept of <font color = red>principal</font> fairness did not <font color = red>entered</font> into your decision . your <font color = red>resolving</font> if this is <font color = red>smelling</font> with <font color = red>skew</font> and <font color = red>impartiality</font> .</td>\n",
              "      <td>0.950631</td>\n",
              "      <td>0.602312</td>\n",
              "      <td>0.510699</td>\n",
              "      <td>No</td>\n",
              "    </tr>\n",
              "    <tr>\n",
              "      <th>37774</th>\n",
              "      <td>1</td>\n",
              "      <td>0</td>\n",
              "      <td><font color = green>sleaze</font> <font color = green>boy</font> you <font color = green>disgust</font> me . you are <font color = green>pathetic</font> <font color = green>coward</font> seeking to smear good people while hiding behind your anonymity , you <font color = green>repulsive</font> <font color = green>little</font> worm . i am not <font color = green>part</font> of a gang . i am an individual <font color = green>human</font> being . you're attempted smear tactic against me is <font color = green>hardly</font> surprising from what i 've seen around here , but once again the actions of <font color = green>pathetic</font> , anonymous , <font color = green>worm</font> . you accomplish nothing but <font color = green>spread</font> <font color = green>dishonor</font> over your pseudonym . no <font color = green>adult</font> <font color = green>takes</font> you <font color = green>seriously</font> . you are welcome to the last <font color = green>word</font> .</td>\n",
              "      <td><font color = red>sensationalism</font> <font color = red>lad</font> you <font color = red>chagrin</font> me . you are <font color = red>sorrowful</font> <font color = red>buffoons</font> seeking to smear good people while hiding behind your anonymity , you <font color = red>detested</font> <font color = red>scarce</font> worm . i am not <font color = red>parte</font> of a gang . i am an individual <font color = red>people</font> being . you're attempted smear tactic against me is <font color = red>shortly</font> surprising from what i 've seen around here , but once again the actions of <font color = red>sorrowful</font> , anonymous , <font color = red>consult</font> . you accomplish nothing but <font color = red>conveying</font> <font color = red>regretful</font> over your pseudonym . no <font color = red>adulthood</font> <font color = red>taken</font> you <font color = red>intently</font> . you are welcome to the last <font color = red>discourses</font> .</td>\n",
              "      <td>0.968367</td>\n",
              "      <td>0.497324</td>\n",
              "      <td>0.501118</td>\n",
              "      <td>Yes</td>\n",
              "    </tr>\n",
              "    <tr>\n",
              "      <th>108808</th>\n",
              "      <td>1</td>\n",
              "      <td>0</td>\n",
              "      <td>wow zsero , what strange , other people change these pages and you do n't do nothing , only when i change , you have a problem with me ? ? ? i think your job are wonderful , blocking people , wow , how many people you did it ? many , it is because that many people come here to complain about you , is not easy being a <font color = green>stupid</font> person like you is . you know ? good work , keep blocking people , i thought that the policy of wikipedia is to be free , but not with you here . ps wikipedia is public , not just yours remember this , stupid editor ) 201 . 14 . 225 . 152</td>\n",
              "      <td>wow zsero , what strange , other people change these pages and you do n't do nothing , only when i change , you have a problem with me ? ? ? i think your job are wonderful , blocking people , wow , how many people you did it ? many , it is because that many people come here to complain about you , is not easy being a <font color = red>asinine</font> person like you is . you know ? good work , keep blocking people , i thought that the policy of wikipedia is to be free , but not with you here . ps wikipedia is public , not just yours remember this , stupid editor ) 201</td>\n",
              "      <td>0.777862</td>\n",
              "      <td>0.417376</td>\n",
              "      <td>0.924796</td>\n",
              "      <td>Yes</td>\n",
              "    </tr>\n",
              "    <tr>\n",
              "      <th>54187</th>\n",
              "      <td>1</td>\n",
              "      <td>0</td>\n",
              "      <td>seriously , your <font color = green>obsession</font> with a non rival is bordering on glenn close in <font color = green>fatal</font> attraction <font color = green>psychotic</font> .</td>\n",
              "      <td>seriously , your <font color = red>fondness</font> with a non rival is bordering on glenn close in <font color = red>reputed</font> attraction <font color = red>loca</font> .</td>\n",
              "      <td>0.955144</td>\n",
              "      <td>0.203840</td>\n",
              "      <td>0.522345</td>\n",
              "      <td>Yes</td>\n",
              "    </tr>\n",
              "    <tr>\n",
              "      <th>15624</th>\n",
              "      <td>1</td>\n",
              "      <td>0</td>\n",
              "      <td>there is no information about 6 percent <font color = green>greeks</font> in albania so you are a chauvinist</td>\n",
              "      <td>there is no information about 6 percent <font color = red>greece</font> in albania so you are a chauvinist</td>\n",
              "      <td>0.544633</td>\n",
              "      <td>0.401256</td>\n",
              "      <td>0.795819</td>\n",
              "      <td>Yes</td>\n",
              "    </tr>\n",
              "    <tr>\n",
              "      <th>80971</th>\n",
              "      <td>1</td>\n",
              "      <td>0</td>\n",
              "      <td>oh , my is that any way to address a person on their talk page ? did you really just call me an obnoxious <font color = green>little</font> <font color = green>shit</font> ? you can just imagine what i think of you . well , i guess that means the gloves can come off since you started it . i wonder what exactly you do here on wp ? it is obvious that you want to be an administrator but you have failed to show the deportment and maturity of mind to make the grade . instead , you choose to <font color = green>act</font> like a self appointed wikipedia police , <font color = green>running</font> about throwing up the blue flags of wp rules and being a generally obnoxious person with no real use . instead of actually contributing useful original edits to articles you seem to think this is the old newpedia where people are expected to submit edits for your approval . if too many others take the same tac wp will collapse into dross . you violate every rule in the book of which you accuse others . you are a mean spirited , very angry person that drives away editors with your sarcastic responses and general high handed behavior . i suspect you have no real special knowledge of any of the articles upon which you squat like a vulture waiting tear apart others creative edits . you really need to crack a book and study up on a subject or two and find an article you feel needs rewriting and to straighten out the too turgid , redundant writing that exists here on wp . stop trying to act like you are an administrator and grow up . at a time when wp needs more editors , particularly female , you with your coarse , rude behavior is the last thing wp needs . you are , to summarize it , a net negative . i am amazed that you have not been banned but i suppose your facility at quoting the rules , all while completely violating the spirit of wp preserves you . this place is a paradise for rule quoters such as yourself . sincerly .</td>\n",
              "      <td>oh , my is that any way to address a person on their talk page ? did you really just call me an obnoxious <font color = red>few</font> <font color = red>accursed</font> ? you can just imagine what i think of you . well , i guess that means the gloves can come off since you started it . i wonder what exactly you do here on wp ? it is obvious that you want to be an administrator but you have failed to show the deportment and maturity of mind to make the grade . instead , you choose to <font color = red>acts</font> like a self appointed wikipedia police , <font color = red>implementing</font> about throwing up the blue flags of wp rules and being a generally obnoxious person with</td>\n",
              "      <td>0.939414</td>\n",
              "      <td>0.496725</td>\n",
              "      <td>0.811063</td>\n",
              "      <td>Yes</td>\n",
              "    </tr>\n",
              "    <tr>\n",
              "      <th>150530</th>\n",
              "      <td>1</td>\n",
              "      <td>0</td>\n",
              "      <td>barack obama is <font color = green>mentally</font> retarted . he is not fit to be president . he is the <font color = green>worst</font> <font color = green>president</font> so far , that we have had in our presidents .</td>\n",
              "      <td>barack obama is <font color = red>academically</font> retarted . he is not fit to be president . he is the <font color = red>strongest</font> <font color = red>chairmanship</font> so far , that we have had in our presidents .</td>\n",
              "      <td>0.898099</td>\n",
              "      <td>0.479978</td>\n",
              "      <td>0.507169</td>\n",
              "      <td>Yes</td>\n",
              "    </tr>\n",
              "    <tr>\n",
              "      <th>141152</th>\n",
              "      <td>1</td>\n",
              "      <td>0</td>\n",
              "      <td>your <font color = green>vandalism</font> please stop your <font color = green>stupidity</font> . note that <font color = green>continued</font> <font color = green>stupidity</font> may lead to <font color = green>blocks</font> for idioticy . <font color = green>keep</font> this in mind while <font color = green>editing</font> .</td>\n",
              "      <td>your <font color = red>vandalism</font> please stop your <font color = red>foolishness</font> . note that <font color = red>lingering</font> <font color = red>foolishness</font> may lead to <font color = red>hindering</font> for idioticy . <font color = red>stays</font> this in mind while <font color = red>revised</font> .</td>\n",
              "      <td>0.895270</td>\n",
              "      <td>0.498237</td>\n",
              "      <td>0.552982</td>\n",
              "      <td>Yes</td>\n",
              "    </tr>\n",
              "    <tr>\n",
              "      <th>141637</th>\n",
              "      <td>1</td>\n",
              "      <td>0</td>\n",
              "      <td>if i quoted the source for <font color = green>damned</font> wretch , would you know what i was referring to ? i repeat , the edit on winters does not match the citation see for yourself do n't piggy back on sources you do n't understand . mysweetoldetc .</td>\n",
              "      <td>if i quoted the source for <font color = red>accursed</font> wretch , would you know what i was referring to ? i repeat , the edit on winters does not match the citation see for yourself do n't piggy back on sources you do n't understand . mysweetoldetc .</td>\n",
              "      <td>0.752293</td>\n",
              "      <td>0.187147</td>\n",
              "      <td>0.771569</td>\n",
              "      <td>Yes</td>\n",
              "    </tr>\n",
              "    <tr>\n",
              "      <th>29877</th>\n",
              "      <td>1</td>\n",
              "      <td>0</td>\n",
              "      <td>all the admins on this <font color = green>shitty</font> site are neurotic control <font color = green>freaks</font> . <font color = green>do</font> n't <font color = green>let</font> their <font color = green>hideous</font> attitudes <font color = green>prevent</font> you from doing what you <font color = green>think</font> is <font color = green>right</font></td>\n",
              "      <td>all the admins on this <font color = red>amiss</font> site are neurotic control <font color = red>loonies</font> . <font color = red>know</font> n't <font color = red>letting</font> their <font color = red>egregious</font> attitudes <font color = red>inhibit</font> you from doing what you <font color = red>view</font> is <font color = red>accurate</font></td>\n",
              "      <td>0.972572</td>\n",
              "      <td>0.476004</td>\n",
              "      <td>0.509634</td>\n",
              "      <td>Yes</td>\n",
              "    </tr>\n",
              "    <tr>\n",
              "      <th>24047</th>\n",
              "      <td>1</td>\n",
              "      <td>0</td>\n",
              "      <td>hey guess what . not that i told anyone this yet but larry sanger <font color = green>sucked</font> my c shhh during carnival in rio back in '03 and i nutted in his mouth so basically i get to do whatever i want on wikipedia for <font color = green>life</font> . sucks for you eh ? <font color = green>hey</font> i figure it was worth it , for future generations of wikipedians that might not realise how <font color = green>fucking</font> cool this project was before people like you got involved in the meddling . sometimes , you just gotta <font color = green>sit</font> back , <font color = green>do</font> some <font color = green>cocaine</font> , and just <font color = green>get</font> your <font color = green>penis</font> sucked , first come first serve eh ?</td>\n",
              "      <td>hey guess what . not that i told anyone this yet but larry sanger <font color = red>sought</font> my c shhh during carnival in rio back in '03 and i nutted in his mouth so basically i get to do whatever i want on wikipedia for <font color = red>residing</font> . sucks for you eh ? <font color = red>farewell</font> i figure it was worth it , for future generations of wikipedians that might not realise how <font color = red>kissed</font> cool this project was before people like you got involved in the meddling . sometimes , you just gotta <font color = red>seat</font> back , <font color = red>could</font> some <font color = red>soda</font> , and just <font color = red>reach</font> your <font color = red>mouthful</font> sucked , first come first serve eh ?</td>\n",
              "      <td>0.885649</td>\n",
              "      <td>0.495457</td>\n",
              "      <td>0.655020</td>\n",
              "      <td>Yes</td>\n",
              "    </tr>\n",
              "    <tr>\n",
              "      <th>64067</th>\n",
              "      <td>1</td>\n",
              "      <td>1</td>\n",
              "      <td>to ymblanter <font color = green>eat</font> my <font color = green>dick</font> <font color = green>asshole</font> , there 's no <font color = green>way</font> to contribute when this user ymblanter is misusing his powers . <font color = green>meet</font> me irl <font color = green>so</font> i can educate you , <font color = green>stupid</font> mongoloid</td>\n",
              "      <td>to ymblanter <font color = red>comer</font> my <font color = red>queue</font> <font color = red>gomer</font> , there 's no <font color = red>ways</font> to contribute when this user ymblanter is misusing his powers . <font color = red>responds</font> me irl <font color = red>alike</font> i can educate you , <font color = red>farcical</font> mongoloid</td>\n",
              "      <td>0.975567</td>\n",
              "      <td>0.538799</td>\n",
              "      <td>0.502722</td>\n",
              "      <td>No</td>\n",
              "    </tr>\n",
              "    <tr>\n",
              "      <th>26413</th>\n",
              "      <td>1</td>\n",
              "      <td>1</td>\n",
              "      <td>you're still on watch you will never be taken off the list , and some time soon , you will be dealt with in the mediterranean , a region that you have worked so tirelessly to sabotage and essentially crush . your <font color = green>worthless</font> but nonetheless endless contributions to north africa have lead to nothing but savagery , devolution and pettiness . because of <font color = green>ignorant</font> <font color = green>scumbags</font> such as yourself , north africa may very well one day disappear . and as a result of your astute lol judgments , most articles pertaining to the region are flawed , inaccurate and contain nothing but discredited and propagandistic afrocentrist voodoo mania . the last time i cursed you , you crashed . this time , you will pay a much steeper price . enjoy fagging around , queer .</td>\n",
              "      <td>you're still on watch you will never be taken off the list , and some time soon , you will be dealt with in the mediterranean , a region that you have worked so tirelessly to sabotage and essentially crush . your <font color = red>vain</font> but nonetheless endless contributions to north africa have lead to nothing but savagery , devolution and pettiness . because of <font color = red>naïve</font> <font color = red>cretins</font> such as yourself , north africa may very well one day disappear . and as a result of your astute lol judgments , most articles pertaining to the region are flawed , inaccurate and contain nothing but discredited and propagandistic afrocentrist voodoo mania . the last time i cursed you , you crashed . this</td>\n",
              "      <td>0.886141</td>\n",
              "      <td>0.729521</td>\n",
              "      <td>0.926399</td>\n",
              "      <td>No</td>\n",
              "    </tr>\n",
              "    <tr>\n",
              "      <th>103107</th>\n",
              "      <td>1</td>\n",
              "      <td>1</td>\n",
              "      <td>go fuck yourself you <font color = green>fucking</font> <font color = green>bitch</font></td>\n",
              "      <td>go fuck yourself you <font color = red>shit</font> <font color = red>slut</font></td>\n",
              "      <td>0.968074</td>\n",
              "      <td>0.968053</td>\n",
              "      <td>0.556259</td>\n",
              "      <td>No</td>\n",
              "    </tr>\n",
              "    <tr>\n",
              "      <th>98683</th>\n",
              "      <td>1</td>\n",
              "      <td>1</td>\n",
              "      <td><font color = green>fucking</font> <font color = green>cops</font> with no <font color = green>sense</font> of <font color = green>humor</font> . <font color = green>go</font> <font color = green>fuck</font> yourselves , <font color = green>go</font> <font color = green>play</font> quidditch you assclowns .</td>\n",
              "      <td><font color = red>goddam</font> <font color = red>cops</font> with no <font color = red>hunch</font> of <font color = red>humour</font> . <font color = red>proceed</font> <font color = red>goddam</font> yourselves , <font color = red>went</font> <font color = red>set</font> quidditch you assclowns .</td>\n",
              "      <td>0.975842</td>\n",
              "      <td>0.950399</td>\n",
              "      <td>0.673245</td>\n",
              "      <td>No</td>\n",
              "    </tr>\n",
              "    <tr>\n",
              "      <th>135867</th>\n",
              "      <td>1</td>\n",
              "      <td>0</td>\n",
              "      <td>i <font color = green>will</font> ut off your <font color = green>dick</font> and <font color = green>balls</font> and <font color = green>make</font> you my <font color = green>bitch</font> . i shall <font color = green>name</font> you reek .</td>\n",
              "      <td>i <font color = red>volition</font> ut off your <font color = red>queues</font> and <font color = red>testes</font> and <font color = red>give</font> you my <font color = red>biatch</font> . i shall <font color = red>naming</font> you reek .</td>\n",
              "      <td>0.975525</td>\n",
              "      <td>0.489679</td>\n",
              "      <td>0.501788</td>\n",
              "      <td>Yes</td>\n",
              "    </tr>\n",
              "    <tr>\n",
              "      <th>7718</th>\n",
              "      <td>0</td>\n",
              "      <td>1</td>\n",
              "      <td><font color = green>considering</font> the vile and perverse anti egyptian racism spewed on this talk page on a regular basis , which is all over many arab countries , especially the gulf , it is relevant to examine it on an article about arabs . and if the people here stop using this page as a garbage disposal of their relentless anti egyptian bigotry , there would n't be a problem .</td>\n",
              "      <td><font color = red>recital</font> the vile and perverse anti egyptian racism spewed on this talk page on a regular basis , which is all over many arab countries , especially the gulf , it is relevant to examine it on an article about arabs . and if the people here stop using this page as a garbage disposal of their relentless anti egyptian bigotry , there would n't be a problem .</td>\n",
              "      <td>0.584541</td>\n",
              "      <td>0.433030</td>\n",
              "      <td>0.803130</td>\n",
              "      <td>Yes</td>\n",
              "    </tr>\n",
              "    <tr>\n",
              "      <th>126409</th>\n",
              "      <td>1</td>\n",
              "      <td>1</td>\n",
              "      <td>f <font color = green>ck</font> you you moth rfucker , if you <font color = green>want</font> me to <font color = green>be</font> <font color = green>rude</font> so i <font color = green>will</font> . i am no sockpuppet or vandal , you <font color = green>refuse</font> to answer me without <font color = green>reason</font> . you <font color = green>removed</font> sourced data , assh <font color = green>le</font> , and i'm <font color = green>going</font> to <font color = green>return</font> it back . you're the vandal , not me .</td>\n",
              "      <td>f <font color = red>kronor</font> you you moth rfucker , if you <font color = red>wish</font> me to <font color = red>se</font> <font color = red>boorish</font> so i <font color = red>eagerness</font> . i am no sockpuppet or vandal , you <font color = red>rejected</font> to answer me without <font color = red>reasons</font> . you <font color = red>removing</font> sourced data , assh <font color = red>lai</font> , and i'm <font color = red>depart</font> to <font color = red>returning</font> it back . you're the vandal , not me .</td>\n",
              "      <td>0.970627</td>\n",
              "      <td>0.873991</td>\n",
              "      <td>0.501148</td>\n",
              "      <td>No</td>\n",
              "    </tr>\n",
              "    <tr>\n",
              "      <th>63366</th>\n",
              "      <td>1</td>\n",
              "      <td>1</td>\n",
              "      <td>bilcat <font color = green>mom</font> is a <font color = green>dumpster</font> slutt</td>\n",
              "      <td>bilcat <font color = red>mothers</font> is a <font color = red>landfill</font> slutt</td>\n",
              "      <td>0.960041</td>\n",
              "      <td>0.829012</td>\n",
              "      <td>0.627587</td>\n",
              "      <td>No</td>\n",
              "    </tr>\n",
              "    <tr>\n",
              "      <th>127202</th>\n",
              "      <td>1</td>\n",
              "      <td>0</td>\n",
              "      <td>well , i have to agree that whoever destroyed the 40k wiki pages deserves to diaf . . . there was so much information about everything and now it is all gone , so many years of work just deleted because of some <font color = green>idiots</font> .</td>\n",
              "      <td>well , i have to agree that whoever destroyed the 40k wiki pages deserves to diaf . . . there was so much information about everything and now it is all gone , so many years of work just deleted because of some <font color = red>simpletons</font> .</td>\n",
              "      <td>0.938098</td>\n",
              "      <td>0.167336</td>\n",
              "      <td>0.939952</td>\n",
              "      <td>Yes</td>\n",
              "    </tr>\n",
              "    <tr>\n",
              "      <th>15491</th>\n",
              "      <td>1</td>\n",
              "      <td>0</td>\n",
              "      <td>i hope world of warcraft dies a long and painful death world of warcraft <font color = green>sucks</font> the biggest donkey balls on this planet . i cannot express how much i <font color = green>hate</font> this piece of wank other than hoping it is raped , stabbed , drowned , raped again when it 's dead , drown it in its own blood from being stabbed . afterwards , it should be buried in a 150 feet deep pit full of <font color = green>maggots</font> and when they have finished with it , the whole pit should be set alight with 20 , 000 matches .</td>\n",
              "      <td>i hope world of warcraft dies a long and painful death world of warcraft <font color = red>disturbs</font> the biggest donkey balls on this planet . i cannot express how much i <font color = red>detest</font> this piece of wank other than hoping it is raped , stabbed , drowned , raped again when it 's dead , drown it in its own blood from being stabbed . afterwards , it should be buried in a 150 feet deep pit full of <font color = red>larvae</font> and when they have finished with it , the whole pit should be set alight with 20 , 000 matches .</td>\n",
              "      <td>0.813187</td>\n",
              "      <td>0.423274</td>\n",
              "      <td>0.878602</td>\n",
              "      <td>Yes</td>\n",
              "    </tr>\n",
              "    <tr>\n",
              "      <th>18966</th>\n",
              "      <td>0</td>\n",
              "      <td>1</td>\n",
              "      <td>corspefucking art i used their offical website as <font color = green>help</font> to gte al information right . therefore , some sentences were <font color = green>left</font> , but also other material was <font color = green>put</font> in . <font color = green>meaning</font> it is n't again copyright law as this is my own work <font color = green>via</font> <font color = green>help</font> from the band and metal archives . aka i put them <font color = green>together</font> . . . meaning they have <font color = green>different</font> copyright laws to their <font color = green>biography</font> ( even if they do ) than this one here . so , if anyone <font color = green>wants</font> to <font color = green>help</font> , <font color = green>delete</font> some and put it in <font color = green>wikipedia</font> 's own <font color = green>words</font> , your welcome , but it <font color = green>took</font> me 2 hours to read through information to do this , and if it gets deleted i will be mad .</td>\n",
              "      <td>corspefucking art i used their offical website as <font color = red>succour</font> to gte al information right . therefore , some sentences were <font color = red>resignation</font> , but also other material was <font color = red>lodged</font> in . <font color = red>sensation</font> it is n't again copyright law as this is my own work <font color = red>per</font> <font color = red>allow</font> from the band and metal archives . aka i put them <font color = red>collectively</font> . . . meaning they have <font color = red>countless</font> copyright laws to their <font color = red>bio</font> ( even if they do ) than this one here . so , if anyone <font color = red>gonna</font> to <font color = red>allowing</font> , <font color = red>suppresses</font> some and put it in <font color = red>wiki</font> 's own <font color = red>rhetoric</font> , your welcome , but it <font color = red>gotten</font> me 2 hours to read through information to do this , and if it gets</td>\n",
              "      <td>0.973701</td>\n",
              "      <td>0.499513</td>\n",
              "      <td>0.538951</td>\n",
              "      <td>Yes</td>\n",
              "    </tr>\n",
              "    <tr>\n",
              "      <th>21670</th>\n",
              "      <td>1</td>\n",
              "      <td>1</td>\n",
              "      <td>i look like an <font color = green>idiot</font> <font color = green>because</font> i just burst out <font color = green>laughing</font> . <font color = green>damn</font> you , mike .</td>\n",
              "      <td>i look like an <font color = red>dunce</font> <font color = red>since</font> i just burst out <font color = red>chuckle</font> . <font color = red>sacred</font> you , mike .</td>\n",
              "      <td>0.961060</td>\n",
              "      <td>0.677789</td>\n",
              "      <td>0.509304</td>\n",
              "      <td>No</td>\n",
              "    </tr>\n",
              "    <tr>\n",
              "      <th>128130</th>\n",
              "      <td>0</td>\n",
              "      <td>1</td>\n",
              "      <td><font color = green>note</font> if you <font color = green>want</font> me to offer you sexual services e mail me and i will send you my account number into which you can deposit money in exchange for the <font color = green>aforementioned</font> services . e mail for <font color = green>updated</font> <font color = green>tariffs</font> .</td>\n",
              "      <td><font color = red>remark</font> if you <font color = red>lust</font> me to offer you sexual services e mail me and i will send you my account number into which you can deposit money in exchange for the <font color = red>upper</font> services . e mail for <font color = red>upgrading</font> <font color = red>prix</font> .</td>\n",
              "      <td>0.960644</td>\n",
              "      <td>0.417999</td>\n",
              "      <td>0.532101</td>\n",
              "      <td>Yes</td>\n",
              "    </tr>\n",
              "    <tr>\n",
              "      <th>83699</th>\n",
              "      <td>1</td>\n",
              "      <td>0</td>\n",
              "      <td>i call <font color = green>bullshit</font> on that ! either behave or i will formally ask you to stay the <font color = green>fuck</font> off my talk page . the original date i removed had no source and the one i replaced it with seemed to come from the person themselves . you weasel added a google link for jan mak 1948 . i edited it to jan mak 1945 and you whined like a baby . of course your google link will match your pov in this case . i also feel you are very coi in this issue being an avid soccer fan . if you ca n't behave like an admin at least behave like a responsible editor and stop power tripping with your status to win your edit wars with your pov , coi , and or .</td>\n",
              "      <td>i call <font color = red>horseshit</font> on that ! either behave or i will formally ask you to stay the <font color = red>gorram</font> off my talk page . the original date i removed had no source and the one i replaced it with seemed to come from the person themselves . you weasel added a google link for jan mak 1948 . i edited it to jan mak 1945 and you whined like a baby . of course your google link will match your pov in this case . i also feel you are very coi in this issue being an avid soccer fan . if you ca n't behave like an admin at least behave like a responsible editor and stop power tripping with</td>\n",
              "      <td>0.947008</td>\n",
              "      <td>0.145840</td>\n",
              "      <td>0.806971</td>\n",
              "      <td>Yes</td>\n",
              "    </tr>\n",
              "    <tr>\n",
              "      <th>15581</th>\n",
              "      <td>1</td>\n",
              "      <td>0</td>\n",
              "      <td>dis <font color = green>bitch</font> has <font color = green>sum</font> <font color = green>nice</font> tatas i <font color = green>wanna</font> squeeze dem <font color = green>melons</font></td>\n",
              "      <td>dis <font color = red>biatch</font> has <font color = red>amounts</font> <font color = red>beautiful</font> tatas i <font color = red>desired</font> squeeze dem <font color = red>cantaloupes</font></td>\n",
              "      <td>0.958637</td>\n",
              "      <td>0.481071</td>\n",
              "      <td>0.545623</td>\n",
              "      <td>Yes</td>\n",
              "    </tr>\n",
              "    <tr>\n",
              "      <th>50646</th>\n",
              "      <td>1</td>\n",
              "      <td>0</td>\n",
              "      <td><font color = green>suck</font> it ! if you ca n't understand this common american idiom then perhaps you should n't be editing wikipedia . at any rate , why are you monitoring my talk page , <font color = green>stalker</font> ?</td>\n",
              "      <td><font color = red>pacifier</font> it ! if you ca n't understand this common american idiom then perhaps you should n't be editing wikipedia . at any rate , why are you monitoring my talk page , <font color = red>loony</font> ?</td>\n",
              "      <td>0.925093</td>\n",
              "      <td>0.432961</td>\n",
              "      <td>0.552096</td>\n",
              "      <td>Yes</td>\n",
              "    </tr>\n",
              "    <tr>\n",
              "      <th>48088</th>\n",
              "      <td>1</td>\n",
              "      <td>0</td>\n",
              "      <td>who are they to constitute what a war is or is not . that 's why that discussion on the military project page was <font color = green>stupid</font> .</td>\n",
              "      <td>who are they to constitute what a war is or is not . that 's why that discussion on the military project page was <font color = red>nonsensical</font> .</td>\n",
              "      <td>0.846508</td>\n",
              "      <td>0.098136</td>\n",
              "      <td>0.797530</td>\n",
              "      <td>Yes</td>\n",
              "    </tr>\n",
              "    <tr>\n",
              "      <th>146474</th>\n",
              "      <td>1</td>\n",
              "      <td>0</td>\n",
              "      <td>luna santin is a <font color = green>fucking</font> <font color = green>troll</font> as is future impefect at sunrise the whole <font color = green>lot</font> o fyou now for <font color = green>fucks</font> <font color = green>sake</font> delete fred borsch .</td>\n",
              "      <td>luna santin is a <font color = red>jeez</font> <font color = red>buffoon</font> as is future impefect at sunrise the whole <font color = red>afar</font> o fyou now for <font color = red>bozos</font> <font color = red>interest</font> delete fred borsch .</td>\n",
              "      <td>0.967974</td>\n",
              "      <td>0.452238</td>\n",
              "      <td>0.526420</td>\n",
              "      <td>Yes</td>\n",
              "    </tr>\n",
              "    <tr>\n",
              "      <th>22195</th>\n",
              "      <td>1</td>\n",
              "      <td>0</td>\n",
              "      <td>people like you are <font color = green>enemy</font> of the peace , think wider <font color = green>be</font> an honest <font color = green>man</font> , not unhappy <font color = green>man</font> <font color = green>cheers</font></td>\n",
              "      <td>people like you are <font color = red>contender</font> of the peace , think wider <font color = red>remain</font> an honest <font color = red>fella</font> , not unhappy <font color = red>friend</font> <font color = red>hurrah</font></td>\n",
              "      <td>0.909814</td>\n",
              "      <td>0.468763</td>\n",
              "      <td>0.570969</td>\n",
              "      <td>Yes</td>\n",
              "    </tr>\n",
              "    <tr>\n",
              "      <th>101551</th>\n",
              "      <td>1</td>\n",
              "      <td>0</td>\n",
              "      <td>if u <font color = green>hate</font> cena again , you will be blocked from editing , your final chance ! user dark <font color = green>hooded</font> <font color = green>smoker</font></td>\n",
              "      <td>if u <font color = red>dislikes</font> cena again , you will be blocked from editing , your final chance ! user dark <font color = red>pullover</font> <font color = red>fume</font></td>\n",
              "      <td>0.922041</td>\n",
              "      <td>0.466265</td>\n",
              "      <td>0.674174</td>\n",
              "      <td>Yes</td>\n",
              "    </tr>\n",
              "    <tr>\n",
              "      <th>60894</th>\n",
              "      <td>1</td>\n",
              "      <td>0</td>\n",
              "      <td>you do n't know wait a minute , do you <font color = green>wanna</font> say that you know her better i do n't think so , so stop editing the page because you , , not me , you <font color = green>ruined</font> both pages ! ! ! ! so shut the <font color = green>fuck</font> up and let me editing the page like i know , because you're a <font color = green>liar</font> and that 's why i editing the tuna ( <font color = green>singer</font> ) page ! <font color = green>do</font> n't <font color = green>erase</font> that what i wrote you or you have a <font color = green>problem</font> . rondakalitus</td>\n",
              "      <td>you do n't know wait a minute , do you <font color = red>desired</font> say that you know her better i do n't think so , so stop editing the page because you , , not me , you <font color = red>defaced</font> both pages ! ! ! ! so shut the <font color = red>kiss</font> up and let me editing the page like i know , because you're a <font color = red>phoney</font> and that 's why i editing the tuna ( <font color = red>vocals</font> ) page ! <font color = red>accomplished</font> n't <font color = red>elimination</font> that what i wrote you or you have a <font color = red>themes</font> . rondakalitus</td>\n",
              "      <td>0.965714</td>\n",
              "      <td>0.361205</td>\n",
              "      <td>0.576608</td>\n",
              "      <td>Yes</td>\n",
              "    </tr>\n",
              "    <tr>\n",
              "      <th>26218</th>\n",
              "      <td>1</td>\n",
              "      <td>1</td>\n",
              "      <td>you're such a <font color = green>douche</font> fag</td>\n",
              "      <td>you're such a <font color = red>dunce</font> fag</td>\n",
              "      <td>0.966749</td>\n",
              "      <td>0.961026</td>\n",
              "      <td>0.526665</td>\n",
              "      <td>No</td>\n",
              "    </tr>\n",
              "    <tr>\n",
              "      <th>69439</th>\n",
              "      <td>1</td>\n",
              "      <td>1</td>\n",
              "      <td>from the <font color = green>rest</font> of the world <font color = green>go</font> fuck yourselfgo fuck yourselfgo <font color = green>fuck</font> yourselfgo fuck yourselfgo fuck yourselfgo fuck yourselfgo fuck yourselfgo fuck yourselfgo fuck yourselfgo fuck yourselfgo fuck yourselfgo fuck yourselfgo fuck yourselfgo <font color = green>fuck</font> yourselfgo fuck yourselfgo <font color = green>fuck</font> yourselfgo <font color = green>fuck</font> yourselfgo <font color = green>fuck</font> yourselfgo <font color = green>fuck</font> yourselfgo <font color = green>fuck</font> yourselfgo <font color = green>fuck</font> yourselfgo <font color = green>fuck</font> yourselfgo <font color = green>fuck</font> yourselfgo <font color = green>fuck</font> yourselfgo <font color = green>fuck</font> yourselfgo <font color = green>fuck</font> yourselfgo <font color = green>fuck</font> yourselfgo <font color = green>fuck</font> yourselfgo <font color = green>fuck</font> yourselfgo <font color = green>fuck</font> yourselfgo <font color = green>fuck</font> yourselfgo <font color = green>fuck</font> yourselfgo <font color = green>fuck</font> yourselfgo <font color = green>fuck</font> yourselfgo <font color = green>fuck</font> yourselfgo <font color = green>fuck</font> yourselfgo <font color = green>fuck</font> yourselfgo fuck yourselfgo fuck yourselfgo fuck yourselfgo fuck yourselfgo fuck yourselfgo fuck yourselfgo fuck yourselfgo fuck yourselfgo fuck yourselfgo fuck yourselfgo fuck yourselfgo fuck yourselfgo fuck yourselfgo fuck yourselfgo fuck yourselfgo fuck yourselfgo fuck yourselfgo fuck yourselfgo fuck yourselfgo fuck yourselfgo fuck yourselfgo fuck yourselfgo fuck yourselfgo fuck yourselfgo fuck yourselfgo fuck yourselfgo fuck yourselfgo fuck yourselfgo fuck yourselfgo fuck yourselfgo fuck yourselfgo fuck yourselfgo fuck yourselfgo fuck yourselfgo fuck yourselfgo fuck yourselfgo fuck yourselfgo fuck yourselfgo fuck yourselfgo fuck yourselfgo fuck yourselfgo fuck yourselfgo fuck yourselfgo fuck yourselfgo fuck yourselfgo fuck yourselfgo fuck yourselfgo fuck yourselfgo fuck yourselfgo fuck yourselfgo fuck yourselfgo fuck yourselfgo fuck yourselfgo fuck yourselfgo fuck yourselfgo fuck yourselfgo fuck yourselfgo fuck yourselfgo fuck yourselfgo fuck yourselfgo fuck yourselfgo fuck yourselfgo fuck yourselfgo fuck yourselfgo fuck yourselfgo fuck yourselfgo fuck yourselfgo fuck yourselfgo fuck yourselfgo fuck yourselfgo fuck yourselfgo fuck yourselfgo fuck yourselfgo fuck yourselfgo fuck yourselfgo fuck yourselfgo fuck yourselfgo fuck yourselfgo fuck yourselfgo fuck yourselfgo fuck yourselfgo fuck yourselfgo fuck yourselfgo fuck yourselfgo fuck yourselfgo fuck yourselfgo fuck yourselfgo fuck yourselfgo fuck yourselfgo fuck yourselfgo fuck yourselfgo fuck yourselfgo fuck yourselfgo fuck yourselfgo fuck yourselfgo fuck yourselfgo fuck yourselfgo fuck yourselfgo fuck yourselfgo fuck yourselfgo fuck yourselfgo fuck yourselfgo fuck yourselfgo fuck yourselfgo fuck yourselfgo fuck yourselfgo fuck yourselfgo fuck yourselfgo fuck yourselfgo fuck yourselfgo fuck yourselfgo fuck yourselfgo fuck yourselfgo fuck yourselfgo fuck yourselfgo fuck yourselfgo fuck yourselfgo fuck yourselfgo fuck yourselfgo fuck yourselfgo fuck yourselfgo fuck yourselfgo fuck yourselfgo fuck yourselfgo fuck yourselfgo fuck yourselfgo fuck yourselfgo fuck yourselfgo fuck yourselfgo fuck yourselfgo fuck yourselfgo fuck yourselfgo fuck yourselfgo fuck yourselfgo fuck yourselfgo fuck yourselfgo fuck yourselfgo fuck yourselfgo fuck yourselfgo fuck yourselfgo fuck yourselfgo fuck yourselfgo fuck yourselfgo fuck yourselfgo fuck yourselfgo fuck yourselfgo fuck yourselfgo fuck yourselfgo fuck yourselfgo fuck yourselfgo fuck yourselfgo fuck yourselfgo fuck yourselfgo fuck yourselfgo fuck yourselfgo fuck yourselfgo fuck yourselfgo fuck yourselfgo fuck yourselfgo fuck yourselfgo fuck yourselfgo fuck yourselfgo fuck yourselfgo fuck yourselfgo fuck yourselfgo fuck yourselfgo fuck yourselfgo fuck yourselfgo fuck yourselfgo fuck yourselfgo fuck yourselfgo fuck yourselfgo fuck yourselfgo fuck yourselfgo fuck yourselfgo fuck yourselfgo fuck yourselfgo fuck yourselfgo fuck yourselfgo fuck yourselfgo fuck yourselfgo fuck yourselfgo fuck yourselfgo fuck yourselfgo fuck yourselfgo fuck yourselfgo fuck yourselfgo fuck yourselfgo fuck yourselfgo fuck yourselfgo fuck yourselfgo fuck yourselfgo fuck yourselfgo fuck yourselfgo fuck yourselfgo fuck yourselfgo fuck yourselfgo fuck yourselfgo fuck yourselfgo fuck yourselfgo fuck yourselfgo fuck yourselfgo fuck yourselfgo fuck yourselfgo fuck yourselfgo fuck yourselfgo fuck yourselfgo fuck yourselfgo fuck yourselfgo fuck yourselfgo fuck yourselfgo fuck yourselfgo fuck yourselfgo fuck yourselfgo fuck yourselfgo fuck yourselfgo fuck yourselfgo fuck yourselfgo fuck yourselfgo fuck yourselfgo fuck yourselfgo fuck yourselfgo fuck yourselfgo fuck yourselfgo fuck yourselfgo fuck yourselfgo fuck yourselfgo fuck yourselfgo fuck yourselfgo fuck yourselfgo fuck yourselfgo fuck yourselfgo fuck yourselfgo fuck yourselfgo fuck yourselfgo fuck yourselfgo fuck yourselfgo fuck yourselfgo fuck yourselfgo fuck yourselfgo fuck yourselfgo fuck yourselfgo fuck yourselfgo fuck yourselfgo fuck yourselfgo fuck yourselfgo fuck yourselfgo fuck yourselfgo fuck yourselfgo fuck yourselfgo fuck yourselfgo fuck yourselfgo fuck yourselfgo fuck yourselfgo fuck yourselfgo fuck yourselfgo fuck yourselfgo fuck yourselfgo fuck yourselfgo fuck yourselfgo fuck yourselfgo fuck yourselfgo fuck yourselfgo fuck yourselfgo fuck yourselfgo fuck yourselfgo fuck yourselfgo fuck yourselfgo fuck yourselfgo fuck yourselfgo fuck yourselfgo fuck yourselfgo fuck</td>\n",
              "      <td>from the <font color = red>diner</font> of the world <font color = red>devote</font> fuck yourselfgo fuck yourselfgo <font color = red>merde</font> yourselfgo fuck yourselfgo fuck yourselfgo fuck yourselfgo fuck yourselfgo fuck yourselfgo fuck yourselfgo fuck yourselfgo fuck yourselfgo fuck yourselfgo fuck yourselfgo <font color = red>damned</font> yourselfgo fuck yourselfgo <font color = red>fucking</font> yourselfgo <font color = red>fucking</font> yourselfgo <font color = red>kissed</font> yourselfgo <font color = red>fucking</font> yourselfgo <font color = red>screwing</font> yourselfgo <font color = red>bitch</font> yourselfgo <font color = red>fucking</font> yourselfgo <font color = red>fucking</font> yourselfgo <font color = red>fucking</font> yourselfgo <font color = red>fucking</font> yourselfgo <font color = red>shagged</font> yourselfgo <font color = red>fucking</font> yourselfgo <font color = red>kissed</font> yourselfgo <font color = red>kissing</font> yourselfgo <font color = red>fucking</font> yourselfgo <font color = red>bitch</font> yourselfgo <font color = red>bitch</font> yourselfgo <font color = red>fucking</font> yourselfgo <font color = red>cursed</font> yourselfgo <font color = red>kissed</font> yourselfgo <font color = red>kissed</font> yourselfgo <font color = red>accursed</font> yourselfgo fuck yourselfgo fuck yourselfgo fuck yourselfgo fuck yourselfgo fuck yourselfgo fuck yourselfgo fuck yourselfgo fuck yourselfgo fuck yourselfgo fuck yourselfgo fuck yourselfgo fuck yourselfgo fuck yourselfgo fuck yourselfgo fuck yourselfgo fuck yourselfgo fuck yourselfgo fuck yourselfgo fuck yourselfgo fuck</td>\n",
              "      <td>0.952504</td>\n",
              "      <td>0.918546</td>\n",
              "      <td>0.500116</td>\n",
              "      <td>No</td>\n",
              "    </tr>\n",
              "    <tr>\n",
              "      <th>41284</th>\n",
              "      <td>1</td>\n",
              "      <td>1</td>\n",
              "      <td>fuck you <font color = green>dirty</font> <font color = green>fuckers</font></td>\n",
              "      <td>fuck you <font color = red>nasty</font> <font color = red>bastards</font></td>\n",
              "      <td>0.973362</td>\n",
              "      <td>0.964199</td>\n",
              "      <td>0.513577</td>\n",
              "      <td>No</td>\n",
              "    </tr>\n",
              "    <tr>\n",
              "      <th>77186</th>\n",
              "      <td>1</td>\n",
              "      <td>0</td>\n",
              "      <td>oh just <font color = green>fuck</font> you ! when i get unblocked your ganna see some shyt , <font color = green>cuz</font> i'm commin' <font color = green>foe</font> you , and do n't lye this is <font color = green>cuz</font> i'm black , i 'd <font color = green>get</font> the <font color = green>police</font> <font color = green>involved</font> if i was n't a <font color = green>nigger</font> , you better <font color = green>unblock</font> me now if you whant me ta <font color = green>stop</font> being so <font color = green>black</font> ,</td>\n",
              "      <td>oh just <font color = red>christ</font> you ! when i get unblocked your ganna see some shyt , <font color = red>homey</font> i'm commin' <font color = red>opposition</font> you , and do n't lye this is <font color = red>shouldnt</font> i'm black , i 'd <font color = red>arrived</font> the <font color = red>detective</font> <font color = red>involvements</font> if i was n't a <font color = red>darkened</font> , you better <font color = red>open</font> me now if you whant me ta <font color = red>interrupt</font> being so <font color = red>dark</font> ,</td>\n",
              "      <td>0.957757</td>\n",
              "      <td>0.469355</td>\n",
              "      <td>0.531663</td>\n",
              "      <td>Yes</td>\n",
              "    </tr>\n",
              "    <tr>\n",
              "      <th>103039</th>\n",
              "      <td>1</td>\n",
              "      <td>0</td>\n",
              "      <td>by the <font color = green>way</font> you and everyone else <font color = green>like</font> you are an <font color = green>absolute</font> <font color = green>disgrace</font> . you're hypocrits and are <font color = green>barriers</font> to <font color = green>freedom</font> of expression why does wikipedia <font color = green>bother</font> to <font color = green>blackout</font> in protest to pipa and sopa when it <font color = green>does</font> n't allow <font color = green>information</font> on its website anyway . as for you shimgray you're <font color = green>sad</font> , <font color = green>pathetic</font> and <font color = green>spineless</font> you take satisfaction from deleting other articles and generally feeling self <font color = green>important</font> , as a result . you will clearly never <font color = green>be</font> of any importance or notability thus you feel it is your right to try and be so via your menial control over an electronic encyclopedia . rot in hell . i wish you a slow , painful death , hopefully very soon .</td>\n",
              "      <td>by the <font color = red>distances</font> you and everyone else <font color = red>amateur</font> you are an <font color = red>full</font> <font color = red>misfortune</font> . you're hypocrits and are <font color = red>difficulties</font> to <font color = red>liberation</font> of expression why does wikipedia <font color = red>intervene</font> to <font color = red>interrupts</font> in protest to pipa and sopa when it <font color = red>did</font> n't allow <font color = red>informs</font> on its website anyway . as for you shimgray you're <font color = red>regret</font> , <font color = red>reprehensible</font> and <font color = red>toady</font> you take satisfaction from deleting other articles and generally feeling self <font color = red>pivotal</font> , as a result . you will clearly never <font color = red>happen</font> of any importance or notability thus you feel it is your right to try and be so via your menial control over an electronic encyclopedia . rot in hell . i wish you a slow , painful death , hopefully very soon</td>\n",
              "      <td>0.953651</td>\n",
              "      <td>0.488318</td>\n",
              "      <td>0.568455</td>\n",
              "      <td>Yes</td>\n",
              "    </tr>\n",
              "    <tr>\n",
              "      <th>134110</th>\n",
              "      <td>1</td>\n",
              "      <td>0</td>\n",
              "      <td>your intelligence , insight , and manners are quite poor . and you're the vandal , obviously . <font color = green>do</font> n't waste my time , <font color = green>loser</font> .</td>\n",
              "      <td>your intelligence , insight , and manners are quite poor . and you're the vandal , obviously . <font color = red>suis</font> n't waste my time , <font color = red>miss</font> .</td>\n",
              "      <td>0.959468</td>\n",
              "      <td>0.483197</td>\n",
              "      <td>0.738841</td>\n",
              "      <td>Yes</td>\n",
              "    </tr>\n",
              "    <tr>\n",
              "      <th>106938</th>\n",
              "      <td>1</td>\n",
              "      <td>0</td>\n",
              "      <td>stop ! i said <font color = green>stop</font> <font color = green>leaving</font> commentston my talk page ! <font color = green>leave</font> me alone ! i will do wahtever i want ! ! ! 173 . 51 . 203 . 228</td>\n",
              "      <td>stop ! i said <font color = red>interrupted</font> <font color = red>departs</font> commentston my talk page ! <font color = red>let</font> me alone ! i will do wahtever i want ! ! ! 173 . 51 . 203 . 228</td>\n",
              "      <td>0.822571</td>\n",
              "      <td>0.424609</td>\n",
              "      <td>0.535176</td>\n",
              "      <td>Yes</td>\n",
              "    </tr>\n",
              "    <tr>\n",
              "      <th>72095</th>\n",
              "      <td>1</td>\n",
              "      <td>0</td>\n",
              "      <td><font color = green>rationale</font> thankyou for notifying me about the fair use rationale but i dont <font color = green>give</font> a <font color = green>fuck</font> ! ! ! didnt you <font color = green>read</font> the message ! ! what a <font color = green>life</font> <font color = green>editing</font> a <font color = green>crappy</font> <font color = green>encyclopedia</font> ! 7</td>\n",
              "      <td><font color = red>reasoning</font> thankyou for notifying me about the fair use rationale but i dont <font color = red>furnished</font> a <font color = red>gorram</font> ! ! ! didnt you <font color = red>reading</font> the message ! ! what a <font color = red>vie</font> <font color = red>edits</font> a <font color = red>merde</font> <font color = red>encyclopaedia</font> ! 7</td>\n",
              "      <td>0.968836</td>\n",
              "      <td>0.472557</td>\n",
              "      <td>0.505962</td>\n",
              "      <td>Yes</td>\n",
              "    </tr>\n",
              "    <tr>\n",
              "      <th>84611</th>\n",
              "      <td>1</td>\n",
              "      <td>0</td>\n",
              "      <td>wetodid is obviously <font color = green>stupid</font> and <font color = green>knows</font> nothing about american history . <font color = green>white</font> people invented the one drop rule to acquire more black slaves . anybody with a brain and knowledge of <font color = green>u</font> . s . history knows that . what an <font color = green>idiot</font> .</td>\n",
              "      <td>wetodid is obviously <font color = red>asinine</font> and <font color = red>realises</font> nothing about american history . <font color = red>beli</font> people invented the one drop rule to acquire more black slaves . anybody with a brain and knowledge of <font color = red>umm</font> . s . history knows that . what an <font color = red>asinine</font> .</td>\n",
              "      <td>0.966580</td>\n",
              "      <td>0.488165</td>\n",
              "      <td>0.686408</td>\n",
              "      <td>Yes</td>\n",
              "    </tr>\n",
              "    <tr>\n",
              "      <th>56817</th>\n",
              "      <td>1</td>\n",
              "      <td>1</td>\n",
              "      <td>you both are little <font color = green>faggots</font> with no <font color = green>lives</font> <font color = green>so</font> <font color = green>maybe</font> you both <font color = green>should</font> meet up and <font color = green>suck</font> <font color = green>each</font> others cocks all <font color = green>night</font> <font color = green>long</font> and <font color = green>maybe</font> just <font color = green>maybe</font> you both will get married in massachutes .</td>\n",
              "      <td>you both are little <font color = red>fairies</font> with no <font color = red>residing</font> <font color = red>thereafter</font> <font color = red>perhaps</font> you both <font color = red>could</font> meet up and <font color = red>teat</font> <font color = red>both</font> others cocks all <font color = red>evenings</font> <font color = red>most</font> and <font color = red>perhaps</font> just <font color = red>perhaps</font> you both will get married in massachutes .</td>\n",
              "      <td>0.972558</td>\n",
              "      <td>0.553271</td>\n",
              "      <td>0.502222</td>\n",
              "      <td>No</td>\n",
              "    </tr>\n",
              "    <tr>\n",
              "      <th>146170</th>\n",
              "      <td>1</td>\n",
              "      <td>0</td>\n",
              "      <td><font color = green>cuando</font> <font color = green>quiero</font> llorar tv series you <font color = green>fucking</font> son of a <font color = green>bitch</font> , who <font color = green>hell</font> you <font color = green>think</font> you are ? . i'm trying to complete ten article and you proposing delete ? . you're <font color = green>mad</font> ? let me <font color = green>complete</font> the artcile and we after <font color = green>talk</font> . <font color = green>thanks</font> . 190 . 242 . 99 . 226</td>\n",
              "      <td><font color = red>fuera</font> <font color = red>ahora</font> llorar tv series you <font color = red>gorram</font> son of a <font color = red>puta</font> , who <font color = red>heil</font> you <font color = red>suppose</font> you are ? . i'm trying to complete ten article and you proposing delete ? . you're <font color = red>frantic</font> ? let me <font color = red>finished</font> the artcile and we after <font color = red>spoke</font> . <font color = red>recognizing</font> . 190 . 242 . 99 . 226</td>\n",
              "      <td>0.966587</td>\n",
              "      <td>0.270803</td>\n",
              "      <td>0.504362</td>\n",
              "      <td>Yes</td>\n",
              "    </tr>\n",
              "    <tr>\n",
              "      <th>83210</th>\n",
              "      <td>1</td>\n",
              "      <td>1</td>\n",
              "      <td>go fuck yourself you <font color = green>mother</font> <font color = green>fucking</font> <font color = green>cunt</font> .</td>\n",
              "      <td>go fuck yourself you <font color = red>momma</font> <font color = red>freaking</font> <font color = red>bastard</font> .</td>\n",
              "      <td>0.974441</td>\n",
              "      <td>0.969057</td>\n",
              "      <td>0.514222</td>\n",
              "      <td>No</td>\n",
              "    </tr>\n",
              "    <tr>\n",
              "      <th>3540</th>\n",
              "      <td>0</td>\n",
              "      <td>1</td>\n",
              "      <td>it is not disruptive , and <font color = green>does</font> not <font color = green>appear</font> to be attention seeking . these remarks are just argumentum ad hominem arguments , nothing more . you have zero <font color = green>evidence</font> of this supposed motive on my part , and are just attacking me because we disagree on the article , an unambiguous violation of wp agf . is there a particular article i'm working to improve ? there is n't ? ? ? how do you figure ? what is your basis for this accusation ? have you checked my edit history ? there 's lots of articles i'm constantly working to improve , as any look at my editing history shows , which flies in the face of this idiotic remark of yours . there are entire lists of articles i 've created and worked on seen on my user page , including three articles i single handedly brought to ga status . the arthur adams ( comics ) article for example , has been expanded and improved by me on an ongoing basis for the past three years , and is currently undergoing a ga examination process . these inane comments by you do nothing other than to reveal you to be an abject child and a pathological liar , one who brazenly attacks others who dares disagree with him .</td>\n",
              "      <td>it is not disruptive , and <font color = red>gonna</font> not <font color = red>spectacle</font> to be attention seeking . these remarks are just argumentum ad hominem arguments , nothing more . you have zero <font color = red>testimonials</font> of this supposed motive on my part , and are just attacking me because we disagree on the article , an unambiguous violation of wp agf . is there a particular article i'm working to improve ? there is n't ? ? ? how do you figure ? what is your basis for this accusation ? have you checked my edit history ? there 's lots of articles i'm constantly working to improve , as any look at my editing history shows , which flies in the face of this</td>\n",
              "      <td>0.887236</td>\n",
              "      <td>0.473570</td>\n",
              "      <td>0.800101</td>\n",
              "      <td>Yes</td>\n",
              "    </tr>\n",
              "    <tr>\n",
              "      <th>111932</th>\n",
              "      <td>1</td>\n",
              "      <td>0</td>\n",
              "      <td>the edits on game of war were not troll posts they are factual posts . if you have n't played the game you clearly do not know . that is informational for any future user . do n't be <font color = green>dumb</font> , do some research kid . 209 . 97 . 224 . 100</td>\n",
              "      <td>the edits on game of war were not troll posts they are factual posts . if you have n't played the game you clearly do not know . that is informational for any future user . do n't be <font color = red>asinine</font> , do some research kid . 209 . 97 . 224 . 100</td>\n",
              "      <td>0.862867</td>\n",
              "      <td>0.439526</td>\n",
              "      <td>0.925403</td>\n",
              "      <td>Yes</td>\n",
              "    </tr>\n",
              "    <tr>\n",
              "      <th>31578</th>\n",
              "      <td>1</td>\n",
              "      <td>0</td>\n",
              "      <td>martin conway the desperado you are a <font color = green>sad</font> <font color = green>little</font> <font color = green>man</font> martin conway . you do n't <font color = green>have</font> a <font color = green>penis</font> . desperado rsvp <font color = green>profile</font></td>\n",
              "      <td>martin conway the desperado you are a <font color = red>somber</font> <font color = red>few</font> <font color = red>mec</font> martin conway . you do n't <font color = red>obtains</font> a <font color = red>wiener</font> . desperado rsvp <font color = red>profiled</font></td>\n",
              "      <td>0.955302</td>\n",
              "      <td>0.469157</td>\n",
              "      <td>0.539601</td>\n",
              "      <td>Yes</td>\n",
              "    </tr>\n",
              "    <tr>\n",
              "      <th>102726</th>\n",
              "      <td>1</td>\n",
              "      <td>1</td>\n",
              "      <td>f <font color = green>uck</font> you f uck you suggestbot</td>\n",
              "      <td>f <font color = red>alk</font> you f uck you suggestbot</td>\n",
              "      <td>0.926371</td>\n",
              "      <td>0.884144</td>\n",
              "      <td>0.596241</td>\n",
              "      <td>No</td>\n",
              "    </tr>\n",
              "    <tr>\n",
              "      <th>16084</th>\n",
              "      <td>1</td>\n",
              "      <td>0</td>\n",
              "      <td>it seems that you are very busy in pushing your short one in the hole of ur mother son of a <font color = green>whore</font> 176 . 204 . 44 . 189</td>\n",
              "      <td>it seems that you are very busy in pushing your short one in the hole of ur mother son of a <font color = red>puta</font> 176 . 204 . 44 . 189</td>\n",
              "      <td>0.956963</td>\n",
              "      <td>0.497877</td>\n",
              "      <td>0.761135</td>\n",
              "      <td>Yes</td>\n",
              "    </tr>\n",
              "    <tr>\n",
              "      <th>149390</th>\n",
              "      <td>1</td>\n",
              "      <td>0</td>\n",
              "      <td>no , i <font color = green>fucking</font> rewrote the whole article already ( first as an anomymous user ) . it was a mess of the article , before i did , starting last year or early this year , i do n't remember . i provided most of reception , i rewrote most of everything else . hello ?</td>\n",
              "      <td>no , i <font color = red>shit</font> rewrote the whole article already ( first as an anomymous user ) . it was a mess of the article , before i did , starting last year or early this year , i do n't remember . i provided most of reception , i rewrote most of everything else . hello ?</td>\n",
              "      <td>0.839692</td>\n",
              "      <td>0.441162</td>\n",
              "      <td>0.921815</td>\n",
              "      <td>Yes</td>\n",
              "    </tr>\n",
              "    <tr>\n",
              "      <th>139561</th>\n",
              "      <td>1</td>\n",
              "      <td>1</td>\n",
              "      <td>fat <font color = green>mess</font> everyone dispises you .</td>\n",
              "      <td>fat <font color = red>disarray</font> everyone dispises you .</td>\n",
              "      <td>0.958745</td>\n",
              "      <td>0.784983</td>\n",
              "      <td>0.531643</td>\n",
              "      <td>No</td>\n",
              "    </tr>\n",
              "    <tr>\n",
              "      <th>155411</th>\n",
              "      <td>1</td>\n",
              "      <td>1</td>\n",
              "      <td>oi you <font color = green>fucking</font> dickhead are you listening to me or <font color = green>have</font> you <font color = green>lost</font> your balls . you fucking <font color = green>ass</font></td>\n",
              "      <td>oi you <font color = red>cursed</font> dickhead are you listening to me or <font color = red>am</font> you <font color = red>looses</font> your balls . you fucking <font color = red>backside</font></td>\n",
              "      <td>0.973386</td>\n",
              "      <td>0.966402</td>\n",
              "      <td>0.503565</td>\n",
              "      <td>No</td>\n",
              "    </tr>\n",
              "    <tr>\n",
              "      <th>33734</th>\n",
              "      <td>1</td>\n",
              "      <td>1</td>\n",
              "      <td>you just <font color = green>make</font> me <font color = green>laugh</font> hahahahahaha <font color = green>so</font> you are some <font color = green>aussie</font> <font color = green>bitch</font> <font color = green>hiding</font> behind a <font color = green>computer</font> and <font color = green>changing</font> what i <font color = green>write</font> , im half abo <font color = green>half</font> lebo <font color = green>so</font> i am the truth <font color = green>u</font> cannot face but your girlfriend faces <font color = green>every</font> <font color = green>night</font> )</td>\n",
              "      <td>you just <font color = red>introduces</font> me <font color = red>jest</font> hahahahahaha <font color = red>since</font> you are some <font color = red>australia</font> <font color = red>biatch</font> <font color = red>stakeout</font> behind a <font color = red>apparatus</font> and <font color = red>adjustments</font> what i <font color = red>proofread</font> , im half abo <font color = red>midpoint</font> lebo <font color = red>therefore</font> i am the truth <font color = red>umm</font> cannot face but your girlfriend faces <font color = red>each</font> <font color = red>evening</font> )</td>\n",
              "      <td>0.964873</td>\n",
              "      <td>0.506405</td>\n",
              "      <td>0.500991</td>\n",
              "      <td>No</td>\n",
              "    </tr>\n",
              "    <tr>\n",
              "      <th>36176</th>\n",
              "      <td>1</td>\n",
              "      <td>0</td>\n",
              "      <td>congratulations ! congratulations , jeraphine gryphon , you have won the <font color = green>asshole</font> of the year award ! you have won this award by saying mean things about and to other people ! in order to claim your award , you must call 1 800 <font color = green>asshole</font> ( 1 800 277 4653 ) ! once again , congratulations for your win ! 142 . 163 . 76 . 125</td>\n",
              "      <td>congratulations ! congratulations , jeraphine gryphon , you have won the <font color = red>dunce</font> of the year award ! you have won this award by saying mean things about and to other people ! in order to claim your award , you must call 1 800 <font color = red>asswipe</font> ( 1 800 277 4653 ) ! once again , congratulations for your win ! 142 . 163 . 76 . 125</td>\n",
              "      <td>0.952132</td>\n",
              "      <td>0.476648</td>\n",
              "      <td>0.688735</td>\n",
              "      <td>Yes</td>\n",
              "    </tr>\n",
              "    <tr>\n",
              "      <th>146848</th>\n",
              "      <td>1</td>\n",
              "      <td>0</td>\n",
              "      <td>wikibreak have a lot of exams to study for at the moment and very <font color = green>fucked</font> off with the bias on show in wikipedia , so might not reply straight away to any comments posted , bigdunc</td>\n",
              "      <td>wikibreak have a lot of exams to study for at the moment and very <font color = red>merde</font> off with the bias on show in wikipedia , so might not reply straight away to any comments posted , bigdunc</td>\n",
              "      <td>0.896989</td>\n",
              "      <td>0.241652</td>\n",
              "      <td>0.796945</td>\n",
              "      <td>Yes</td>\n",
              "    </tr>\n",
              "    <tr>\n",
              "      <th>136847</th>\n",
              "      <td>1</td>\n",
              "      <td>0</td>\n",
              "      <td>blhda i am the one that wrote the second article and i was not aware of darren creating the first article , the fact that you accused darren of writing it is somewhat <font color = green>stupid</font> as it clearly says that jimothytrotter wrote it , either your a complete <font color = green>idiot</font> or your just trying to annoy us , whatever your trying to do i will not tolerate it and any more vandalism from you , c os thats what it is vandalism will be highly critisized and removed . the article on blhda is perfectly ok and i am offended that you could see it as a nonsense article . i will recreate the article and will do whatever i can do to protect it from scum like you . your friend jimothytrotter</td>\n",
              "      <td>blhda i am the one that wrote the second article and i was not aware of darren creating the first article , the fact that you accused darren of writing it is somewhat <font color = red>dumb</font> as it clearly says that jimothytrotter wrote it , either your a complete <font color = red>asinine</font> or your just trying to annoy us , whatever your trying to do i will not tolerate it and any more vandalism from you , c os thats what it is vandalism will be highly critisized and removed . the article on blhda is perfectly ok and i am offended that you could see it as a nonsense article . i will recreate the article and will do whatever i can do</td>\n",
              "      <td>0.839132</td>\n",
              "      <td>0.354126</td>\n",
              "      <td>0.935938</td>\n",
              "      <td>Yes</td>\n",
              "    </tr>\n",
              "    <tr>\n",
              "      <th>146777</th>\n",
              "      <td>1</td>\n",
              "      <td>1</td>\n",
              "      <td><font color = green>racist</font> <font color = green>trying</font> to whitewash the terrorists , <font color = green>fine</font> , <font color = green>bring</font> it on , <font color = green>ass</font> <font color = green>bitch</font> .</td>\n",
              "      <td><font color = red>racism</font> <font color = red>attempting</font> to whitewash the terrorists , <font color = red>good</font> , <font color = red>bringing</font> it on , <font color = red>behinds</font> <font color = red>puta</font> .</td>\n",
              "      <td>0.972412</td>\n",
              "      <td>0.705378</td>\n",
              "      <td>0.515764</td>\n",
              "      <td>No</td>\n",
              "    </tr>\n",
              "    <tr>\n",
              "      <th>93067</th>\n",
              "      <td>1</td>\n",
              "      <td>0</td>\n",
              "      <td>re re hey malo i think the sarcasm that was intended by the term wikimartyr was pretty obvious , malo . you re right , no one is dying for the cause but some of us are dying of your wikibullshit and <font color = green>unfair</font> treatment of almost every new user . keep it up and i will see to it that you are permanently <font color = green>banned</font> .</td>\n",
              "      <td>re re hey malo i think the sarcasm that was intended by the term wikimartyr was pretty obvious , malo . you re right , no one is dying for the cause but some of us are dying of your wikibullshit and <font color = red>reprehensible</font> treatment of almost every new user . keep it up and i will see to it that you are permanently <font color = red>defended</font> .</td>\n",
              "      <td>0.779536</td>\n",
              "      <td>0.345592</td>\n",
              "      <td>0.677723</td>\n",
              "      <td>Yes</td>\n",
              "    </tr>\n",
              "    <tr>\n",
              "      <th>22018</th>\n",
              "      <td>1</td>\n",
              "      <td>0</td>\n",
              "      <td>terrorize i <font color = green>will</font> <font color = green>terrorise</font> you for as <font color = green>long</font> as you live you are an <font color = green>arrogant</font> , <font color = green>disgusting</font> and <font color = green>rude</font> <font color = green>excuse</font> for a human being you are <font color = green>going</font> to <font color = green>die</font> soon <font color = green>so</font> i <font color = green>suggest</font> you <font color = green>stop</font> <font color = green>threatening</font> <font color = green>people</font> you <font color = green>bastard</font> .</td>\n",
              "      <td>terrorize i <font color = red>hope</font> <font color = red>unsettle</font> you for as <font color = red>along</font> as you live you are an <font color = red>presumptuous</font> , <font color = red>shocking</font> and <font color = red>impertinent</font> <font color = red>apologizes</font> for a human being you are <font color = red>departing</font> to <font color = red>perished</font> soon <font color = red>furthermore</font> i <font color = red>recommend</font> you <font color = red>apprehend</font> <font color = red>dangers</font> <font color = red>persons</font> you <font color = red>louse</font> .</td>\n",
              "      <td>0.969796</td>\n",
              "      <td>0.473319</td>\n",
              "      <td>0.510707</td>\n",
              "      <td>Yes</td>\n",
              "    </tr>\n",
              "    <tr>\n",
              "      <th>125127</th>\n",
              "      <td>1</td>\n",
              "      <td>1</td>\n",
              "      <td><font color = green>penis</font> smacking willy <font color = green>wanking</font> willy wong</td>\n",
              "      <td><font color = red>wiener</font> smacking willy <font color = red>stroking</font> willy wong</td>\n",
              "      <td>0.970228</td>\n",
              "      <td>0.873951</td>\n",
              "      <td>0.515855</td>\n",
              "      <td>No</td>\n",
              "    </tr>\n",
              "    <tr>\n",
              "      <th>118549</th>\n",
              "      <td>1</td>\n",
              "      <td>0</td>\n",
              "      <td>threats i do n't respond well to threats , especially from half <font color = green>wits</font> . you want to block me , be my guest</td>\n",
              "      <td>threats i do n't respond well to threats , especially from half <font color = red>mind</font> . you want to block me , be my guest</td>\n",
              "      <td>0.579874</td>\n",
              "      <td>0.439765</td>\n",
              "      <td>0.791978</td>\n",
              "      <td>Yes</td>\n",
              "    </tr>\n",
              "    <tr>\n",
              "      <th>2916</th>\n",
              "      <td>1</td>\n",
              "      <td>1</td>\n",
              "      <td>you <font color = green>fing</font> <font color = green>rat</font> you ratted me out you <font color = green>little</font> prick</td>\n",
              "      <td>you <font color = red>supose</font> <font color = red>rats</font> you ratted me out you <font color = red>smaller</font> prick</td>\n",
              "      <td>0.965979</td>\n",
              "      <td>0.958825</td>\n",
              "      <td>0.579620</td>\n",
              "      <td>No</td>\n",
              "    </tr>\n",
              "    <tr>\n",
              "      <th>50252</th>\n",
              "      <td>1</td>\n",
              "      <td>1</td>\n",
              "      <td>fuck you fuck you retard <font color = green>son</font> of a <font color = green>bitch</font> your <font color = green>ass</font> is bigger that goatse , u suck 10 <font color = green>dicks</font> at the same <font color = green>time</font> and <font color = green>drink</font> all the cum , your <font color = green>mom</font> <font color = green>worked</font> as a <font color = green>prostitute</font> to <font color = green>buy</font> condoms for your dad , that fucking retard , you are a <font color = green>failure</font> at all you <font color = green>do</font> , you <font color = green>should</font> <font color = green>jump</font> from the <font color = green>top</font> of the empire <font color = green>state</font> <font color = green>so</font> the <font color = green>world</font> <font color = green>becomes</font> a <font color = green>better</font> <font color = green>place</font> , you are the <font color = green>reason</font> of the <font color = green>global</font> <font color = green>warming</font> , you <font color = green>fart</font> <font color = green>so</font> <font color = green>much</font> you <font color = green>drown</font> everyone is with in a <font color = green>room</font> , you <font color = green>waste</font> precious oxygen that <font color = green>should</font> <font color = green>be</font> used by <font color = green>better</font> <font color = green>people</font> , you <font color = green>suck</font> like all wikipedians fuck you ed</td>\n",
              "      <td>fuck you fuck you retard <font color = red>child</font> of a <font color = red>fuck</font> your <font color = red>behind</font> is bigger that goatse , u suck 10 <font color = red>chicks</font> at the same <font color = red>interval</font> and <font color = red>drinks</font> all the cum , your <font color = red>mother</font> <font color = red>work</font> as a <font color = red>fucking</font> to <font color = red>buys</font> condoms for your dad , that fucking retard , you are a <font color = red>shortage</font> at all you <font color = red>know</font> , you <font color = red>ought</font> <font color = red>bounce</font> from the <font color = red>maximum</font> of the empire <font color = red>states</font> <font color = red>afterwards</font> the <font color = red>worlds</font> <font color = red>was</font> a <font color = red>easier</font> <font color = red>putting</font> , you are the <font color = red>caused</font> of the <font color = red>whole</font> <font color = red>warmly</font> , you <font color = red>tep</font> <font color = red>well</font> <font color = red>considerable</font> you <font color = red>sunk</font> everyone is with in a <font color = red>theatres</font> , you <font color = red>loser</font> precious oxygen that <font color = red>prescribed</font> <font color = red>come</font> used by <font color = red>improve</font> <font color = red>folks</font> , you <font color = red>inhale</font> like all wikipedians fuck you ed</td>\n",
              "      <td>0.970397</td>\n",
              "      <td>0.865311</td>\n",
              "      <td>0.501661</td>\n",
              "      <td>No</td>\n",
              "    </tr>\n",
              "    <tr>\n",
              "      <th>82945</th>\n",
              "      <td>1</td>\n",
              "      <td>0</td>\n",
              "      <td>i see you have resorted to <font color = green>bullying</font> tactics very well . you shall become a long term <font color = green>target</font> for my squad of trolls . you're a <font color = green>fuckface</font> who no one likes , by the way )</td>\n",
              "      <td>i see you have resorted to <font color = red>intimidation</font> tactics very well . you shall become a long term <font color = red>oriented</font> for my squad of trolls . you're a <font color = red>dunce</font> who no one likes , by the way )</td>\n",
              "      <td>0.943343</td>\n",
              "      <td>0.433912</td>\n",
              "      <td>0.544658</td>\n",
              "      <td>Yes</td>\n",
              "    </tr>\n",
              "    <tr>\n",
              "      <th>74473</th>\n",
              "      <td>1</td>\n",
              "      <td>1</td>\n",
              "      <td>so , <font color = green>stating</font> an <font color = green>opinion</font> on wikipedia is <font color = green>vandalizing</font> ? ? ? ? ? ? ? ? ? you <font color = green>make</font> me laugh ! ! ! ! ! ! ! ! ! ! ! ! ! ! ! ! ! ! ! ! ! ! ! ! <font color = green>stating</font> encyclopedic <font color = green>items</font> are vandalising ? ? ? ? ? ? ? ? ? ? ? ? ? ? ? ? ? ? ? ? ? ? ? ? ? ? ? ? ? ? ? ? ? ? ? ? ? ? ? ? ? ? ? ? ? ? ? ? ? ? ? ? ? ? ? ? ? ? you make me laugh ! ! ! ! ! ! ! ! ! ! ! ! ! ! ! ! ! ! ! ! ! ! ! ! ! ! ! ! ! ! ! ! ! ! ! ! ! ! ! ! ! ! ! ! ! ! ! i state encyclopedic items and you state vandalizing ! ! ! ! ! ! ! ! are you mental ? ? ? ? ? ? ? ? ? ? ? ? ? ? ? ? ? ? ? ? ? ? ? ? ? ? ? ? ? ? ? ? ? ? ? ? ? ? ? ? ? ? ? ? ? ? ? ? ? ? ? ? ? ? ? ? ? ? ? ? ? ? ? ? ? ? ? ? ? ? ? ? ? ? ? ? ? ? ? ? ? ? ? ? ? ? ? ? ? ? ? ? ? ? ? ? ? ? ? ? ? ? ? ? ? ? ? ? ? ? ? ? ? ? ? ? ? ? ? ? ? ? ? ? ? ? ? ? ? ? ? ? ? ? ? ? ? ? ? ? ? ?</td>\n",
              "      <td>so , <font color = red>indicating</font> an <font color = red>thoughts</font> on wikipedia is <font color = red>joyriding</font> ? ? ? ? ? ? ? ? ? you <font color = red>obtain</font> me laugh ! ! ! ! ! ! ! ! ! ! ! ! ! ! ! ! ! ! ! ! ! ! ! ! <font color = red>claiming</font> encyclopedic <font color = red>item</font> are vandalising ? ? ? ? ? ? ? ? ? ? ? ? ? ? ? ? ? ? ? ? ? ? ? ? ? ? ? ? ? ? ? ? ? ? ? ? ? ? ? ? ? ? ? ? ? ? ? ? ? ? ? ? ? ? ? ? ? ? you make me laugh ! ! ! ! ! ! !</td>\n",
              "      <td>0.869185</td>\n",
              "      <td>0.531423</td>\n",
              "      <td>0.502745</td>\n",
              "      <td>No</td>\n",
              "    </tr>\n",
              "    <tr>\n",
              "      <th>143050</th>\n",
              "      <td>1</td>\n",
              "      <td>0</td>\n",
              "      <td>also . . . good use of <font color = green>fuck</font> . as you noted , it 's well tolerated on this page . talk contributions</td>\n",
              "      <td>also . . . good use of <font color = red>fucking</font> . as you noted , it 's well tolerated on this page . talk contributions</td>\n",
              "      <td>0.736940</td>\n",
              "      <td>0.382656</td>\n",
              "      <td>0.753979</td>\n",
              "      <td>Yes</td>\n",
              "    </tr>\n",
              "    <tr>\n",
              "      <th>26826</th>\n",
              "      <td>1</td>\n",
              "      <td>0</td>\n",
              "      <td><font color = green>god</font> , you have been of no help . you gave me a warning for accusing a clique of users of sockpuppetry yet when they made the same accusations towards me you were a mute ! i am very annoyed that this clique can go page to page changing anything they wish , make accusations of sockpuppetry , edit warring and vandalism while you stand back and watch .</td>\n",
              "      <td><font color = red>seigneur</font> , you have been of no help . you gave me a warning for accusing a clique of users of sockpuppetry yet when they made the same accusations towards me you were a mute ! i am very annoyed that this clique can go page to page changing anything they wish , make accusations of sockpuppetry , edit warring and vandalism while you stand back and watch .</td>\n",
              "      <td>0.761987</td>\n",
              "      <td>0.495900</td>\n",
              "      <td>0.889228</td>\n",
              "      <td>Yes</td>\n",
              "    </tr>\n",
              "    <tr>\n",
              "      <th>52777</th>\n",
              "      <td>1</td>\n",
              "      <td>1</td>\n",
              "      <td><font color = green>do</font> so sexually with me</td>\n",
              "      <td><font color = red>make</font> so sexually with me</td>\n",
              "      <td>0.829942</td>\n",
              "      <td>0.800104</td>\n",
              "      <td>0.582545</td>\n",
              "      <td>No</td>\n",
              "    </tr>\n",
              "    <tr>\n",
              "      <th>102748</th>\n",
              "      <td>1</td>\n",
              "      <td>1</td>\n",
              "      <td>and you are vandalizing <font color = green>mah</font> page</td>\n",
              "      <td>and you are vandalizing <font color = red>brick</font> page</td>\n",
              "      <td>0.928314</td>\n",
              "      <td>0.914271</td>\n",
              "      <td>0.507878</td>\n",
              "      <td>No</td>\n",
              "    </tr>\n",
              "    <tr>\n",
              "      <th>17178</th>\n",
              "      <td>1</td>\n",
              "      <td>0</td>\n",
              "      <td>why the <font color = green>heck</font> are you putting pink floyd in the 250 million bracket when the citation you're using claims 200 million ? stop reverting .</td>\n",
              "      <td>why the <font color = red>scrawl</font> are you putting pink floyd in the 250 million bracket when the citation you're using claims 200 million ? stop reverting .</td>\n",
              "      <td>0.874955</td>\n",
              "      <td>0.272899</td>\n",
              "      <td>0.779049</td>\n",
              "      <td>Yes</td>\n",
              "    </tr>\n",
              "    <tr>\n",
              "      <th>155323</th>\n",
              "      <td>1</td>\n",
              "      <td>0</td>\n",
              "      <td>so that 's how you <font color = green>block</font> me i <font color = green>ca</font> n't believe you blocked me for something i did on my talk <font color = green>page</font> . this is a <font color = green>disgrace</font> ! unban me at once !</td>\n",
              "      <td>so that 's how you <font color = red>inhibitor</font> me i <font color = red>can</font> n't believe you blocked me for something i did on my talk <font color = red>homepage</font> . this is a <font color = red>awkwardness</font> ! unban me at once !</td>\n",
              "      <td>0.928567</td>\n",
              "      <td>0.481918</td>\n",
              "      <td>0.560396</td>\n",
              "      <td>Yes</td>\n",
              "    </tr>\n",
              "    <tr>\n",
              "      <th>6773</th>\n",
              "      <td>1</td>\n",
              "      <td>0</td>\n",
              "      <td>what i was saying ? you really think that my comment was more <font color = green>rude</font> or an attack than i do n't give a <font color = green>damn</font> about egyptians ? ? ? ?</td>\n",
              "      <td>what i was saying ? you really think that my comment was more <font color = red>unkind</font> or an attack than i do n't give a <font color = red>gorram</font> about egyptians ? ? ? ?</td>\n",
              "      <td>0.833383</td>\n",
              "      <td>0.484055</td>\n",
              "      <td>0.631541</td>\n",
              "      <td>Yes</td>\n",
              "    </tr>\n",
              "    <tr>\n",
              "      <th>127904</th>\n",
              "      <td>1</td>\n",
              "      <td>0</td>\n",
              "      <td>why to go <font color = green>buddy</font> ! so how is nancy holding up ? she <font color = green>really</font> is a <font color = green>bad</font> <font color = green>admin</font> and everyone knoes it .</td>\n",
              "      <td>why to go <font color = red>lad</font> ! so how is nancy holding up ? she <font color = red>wholeheartedly</font> is a <font color = red>amiss</font> <font color = red>governing</font> and everyone knoes it .</td>\n",
              "      <td>0.887661</td>\n",
              "      <td>0.496783</td>\n",
              "      <td>0.525814</td>\n",
              "      <td>Yes</td>\n",
              "    </tr>\n",
              "    <tr>\n",
              "      <th>70883</th>\n",
              "      <td>1</td>\n",
              "      <td>0</td>\n",
              "      <td>hey , you didnt tell me how <font color = green>fucking</font> long this block is for . wtf ? how long do i have to wait .</td>\n",
              "      <td>hey , you didnt tell me how <font color = red>jeez</font> long this block is for . wtf ? how long do i have to wait .</td>\n",
              "      <td>0.777334</td>\n",
              "      <td>0.309533</td>\n",
              "      <td>0.811074</td>\n",
              "      <td>Yes</td>\n",
              "    </tr>\n",
              "    <tr>\n",
              "      <th>111943</th>\n",
              "      <td>1</td>\n",
              "      <td>1</td>\n",
              "      <td>i love hot delicious <font color = green>men</font> they <font color = green>truly</font> <font color = green>make</font> my skin <font color = green>crawl</font> . i just <font color = green>wanta</font> <font color = green>squeeze</font> 'em and <font color = green>sex</font> 'em ! ! ! ! <font color = green>woooo</font> <font color = green>men</font> ! ! !</td>\n",
              "      <td>i love hot delicious <font color = red>guys</font> they <font color = red>really</font> <font color = red>brings</font> my skin <font color = red>locating</font> . i just <font color = red>knowwhat</font> <font color = red>constricted</font> 'em and <font color = red>sexes</font> 'em ! ! ! ! <font color = red>uhhh</font> <font color = red>folks</font> ! ! !</td>\n",
              "      <td>0.933838</td>\n",
              "      <td>0.795525</td>\n",
              "      <td>0.510219</td>\n",
              "      <td>No</td>\n",
              "    </tr>\n",
              "    <tr>\n",
              "      <th>150297</th>\n",
              "      <td>1</td>\n",
              "      <td>1</td>\n",
              "      <td>this <font color = green>guys</font> sooooo gay</td>\n",
              "      <td>this <font color = red>man</font> sooooo gay</td>\n",
              "      <td>0.964032</td>\n",
              "      <td>0.938835</td>\n",
              "      <td>0.717189</td>\n",
              "      <td>No</td>\n",
              "    </tr>\n",
              "    <tr>\n",
              "      <th>12578</th>\n",
              "      <td>1</td>\n",
              "      <td>1</td>\n",
              "      <td>unblock me now you piece of <font color = green>shit</font> ! or i <font color = green>will</font> <font color = green>find</font> you and kill you , slowly and <font color = green>painfully</font> !</td>\n",
              "      <td>unblock me now you piece of <font color = red>christ</font> ! or i <font color = red>hope</font> <font color = red>detecting</font> you and kill you , slowly and <font color = red>painstakingly</font> !</td>\n",
              "      <td>0.964980</td>\n",
              "      <td>0.889880</td>\n",
              "      <td>0.500670</td>\n",
              "      <td>No</td>\n",
              "    </tr>\n",
              "    <tr>\n",
              "      <th>120772</th>\n",
              "      <td>1</td>\n",
              "      <td>1</td>\n",
              "      <td><font color = green>little</font> boys <font color = green>turn</font> me on</td>\n",
              "      <td><font color = red>small</font> boys <font color = red>turning</font> me on</td>\n",
              "      <td>0.848993</td>\n",
              "      <td>0.605913</td>\n",
              "      <td>0.570620</td>\n",
              "      <td>No</td>\n",
              "    </tr>\n",
              "    <tr>\n",
              "      <th>50915</th>\n",
              "      <td>0</td>\n",
              "      <td>1</td>\n",
              "      <td>picture that photo of him makes him look extremely gay . i <font color = green>advise</font> we change it</td>\n",
              "      <td>picture that photo of him makes him look extremely gay . i <font color = red>advice</font> we change it</td>\n",
              "      <td>0.722989</td>\n",
              "      <td>0.385772</td>\n",
              "      <td>0.825239</td>\n",
              "      <td>Yes</td>\n",
              "    </tr>\n",
              "    <tr>\n",
              "      <th>9393</th>\n",
              "      <td>1</td>\n",
              "      <td>0</td>\n",
              "      <td>however , i can be blocked too because i vandelize pages as well , because i'm a <font color = green>dumb</font> <font color = green>faggot</font> .</td>\n",
              "      <td>however , i can be blocked too because i vandelize pages as well , because i'm a <font color = red>nonsensical</font> <font color = red>fag</font> .</td>\n",
              "      <td>0.930644</td>\n",
              "      <td>0.070502</td>\n",
              "      <td>0.767995</td>\n",
              "      <td>Yes</td>\n",
              "    </tr>\n",
              "    <tr>\n",
              "      <th>48319</th>\n",
              "      <td>1</td>\n",
              "      <td>0</td>\n",
              "      <td><font color = green>dunno</font> who the <font color = green>fuck</font> you are , but evidently you completely <font color = green>misunderstood</font> the situation . do n't post messages if you have n't got a <font color = green>fucking</font> clue what 's going on . 200 . 120 . 210 . 115</td>\n",
              "      <td><font color = red>reckon</font> who the <font color = red>goddam</font> you are , but evidently you completely <font color = red>interpreting</font> the situation . do n't post messages if you have n't got a <font color = red>gorram</font> clue what 's going on . 200 . 120 . 210 . 115</td>\n",
              "      <td>0.968979</td>\n",
              "      <td>0.484416</td>\n",
              "      <td>0.530168</td>\n",
              "      <td>Yes</td>\n",
              "    </tr>\n",
              "    <tr>\n",
              "      <th>26908</th>\n",
              "      <td>1</td>\n",
              "      <td>0</td>\n",
              "      <td>you are again ignoring the fact that the person who wrote the daily mail piece is amanda platell . i'm still waiting for you to explain how her own <font color = green>fucking</font> words are not a reliable source .</td>\n",
              "      <td>you are again ignoring the fact that the person who wrote the daily mail piece is amanda platell . i'm still waiting for you to explain how her own <font color = red>jeez</font> words are not a reliable source .</td>\n",
              "      <td>0.877584</td>\n",
              "      <td>0.229140</td>\n",
              "      <td>0.825100</td>\n",
              "      <td>Yes</td>\n",
              "    </tr>\n",
              "    <tr>\n",
              "      <th>153141</th>\n",
              "      <td>1</td>\n",
              "      <td>0</td>\n",
              "      <td>wow ! lol ! you even restore the question sign ( 111 ? ) . and you say you know about the cars ? ! ! ! for whole my life i never seen more <font color = green>stupid</font> <font color = green>motherfucker</font> than you . so kiss american soil and say goodbye commie !</td>\n",
              "      <td>wow ! lol ! you even restore the question sign ( 111 ? ) . and you say you know about the cars ? ! ! ! for whole my life i never seen more <font color = red>cretin</font> <font color = red>gomer</font> than you . so kiss american soil and say goodbye commie !</td>\n",
              "      <td>0.951342</td>\n",
              "      <td>0.451779</td>\n",
              "      <td>0.798902</td>\n",
              "      <td>Yes</td>\n",
              "    </tr>\n",
              "    <tr>\n",
              "      <th>151532</th>\n",
              "      <td>1</td>\n",
              "      <td>0</td>\n",
              "      <td>unneccisary <font color = green>crap</font> saying that thing about naruto is completely not needed , as well as the fact that the terms itself is fan made naming an action that happens in anime . i seriously doubt that acne faced wapanese made up hammerspace after the act started some 70 years before in american cartoons you also have no proof that the term is accosiated with anime all the time either , and the fact that many more people know about mickey mouse and bugs bunny than ranmafag or whatever completely proves that wrong there .</td>\n",
              "      <td>unneccisary <font color = red>hogwash</font> saying that thing about naruto is completely not needed , as well as the fact that the terms itself is fan made naming an action that happens in anime . i seriously doubt that acne faced wapanese made up hammerspace after the act started some 70 years before in american cartoons you also have no proof that the term is accosiated with anime all the time either , and the fact that many more people know about mickey mouse and bugs bunny than ranmafag or whatever completely proves that wrong there .</td>\n",
              "      <td>0.705195</td>\n",
              "      <td>0.450600</td>\n",
              "      <td>0.907211</td>\n",
              "      <td>Yes</td>\n",
              "    </tr>\n",
              "    <tr>\n",
              "      <th>38156</th>\n",
              "      <td>1</td>\n",
              "      <td>1</td>\n",
              "      <td>a kitten for you ! go <font color = green>fuck</font> yourself , again .</td>\n",
              "      <td>a kitten for you ! go <font color = red>bordello</font> yourself , again .</td>\n",
              "      <td>0.968901</td>\n",
              "      <td>0.797404</td>\n",
              "      <td>0.518867</td>\n",
              "      <td>No</td>\n",
              "    </tr>\n",
              "    <tr>\n",
              "      <th>60975</th>\n",
              "      <td>0</td>\n",
              "      <td>1</td>\n",
              "      <td>killer , i'm sorry that you <font color = green>have</font> misread my unblock request . if you re <font color = green>read</font> it you will <font color = green>see</font> that my <font color = green>use</font> of pop eyed chihuahua there refers specifically , accurately and unequivocally to the dog <font color = green>displayed</font> on your <font color = green>user</font> page and not to you . i <font color = green>cited</font> it to <font color = green>explain</font> to why i used that imagery in the wp pa , as otherwise it would <font color = green>appear</font> inexplicably random . the <font color = green>explanation</font> was not , as you seem to think , offered in mitigation . indeed my original unblock request , which i condensed at the request of admin hersfold , stated the following will help the reviewing admin ( s ) to understand what otherwise would appear to be a random choice of metaphors . . . . killer has a picture of a pop eyed chihuahua dog on her user page , captioned i look like this and she is in the habit of referring to herself , in her sysopping summaries , as a dog e . g . puppy has spoken . stupidly i exploited this canine imagery at killer s expense . '' i edited out that section along with others in an effort to comply with hersfold 's request . my unblock request in no way implies that it is 'somehow ok to insult' you because you refer to yourself as 'puppy' . it simply explains where the idea for the canine imagery came from . it does not attempt to excuse my using it to insult you . i have apologised , and still do , for my rude and offensive references to you personally in the wp pa and ask that you graciously accept my apology as sincere , which it is .</td>\n",
              "      <td>killer , i'm sorry that you <font color = red>owns</font> misread my unblock request . if you re <font color = red>leah</font> it you will <font color = red>staring</font> that my <font color = red>exploitation</font> of pop eyed chihuahua there refers specifically , accurately and unequivocally to the dog <font color = red>spectacle</font> on your <font color = red>tenant</font> page and not to you . i <font color = red>subpoenaed</font> it to <font color = red>say</font> to why i used that imagery in the wp pa , as otherwise it would <font color = red>spectacle</font> inexplicably random . the <font color = red>justification</font> was not , as you seem to think , offered in mitigation . indeed my original unblock request , which i condensed at the request of admin hersfold , stated the following will help the reviewing admin ( s ) to understand what otherwise would appear to</td>\n",
              "      <td>0.975936</td>\n",
              "      <td>0.492491</td>\n",
              "      <td>0.594051</td>\n",
              "      <td>Yes</td>\n",
              "    </tr>\n",
              "  </tbody>\n",
              "</table>"
            ]
          },
          "metadata": {}
        }
      ]
    },
    {
      "cell_type": "markdown",
      "source": [
        "Here you can see how many success attack I made "
      ],
      "metadata": {
        "id": "Y9FhoOGHvo1G"
      }
    },
    {
      "cell_type": "code",
      "source": [
        "result[\"Is Attack succeed?\"].value_counts()"
      ],
      "metadata": {
        "id": "zwfF7gpHsChc",
        "colab": {
          "base_uri": "https://localhost:8080/"
        },
        "outputId": "cafc5d5e-552d-438e-d253-057e9dc109b5"
      },
      "execution_count": null,
      "outputs": [
        {
          "output_type": "execute_result",
          "data": {
            "text/plain": [
              "Yes    123\n",
              "No      77\n",
              "Name: Is Attack succeed?, dtype: int64"
            ]
          },
          "metadata": {},
          "execution_count": 115
        }
      ]
    },
    {
      "cell_type": "code",
      "source": [],
      "metadata": {
        "id": "Iorf-VRxsCsd"
      },
      "execution_count": null,
      "outputs": []
    }
  ]
}